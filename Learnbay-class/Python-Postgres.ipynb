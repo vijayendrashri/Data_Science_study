{
 "cells": [
  {
   "cell_type": "code",
   "execution_count": 7,
   "id": "b890b177",
   "metadata": {
    "ExecuteTime": {
     "end_time": "2021-07-30T17:50:12.181879Z",
     "start_time": "2021-07-30T17:50:12.169127Z"
    }
   },
   "outputs": [
    {
     "name": "stdout",
     "output_type": "stream",
     "text": [
      "Opened database successfully\n"
     ]
    }
   ],
   "source": [
    "import psycopg2\n",
    "\n",
    "conn = psycopg2.connect(database=\"postgres\", user=\"postgres\",\n",
    "                        password=\"postgres\", host=\"127.0.0.1\", port=\"5432\")\n",
    "\n",
    "print (\"Opened database successfully\")"
   ]
  },
  {
   "cell_type": "code",
   "execution_count": 3,
   "id": "0e438859",
   "metadata": {
    "ExecuteTime": {
     "end_time": "2021-07-30T17:48:48.734491Z",
     "start_time": "2021-07-30T17:48:48.463201Z"
    }
   },
   "outputs": [
    {
     "name": "stdout",
     "output_type": "stream",
     "text": [
      "Table created successfully\n"
     ]
    }
   ],
   "source": [
    "cur = conn.cursor()\n",
    "cur.execute('''CREATE TABLE COMPANY\n",
    "      (ID INT PRIMARY KEY     NOT NULL,\n",
    "      NAME           TEXT    NOT NULL,\n",
    "      AGE            INT     NOT NULL,\n",
    "      ADDRESS        CHAR(50),\n",
    "      SALARY         REAL);''')\n",
    "print(\"Table created successfully\")\n",
    "\n",
    "conn.commit()\n",
    "# conn.close()"
   ]
  },
  {
   "cell_type": "code",
   "execution_count": 8,
   "id": "c272e51e",
   "metadata": {
    "ExecuteTime": {
     "end_time": "2021-07-30T17:50:23.947634Z",
     "start_time": "2021-07-30T17:50:23.880589Z"
    }
   },
   "outputs": [
    {
     "name": "stdout",
     "output_type": "stream",
     "text": [
      "Records created successfully\n"
     ]
    }
   ],
   "source": [
    "cur = conn.cursor()\n",
    "cur.execute(\"INSERT INTO COMPANY (ID,NAME,AGE,ADDRESS,SALARY) \\\n",
    "      VALUES (1, 'Paul', 32, 'California', 20000.00 )\");\n",
    "\n",
    "cur.execute(\"INSERT INTO COMPANY (ID,NAME,AGE,ADDRESS,SALARY) \\\n",
    "      VALUES (2, 'Allen', 25, 'Texas', 15000.00 )\");\n",
    "\n",
    "cur.execute(\"INSERT INTO COMPANY (ID,NAME,AGE,ADDRESS,SALARY) \\\n",
    "      VALUES (3, 'Teddy', 23, 'Norway', 20000.00 )\");\n",
    "\n",
    "cur.execute(\"INSERT INTO COMPANY (ID,NAME,AGE,ADDRESS,SALARY) \\\n",
    "      VALUES (4, 'Mark', 25, 'Rich-Mond ', 65000.00 )\");\n",
    "\n",
    "conn.commit()\n",
    "print (\"Records created successfully\")\n",
    "# conn.close()"
   ]
  },
  {
   "cell_type": "code",
   "execution_count": 10,
   "id": "32d05e74",
   "metadata": {
    "ExecuteTime": {
     "end_time": "2021-07-30T17:51:54.885305Z",
     "start_time": "2021-07-30T17:51:54.864337Z"
    }
   },
   "outputs": [
    {
     "name": "stdout",
     "output_type": "stream",
     "text": [
      "ID =  1\n",
      "NAME =  Paul\n",
      "ADDRESS =  California                                        \n",
      "SALARY =  20000.0\n",
      "ID =  2\n",
      "NAME =  Allen\n",
      "ADDRESS =  Texas                                             \n",
      "SALARY =  15000.0\n",
      "ID =  3\n",
      "NAME =  Teddy\n",
      "ADDRESS =  Norway                                            \n",
      "SALARY =  20000.0\n",
      "ID =  4\n",
      "NAME =  Mark\n",
      "ADDRESS =  Rich-Mond                                         \n",
      "SALARY =  65000.0\n",
      "Operation done successfully\n"
     ]
    }
   ],
   "source": [
    "\n",
    "cur.execute(\"SELECT id, name, address, salary  from COMPANY\")\n",
    "rows = cur.fetchall()\n",
    "for row in rows:\n",
    "    print(\"ID = \", row[0])\n",
    "    print(\"NAME = \", row[1])\n",
    "    print(\"ADDRESS = \", row[2])\n",
    "    print(\"SALARY = \", row[3])\n",
    "\n",
    "print(\"Operation done successfully\")"
   ]
  },
  {
   "cell_type": "code",
   "execution_count": 11,
   "id": "21faef2d",
   "metadata": {
    "ExecuteTime": {
     "end_time": "2021-07-30T17:53:07.227163Z",
     "start_time": "2021-07-30T17:53:07.190496Z"
    }
   },
   "outputs": [
    {
     "name": "stdout",
     "output_type": "stream",
     "text": [
      "Total number of rows updated : 1\n",
      "ID =  2\n",
      "NAME =  Allen\n",
      "ADDRESS =  Texas                                             \n",
      "SALARY =  15000.0\n",
      "ID =  3\n",
      "NAME =  Teddy\n",
      "ADDRESS =  Norway                                            \n",
      "SALARY =  20000.0\n",
      "ID =  4\n",
      "NAME =  Mark\n",
      "ADDRESS =  Rich-Mond                                         \n",
      "SALARY =  65000.0\n",
      "ID =  1\n",
      "NAME =  Paul\n",
      "ADDRESS =  California                                        \n",
      "SALARY =  25000.0\n",
      "Operation done successfully\n"
     ]
    }
   ],
   "source": [
    "cur.execute(\"UPDATE COMPANY set SALARY = 25000.00 where ID = 1\")\n",
    "conn.commit()\n",
    "print(\"Total number of rows updated :\", cur.rowcount)\n",
    "\n",
    "cur.execute(\"SELECT id, name, address, salary  from COMPANY\")\n",
    "rows = cur.fetchall()\n",
    "for row in rows:\n",
    "    print(\"ID = \", row[0])\n",
    "    print(\"NAME = \", row[1])\n",
    "    print(\"ADDRESS = \", row[2])\n",
    "    print(\"SALARY = \", row[3])\n",
    "\n",
    "print(\"Operation done successfully\")\n",
    "# conn.close()"
   ]
  },
  {
   "cell_type": "code",
   "execution_count": 12,
   "id": "7cb5120b",
   "metadata": {
    "ExecuteTime": {
     "end_time": "2021-07-30T17:54:33.993640Z",
     "start_time": "2021-07-30T17:54:33.953261Z"
    }
   },
   "outputs": [
    {
     "name": "stdout",
     "output_type": "stream",
     "text": [
      "Total number of rows deleted : 1\n",
      "ID =  3\n",
      "NAME =  Teddy\n",
      "ADDRESS =  Norway                                            \n",
      "SALARY =  20000.0\n",
      "ID =  4\n",
      "NAME =  Mark\n",
      "ADDRESS =  Rich-Mond                                         \n",
      "SALARY =  65000.0\n",
      "ID =  1\n",
      "NAME =  Paul\n",
      "ADDRESS =  California                                        \n",
      "SALARY =  25000.0\n",
      "Operation done successfully\n"
     ]
    }
   ],
   "source": [
    "cur.execute(\"DELETE from COMPANY where ID=2;\")\n",
    "conn.commit()\n",
    "print(\"Total number of rows deleted :\", cur.rowcount)\n",
    "\n",
    "cur.execute(\"SELECT id, name, address, salary  from COMPANY\")\n",
    "rows = cur.fetchall()\n",
    "for row in rows:\n",
    "    print(\"ID = \", row[0])\n",
    "    print(\"NAME = \", row[1])\n",
    "    print(\"ADDRESS = \", row[2])\n",
    "    print(\"SALARY = \", row[3])\n",
    "\n",
    "print(\"Operation done successfully\")\n",
    "# conn.close()"
   ]
  },
  {
   "cell_type": "code",
   "execution_count": null,
   "id": "8072f940",
   "metadata": {},
   "outputs": [],
   "source": []
  },
  {
   "cell_type": "code",
   "execution_count": null,
   "id": "75f559c8",
   "metadata": {},
   "outputs": [],
   "source": []
  }
 ],
 "metadata": {
  "kernelspec": {
   "display_name": "Python 3",
   "language": "python",
   "name": "python3"
  },
  "language_info": {
   "codemirror_mode": {
    "name": "ipython",
    "version": 3
   },
   "file_extension": ".py",
   "mimetype": "text/x-python",
   "name": "python",
   "nbconvert_exporter": "python",
   "pygments_lexer": "ipython3",
   "version": "3.8.10"
  },
  "latex_envs": {
   "LaTeX_envs_menu_present": true,
   "autoclose": false,
   "autocomplete": true,
   "bibliofile": "biblio.bib",
   "cite_by": "apalike",
   "current_citInitial": 1,
   "eqLabelWithNumbers": true,
   "eqNumInitial": 1,
   "hotkeys": {
    "equation": "Ctrl-E",
    "itemize": "Ctrl-I"
   },
   "labels_anchors": false,
   "latex_user_defs": false,
   "report_style_numbering": false,
   "user_envs_cfg": false
  },
  "varInspector": {
   "cols": {
    "lenName": 16,
    "lenType": 16,
    "lenVar": 40
   },
   "kernels_config": {
    "python": {
     "delete_cmd_postfix": "",
     "delete_cmd_prefix": "del ",
     "library": "var_list.py",
     "varRefreshCmd": "print(var_dic_list())"
    },
    "r": {
     "delete_cmd_postfix": ") ",
     "delete_cmd_prefix": "rm(",
     "library": "var_list.r",
     "varRefreshCmd": "cat(var_dic_list()) "
    }
   },
   "types_to_exclude": [
    "module",
    "function",
    "builtin_function_or_method",
    "instance",
    "_Feature"
   ],
   "window_display": false
  }
 },
 "nbformat": 4,
 "nbformat_minor": 5
}
