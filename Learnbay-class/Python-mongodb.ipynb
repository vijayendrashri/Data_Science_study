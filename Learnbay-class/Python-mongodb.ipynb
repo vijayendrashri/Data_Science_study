{
 "cells": [
  {
   "cell_type": "code",
   "execution_count": 37,
   "id": "3b366b90",
   "metadata": {
    "ExecuteTime": {
     "end_time": "2021-07-30T10:49:04.097371Z",
     "start_time": "2021-07-30T10:49:03.868285Z"
    }
   },
   "outputs": [],
   "source": [
    "import pymongo\n",
    "\n",
    "myclient = pymongo.MongoClient(\"mongodb://localhost:27017/\")\n",
    "\n",
    "mydb = myclient[\"mydatabase\"]\n",
    "\n",
    "mydict = { \"name\": \"John\", \"address\": \"Highway 37\" }\n",
    "\n",
    "x = mycol.insert_one(mydict)"
   ]
  },
  {
   "cell_type": "code",
   "execution_count": 38,
   "id": "877d94ac",
   "metadata": {
    "ExecuteTime": {
     "end_time": "2021-07-30T10:49:06.525864Z",
     "start_time": "2021-07-30T10:49:06.516984Z"
    }
   },
   "outputs": [
    {
     "name": "stdout",
     "output_type": "stream",
     "text": [
      "['admin', 'config', 'local', 'mydatabase']\n"
     ]
    }
   ],
   "source": [
    "print(myclient.list_database_names())"
   ]
  },
  {
   "cell_type": "code",
   "execution_count": 39,
   "id": "e01ce1a9",
   "metadata": {
    "ExecuteTime": {
     "end_time": "2021-07-30T10:49:06.765677Z",
     "start_time": "2021-07-30T10:49:06.756974Z"
    }
   },
   "outputs": [
    {
     "name": "stdout",
     "output_type": "stream",
     "text": [
      "The database exists.\n"
     ]
    }
   ],
   "source": [
    "dblist = myclient.list_database_names()\n",
    "if \"mydatabase\" in dblist:\n",
    "  print(\"The database exists.\")"
   ]
  },
  {
   "cell_type": "code",
   "execution_count": 40,
   "id": "4ab73ece",
   "metadata": {
    "ExecuteTime": {
     "end_time": "2021-07-30T10:49:07.512202Z",
     "start_time": "2021-07-30T10:49:07.507790Z"
    }
   },
   "outputs": [],
   "source": [
    "mycol = mydb[\"customers\"]"
   ]
  },
  {
   "cell_type": "code",
   "execution_count": 41,
   "id": "d1bbfdc0",
   "metadata": {
    "ExecuteTime": {
     "end_time": "2021-07-30T10:49:12.546314Z",
     "start_time": "2021-07-30T10:49:12.537680Z"
    }
   },
   "outputs": [
    {
     "name": "stdout",
     "output_type": "stream",
     "text": [
      "The collection exists.\n"
     ]
    }
   ],
   "source": [
    "collist = mydb.list_collection_names()\n",
    "if \"customers\" in collist:\n",
    "  print(\"The collection exists.\")"
   ]
  },
  {
   "cell_type": "code",
   "execution_count": 42,
   "id": "6f07b677",
   "metadata": {
    "ExecuteTime": {
     "end_time": "2021-07-30T10:49:14.940515Z",
     "start_time": "2021-07-30T10:49:14.931934Z"
    }
   },
   "outputs": [
    {
     "name": "stdout",
     "output_type": "stream",
     "text": [
      "6103d92aa14ffe07ebe4e99e\n"
     ]
    }
   ],
   "source": [
    "mydict = { \"name\": \"Peter\", \"address\": \"Lowstreet 27\" }\n",
    "\n",
    "x = mycol.insert_one(mydict)\n",
    "\n",
    "print(x.inserted_id)"
   ]
  },
  {
   "cell_type": "code",
   "execution_count": 43,
   "id": "428fc394",
   "metadata": {
    "ExecuteTime": {
     "end_time": "2021-07-30T10:49:16.114030Z",
     "start_time": "2021-07-30T10:49:16.098520Z"
    }
   },
   "outputs": [
    {
     "name": "stdout",
     "output_type": "stream",
     "text": [
      "[ObjectId('6103d92ca14ffe07ebe4e99f'), ObjectId('6103d92ca14ffe07ebe4e9a0'), ObjectId('6103d92ca14ffe07ebe4e9a1'), ObjectId('6103d92ca14ffe07ebe4e9a2'), ObjectId('6103d92ca14ffe07ebe4e9a3'), ObjectId('6103d92ca14ffe07ebe4e9a4'), ObjectId('6103d92ca14ffe07ebe4e9a5'), ObjectId('6103d92ca14ffe07ebe4e9a6'), ObjectId('6103d92ca14ffe07ebe4e9a7'), ObjectId('6103d92ca14ffe07ebe4e9a8'), ObjectId('6103d92ca14ffe07ebe4e9a9'), ObjectId('6103d92ca14ffe07ebe4e9aa')]\n"
     ]
    }
   ],
   "source": [
    "\n",
    "mylist = [\n",
    "  { \"name\": \"Amy\", \"address\": \"Apple st 652\"},\n",
    "  { \"name\": \"Hannah\", \"address\": \"Mountain 21\"},\n",
    "  { \"name\": \"Michael\", \"address\": \"Valley 345\"},\n",
    "  { \"name\": \"Sandy\", \"address\": \"Ocean blvd 2\"},\n",
    "  { \"name\": \"Betty\", \"address\": \"Green Grass 1\"},\n",
    "  { \"name\": \"Richard\", \"address\": \"Sky st 331\"},\n",
    "  { \"name\": \"Susan\", \"address\": \"One way 98\"},\n",
    "  { \"name\": \"Vicky\", \"address\": \"Yellow Garden 2\"},\n",
    "  { \"name\": \"Ben\", \"address\": \"Park Lane 38\"},\n",
    "  { \"name\": \"William\", \"address\": \"Central st 954\"},\n",
    "  { \"name\": \"Chuck\", \"address\": \"Main Road 989\"},\n",
    "  { \"name\": \"Viola\", \"address\": \"Sideway 1633\"}\n",
    "]\n",
    "\n",
    "x = mycol.insert_many(mylist)\n",
    "\n",
    "#print list of the _id values of the inserted documents:\n",
    "print(x.inserted_ids)"
   ]
  },
  {
   "cell_type": "code",
   "execution_count": 44,
   "id": "820863ec",
   "metadata": {
    "ExecuteTime": {
     "end_time": "2021-07-30T10:49:16.909296Z",
     "start_time": "2021-07-30T10:49:16.892672Z"
    }
   },
   "outputs": [
    {
     "name": "stdout",
     "output_type": "stream",
     "text": [
      "[1, 2, 3, 4, 5, 6, 7, 8, 9, 10, 11, 12, 13, 14]\n"
     ]
    }
   ],
   "source": [
    "\n",
    "mylist = [\n",
    "  { \"_id\": 1, \"name\": \"John\", \"address\": \"Highway 37\"},\n",
    "  { \"_id\": 2, \"name\": \"Peter\", \"address\": \"Lowstreet 27\"},\n",
    "  { \"_id\": 3, \"name\": \"Amy\", \"address\": \"Apple st 652\"},\n",
    "  { \"_id\": 4, \"name\": \"Hannah\", \"address\": \"Mountain 21\"},\n",
    "  { \"_id\": 5, \"name\": \"Michael\", \"address\": \"Valley 345\"},\n",
    "  { \"_id\": 6, \"name\": \"Sandy\", \"address\": \"Ocean blvd 2\"},\n",
    "  { \"_id\": 7, \"name\": \"Betty\", \"address\": \"Green Grass 1\"},\n",
    "  { \"_id\": 8, \"name\": \"Richard\", \"address\": \"Sky st 331\"},\n",
    "  { \"_id\": 9, \"name\": \"Susan\", \"address\": \"One way 98\"},\n",
    "  { \"_id\": 10, \"name\": \"Vicky\", \"address\": \"Yellow Garden 2\"},\n",
    "  { \"_id\": 11, \"name\": \"Ben\", \"address\": \"Park Lane 38\"},\n",
    "  { \"_id\": 12, \"name\": \"William\", \"address\": \"Central st 954\"},\n",
    "  { \"_id\": 13, \"name\": \"Chuck\", \"address\": \"Main Road 989\"},\n",
    "  { \"_id\": 14, \"name\": \"Viola\", \"address\": \"Sideway 1633\"}\n",
    "]\n",
    "\n",
    "x = mycol.insert_many(mylist)\n",
    "\n",
    "#print list of the _id values of the inserted documents:\n",
    "print(x.inserted_ids)"
   ]
  },
  {
   "cell_type": "code",
   "execution_count": 45,
   "id": "24a73b51",
   "metadata": {
    "ExecuteTime": {
     "end_time": "2021-07-30T10:49:18.238932Z",
     "start_time": "2021-07-30T10:49:18.234600Z"
    }
   },
   "outputs": [
    {
     "name": "stdout",
     "output_type": "stream",
     "text": [
      "{'_id': ObjectId('6103d91fa14ffe07ebe4e99d'), 'name': 'John', 'address': 'Highway 37'}\n"
     ]
    }
   ],
   "source": [
    "x = mycol.find_one()\n",
    "print(x)"
   ]
  },
  {
   "cell_type": "code",
   "execution_count": 18,
   "id": "7718a76f",
   "metadata": {
    "ExecuteTime": {
     "end_time": "2021-07-30T10:39:59.099221Z",
     "start_time": "2021-07-30T10:39:59.085746Z"
    }
   },
   "outputs": [
    {
     "name": "stdout",
     "output_type": "stream",
     "text": [
      "{'_id': ObjectId('6103d5e8a14ffe07ebe4e98e'), 'name': 'John', 'address': 'Highway 37'}\n",
      "{'_id': ObjectId('6103d626a14ffe07ebe4e98f'), 'name': 'Peter', 'address': 'Lowstreet 27'}\n",
      "{'_id': ObjectId('6103d655a14ffe07ebe4e990'), 'name': 'Amy', 'address': 'Apple st 652'}\n",
      "{'_id': ObjectId('6103d655a14ffe07ebe4e991'), 'name': 'Hannah', 'address': 'Mountain 21'}\n",
      "{'_id': ObjectId('6103d655a14ffe07ebe4e992'), 'name': 'Michael', 'address': 'Valley 345'}\n",
      "{'_id': ObjectId('6103d655a14ffe07ebe4e993'), 'name': 'Sandy', 'address': 'Ocean blvd 2'}\n",
      "{'_id': ObjectId('6103d655a14ffe07ebe4e994'), 'name': 'Betty', 'address': 'Green Grass 1'}\n",
      "{'_id': ObjectId('6103d655a14ffe07ebe4e995'), 'name': 'Richard', 'address': 'Sky st 331'}\n",
      "{'_id': ObjectId('6103d655a14ffe07ebe4e996'), 'name': 'Susan', 'address': 'One way 98'}\n",
      "{'_id': ObjectId('6103d655a14ffe07ebe4e997'), 'name': 'Vicky', 'address': 'Yellow Garden 2'}\n",
      "{'_id': ObjectId('6103d655a14ffe07ebe4e998'), 'name': 'Ben', 'address': 'Park Lane 38'}\n",
      "{'_id': ObjectId('6103d655a14ffe07ebe4e999'), 'name': 'William', 'address': 'Central st 954'}\n",
      "{'_id': ObjectId('6103d655a14ffe07ebe4e99a'), 'name': 'Chuck', 'address': 'Main Road 989'}\n",
      "{'_id': ObjectId('6103d655a14ffe07ebe4e99b'), 'name': 'Viola', 'address': 'Sideway 1633'}\n",
      "{'_id': 1, 'name': 'John', 'address': 'Highway 37'}\n",
      "{'_id': 2, 'name': 'Peter', 'address': 'Lowstreet 27'}\n",
      "{'_id': 3, 'name': 'Amy', 'address': 'Apple st 652'}\n",
      "{'_id': 4, 'name': 'Hannah', 'address': 'Mountain 21'}\n",
      "{'_id': 5, 'name': 'Michael', 'address': 'Valley 345'}\n",
      "{'_id': 6, 'name': 'Sandy', 'address': 'Ocean blvd 2'}\n",
      "{'_id': 7, 'name': 'Betty', 'address': 'Green Grass 1'}\n",
      "{'_id': 8, 'name': 'Richard', 'address': 'Sky st 331'}\n",
      "{'_id': 9, 'name': 'Susan', 'address': 'One way 98'}\n",
      "{'_id': 10, 'name': 'Vicky', 'address': 'Yellow Garden 2'}\n",
      "{'_id': 11, 'name': 'Ben', 'address': 'Park Lane 38'}\n",
      "{'_id': 12, 'name': 'William', 'address': 'Central st 954'}\n",
      "{'_id': 13, 'name': 'Chuck', 'address': 'Main Road 989'}\n",
      "{'_id': 14, 'name': 'Viola', 'address': 'Sideway 1633'}\n"
     ]
    }
   ],
   "source": [
    "for x in mycol.find():\n",
    "    print(x)"
   ]
  },
  {
   "cell_type": "code",
   "execution_count": 20,
   "id": "23c9907e",
   "metadata": {
    "ExecuteTime": {
     "end_time": "2021-07-30T10:40:46.751436Z",
     "start_time": "2021-07-30T10:40:46.737258Z"
    }
   },
   "outputs": [
    {
     "name": "stdout",
     "output_type": "stream",
     "text": [
      "{'name': 'John', 'address': 'Highway 37'}\n",
      "{'name': 'Peter', 'address': 'Lowstreet 27'}\n",
      "{'name': 'Amy', 'address': 'Apple st 652'}\n",
      "{'name': 'Hannah', 'address': 'Mountain 21'}\n",
      "{'name': 'Michael', 'address': 'Valley 345'}\n",
      "{'name': 'Sandy', 'address': 'Ocean blvd 2'}\n",
      "{'name': 'Betty', 'address': 'Green Grass 1'}\n",
      "{'name': 'Richard', 'address': 'Sky st 331'}\n",
      "{'name': 'Susan', 'address': 'One way 98'}\n",
      "{'name': 'Vicky', 'address': 'Yellow Garden 2'}\n",
      "{'name': 'Ben', 'address': 'Park Lane 38'}\n",
      "{'name': 'William', 'address': 'Central st 954'}\n",
      "{'name': 'Chuck', 'address': 'Main Road 989'}\n",
      "{'name': 'Viola', 'address': 'Sideway 1633'}\n",
      "{'name': 'John', 'address': 'Highway 37'}\n",
      "{'name': 'Peter', 'address': 'Lowstreet 27'}\n",
      "{'name': 'Amy', 'address': 'Apple st 652'}\n",
      "{'name': 'Hannah', 'address': 'Mountain 21'}\n",
      "{'name': 'Michael', 'address': 'Valley 345'}\n",
      "{'name': 'Sandy', 'address': 'Ocean blvd 2'}\n",
      "{'name': 'Betty', 'address': 'Green Grass 1'}\n",
      "{'name': 'Richard', 'address': 'Sky st 331'}\n",
      "{'name': 'Susan', 'address': 'One way 98'}\n",
      "{'name': 'Vicky', 'address': 'Yellow Garden 2'}\n",
      "{'name': 'Ben', 'address': 'Park Lane 38'}\n",
      "{'name': 'William', 'address': 'Central st 954'}\n",
      "{'name': 'Chuck', 'address': 'Main Road 989'}\n",
      "{'name': 'Viola', 'address': 'Sideway 1633'}\n"
     ]
    }
   ],
   "source": [
    "for x in mycol.find({},{ \"_id\": 0, \"name\": 1, \"address\": 1 }):\n",
    "    print(x)"
   ]
  },
  {
   "cell_type": "code",
   "execution_count": 24,
   "id": "5de47282",
   "metadata": {
    "ExecuteTime": {
     "end_time": "2021-07-30T10:43:10.452475Z",
     "start_time": "2021-07-30T10:43:10.438879Z"
    }
   },
   "outputs": [
    {
     "name": "stdout",
     "output_type": "stream",
     "text": [
      "{'_id': ObjectId('6103d5e8a14ffe07ebe4e98e'), 'address': 'Highway 37'}\n",
      "{'_id': ObjectId('6103d626a14ffe07ebe4e98f'), 'address': 'Lowstreet 27'}\n",
      "{'_id': ObjectId('6103d655a14ffe07ebe4e990'), 'address': 'Apple st 652'}\n",
      "{'_id': ObjectId('6103d655a14ffe07ebe4e991'), 'address': 'Mountain 21'}\n",
      "{'_id': ObjectId('6103d655a14ffe07ebe4e992'), 'address': 'Valley 345'}\n",
      "{'_id': ObjectId('6103d655a14ffe07ebe4e993'), 'address': 'Ocean blvd 2'}\n",
      "{'_id': ObjectId('6103d655a14ffe07ebe4e994'), 'address': 'Green Grass 1'}\n",
      "{'_id': ObjectId('6103d655a14ffe07ebe4e995'), 'address': 'Sky st 331'}\n",
      "{'_id': ObjectId('6103d655a14ffe07ebe4e996'), 'address': 'One way 98'}\n",
      "{'_id': ObjectId('6103d655a14ffe07ebe4e997'), 'address': 'Yellow Garden 2'}\n",
      "{'_id': ObjectId('6103d655a14ffe07ebe4e998'), 'address': 'Park Lane 38'}\n",
      "{'_id': ObjectId('6103d655a14ffe07ebe4e999'), 'address': 'Central st 954'}\n",
      "{'_id': ObjectId('6103d655a14ffe07ebe4e99a'), 'address': 'Main Road 989'}\n",
      "{'_id': ObjectId('6103d655a14ffe07ebe4e99b'), 'address': 'Sideway 1633'}\n",
      "{'_id': 1, 'address': 'Highway 37'}\n",
      "{'_id': 2, 'address': 'Lowstreet 27'}\n",
      "{'_id': 3, 'address': 'Apple st 652'}\n",
      "{'_id': 4, 'address': 'Mountain 21'}\n",
      "{'_id': 5, 'address': 'Valley 345'}\n",
      "{'_id': 6, 'address': 'Ocean blvd 2'}\n",
      "{'_id': 7, 'address': 'Green Grass 1'}\n",
      "{'_id': 8, 'address': 'Sky st 331'}\n",
      "{'_id': 9, 'address': 'One way 98'}\n",
      "{'_id': 10, 'address': 'Yellow Garden 2'}\n",
      "{'_id': 11, 'address': 'Park Lane 38'}\n",
      "{'_id': 12, 'address': 'Central st 954'}\n",
      "{'_id': 13, 'address': 'Main Road 989'}\n",
      "{'_id': 14, 'address': 'Sideway 1633'}\n"
     ]
    }
   ],
   "source": [
    "for x in mycol.find({},{ \"address\": 1 }):\n",
    "  print(x)"
   ]
  },
  {
   "cell_type": "code",
   "execution_count": 25,
   "id": "f2673f58",
   "metadata": {
    "ExecuteTime": {
     "end_time": "2021-07-30T10:43:53.974612Z",
     "start_time": "2021-07-30T10:43:53.965392Z"
    }
   },
   "outputs": [
    {
     "name": "stdout",
     "output_type": "stream",
     "text": [
      "{'_id': ObjectId('6103d655a14ffe07ebe4e998'), 'name': 'Ben', 'address': 'Park Lane 38'}\n",
      "{'_id': 11, 'name': 'Ben', 'address': 'Park Lane 38'}\n"
     ]
    }
   ],
   "source": [
    "myquery = { \"address\": \"Park Lane 38\" }\n",
    "\n",
    "mydoc = mycol.find(myquery)\n",
    "\n",
    "for x in mydoc:\n",
    "  print(x)"
   ]
  },
  {
   "cell_type": "code",
   "execution_count": 26,
   "id": "5e08421d",
   "metadata": {
    "ExecuteTime": {
     "end_time": "2021-07-30T10:44:28.806416Z",
     "start_time": "2021-07-30T10:44:28.793658Z"
    }
   },
   "outputs": [
    {
     "name": "stdout",
     "output_type": "stream",
     "text": [
      "{'_id': ObjectId('6103d655a14ffe07ebe4e992'), 'name': 'Michael', 'address': 'Valley 345'}\n",
      "{'_id': ObjectId('6103d655a14ffe07ebe4e995'), 'name': 'Richard', 'address': 'Sky st 331'}\n",
      "{'_id': ObjectId('6103d655a14ffe07ebe4e997'), 'name': 'Vicky', 'address': 'Yellow Garden 2'}\n",
      "{'_id': ObjectId('6103d655a14ffe07ebe4e99b'), 'name': 'Viola', 'address': 'Sideway 1633'}\n",
      "{'_id': 5, 'name': 'Michael', 'address': 'Valley 345'}\n",
      "{'_id': 8, 'name': 'Richard', 'address': 'Sky st 331'}\n",
      "{'_id': 10, 'name': 'Vicky', 'address': 'Yellow Garden 2'}\n",
      "{'_id': 14, 'name': 'Viola', 'address': 'Sideway 1633'}\n"
     ]
    }
   ],
   "source": [
    "myquery = { \"address\": { \"$gt\": \"S\" } }\n",
    "\n",
    "mydoc = mycol.find(myquery)\n",
    "\n",
    "for x in mydoc:\n",
    "  print(x)"
   ]
  },
  {
   "cell_type": "code",
   "execution_count": 27,
   "id": "f2ae811c",
   "metadata": {
    "ExecuteTime": {
     "end_time": "2021-07-30T10:44:57.275596Z",
     "start_time": "2021-07-30T10:44:57.263703Z"
    }
   },
   "outputs": [
    {
     "name": "stdout",
     "output_type": "stream",
     "text": [
      "{'_id': ObjectId('6103d655a14ffe07ebe4e995'), 'name': 'Richard', 'address': 'Sky st 331'}\n",
      "{'_id': ObjectId('6103d655a14ffe07ebe4e99b'), 'name': 'Viola', 'address': 'Sideway 1633'}\n",
      "{'_id': 8, 'name': 'Richard', 'address': 'Sky st 331'}\n",
      "{'_id': 14, 'name': 'Viola', 'address': 'Sideway 1633'}\n"
     ]
    }
   ],
   "source": [
    "myquery = { \"address\": { \"$regex\": \"^S\" } }\n",
    "\n",
    "mydoc = mycol.find(myquery)\n",
    "\n",
    "for x in mydoc:\n",
    "  print(x)"
   ]
  },
  {
   "cell_type": "code",
   "execution_count": 28,
   "id": "fb74f117",
   "metadata": {
    "ExecuteTime": {
     "end_time": "2021-07-30T10:45:16.929144Z",
     "start_time": "2021-07-30T10:45:16.908635Z"
    }
   },
   "outputs": [
    {
     "name": "stdout",
     "output_type": "stream",
     "text": [
      "{'_id': ObjectId('6103d655a14ffe07ebe4e990'), 'name': 'Amy', 'address': 'Apple st 652'}\n",
      "{'_id': 3, 'name': 'Amy', 'address': 'Apple st 652'}\n",
      "{'_id': ObjectId('6103d655a14ffe07ebe4e998'), 'name': 'Ben', 'address': 'Park Lane 38'}\n",
      "{'_id': 11, 'name': 'Ben', 'address': 'Park Lane 38'}\n",
      "{'_id': ObjectId('6103d655a14ffe07ebe4e994'), 'name': 'Betty', 'address': 'Green Grass 1'}\n",
      "{'_id': 7, 'name': 'Betty', 'address': 'Green Grass 1'}\n",
      "{'_id': ObjectId('6103d655a14ffe07ebe4e99a'), 'name': 'Chuck', 'address': 'Main Road 989'}\n",
      "{'_id': 13, 'name': 'Chuck', 'address': 'Main Road 989'}\n",
      "{'_id': ObjectId('6103d655a14ffe07ebe4e991'), 'name': 'Hannah', 'address': 'Mountain 21'}\n",
      "{'_id': 4, 'name': 'Hannah', 'address': 'Mountain 21'}\n",
      "{'_id': ObjectId('6103d5e8a14ffe07ebe4e98e'), 'name': 'John', 'address': 'Highway 37'}\n",
      "{'_id': 1, 'name': 'John', 'address': 'Highway 37'}\n",
      "{'_id': ObjectId('6103d655a14ffe07ebe4e992'), 'name': 'Michael', 'address': 'Valley 345'}\n",
      "{'_id': 5, 'name': 'Michael', 'address': 'Valley 345'}\n",
      "{'_id': ObjectId('6103d626a14ffe07ebe4e98f'), 'name': 'Peter', 'address': 'Lowstreet 27'}\n",
      "{'_id': 2, 'name': 'Peter', 'address': 'Lowstreet 27'}\n",
      "{'_id': ObjectId('6103d655a14ffe07ebe4e995'), 'name': 'Richard', 'address': 'Sky st 331'}\n",
      "{'_id': 8, 'name': 'Richard', 'address': 'Sky st 331'}\n",
      "{'_id': ObjectId('6103d655a14ffe07ebe4e993'), 'name': 'Sandy', 'address': 'Ocean blvd 2'}\n",
      "{'_id': 6, 'name': 'Sandy', 'address': 'Ocean blvd 2'}\n",
      "{'_id': ObjectId('6103d655a14ffe07ebe4e996'), 'name': 'Susan', 'address': 'One way 98'}\n",
      "{'_id': 9, 'name': 'Susan', 'address': 'One way 98'}\n",
      "{'_id': ObjectId('6103d655a14ffe07ebe4e997'), 'name': 'Vicky', 'address': 'Yellow Garden 2'}\n",
      "{'_id': 10, 'name': 'Vicky', 'address': 'Yellow Garden 2'}\n",
      "{'_id': ObjectId('6103d655a14ffe07ebe4e99b'), 'name': 'Viola', 'address': 'Sideway 1633'}\n",
      "{'_id': 14, 'name': 'Viola', 'address': 'Sideway 1633'}\n",
      "{'_id': ObjectId('6103d655a14ffe07ebe4e999'), 'name': 'William', 'address': 'Central st 954'}\n",
      "{'_id': 12, 'name': 'William', 'address': 'Central st 954'}\n"
     ]
    }
   ],
   "source": [
    "mydoc = mycol.find().sort(\"name\")\n",
    "\n",
    "for x in mydoc:\n",
    "  print(x)"
   ]
  },
  {
   "cell_type": "code",
   "execution_count": 29,
   "id": "cc741d48",
   "metadata": {
    "ExecuteTime": {
     "end_time": "2021-07-30T10:45:36.941446Z",
     "start_time": "2021-07-30T10:45:36.922899Z"
    }
   },
   "outputs": [
    {
     "name": "stdout",
     "output_type": "stream",
     "text": [
      "{'_id': ObjectId('6103d655a14ffe07ebe4e999'), 'name': 'William', 'address': 'Central st 954'}\n",
      "{'_id': 12, 'name': 'William', 'address': 'Central st 954'}\n",
      "{'_id': ObjectId('6103d655a14ffe07ebe4e99b'), 'name': 'Viola', 'address': 'Sideway 1633'}\n",
      "{'_id': 14, 'name': 'Viola', 'address': 'Sideway 1633'}\n",
      "{'_id': ObjectId('6103d655a14ffe07ebe4e997'), 'name': 'Vicky', 'address': 'Yellow Garden 2'}\n",
      "{'_id': 10, 'name': 'Vicky', 'address': 'Yellow Garden 2'}\n",
      "{'_id': ObjectId('6103d655a14ffe07ebe4e996'), 'name': 'Susan', 'address': 'One way 98'}\n",
      "{'_id': 9, 'name': 'Susan', 'address': 'One way 98'}\n",
      "{'_id': ObjectId('6103d655a14ffe07ebe4e993'), 'name': 'Sandy', 'address': 'Ocean blvd 2'}\n",
      "{'_id': 6, 'name': 'Sandy', 'address': 'Ocean blvd 2'}\n",
      "{'_id': ObjectId('6103d655a14ffe07ebe4e995'), 'name': 'Richard', 'address': 'Sky st 331'}\n",
      "{'_id': 8, 'name': 'Richard', 'address': 'Sky st 331'}\n",
      "{'_id': ObjectId('6103d626a14ffe07ebe4e98f'), 'name': 'Peter', 'address': 'Lowstreet 27'}\n",
      "{'_id': 2, 'name': 'Peter', 'address': 'Lowstreet 27'}\n",
      "{'_id': ObjectId('6103d655a14ffe07ebe4e992'), 'name': 'Michael', 'address': 'Valley 345'}\n",
      "{'_id': 5, 'name': 'Michael', 'address': 'Valley 345'}\n",
      "{'_id': ObjectId('6103d5e8a14ffe07ebe4e98e'), 'name': 'John', 'address': 'Highway 37'}\n",
      "{'_id': 1, 'name': 'John', 'address': 'Highway 37'}\n",
      "{'_id': ObjectId('6103d655a14ffe07ebe4e991'), 'name': 'Hannah', 'address': 'Mountain 21'}\n",
      "{'_id': 4, 'name': 'Hannah', 'address': 'Mountain 21'}\n",
      "{'_id': ObjectId('6103d655a14ffe07ebe4e99a'), 'name': 'Chuck', 'address': 'Main Road 989'}\n",
      "{'_id': 13, 'name': 'Chuck', 'address': 'Main Road 989'}\n",
      "{'_id': ObjectId('6103d655a14ffe07ebe4e994'), 'name': 'Betty', 'address': 'Green Grass 1'}\n",
      "{'_id': 7, 'name': 'Betty', 'address': 'Green Grass 1'}\n",
      "{'_id': ObjectId('6103d655a14ffe07ebe4e998'), 'name': 'Ben', 'address': 'Park Lane 38'}\n",
      "{'_id': 11, 'name': 'Ben', 'address': 'Park Lane 38'}\n",
      "{'_id': ObjectId('6103d655a14ffe07ebe4e990'), 'name': 'Amy', 'address': 'Apple st 652'}\n",
      "{'_id': 3, 'name': 'Amy', 'address': 'Apple st 652'}\n"
     ]
    }
   ],
   "source": [
    "mydoc = mycol.find().sort(\"name\", -1)\n",
    "\n",
    "for x in mydoc:\n",
    "  print(x)"
   ]
  },
  {
   "cell_type": "code",
   "execution_count": 30,
   "id": "87fecc92",
   "metadata": {
    "ExecuteTime": {
     "end_time": "2021-07-30T10:45:59.650535Z",
     "start_time": "2021-07-30T10:45:59.626865Z"
    }
   },
   "outputs": [
    {
     "data": {
      "text/plain": [
       "<pymongo.results.DeleteResult at 0x7fced752d1c0>"
      ]
     },
     "execution_count": 30,
     "metadata": {},
     "output_type": "execute_result"
    }
   ],
   "source": [
    "myquery = { \"address\": \"Mountain 21\" }\n",
    "\n",
    "mycol.delete_one(myquery)"
   ]
  },
  {
   "cell_type": "code",
   "execution_count": 31,
   "id": "e8d38017",
   "metadata": {
    "ExecuteTime": {
     "end_time": "2021-07-30T10:46:23.890822Z",
     "start_time": "2021-07-30T10:46:23.880910Z"
    }
   },
   "outputs": [
    {
     "name": "stdout",
     "output_type": "stream",
     "text": [
      "4  documents deleted.\n"
     ]
    }
   ],
   "source": [
    "myquery = { \"address\": {\"$regex\": \"^S\"} }\n",
    "\n",
    "x = mycol.delete_many(myquery)\n",
    "\n",
    "print(x.deleted_count, \" documents deleted.\")"
   ]
  },
  {
   "cell_type": "code",
   "execution_count": 33,
   "id": "d064b7e2",
   "metadata": {
    "ExecuteTime": {
     "end_time": "2021-07-30T10:46:51.845765Z",
     "start_time": "2021-07-30T10:46:51.837023Z"
    }
   },
   "outputs": [
    {
     "name": "stdout",
     "output_type": "stream",
     "text": [
      "0  documents deleted.\n"
     ]
    }
   ],
   "source": [
    "x = mycol.delete_many({})\n",
    "\n",
    "print(x.deleted_count, \" documents deleted.\")"
   ]
  },
  {
   "cell_type": "code",
   "execution_count": 34,
   "id": "8123bc6b",
   "metadata": {
    "ExecuteTime": {
     "end_time": "2021-07-30T10:47:26.777450Z",
     "start_time": "2021-07-30T10:47:26.720897Z"
    }
   },
   "outputs": [],
   "source": [
    "mycol.drop()"
   ]
  },
  {
   "cell_type": "code",
   "execution_count": 46,
   "id": "1297615d",
   "metadata": {
    "ExecuteTime": {
     "end_time": "2021-07-30T10:49:25.802196Z",
     "start_time": "2021-07-30T10:49:25.779611Z"
    }
   },
   "outputs": [
    {
     "name": "stdout",
     "output_type": "stream",
     "text": [
      "{'_id': ObjectId('6103d91fa14ffe07ebe4e99d'), 'name': 'John', 'address': 'Highway 37'}\n",
      "{'_id': ObjectId('6103d92aa14ffe07ebe4e99e'), 'name': 'Peter', 'address': 'Lowstreet 27'}\n",
      "{'_id': ObjectId('6103d92ca14ffe07ebe4e99f'), 'name': 'Amy', 'address': 'Apple st 652'}\n",
      "{'_id': ObjectId('6103d92ca14ffe07ebe4e9a0'), 'name': 'Hannah', 'address': 'Mountain 21'}\n",
      "{'_id': ObjectId('6103d92ca14ffe07ebe4e9a1'), 'name': 'Michael', 'address': 'Canyon 123'}\n",
      "{'_id': ObjectId('6103d92ca14ffe07ebe4e9a2'), 'name': 'Sandy', 'address': 'Ocean blvd 2'}\n",
      "{'_id': ObjectId('6103d92ca14ffe07ebe4e9a3'), 'name': 'Betty', 'address': 'Green Grass 1'}\n",
      "{'_id': ObjectId('6103d92ca14ffe07ebe4e9a4'), 'name': 'Richard', 'address': 'Sky st 331'}\n",
      "{'_id': ObjectId('6103d92ca14ffe07ebe4e9a5'), 'name': 'Susan', 'address': 'One way 98'}\n",
      "{'_id': ObjectId('6103d92ca14ffe07ebe4e9a6'), 'name': 'Vicky', 'address': 'Yellow Garden 2'}\n",
      "{'_id': ObjectId('6103d92ca14ffe07ebe4e9a7'), 'name': 'Ben', 'address': 'Park Lane 38'}\n",
      "{'_id': ObjectId('6103d92ca14ffe07ebe4e9a8'), 'name': 'William', 'address': 'Central st 954'}\n",
      "{'_id': ObjectId('6103d92ca14ffe07ebe4e9a9'), 'name': 'Chuck', 'address': 'Main Road 989'}\n",
      "{'_id': ObjectId('6103d92ca14ffe07ebe4e9aa'), 'name': 'Viola', 'address': 'Sideway 1633'}\n",
      "{'_id': 1, 'name': 'John', 'address': 'Highway 37'}\n",
      "{'_id': 2, 'name': 'Peter', 'address': 'Lowstreet 27'}\n",
      "{'_id': 3, 'name': 'Amy', 'address': 'Apple st 652'}\n",
      "{'_id': 4, 'name': 'Hannah', 'address': 'Mountain 21'}\n",
      "{'_id': 5, 'name': 'Michael', 'address': 'Valley 345'}\n",
      "{'_id': 6, 'name': 'Sandy', 'address': 'Ocean blvd 2'}\n",
      "{'_id': 7, 'name': 'Betty', 'address': 'Green Grass 1'}\n",
      "{'_id': 8, 'name': 'Richard', 'address': 'Sky st 331'}\n",
      "{'_id': 9, 'name': 'Susan', 'address': 'One way 98'}\n",
      "{'_id': 10, 'name': 'Vicky', 'address': 'Yellow Garden 2'}\n",
      "{'_id': 11, 'name': 'Ben', 'address': 'Park Lane 38'}\n",
      "{'_id': 12, 'name': 'William', 'address': 'Central st 954'}\n",
      "{'_id': 13, 'name': 'Chuck', 'address': 'Main Road 989'}\n",
      "{'_id': 14, 'name': 'Viola', 'address': 'Sideway 1633'}\n"
     ]
    }
   ],
   "source": [
    "myquery = { \"address\": \"Valley 345\" }\n",
    "newvalues = { \"$set\": { \"address\": \"Canyon 123\" } }\n",
    "mycol.update_one(myquery, newvalues)\n",
    "#print \"customers\" after the update:\n",
    "for x in mycol.find():\n",
    "    print(x.)"
   ]
  },
  {
   "cell_type": "code",
   "execution_count": 47,
   "id": "8b835105",
   "metadata": {
    "ExecuteTime": {
     "end_time": "2021-07-30T11:01:08.103009Z",
     "start_time": "2021-07-30T11:01:08.093109Z"
    }
   },
   "outputs": [
    {
     "name": "stdout",
     "output_type": "stream",
     "text": [
      "4 documents updated.\n"
     ]
    }
   ],
   "source": [
    "myquery = { \"address\": { \"$regex\": \"^S\" } }\n",
    "newvalues = { \"$set\": { \"name\": \"Minnie\" } }\n",
    "\n",
    "x = mycol.update_many(myquery, newvalues)\n",
    "\n",
    "print(x.modified_count, \"documents updated.\")"
   ]
  },
  {
   "cell_type": "code",
   "execution_count": 48,
   "id": "8df78b77",
   "metadata": {
    "ExecuteTime": {
     "end_time": "2021-07-30T11:01:53.258956Z",
     "start_time": "2021-07-30T11:01:53.250661Z"
    }
   },
   "outputs": [
    {
     "name": "stdout",
     "output_type": "stream",
     "text": [
      "{'_id': ObjectId('6103d91fa14ffe07ebe4e99d'), 'name': 'John', 'address': 'Highway 37'}\n",
      "{'_id': ObjectId('6103d92aa14ffe07ebe4e99e'), 'name': 'Peter', 'address': 'Lowstreet 27'}\n",
      "{'_id': ObjectId('6103d92ca14ffe07ebe4e99f'), 'name': 'Amy', 'address': 'Apple st 652'}\n",
      "{'_id': ObjectId('6103d92ca14ffe07ebe4e9a0'), 'name': 'Hannah', 'address': 'Mountain 21'}\n",
      "{'_id': ObjectId('6103d92ca14ffe07ebe4e9a1'), 'name': 'Michael', 'address': 'Canyon 123'}\n"
     ]
    }
   ],
   "source": [
    "myresult = mycol.find().limit(5)\n",
    "\n",
    "#print the result:\n",
    "for x in myresult:\n",
    "  print(x)"
   ]
  }
 ],
 "metadata": {
  "kernelspec": {
   "display_name": "Python 3",
   "language": "python",
   "name": "python3"
  },
  "language_info": {
   "codemirror_mode": {
    "name": "ipython",
    "version": 3
   },
   "file_extension": ".py",
   "mimetype": "text/x-python",
   "name": "python",
   "nbconvert_exporter": "python",
   "pygments_lexer": "ipython3",
   "version": "3.8.10"
  },
  "latex_envs": {
   "LaTeX_envs_menu_present": true,
   "autoclose": false,
   "autocomplete": true,
   "bibliofile": "biblio.bib",
   "cite_by": "apalike",
   "current_citInitial": 1,
   "eqLabelWithNumbers": true,
   "eqNumInitial": 1,
   "hotkeys": {
    "equation": "Ctrl-E",
    "itemize": "Ctrl-I"
   },
   "labels_anchors": false,
   "latex_user_defs": false,
   "report_style_numbering": false,
   "user_envs_cfg": false
  },
  "varInspector": {
   "cols": {
    "lenName": 16,
    "lenType": 16,
    "lenVar": 40
   },
   "kernels_config": {
    "python": {
     "delete_cmd_postfix": "",
     "delete_cmd_prefix": "del ",
     "library": "var_list.py",
     "varRefreshCmd": "print(var_dic_list())"
    },
    "r": {
     "delete_cmd_postfix": ") ",
     "delete_cmd_prefix": "rm(",
     "library": "var_list.r",
     "varRefreshCmd": "cat(var_dic_list()) "
    }
   },
   "types_to_exclude": [
    "module",
    "function",
    "builtin_function_or_method",
    "instance",
    "_Feature"
   ],
   "window_display": false
  }
 },
 "nbformat": 4,
 "nbformat_minor": 5
}
