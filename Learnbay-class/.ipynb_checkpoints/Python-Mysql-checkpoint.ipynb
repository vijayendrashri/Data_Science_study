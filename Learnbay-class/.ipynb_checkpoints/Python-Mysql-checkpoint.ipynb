{
 "cells": [
  {
   "cell_type": "code",
   "execution_count": 3,
   "id": "c9240f50",
   "metadata": {
    "ExecuteTime": {
     "end_time": "2021-07-30T14:11:10.571699Z",
     "start_time": "2021-07-30T14:11:10.566112Z"
    }
   },
   "outputs": [],
   "source": [
    "import mysql.connector"
   ]
  },
  {
   "cell_type": "code",
   "execution_count": 110,
   "id": "2a07189f",
   "metadata": {
    "ExecuteTime": {
     "end_time": "2021-07-30T15:45:53.631790Z",
     "start_time": "2021-07-30T15:45:53.595683Z"
    }
   },
   "outputs": [
    {
     "name": "stdout",
     "output_type": "stream",
     "text": [
      "<mysql.connector.connection_cext.CMySQLConnection object at 0x7fc78d16e1f0>\n"
     ]
    }
   ],
   "source": [
    "mydb = mysql.connector.connect(\n",
    "  host=\"localhost\",\n",
    "  user=\"root\",\n",
    "  password=\"root\"\n",
    ")\n",
    "\n",
    "print(mydb)"
   ]
  },
  {
   "cell_type": "code",
   "execution_count": 6,
   "id": "a598c52c",
   "metadata": {
    "ExecuteTime": {
     "end_time": "2021-07-30T14:11:49.772479Z",
     "start_time": "2021-07-30T14:11:49.552369Z"
    }
   },
   "outputs": [],
   "source": [
    "mycursor = mydb.cursor()\n",
    "\n",
    "mycursor.execute(\"CREATE DATABASE mydatabase\")"
   ]
  },
  {
   "cell_type": "code",
   "execution_count": 7,
   "id": "ced8c93e",
   "metadata": {
    "ExecuteTime": {
     "end_time": "2021-07-30T14:12:27.379057Z",
     "start_time": "2021-07-30T14:12:27.367623Z"
    }
   },
   "outputs": [
    {
     "name": "stdout",
     "output_type": "stream",
     "text": [
      "('information_schema',)\n",
      "('mydatabase',)\n",
      "('mysql',)\n",
      "('performance_schema',)\n",
      "('sys',)\n"
     ]
    }
   ],
   "source": [
    "mycursor = mydb.cursor()\n",
    "\n",
    "mycursor.execute(\"SHOW DATABASES\")\n",
    "\n",
    "for x in mycursor:\n",
    "  print(x)"
   ]
  },
  {
   "cell_type": "code",
   "execution_count": 111,
   "id": "22365c43",
   "metadata": {
    "ExecuteTime": {
     "end_time": "2021-07-30T15:46:00.377208Z",
     "start_time": "2021-07-30T15:46:00.357243Z"
    }
   },
   "outputs": [
    {
     "name": "stdout",
     "output_type": "stream",
     "text": [
      "<mysql.connector.connection_cext.CMySQLConnection object at 0x7fc78d833580>\n"
     ]
    }
   ],
   "source": [
    "mydb = mysql.connector.connect(\n",
    "  host=\"localhost\",\n",
    "  user=\"root\",\n",
    "  password=\"root\",\n",
    "    database=\"mydatabase\"\n",
    ")\n",
    "mycursor = mydb.cursor()\n",
    "print(mydb)"
   ]
  },
  {
   "cell_type": "code",
   "execution_count": 10,
   "id": "3df6bc49",
   "metadata": {
    "ExecuteTime": {
     "end_time": "2021-07-30T14:13:39.071891Z",
     "start_time": "2021-07-30T14:13:37.845315Z"
    }
   },
   "outputs": [],
   "source": [
    "mycursor.execute(\"CREATE TABLE customers (name VARCHAR(255), address VARCHAR(255))\")"
   ]
  },
  {
   "cell_type": "code",
   "execution_count": 11,
   "id": "f56327dc",
   "metadata": {
    "ExecuteTime": {
     "end_time": "2021-07-30T14:14:16.073762Z",
     "start_time": "2021-07-30T14:14:16.064022Z"
    }
   },
   "outputs": [
    {
     "name": "stdout",
     "output_type": "stream",
     "text": [
      "('customers',)\n"
     ]
    }
   ],
   "source": [
    "mycursor.execute(\"SHOW TABLES\")\n",
    "\n",
    "for x in mycursor:\n",
    "    print(x)"
   ]
  },
  {
   "cell_type": "code",
   "execution_count": 14,
   "id": "e8ca6f14",
   "metadata": {
    "ExecuteTime": {
     "end_time": "2021-07-30T14:15:42.953120Z",
     "start_time": "2021-07-30T14:15:41.984114Z"
    }
   },
   "outputs": [],
   "source": [
    "mycursor.execute(\"CREATE TABLE if not exists customer (id INT AUTO_INCREMENT PRIMARY KEY, name VARCHAR(255), address VARCHAR(255))\")"
   ]
  },
  {
   "cell_type": "code",
   "execution_count": 15,
   "id": "86c996f4",
   "metadata": {
    "ExecuteTime": {
     "end_time": "2021-07-30T14:16:08.132160Z",
     "start_time": "2021-07-30T14:16:07.064345Z"
    }
   },
   "outputs": [],
   "source": [
    "mycursor.execute(\"ALTER TABLE customers ADD COLUMN id INT AUTO_INCREMENT PRIMARY KEY\")"
   ]
  },
  {
   "cell_type": "code",
   "execution_count": 16,
   "id": "146394bc",
   "metadata": {
    "ExecuteTime": {
     "end_time": "2021-07-30T14:16:52.048930Z",
     "start_time": "2021-07-30T14:16:51.956099Z"
    }
   },
   "outputs": [
    {
     "name": "stdout",
     "output_type": "stream",
     "text": [
      "1 record inserted.\n"
     ]
    }
   ],
   "source": [
    "sql = \"INSERT INTO customers (name, address) VALUES (%s, %s)\"\n",
    "val = (\"John\", \"Highway 21\")\n",
    "mycursor.execute(sql, val)\n",
    "\n",
    "mydb.commit()\n",
    "\n",
    "print(mycursor.rowcount, \"record inserted.\")"
   ]
  },
  {
   "cell_type": "code",
   "execution_count": 17,
   "id": "4c814c49",
   "metadata": {
    "ExecuteTime": {
     "end_time": "2021-07-30T14:17:12.706955Z",
     "start_time": "2021-07-30T14:17:12.492812Z"
    }
   },
   "outputs": [
    {
     "name": "stdout",
     "output_type": "stream",
     "text": [
      "13 was inserted.\n"
     ]
    }
   ],
   "source": [
    "sql = \"INSERT INTO customers (name, address) VALUES (%s, %s)\"\n",
    "val = [\n",
    "  ('Peter', 'Lowstreet 4'),\n",
    "  ('Amy', 'Apple st 652'),\n",
    "  ('Hannah', 'Mountain 21'),\n",
    "  ('Michael', 'Valley 345'),\n",
    "  ('Sandy', 'Ocean blvd 2'),\n",
    "  ('Betty', 'Green Grass 1'),\n",
    "  ('Richard', 'Sky st 331'),\n",
    "  ('Susan', 'One way 98'),\n",
    "  ('Vicky', 'Yellow Garden 2'),\n",
    "  ('Ben', 'Park Lane 38'),\n",
    "  ('William', 'Central st 954'),\n",
    "  ('Chuck', 'Main Road 989'),\n",
    "  ('Viola', 'Sideway 1633')\n",
    "]\n",
    "\n",
    "mycursor.executemany(sql, val)\n",
    "\n",
    "mydb.commit()\n",
    "\n",
    "print(mycursor.rowcount, \"was inserted.\")"
   ]
  },
  {
   "cell_type": "code",
   "execution_count": 18,
   "id": "aa962432",
   "metadata": {
    "ExecuteTime": {
     "end_time": "2021-07-30T14:17:53.050251Z",
     "start_time": "2021-07-30T14:17:52.960909Z"
    }
   },
   "outputs": [
    {
     "name": "stdout",
     "output_type": "stream",
     "text": [
      "1 record inserted, ID: 15\n"
     ]
    }
   ],
   "source": [
    "sql = \"INSERT INTO customers (name, address) VALUES (%s, %s)\"\n",
    "val = (\"Michelle\", \"Blue Village\")\n",
    "mycursor.execute(sql, val)\n",
    "\n",
    "mydb.commit()\n",
    "\n",
    "print(\"1 record inserted, ID:\", mycursor.lastrowid)"
   ]
  },
  {
   "cell_type": "code",
   "execution_count": 19,
   "id": "2b03bda4",
   "metadata": {
    "ExecuteTime": {
     "end_time": "2021-07-30T14:18:20.204952Z",
     "start_time": "2021-07-30T14:18:20.192351Z"
    }
   },
   "outputs": [
    {
     "name": "stdout",
     "output_type": "stream",
     "text": [
      "('John', 'Highway 21', 1)\n",
      "('Peter', 'Lowstreet 4', 2)\n",
      "('Amy', 'Apple st 652', 3)\n",
      "('Hannah', 'Mountain 21', 4)\n",
      "('Michael', 'Valley 345', 5)\n",
      "('Sandy', 'Ocean blvd 2', 6)\n",
      "('Betty', 'Green Grass 1', 7)\n",
      "('Richard', 'Sky st 331', 8)\n",
      "('Susan', 'One way 98', 9)\n",
      "('Vicky', 'Yellow Garden 2', 10)\n",
      "('Ben', 'Park Lane 38', 11)\n",
      "('William', 'Central st 954', 12)\n",
      "('Chuck', 'Main Road 989', 13)\n",
      "('Viola', 'Sideway 1633', 14)\n",
      "('Michelle', 'Blue Village', 15)\n"
     ]
    }
   ],
   "source": [
    "mycursor.execute(\"SELECT * FROM customers\")\n",
    "myresult = mycursor.fetchall()\n",
    "for x in myresult:\n",
    "    print(x)"
   ]
  },
  {
   "cell_type": "code",
   "execution_count": 20,
   "id": "f6eca375",
   "metadata": {
    "ExecuteTime": {
     "end_time": "2021-07-30T14:18:47.540176Z",
     "start_time": "2021-07-30T14:18:47.526345Z"
    }
   },
   "outputs": [
    {
     "name": "stdout",
     "output_type": "stream",
     "text": [
      "('John', 'Highway 21')\n",
      "('Peter', 'Lowstreet 4')\n",
      "('Amy', 'Apple st 652')\n",
      "('Hannah', 'Mountain 21')\n",
      "('Michael', 'Valley 345')\n",
      "('Sandy', 'Ocean blvd 2')\n",
      "('Betty', 'Green Grass 1')\n",
      "('Richard', 'Sky st 331')\n",
      "('Susan', 'One way 98')\n",
      "('Vicky', 'Yellow Garden 2')\n",
      "('Ben', 'Park Lane 38')\n",
      "('William', 'Central st 954')\n",
      "('Chuck', 'Main Road 989')\n",
      "('Viola', 'Sideway 1633')\n",
      "('Michelle', 'Blue Village')\n"
     ]
    }
   ],
   "source": [
    "mycursor.execute(\"SELECT name, address FROM customers\")\n",
    "myresult = mycursor.fetchall()\n",
    "for x in myresult:\n",
    "      print(x)"
   ]
  },
  {
   "cell_type": "code",
   "execution_count": 28,
   "id": "b5bda092",
   "metadata": {
    "ExecuteTime": {
     "end_time": "2021-07-30T14:24:32.251376Z",
     "start_time": "2021-07-30T14:24:32.243658Z"
    }
   },
   "outputs": [
    {
     "name": "stdout",
     "output_type": "stream",
     "text": [
      "('John', 'Highway 21', 1)\n"
     ]
    }
   ],
   "source": [
    "mycursor.execute(\"SELECT * FROM customers\")\n",
    "myresult = mycursor.fetchone()\n",
    "print(myresult)"
   ]
  },
  {
   "cell_type": "code",
   "execution_count": 31,
   "id": "000802e1",
   "metadata": {
    "ExecuteTime": {
     "end_time": "2021-07-30T14:24:57.852461Z",
     "start_time": "2021-07-30T14:24:57.843609Z"
    }
   },
   "outputs": [
    {
     "name": "stdout",
     "output_type": "stream",
     "text": [
      "('Ben', 'Park Lane 38', 11)\n"
     ]
    }
   ],
   "source": [
    "mycursor = mydb.cursor()\n",
    "sql = \"SELECT * FROM customers WHERE address ='Park Lane 38'\"\n",
    "mycursor.execute(sql)\n",
    "myresult = mycursor.fetchall()\n",
    "for x in myresult:\n",
    "    print(x)"
   ]
  },
  {
   "cell_type": "code",
   "execution_count": 32,
   "id": "790933d1",
   "metadata": {
    "ExecuteTime": {
     "end_time": "2021-07-30T14:25:33.868375Z",
     "start_time": "2021-07-30T14:25:33.844780Z"
    }
   },
   "outputs": [
    {
     "name": "stdout",
     "output_type": "stream",
     "text": [
      "('John', 'Highway 21', 1)\n",
      "('Susan', 'One way 98', 9)\n",
      "('Viola', 'Sideway 1633', 14)\n"
     ]
    }
   ],
   "source": [
    "mydb = mysql.connector.connect(\n",
    "  host=\"localhost\",\n",
    "  user=\"root\",\n",
    "  password=\"root\",\n",
    "  database=\"mydatabase\"\n",
    ")\n",
    "\n",
    "mycursor = mydb.cursor()\n",
    "\n",
    "sql = \"SELECT * FROM customers WHERE address LIKE '%way%'\"\n",
    "\n",
    "mycursor.execute(sql)\n",
    "\n",
    "myresult = mycursor.fetchall()\n",
    "\n",
    "for x in myresult:\n",
    "    print(x)"
   ]
  },
  {
   "cell_type": "code",
   "execution_count": 33,
   "id": "d8950a20",
   "metadata": {
    "ExecuteTime": {
     "end_time": "2021-07-30T14:26:04.189928Z",
     "start_time": "2021-07-30T14:26:04.181148Z"
    }
   },
   "outputs": [
    {
     "name": "stdout",
     "output_type": "stream",
     "text": [
      "('Vicky', 'Yellow Garden 2', 10)\n"
     ]
    }
   ],
   "source": [
    "mycursor = mydb.cursor()\n",
    "\n",
    "sql = \"SELECT * FROM customers WHERE address = %s\"\n",
    "adr = (\"Yellow Garden 2\", )\n",
    "\n",
    "mycursor.execute(sql, adr)\n",
    "myresult = mycursor.fetchall()\n",
    "for x in myresult:\n",
    "    print(x)"
   ]
  },
  {
   "cell_type": "code",
   "execution_count": 34,
   "id": "306a9845",
   "metadata": {
    "ExecuteTime": {
     "end_time": "2021-07-30T14:26:46.073040Z",
     "start_time": "2021-07-30T14:26:45.987354Z"
    }
   },
   "outputs": [
    {
     "name": "stdout",
     "output_type": "stream",
     "text": [
      "1 record(s) deleted\n"
     ]
    }
   ],
   "source": [
    "mycursor = mydb.cursor()\n",
    "sql = \"DELETE FROM customers WHERE address = 'Mountain 21'\"\n",
    "mycursor.execute(sql)\n",
    "mydb.commit()\n",
    "print(mycursor.rowcount, \"record(s) deleted\")"
   ]
  },
  {
   "cell_type": "code",
   "execution_count": 35,
   "id": "5727d7aa",
   "metadata": {
    "ExecuteTime": {
     "end_time": "2021-07-30T14:27:05.345968Z",
     "start_time": "2021-07-30T14:27:05.230932Z"
    }
   },
   "outputs": [
    {
     "name": "stdout",
     "output_type": "stream",
     "text": [
      "1 record(s) deleted\n"
     ]
    }
   ],
   "source": [
    "mycursor = mydb.cursor()\n",
    "sql = \"DELETE FROM customers WHERE address = %s\"\n",
    "adr = (\"Yellow Garden 2\", )\n",
    "mycursor.execute(sql, adr)\n",
    "mydb.commit()\n",
    "print(mycursor.rowcount, \"record(s) deleted\")"
   ]
  },
  {
   "cell_type": "code",
   "execution_count": 36,
   "id": "888635c7",
   "metadata": {
    "ExecuteTime": {
     "end_time": "2021-07-30T14:27:43.485601Z",
     "start_time": "2021-07-30T14:27:43.246357Z"
    }
   },
   "outputs": [
    {
     "name": "stdout",
     "output_type": "stream",
     "text": [
      "1 record(s) affected\n"
     ]
    }
   ],
   "source": [
    "mycursor = mydb.cursor()\n",
    "sql = \"UPDATE customers SET address = 'Canyon 123' WHERE address = 'Valley 345'\"\n",
    "mycursor.execute(sql)\n",
    "mydb.commit()\n",
    "print(mycursor.rowcount, \"record(s) affected\")"
   ]
  },
  {
   "cell_type": "code",
   "execution_count": 37,
   "id": "9391f949",
   "metadata": {
    "ExecuteTime": {
     "end_time": "2021-07-30T14:28:06.916587Z",
     "start_time": "2021-07-30T14:28:06.838999Z"
    }
   },
   "outputs": [
    {
     "name": "stdout",
     "output_type": "stream",
     "text": [
      "1 record(s) affected\n"
     ]
    }
   ],
   "source": [
    "mycursor = mydb.cursor()\n",
    "sql = \"UPDATE customers SET address = %s WHERE address = %s\"\n",
    "val = (\"Valley 345\", \"Canyon 123\")\n",
    "mycursor.execute(sql, val)\n",
    "mydb.commit()\n",
    "print(mycursor.rowcount, \"record(s) affected\")"
   ]
  },
  {
   "cell_type": "code",
   "execution_count": 38,
   "id": "1fd74c14",
   "metadata": {
    "ExecuteTime": {
     "end_time": "2021-07-30T14:28:26.839084Z",
     "start_time": "2021-07-30T14:28:26.829260Z"
    }
   },
   "outputs": [
    {
     "name": "stdout",
     "output_type": "stream",
     "text": [
      "('John', 'Highway 21', 1)\n",
      "('Peter', 'Lowstreet 4', 2)\n",
      "('Amy', 'Apple st 652', 3)\n",
      "('Michael', 'Valley 345', 5)\n",
      "('Sandy', 'Ocean blvd 2', 6)\n"
     ]
    }
   ],
   "source": [
    "mycursor = mydb.cursor()\n",
    "mycursor.execute(\"SELECT * FROM customers LIMIT 5\")\n",
    "myresult = mycursor.fetchall()\n",
    "for x in myresult:\n",
    "    print(x)"
   ]
  },
  {
   "cell_type": "code",
   "execution_count": 39,
   "id": "e6e6e505",
   "metadata": {
    "ExecuteTime": {
     "end_time": "2021-07-30T14:28:48.963422Z",
     "start_time": "2021-07-30T14:28:48.954578Z"
    }
   },
   "outputs": [
    {
     "name": "stdout",
     "output_type": "stream",
     "text": [
      "('Amy', 'Apple st 652', 3)\n",
      "('Michael', 'Valley 345', 5)\n",
      "('Sandy', 'Ocean blvd 2', 6)\n",
      "('Betty', 'Green Grass 1', 7)\n",
      "('Richard', 'Sky st 331', 8)\n"
     ]
    }
   ],
   "source": [
    "# Start from position 3, and return 5 records:\n",
    "mycursor = mydb.cursor()\n",
    "mycursor.execute(\"SELECT * FROM customers LIMIT 5 OFFSET 2\")\n",
    "myresult = mycursor.fetchall()\n",
    "for x in myresult:\n",
    "    print(x)"
   ]
  },
  {
   "cell_type": "code",
   "execution_count": 117,
   "id": "539f22a9",
   "metadata": {
    "ExecuteTime": {
     "end_time": "2021-07-30T15:48:14.244061Z",
     "start_time": "2021-07-30T15:48:14.060364Z"
    }
   },
   "outputs": [],
   "source": [
    "def json_insert(table,myDictArr,cursor):\n",
    "    for myDict in myDictArr:\n",
    "        placeholders = ', '.join(['%s'] * len(myDict))\n",
    "        columns = ', '.join(myDict.keys())\n",
    "        sql = \"INSERT INTO %s ( %s ) VALUES ( %s )\" % (table, columns, placeholders)\n",
    "        cursor.execute(sql,list(myDict.values()))\n",
    "mydb.commit()"
   ]
  },
  {
   "cell_type": "code",
   "execution_count": 50,
   "id": "4b18eeaa",
   "metadata": {
    "ExecuteTime": {
     "end_time": "2021-07-30T14:50:24.836367Z",
     "start_time": "2021-07-30T14:50:24.773992Z"
    }
   },
   "outputs": [],
   "source": [
    "mycursor.execute(\"CREATE TABLE if not exists users (id INT AUTO_INCREMENT PRIMARY KEY, name VARCHAR(255), fav int(255))\")"
   ]
  },
  {
   "cell_type": "code",
   "execution_count": 115,
   "id": "91efa423",
   "metadata": {
    "ExecuteTime": {
     "end_time": "2021-07-30T15:47:00.825272Z",
     "start_time": "2021-07-30T15:47:00.815792Z"
    }
   },
   "outputs": [],
   "source": [
    "mycursor = mydb.cursor()\n",
    "userDict = [{ 'id': 1, 'name': 'John', 'fav': 154},\n",
    "            { 'id': 2, 'name': 'Peter', 'fav': 154},\n",
    "            { 'id': 3, 'name': 'Amy', 'fav': 155},\n",
    "            { 'id': 4, 'name': 'Hannah', 'fav':165},\n",
    "            { 'id': 5, 'name': 'Michael', 'fav':147}]\n",
    "json_insert('users',userDict,mycursor)"
   ]
  },
  {
   "cell_type": "code",
   "execution_count": 42,
   "id": "25877079",
   "metadata": {
    "ExecuteTime": {
     "end_time": "2021-07-30T14:36:04.440721Z",
     "start_time": "2021-07-30T14:36:03.085028Z"
    }
   },
   "outputs": [],
   "source": [
    "mycursor.execute(\"CREATE TABLE if not exists products (id int(225), name VARCHAR(255) )\")"
   ]
  },
  {
   "cell_type": "code",
   "execution_count": 116,
   "id": "0cc3c452",
   "metadata": {
    "ExecuteTime": {
     "end_time": "2021-07-30T15:47:18.506564Z",
     "start_time": "2021-07-30T15:47:18.496756Z"
    }
   },
   "outputs": [],
   "source": [
    "prodDict = [{ 'id': 154, 'name': 'Chocolate Heaven' },\n",
    "{ 'id': 155, 'name': 'Tasty Lemons' },\n",
    "{ 'id': 156, 'name': 'Vanilla Dreams' }]\n",
    "json_insert('products',prodDict,mycursor)"
   ]
  },
  {
   "cell_type": "code",
   "execution_count": null,
   "id": "aea76229",
   "metadata": {},
   "outputs": [],
   "source": []
  }
 ],
 "metadata": {
  "kernelspec": {
   "display_name": "Python 3",
   "language": "python",
   "name": "python3"
  },
  "language_info": {
   "codemirror_mode": {
    "name": "ipython",
    "version": 3
   },
   "file_extension": ".py",
   "mimetype": "text/x-python",
   "name": "python",
   "nbconvert_exporter": "python",
   "pygments_lexer": "ipython3",
   "version": "3.8.10"
  },
  "latex_envs": {
   "LaTeX_envs_menu_present": true,
   "autoclose": false,
   "autocomplete": true,
   "bibliofile": "biblio.bib",
   "cite_by": "apalike",
   "current_citInitial": 1,
   "eqLabelWithNumbers": true,
   "eqNumInitial": 1,
   "hotkeys": {
    "equation": "Ctrl-E",
    "itemize": "Ctrl-I"
   },
   "labels_anchors": false,
   "latex_user_defs": false,
   "report_style_numbering": false,
   "user_envs_cfg": false
  },
  "varInspector": {
   "cols": {
    "lenName": 16,
    "lenType": 16,
    "lenVar": 40
   },
   "kernels_config": {
    "python": {
     "delete_cmd_postfix": "",
     "delete_cmd_prefix": "del ",
     "library": "var_list.py",
     "varRefreshCmd": "print(var_dic_list())"
    },
    "r": {
     "delete_cmd_postfix": ") ",
     "delete_cmd_prefix": "rm(",
     "library": "var_list.r",
     "varRefreshCmd": "cat(var_dic_list()) "
    }
   },
   "types_to_exclude": [
    "module",
    "function",
    "builtin_function_or_method",
    "instance",
    "_Feature"
   ],
   "window_display": false
  }
 },
 "nbformat": 4,
 "nbformat_minor": 5
}
