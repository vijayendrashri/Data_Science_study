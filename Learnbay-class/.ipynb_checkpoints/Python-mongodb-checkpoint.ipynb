{
 "cells": [
  {
   "cell_type": "code",
   "execution_count": 9,
   "id": "1cc4bdbb",
   "metadata": {
    "ExecuteTime": {
     "end_time": "2021-07-30T10:35:20.979772Z",
     "start_time": "2021-07-30T10:35:20.741147Z"
    }
   },
   "outputs": [],
   "source": [
    "import pymongo\n",
    "\n",
    "myclient = pymongo.MongoClient(\"mongodb://localhost:27017/\")\n",
    "\n",
    "mydb = myclient[\"mydatabase\"]\n",
    "\n",
    "mydict = { \"name\": \"John\", \"address\": \"Highway 37\" }\n",
    "\n",
    "x = mycol.insert_one(mydict)"
   ]
  },
  {
   "cell_type": "code",
   "execution_count": 10,
   "id": "e9839e85",
   "metadata": {
    "ExecuteTime": {
     "end_time": "2021-07-30T10:35:33.756345Z",
     "start_time": "2021-07-30T10:35:33.747667Z"
    }
   },
   "outputs": [
    {
     "name": "stdout",
     "output_type": "stream",
     "text": [
      "['admin', 'config', 'local', 'mydatabase']\n"
     ]
    }
   ],
   "source": [
    "print(myclient.list_database_names())"
   ]
  },
  {
   "cell_type": "code",
   "execution_count": 11,
   "id": "f411213a",
   "metadata": {
    "ExecuteTime": {
     "end_time": "2021-07-30T10:35:35.448850Z",
     "start_time": "2021-07-30T10:35:35.440010Z"
    }
   },
   "outputs": [
    {
     "name": "stdout",
     "output_type": "stream",
     "text": [
      "The database exists.\n"
     ]
    }
   ],
   "source": [
    "dblist = myclient.list_database_names()\n",
    "if \"mydatabase\" in dblist:\n",
    "  print(\"The database exists.\")"
   ]
  },
  {
   "cell_type": "code",
   "execution_count": 12,
   "id": "dd88b68c",
   "metadata": {
    "ExecuteTime": {
     "end_time": "2021-07-30T10:35:36.713403Z",
     "start_time": "2021-07-30T10:35:36.707745Z"
    }
   },
   "outputs": [],
   "source": [
    "mycol = mydb[\"customers\"]"
   ]
  },
  {
   "cell_type": "code",
   "execution_count": 13,
   "id": "b24d8cf8",
   "metadata": {
    "ExecuteTime": {
     "end_time": "2021-07-30T10:35:39.675857Z",
     "start_time": "2021-07-30T10:35:39.666504Z"
    }
   },
   "outputs": [
    {
     "name": "stdout",
     "output_type": "stream",
     "text": [
      "The collection exists.\n"
     ]
    }
   ],
   "source": [
    "collist = mydb.list_collection_names()\n",
    "if \"customers\" in collist:\n",
    "  print(\"The collection exists.\")"
   ]
  },
  {
   "cell_type": "code",
   "execution_count": 14,
   "id": "ce4992e9",
   "metadata": {
    "ExecuteTime": {
     "end_time": "2021-07-30T10:36:22.080025Z",
     "start_time": "2021-07-30T10:36:22.071737Z"
    }
   },
   "outputs": [
    {
     "name": "stdout",
     "output_type": "stream",
     "text": [
      "6103d626a14ffe07ebe4e98f\n"
     ]
    }
   ],
   "source": [
    "mydict = { \"name\": \"Peter\", \"address\": \"Lowstreet 27\" }\n",
    "\n",
    "x = mycol.insert_one(mydict)\n",
    "\n",
    "print(x.inserted_id)"
   ]
  },
  {
   "cell_type": "code",
   "execution_count": 15,
   "id": "9caf1bd7",
   "metadata": {
    "ExecuteTime": {
     "end_time": "2021-07-30T10:37:09.674639Z",
     "start_time": "2021-07-30T10:37:09.661950Z"
    }
   },
   "outputs": [
    {
     "name": "stdout",
     "output_type": "stream",
     "text": [
      "[ObjectId('6103d655a14ffe07ebe4e990'), ObjectId('6103d655a14ffe07ebe4e991'), ObjectId('6103d655a14ffe07ebe4e992'), ObjectId('6103d655a14ffe07ebe4e993'), ObjectId('6103d655a14ffe07ebe4e994'), ObjectId('6103d655a14ffe07ebe4e995'), ObjectId('6103d655a14ffe07ebe4e996'), ObjectId('6103d655a14ffe07ebe4e997'), ObjectId('6103d655a14ffe07ebe4e998'), ObjectId('6103d655a14ffe07ebe4e999'), ObjectId('6103d655a14ffe07ebe4e99a'), ObjectId('6103d655a14ffe07ebe4e99b')]\n"
     ]
    }
   ],
   "source": [
    "\n",
    "mylist = [\n",
    "  { \"name\": \"Amy\", \"address\": \"Apple st 652\"},\n",
    "  { \"name\": \"Hannah\", \"address\": \"Mountain 21\"},\n",
    "  { \"name\": \"Michael\", \"address\": \"Valley 345\"},\n",
    "  { \"name\": \"Sandy\", \"address\": \"Ocean blvd 2\"},\n",
    "  { \"name\": \"Betty\", \"address\": \"Green Grass 1\"},\n",
    "  { \"name\": \"Richard\", \"address\": \"Sky st 331\"},\n",
    "  { \"name\": \"Susan\", \"address\": \"One way 98\"},\n",
    "  { \"name\": \"Vicky\", \"address\": \"Yellow Garden 2\"},\n",
    "  { \"name\": \"Ben\", \"address\": \"Park Lane 38\"},\n",
    "  { \"name\": \"William\", \"address\": \"Central st 954\"},\n",
    "  { \"name\": \"Chuck\", \"address\": \"Main Road 989\"},\n",
    "  { \"name\": \"Viola\", \"address\": \"Sideway 1633\"}\n",
    "]\n",
    "\n",
    "x = mycol.insert_many(mylist)\n",
    "\n",
    "#print list of the _id values of the inserted documents:\n",
    "print(x.inserted_ids)"
   ]
  },
  {
   "cell_type": "code",
   "execution_count": 16,
   "id": "2f28cccf",
   "metadata": {
    "ExecuteTime": {
     "end_time": "2021-07-30T10:38:21.390375Z",
     "start_time": "2021-07-30T10:38:21.365993Z"
    }
   },
   "outputs": [
    {
     "name": "stdout",
     "output_type": "stream",
     "text": [
      "[1, 2, 3, 4, 5, 6, 7, 8, 9, 10, 11, 12, 13, 14]\n"
     ]
    }
   ],
   "source": [
    "\n",
    "mylist = [\n",
    "  { \"_id\": 1, \"name\": \"John\", \"address\": \"Highway 37\"},\n",
    "  { \"_id\": 2, \"name\": \"Peter\", \"address\": \"Lowstreet 27\"},\n",
    "  { \"_id\": 3, \"name\": \"Amy\", \"address\": \"Apple st 652\"},\n",
    "  { \"_id\": 4, \"name\": \"Hannah\", \"address\": \"Mountain 21\"},\n",
    "  { \"_id\": 5, \"name\": \"Michael\", \"address\": \"Valley 345\"},\n",
    "  { \"_id\": 6, \"name\": \"Sandy\", \"address\": \"Ocean blvd 2\"},\n",
    "  { \"_id\": 7, \"name\": \"Betty\", \"address\": \"Green Grass 1\"},\n",
    "  { \"_id\": 8, \"name\": \"Richard\", \"address\": \"Sky st 331\"},\n",
    "  { \"_id\": 9, \"name\": \"Susan\", \"address\": \"One way 98\"},\n",
    "  { \"_id\": 10, \"name\": \"Vicky\", \"address\": \"Yellow Garden 2\"},\n",
    "  { \"_id\": 11, \"name\": \"Ben\", \"address\": \"Park Lane 38\"},\n",
    "  { \"_id\": 12, \"name\": \"William\", \"address\": \"Central st 954\"},\n",
    "  { \"_id\": 13, \"name\": \"Chuck\", \"address\": \"Main Road 989\"},\n",
    "  { \"_id\": 14, \"name\": \"Viola\", \"address\": \"Sideway 1633\"}\n",
    "]\n",
    "\n",
    "x = mycol.insert_many(mylist)\n",
    "\n",
    "#print list of the _id values of the inserted documents:\n",
    "print(x.inserted_ids)"
   ]
  },
  {
   "cell_type": "code",
   "execution_count": 17,
   "id": "cb462345",
   "metadata": {
    "ExecuteTime": {
     "end_time": "2021-07-30T10:39:17.985435Z",
     "start_time": "2021-07-30T10:39:17.976710Z"
    }
   },
   "outputs": [
    {
     "name": "stdout",
     "output_type": "stream",
     "text": [
      "{'_id': ObjectId('6103d5e8a14ffe07ebe4e98e'), 'name': 'John', 'address': 'Highway 37'}\n"
     ]
    }
   ],
   "source": [
    "x = mycol.find_one()\n",
    "print(x)"
   ]
  },
  {
   "cell_type": "code",
   "execution_count": 18,
   "id": "5be1234f",
   "metadata": {
    "ExecuteTime": {
     "end_time": "2021-07-30T10:39:59.099221Z",
     "start_time": "2021-07-30T10:39:59.085746Z"
    }
   },
   "outputs": [
    {
     "name": "stdout",
     "output_type": "stream",
     "text": [
      "{'_id': ObjectId('6103d5e8a14ffe07ebe4e98e'), 'name': 'John', 'address': 'Highway 37'}\n",
      "{'_id': ObjectId('6103d626a14ffe07ebe4e98f'), 'name': 'Peter', 'address': 'Lowstreet 27'}\n",
      "{'_id': ObjectId('6103d655a14ffe07ebe4e990'), 'name': 'Amy', 'address': 'Apple st 652'}\n",
      "{'_id': ObjectId('6103d655a14ffe07ebe4e991'), 'name': 'Hannah', 'address': 'Mountain 21'}\n",
      "{'_id': ObjectId('6103d655a14ffe07ebe4e992'), 'name': 'Michael', 'address': 'Valley 345'}\n",
      "{'_id': ObjectId('6103d655a14ffe07ebe4e993'), 'name': 'Sandy', 'address': 'Ocean blvd 2'}\n",
      "{'_id': ObjectId('6103d655a14ffe07ebe4e994'), 'name': 'Betty', 'address': 'Green Grass 1'}\n",
      "{'_id': ObjectId('6103d655a14ffe07ebe4e995'), 'name': 'Richard', 'address': 'Sky st 331'}\n",
      "{'_id': ObjectId('6103d655a14ffe07ebe4e996'), 'name': 'Susan', 'address': 'One way 98'}\n",
      "{'_id': ObjectId('6103d655a14ffe07ebe4e997'), 'name': 'Vicky', 'address': 'Yellow Garden 2'}\n",
      "{'_id': ObjectId('6103d655a14ffe07ebe4e998'), 'name': 'Ben', 'address': 'Park Lane 38'}\n",
      "{'_id': ObjectId('6103d655a14ffe07ebe4e999'), 'name': 'William', 'address': 'Central st 954'}\n",
      "{'_id': ObjectId('6103d655a14ffe07ebe4e99a'), 'name': 'Chuck', 'address': 'Main Road 989'}\n",
      "{'_id': ObjectId('6103d655a14ffe07ebe4e99b'), 'name': 'Viola', 'address': 'Sideway 1633'}\n",
      "{'_id': 1, 'name': 'John', 'address': 'Highway 37'}\n",
      "{'_id': 2, 'name': 'Peter', 'address': 'Lowstreet 27'}\n",
      "{'_id': 3, 'name': 'Amy', 'address': 'Apple st 652'}\n",
      "{'_id': 4, 'name': 'Hannah', 'address': 'Mountain 21'}\n",
      "{'_id': 5, 'name': 'Michael', 'address': 'Valley 345'}\n",
      "{'_id': 6, 'name': 'Sandy', 'address': 'Ocean blvd 2'}\n",
      "{'_id': 7, 'name': 'Betty', 'address': 'Green Grass 1'}\n",
      "{'_id': 8, 'name': 'Richard', 'address': 'Sky st 331'}\n",
      "{'_id': 9, 'name': 'Susan', 'address': 'One way 98'}\n",
      "{'_id': 10, 'name': 'Vicky', 'address': 'Yellow Garden 2'}\n",
      "{'_id': 11, 'name': 'Ben', 'address': 'Park Lane 38'}\n",
      "{'_id': 12, 'name': 'William', 'address': 'Central st 954'}\n",
      "{'_id': 13, 'name': 'Chuck', 'address': 'Main Road 989'}\n",
      "{'_id': 14, 'name': 'Viola', 'address': 'Sideway 1633'}\n"
     ]
    }
   ],
   "source": [
    "for x in mycol.find():\n",
    "    print(x)"
   ]
  },
  {
   "cell_type": "code",
   "execution_count": 20,
   "id": "36db66e5",
   "metadata": {
    "ExecuteTime": {
     "end_time": "2021-07-30T10:40:46.751436Z",
     "start_time": "2021-07-30T10:40:46.737258Z"
    }
   },
   "outputs": [
    {
     "name": "stdout",
     "output_type": "stream",
     "text": [
      "{'name': 'John', 'address': 'Highway 37'}\n",
      "{'name': 'Peter', 'address': 'Lowstreet 27'}\n",
      "{'name': 'Amy', 'address': 'Apple st 652'}\n",
      "{'name': 'Hannah', 'address': 'Mountain 21'}\n",
      "{'name': 'Michael', 'address': 'Valley 345'}\n",
      "{'name': 'Sandy', 'address': 'Ocean blvd 2'}\n",
      "{'name': 'Betty', 'address': 'Green Grass 1'}\n",
      "{'name': 'Richard', 'address': 'Sky st 331'}\n",
      "{'name': 'Susan', 'address': 'One way 98'}\n",
      "{'name': 'Vicky', 'address': 'Yellow Garden 2'}\n",
      "{'name': 'Ben', 'address': 'Park Lane 38'}\n",
      "{'name': 'William', 'address': 'Central st 954'}\n",
      "{'name': 'Chuck', 'address': 'Main Road 989'}\n",
      "{'name': 'Viola', 'address': 'Sideway 1633'}\n",
      "{'name': 'John', 'address': 'Highway 37'}\n",
      "{'name': 'Peter', 'address': 'Lowstreet 27'}\n",
      "{'name': 'Amy', 'address': 'Apple st 652'}\n",
      "{'name': 'Hannah', 'address': 'Mountain 21'}\n",
      "{'name': 'Michael', 'address': 'Valley 345'}\n",
      "{'name': 'Sandy', 'address': 'Ocean blvd 2'}\n",
      "{'name': 'Betty', 'address': 'Green Grass 1'}\n",
      "{'name': 'Richard', 'address': 'Sky st 331'}\n",
      "{'name': 'Susan', 'address': 'One way 98'}\n",
      "{'name': 'Vicky', 'address': 'Yellow Garden 2'}\n",
      "{'name': 'Ben', 'address': 'Park Lane 38'}\n",
      "{'name': 'William', 'address': 'Central st 954'}\n",
      "{'name': 'Chuck', 'address': 'Main Road 989'}\n",
      "{'name': 'Viola', 'address': 'Sideway 1633'}\n"
     ]
    }
   ],
   "source": [
    "for x in mycol.find({},{ \"_id\": 0, \"name\": 1, \"address\": 1 }):\n",
    "    print(x)"
   ]
  },
  {
   "cell_type": "code",
   "execution_count": 24,
   "id": "4f477424",
   "metadata": {
    "ExecuteTime": {
     "end_time": "2021-07-30T10:43:10.452475Z",
     "start_time": "2021-07-30T10:43:10.438879Z"
    }
   },
   "outputs": [
    {
     "name": "stdout",
     "output_type": "stream",
     "text": [
      "{'_id': ObjectId('6103d5e8a14ffe07ebe4e98e'), 'address': 'Highway 37'}\n",
      "{'_id': ObjectId('6103d626a14ffe07ebe4e98f'), 'address': 'Lowstreet 27'}\n",
      "{'_id': ObjectId('6103d655a14ffe07ebe4e990'), 'address': 'Apple st 652'}\n",
      "{'_id': ObjectId('6103d655a14ffe07ebe4e991'), 'address': 'Mountain 21'}\n",
      "{'_id': ObjectId('6103d655a14ffe07ebe4e992'), 'address': 'Valley 345'}\n",
      "{'_id': ObjectId('6103d655a14ffe07ebe4e993'), 'address': 'Ocean blvd 2'}\n",
      "{'_id': ObjectId('6103d655a14ffe07ebe4e994'), 'address': 'Green Grass 1'}\n",
      "{'_id': ObjectId('6103d655a14ffe07ebe4e995'), 'address': 'Sky st 331'}\n",
      "{'_id': ObjectId('6103d655a14ffe07ebe4e996'), 'address': 'One way 98'}\n",
      "{'_id': ObjectId('6103d655a14ffe07ebe4e997'), 'address': 'Yellow Garden 2'}\n",
      "{'_id': ObjectId('6103d655a14ffe07ebe4e998'), 'address': 'Park Lane 38'}\n",
      "{'_id': ObjectId('6103d655a14ffe07ebe4e999'), 'address': 'Central st 954'}\n",
      "{'_id': ObjectId('6103d655a14ffe07ebe4e99a'), 'address': 'Main Road 989'}\n",
      "{'_id': ObjectId('6103d655a14ffe07ebe4e99b'), 'address': 'Sideway 1633'}\n",
      "{'_id': 1, 'address': 'Highway 37'}\n",
      "{'_id': 2, 'address': 'Lowstreet 27'}\n",
      "{'_id': 3, 'address': 'Apple st 652'}\n",
      "{'_id': 4, 'address': 'Mountain 21'}\n",
      "{'_id': 5, 'address': 'Valley 345'}\n",
      "{'_id': 6, 'address': 'Ocean blvd 2'}\n",
      "{'_id': 7, 'address': 'Green Grass 1'}\n",
      "{'_id': 8, 'address': 'Sky st 331'}\n",
      "{'_id': 9, 'address': 'One way 98'}\n",
      "{'_id': 10, 'address': 'Yellow Garden 2'}\n",
      "{'_id': 11, 'address': 'Park Lane 38'}\n",
      "{'_id': 12, 'address': 'Central st 954'}\n",
      "{'_id': 13, 'address': 'Main Road 989'}\n",
      "{'_id': 14, 'address': 'Sideway 1633'}\n"
     ]
    }
   ],
   "source": [
    "for x in mycol.find({},{ \"address\": 1 }):\n",
    "  print(x)"
   ]
  },
  {
   "cell_type": "code",
   "execution_count": 25,
   "id": "4c6bf368",
   "metadata": {
    "ExecuteTime": {
     "end_time": "2021-07-30T10:43:53.974612Z",
     "start_time": "2021-07-30T10:43:53.965392Z"
    }
   },
   "outputs": [
    {
     "name": "stdout",
     "output_type": "stream",
     "text": [
      "{'_id': ObjectId('6103d655a14ffe07ebe4e998'), 'name': 'Ben', 'address': 'Park Lane 38'}\n",
      "{'_id': 11, 'name': 'Ben', 'address': 'Park Lane 38'}\n"
     ]
    }
   ],
   "source": [
    "myquery = { \"address\": \"Park Lane 38\" }\n",
    "\n",
    "mydoc = mycol.find(myquery)\n",
    "\n",
    "for x in mydoc:\n",
    "  print(x)"
   ]
  },
  {
   "cell_type": "code",
   "execution_count": 26,
   "id": "15be8435",
   "metadata": {
    "ExecuteTime": {
     "end_time": "2021-07-30T10:44:28.806416Z",
     "start_time": "2021-07-30T10:44:28.793658Z"
    }
   },
   "outputs": [
    {
     "name": "stdout",
     "output_type": "stream",
     "text": [
      "{'_id': ObjectId('6103d655a14ffe07ebe4e992'), 'name': 'Michael', 'address': 'Valley 345'}\n",
      "{'_id': ObjectId('6103d655a14ffe07ebe4e995'), 'name': 'Richard', 'address': 'Sky st 331'}\n",
      "{'_id': ObjectId('6103d655a14ffe07ebe4e997'), 'name': 'Vicky', 'address': 'Yellow Garden 2'}\n",
      "{'_id': ObjectId('6103d655a14ffe07ebe4e99b'), 'name': 'Viola', 'address': 'Sideway 1633'}\n",
      "{'_id': 5, 'name': 'Michael', 'address': 'Valley 345'}\n",
      "{'_id': 8, 'name': 'Richard', 'address': 'Sky st 331'}\n",
      "{'_id': 10, 'name': 'Vicky', 'address': 'Yellow Garden 2'}\n",
      "{'_id': 14, 'name': 'Viola', 'address': 'Sideway 1633'}\n"
     ]
    }
   ],
   "source": [
    "myquery = { \"address\": { \"$gt\": \"S\" } }\n",
    "\n",
    "mydoc = mycol.find(myquery)\n",
    "\n",
    "for x in mydoc:\n",
    "  print(x)"
   ]
  },
  {
   "cell_type": "code",
   "execution_count": 27,
   "id": "8ba79eb8",
   "metadata": {
    "ExecuteTime": {
     "end_time": "2021-07-30T10:44:57.275596Z",
     "start_time": "2021-07-30T10:44:57.263703Z"
    }
   },
   "outputs": [
    {
     "name": "stdout",
     "output_type": "stream",
     "text": [
      "{'_id': ObjectId('6103d655a14ffe07ebe4e995'), 'name': 'Richard', 'address': 'Sky st 331'}\n",
      "{'_id': ObjectId('6103d655a14ffe07ebe4e99b'), 'name': 'Viola', 'address': 'Sideway 1633'}\n",
      "{'_id': 8, 'name': 'Richard', 'address': 'Sky st 331'}\n",
      "{'_id': 14, 'name': 'Viola', 'address': 'Sideway 1633'}\n"
     ]
    }
   ],
   "source": [
    "myquery = { \"address\": { \"$regex\": \"^S\" } }\n",
    "\n",
    "mydoc = mycol.find(myquery)\n",
    "\n",
    "for x in mydoc:\n",
    "  print(x)"
   ]
  },
  {
   "cell_type": "code",
   "execution_count": 28,
   "id": "9812fbe8",
   "metadata": {
    "ExecuteTime": {
     "end_time": "2021-07-30T10:45:16.929144Z",
     "start_time": "2021-07-30T10:45:16.908635Z"
    }
   },
   "outputs": [
    {
     "name": "stdout",
     "output_type": "stream",
     "text": [
      "{'_id': ObjectId('6103d655a14ffe07ebe4e990'), 'name': 'Amy', 'address': 'Apple st 652'}\n",
      "{'_id': 3, 'name': 'Amy', 'address': 'Apple st 652'}\n",
      "{'_id': ObjectId('6103d655a14ffe07ebe4e998'), 'name': 'Ben', 'address': 'Park Lane 38'}\n",
      "{'_id': 11, 'name': 'Ben', 'address': 'Park Lane 38'}\n",
      "{'_id': ObjectId('6103d655a14ffe07ebe4e994'), 'name': 'Betty', 'address': 'Green Grass 1'}\n",
      "{'_id': 7, 'name': 'Betty', 'address': 'Green Grass 1'}\n",
      "{'_id': ObjectId('6103d655a14ffe07ebe4e99a'), 'name': 'Chuck', 'address': 'Main Road 989'}\n",
      "{'_id': 13, 'name': 'Chuck', 'address': 'Main Road 989'}\n",
      "{'_id': ObjectId('6103d655a14ffe07ebe4e991'), 'name': 'Hannah', 'address': 'Mountain 21'}\n",
      "{'_id': 4, 'name': 'Hannah', 'address': 'Mountain 21'}\n",
      "{'_id': ObjectId('6103d5e8a14ffe07ebe4e98e'), 'name': 'John', 'address': 'Highway 37'}\n",
      "{'_id': 1, 'name': 'John', 'address': 'Highway 37'}\n",
      "{'_id': ObjectId('6103d655a14ffe07ebe4e992'), 'name': 'Michael', 'address': 'Valley 345'}\n",
      "{'_id': 5, 'name': 'Michael', 'address': 'Valley 345'}\n",
      "{'_id': ObjectId('6103d626a14ffe07ebe4e98f'), 'name': 'Peter', 'address': 'Lowstreet 27'}\n",
      "{'_id': 2, 'name': 'Peter', 'address': 'Lowstreet 27'}\n",
      "{'_id': ObjectId('6103d655a14ffe07ebe4e995'), 'name': 'Richard', 'address': 'Sky st 331'}\n",
      "{'_id': 8, 'name': 'Richard', 'address': 'Sky st 331'}\n",
      "{'_id': ObjectId('6103d655a14ffe07ebe4e993'), 'name': 'Sandy', 'address': 'Ocean blvd 2'}\n",
      "{'_id': 6, 'name': 'Sandy', 'address': 'Ocean blvd 2'}\n",
      "{'_id': ObjectId('6103d655a14ffe07ebe4e996'), 'name': 'Susan', 'address': 'One way 98'}\n",
      "{'_id': 9, 'name': 'Susan', 'address': 'One way 98'}\n",
      "{'_id': ObjectId('6103d655a14ffe07ebe4e997'), 'name': 'Vicky', 'address': 'Yellow Garden 2'}\n",
      "{'_id': 10, 'name': 'Vicky', 'address': 'Yellow Garden 2'}\n",
      "{'_id': ObjectId('6103d655a14ffe07ebe4e99b'), 'name': 'Viola', 'address': 'Sideway 1633'}\n",
      "{'_id': 14, 'name': 'Viola', 'address': 'Sideway 1633'}\n",
      "{'_id': ObjectId('6103d655a14ffe07ebe4e999'), 'name': 'William', 'address': 'Central st 954'}\n",
      "{'_id': 12, 'name': 'William', 'address': 'Central st 954'}\n"
     ]
    }
   ],
   "source": [
    "mydoc = mycol.find().sort(\"name\")\n",
    "\n",
    "for x in mydoc:\n",
    "  print(x)"
   ]
  },
  {
   "cell_type": "code",
   "execution_count": 29,
   "id": "065ceddf",
   "metadata": {
    "ExecuteTime": {
     "end_time": "2021-07-30T10:45:36.941446Z",
     "start_time": "2021-07-30T10:45:36.922899Z"
    }
   },
   "outputs": [
    {
     "name": "stdout",
     "output_type": "stream",
     "text": [
      "{'_id': ObjectId('6103d655a14ffe07ebe4e999'), 'name': 'William', 'address': 'Central st 954'}\n",
      "{'_id': 12, 'name': 'William', 'address': 'Central st 954'}\n",
      "{'_id': ObjectId('6103d655a14ffe07ebe4e99b'), 'name': 'Viola', 'address': 'Sideway 1633'}\n",
      "{'_id': 14, 'name': 'Viola', 'address': 'Sideway 1633'}\n",
      "{'_id': ObjectId('6103d655a14ffe07ebe4e997'), 'name': 'Vicky', 'address': 'Yellow Garden 2'}\n",
      "{'_id': 10, 'name': 'Vicky', 'address': 'Yellow Garden 2'}\n",
      "{'_id': ObjectId('6103d655a14ffe07ebe4e996'), 'name': 'Susan', 'address': 'One way 98'}\n",
      "{'_id': 9, 'name': 'Susan', 'address': 'One way 98'}\n",
      "{'_id': ObjectId('6103d655a14ffe07ebe4e993'), 'name': 'Sandy', 'address': 'Ocean blvd 2'}\n",
      "{'_id': 6, 'name': 'Sandy', 'address': 'Ocean blvd 2'}\n",
      "{'_id': ObjectId('6103d655a14ffe07ebe4e995'), 'name': 'Richard', 'address': 'Sky st 331'}\n",
      "{'_id': 8, 'name': 'Richard', 'address': 'Sky st 331'}\n",
      "{'_id': ObjectId('6103d626a14ffe07ebe4e98f'), 'name': 'Peter', 'address': 'Lowstreet 27'}\n",
      "{'_id': 2, 'name': 'Peter', 'address': 'Lowstreet 27'}\n",
      "{'_id': ObjectId('6103d655a14ffe07ebe4e992'), 'name': 'Michael', 'address': 'Valley 345'}\n",
      "{'_id': 5, 'name': 'Michael', 'address': 'Valley 345'}\n",
      "{'_id': ObjectId('6103d5e8a14ffe07ebe4e98e'), 'name': 'John', 'address': 'Highway 37'}\n",
      "{'_id': 1, 'name': 'John', 'address': 'Highway 37'}\n",
      "{'_id': ObjectId('6103d655a14ffe07ebe4e991'), 'name': 'Hannah', 'address': 'Mountain 21'}\n",
      "{'_id': 4, 'name': 'Hannah', 'address': 'Mountain 21'}\n",
      "{'_id': ObjectId('6103d655a14ffe07ebe4e99a'), 'name': 'Chuck', 'address': 'Main Road 989'}\n",
      "{'_id': 13, 'name': 'Chuck', 'address': 'Main Road 989'}\n",
      "{'_id': ObjectId('6103d655a14ffe07ebe4e994'), 'name': 'Betty', 'address': 'Green Grass 1'}\n",
      "{'_id': 7, 'name': 'Betty', 'address': 'Green Grass 1'}\n",
      "{'_id': ObjectId('6103d655a14ffe07ebe4e998'), 'name': 'Ben', 'address': 'Park Lane 38'}\n",
      "{'_id': 11, 'name': 'Ben', 'address': 'Park Lane 38'}\n",
      "{'_id': ObjectId('6103d655a14ffe07ebe4e990'), 'name': 'Amy', 'address': 'Apple st 652'}\n",
      "{'_id': 3, 'name': 'Amy', 'address': 'Apple st 652'}\n"
     ]
    }
   ],
   "source": [
    "mydoc = mycol.find().sort(\"name\", -1)\n",
    "\n",
    "for x in mydoc:\n",
    "  print(x)"
   ]
  },
  {
   "cell_type": "code",
   "execution_count": 30,
   "id": "8c3bd81f",
   "metadata": {
    "ExecuteTime": {
     "end_time": "2021-07-30T10:45:59.650535Z",
     "start_time": "2021-07-30T10:45:59.626865Z"
    }
   },
   "outputs": [
    {
     "data": {
      "text/plain": [
       "<pymongo.results.DeleteResult at 0x7fced752d1c0>"
      ]
     },
     "execution_count": 30,
     "metadata": {},
     "output_type": "execute_result"
    }
   ],
   "source": [
    "myquery = { \"address\": \"Mountain 21\" }\n",
    "\n",
    "mycol.delete_one(myquery)"
   ]
  },
  {
   "cell_type": "code",
   "execution_count": 31,
   "id": "6e3a8ebf",
   "metadata": {
    "ExecuteTime": {
     "end_time": "2021-07-30T10:46:23.890822Z",
     "start_time": "2021-07-30T10:46:23.880910Z"
    }
   },
   "outputs": [
    {
     "name": "stdout",
     "output_type": "stream",
     "text": [
      "4  documents deleted.\n"
     ]
    }
   ],
   "source": [
    "myquery = { \"address\": {\"$regex\": \"^S\"} }\n",
    "\n",
    "x = mycol.delete_many(myquery)\n",
    "\n",
    "print(x.deleted_count, \" documents deleted.\")"
   ]
  },
  {
   "cell_type": "code",
   "execution_count": 33,
   "id": "12cc8c62",
   "metadata": {
    "ExecuteTime": {
     "end_time": "2021-07-30T10:46:51.845765Z",
     "start_time": "2021-07-30T10:46:51.837023Z"
    }
   },
   "outputs": [
    {
     "name": "stdout",
     "output_type": "stream",
     "text": [
      "0  documents deleted.\n"
     ]
    }
   ],
   "source": [
    "x = mycol.delete_many({})\n",
    "\n",
    "print(x.deleted_count, \" documents deleted.\")"
   ]
  },
  {
   "cell_type": "code",
   "execution_count": 34,
   "id": "2d4d4849",
   "metadata": {
    "ExecuteTime": {
     "end_time": "2021-07-30T10:47:26.777450Z",
     "start_time": "2021-07-30T10:47:26.720897Z"
    }
   },
   "outputs": [],
   "source": [
    "mycol.drop()"
   ]
  },
  {
   "cell_type": "code",
   "execution_count": 35,
   "id": "7772d228",
   "metadata": {
    "ExecuteTime": {
     "end_time": "2021-07-30T10:48:27.698967Z",
     "start_time": "2021-07-30T10:48:27.691855Z"
    }
   },
   "outputs": [],
   "source": [
    "myquery = { \"address\": \"Valley 345\" }\n",
    "newvalues = { \"$set\": { \"address\": \"Canyon 123\" } }\n",
    "mycol.update_one(myquery, newvalues)\n",
    "#print \"customers\" after the update:\n",
    "for x in mycol.find():\n",
    "    print(x)"
   ]
  }
 ],
 "metadata": {
  "kernelspec": {
   "display_name": "Python 3",
   "language": "python",
   "name": "python3"
  },
  "language_info": {
   "codemirror_mode": {
    "name": "ipython",
    "version": 3
   },
   "file_extension": ".py",
   "mimetype": "text/x-python",
   "name": "python",
   "nbconvert_exporter": "python",
   "pygments_lexer": "ipython3",
   "version": "3.8.10"
  },
  "latex_envs": {
   "LaTeX_envs_menu_present": true,
   "autoclose": false,
   "autocomplete": true,
   "bibliofile": "biblio.bib",
   "cite_by": "apalike",
   "current_citInitial": 1,
   "eqLabelWithNumbers": true,
   "eqNumInitial": 1,
   "hotkeys": {
    "equation": "Ctrl-E",
    "itemize": "Ctrl-I"
   },
   "labels_anchors": false,
   "latex_user_defs": false,
   "report_style_numbering": false,
   "user_envs_cfg": false
  },
  "varInspector": {
   "cols": {
    "lenName": 16,
    "lenType": 16,
    "lenVar": 40
   },
   "kernels_config": {
    "python": {
     "delete_cmd_postfix": "",
     "delete_cmd_prefix": "del ",
     "library": "var_list.py",
     "varRefreshCmd": "print(var_dic_list())"
    },
    "r": {
     "delete_cmd_postfix": ") ",
     "delete_cmd_prefix": "rm(",
     "library": "var_list.r",
     "varRefreshCmd": "cat(var_dic_list()) "
    }
   },
   "types_to_exclude": [
    "module",
    "function",
    "builtin_function_or_method",
    "instance",
    "_Feature"
   ],
   "window_display": false
  }
 },
 "nbformat": 4,
 "nbformat_minor": 5
}
