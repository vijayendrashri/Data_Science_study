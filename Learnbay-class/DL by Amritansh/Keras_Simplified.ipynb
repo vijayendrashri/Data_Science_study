{
  "nbformat": 4,
  "nbformat_minor": 0,
  "metadata": {
    "colab": {
      "name": "Keras_Simplified.ipynb",
      "provenance": [],
      "collapsed_sections": []
    },
    "kernelspec": {
      "name": "python3",
      "display_name": "Python 3"
    },
    "accelerator": "GPU"
  },
  "cells": [
    {
      "cell_type": "markdown",
      "metadata": {
        "id": "83GhqtvLNFQO"
      },
      "source": [
        "# Keras\n",
        "\n",
        "Keras is a high-level neural networks API, written in Python and capable of running on top of TensorFlow, CNTK, or Theano. It was developed with a focus on enabling fast experimentation. Being able to go from idea to result with the least possible delay is key to doing good research.\n",
        "\n",
        "Use Keras if you need a deep learning library that:\n",
        "\n",
        "\n",
        "\n",
        "*   Allows for easy and fast prototyping (through user friendliness, modularity, and extensibility).\n",
        "*   Supports both convolutional networks and recurrent networks, as well as combinations of the two.\n",
        "*   Runs seamlessly on CPU and GPU.\n",
        "\n",
        "\n"
      ]
    },
    {
      "cell_type": "markdown",
      "metadata": {
        "id": "qWhh_ehpluZM"
      },
      "source": [
        "## Keras backends\n",
        "\n",
        "What is a \"backend\"?\n",
        "\n",
        "Keras is a model-level library, providing high-level building blocks for developing deep learning models. It does not handle itself low-level operations such as tensor products, convolutions and so on. Instead, it relies on a specialized, well-optimized tensor manipulation library to do so, serving as the \"backend engine\" of Keras. Rather than picking one single tensor library and making the implementation of Keras tied to that library, Keras handles the problem in a modular way, and several different backend engines can be plugged seamlessly into Keras.\n",
        "\n",
        "At this time, Keras has three backend implementations available: **the TensorFlow backend, the Theano backend, and the CNTK backend**.\n",
        "\n",
        "TensorFlow is an open-source symbolic tensor manipulation framework developed by Google.\n",
        "\n",
        "Theano is an open-source symbolic tensor manipulation framework developed by LISA Lab at Université de Montréal. ( No further development on this framework)\n",
        "\n",
        "CNTK is an open-source toolkit for deep learning developed by Microsoft."
      ]
    },
    {
      "cell_type": "code",
      "metadata": {
        "id": "clYg3xvabncf"
      },
      "source": [
        "import tensorflow as tf\n",
        "import tensorflow.keras"
      ],
      "execution_count": null,
      "outputs": []
    },
    {
      "cell_type": "markdown",
      "metadata": {
        "id": "6a4UfNBWay_U"
      },
      "source": [
        "## Layers\n",
        "The first class you need to know is Layer. Pretty much everything in Keras derives from it.\n",
        "\n",
        "A Layer encapsulates a state (weights) and some computation (defined in the call method)."
      ]
    },
    {
      "cell_type": "code",
      "metadata": {
        "id": "XFHbwHk6a42U",
        "colab": {
          "base_uri": "https://localhost:8080/",
          "height": 201
        },
        "outputId": "790a806f-5cc9-493e-fc66-1362c7195853"
      },
      "source": [
        "tf.keras.layers.Layer(\n",
        "    trainable=True, name=None, dtype=None, dynamic=False, **kwargs\n",
        ")"
      ],
      "execution_count": null,
      "outputs": [
        {
          "output_type": "error",
          "ename": "NameError",
          "evalue": "ignored",
          "traceback": [
            "\u001b[0;31m---------------------------------------------------------------------------\u001b[0m",
            "\u001b[0;31mNameError\u001b[0m                                 Traceback (most recent call last)",
            "\u001b[0;32m<ipython-input-2-8943b055b975>\u001b[0m in \u001b[0;36m<module>\u001b[0;34m()\u001b[0m\n\u001b[1;32m      1\u001b[0m tf.keras.layers.Layer(\n\u001b[0;32m----> 2\u001b[0;31m     \u001b[0mtrainable\u001b[0m\u001b[0;34m=\u001b[0m\u001b[0;32mTrue\u001b[0m\u001b[0;34m,\u001b[0m \u001b[0mname\u001b[0m\u001b[0;34m=\u001b[0m\u001b[0;32mNone\u001b[0m\u001b[0;34m,\u001b[0m \u001b[0mdtype\u001b[0m\u001b[0;34m=\u001b[0m\u001b[0;32mNone\u001b[0m\u001b[0;34m,\u001b[0m \u001b[0mdynamic\u001b[0m\u001b[0;34m=\u001b[0m\u001b[0;32mFalse\u001b[0m\u001b[0;34m,\u001b[0m \u001b[0;34m**\u001b[0m\u001b[0mkwargs\u001b[0m\u001b[0;34m\u001b[0m\u001b[0;34m\u001b[0m\u001b[0m\n\u001b[0m\u001b[1;32m      3\u001b[0m )\n",
            "\u001b[0;31mNameError\u001b[0m: name 'kwargs' is not defined"
          ]
        }
      ]
    },
    {
      "cell_type": "markdown",
      "metadata": {
        "id": "6JhqZlBobN3n"
      },
      "source": [
        "A layer is a class implementing common neural networks operations, such as convolution, batch norm, etc. These operations require managing weights, losses, updates, and inter-layer connectivity.\n",
        "\n",
        "Users will just instantiate a layer and then treat it as a callable.\n",
        "\n",
        "We recommend that descendants of Layer implement the following methods:\n",
        "\n",
        "**__init__()**: Save configuration in member variables\n",
        "\n",
        "**build()**: Called once from __call__, when we know the shapes of inputs and dtype. Should have the calls to add_weight(), and then call the super's build() (which sets self.built = True, which is nice in case the user wants to call build() manually before the first __call__).\n",
        "\n",
        "**call()**: Called in __call__ after making sure build() has been called once. Should actually perform the logic of applying the layer to the input tensors (which should be passed in as the first argument)."
      ]
    },
    {
      "cell_type": "code",
      "metadata": {
        "id": "CoFeHTTVbe3o"
      },
      "source": [
        "from tensorflow.keras.layers import Layer\n",
        "\n",
        "class Linear(Layer):\n",
        "  \"\"\"y = w.x + b\"\"\"\n",
        "\n",
        "  def __init__(self, units=32, input_dim=32): # constructor\n",
        "      super(Linear, self).__init__()\n",
        "      w_init = tf.random_normal_initializer() # weight's random normal intialization\n",
        "      self.w = tf.Variable(\n",
        "          initial_value=w_init(shape=(input_dim, units), dtype='float32'),\n",
        "          trainable=True)\n",
        "      b_init = tf.zeros_initializer() # bias intialized with Zero\n",
        "      self.b = tf.Variable(\n",
        "          initial_value=b_init(shape=(units,), dtype='float32'),\n",
        "          trainable=True)\n",
        "\n",
        "  def call(self, inputs):\n",
        "      return tf.matmul(inputs, self.w) + self.b"
      ],
      "execution_count": null,
      "outputs": []
    },
    {
      "cell_type": "markdown",
      "metadata": {
        "id": "Bn47JPUmOplq"
      },
      "source": [
        "### Model \n",
        "The core data structure of Keras is a model, a way to organize layers. The simplest type of model is the **Sequential model**, a linear stack of layers. For more complex architectures, you should use the Keras functional API, which allows to build arbitrary graphs of layers."
      ]
    },
    {
      "cell_type": "markdown",
      "metadata": {
        "id": "-q2biiyERX0K"
      },
      "source": [
        "Here's an example of a sequential model"
      ]
    },
    {
      "cell_type": "code",
      "metadata": {
        "id": "XKRz5ktMRSyC"
      },
      "source": [
        "from tensorflow.keras import Sequential\n",
        "\n",
        "model = Sequential()"
      ],
      "execution_count": null,
      "outputs": []
    },
    {
      "cell_type": "markdown",
      "metadata": {
        "id": "ho8OlNTTcxJ0"
      },
      "source": [
        "## Built-in layers\n",
        "\n",
        "Keras provides you with a [wide range of built-in layers](https://www.tensorflow.org/api_docs/python/tf/keras/layers/), so that you don't have to implement your own layers all the time.\n",
        "- Dense layers\n",
        "- Convolution layers\n",
        "- Transposed convolutions\n",
        "- Separateable convolutions\n",
        "- Average and max pooling\n",
        "- Global average and max pooling\n",
        "- LSTM, GRU (with built-in cuDNN acceleration)\n",
        "- BatchNormalization\n",
        "- Dropout\n",
        "- Attention\n",
        "- ConvLSTM2D"
      ]
    },
    {
      "cell_type": "markdown",
      "metadata": {
        "id": "5Q59yJ9mRoY8"
      },
      "source": [
        "Stacking is done through add()"
      ]
    },
    {
      "cell_type": "code",
      "metadata": {
        "id": "tF9hkE8kcjGS",
        "colab": {
          "base_uri": "https://localhost:8080/",
          "height": 233
        },
        "outputId": "c59f9742-8eed-43ec-e465-29dd48365bb6"
      },
      "source": [
        "from tensorflow.keras.layers import Dense\n",
        "# Optionally, the first layer can receive an `input_shape` argument:\n",
        "model = Sequential()\n",
        "model.add(Dense(32, input_shape=(500,)))\n",
        "# Afterwards, we do automatic shape inference:\n",
        "model.add(Dense(32))\n",
        "\n",
        "# This is identical to the following:\n",
        "model = Sequential()\n",
        "model.add(Dense(32, input_dim=500))\n",
        "\n",
        "# And to the following:\n",
        "model = Sequential()\n",
        "model.add(Dense(32, batch_input_shape=(None, 500)))\n",
        "\n",
        "# Note that you can also omit the `input_shape` argument:\n",
        "# In that case the model gets built the first time you call `fit` (or other\n",
        "# training and evaluation methods).\n",
        "model = Sequential()\n",
        "model.add(Dense(32))  # layer 1\n",
        "model.add(Dense(32))  # layer 2\n",
        "model.compile(optimizer=optimizer, loss=loss)\n",
        "# This builds the model for the first time:\n",
        "model.fit(x, y, batch_size=32, epochs=10) #training\n",
        "\n",
        "# Note that when using this delayed-build pattern (no input shape specified),\n",
        "# the model doesn't have any weights until the first call\n",
        "# to a training/evaluation method (since it isn't yet built):\n",
        "model = Sequential()\n",
        "model.add(Dense(32))\n",
        "model.add(Dense(32))\n",
        "model.weights  # returns []\n",
        "\n",
        "# Whereas if you specify the input shape, the model gets built continuously\n",
        "# as you are adding layers:\n",
        "model = Sequential()\n",
        "model.add(Dense(32, input_shape=(500,)))\n",
        "model.add(Dense(32))\n",
        "model.weights  # returns list of length 4\n",
        "\n",
        "# When using the delayed-build pattern (no input shape specified), you can\n",
        "# choose to manually build your model by calling `build(batch_input_shape)`:\n",
        "model = Sequential()\n",
        "model.add(Dense(32))\n",
        "model.add(Dense(32))\n",
        "model.build((None, 500))\n",
        "model.weights  # returns list of length 4"
      ],
      "execution_count": null,
      "outputs": [
        {
          "output_type": "error",
          "ename": "NameError",
          "evalue": "ignored",
          "traceback": [
            "\u001b[0;31m---------------------------------------------------------------------------\u001b[0m",
            "\u001b[0;31mNameError\u001b[0m                                 Traceback (most recent call last)",
            "\u001b[0;32m<ipython-input-8-c6374887c609>\u001b[0m in \u001b[0;36m<module>\u001b[0;34m()\u001b[0m\n\u001b[1;32m     20\u001b[0m \u001b[0mmodel\u001b[0m\u001b[0;34m.\u001b[0m\u001b[0madd\u001b[0m\u001b[0;34m(\u001b[0m\u001b[0mDense\u001b[0m\u001b[0;34m(\u001b[0m\u001b[0;36m32\u001b[0m\u001b[0;34m)\u001b[0m\u001b[0;34m)\u001b[0m  \u001b[0;31m# layer 1\u001b[0m\u001b[0;34m\u001b[0m\u001b[0;34m\u001b[0m\u001b[0m\n\u001b[1;32m     21\u001b[0m \u001b[0mmodel\u001b[0m\u001b[0;34m.\u001b[0m\u001b[0madd\u001b[0m\u001b[0;34m(\u001b[0m\u001b[0mDense\u001b[0m\u001b[0;34m(\u001b[0m\u001b[0;36m32\u001b[0m\u001b[0;34m)\u001b[0m\u001b[0;34m)\u001b[0m  \u001b[0;31m# layer 2\u001b[0m\u001b[0;34m\u001b[0m\u001b[0;34m\u001b[0m\u001b[0m\n\u001b[0;32m---> 22\u001b[0;31m \u001b[0mmodel\u001b[0m\u001b[0;34m.\u001b[0m\u001b[0mcompile\u001b[0m\u001b[0;34m(\u001b[0m\u001b[0moptimizer\u001b[0m\u001b[0;34m=\u001b[0m\u001b[0moptimizer\u001b[0m\u001b[0;34m,\u001b[0m \u001b[0mloss\u001b[0m\u001b[0;34m=\u001b[0m\u001b[0mloss\u001b[0m\u001b[0;34m)\u001b[0m\u001b[0;34m\u001b[0m\u001b[0;34m\u001b[0m\u001b[0m\n\u001b[0m\u001b[1;32m     23\u001b[0m \u001b[0;31m# This builds the model for the first time:\u001b[0m\u001b[0;34m\u001b[0m\u001b[0;34m\u001b[0m\u001b[0;34m\u001b[0m\u001b[0m\n\u001b[1;32m     24\u001b[0m \u001b[0mmodel\u001b[0m\u001b[0;34m.\u001b[0m\u001b[0mfit\u001b[0m\u001b[0;34m(\u001b[0m\u001b[0mx\u001b[0m\u001b[0;34m,\u001b[0m \u001b[0my\u001b[0m\u001b[0;34m,\u001b[0m \u001b[0mbatch_size\u001b[0m\u001b[0;34m=\u001b[0m\u001b[0;36m32\u001b[0m\u001b[0;34m,\u001b[0m \u001b[0mepochs\u001b[0m\u001b[0;34m=\u001b[0m\u001b[0;36m10\u001b[0m\u001b[0;34m)\u001b[0m \u001b[0;31m#training\u001b[0m\u001b[0;34m\u001b[0m\u001b[0;34m\u001b[0m\u001b[0m\n",
            "\u001b[0;31mNameError\u001b[0m: name 'optimizer' is not defined"
          ]
        }
      ]
    },
    {
      "cell_type": "markdown",
      "metadata": {
        "id": "z3Xgjg-QR3Nj"
      },
      "source": [
        "Once we build the model we configure the model's learning process with compile()"
      ]
    },
    {
      "cell_type": "code",
      "metadata": {
        "id": "JvhrZYaPSCxu"
      },
      "source": [
        "compile(\n",
        "    optimizer='rmsprop', loss=None, metrics=None, loss_weights=None,\n",
        "    sample_weight_mode=None, weighted_metrics=None, target_tensors=None,\n",
        "    distribute=None, **kwargs)"
      ],
      "execution_count": null,
      "outputs": []
    },
    {
      "cell_type": "markdown",
      "metadata": {
        "id": "Jbq3ioKYdYAV"
      },
      "source": [
        "**optimizer**: String (name of optimizer) or optimizer instance. See tf.keras.optimizers.\n",
        "\n",
        "**loss**: String (name of objective function), objective function or tf.keras.losses.Loss instance. See tf.keras.losses. An objective function is any callable with the signature scalar_loss = fn(y_true, y_pred). If the model has multiple outputs, you can use a different loss on each output by passing a dictionary or a list of losses. The loss value that will be minimized by the model will then be the sum of all individual losses.\n",
        "\n",
        "**metrics**: List of metrics to be evaluated by the model during training and testing. Typically you will use metrics=['accuracy']. To specify different metrics for different outputs of a multi-output model, you could also pass a dictionary, such as metrics={'output_a': 'accuracy', 'output_b': ['accuracy', 'mse']}. You can also pass a list (len = len(outputs)) of lists of metrics such as metrics=[['accuracy'], ['accuracy', 'mse']] or metrics=['accuracy', ['accuracy', 'mse']]."
      ]
    },
    {
      "cell_type": "markdown",
      "metadata": {
        "id": "znuTR-50d1lk"
      },
      "source": [
        "**evaluate()**\n",
        "\n",
        "Returns the loss value & metrics values for the model in test mode.\n",
        "\n",
        "Computation is done in batches."
      ]
    },
    {
      "cell_type": "code",
      "metadata": {
        "id": "DEBa6C7Gd8Oi"
      },
      "source": [
        "evaluate(\n",
        "    x=None, y=None, batch_size=None, verbose=1, sample_weight=None, steps=None,\n",
        "    callbacks=None, max_queue_size=10, workers=1, use_multiprocessing=False\n",
        ")"
      ],
      "execution_count": null,
      "outputs": []
    },
    {
      "cell_type": "markdown",
      "metadata": {
        "id": "fk6fd32PeSLK"
      },
      "source": [
        "**fit()**\n",
        "\n",
        "Trains the model for a fixed number of epochs (iterations on a dataset)."
      ]
    },
    {
      "cell_type": "code",
      "metadata": {
        "id": "AVpK4JODeUrq"
      },
      "source": [
        "fit(\n",
        "    x=None, y=None, batch_size=None, epochs=1, verbose=1, callbacks=None,\n",
        "    validation_split=0.0, validation_data=None, shuffle=True, class_weight=None,\n",
        "    sample_weight=None, initial_epoch=0, steps_per_epoch=None,\n",
        "    validation_steps=None, validation_freq=1, max_queue_size=10, workers=1,\n",
        "    use_multiprocessing=False, **kwargs\n",
        ")"
      ],
      "execution_count": null,
      "outputs": []
    },
    {
      "cell_type": "markdown",
      "metadata": {
        "id": "X4vxyxjvSHL9"
      },
      "source": [
        "You can now iterate on your training data in batches:"
      ]
    },
    {
      "cell_type": "code",
      "metadata": {
        "id": "2rTu5SlySapX"
      },
      "source": [
        "# dummy code\n",
        "# x_train and y_train are Numpy arrays --just like in the Scikit-Learn API.\n",
        "model.fit(x_train, y_train, epochs=5, batch_size=32)"
      ],
      "execution_count": null,
      "outputs": []
    },
    {
      "cell_type": "markdown",
      "metadata": {
        "id": "2lViHZ8kSdz9"
      },
      "source": [
        "Evaluate your performance in one line:"
      ]
    },
    {
      "cell_type": "code",
      "metadata": {
        "id": "42DjEx2eSmy5"
      },
      "source": [
        "loss_and_metrics = model.evaluate(x_test, y_test, batch_size=128)"
      ],
      "execution_count": null,
      "outputs": []
    },
    {
      "cell_type": "markdown",
      "metadata": {
        "id": "X857qVXkSnnv"
      },
      "source": [
        "Or generate predictions on new data:"
      ]
    },
    {
      "cell_type": "code",
      "metadata": {
        "id": "Fv5nqLbhSrIe"
      },
      "source": [
        "classes = model.predict(x_test, batch_size=128)"
      ],
      "execution_count": null,
      "outputs": []
    },
    {
      "cell_type": "markdown",
      "metadata": {
        "id": "IEbco6_Eq8aa"
      },
      "source": [
        "### Keras MNIST Neural Net example"
      ]
    },
    {
      "cell_type": "code",
      "metadata": {
        "id": "xAUToqAfewTX",
        "colab": {
          "base_uri": "https://localhost:8080/"
        },
        "outputId": "2f30cc42-39fe-4f61-ca86-c3c6a75fab12"
      },
      "source": [
        "(x_train, y_train), (x_test, y_test) = tf.keras.datasets.mnist.load_data()\n",
        "x_train = x_train.reshape(60000, 784).astype('float32') / 255\n",
        "\n",
        "num_val_samples = 10000\n",
        "x_val = x_train[-num_val_samples:]\n",
        "y_val = y_train[-num_val_samples:]\n",
        "x_train = x_train[:-num_val_samples]\n",
        "y_train = y_train[:-num_val_samples]\n",
        "\n",
        "# Instantiate a simple classification model\n",
        "model = tf.keras.Sequential([\n",
        "  tf.keras.layers.Dense(512, activation=tf.nn.relu),\n",
        "  tf.keras.layers.Dense(256, activation=tf.nn.tanh),\n",
        "  tf.keras.layers.Dense(128, activation=tf.nn.relu),\n",
        "  tf.keras.layers.Dense(64, activation=tf.nn.relu),\n",
        "  tf.keras.layers.Dense(10)\n",
        "])\n",
        "\n",
        "# Instantiate a logistic loss function that expects integer targets.\n",
        "loss = tf.keras.losses.SparseCategoricalCrossentropy(from_logits=True)\n",
        "\n",
        "# Instantiate an accuracy metric.\n",
        "accuracy = tf.keras.metrics.SparseCategoricalAccuracy()\n",
        "\n",
        "# Instantiate an optimizer.\n",
        "optimizer = tf.keras.optimizers.Adam()\n",
        "\n",
        "model.compile(optimizer=optimizer,\n",
        "              loss=loss,\n",
        "              metrics=[accuracy])\n",
        "model.fit(x_train, y_train,\n",
        "          validation_data=(x_val, y_val),\n",
        "          epochs=10,\n",
        "          batch_size=128, verbose=1)"
      ],
      "execution_count": null,
      "outputs": [
        {
          "output_type": "stream",
          "text": [
            "Epoch 1/10\n",
            "391/391 [==============================] - 2s 5ms/step - loss: 0.2465 - sparse_categorical_accuracy: 0.9245 - val_loss: 0.1066 - val_sparse_categorical_accuracy: 0.9679\n",
            "Epoch 2/10\n",
            "391/391 [==============================] - 2s 4ms/step - loss: 0.0916 - sparse_categorical_accuracy: 0.9712 - val_loss: 0.0921 - val_sparse_categorical_accuracy: 0.9733\n",
            "Epoch 3/10\n",
            "391/391 [==============================] - 2s 5ms/step - loss: 0.0644 - sparse_categorical_accuracy: 0.9797 - val_loss: 0.0926 - val_sparse_categorical_accuracy: 0.9725\n",
            "Epoch 4/10\n",
            "391/391 [==============================] - 2s 4ms/step - loss: 0.0443 - sparse_categorical_accuracy: 0.9857 - val_loss: 0.0842 - val_sparse_categorical_accuracy: 0.9757\n",
            "Epoch 5/10\n",
            "391/391 [==============================] - 2s 5ms/step - loss: 0.0373 - sparse_categorical_accuracy: 0.9880 - val_loss: 0.0745 - val_sparse_categorical_accuracy: 0.9789\n",
            "Epoch 6/10\n",
            "391/391 [==============================] - 2s 4ms/step - loss: 0.0274 - sparse_categorical_accuracy: 0.9909 - val_loss: 0.0883 - val_sparse_categorical_accuracy: 0.9783\n",
            "Epoch 7/10\n",
            "391/391 [==============================] - 2s 5ms/step - loss: 0.0238 - sparse_categorical_accuracy: 0.9921 - val_loss: 0.0815 - val_sparse_categorical_accuracy: 0.9782\n",
            "Epoch 8/10\n",
            "391/391 [==============================] - 2s 5ms/step - loss: 0.0224 - sparse_categorical_accuracy: 0.9927 - val_loss: 0.1035 - val_sparse_categorical_accuracy: 0.9741\n",
            "Epoch 9/10\n",
            "391/391 [==============================] - 2s 4ms/step - loss: 0.0206 - sparse_categorical_accuracy: 0.9931 - val_loss: 0.0953 - val_sparse_categorical_accuracy: 0.9771\n",
            "Epoch 10/10\n",
            "391/391 [==============================] - 2s 5ms/step - loss: 0.0180 - sparse_categorical_accuracy: 0.9938 - val_loss: 0.1057 - val_sparse_categorical_accuracy: 0.9738\n"
          ],
          "name": "stdout"
        },
        {
          "output_type": "execute_result",
          "data": {
            "text/plain": [
              "<tensorflow.python.keras.callbacks.History at 0x7fcc3f56f710>"
            ]
          },
          "metadata": {
            "tags": []
          },
          "execution_count": 7
        }
      ]
    },
    {
      "cell_type": "code",
      "metadata": {
        "colab": {
          "base_uri": "https://localhost:8080/"
        },
        "id": "bsDeNx1cxRY_",
        "outputId": "2ea3459b-005c-4f27-ea1b-bcd5edc67339"
      },
      "source": [
        "model.evaluate(x_test.reshape(10000, 784).astype('float32') / 255, y_test)"
      ],
      "execution_count": null,
      "outputs": [
        {
          "output_type": "stream",
          "text": [
            "313/313 [==============================] - 1s 3ms/step - loss: 0.1125 - sparse_categorical_accuracy: 0.9759\n"
          ],
          "name": "stdout"
        },
        {
          "output_type": "execute_result",
          "data": {
            "text/plain": [
              "[0.11254452913999557, 0.9758999943733215]"
            ]
          },
          "metadata": {
            "tags": []
          },
          "execution_count": 6
        }
      ]
    },
    {
      "cell_type": "markdown",
      "metadata": {
        "id": "DgjwTFnBfqcB"
      },
      "source": [
        "## Building a Neural Network for Regression Task"
      ]
    },
    {
      "cell_type": "code",
      "metadata": {
        "id": "rN2NH7ACfvIq"
      },
      "source": [
        "import pandas as pd\n",
        "import numpy as np\n",
        "import tensorflow as tf\n",
        "\n",
        "import matplotlib.pyplot as plt\n",
        "%matplotlib inline\n",
        "\n",
        "import seaborn as sns\n",
        "sns.set(style=\"darkgrid\")\n",
        "from tensorflow.keras.layers import Input, Dense\n",
        "from tensorflow.keras.models import Model"
      ],
      "execution_count": null,
      "outputs": []
    },
    {
      "cell_type": "code",
      "metadata": {
        "id": "KKA7U8vGf3G1",
        "colab": {
          "resources": {
            "http://localhost:8080/nbextensions/google.colab/files.js": {
              "data": "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",
              "ok": true,
              "headers": [
                [
                  "content-type",
                  "application/javascript"
                ]
              ],
              "status": 200,
              "status_text": ""
            }
          },
          "base_uri": "https://localhost:8080/",
          "height": 91
        },
        "outputId": "72b01d1c-5383-46e4-f908-e2b18ee4aa4a"
      },
      "source": [
        "from google.colab import files\n",
        "\n",
        "uploaded = files.upload()\n",
        "\n",
        "for fn in uploaded.keys():\n",
        "  print('User uploaded file \"{name}\" with length {length} bytes'.format(\n",
        "      name=fn, length=len(uploaded[fn])))"
      ],
      "execution_count": null,
      "outputs": [
        {
          "output_type": "display_data",
          "data": {
            "text/html": [
              "\n",
              "     <input type=\"file\" id=\"files-56a3408a-f02a-4349-89e6-67606548e011\" name=\"files[]\" multiple disabled\n",
              "        style=\"border:none\" />\n",
              "     <output id=\"result-56a3408a-f02a-4349-89e6-67606548e011\">\n",
              "      Upload widget is only available when the cell has been executed in the\n",
              "      current browser session. Please rerun this cell to enable.\n",
              "      </output>\n",
              "      <script src=\"/nbextensions/google.colab/files.js\"></script> "
            ],
            "text/plain": [
              "<IPython.core.display.HTML object>"
            ]
          },
          "metadata": {
            "tags": []
          }
        },
        {
          "output_type": "stream",
          "text": [
            "Saving petrol_consumption.csv to petrol_consumption.csv\n",
            "User uploaded file \"petrol_consumption.csv\" with length 1389 bytes\n"
          ],
          "name": "stdout"
        }
      ]
    },
    {
      "cell_type": "code",
      "metadata": {
        "id": "HO2V_QUff-rl"
      },
      "source": [
        "petrol_cons = pd.read_csv(r'petrol_consumption.csv')"
      ],
      "execution_count": null,
      "outputs": []
    },
    {
      "cell_type": "code",
      "metadata": {
        "id": "4JK4q-sXgAz4",
        "colab": {
          "base_uri": "https://localhost:8080/",
          "height": 206
        },
        "outputId": "95848ca9-b4b0-4482-e604-c5da10a572df"
      },
      "source": [
        "petrol_cons.head()"
      ],
      "execution_count": null,
      "outputs": [
        {
          "output_type": "execute_result",
          "data": {
            "text/html": [
              "<div>\n",
              "<style scoped>\n",
              "    .dataframe tbody tr th:only-of-type {\n",
              "        vertical-align: middle;\n",
              "    }\n",
              "\n",
              "    .dataframe tbody tr th {\n",
              "        vertical-align: top;\n",
              "    }\n",
              "\n",
              "    .dataframe thead th {\n",
              "        text-align: right;\n",
              "    }\n",
              "</style>\n",
              "<table border=\"1\" class=\"dataframe\">\n",
              "  <thead>\n",
              "    <tr style=\"text-align: right;\">\n",
              "      <th></th>\n",
              "      <th>Petrol_tax</th>\n",
              "      <th>Average_income</th>\n",
              "      <th>Paved_Highways</th>\n",
              "      <th>Population_Driver_licence(%)</th>\n",
              "      <th>Petrol_Consumption</th>\n",
              "    </tr>\n",
              "  </thead>\n",
              "  <tbody>\n",
              "    <tr>\n",
              "      <th>0</th>\n",
              "      <td>9.0</td>\n",
              "      <td>3571</td>\n",
              "      <td>1976</td>\n",
              "      <td>0.525</td>\n",
              "      <td>541</td>\n",
              "    </tr>\n",
              "    <tr>\n",
              "      <th>1</th>\n",
              "      <td>9.0</td>\n",
              "      <td>4092</td>\n",
              "      <td>1250</td>\n",
              "      <td>0.572</td>\n",
              "      <td>524</td>\n",
              "    </tr>\n",
              "    <tr>\n",
              "      <th>2</th>\n",
              "      <td>9.0</td>\n",
              "      <td>3865</td>\n",
              "      <td>1586</td>\n",
              "      <td>0.580</td>\n",
              "      <td>561</td>\n",
              "    </tr>\n",
              "    <tr>\n",
              "      <th>3</th>\n",
              "      <td>7.5</td>\n",
              "      <td>4870</td>\n",
              "      <td>2351</td>\n",
              "      <td>0.529</td>\n",
              "      <td>414</td>\n",
              "    </tr>\n",
              "    <tr>\n",
              "      <th>4</th>\n",
              "      <td>8.0</td>\n",
              "      <td>4399</td>\n",
              "      <td>431</td>\n",
              "      <td>0.544</td>\n",
              "      <td>410</td>\n",
              "    </tr>\n",
              "  </tbody>\n",
              "</table>\n",
              "</div>"
            ],
            "text/plain": [
              "   Petrol_tax  Average_income  ...  Population_Driver_licence(%)  Petrol_Consumption\n",
              "0         9.0            3571  ...                         0.525                 541\n",
              "1         9.0            4092  ...                         0.572                 524\n",
              "2         9.0            3865  ...                         0.580                 561\n",
              "3         7.5            4870  ...                         0.529                 414\n",
              "4         8.0            4399  ...                         0.544                 410\n",
              "\n",
              "[5 rows x 5 columns]"
            ]
          },
          "metadata": {
            "tags": []
          },
          "execution_count": 4
        }
      ]
    },
    {
      "cell_type": "markdown",
      "metadata": {
        "id": "_oQ1-6r0gINl"
      },
      "source": [
        "One can see that there are five columns in the dataset. The regression model will be trained on the first four columns, i.e. Petrol_tax, Average_income, Paved_Highways, & Population_Driver_License. The value for the last column i.e. Petrol_Consumption will be predicted (Y). "
      ]
    },
    {
      "cell_type": "code",
      "metadata": {
        "id": "rVS79Sh7gKDm"
      },
      "source": [
        "X = petrol_cons.iloc[:, 0:4].values\n",
        "y = petrol_cons.iloc[:, 4].values\n",
        "\n",
        "from sklearn.model_selection import train_test_split\n",
        "\n",
        "X_train, X_test, y_train, y_test = train_test_split(X, y, test_size=0.2, random_state=0)\n",
        "\n",
        "from sklearn.preprocessing import StandardScaler\n",
        "\n",
        "sc = StandardScaler()\n",
        "X_train = sc.fit_transform(X_train)\n",
        "X_test = sc.transform(X_test)"
      ],
      "execution_count": null,
      "outputs": []
    },
    {
      "cell_type": "code",
      "metadata": {
        "id": "Lc5emwPYvQ-i",
        "colab": {
          "base_uri": "https://localhost:8080/"
        },
        "outputId": "31b09d93-2804-4f7a-cee0-e4886765ec23"
      },
      "source": [
        "X_train"
      ],
      "execution_count": null,
      "outputs": [
        {
          "output_type": "execute_result",
          "data": {
            "text/plain": [
              "array([[-1.32525691e-01,  1.50577399e+00,  2.25854636e+00,\n",
              "        -9.15791057e-01],\n",
              "       [-6.28192647e-01, -1.83367022e+00,  2.12333843e-01,\n",
              "        -1.12852703e+00],\n",
              "       [-1.32525691e-01, -1.78897047e+00, -4.54194551e-01,\n",
              "        -5.25775100e-01],\n",
              "       [-1.32525691e-01, -8.78212954e-01,  8.77245103e-01,\n",
              "         4.15208375e-02],\n",
              "       [-6.28192647e-01,  1.27482526e+00,  1.07480487e+00,\n",
              "         2.89712810e-01],\n",
              "       [ 1.35447518e+00, -8.42825648e-01, -1.13743332e+00,\n",
              "         5.92488356e-02],\n",
              "       [-6.28192647e-01, -4.00925436e-02, -4.64436395e-01,\n",
              "         8.21552752e-01],\n",
              "       [-6.28192647e-01,  7.42153173e-01,  2.93282707e-02,\n",
              "         2.61208055e+00],\n",
              "       [-6.28192647e-01,  8.82232011e-04,  1.22196399e+00,\n",
              "         1.65616824e-01],\n",
              "       [ 3.63141265e-01, -2.41241442e-01,  4.54996025e-02,\n",
              "        -2.42127131e-01],\n",
              "       [ 1.35447518e+00,  1.07926383e+00, -9.04835665e-01,\n",
              "        -1.16398303e+00],\n",
              "       [-6.28192647e-01, -2.07716626e-01,  7.28199328e-01,\n",
              "        -8.25751488e-02],\n",
              "       [-6.28192647e-01, -1.23208602e+00, -4.90849570e-01,\n",
              "        -2.42127131e-01],\n",
              "       [-6.28192647e-01,  5.13066928e-01,  5.46541367e-01,\n",
              "         1.53067267e+00],\n",
              "       [-6.28192647e-01, -3.26425844e-02, -5.85182339e-01,\n",
              "         4.66992791e-01],\n",
              "       [ 3.63141265e-01,  2.41143416e-01,  7.46796360e-01,\n",
              "        -8.44879065e-01],\n",
              "       [-6.28192647e-01, -2.05854136e-01,  2.08560532e-01,\n",
              "        -5.61231096e-01],\n",
              "       [ 1.35447518e+00, -1.11102418e+00, -2.85743178e-01,\n",
              "        -5.78959094e-01],\n",
              "       [ 2.34580909e+00,  1.90807179e+00, -1.20562244e+00,\n",
              "        -1.00303147e-01],\n",
              "       [-6.28192647e-01, -1.11661165e+00, -2.91403144e-01,\n",
              "        -6.49871086e-01],\n",
              "       [-1.04455289e+00, -9.60162506e-01,  5.46541367e-01,\n",
              "         9.27920740e-01],\n",
              "       [-6.28192647e-01,  2.69570892e-02,  6.34136081e-01,\n",
              "         5.55632781e-01],\n",
              "       [ 8.58808221e-01, -1.27119830e+00, -6.82479852e-01,\n",
              "         1.53067267e+00],\n",
              "       [ 1.35447518e+00, -4.20040463e-01, -1.22799278e+00,\n",
              "        -8.25751488e-02],\n",
              "       [-6.28192647e-01,  9.30264643e-01,  3.02893301e-01,\n",
              "        -4.71191527e-02],\n",
              "       [-6.28192647e-01, -1.06632442e+00, -8.61173069e-01,\n",
              "        -1.21716702e+00],\n",
              "       [ 8.58808221e-01,  4.77679621e-01, -8.59016891e-01,\n",
              "        -4.54863108e-01],\n",
              "       [ 3.63141265e-01,  1.86523452e+00,  1.63379391e+00,\n",
              "        -2.22766291e+00],\n",
              "       [ 1.35447518e+00, -1.10867156e-01, -3.01914510e-01,\n",
              "        -1.05761504e+00],\n",
              "       [-2.61086047e+00, -5.07577484e-01,  3.22774818e+00,\n",
              "        -1.88943137e-01],\n",
              "       [ 3.63141265e-01,  1.23943795e+00, -1.40264316e+00,\n",
              "         4.49264793e-01],\n",
              "       [ 8.58808221e-01,  4.37194975e-02,  5.49328794e-02,\n",
              "         1.77886465e+00],\n",
              "       [-6.28192647e-01,  3.62205254e-01,  7.27929806e-01,\n",
              "        -4.37135110e-01],\n",
              "       [-6.28192647e-01,  5.11694567e-02, -5.12411346e-01,\n",
              "         1.69022466e+00],\n",
              "       [ 1.35447518e+00,  2.95155621e-01, -5.02439024e-01,\n",
              "        -1.00303147e-01],\n",
              "       [-1.32525691e-01,  1.02897660e+00, -9.31248840e-01,\n",
              "        -8.44879065e-01],\n",
              "       [ 1.35447518e+00, -1.39039765e+00, -1.03231966e+00,\n",
              "        -9.15791057e-01],\n",
              "       [-1.61952656e+00,  1.67153558e+00, -9.44455428e-01,\n",
              "         1.69022466e+00]])"
            ]
          },
          "metadata": {
            "tags": []
          },
          "execution_count": 6
        }
      ]
    },
    {
      "cell_type": "code",
      "metadata": {
        "id": "onCzENoRgObK"
      },
      "source": [
        "input_layer = Input(shape=(X.shape[1],))\n",
        "dense_layer_1 = Dense(100, activation='relu')(input_layer)\n",
        "dense_layer_2 = Dense(50, activation='relu')(dense_layer_1)\n",
        "dense_layer_3 = Dense(25, activation='relu')(dense_layer_2)\n",
        "output = Dense(1)(dense_layer_3)\n",
        "\n",
        "model = Model(inputs=input_layer, outputs=output)\n",
        "model.compile(loss=\"mean_squared_error\" , optimizer=\"adam\", metrics=[\"mean_squared_error\"])"
      ],
      "execution_count": null,
      "outputs": []
    },
    {
      "cell_type": "code",
      "metadata": {
        "colab": {
          "base_uri": "https://localhost:8080/"
        },
        "id": "zm90oKJIlhAW",
        "outputId": "0b955969-6000-4e54-990e-af674f8eeac3"
      },
      "source": [
        "model.summary()"
      ],
      "execution_count": null,
      "outputs": [
        {
          "output_type": "stream",
          "text": [
            "Model: \"model_1\"\n",
            "_________________________________________________________________\n",
            "Layer (type)                 Output Shape              Param #   \n",
            "=================================================================\n",
            "input_2 (InputLayer)         [(None, 4)]               0         \n",
            "_________________________________________________________________\n",
            "dense_4 (Dense)              (None, 100)               500       \n",
            "_________________________________________________________________\n",
            "dense_5 (Dense)              (None, 50)                5050      \n",
            "_________________________________________________________________\n",
            "dense_6 (Dense)              (None, 25)                1275      \n",
            "_________________________________________________________________\n",
            "dense_7 (Dense)              (None, 1)                 26        \n",
            "=================================================================\n",
            "Total params: 6,851\n",
            "Trainable params: 6,851\n",
            "Non-trainable params: 0\n",
            "_________________________________________________________________\n"
          ],
          "name": "stdout"
        }
      ]
    },
    {
      "cell_type": "code",
      "metadata": {
        "id": "IKqfasUEgVES",
        "colab": {
          "base_uri": "https://localhost:8080/"
        },
        "outputId": "3061cc0a-c4b3-4b6a-ca05-54c957dac65c"
      },
      "source": [
        "history = model.fit(X_train, y_train, batch_size=5, epochs=100, verbose=1, validation_split=0.2)"
      ],
      "execution_count": null,
      "outputs": [
        {
          "output_type": "stream",
          "text": [
            "Epoch 1/100\n",
            "6/6 [==============================] - 3s 31ms/step - loss: 341669.4062 - mean_squared_error: 341669.4062 - val_loss: 402347.1562 - val_mean_squared_error: 402347.1562\n",
            "Epoch 2/100\n",
            "6/6 [==============================] - 0s 5ms/step - loss: 341362.9375 - mean_squared_error: 341362.9375 - val_loss: 401951.7188 - val_mean_squared_error: 401951.7188\n",
            "Epoch 3/100\n",
            "6/6 [==============================] - 0s 6ms/step - loss: 340999.4688 - mean_squared_error: 340999.4688 - val_loss: 401451.9688 - val_mean_squared_error: 401451.9688\n",
            "Epoch 4/100\n",
            "6/6 [==============================] - 0s 5ms/step - loss: 340514.5938 - mean_squared_error: 340514.5938 - val_loss: 400787.3125 - val_mean_squared_error: 400787.3125\n",
            "Epoch 5/100\n",
            "6/6 [==============================] - 0s 5ms/step - loss: 339869.4062 - mean_squared_error: 339869.4062 - val_loss: 399881.9375 - val_mean_squared_error: 399881.9375\n",
            "Epoch 6/100\n",
            "6/6 [==============================] - 0s 5ms/step - loss: 338920.0312 - mean_squared_error: 338920.0312 - val_loss: 398642.0938 - val_mean_squared_error: 398642.0938\n",
            "Epoch 7/100\n",
            "6/6 [==============================] - 0s 5ms/step - loss: 337634.8750 - mean_squared_error: 337634.8750 - val_loss: 396905.0000 - val_mean_squared_error: 396905.0000\n",
            "Epoch 8/100\n",
            "6/6 [==============================] - 0s 5ms/step - loss: 335819.2188 - mean_squared_error: 335819.2188 - val_loss: 394507.6562 - val_mean_squared_error: 394507.6562\n",
            "Epoch 9/100\n",
            "6/6 [==============================] - 0s 5ms/step - loss: 333436.4688 - mean_squared_error: 333436.4688 - val_loss: 391417.3125 - val_mean_squared_error: 391417.3438\n",
            "Epoch 10/100\n",
            "6/6 [==============================] - 0s 6ms/step - loss: 330033.2812 - mean_squared_error: 330033.3125 - val_loss: 387371.2812 - val_mean_squared_error: 387371.2812\n",
            "Epoch 11/100\n",
            "6/6 [==============================] - 0s 5ms/step - loss: 325884.1875 - mean_squared_error: 325884.1875 - val_loss: 382023.6250 - val_mean_squared_error: 382023.6250\n",
            "Epoch 12/100\n",
            "6/6 [==============================] - 0s 8ms/step - loss: 320177.6250 - mean_squared_error: 320177.6250 - val_loss: 375291.2188 - val_mean_squared_error: 375291.2188\n",
            "Epoch 13/100\n",
            "6/6 [==============================] - 0s 5ms/step - loss: 312496.5938 - mean_squared_error: 312496.5938 - val_loss: 366612.5625 - val_mean_squared_error: 366612.5625\n",
            "Epoch 14/100\n",
            "6/6 [==============================] - 0s 5ms/step - loss: 303342.7188 - mean_squared_error: 303342.7188 - val_loss: 355707.0312 - val_mean_squared_error: 355707.0312\n",
            "Epoch 15/100\n",
            "6/6 [==============================] - 0s 5ms/step - loss: 291207.3125 - mean_squared_error: 291207.3125 - val_loss: 342163.1875 - val_mean_squared_error: 342163.1875\n",
            "Epoch 16/100\n",
            "6/6 [==============================] - 0s 5ms/step - loss: 276974.5938 - mean_squared_error: 276974.5938 - val_loss: 326015.9375 - val_mean_squared_error: 326015.9375\n",
            "Epoch 17/100\n",
            "6/6 [==============================] - 0s 5ms/step - loss: 259987.7031 - mean_squared_error: 259987.7031 - val_loss: 306893.4688 - val_mean_squared_error: 306893.5000\n",
            "Epoch 18/100\n",
            "6/6 [==============================] - 0s 5ms/step - loss: 239385.1406 - mean_squared_error: 239385.1406 - val_loss: 284259.2500 - val_mean_squared_error: 284259.2500\n",
            "Epoch 19/100\n",
            "6/6 [==============================] - 0s 5ms/step - loss: 215448.8281 - mean_squared_error: 215448.8281 - val_loss: 259190.5469 - val_mean_squared_error: 259190.5469\n",
            "Epoch 20/100\n",
            "6/6 [==============================] - 0s 5ms/step - loss: 189290.6094 - mean_squared_error: 189290.6094 - val_loss: 231690.7500 - val_mean_squared_error: 231690.7500\n",
            "Epoch 21/100\n",
            "6/6 [==============================] - 0s 5ms/step - loss: 162744.2031 - mean_squared_error: 162744.2031 - val_loss: 201207.5000 - val_mean_squared_error: 201207.5156\n",
            "Epoch 22/100\n",
            "6/6 [==============================] - 0s 5ms/step - loss: 134377.8281 - mean_squared_error: 134377.8281 - val_loss: 170309.2500 - val_mean_squared_error: 170309.2500\n",
            "Epoch 23/100\n",
            "6/6 [==============================] - 0s 5ms/step - loss: 106449.4531 - mean_squared_error: 106449.4688 - val_loss: 140813.0938 - val_mean_squared_error: 140813.0938\n",
            "Epoch 24/100\n",
            "6/6 [==============================] - 0s 5ms/step - loss: 82200.5781 - mean_squared_error: 82200.5781 - val_loss: 112905.0312 - val_mean_squared_error: 112905.0312\n",
            "Epoch 25/100\n",
            "6/6 [==============================] - 0s 5ms/step - loss: 62397.7031 - mean_squared_error: 62397.7031 - val_loss: 88002.8281 - val_mean_squared_error: 88002.8281\n",
            "Epoch 26/100\n",
            "6/6 [==============================] - 0s 5ms/step - loss: 46593.0000 - mean_squared_error: 46593.0000 - val_loss: 68977.2344 - val_mean_squared_error: 68977.2344\n",
            "Epoch 27/100\n",
            "6/6 [==============================] - 0s 5ms/step - loss: 35976.5586 - mean_squared_error: 35976.5586 - val_loss: 55245.5508 - val_mean_squared_error: 55245.5547\n",
            "Epoch 28/100\n",
            "6/6 [==============================] - 0s 5ms/step - loss: 29510.0723 - mean_squared_error: 29510.0723 - val_loss: 45803.9648 - val_mean_squared_error: 45803.9648\n",
            "Epoch 29/100\n",
            "6/6 [==============================] - 0s 5ms/step - loss: 25719.1465 - mean_squared_error: 25719.1465 - val_loss: 39082.5430 - val_mean_squared_error: 39082.5430\n",
            "Epoch 30/100\n",
            "6/6 [==============================] - 0s 5ms/step - loss: 23378.4941 - mean_squared_error: 23378.4941 - val_loss: 34419.7070 - val_mean_squared_error: 34419.7070\n",
            "Epoch 31/100\n",
            "6/6 [==============================] - 0s 6ms/step - loss: 21267.4766 - mean_squared_error: 21267.4766 - val_loss: 31302.8438 - val_mean_squared_error: 31302.8438\n",
            "Epoch 32/100\n",
            "6/6 [==============================] - 0s 6ms/step - loss: 19509.8770 - mean_squared_error: 19509.8770 - val_loss: 29339.4824 - val_mean_squared_error: 29339.4824\n",
            "Epoch 33/100\n",
            "6/6 [==============================] - 0s 5ms/step - loss: 17533.7305 - mean_squared_error: 17533.7305 - val_loss: 27159.8086 - val_mean_squared_error: 27159.8066\n",
            "Epoch 34/100\n",
            "6/6 [==============================] - 0s 5ms/step - loss: 16223.4375 - mean_squared_error: 16223.4375 - val_loss: 25420.4902 - val_mean_squared_error: 25420.4902\n",
            "Epoch 35/100\n",
            "6/6 [==============================] - 0s 5ms/step - loss: 15671.9209 - mean_squared_error: 15671.9209 - val_loss: 24745.9102 - val_mean_squared_error: 24745.9082\n",
            "Epoch 36/100\n",
            "6/6 [==============================] - 0s 5ms/step - loss: 14416.7471 - mean_squared_error: 14416.7471 - val_loss: 23750.1035 - val_mean_squared_error: 23750.1035\n",
            "Epoch 37/100\n",
            "6/6 [==============================] - 0s 5ms/step - loss: 13633.7969 - mean_squared_error: 13633.7969 - val_loss: 22575.0312 - val_mean_squared_error: 22575.0312\n",
            "Epoch 38/100\n",
            "6/6 [==============================] - 0s 5ms/step - loss: 12842.8418 - mean_squared_error: 12842.8418 - val_loss: 21159.9902 - val_mean_squared_error: 21159.9902\n",
            "Epoch 39/100\n",
            "6/6 [==============================] - 0s 5ms/step - loss: 12431.0205 - mean_squared_error: 12431.0205 - val_loss: 20416.4570 - val_mean_squared_error: 20416.4570\n",
            "Epoch 40/100\n",
            "6/6 [==============================] - 0s 5ms/step - loss: 11892.5449 - mean_squared_error: 11892.5449 - val_loss: 19434.0918 - val_mean_squared_error: 19434.0918\n",
            "Epoch 41/100\n",
            "6/6 [==============================] - 0s 5ms/step - loss: 11341.4834 - mean_squared_error: 11341.4834 - val_loss: 18715.3906 - val_mean_squared_error: 18715.3887\n",
            "Epoch 42/100\n",
            "6/6 [==============================] - 0s 5ms/step - loss: 10933.4756 - mean_squared_error: 10933.4756 - val_loss: 17844.0117 - val_mean_squared_error: 17844.0117\n",
            "Epoch 43/100\n",
            "6/6 [==============================] - 0s 6ms/step - loss: 10677.9883 - mean_squared_error: 10677.9883 - val_loss: 17501.6895 - val_mean_squared_error: 17501.6914\n",
            "Epoch 44/100\n",
            "6/6 [==============================] - 0s 5ms/step - loss: 10296.2949 - mean_squared_error: 10296.2949 - val_loss: 16831.3730 - val_mean_squared_error: 16831.3750\n",
            "Epoch 45/100\n",
            "6/6 [==============================] - 0s 5ms/step - loss: 9951.6396 - mean_squared_error: 9951.6396 - val_loss: 16543.2773 - val_mean_squared_error: 16543.2773\n",
            "Epoch 46/100\n",
            "6/6 [==============================] - 0s 6ms/step - loss: 9657.3760 - mean_squared_error: 9657.3760 - val_loss: 16344.4297 - val_mean_squared_error: 16344.4297\n",
            "Epoch 47/100\n",
            "6/6 [==============================] - 0s 5ms/step - loss: 9325.3975 - mean_squared_error: 9325.3975 - val_loss: 16120.2607 - val_mean_squared_error: 16120.2607\n",
            "Epoch 48/100\n",
            "6/6 [==============================] - 0s 5ms/step - loss: 9039.8145 - mean_squared_error: 9039.8135 - val_loss: 15701.4609 - val_mean_squared_error: 15701.4609\n",
            "Epoch 49/100\n",
            "6/6 [==============================] - 0s 5ms/step - loss: 8814.9014 - mean_squared_error: 8814.9014 - val_loss: 15382.6016 - val_mean_squared_error: 15382.6016\n",
            "Epoch 50/100\n",
            "6/6 [==============================] - 0s 5ms/step - loss: 8619.1406 - mean_squared_error: 8619.1396 - val_loss: 15166.4326 - val_mean_squared_error: 15166.4326\n",
            "Epoch 51/100\n",
            "6/6 [==============================] - 0s 5ms/step - loss: 8449.0732 - mean_squared_error: 8449.0732 - val_loss: 15162.9023 - val_mean_squared_error: 15162.9023\n",
            "Epoch 52/100\n",
            "6/6 [==============================] - 0s 5ms/step - loss: 8129.9541 - mean_squared_error: 8129.9541 - val_loss: 14931.3906 - val_mean_squared_error: 14931.3906\n",
            "Epoch 53/100\n",
            "6/6 [==============================] - 0s 6ms/step - loss: 7961.0581 - mean_squared_error: 7961.0581 - val_loss: 14825.0742 - val_mean_squared_error: 14825.0742\n",
            "Epoch 54/100\n",
            "6/6 [==============================] - 0s 5ms/step - loss: 7767.6069 - mean_squared_error: 7767.6069 - val_loss: 14621.0850 - val_mean_squared_error: 14621.0850\n",
            "Epoch 55/100\n",
            "6/6 [==============================] - 0s 5ms/step - loss: 7566.3438 - mean_squared_error: 7566.3438 - val_loss: 14410.2812 - val_mean_squared_error: 14410.2812\n",
            "Epoch 56/100\n",
            "6/6 [==============================] - 0s 5ms/step - loss: 7374.8589 - mean_squared_error: 7374.8589 - val_loss: 14355.0605 - val_mean_squared_error: 14355.0605\n",
            "Epoch 57/100\n",
            "6/6 [==============================] - 0s 9ms/step - loss: 7134.8027 - mean_squared_error: 7134.8027 - val_loss: 14265.7236 - val_mean_squared_error: 14265.7236\n",
            "Epoch 58/100\n",
            "6/6 [==============================] - 0s 7ms/step - loss: 6994.4126 - mean_squared_error: 6994.4126 - val_loss: 14128.9316 - val_mean_squared_error: 14128.9316\n",
            "Epoch 59/100\n",
            "6/6 [==============================] - 0s 6ms/step - loss: 6778.3262 - mean_squared_error: 6778.3262 - val_loss: 13984.7988 - val_mean_squared_error: 13984.7988\n",
            "Epoch 60/100\n",
            "6/6 [==============================] - 0s 9ms/step - loss: 6656.1802 - mean_squared_error: 6656.1802 - val_loss: 13831.9727 - val_mean_squared_error: 13831.9717\n",
            "Epoch 61/100\n",
            "6/6 [==============================] - 0s 5ms/step - loss: 6527.3364 - mean_squared_error: 6527.3364 - val_loss: 13833.0068 - val_mean_squared_error: 13833.0068\n",
            "Epoch 62/100\n",
            "6/6 [==============================] - 0s 6ms/step - loss: 6349.0605 - mean_squared_error: 6349.0605 - val_loss: 13686.3750 - val_mean_squared_error: 13686.3750\n",
            "Epoch 63/100\n",
            "6/6 [==============================] - 0s 5ms/step - loss: 6258.5732 - mean_squared_error: 6258.5732 - val_loss: 13712.2793 - val_mean_squared_error: 13712.2793\n",
            "Epoch 64/100\n",
            "6/6 [==============================] - 0s 5ms/step - loss: 5981.6299 - mean_squared_error: 5981.6299 - val_loss: 13573.1494 - val_mean_squared_error: 13573.1494\n",
            "Epoch 65/100\n",
            "6/6 [==============================] - 0s 5ms/step - loss: 5819.2158 - mean_squared_error: 5819.2158 - val_loss: 13459.2744 - val_mean_squared_error: 13459.2744\n",
            "Epoch 66/100\n",
            "6/6 [==============================] - 0s 5ms/step - loss: 5773.2969 - mean_squared_error: 5773.2969 - val_loss: 13306.8516 - val_mean_squared_error: 13306.8516\n",
            "Epoch 67/100\n",
            "6/6 [==============================] - 0s 5ms/step - loss: 5574.3472 - mean_squared_error: 5574.3472 - val_loss: 13279.4863 - val_mean_squared_error: 13279.4863\n",
            "Epoch 68/100\n",
            "6/6 [==============================] - 0s 5ms/step - loss: 5406.5698 - mean_squared_error: 5406.5698 - val_loss: 13291.4219 - val_mean_squared_error: 13291.4219\n",
            "Epoch 69/100\n",
            "6/6 [==============================] - 0s 8ms/step - loss: 5366.5342 - mean_squared_error: 5366.5342 - val_loss: 13281.2324 - val_mean_squared_error: 13281.2334\n",
            "Epoch 70/100\n",
            "6/6 [==============================] - 0s 5ms/step - loss: 5184.7432 - mean_squared_error: 5184.7432 - val_loss: 13107.8984 - val_mean_squared_error: 13107.8984\n",
            "Epoch 71/100\n",
            "6/6 [==============================] - 0s 6ms/step - loss: 5014.2627 - mean_squared_error: 5014.2622 - val_loss: 13083.5273 - val_mean_squared_error: 13083.5273\n",
            "Epoch 72/100\n",
            "6/6 [==============================] - 0s 5ms/step - loss: 4911.0156 - mean_squared_error: 4911.0156 - val_loss: 12976.0938 - val_mean_squared_error: 12976.0938\n",
            "Epoch 73/100\n",
            "6/6 [==============================] - 0s 5ms/step - loss: 4802.4722 - mean_squared_error: 4802.4722 - val_loss: 12917.1660 - val_mean_squared_error: 12917.1660\n",
            "Epoch 74/100\n",
            "6/6 [==============================] - 0s 5ms/step - loss: 4713.3218 - mean_squared_error: 4713.3218 - val_loss: 12906.3613 - val_mean_squared_error: 12906.3613\n",
            "Epoch 75/100\n",
            "6/6 [==============================] - 0s 5ms/step - loss: 4587.2261 - mean_squared_error: 4587.2261 - val_loss: 12833.9014 - val_mean_squared_error: 12833.9014\n",
            "Epoch 76/100\n",
            "6/6 [==============================] - 0s 6ms/step - loss: 4485.7061 - mean_squared_error: 4485.7061 - val_loss: 12745.4150 - val_mean_squared_error: 12745.4150\n",
            "Epoch 77/100\n",
            "6/6 [==============================] - 0s 6ms/step - loss: 4381.9604 - mean_squared_error: 4381.9604 - val_loss: 12677.8047 - val_mean_squared_error: 12677.8047\n",
            "Epoch 78/100\n",
            "6/6 [==============================] - 0s 5ms/step - loss: 4274.8882 - mean_squared_error: 4274.8882 - val_loss: 12649.1641 - val_mean_squared_error: 12649.1641\n",
            "Epoch 79/100\n",
            "6/6 [==============================] - 0s 5ms/step - loss: 4190.1470 - mean_squared_error: 4190.1470 - val_loss: 12669.5410 - val_mean_squared_error: 12669.5410\n",
            "Epoch 80/100\n",
            "6/6 [==============================] - 0s 9ms/step - loss: 4118.0728 - mean_squared_error: 4118.0728 - val_loss: 12555.0234 - val_mean_squared_error: 12555.0234\n",
            "Epoch 81/100\n",
            "6/6 [==============================] - 0s 6ms/step - loss: 4000.6208 - mean_squared_error: 4000.6208 - val_loss: 12573.8203 - val_mean_squared_error: 12573.8203\n",
            "Epoch 82/100\n",
            "6/6 [==============================] - 0s 5ms/step - loss: 3953.3999 - mean_squared_error: 3953.3999 - val_loss: 12603.6807 - val_mean_squared_error: 12603.6807\n",
            "Epoch 83/100\n",
            "6/6 [==============================] - 0s 5ms/step - loss: 3853.3633 - mean_squared_error: 3853.3633 - val_loss: 12495.6055 - val_mean_squared_error: 12495.6055\n",
            "Epoch 84/100\n",
            "6/6 [==============================] - 0s 5ms/step - loss: 3790.2834 - mean_squared_error: 3790.2834 - val_loss: 12341.9355 - val_mean_squared_error: 12341.9355\n",
            "Epoch 85/100\n",
            "6/6 [==============================] - 0s 5ms/step - loss: 3700.6851 - mean_squared_error: 3700.6851 - val_loss: 12241.7988 - val_mean_squared_error: 12241.7988\n",
            "Epoch 86/100\n",
            "6/6 [==============================] - 0s 5ms/step - loss: 3617.7183 - mean_squared_error: 3617.7183 - val_loss: 12189.3779 - val_mean_squared_error: 12189.3779\n",
            "Epoch 87/100\n",
            "6/6 [==============================] - 0s 5ms/step - loss: 3559.5078 - mean_squared_error: 3559.5076 - val_loss: 12275.1299 - val_mean_squared_error: 12275.1299\n",
            "Epoch 88/100\n",
            "6/6 [==============================] - 0s 5ms/step - loss: 3503.8411 - mean_squared_error: 3503.8411 - val_loss: 12229.9453 - val_mean_squared_error: 12229.9453\n",
            "Epoch 89/100\n",
            "6/6 [==============================] - 0s 5ms/step - loss: 3394.5078 - mean_squared_error: 3394.5078 - val_loss: 12208.2070 - val_mean_squared_error: 12208.2070\n",
            "Epoch 90/100\n",
            "6/6 [==============================] - 0s 6ms/step - loss: 3351.7415 - mean_squared_error: 3351.7415 - val_loss: 12156.0762 - val_mean_squared_error: 12156.0762\n",
            "Epoch 91/100\n",
            "6/6 [==============================] - 0s 6ms/step - loss: 3276.5029 - mean_squared_error: 3276.5032 - val_loss: 12165.2930 - val_mean_squared_error: 12165.2930\n",
            "Epoch 92/100\n",
            "6/6 [==============================] - 0s 5ms/step - loss: 3250.9712 - mean_squared_error: 3250.9712 - val_loss: 12200.8340 - val_mean_squared_error: 12200.8340\n",
            "Epoch 93/100\n",
            "6/6 [==============================] - 0s 5ms/step - loss: 3177.5518 - mean_squared_error: 3177.5518 - val_loss: 12070.9180 - val_mean_squared_error: 12070.9180\n",
            "Epoch 94/100\n",
            "6/6 [==============================] - 0s 5ms/step - loss: 3094.2654 - mean_squared_error: 3094.2654 - val_loss: 12033.8027 - val_mean_squared_error: 12033.8027\n",
            "Epoch 95/100\n",
            "6/6 [==============================] - 0s 5ms/step - loss: 3025.0286 - mean_squared_error: 3025.0286 - val_loss: 12000.2754 - val_mean_squared_error: 12000.2754\n",
            "Epoch 96/100\n",
            "6/6 [==============================] - 0s 5ms/step - loss: 2983.0698 - mean_squared_error: 2983.0698 - val_loss: 11925.4697 - val_mean_squared_error: 11925.4697\n",
            "Epoch 97/100\n",
            "6/6 [==============================] - 0s 5ms/step - loss: 2974.5234 - mean_squared_error: 2974.5237 - val_loss: 11902.3301 - val_mean_squared_error: 11902.3301\n",
            "Epoch 98/100\n",
            "6/6 [==============================] - 0s 6ms/step - loss: 2896.9580 - mean_squared_error: 2896.9580 - val_loss: 11782.7500 - val_mean_squared_error: 11782.7500\n",
            "Epoch 99/100\n",
            "6/6 [==============================] - 0s 6ms/step - loss: 2842.2134 - mean_squared_error: 2842.2134 - val_loss: 11706.4980 - val_mean_squared_error: 11706.4980\n",
            "Epoch 100/100\n",
            "6/6 [==============================] - 0s 6ms/step - loss: 2820.4260 - mean_squared_error: 2820.4260 - val_loss: 11736.4102 - val_mean_squared_error: 11736.4092\n"
          ],
          "name": "stdout"
        }
      ]
    },
    {
      "cell_type": "code",
      "metadata": {
        "id": "9PE5V3NbgZj9",
        "colab": {
          "base_uri": "https://localhost:8080/"
        },
        "outputId": "71a5e6ce-7a90-4825-99eb-704872fce207"
      },
      "source": [
        "from sklearn.metrics import mean_squared_error, r2_score\n",
        "from math import sqrt\n",
        "\n",
        "pred_train = model.predict(X_train)\n",
        "print(np.sqrt(mean_squared_error(y_train,pred_train))) # RMSE Score\n",
        "\n",
        "pred = model.predict(X_test)\n",
        "print(np.sqrt(mean_squared_error(y_test,pred))) # RMSE Score\n",
        "\n",
        "print(r2_score(y_test,pred)) #R2 score"
      ],
      "execution_count": null,
      "outputs": [
        {
          "output_type": "stream",
          "text": [
            "68.21081956767527\n",
            "109.0518844701529\n",
            "-1.0295989900897653\n"
          ],
          "name": "stdout"
        }
      ]
    },
    {
      "cell_type": "markdown",
      "metadata": {
        "id": "rbpN4wbtgb-y"
      },
      "source": [
        "## Neural Network for Classification\n",
        "\n",
        "Car Evaluation Database was derived from a simple hierarchical decision model originally developed for the demonstration of DEX, M. Bohanec, V. Rajkovic: Expert system for decision making. Sistemica 1(1), pp. 145-157, 1990.). The model evaluates cars according to the following concept structure:\n",
        "\n",
        "CAR car acceptability\n",
        ". PRICE overall price\n",
        "\n",
        ". . buying buying price\n",
        "\n",
        ". . maint price of the maintenance\n",
        "\n",
        ". TECH technical characteristics\n",
        "\n",
        ". . COMFORT comfort\n",
        "\n",
        ". . . doors number of doors\n",
        "\n",
        ". . . persons capacity in terms of persons to carry\n",
        "\n",
        ". . . lug_boot the size of luggage boot\n",
        "\n",
        ". . safety estimated safety of the car"
      ]
    },
    {
      "cell_type": "code",
      "metadata": {
        "id": "pYZ2iYJjglQ1",
        "colab": {
          "resources": {
            "http://localhost:8080/nbextensions/google.colab/files.js": {
              "data": "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",
              "ok": true,
              "headers": [
                [
                  "content-type",
                  "application/javascript"
                ]
              ],
              "status": 200,
              "status_text": ""
            }
          },
          "base_uri": "https://localhost:8080/",
          "height": 90
        },
        "outputId": "680ca836-062b-4b81-e5d8-773988872b8f"
      },
      "source": [
        "from google.colab import files\n",
        "\n",
        "uploaded = files.upload()\n",
        "\n",
        "for fn in uploaded.keys():\n",
        "  print('User uploaded file \"{name}\" with length {length} bytes'.format(\n",
        "      name=fn, length=len(uploaded[fn])))"
      ],
      "execution_count": null,
      "outputs": [
        {
          "output_type": "display_data",
          "data": {
            "text/html": [
              "\n",
              "     <input type=\"file\" id=\"files-bcf100d6-775e-4eb4-98fe-8772f637c510\" name=\"files[]\" multiple disabled\n",
              "        style=\"border:none\" />\n",
              "     <output id=\"result-bcf100d6-775e-4eb4-98fe-8772f637c510\">\n",
              "      Upload widget is only available when the cell has been executed in the\n",
              "      current browser session. Please rerun this cell to enable.\n",
              "      </output>\n",
              "      <script src=\"/nbextensions/google.colab/files.js\"></script> "
            ],
            "text/plain": [
              "<IPython.core.display.HTML object>"
            ]
          },
          "metadata": {
            "tags": []
          }
        },
        {
          "output_type": "stream",
          "text": [
            "Saving car_evaluation.csv to car_evaluation.csv\n",
            "User uploaded file \"car_evaluation.csv\" with length 53593 bytes\n"
          ],
          "name": "stdout"
        }
      ]
    },
    {
      "cell_type": "code",
      "metadata": {
        "id": "CL0pQduQgs9d"
      },
      "source": [
        "cols = ['price', 'maint', 'doors', 'persons', 'lug_capacity', 'safety','output']\n",
        "cars = pd.read_csv(r'car_evaluation.csv', names=cols, header=None)"
      ],
      "execution_count": null,
      "outputs": []
    },
    {
      "cell_type": "code",
      "metadata": {
        "id": "OjcFasbfgvw8",
        "colab": {
          "base_uri": "https://localhost:8080/",
          "height": 820
        },
        "outputId": "9e26de59-1088-4cc6-a36c-32fa7363256e"
      },
      "source": [
        "cars.head(25)"
      ],
      "execution_count": null,
      "outputs": [
        {
          "output_type": "execute_result",
          "data": {
            "text/html": [
              "<div>\n",
              "<style scoped>\n",
              "    .dataframe tbody tr th:only-of-type {\n",
              "        vertical-align: middle;\n",
              "    }\n",
              "\n",
              "    .dataframe tbody tr th {\n",
              "        vertical-align: top;\n",
              "    }\n",
              "\n",
              "    .dataframe thead th {\n",
              "        text-align: right;\n",
              "    }\n",
              "</style>\n",
              "<table border=\"1\" class=\"dataframe\">\n",
              "  <thead>\n",
              "    <tr style=\"text-align: right;\">\n",
              "      <th></th>\n",
              "      <th>price</th>\n",
              "      <th>maint</th>\n",
              "      <th>doors</th>\n",
              "      <th>persons</th>\n",
              "      <th>lug_capacity</th>\n",
              "      <th>safety</th>\n",
              "      <th>output</th>\n",
              "    </tr>\n",
              "  </thead>\n",
              "  <tbody>\n",
              "    <tr>\n",
              "      <th>0</th>\n",
              "      <td>vhigh</td>\n",
              "      <td>vhigh</td>\n",
              "      <td>2</td>\n",
              "      <td>2</td>\n",
              "      <td>small</td>\n",
              "      <td>low</td>\n",
              "      <td>unacc</td>\n",
              "    </tr>\n",
              "    <tr>\n",
              "      <th>1</th>\n",
              "      <td>vhigh</td>\n",
              "      <td>vhigh</td>\n",
              "      <td>2</td>\n",
              "      <td>2</td>\n",
              "      <td>small</td>\n",
              "      <td>med</td>\n",
              "      <td>unacc</td>\n",
              "    </tr>\n",
              "    <tr>\n",
              "      <th>2</th>\n",
              "      <td>vhigh</td>\n",
              "      <td>vhigh</td>\n",
              "      <td>2</td>\n",
              "      <td>2</td>\n",
              "      <td>small</td>\n",
              "      <td>high</td>\n",
              "      <td>unacc</td>\n",
              "    </tr>\n",
              "    <tr>\n",
              "      <th>3</th>\n",
              "      <td>vhigh</td>\n",
              "      <td>vhigh</td>\n",
              "      <td>2</td>\n",
              "      <td>2</td>\n",
              "      <td>med</td>\n",
              "      <td>low</td>\n",
              "      <td>unacc</td>\n",
              "    </tr>\n",
              "    <tr>\n",
              "      <th>4</th>\n",
              "      <td>vhigh</td>\n",
              "      <td>vhigh</td>\n",
              "      <td>2</td>\n",
              "      <td>2</td>\n",
              "      <td>med</td>\n",
              "      <td>med</td>\n",
              "      <td>unacc</td>\n",
              "    </tr>\n",
              "    <tr>\n",
              "      <th>5</th>\n",
              "      <td>vhigh</td>\n",
              "      <td>vhigh</td>\n",
              "      <td>2</td>\n",
              "      <td>2</td>\n",
              "      <td>med</td>\n",
              "      <td>high</td>\n",
              "      <td>unacc</td>\n",
              "    </tr>\n",
              "    <tr>\n",
              "      <th>6</th>\n",
              "      <td>vhigh</td>\n",
              "      <td>vhigh</td>\n",
              "      <td>2</td>\n",
              "      <td>2</td>\n",
              "      <td>big</td>\n",
              "      <td>low</td>\n",
              "      <td>unacc</td>\n",
              "    </tr>\n",
              "    <tr>\n",
              "      <th>7</th>\n",
              "      <td>vhigh</td>\n",
              "      <td>vhigh</td>\n",
              "      <td>2</td>\n",
              "      <td>2</td>\n",
              "      <td>big</td>\n",
              "      <td>med</td>\n",
              "      <td>unacc</td>\n",
              "    </tr>\n",
              "    <tr>\n",
              "      <th>8</th>\n",
              "      <td>vhigh</td>\n",
              "      <td>vhigh</td>\n",
              "      <td>2</td>\n",
              "      <td>2</td>\n",
              "      <td>big</td>\n",
              "      <td>high</td>\n",
              "      <td>unacc</td>\n",
              "    </tr>\n",
              "    <tr>\n",
              "      <th>9</th>\n",
              "      <td>vhigh</td>\n",
              "      <td>vhigh</td>\n",
              "      <td>2</td>\n",
              "      <td>4</td>\n",
              "      <td>small</td>\n",
              "      <td>low</td>\n",
              "      <td>unacc</td>\n",
              "    </tr>\n",
              "    <tr>\n",
              "      <th>10</th>\n",
              "      <td>vhigh</td>\n",
              "      <td>vhigh</td>\n",
              "      <td>2</td>\n",
              "      <td>4</td>\n",
              "      <td>small</td>\n",
              "      <td>med</td>\n",
              "      <td>unacc</td>\n",
              "    </tr>\n",
              "    <tr>\n",
              "      <th>11</th>\n",
              "      <td>vhigh</td>\n",
              "      <td>vhigh</td>\n",
              "      <td>2</td>\n",
              "      <td>4</td>\n",
              "      <td>small</td>\n",
              "      <td>high</td>\n",
              "      <td>unacc</td>\n",
              "    </tr>\n",
              "    <tr>\n",
              "      <th>12</th>\n",
              "      <td>vhigh</td>\n",
              "      <td>vhigh</td>\n",
              "      <td>2</td>\n",
              "      <td>4</td>\n",
              "      <td>med</td>\n",
              "      <td>low</td>\n",
              "      <td>unacc</td>\n",
              "    </tr>\n",
              "    <tr>\n",
              "      <th>13</th>\n",
              "      <td>vhigh</td>\n",
              "      <td>vhigh</td>\n",
              "      <td>2</td>\n",
              "      <td>4</td>\n",
              "      <td>med</td>\n",
              "      <td>med</td>\n",
              "      <td>unacc</td>\n",
              "    </tr>\n",
              "    <tr>\n",
              "      <th>14</th>\n",
              "      <td>vhigh</td>\n",
              "      <td>vhigh</td>\n",
              "      <td>2</td>\n",
              "      <td>4</td>\n",
              "      <td>med</td>\n",
              "      <td>high</td>\n",
              "      <td>unacc</td>\n",
              "    </tr>\n",
              "    <tr>\n",
              "      <th>15</th>\n",
              "      <td>vhigh</td>\n",
              "      <td>vhigh</td>\n",
              "      <td>2</td>\n",
              "      <td>4</td>\n",
              "      <td>big</td>\n",
              "      <td>low</td>\n",
              "      <td>unacc</td>\n",
              "    </tr>\n",
              "    <tr>\n",
              "      <th>16</th>\n",
              "      <td>vhigh</td>\n",
              "      <td>vhigh</td>\n",
              "      <td>2</td>\n",
              "      <td>4</td>\n",
              "      <td>big</td>\n",
              "      <td>med</td>\n",
              "      <td>unacc</td>\n",
              "    </tr>\n",
              "    <tr>\n",
              "      <th>17</th>\n",
              "      <td>vhigh</td>\n",
              "      <td>vhigh</td>\n",
              "      <td>2</td>\n",
              "      <td>4</td>\n",
              "      <td>big</td>\n",
              "      <td>high</td>\n",
              "      <td>unacc</td>\n",
              "    </tr>\n",
              "    <tr>\n",
              "      <th>18</th>\n",
              "      <td>vhigh</td>\n",
              "      <td>vhigh</td>\n",
              "      <td>2</td>\n",
              "      <td>more</td>\n",
              "      <td>small</td>\n",
              "      <td>low</td>\n",
              "      <td>unacc</td>\n",
              "    </tr>\n",
              "    <tr>\n",
              "      <th>19</th>\n",
              "      <td>vhigh</td>\n",
              "      <td>vhigh</td>\n",
              "      <td>2</td>\n",
              "      <td>more</td>\n",
              "      <td>small</td>\n",
              "      <td>med</td>\n",
              "      <td>unacc</td>\n",
              "    </tr>\n",
              "    <tr>\n",
              "      <th>20</th>\n",
              "      <td>vhigh</td>\n",
              "      <td>vhigh</td>\n",
              "      <td>2</td>\n",
              "      <td>more</td>\n",
              "      <td>small</td>\n",
              "      <td>high</td>\n",
              "      <td>unacc</td>\n",
              "    </tr>\n",
              "    <tr>\n",
              "      <th>21</th>\n",
              "      <td>vhigh</td>\n",
              "      <td>vhigh</td>\n",
              "      <td>2</td>\n",
              "      <td>more</td>\n",
              "      <td>med</td>\n",
              "      <td>low</td>\n",
              "      <td>unacc</td>\n",
              "    </tr>\n",
              "    <tr>\n",
              "      <th>22</th>\n",
              "      <td>vhigh</td>\n",
              "      <td>vhigh</td>\n",
              "      <td>2</td>\n",
              "      <td>more</td>\n",
              "      <td>med</td>\n",
              "      <td>med</td>\n",
              "      <td>unacc</td>\n",
              "    </tr>\n",
              "    <tr>\n",
              "      <th>23</th>\n",
              "      <td>vhigh</td>\n",
              "      <td>vhigh</td>\n",
              "      <td>2</td>\n",
              "      <td>more</td>\n",
              "      <td>med</td>\n",
              "      <td>high</td>\n",
              "      <td>unacc</td>\n",
              "    </tr>\n",
              "    <tr>\n",
              "      <th>24</th>\n",
              "      <td>vhigh</td>\n",
              "      <td>vhigh</td>\n",
              "      <td>2</td>\n",
              "      <td>more</td>\n",
              "      <td>big</td>\n",
              "      <td>low</td>\n",
              "      <td>unacc</td>\n",
              "    </tr>\n",
              "  </tbody>\n",
              "</table>\n",
              "</div>"
            ],
            "text/plain": [
              "    price  maint doors persons lug_capacity safety output\n",
              "0   vhigh  vhigh     2       2        small    low  unacc\n",
              "1   vhigh  vhigh     2       2        small    med  unacc\n",
              "2   vhigh  vhigh     2       2        small   high  unacc\n",
              "3   vhigh  vhigh     2       2          med    low  unacc\n",
              "4   vhigh  vhigh     2       2          med    med  unacc\n",
              "5   vhigh  vhigh     2       2          med   high  unacc\n",
              "6   vhigh  vhigh     2       2          big    low  unacc\n",
              "7   vhigh  vhigh     2       2          big    med  unacc\n",
              "8   vhigh  vhigh     2       2          big   high  unacc\n",
              "9   vhigh  vhigh     2       4        small    low  unacc\n",
              "10  vhigh  vhigh     2       4        small    med  unacc\n",
              "11  vhigh  vhigh     2       4        small   high  unacc\n",
              "12  vhigh  vhigh     2       4          med    low  unacc\n",
              "13  vhigh  vhigh     2       4          med    med  unacc\n",
              "14  vhigh  vhigh     2       4          med   high  unacc\n",
              "15  vhigh  vhigh     2       4          big    low  unacc\n",
              "16  vhigh  vhigh     2       4          big    med  unacc\n",
              "17  vhigh  vhigh     2       4          big   high  unacc\n",
              "18  vhigh  vhigh     2    more        small    low  unacc\n",
              "19  vhigh  vhigh     2    more        small    med  unacc\n",
              "20  vhigh  vhigh     2    more        small   high  unacc\n",
              "21  vhigh  vhigh     2    more          med    low  unacc\n",
              "22  vhigh  vhigh     2    more          med    med  unacc\n",
              "23  vhigh  vhigh     2    more          med   high  unacc\n",
              "24  vhigh  vhigh     2    more          big    low  unacc"
            ]
          },
          "metadata": {
            "tags": []
          },
          "execution_count": 25
        }
      ]
    },
    {
      "cell_type": "code",
      "metadata": {
        "id": "s3CE_llvgwkK",
        "colab": {
          "base_uri": "https://localhost:8080/",
          "height": 374
        },
        "outputId": "d220369e-6517-4c02-ad49-bacd55ed4655"
      },
      "source": [
        "plot_size = plt.rcParams[\"figure.figsize\"]\n",
        "plot_size [0] = 8\n",
        "plot_size [1] = 6\n",
        "plt.rcParams[\"figure.figsize\"] = plot_size\n",
        "\n",
        "\n",
        "cars.output.value_counts().plot(kind='pie', autopct='%0.05f%%', colors=['lightblue', 'lightgreen', 'orange', 'pink'], explode=(0.05, 0.05, 0.05,0.05))"
      ],
      "execution_count": null,
      "outputs": [
        {
          "output_type": "execute_result",
          "data": {
            "text/plain": [
              "<matplotlib.axes._subplots.AxesSubplot at 0x7f3f4ff6b470>"
            ]
          },
          "metadata": {
            "tags": []
          },
          "execution_count": 26
        },
        {
          "output_type": "display_data",
          "data": {
            "image/png": "[encoded data removed]",
            "text/plain": [
              "<Figure size 576x432 with 1 Axes>"
            ]
          },
          "metadata": {
            "tags": []
          }
        }
      ]
    },
    {
      "cell_type": "markdown",
      "metadata": {
        "id": "VV7Nwt3pg126"
      },
      "source": [
        "All the columns in our dataset are categorical. Deep learning is based on statistical algorithms and statistical algorithms work with numbers. Therefore, we need to convert the categorical information into numeric columns. There are various approaches to do that but one of the most common approach is one-hot encoding."
      ]
    },
    {
      "cell_type": "code",
      "metadata": {
        "id": "ny_JaVacg4hO"
      },
      "source": [
        "price = pd.get_dummies(cars.price, prefix='price')\n",
        "maint = pd.get_dummies(cars.maint, prefix='maint')\n",
        "\n",
        "doors = pd.get_dummies(cars.doors, prefix='doors')\n",
        "persons = pd.get_dummies(cars.persons, prefix='persons')\n",
        "\n",
        "lug_capacity = pd.get_dummies(cars.lug_capacity, prefix='lug_capacity')\n",
        "safety = pd.get_dummies(cars.safety, prefix='safety')\n",
        "\n",
        "labels = pd.get_dummies(cars.output, prefix='condition')"
      ],
      "execution_count": null,
      "outputs": []
    },
    {
      "cell_type": "code",
      "metadata": {
        "id": "MZXhw1Z0g9gF",
        "colab": {
          "base_uri": "https://localhost:8080/",
          "height": 203
        },
        "outputId": "f0b8aebc-6747-42cf-d7e1-de2c09073769"
      },
      "source": [
        "X = pd.concat([price, maint, doors, persons, lug_capacity, safety] , axis=1)\n",
        "\n",
        "labels.tail()"
      ],
      "execution_count": null,
      "outputs": [
        {
          "output_type": "execute_result",
          "data": {
            "text/html": [
              "<div>\n",
              "<style scoped>\n",
              "    .dataframe tbody tr th:only-of-type {\n",
              "        vertical-align: middle;\n",
              "    }\n",
              "\n",
              "    .dataframe tbody tr th {\n",
              "        vertical-align: top;\n",
              "    }\n",
              "\n",
              "    .dataframe thead th {\n",
              "        text-align: right;\n",
              "    }\n",
              "</style>\n",
              "<table border=\"1\" class=\"dataframe\">\n",
              "  <thead>\n",
              "    <tr style=\"text-align: right;\">\n",
              "      <th></th>\n",
              "      <th>condition_acc</th>\n",
              "      <th>condition_good</th>\n",
              "      <th>condition_unacc</th>\n",
              "      <th>condition_vgood</th>\n",
              "    </tr>\n",
              "  </thead>\n",
              "  <tbody>\n",
              "    <tr>\n",
              "      <th>1723</th>\n",
              "      <td>0</td>\n",
              "      <td>1</td>\n",
              "      <td>0</td>\n",
              "      <td>0</td>\n",
              "    </tr>\n",
              "    <tr>\n",
              "      <th>1724</th>\n",
              "      <td>0</td>\n",
              "      <td>0</td>\n",
              "      <td>0</td>\n",
              "      <td>1</td>\n",
              "    </tr>\n",
              "    <tr>\n",
              "      <th>1725</th>\n",
              "      <td>0</td>\n",
              "      <td>0</td>\n",
              "      <td>1</td>\n",
              "      <td>0</td>\n",
              "    </tr>\n",
              "    <tr>\n",
              "      <th>1726</th>\n",
              "      <td>0</td>\n",
              "      <td>1</td>\n",
              "      <td>0</td>\n",
              "      <td>0</td>\n",
              "    </tr>\n",
              "    <tr>\n",
              "      <th>1727</th>\n",
              "      <td>0</td>\n",
              "      <td>0</td>\n",
              "      <td>0</td>\n",
              "      <td>1</td>\n",
              "    </tr>\n",
              "  </tbody>\n",
              "</table>\n",
              "</div>"
            ],
            "text/plain": [
              "      condition_acc  condition_good  condition_unacc  condition_vgood\n",
              "1723              0               1                0                0\n",
              "1724              0               0                0                1\n",
              "1725              0               0                1                0\n",
              "1726              0               1                0                0\n",
              "1727              0               0                0                1"
            ]
          },
          "metadata": {
            "tags": []
          },
          "execution_count": 28
        }
      ]
    },
    {
      "cell_type": "code",
      "metadata": {
        "id": "tjzv0cLNg_5w"
      },
      "source": [
        "y = labels.values\n",
        "\n",
        "X_train, X_test, y_train, y_test = train_test_split(X, y, test_size=0.20, random_state=42)"
      ],
      "execution_count": null,
      "outputs": []
    },
    {
      "cell_type": "code",
      "metadata": {
        "id": "JP8MuryghFRo"
      },
      "source": [
        "input_layer = Input(shape=(X.shape[1],))\n",
        "dense_layer_1 = Dense(15, activation='tanh')(input_layer)\n",
        "dense_layer_2 = Dense(10, activation='relu')(dense_layer_1)\n",
        "output = Dense(y.shape[1], activation='softmax')(dense_layer_2)\n",
        "\n",
        "model = Model(inputs=input_layer, outputs=output)\n",
        "model.compile(loss='categorical_crossentropy', optimizer='adam', metrics=['acc'])"
      ],
      "execution_count": null,
      "outputs": []
    },
    {
      "cell_type": "code",
      "metadata": {
        "id": "-IUNHZkShIcD",
        "colab": {
          "base_uri": "https://localhost:8080/"
        },
        "outputId": "c20b1aa5-c7cf-482d-c0dc-5db6f4fa0e23"
      },
      "source": [
        "print(model.summary())"
      ],
      "execution_count": null,
      "outputs": [
        {
          "output_type": "stream",
          "text": [
            "Model: \"model_1\"\n",
            "_________________________________________________________________\n",
            "Layer (type)                 Output Shape              Param #   \n",
            "=================================================================\n",
            "input_2 (InputLayer)         [(None, 21)]              0         \n",
            "_________________________________________________________________\n",
            "dense_36 (Dense)             (None, 15)                330       \n",
            "_________________________________________________________________\n",
            "dense_37 (Dense)             (None, 10)                160       \n",
            "_________________________________________________________________\n",
            "dense_38 (Dense)             (None, 4)                 44        \n",
            "=================================================================\n",
            "Total params: 534\n",
            "Trainable params: 534\n",
            "Non-trainable params: 0\n",
            "_________________________________________________________________\n",
            "None\n"
          ],
          "name": "stdout"
        }
      ]
    },
    {
      "cell_type": "code",
      "metadata": {
        "id": "IMfndajLhO_-",
        "colab": {
          "base_uri": "https://localhost:8080/"
        },
        "outputId": "56bacba9-96f0-497a-de89-61794502576f"
      },
      "source": [
        "history = model.fit(X_train, y_train, batch_size=32, epochs=50, verbose=1, validation_split=0.2)"
      ],
      "execution_count": null,
      "outputs": [
        {
          "output_type": "stream",
          "text": [
            "Epoch 1/50\n",
            "35/35 [==============================] - 1s 7ms/step - loss: 1.1948 - acc: 0.4452 - val_loss: 0.9796 - val_acc: 0.6462\n",
            "Epoch 2/50\n",
            "35/35 [==============================] - 0s 3ms/step - loss: 0.8598 - acc: 0.7156 - val_loss: 0.8597 - val_acc: 0.6498\n",
            "Epoch 3/50\n",
            "35/35 [==============================] - 0s 3ms/step - loss: 0.7326 - acc: 0.7176 - val_loss: 0.7690 - val_acc: 0.6498\n",
            "Epoch 4/50\n",
            "35/35 [==============================] - 0s 3ms/step - loss: 0.6957 - acc: 0.6871 - val_loss: 0.6918 - val_acc: 0.6498\n",
            "Epoch 5/50\n",
            "35/35 [==============================] - 0s 3ms/step - loss: 0.6012 - acc: 0.7037 - val_loss: 0.6277 - val_acc: 0.6498\n",
            "Epoch 6/50\n",
            "35/35 [==============================] - 0s 3ms/step - loss: 0.5198 - acc: 0.7171 - val_loss: 0.5742 - val_acc: 0.6606\n",
            "Epoch 7/50\n",
            "35/35 [==============================] - 0s 3ms/step - loss: 0.4792 - acc: 0.7260 - val_loss: 0.5268 - val_acc: 0.7148\n",
            "Epoch 8/50\n",
            "35/35 [==============================] - 0s 3ms/step - loss: 0.4184 - acc: 0.7930 - val_loss: 0.4847 - val_acc: 0.7762\n",
            "Epoch 9/50\n",
            "35/35 [==============================] - 0s 6ms/step - loss: 0.3548 - acc: 0.8591 - val_loss: 0.4492 - val_acc: 0.8014\n",
            "Epoch 10/50\n",
            "35/35 [==============================] - 0s 3ms/step - loss: 0.3351 - acc: 0.8818 - val_loss: 0.4196 - val_acc: 0.8339\n",
            "Epoch 11/50\n",
            "35/35 [==============================] - 0s 3ms/step - loss: 0.3423 - acc: 0.8663 - val_loss: 0.3910 - val_acc: 0.8375\n",
            "Epoch 12/50\n",
            "35/35 [==============================] - 0s 3ms/step - loss: 0.3163 - acc: 0.8748 - val_loss: 0.3646 - val_acc: 0.8520\n",
            "Epoch 13/50\n",
            "35/35 [==============================] - 0s 3ms/step - loss: 0.2772 - acc: 0.8910 - val_loss: 0.3421 - val_acc: 0.8773\n",
            "Epoch 14/50\n",
            "35/35 [==============================] - 0s 4ms/step - loss: 0.2441 - acc: 0.9082 - val_loss: 0.3232 - val_acc: 0.8773\n",
            "Epoch 15/50\n",
            "35/35 [==============================] - 0s 3ms/step - loss: 0.2448 - acc: 0.9246 - val_loss: 0.3051 - val_acc: 0.8736\n",
            "Epoch 16/50\n",
            "35/35 [==============================] - 0s 4ms/step - loss: 0.2305 - acc: 0.9109 - val_loss: 0.2895 - val_acc: 0.8917\n",
            "Epoch 17/50\n",
            "35/35 [==============================] - 0s 4ms/step - loss: 0.2127 - acc: 0.9157 - val_loss: 0.2774 - val_acc: 0.8881\n",
            "Epoch 18/50\n",
            "35/35 [==============================] - 0s 4ms/step - loss: 0.2163 - acc: 0.9207 - val_loss: 0.2628 - val_acc: 0.8989\n",
            "Epoch 19/50\n",
            "35/35 [==============================] - 0s 4ms/step - loss: 0.1805 - acc: 0.9395 - val_loss: 0.2562 - val_acc: 0.8953\n",
            "Epoch 20/50\n",
            "35/35 [==============================] - 0s 3ms/step - loss: 0.1863 - acc: 0.9349 - val_loss: 0.2483 - val_acc: 0.8953\n",
            "Epoch 21/50\n",
            "35/35 [==============================] - 0s 3ms/step - loss: 0.2011 - acc: 0.9211 - val_loss: 0.2394 - val_acc: 0.8989\n",
            "Epoch 22/50\n",
            "35/35 [==============================] - 0s 4ms/step - loss: 0.1817 - acc: 0.9302 - val_loss: 0.2319 - val_acc: 0.8953\n",
            "Epoch 23/50\n",
            "35/35 [==============================] - 0s 3ms/step - loss: 0.1607 - acc: 0.9473 - val_loss: 0.2275 - val_acc: 0.8989\n",
            "Epoch 24/50\n",
            "35/35 [==============================] - 0s 3ms/step - loss: 0.1492 - acc: 0.9561 - val_loss: 0.2214 - val_acc: 0.9061\n",
            "Epoch 25/50\n",
            "35/35 [==============================] - 0s 3ms/step - loss: 0.1571 - acc: 0.9508 - val_loss: 0.2121 - val_acc: 0.9242\n",
            "Epoch 26/50\n",
            "35/35 [==============================] - 0s 3ms/step - loss: 0.1463 - acc: 0.9598 - val_loss: 0.2083 - val_acc: 0.9170\n",
            "Epoch 27/50\n",
            "35/35 [==============================] - 0s 3ms/step - loss: 0.1522 - acc: 0.9424 - val_loss: 0.2058 - val_acc: 0.9170\n",
            "Epoch 28/50\n",
            "35/35 [==============================] - 0s 3ms/step - loss: 0.1571 - acc: 0.9414 - val_loss: 0.2082 - val_acc: 0.9061\n",
            "Epoch 29/50\n",
            "35/35 [==============================] - 0s 3ms/step - loss: 0.1377 - acc: 0.9530 - val_loss: 0.1960 - val_acc: 0.9278\n",
            "Epoch 30/50\n",
            "35/35 [==============================] - 0s 3ms/step - loss: 0.1532 - acc: 0.9491 - val_loss: 0.1982 - val_acc: 0.9206\n",
            "Epoch 31/50\n",
            "35/35 [==============================] - 0s 3ms/step - loss: 0.1258 - acc: 0.9618 - val_loss: 0.1871 - val_acc: 0.9314\n",
            "Epoch 32/50\n",
            "35/35 [==============================] - 0s 3ms/step - loss: 0.1310 - acc: 0.9581 - val_loss: 0.1879 - val_acc: 0.9242\n",
            "Epoch 33/50\n",
            "35/35 [==============================] - 0s 3ms/step - loss: 0.1192 - acc: 0.9640 - val_loss: 0.1849 - val_acc: 0.9242\n",
            "Epoch 34/50\n",
            "35/35 [==============================] - 0s 3ms/step - loss: 0.1360 - acc: 0.9586 - val_loss: 0.1782 - val_acc: 0.9278\n",
            "Epoch 35/50\n",
            "35/35 [==============================] - 0s 3ms/step - loss: 0.1162 - acc: 0.9579 - val_loss: 0.1823 - val_acc: 0.9314\n",
            "Epoch 36/50\n",
            "35/35 [==============================] - 0s 4ms/step - loss: 0.1079 - acc: 0.9689 - val_loss: 0.1755 - val_acc: 0.9350\n",
            "Epoch 37/50\n",
            "35/35 [==============================] - 0s 4ms/step - loss: 0.1128 - acc: 0.9686 - val_loss: 0.1718 - val_acc: 0.9422\n",
            "Epoch 38/50\n",
            "35/35 [==============================] - 0s 4ms/step - loss: 0.1026 - acc: 0.9772 - val_loss: 0.1657 - val_acc: 0.9422\n",
            "Epoch 39/50\n",
            "35/35 [==============================] - 0s 4ms/step - loss: 0.1179 - acc: 0.9652 - val_loss: 0.1659 - val_acc: 0.9422\n",
            "Epoch 40/50\n",
            "35/35 [==============================] - 0s 4ms/step - loss: 0.1077 - acc: 0.9671 - val_loss: 0.1679 - val_acc: 0.9350\n",
            "Epoch 41/50\n",
            "35/35 [==============================] - 0s 4ms/step - loss: 0.1125 - acc: 0.9628 - val_loss: 0.1609 - val_acc: 0.9422\n",
            "Epoch 42/50\n",
            "35/35 [==============================] - 0s 4ms/step - loss: 0.0845 - acc: 0.9767 - val_loss: 0.1600 - val_acc: 0.9422\n",
            "Epoch 43/50\n",
            "35/35 [==============================] - 0s 4ms/step - loss: 0.1141 - acc: 0.9597 - val_loss: 0.1548 - val_acc: 0.9531\n",
            "Epoch 44/50\n",
            "35/35 [==============================] - 0s 4ms/step - loss: 0.0926 - acc: 0.9764 - val_loss: 0.1547 - val_acc: 0.9458\n",
            "Epoch 45/50\n",
            "35/35 [==============================] - 0s 3ms/step - loss: 0.0885 - acc: 0.9762 - val_loss: 0.1536 - val_acc: 0.9495\n",
            "Epoch 46/50\n",
            "35/35 [==============================] - 0s 3ms/step - loss: 0.0907 - acc: 0.9798 - val_loss: 0.1514 - val_acc: 0.9495\n",
            "Epoch 47/50\n",
            "35/35 [==============================] - 0s 3ms/step - loss: 0.0888 - acc: 0.9785 - val_loss: 0.1449 - val_acc: 0.9531\n",
            "Epoch 48/50\n",
            "35/35 [==============================] - 0s 3ms/step - loss: 0.0963 - acc: 0.9783 - val_loss: 0.1412 - val_acc: 0.9495\n",
            "Epoch 49/50\n",
            "35/35 [==============================] - 0s 3ms/step - loss: 0.0807 - acc: 0.9774 - val_loss: 0.1422 - val_acc: 0.9495\n",
            "Epoch 50/50\n",
            "35/35 [==============================] - 0s 3ms/step - loss: 0.0777 - acc: 0.9805 - val_loss: 0.1336 - val_acc: 0.9603\n"
          ],
          "name": "stdout"
        }
      ]
    },
    {
      "cell_type": "code",
      "metadata": {
        "id": "nbQsm7CLhSF1",
        "colab": {
          "base_uri": "https://localhost:8080/"
        },
        "outputId": "1255a394-c068-4a68-8910-30e92d6dbde7"
      },
      "source": [
        "score = model.evaluate(X_test, y_test, verbose=1)\n",
        "\n",
        "print(\"Test Accuracy:\", score[1])"
      ],
      "execution_count": null,
      "outputs": [
        {
          "output_type": "stream",
          "text": [
            "11/11 [==============================] - 0s 2ms/step - loss: 0.1283 - acc: 0.9566\n",
            "Test Accuracy: 0.9566473960876465\n"
          ],
          "name": "stdout"
        }
      ]
    },
    {
      "cell_type": "code",
      "metadata": {
        "id": "3Mrx0sguyASu",
        "colab": {
          "base_uri": "https://localhost:8080/"
        },
        "outputId": "ec5709bd-ccec-42ff-8b4a-3b6c7262678c"
      },
      "source": [
        "model.save('classification_model')"
      ],
      "execution_count": null,
      "outputs": [
        {
          "output_type": "stream",
          "text": [
            "INFO:tensorflow:Assets written to: classification_model/assets\n"
          ],
          "name": "stdout"
        }
      ]
    },
    {
      "cell_type": "code",
      "metadata": {
        "id": "gXAKwqThyKpm",
        "colab": {
          "base_uri": "https://localhost:8080/"
        },
        "outputId": "309cedd5-f556-4cb2-da38-d8831a6b1da6"
      },
      "source": [
        "! ls"
      ],
      "execution_count": null,
      "outputs": [
        {
          "output_type": "stream",
          "text": [
            "car_evaluation.csv  classification_model  petrol_consumption.csv  sample_data\n"
          ],
          "name": "stdout"
        }
      ]
    },
    {
      "cell_type": "code",
      "metadata": {
        "id": "kptVvFQNyQqX"
      },
      "source": [
        "reloaded_model = tf.keras.models.load_model('classification_model')"
      ],
      "execution_count": null,
      "outputs": []
    },
    {
      "cell_type": "code",
      "metadata": {
        "id": "lczh2RO7yZDO",
        "colab": {
          "base_uri": "https://localhost:8080/"
        },
        "outputId": "8d708810-a712-457c-de85-7a3058e07602"
      },
      "source": [
        "score = reloaded_model.evaluate(X_test, y_test, verbose=1)\n",
        "\n",
        "print(\"Test Accuracy:\", score[1])"
      ],
      "execution_count": null,
      "outputs": [
        {
          "output_type": "stream",
          "text": [
            "11/11 [==============================] - 0s 2ms/step - loss: 0.1283 - acc: 0.9566\n",
            "Test Accuracy: 0.9566473960876465\n"
          ],
          "name": "stdout"
        }
      ]
    },
    {
      "cell_type": "markdown",
      "metadata": {
        "id": "o5DmvfhuhaVJ"
      },
      "source": [
        "## Saving the Model"
      ]
    },
    {
      "cell_type": "code",
      "metadata": {
        "id": "qknWkadKhc_y",
        "colab": {
          "base_uri": "https://localhost:8080/"
        },
        "outputId": "c6460388-f0f1-4c05-dcd3-00115d84b807"
      },
      "source": [
        "# Create a simple model\n",
        "model = tf.keras.Sequential([\n",
        "  layers.Dense(10, activation='relu', input_shape=(32,)),\n",
        "  layers.Dense(10)\n",
        "])\n",
        "model.compile(optimizer='rmsprop',\n",
        "              loss=tf.keras.losses.CategoricalCrossentropy(from_logits=True),\n",
        "              metrics=['accuracy'])\n",
        "model.fit(data, labels, batch_size=32, epochs=5)\n",
        "\n",
        "\n",
        "# Save entire model to a HDF5 file\n",
        "model.save('my_model.h5')\n",
        "\n",
        "# Recreate the exact same model, including weights and optimizer.\n",
        "model = tf.keras.models.load_model('my_model.h5')"
      ],
      "execution_count": null,
      "outputs": [
        {
          "output_type": "error",
          "ename": "NameError",
          "evalue": "ignored",
          "traceback": [
            "\u001b[0;31m---------------------------------------------------------------------------\u001b[0m",
            "\u001b[0;31mNameError\u001b[0m                                 Traceback (most recent call last)",
            "\u001b[0;32m<ipython-input-38-bc06ef02757f>\u001b[0m in \u001b[0;36m<module>\u001b[0;34m()\u001b[0m\n\u001b[1;32m      1\u001b[0m \u001b[0;31m# Create a simple model\u001b[0m\u001b[0;34m\u001b[0m\u001b[0;34m\u001b[0m\u001b[0;34m\u001b[0m\u001b[0m\n\u001b[1;32m      2\u001b[0m model = tf.keras.Sequential([\n\u001b[0;32m----> 3\u001b[0;31m   \u001b[0mlayers\u001b[0m\u001b[0;34m.\u001b[0m\u001b[0mDense\u001b[0m\u001b[0;34m(\u001b[0m\u001b[0;36m10\u001b[0m\u001b[0;34m,\u001b[0m \u001b[0mactivation\u001b[0m\u001b[0;34m=\u001b[0m\u001b[0;34m'relu'\u001b[0m\u001b[0;34m,\u001b[0m \u001b[0minput_shape\u001b[0m\u001b[0;34m=\u001b[0m\u001b[0;34m(\u001b[0m\u001b[0;36m32\u001b[0m\u001b[0;34m,\u001b[0m\u001b[0;34m)\u001b[0m\u001b[0;34m)\u001b[0m\u001b[0;34m,\u001b[0m\u001b[0;34m\u001b[0m\u001b[0;34m\u001b[0m\u001b[0m\n\u001b[0m\u001b[1;32m      4\u001b[0m   \u001b[0mlayers\u001b[0m\u001b[0;34m.\u001b[0m\u001b[0mDense\u001b[0m\u001b[0;34m(\u001b[0m\u001b[0;36m10\u001b[0m\u001b[0;34m)\u001b[0m\u001b[0;34m\u001b[0m\u001b[0;34m\u001b[0m\u001b[0m\n\u001b[1;32m      5\u001b[0m ])\n",
            "\u001b[0;31mNameError\u001b[0m: name 'layers' is not defined"
          ]
        }
      ]
    },
    {
      "cell_type": "markdown",
      "metadata": {
        "id": "_9JHSajkhkGy"
      },
      "source": [
        "Remember that TensorFlow and Keras don't represent a single workflow. It's a spectrum of workflows, each with its own trade-off between usability and flexibility. For instance, you've noticed that it's much easier to use fit than to write a custom training loop, but fit doesn't give you the same level of granular control for research use cases.\n",
        "\n",
        "So use the right tool for the job!\n",
        "\n",
        "A core principle of Keras is \"progressive disclosure of complexity\": it's easy to get started, and you can gradually dive into workflows where you write more and more logic from scratch, providing you with complete control.\n",
        "\n",
        "This applies to both model definition, and model training."
      ]
    }
  ]
}