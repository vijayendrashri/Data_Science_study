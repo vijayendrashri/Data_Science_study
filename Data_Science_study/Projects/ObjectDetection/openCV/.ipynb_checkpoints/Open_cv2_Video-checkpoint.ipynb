{
 "cells": [
  {
   "cell_type": "code",
   "execution_count": 1,
   "id": "91ecdd7c",
   "metadata": {
    "ExecuteTime": {
     "end_time": "2021-08-13T18:09:15.815107Z",
     "start_time": "2021-08-13T18:09:15.682595Z"
    }
   },
   "outputs": [],
   "source": [
    "import cv2"
   ]
  },
  {
   "cell_type": "code",
   "execution_count": 2,
   "id": "2fe10b36",
   "metadata": {
    "ExecuteTime": {
     "end_time": "2021-08-13T18:09:15.862334Z",
     "start_time": "2021-08-13T18:09:15.840417Z"
    }
   },
   "outputs": [
    {
     "data": {
      "text/plain": [
       "False"
      ]
     },
     "execution_count": 2,
     "metadata": {},
     "output_type": "execute_result"
    }
   ],
   "source": [
    "# img = cv2.imread('cars.jpeg')\n",
    "cap =cv2.VideoCapture(0)\n",
    "cap.set(3,640)\n",
    "cap.set(4,480)"
   ]
  },
  {
   "cell_type": "code",
   "execution_count": 3,
   "id": "5bc64a99",
   "metadata": {
    "ExecuteTime": {
     "end_time": "2021-08-13T18:09:16.009701Z",
     "start_time": "2021-08-13T18:09:16.003785Z"
    }
   },
   "outputs": [],
   "source": [
    "classNames = []\n",
    "classFile = '../YOLO/coco.names'\n",
    "with open(classFile, 'r') as f:\n",
    "    classNames = f.read().rstrip('\\n').split('\\n')\n",
    "\n",
    "configPath = '../YOLO/yolov3.cfg'\n",
    "weightPath = '../YOLO/yolov3.weights'"
   ]
  },
  {
   "cell_type": "code",
   "execution_count": 4,
   "id": "5fe004bd",
   "metadata": {
    "ExecuteTime": {
     "end_time": "2021-08-13T18:09:17.091732Z",
     "start_time": "2021-08-13T18:09:16.906515Z"
    }
   },
   "outputs": [
    {
     "data": {
      "text/plain": [
       "<dnn_Model 0x7f5e06e69ef0>"
      ]
     },
     "execution_count": 4,
     "metadata": {},
     "output_type": "execute_result"
    }
   ],
   "source": [
    "net = cv2.dnn_DetectionModel(weightPath,configPath)\n",
    "net.setInputSize(768,576)\n",
    "net.setInputScale(1.0/127.5)\n",
    "net.setInputMean((127.5,127.5,127.5))\n",
    "net.setInputSwapRB(True)"
   ]
  },
  {
   "cell_type": "code",
   "execution_count": 7,
   "id": "017b1e40",
   "metadata": {
    "ExecuteTime": {
     "end_time": "2021-08-13T18:13:00.811977Z",
     "start_time": "2021-08-13T18:13:00.795919Z"
    }
   },
   "outputs": [
    {
     "ename": "error",
     "evalue": "OpenCV(4.5.3) /tmp/pip-req-build-xw6jtoah/opencv/modules/imgproc/src/resize.cpp:4051: error: (-215:Assertion failed) !ssize.empty() in function 'resize'\n",
     "output_type": "error",
     "traceback": [
      "\u001b[0;31m---------------------------------------------------------------------------\u001b[0m",
      "\u001b[0;31merror\u001b[0m                                     Traceback (most recent call last)",
      "\u001b[0;32m<ipython-input-7-67d5cb0675ee>\u001b[0m in \u001b[0;36m<module>\u001b[0;34m\u001b[0m\n\u001b[1;32m      1\u001b[0m \u001b[0;32mwhile\u001b[0m \u001b[0;32mTrue\u001b[0m\u001b[0;34m:\u001b[0m\u001b[0;34m\u001b[0m\u001b[0;34m\u001b[0m\u001b[0m\n\u001b[1;32m      2\u001b[0m     \u001b[0msuccess\u001b[0m\u001b[0;34m,\u001b[0m\u001b[0mimg\u001b[0m\u001b[0;34m=\u001b[0m\u001b[0mcap\u001b[0m\u001b[0;34m.\u001b[0m\u001b[0mread\u001b[0m\u001b[0;34m(\u001b[0m\u001b[0;34m)\u001b[0m\u001b[0;34m\u001b[0m\u001b[0;34m\u001b[0m\u001b[0m\n\u001b[0;32m----> 3\u001b[0;31m     \u001b[0mclassIds\u001b[0m\u001b[0;34m,\u001b[0m \u001b[0mconfidence\u001b[0m\u001b[0;34m,\u001b[0m \u001b[0mbbox\u001b[0m \u001b[0;34m=\u001b[0m \u001b[0mnet\u001b[0m\u001b[0;34m.\u001b[0m\u001b[0mdetect\u001b[0m\u001b[0;34m(\u001b[0m\u001b[0mimg\u001b[0m\u001b[0;34m,\u001b[0m \u001b[0mconfThreshold\u001b[0m\u001b[0;34m=\u001b[0m\u001b[0;36m0.5\u001b[0m\u001b[0;34m)\u001b[0m\u001b[0;34m\u001b[0m\u001b[0;34m\u001b[0m\u001b[0m\n\u001b[0m\u001b[1;32m      4\u001b[0m     \u001b[0mprint\u001b[0m\u001b[0;34m(\u001b[0m\u001b[0mclassIds\u001b[0m\u001b[0;34m,\u001b[0m\u001b[0mbbox\u001b[0m\u001b[0;34m)\u001b[0m\u001b[0;34m\u001b[0m\u001b[0;34m\u001b[0m\u001b[0m\n\u001b[1;32m      5\u001b[0m     \u001b[0;32mif\u001b[0m \u001b[0mlen\u001b[0m\u001b[0;34m(\u001b[0m\u001b[0mclassIds\u001b[0m\u001b[0;34m)\u001b[0m\u001b[0;34m!=\u001b[0m\u001b[0;36m0\u001b[0m\u001b[0;34m:\u001b[0m\u001b[0;34m\u001b[0m\u001b[0;34m\u001b[0m\u001b[0m\n",
      "\u001b[0;31merror\u001b[0m: OpenCV(4.5.3) /tmp/pip-req-build-xw6jtoah/opencv/modules/imgproc/src/resize.cpp:4051: error: (-215:Assertion failed) !ssize.empty() in function 'resize'\n"
     ]
    }
   ],
   "source": [
    "while True:\n",
    "    success,img=cap.read()\n",
    "    classIds, confidence, bbox = net.detect(img, confThreshold=0.5)\n",
    "    print(classIds,bbox)\n",
    "    if len(classIds)!=0:\n",
    "        for classId, confid, box in zip(classIds.flatten(), confidence.flatten(),bbox):\n",
    "            cv2.rectangle(img, box, color=(0, 255, 0), thickness=2)\n",
    "            cv2.putText(img, classNames[classId].upper(), (box[0] + 5, box[1] + 5),\n",
    "                    cv2.FONT_HERSHEY_COMPLEX, 1, (0, 255, 0), 2)\n",
    "    cv2.imshow('Output', img)\n",
    "    cv2.waitKey(1)"
   ]
  },
  {
   "cell_type": "code",
   "execution_count": 6,
   "id": "168b1765",
   "metadata": {
    "ExecuteTime": {
     "end_time": "2021-08-13T18:08:07.690320Z",
     "start_time": "2021-08-13T18:08:07.680932Z"
    }
   },
   "outputs": [],
   "source": [
    "cv2.destroyAllWindows()"
   ]
  },
  {
   "cell_type": "code",
   "execution_count": null,
   "id": "31701bbe",
   "metadata": {},
   "outputs": [],
   "source": []
  }
 ],
 "metadata": {
  "kernelspec": {
   "display_name": "Python 3",
   "language": "python",
   "name": "python3"
  },
  "language_info": {
   "codemirror_mode": {
    "name": "ipython",
    "version": 3
   },
   "file_extension": ".py",
   "mimetype": "text/x-python",
   "name": "python",
   "nbconvert_exporter": "python",
   "pygments_lexer": "ipython3",
   "version": "3.8.8"
  }
 },
 "nbformat": 4,
 "nbformat_minor": 5
}
