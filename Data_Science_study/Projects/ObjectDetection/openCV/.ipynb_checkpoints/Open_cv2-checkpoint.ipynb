{
 "cells": [
  {
   "cell_type": "code",
   "execution_count": 24,
   "id": "91ecdd7c",
   "metadata": {
    "ExecuteTime": {
     "end_time": "2021-08-13T18:47:46.706193Z",
     "start_time": "2021-08-13T18:47:46.701563Z"
    }
   },
   "outputs": [],
   "source": [
    "import cv2"
   ]
  },
  {
   "cell_type": "code",
   "execution_count": 25,
   "id": "2fe10b36",
   "metadata": {
    "ExecuteTime": {
     "end_time": "2021-08-13T18:47:46.918889Z",
     "start_time": "2021-08-13T18:47:46.899660Z"
    }
   },
   "outputs": [],
   "source": [
    "img = cv2.imread('cars.jpeg')"
   ]
  },
  {
   "cell_type": "code",
   "execution_count": 26,
   "id": "5bc64a99",
   "metadata": {
    "ExecuteTime": {
     "end_time": "2021-08-13T18:47:47.080988Z",
     "start_time": "2021-08-13T18:47:47.075432Z"
    }
   },
   "outputs": [],
   "source": [
    "classNames = []\n",
    "classFile = '../YOLO/coco.names'\n",
    "with open(classFile, 'r') as f:\n",
    "    classNames = f.read().rstrip('\\n').split('\\n')\n",
    "\n",
    "configPath = '../YOLO/yolov3.cfg'\n",
    "weightPath = '../YOLO/yolov3.weights'"
   ]
  },
  {
   "cell_type": "code",
   "execution_count": 27,
   "id": "5fe004bd",
   "metadata": {
    "ExecuteTime": {
     "end_time": "2021-08-13T18:47:47.436667Z",
     "start_time": "2021-08-13T18:47:47.254626Z"
    }
   },
   "outputs": [
    {
     "data": {
      "text/plain": [
       "<dnn_Model 0x7f440b625f30>"
      ]
     },
     "execution_count": 27,
     "metadata": {},
     "output_type": "execute_result"
    }
   ],
   "source": [
    "net = cv2.dnn_DetectionModel(weightPath,configPath)\n",
    "net.setInputSize(320,320)\n",
    "net.setInputScale(1.0/127.5)\n",
    "net.setInputMean((127.5,127.5,127.5))\n",
    "net.setInputSwapRB(True)"
   ]
  },
  {
   "cell_type": "code",
   "execution_count": 30,
   "id": "017b1e40",
   "metadata": {
    "ExecuteTime": {
     "end_time": "2021-08-13T18:48:45.235310Z",
     "start_time": "2021-08-13T18:48:32.660124Z"
    }
   },
   "outputs": [
    {
     "name": "stdout",
     "output_type": "stream",
     "text": [
      "[[2]] [[  0 305  45 119]]\n"
     ]
    },
    {
     "data": {
      "text/plain": [
       "233"
      ]
     },
     "execution_count": 30,
     "metadata": {},
     "output_type": "execute_result"
    }
   ],
   "source": [
    "classIds, confidence, bbox = net.detect(img, confThreshold=0.5)\n",
    "print(classIds,bbox)\n",
    "\n",
    "for classId, confid, box in zip(classIds.flatten(), confidence.flatten(),bbox):\n",
    "    cv2.rectangle(img, box, color=(0, 255, 0), thickness=1)\n",
    "    cv2.putText(img, classNames[classId].upper(), (box[0] + 5, box[1] + 5),\n",
    "                cv2.FONT_HERSHEY_COMPLEX, 1, (0, 255, 0), 1)\n",
    "#     cv2.putText(img, str(round(confid*100,2)), (box[0] + 10, box[1] + 5),\n",
    "#                 cv2.FONT_HERSHEY_COMPLEX, 1, (0, 255, 0), 2)\n",
    "cv2.imshow('Output', img)\n",
    "cv2.waitKey(0)"
   ]
  },
  {
   "cell_type": "code",
   "execution_count": 31,
   "id": "168b1765",
   "metadata": {
    "ExecuteTime": {
     "end_time": "2021-08-13T18:48:49.176491Z",
     "start_time": "2021-08-13T18:48:49.170817Z"
    }
   },
   "outputs": [],
   "source": [
    "cv2.destroyAllWindows()"
   ]
  },
  {
   "cell_type": "code",
   "execution_count": null,
   "id": "31701bbe",
   "metadata": {},
   "outputs": [],
   "source": []
  }
 ],
 "metadata": {
  "kernelspec": {
   "display_name": "Python 3",
   "language": "python",
   "name": "python3"
  },
  "language_info": {
   "codemirror_mode": {
    "name": "ipython",
    "version": 3
   },
   "file_extension": ".py",
   "mimetype": "text/x-python",
   "name": "python",
   "nbconvert_exporter": "python",
   "pygments_lexer": "ipython3",
   "version": "3.8.8"
  }
 },
 "nbformat": 4,
 "nbformat_minor": 5
}
