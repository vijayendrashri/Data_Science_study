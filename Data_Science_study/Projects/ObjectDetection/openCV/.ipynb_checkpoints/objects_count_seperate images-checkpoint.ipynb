{
 "cells": [
  {
   "cell_type": "code",
   "execution_count": null,
   "id": "802564e8",
   "metadata": {
    "ExecuteTime": {
     "start_time": "2021-08-11T05:32:11.722Z"
    }
   },
   "outputs": [],
   "source": [
    "import cv2\n",
    "import numpy as np"
   ]
  },
  {
   "cell_type": "code",
   "execution_count": null,
   "id": "59e98cea",
   "metadata": {
    "ExecuteTime": {
     "start_time": "2021-08-11T05:32:11.898Z"
    }
   },
   "outputs": [],
   "source": [
    "img = cv2.imread('grains.jpeg')"
   ]
  },
  {
   "cell_type": "code",
   "execution_count": null,
   "id": "2553e36a",
   "metadata": {
    "ExecuteTime": {
     "start_time": "2021-08-11T05:32:12.074Z"
    }
   },
   "outputs": [],
   "source": [
    "img = cv2.cvtColor(img, cv2.COLOR_BGR2GRAY)"
   ]
  },
  {
   "cell_type": "code",
   "execution_count": null,
   "id": "a2cf633e",
   "metadata": {
    "ExecuteTime": {
     "start_time": "2021-08-11T05:32:12.251Z"
    }
   },
   "outputs": [],
   "source": [
    "_, thresh = cv2.threshold(img, 225, 255, cv2.THRESH_BINARY_INV)\n",
    "kernal = np.ones((2, 2), np.uint8)"
   ]
  },
  {
   "cell_type": "code",
   "execution_count": null,
   "id": "5584f310",
   "metadata": {
    "ExecuteTime": {
     "start_time": "2021-08-11T05:32:12.410Z"
    }
   },
   "outputs": [],
   "source": [
    "dilation = cv2.dilate(thresh, kernal, iterations=2)"
   ]
  },
  {
   "cell_type": "code",
   "execution_count": null,
   "id": "36f1f3f4",
   "metadata": {
    "ExecuteTime": {
     "start_time": "2021-08-11T05:32:12.594Z"
    }
   },
   "outputs": [],
   "source": [
    "contours, hierarchy = cv2.findContours(\n",
    "    dilation, cv2.RETR_EXTERNAL, cv2.CHAIN_APPROX_SIMPLE)"
   ]
  },
  {
   "cell_type": "code",
   "execution_count": null,
   "id": "5a917146",
   "metadata": {
    "ExecuteTime": {
     "start_time": "2021-08-11T05:32:23.913Z"
    }
   },
   "outputs": [],
   "source": [
    "objects = str(len(contours))"
   ]
  },
  {
   "cell_type": "code",
   "execution_count": null,
   "id": "89b1252b",
   "metadata": {
    "ExecuteTime": {
     "start_time": "2021-08-11T05:32:24.971Z"
    }
   },
   "outputs": [],
   "source": [
    "text = \"Obj:\"+str(objects)\n",
    "cv2.putText(dilation, text, (10, 25),  cv2.FONT_HERSHEY_SIMPLEX,\n",
    "            0.4, (240, 0, 159), 1)"
   ]
  },
  {
   "cell_type": "code",
   "execution_count": null,
   "id": "a9834213",
   "metadata": {
    "ExecuteTime": {
     "start_time": "2021-08-11T05:32:25.649Z"
    }
   },
   "outputs": [],
   "source": [
    "cv2.imshow('Original', img)\n",
    "cv2.imshow('Thresh', thresh)\n",
    "cv2.imshow('Dilation', dilation)"
   ]
  },
  {
   "cell_type": "code",
   "execution_count": null,
   "id": "ae9e2db6",
   "metadata": {},
   "outputs": [],
   "source": [
    "cv2.waitKey(0)\n",
    "cv2.destroyAllWindows()"
   ]
  },
  {
   "cell_type": "code",
   "execution_count": null,
   "id": "fb506fdb",
   "metadata": {},
   "outputs": [],
   "source": []
  }
 ],
 "metadata": {
  "kernelspec": {
   "display_name": "Python 3",
   "language": "python",
   "name": "python3"
  },
  "language_info": {
   "codemirror_mode": {
    "name": "ipython",
    "version": 3
   },
   "file_extension": ".py",
   "mimetype": "text/x-python",
   "name": "python",
   "nbconvert_exporter": "python",
   "pygments_lexer": "ipython3",
   "version": "3.8.8"
  }
 },
 "nbformat": 4,
 "nbformat_minor": 5
}
