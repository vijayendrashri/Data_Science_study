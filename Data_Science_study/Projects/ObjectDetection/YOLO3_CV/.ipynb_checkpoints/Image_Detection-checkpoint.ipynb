{
 "cells": [
  {
   "cell_type": "code",
   "execution_count": 1,
   "id": "dc48a953",
   "metadata": {
    "ExecuteTime": {
     "end_time": "2021-08-13T07:25:58.265280Z",
     "start_time": "2021-08-13T07:25:58.144458Z"
    }
   },
   "outputs": [],
   "source": [
    "import cv2\n",
    "import numpy as np\n",
    "import os"
   ]
  },
  {
   "cell_type": "code",
   "execution_count": 2,
   "id": "56cb43f9",
   "metadata": {
    "ExecuteTime": {
     "end_time": "2021-08-13T07:25:58.463023Z",
     "start_time": "2021-08-13T07:25:58.268270Z"
    }
   },
   "outputs": [],
   "source": [
    "net = cv2.dnn.readNet('yolov3.weights','yolov3.cfg')"
   ]
  },
  {
   "cell_type": "code",
   "execution_count": 3,
   "id": "bda5d0e1",
   "metadata": {
    "ExecuteTime": {
     "end_time": "2021-08-13T07:25:58.469271Z",
     "start_time": "2021-08-13T07:25:58.465252Z"
    }
   },
   "outputs": [],
   "source": [
    "classes=[]\n",
    "with open('../YOLO/coco.names','r') as f:\n",
    "    classes=f.read().splitlines()"
   ]
  },
  {
   "cell_type": "code",
   "execution_count": 4,
   "id": "67b3b919",
   "metadata": {
    "ExecuteTime": {
     "end_time": "2021-08-13T07:25:58.549239Z",
     "start_time": "2021-08-13T07:25:58.471830Z"
    }
   },
   "outputs": [],
   "source": [
    "img = cv2.imread('../YOLO/image.jpeg')"
   ]
  },
  {
   "cell_type": "code",
   "execution_count": 5,
   "id": "47d50430",
   "metadata": {
    "ExecuteTime": {
     "end_time": "2021-08-13T07:25:58.612070Z",
     "start_time": "2021-08-13T07:25:58.551477Z"
    }
   },
   "outputs": [],
   "source": [
    "height,width,_= img.shape"
   ]
  },
  {
   "cell_type": "code",
   "execution_count": 6,
   "id": "2e7dadc1",
   "metadata": {
    "ExecuteTime": {
     "end_time": "2021-08-13T07:26:00.309237Z",
     "start_time": "2021-08-13T07:25:58.614610Z"
    }
   },
   "outputs": [],
   "source": [
    "blob = cv2.dnn.blobFromImage(img,1/255,(416,416),(0,0,0),swapRB=True,crop=True)\n",
    "net.setInput(blob)\n",
    "output_layers_names=net.getUnconnectedOutLayersNames()\n",
    "layerOutputs=net.forward(output_layers_names)"
   ]
  },
  {
   "cell_type": "code",
   "execution_count": 7,
   "id": "14e0294f",
   "metadata": {
    "ExecuteTime": {
     "end_time": "2021-08-13T07:26:00.415822Z",
     "start_time": "2021-08-13T07:26:00.311405Z"
    }
   },
   "outputs": [
    {
     "name": "stdout",
     "output_type": "stream",
     "text": [
      "22\n",
      "[ 2 21 15 17  8 10]\n"
     ]
    }
   ],
   "source": [
    "boxes = []\n",
    "confidences = []\n",
    "class_ids = []\n",
    "\n",
    "for output in layerOutputs:\n",
    "    for detection in output:\n",
    "        score = detection[5:]\n",
    "        class_id = np.argmax(score)\n",
    "        confidence = score[class_id]\n",
    "        if confidence > .5:\n",
    "            center_x = int(detection[0] * width)\n",
    "            center_y = int(detection[1] * height)\n",
    "            w = int(detection[2] * width)\n",
    "            h = int(detection[3] * height)\n",
    "\n",
    "            x = int(center_x - w / 2)\n",
    "            y = int(center_y - h / 2)\n",
    "            boxes.append([x,y,w,h])\n",
    "            confidences.append((float(confidence)))\n",
    "            class_ids.append(class_id)\n",
    "\n",
    "print(len(boxes))\n",
    "indexes = cv2.dnn.NMSBoxes(boxes,confidences,.5,.4)\n",
    "print(indexes.flatten())"
   ]
  },
  {
   "cell_type": "code",
   "execution_count": 8,
   "id": "5ea60c5e",
   "metadata": {
    "ExecuteTime": {
     "end_time": "2021-08-13T07:26:00.424715Z",
     "start_time": "2021-08-13T07:26:00.417371Z"
    }
   },
   "outputs": [],
   "source": [
    "font = cv2.FONT_HERSHEY_PLAIN\n",
    "colors= np.random.uniform(0,255,size=(len(boxes)))\n",
    "\n",
    "for i in indexes.flatten():\n",
    "    x,y,w,h = boxes[i]\n",
    "    label=str(classes[class_ids[i]])\n",
    "    confidence=str(round(confidences[i],2))\n",
    "    color=colors[i]\n",
    "    cv2.rectangle(img,(x,y),(x+w,y+h),color,2)\n",
    "    cv2.putText(img,label+\" \"+confidence,(x,y+20),font,2,(255,255,255),2)\n",
    "    "
   ]
  },
  {
   "cell_type": "code",
   "execution_count": 9,
   "id": "1aa13542",
   "metadata": {
    "ExecuteTime": {
     "end_time": "2021-08-13T07:26:00.503927Z",
     "start_time": "2021-08-13T07:26:00.426724Z"
    }
   },
   "outputs": [],
   "source": [
    "# for b in blob:\n",
    "#     for n,img_blob in enumerate(b):\n",
    "#         cv2.imshow(str(n),img_blob)"
   ]
  },
  {
   "cell_type": "code",
   "execution_count": 10,
   "id": "427e0550",
   "metadata": {
    "ExecuteTime": {
     "end_time": "2021-08-13T07:26:15.562962Z",
     "start_time": "2021-08-13T07:26:00.507121Z"
    }
   },
   "outputs": [],
   "source": [
    "cv2.imshow('Image',img)\n",
    "cv2.waitKey(0)\n",
    "cv2.destroyAllWindows()"
   ]
  }
 ],
 "metadata": {
  "kernelspec": {
   "display_name": "Python 3.8.8 64-bit ('TF': conda)",
   "language": "python",
   "name": "python388jvsc74a57bd0905c6efe25a166bd142d966ad7c2f36297d8bcca0c8e3c0e8297ed0564602c16"
  },
  "language_info": {
   "codemirror_mode": {
    "name": "ipython",
    "version": 3
   },
   "file_extension": ".py",
   "mimetype": "text/x-python",
   "name": "python",
   "nbconvert_exporter": "python",
   "pygments_lexer": "ipython3",
   "version": "3.8.8"
  }
 },
 "nbformat": 4,
 "nbformat_minor": 5
}
