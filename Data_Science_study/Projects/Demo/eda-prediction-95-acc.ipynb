{
 "cells": [
  {
   "cell_type": "code",
   "execution_count": 1,
   "metadata": {
    "ExecuteTime": {
     "end_time": "2021-07-12T06:22:04.343929Z",
     "start_time": "2021-07-12T06:22:03.448844Z"
    },
    "_cell_guid": "b1076dfc-b9ad-4769-8c92-a6c4dae69d19",
    "_uuid": "8f2839f25d086af736a60e9eeb907d3b93b6e0e5",
    "execution": {
     "iopub.execute_input": "2021-07-09T19:03:36.136685Z",
     "iopub.status.busy": "2021-07-09T19:03:36.136262Z",
     "iopub.status.idle": "2021-07-09T19:03:36.148095Z",
     "shell.execute_reply": "2021-07-09T19:03:36.146968Z",
     "shell.execute_reply.started": "2021-07-09T19:03:36.136641Z"
    }
   },
   "outputs": [],
   "source": [
    "import pandas as pd\n",
    "import numpy as np\n",
    "import seaborn as sns\n",
    "data = pd.read_csv(\"drug200.csv\")"
   ]
  },
  {
   "cell_type": "code",
   "execution_count": 2,
   "metadata": {
    "ExecuteTime": {
     "end_time": "2021-07-12T06:22:04.364983Z",
     "start_time": "2021-07-12T06:22:04.345626Z"
    },
    "execution": {
     "iopub.execute_input": "2021-07-09T19:02:44.298868Z",
     "iopub.status.busy": "2021-07-09T19:02:44.298423Z",
     "iopub.status.idle": "2021-07-09T19:02:44.328277Z",
     "shell.execute_reply": "2021-07-09T19:02:44.327312Z",
     "shell.execute_reply.started": "2021-07-09T19:02:44.298826Z"
    }
   },
   "outputs": [
    {
     "data": {
      "text/html": [
       "<div>\n",
       "<style scoped>\n",
       "    .dataframe tbody tr th:only-of-type {\n",
       "        vertical-align: middle;\n",
       "    }\n",
       "\n",
       "    .dataframe tbody tr th {\n",
       "        vertical-align: top;\n",
       "    }\n",
       "\n",
       "    .dataframe thead th {\n",
       "        text-align: right;\n",
       "    }\n",
       "</style>\n",
       "<table border=\"1\" class=\"dataframe\">\n",
       "  <thead>\n",
       "    <tr style=\"text-align: right;\">\n",
       "      <th></th>\n",
       "      <th>Age</th>\n",
       "      <th>Sex</th>\n",
       "      <th>BP</th>\n",
       "      <th>Cholesterol</th>\n",
       "      <th>Na_to_K</th>\n",
       "      <th>Drug</th>\n",
       "    </tr>\n",
       "  </thead>\n",
       "  <tbody>\n",
       "    <tr>\n",
       "      <th>0</th>\n",
       "      <td>23</td>\n",
       "      <td>F</td>\n",
       "      <td>HIGH</td>\n",
       "      <td>HIGH</td>\n",
       "      <td>25.355</td>\n",
       "      <td>DrugY</td>\n",
       "    </tr>\n",
       "    <tr>\n",
       "      <th>1</th>\n",
       "      <td>47</td>\n",
       "      <td>M</td>\n",
       "      <td>LOW</td>\n",
       "      <td>HIGH</td>\n",
       "      <td>13.093</td>\n",
       "      <td>drugC</td>\n",
       "    </tr>\n",
       "    <tr>\n",
       "      <th>2</th>\n",
       "      <td>47</td>\n",
       "      <td>M</td>\n",
       "      <td>LOW</td>\n",
       "      <td>HIGH</td>\n",
       "      <td>10.114</td>\n",
       "      <td>drugC</td>\n",
       "    </tr>\n",
       "    <tr>\n",
       "      <th>3</th>\n",
       "      <td>28</td>\n",
       "      <td>F</td>\n",
       "      <td>NORMAL</td>\n",
       "      <td>HIGH</td>\n",
       "      <td>7.798</td>\n",
       "      <td>drugX</td>\n",
       "    </tr>\n",
       "    <tr>\n",
       "      <th>4</th>\n",
       "      <td>61</td>\n",
       "      <td>F</td>\n",
       "      <td>LOW</td>\n",
       "      <td>HIGH</td>\n",
       "      <td>18.043</td>\n",
       "      <td>DrugY</td>\n",
       "    </tr>\n",
       "    <tr>\n",
       "      <th>...</th>\n",
       "      <td>...</td>\n",
       "      <td>...</td>\n",
       "      <td>...</td>\n",
       "      <td>...</td>\n",
       "      <td>...</td>\n",
       "      <td>...</td>\n",
       "    </tr>\n",
       "    <tr>\n",
       "      <th>195</th>\n",
       "      <td>56</td>\n",
       "      <td>F</td>\n",
       "      <td>LOW</td>\n",
       "      <td>HIGH</td>\n",
       "      <td>11.567</td>\n",
       "      <td>drugC</td>\n",
       "    </tr>\n",
       "    <tr>\n",
       "      <th>196</th>\n",
       "      <td>16</td>\n",
       "      <td>M</td>\n",
       "      <td>LOW</td>\n",
       "      <td>HIGH</td>\n",
       "      <td>12.006</td>\n",
       "      <td>drugC</td>\n",
       "    </tr>\n",
       "    <tr>\n",
       "      <th>197</th>\n",
       "      <td>52</td>\n",
       "      <td>M</td>\n",
       "      <td>NORMAL</td>\n",
       "      <td>HIGH</td>\n",
       "      <td>9.894</td>\n",
       "      <td>drugX</td>\n",
       "    </tr>\n",
       "    <tr>\n",
       "      <th>198</th>\n",
       "      <td>23</td>\n",
       "      <td>M</td>\n",
       "      <td>NORMAL</td>\n",
       "      <td>NORMAL</td>\n",
       "      <td>14.020</td>\n",
       "      <td>drugX</td>\n",
       "    </tr>\n",
       "    <tr>\n",
       "      <th>199</th>\n",
       "      <td>40</td>\n",
       "      <td>F</td>\n",
       "      <td>LOW</td>\n",
       "      <td>NORMAL</td>\n",
       "      <td>11.349</td>\n",
       "      <td>drugX</td>\n",
       "    </tr>\n",
       "  </tbody>\n",
       "</table>\n",
       "<p>200 rows × 6 columns</p>\n",
       "</div>"
      ],
      "text/plain": [
       "     Age Sex      BP Cholesterol  Na_to_K   Drug\n",
       "0     23   F    HIGH        HIGH   25.355  DrugY\n",
       "1     47   M     LOW        HIGH   13.093  drugC\n",
       "2     47   M     LOW        HIGH   10.114  drugC\n",
       "3     28   F  NORMAL        HIGH    7.798  drugX\n",
       "4     61   F     LOW        HIGH   18.043  DrugY\n",
       "..   ...  ..     ...         ...      ...    ...\n",
       "195   56   F     LOW        HIGH   11.567  drugC\n",
       "196   16   M     LOW        HIGH   12.006  drugC\n",
       "197   52   M  NORMAL        HIGH    9.894  drugX\n",
       "198   23   M  NORMAL      NORMAL   14.020  drugX\n",
       "199   40   F     LOW      NORMAL   11.349  drugX\n",
       "\n",
       "[200 rows x 6 columns]"
      ]
     },
     "execution_count": 2,
     "metadata": {},
     "output_type": "execute_result"
    }
   ],
   "source": [
    "data"
   ]
  },
  {
   "cell_type": "markdown",
   "metadata": {},
   "source": [
    "# Data Cleaning"
   ]
  },
  {
   "cell_type": "code",
   "execution_count": 3,
   "metadata": {
    "ExecuteTime": {
     "end_time": "2021-07-12T06:22:04.444470Z",
     "start_time": "2021-07-12T06:22:04.366437Z"
    },
    "execution": {
     "iopub.execute_input": "2021-07-09T19:02:45.781237Z",
     "iopub.status.busy": "2021-07-09T19:02:45.780875Z",
     "iopub.status.idle": "2021-07-09T19:02:45.790872Z",
     "shell.execute_reply": "2021-07-09T19:02:45.790015Z",
     "shell.execute_reply.started": "2021-07-09T19:02:45.781207Z"
    }
   },
   "outputs": [
    {
     "data": {
      "text/plain": [
       "Age            0\n",
       "Sex            0\n",
       "BP             0\n",
       "Cholesterol    0\n",
       "Na_to_K        0\n",
       "Drug           0\n",
       "dtype: int64"
      ]
     },
     "execution_count": 3,
     "metadata": {},
     "output_type": "execute_result"
    }
   ],
   "source": [
    "data.isna().sum()"
   ]
  },
  {
   "cell_type": "code",
   "execution_count": 4,
   "metadata": {
    "ExecuteTime": {
     "end_time": "2021-07-12T06:22:04.528322Z",
     "start_time": "2021-07-12T06:22:04.447136Z"
    },
    "execution": {
     "iopub.execute_input": "2021-07-09T19:02:45.793036Z",
     "iopub.status.busy": "2021-07-09T19:02:45.792450Z",
     "iopub.status.idle": "2021-07-09T19:02:45.811008Z",
     "shell.execute_reply": "2021-07-09T19:02:45.809808Z",
     "shell.execute_reply.started": "2021-07-09T19:02:45.792987Z"
    }
   },
   "outputs": [
    {
     "data": {
      "text/plain": [
       "0"
      ]
     },
     "execution_count": 4,
     "metadata": {},
     "output_type": "execute_result"
    }
   ],
   "source": [
    "data.duplicated().sum()"
   ]
  },
  {
   "cell_type": "code",
   "execution_count": 5,
   "metadata": {
    "ExecuteTime": {
     "end_time": "2021-07-12T06:22:04.605078Z",
     "start_time": "2021-07-12T06:22:04.531070Z"
    },
    "execution": {
     "iopub.execute_input": "2021-07-09T19:03:38.455792Z",
     "iopub.status.busy": "2021-07-09T19:03:38.455416Z",
     "iopub.status.idle": "2021-07-09T19:03:38.463048Z",
     "shell.execute_reply": "2021-07-09T19:03:38.461813Z",
     "shell.execute_reply.started": "2021-07-09T19:03:38.455757Z"
    }
   },
   "outputs": [],
   "source": [
    "data[\"Drug\"].replace({\"DrugY\": \"Y\", \"drugX\": \"X\",\"drugA\":\"A\",\"drugC\":\"C\",\"drugB\":\"B\"}, inplace=True)"
   ]
  },
  {
   "cell_type": "markdown",
   "metadata": {},
   "source": [
    "# EDA"
   ]
  },
  {
   "cell_type": "code",
   "execution_count": 6,
   "metadata": {
    "ExecuteTime": {
     "end_time": "2021-07-12T06:22:04.697973Z",
     "start_time": "2021-07-12T06:22:04.608682Z"
    },
    "execution": {
     "iopub.execute_input": "2021-07-09T19:02:47.059559Z",
     "iopub.status.busy": "2021-07-09T19:02:47.058998Z",
     "iopub.status.idle": "2021-07-09T19:02:47.079890Z",
     "shell.execute_reply": "2021-07-09T19:02:47.078756Z",
     "shell.execute_reply.started": "2021-07-09T19:02:47.059506Z"
    }
   },
   "outputs": [
    {
     "name": "stdout",
     "output_type": "stream",
     "text": [
      "Value Counts in Age is: \n",
      " 47    8\n",
      "23    7\n",
      "28    7\n",
      "49    7\n",
      "39    6\n",
      "32    6\n",
      "50    5\n",
      "37    5\n",
      "58    5\n",
      "60    5\n",
      "22    5\n",
      "34    4\n",
      "72    4\n",
      "51    4\n",
      "42    4\n",
      "26    4\n",
      "24    4\n",
      "74    4\n",
      "67    4\n",
      "68    4\n",
      "61    4\n",
      "56    4\n",
      "20    4\n",
      "36    4\n",
      "45    4\n",
      "41    4\n",
      "31    4\n",
      "43    4\n",
      "65    4\n",
      "57    4\n",
      "53    3\n",
      "40    3\n",
      "70    3\n",
      "59    3\n",
      "16    3\n",
      "38    3\n",
      "15    3\n",
      "69    3\n",
      "35    3\n",
      "18    3\n",
      "64    3\n",
      "52    2\n",
      "55    2\n",
      "62    2\n",
      "19    2\n",
      "29    2\n",
      "66    2\n",
      "73    2\n",
      "46    2\n",
      "48    2\n",
      "54    1\n",
      "17    1\n",
      "33    1\n",
      "63    1\n",
      "30    1\n",
      "21    1\n",
      "25    1\n",
      "Name: Age, dtype: int64\n",
      "\n",
      "\n",
      "Value Counts in Sex is: \n",
      " M    104\n",
      "F     96\n",
      "Name: Sex, dtype: int64\n",
      "\n",
      "\n",
      "Value Counts in BP is: \n",
      " HIGH      77\n",
      "LOW       64\n",
      "NORMAL    59\n",
      "Name: BP, dtype: int64\n",
      "\n",
      "\n",
      "Value Counts in Cholesterol is: \n",
      " HIGH      103\n",
      "NORMAL     97\n",
      "Name: Cholesterol, dtype: int64\n",
      "\n",
      "\n",
      "Value Counts in Na_to_K is: \n",
      " 12.006    2\n",
      "18.295    2\n",
      "25.355    1\n",
      "11.939    1\n",
      "16.347    1\n",
      "         ..\n",
      "24.658    1\n",
      "24.276    1\n",
      "13.967    1\n",
      "19.675    1\n",
      "11.349    1\n",
      "Name: Na_to_K, Length: 198, dtype: int64\n",
      "\n",
      "\n",
      "Value Counts in Drug is: \n",
      " Y    91\n",
      "X    54\n",
      "A    23\n",
      "C    16\n",
      "B    16\n",
      "Name: Drug, dtype: int64\n",
      "\n",
      "\n"
     ]
    }
   ],
   "source": [
    "def count_values(dataframe):\n",
    "    categorical=dataframe.columns.values.tolist()\n",
    "    for col in categorical:\n",
    "        print(f\"Value Counts in {col} is: \\n {dataframe[col].value_counts()}\")\n",
    "        print(\"\\n\")\n",
    "count_values(data)"
   ]
  },
  {
   "cell_type": "code",
   "execution_count": 7,
   "metadata": {
    "ExecuteTime": {
     "end_time": "2021-07-12T06:22:05.088137Z",
     "start_time": "2021-07-12T06:22:04.707226Z"
    },
    "execution": {
     "iopub.execute_input": "2021-07-09T19:02:47.346695Z",
     "iopub.status.busy": "2021-07-09T19:02:47.346304Z",
     "iopub.status.idle": "2021-07-09T19:02:47.478655Z",
     "shell.execute_reply": "2021-07-09T19:02:47.477590Z",
     "shell.execute_reply.started": "2021-07-09T19:02:47.346665Z"
    }
   },
   "outputs": [
    {
     "data": {
      "image/png": "[encoded data removed]",
      "text/plain": [
       "<Figure size 432x288 with 1 Axes>"
      ]
     },
     "metadata": {},
     "output_type": "display_data"
    }
   ],
   "source": [
    "import matplotlib.pyplot as plt\n",
    "data['Drug'].value_counts().head(5).plot.pie()\n",
    "\n",
    "data_feyn=data\n",
    "plt.gca().set_aspect('equal')"
   ]
  },
  {
   "cell_type": "code",
   "execution_count": 8,
   "metadata": {
    "ExecuteTime": {
     "end_time": "2021-07-12T06:22:05.449162Z",
     "start_time": "2021-07-12T06:22:05.092021Z"
    },
    "execution": {
     "iopub.execute_input": "2021-07-09T19:02:47.565357Z",
     "iopub.status.busy": "2021-07-09T19:02:47.564987Z",
     "iopub.status.idle": "2021-07-09T19:02:47.926810Z",
     "shell.execute_reply": "2021-07-09T19:02:47.925827Z",
     "shell.execute_reply.started": "2021-07-09T19:02:47.565326Z"
    }
   },
   "outputs": [
    {
     "data": {
      "image/png": "[encoded data removed]",
      "text/plain": [
       "<Figure size 1008x1008 with 2 Axes>"
      ]
     },
     "metadata": {
      "needs_background": "light"
     },
     "output_type": "display_data"
    },
    {
     "name": "stderr",
     "output_type": "stream",
     "text": [
      "<ipython-input-8-341c627b5344>:6: FutureWarning: Dropping of nuisance columns in DataFrame reductions (with 'numeric_only=None') is deprecated; in a future version this will raise TypeError.  Select only valid columns before calling the reduction.\n",
      "  return dataframe.var()\n"
     ]
    },
    {
     "data": {
      "text/plain": [
       "Age        273.714347\n",
       "Na_to_K     52.185533\n",
       "dtype: float64"
      ]
     },
     "execution_count": 8,
     "metadata": {},
     "output_type": "execute_result"
    }
   ],
   "source": [
    "def var_distribution2(dataframe):\n",
    "    import matplotlib.pyplot as plt\n",
    "    numbers = pd.Series(dataframe.columns)\n",
    "    dataframe[numbers].hist(figsize=(14,14))\n",
    "    plt.show();\n",
    "    return dataframe.var()\n",
    "var_distribution2(data)"
   ]
  },
  {
   "cell_type": "code",
   "execution_count": 9,
   "metadata": {
    "ExecuteTime": {
     "end_time": "2021-07-12T06:22:05.640937Z",
     "start_time": "2021-07-12T06:22:05.451564Z"
    },
    "execution": {
     "iopub.execute_input": "2021-07-09T19:02:48.249156Z",
     "iopub.status.busy": "2021-07-09T19:02:48.248803Z",
     "iopub.status.idle": "2021-07-09T19:02:48.489591Z",
     "shell.execute_reply": "2021-07-09T19:02:48.488594Z",
     "shell.execute_reply.started": "2021-07-09T19:02:48.249127Z"
    }
   },
   "outputs": [
    {
     "data": {
      "text/plain": [
       "<seaborn.axisgrid.FacetGrid at 0x7f84bdfaf4c0>"
      ]
     },
     "execution_count": 9,
     "metadata": {},
     "output_type": "execute_result"
    },
    {
     "data": {
      "image/png": "[encoded data removed]",
      "text/plain": [
       "<Figure size 360x360 with 1 Axes>"
      ]
     },
     "metadata": {
      "needs_background": "light"
     },
     "output_type": "display_data"
    }
   ],
   "source": [
    "sns.catplot(x=\"Cholesterol\", kind=\"count\", palette=\"ch:.25\", data=data)"
   ]
  },
  {
   "cell_type": "code",
   "execution_count": 10,
   "metadata": {
    "ExecuteTime": {
     "end_time": "2021-07-12T06:22:05.855711Z",
     "start_time": "2021-07-12T06:22:05.644531Z"
    },
    "execution": {
     "iopub.execute_input": "2021-07-09T19:02:48.647962Z",
     "iopub.status.busy": "2021-07-09T19:02:48.647565Z",
     "iopub.status.idle": "2021-07-09T19:02:48.922669Z",
     "shell.execute_reply": "2021-07-09T19:02:48.920245Z",
     "shell.execute_reply.started": "2021-07-09T19:02:48.647930Z"
    }
   },
   "outputs": [
    {
     "data": {
      "text/plain": [
       "<seaborn.axisgrid.FacetGrid at 0x7f84bdf27460>"
      ]
     },
     "execution_count": 10,
     "metadata": {},
     "output_type": "execute_result"
    },
    {
     "data": {
      "image/png": "[encoded data removed]",
      "text/plain": [
       "<Figure size 360x360 with 1 Axes>"
      ]
     },
     "metadata": {
      "needs_background": "light"
     },
     "output_type": "display_data"
    }
   ],
   "source": [
    "sns.catplot(x=\"BP\", kind=\"count\", palette=\"ch:.25\", data=data)"
   ]
  },
  {
   "cell_type": "code",
   "execution_count": 11,
   "metadata": {
    "ExecuteTime": {
     "end_time": "2021-07-12T06:22:06.049109Z",
     "start_time": "2021-07-12T06:22:05.857187Z"
    },
    "execution": {
     "iopub.execute_input": "2021-07-09T19:02:49.010341Z",
     "iopub.status.busy": "2021-07-09T19:02:49.009875Z",
     "iopub.status.idle": "2021-07-09T19:02:49.254539Z",
     "shell.execute_reply": "2021-07-09T19:02:49.253465Z",
     "shell.execute_reply.started": "2021-07-09T19:02:49.010297Z"
    }
   },
   "outputs": [
    {
     "data": {
      "text/plain": [
       "<seaborn.axisgrid.FacetGrid at 0x7f84bdec6f40>"
      ]
     },
     "execution_count": 11,
     "metadata": {},
     "output_type": "execute_result"
    },
    {
     "data": {
      "image/png": "[encoded data removed]",
      "text/plain": [
       "<Figure size 360x360 with 1 Axes>"
      ]
     },
     "metadata": {
      "needs_background": "light"
     },
     "output_type": "display_data"
    }
   ],
   "source": [
    "sns.catplot(x=\"Sex\", kind=\"count\", palette=\"ch:.25\", data=data)"
   ]
  },
  {
   "cell_type": "code",
   "execution_count": 12,
   "metadata": {
    "ExecuteTime": {
     "end_time": "2021-07-12T06:22:06.060448Z",
     "start_time": "2021-07-12T06:22:06.050624Z"
    },
    "execution": {
     "iopub.execute_input": "2021-07-09T19:02:49.272618Z",
     "iopub.status.busy": "2021-07-09T19:02:49.272263Z",
     "iopub.status.idle": "2021-07-09T19:02:49.288024Z",
     "shell.execute_reply": "2021-07-09T19:02:49.286682Z",
     "shell.execute_reply.started": "2021-07-09T19:02:49.272589Z"
    }
   },
   "outputs": [
    {
     "data": {
      "text/html": [
       "<div>\n",
       "<style scoped>\n",
       "    .dataframe tbody tr th:only-of-type {\n",
       "        vertical-align: middle;\n",
       "    }\n",
       "\n",
       "    .dataframe tbody tr th {\n",
       "        vertical-align: top;\n",
       "    }\n",
       "\n",
       "    .dataframe thead th {\n",
       "        text-align: right;\n",
       "    }\n",
       "</style>\n",
       "<table border=\"1\" class=\"dataframe\">\n",
       "  <thead>\n",
       "    <tr style=\"text-align: right;\">\n",
       "      <th></th>\n",
       "      <th>Age</th>\n",
       "      <th>Na_to_K</th>\n",
       "    </tr>\n",
       "    <tr>\n",
       "      <th>Drug</th>\n",
       "      <th></th>\n",
       "      <th></th>\n",
       "    </tr>\n",
       "  </thead>\n",
       "  <tbody>\n",
       "    <tr>\n",
       "      <th>A</th>\n",
       "      <td>35.869565</td>\n",
       "      <td>10.918783</td>\n",
       "    </tr>\n",
       "    <tr>\n",
       "      <th>B</th>\n",
       "      <td>62.500000</td>\n",
       "      <td>11.524375</td>\n",
       "    </tr>\n",
       "    <tr>\n",
       "      <th>C</th>\n",
       "      <td>42.500000</td>\n",
       "      <td>10.633750</td>\n",
       "    </tr>\n",
       "    <tr>\n",
       "      <th>X</th>\n",
       "      <td>44.018519</td>\n",
       "      <td>10.650556</td>\n",
       "    </tr>\n",
       "    <tr>\n",
       "      <th>Y</th>\n",
       "      <td>43.747253</td>\n",
       "      <td>22.374780</td>\n",
       "    </tr>\n",
       "  </tbody>\n",
       "</table>\n",
       "</div>"
      ],
      "text/plain": [
       "            Age    Na_to_K\n",
       "Drug                      \n",
       "A     35.869565  10.918783\n",
       "B     62.500000  11.524375\n",
       "C     42.500000  10.633750\n",
       "X     44.018519  10.650556\n",
       "Y     43.747253  22.374780"
      ]
     },
     "execution_count": 12,
     "metadata": {},
     "output_type": "execute_result"
    }
   ],
   "source": [
    "data.groupby(\"Drug\").mean()"
   ]
  },
  {
   "cell_type": "code",
   "execution_count": 13,
   "metadata": {
    "ExecuteTime": {
     "end_time": "2021-07-12T06:22:07.006628Z",
     "start_time": "2021-07-12T06:22:06.062253Z"
    },
    "execution": {
     "iopub.execute_input": "2021-07-09T19:02:49.848730Z",
     "iopub.status.busy": "2021-07-09T19:02:49.848333Z",
     "iopub.status.idle": "2021-07-09T19:02:50.744054Z",
     "shell.execute_reply": "2021-07-09T19:02:50.742802Z",
     "shell.execute_reply.started": "2021-07-09T19:02:49.848698Z"
    }
   },
   "outputs": [
    {
     "data": {
      "text/plain": [
       "<seaborn.axisgrid.FacetGrid at 0x7f84bdd60130>"
      ]
     },
     "execution_count": 13,
     "metadata": {},
     "output_type": "execute_result"
    },
    {
     "data": {
      "image/png": "[encoded data removed]",
      "text/plain": [
       "<Figure size 402.875x360 with 1 Axes>"
      ]
     },
     "metadata": {
      "needs_background": "light"
     },
     "output_type": "display_data"
    }
   ],
   "source": [
    "sns.catplot(x=\"Sex\", y=\"Age\", hue=\"Drug\", kind=\"point\", data=data)\n"
   ]
  },
  {
   "cell_type": "code",
   "execution_count": 14,
   "metadata": {
    "ExecuteTime": {
     "end_time": "2021-07-12T06:22:07.892735Z",
     "start_time": "2021-07-12T06:22:07.008768Z"
    },
    "execution": {
     "iopub.execute_input": "2021-07-09T19:02:50.745991Z",
     "iopub.status.busy": "2021-07-09T19:02:50.745546Z",
     "iopub.status.idle": "2021-07-09T19:02:51.771151Z",
     "shell.execute_reply": "2021-07-09T19:02:51.770033Z",
     "shell.execute_reply.started": "2021-07-09T19:02:50.745956Z"
    }
   },
   "outputs": [
    {
     "data": {
      "text/plain": [
       "<seaborn.axisgrid.FacetGrid at 0x7f84bdcee850>"
      ]
     },
     "execution_count": 14,
     "metadata": {},
     "output_type": "execute_result"
    },
    {
     "data": {
      "image/png": "[encoded data removed]",
      "text/plain": [
       "<Figure size 402.875x360 with 1 Axes>"
      ]
     },
     "metadata": {
      "needs_background": "light"
     },
     "output_type": "display_data"
    }
   ],
   "source": [
    "sns.catplot(x=\"Sex\", y=\"Na_to_K\", hue=\"Drug\", kind=\"point\", data=data)"
   ]
  },
  {
   "cell_type": "code",
   "execution_count": 15,
   "metadata": {
    "ExecuteTime": {
     "end_time": "2021-07-12T06:22:08.189829Z",
     "start_time": "2021-07-12T06:22:07.894923Z"
    },
    "execution": {
     "iopub.execute_input": "2021-07-09T19:02:51.773189Z",
     "iopub.status.busy": "2021-07-09T19:02:51.772884Z",
     "iopub.status.idle": "2021-07-09T19:02:52.044185Z",
     "shell.execute_reply": "2021-07-09T19:02:52.043054Z",
     "shell.execute_reply.started": "2021-07-09T19:02:51.773161Z"
    }
   },
   "outputs": [
    {
     "data": {
      "text/plain": [
       "<AxesSubplot:xlabel='Drug', ylabel='Age'>"
      ]
     },
     "execution_count": 15,
     "metadata": {},
     "output_type": "execute_result"
    },
    {
     "data": {
      "image/png": "[encoded data removed]",
      "text/plain": [
       "<Figure size 432x288 with 1 Axes>"
      ]
     },
     "metadata": {
      "needs_background": "light"
     },
     "output_type": "display_data"
    }
   ],
   "source": [
    "sns.violinplot(x=data.Drug, y=data.Age)"
   ]
  },
  {
   "cell_type": "code",
   "execution_count": 16,
   "metadata": {
    "ExecuteTime": {
     "end_time": "2021-07-12T06:22:08.440332Z",
     "start_time": "2021-07-12T06:22:08.191914Z"
    },
    "execution": {
     "iopub.execute_input": "2021-07-09T19:02:52.447249Z",
     "iopub.status.busy": "2021-07-09T19:02:52.446892Z",
     "iopub.status.idle": "2021-07-09T19:02:52.724624Z",
     "shell.execute_reply": "2021-07-09T19:02:52.723570Z",
     "shell.execute_reply.started": "2021-07-09T19:02:52.447219Z"
    }
   },
   "outputs": [
    {
     "data": {
      "text/plain": [
       "<AxesSubplot:xlabel='Drug', ylabel='Na_to_K'>"
      ]
     },
     "execution_count": 16,
     "metadata": {},
     "output_type": "execute_result"
    },
    {
     "data": {
      "image/png": "[encoded data removed]",
      "text/plain": [
       "<Figure size 432x288 with 1 Axes>"
      ]
     },
     "metadata": {
      "needs_background": "light"
     },
     "output_type": "display_data"
    }
   ],
   "source": [
    "sns.violinplot(x=data.Drug, y=data.Na_to_K)"
   ]
  },
  {
   "cell_type": "code",
   "execution_count": 17,
   "metadata": {
    "ExecuteTime": {
     "end_time": "2021-07-12T06:22:08.964118Z",
     "start_time": "2021-07-12T06:22:08.442513Z"
    },
    "execution": {
     "iopub.execute_input": "2021-07-09T19:02:54.774051Z",
     "iopub.status.busy": "2021-07-09T19:02:54.773685Z",
     "iopub.status.idle": "2021-07-09T19:02:55.305606Z",
     "shell.execute_reply": "2021-07-09T19:02:55.304678Z",
     "shell.execute_reply.started": "2021-07-09T19:02:54.774022Z"
    },
    "scrolled": false
   },
   "outputs": [
    {
     "data": {
      "image/png": "[encoded data removed]",
      "text/plain": [
       "<Figure size 474.875x432 with 1 Axes>"
      ]
     },
     "metadata": {
      "needs_background": "light"
     },
     "output_type": "display_data"
    }
   ],
   "source": [
    "sns.FacetGrid(data, hue=\"Drug\", height=6) \\\n",
    "   .map(sns.histplot, \"Age\") \\\n",
    "   .add_legend();\n",
    "plt.suptitle(\"Age\",size=28)\n",
    "plt.show();"
   ]
  },
  {
   "cell_type": "code",
   "execution_count": 18,
   "metadata": {
    "ExecuteTime": {
     "end_time": "2021-07-12T06:22:09.462731Z",
     "start_time": "2021-07-12T06:22:08.966474Z"
    },
    "execution": {
     "iopub.execute_input": "2021-07-09T19:02:55.307399Z",
     "iopub.status.busy": "2021-07-09T19:02:55.307115Z",
     "iopub.status.idle": "2021-07-09T19:02:55.827987Z",
     "shell.execute_reply": "2021-07-09T19:02:55.826777Z",
     "shell.execute_reply.started": "2021-07-09T19:02:55.307371Z"
    },
    "scrolled": true
   },
   "outputs": [
    {
     "data": {
      "image/png": "[encoded data removed]",
      "text/plain": [
       "<Figure size 474.875x432 with 1 Axes>"
      ]
     },
     "metadata": {
      "needs_background": "light"
     },
     "output_type": "display_data"
    }
   ],
   "source": [
    "sns.FacetGrid(data, hue=\"Drug\", height=6) \\\n",
    "   .map(sns.histplot, \"Na_to_K\") \\\n",
    "   .add_legend();\n",
    "plt.suptitle(\"Na_to_K\",size=28)\n",
    "plt.show();"
   ]
  },
  {
   "cell_type": "code",
   "execution_count": 46,
   "metadata": {
    "ExecuteTime": {
     "end_time": "2021-07-12T06:37:01.636125Z",
     "start_time": "2021-07-12T06:37:01.243405Z"
    },
    "execution": {
     "iopub.execute_input": "2021-07-09T19:03:22.631298Z",
     "iopub.status.busy": "2021-07-09T19:03:22.630920Z",
     "iopub.status.idle": "2021-07-09T19:03:23.126095Z",
     "shell.execute_reply": "2021-07-09T19:03:23.124997Z",
     "shell.execute_reply.started": "2021-07-09T19:03:22.631267Z"
    }
   },
   "outputs": [
    {
     "data": {
      "text/html": [
       "<div>\n",
       "<style scoped>\n",
       "    .dataframe tbody tr th:only-of-type {\n",
       "        vertical-align: middle;\n",
       "    }\n",
       "\n",
       "    .dataframe tbody tr th {\n",
       "        vertical-align: top;\n",
       "    }\n",
       "\n",
       "    .dataframe thead th {\n",
       "        text-align: right;\n",
       "    }\n",
       "</style>\n",
       "<table border=\"1\" class=\"dataframe\">\n",
       "  <thead>\n",
       "    <tr style=\"text-align: right;\">\n",
       "      <th></th>\n",
       "      <th>Age</th>\n",
       "      <th>Na_to_K</th>\n",
       "      <th>Sex</th>\n",
       "      <th>BP</th>\n",
       "      <th>Cholesterol</th>\n",
       "    </tr>\n",
       "  </thead>\n",
       "  <tbody>\n",
       "    <tr>\n",
       "      <th>Age</th>\n",
       "      <td>1.000000</td>\n",
       "      <td>0.063119</td>\n",
       "      <td>0.102027</td>\n",
       "      <td>0.054212</td>\n",
       "      <td>0.068234</td>\n",
       "    </tr>\n",
       "    <tr>\n",
       "      <th>Na_to_K</th>\n",
       "      <td>0.063119</td>\n",
       "      <td>1.000000</td>\n",
       "      <td>0.125008</td>\n",
       "      <td>0.149312</td>\n",
       "      <td>0.010000</td>\n",
       "    </tr>\n",
       "    <tr>\n",
       "      <th>Sex</th>\n",
       "      <td>0.102027</td>\n",
       "      <td>0.125008</td>\n",
       "      <td>1.000000</td>\n",
       "      <td>0.007814</td>\n",
       "      <td>0.008811</td>\n",
       "    </tr>\n",
       "    <tr>\n",
       "      <th>BP</th>\n",
       "      <td>0.054212</td>\n",
       "      <td>0.149312</td>\n",
       "      <td>0.007814</td>\n",
       "      <td>1.000000</td>\n",
       "      <td>0.137552</td>\n",
       "    </tr>\n",
       "    <tr>\n",
       "      <th>Cholesterol</th>\n",
       "      <td>0.068234</td>\n",
       "      <td>0.010000</td>\n",
       "      <td>0.008811</td>\n",
       "      <td>0.137552</td>\n",
       "      <td>1.000000</td>\n",
       "    </tr>\n",
       "  </tbody>\n",
       "</table>\n",
       "</div>"
      ],
      "text/plain": [
       "                  Age   Na_to_K       Sex        BP  Cholesterol\n",
       "Age          1.000000  0.063119  0.102027  0.054212     0.068234\n",
       "Na_to_K      0.063119  1.000000  0.125008  0.149312     0.010000\n",
       "Sex          0.102027  0.125008  1.000000  0.007814     0.008811\n",
       "BP           0.054212  0.149312  0.007814  1.000000     0.137552\n",
       "Cholesterol  0.068234  0.010000  0.008811  0.137552     1.000000"
      ]
     },
     "execution_count": 46,
     "metadata": {},
     "output_type": "execute_result"
    },
    {
     "data": {
      "image/png": "[encoded data removed]",
      "text/plain": [
       "<Figure size 1080x1080 with 2 Axes>"
      ]
     },
     "metadata": {
      "needs_background": "light"
     },
     "output_type": "display_data"
    }
   ],
   "source": [
    "import seaborn as sns\n",
    "import matplotlib.pyplot as plt\n",
    "def corr(dataframe,target_variable):\n",
    "    fig, ax = plt.subplots(figsize=(15,15))\n",
    "    correlation_matrix = dataframe.corr().round(2)\n",
    "    sns.heatmap(data=correlation_matrix, annot=True)\n",
    "    correlation = data.corr().abs()\n",
    "#     .sort_values(ascending = False)\n",
    "    return correlation\n",
    "corr(data,\"Drug\")"
   ]
  },
  {
   "cell_type": "code",
   "execution_count": 47,
   "metadata": {
    "ExecuteTime": {
     "end_time": "2021-07-12T06:38:02.978423Z",
     "start_time": "2021-07-12T06:38:02.832050Z"
    },
    "execution": {
     "iopub.execute_input": "2021-07-09T19:03:25.887994Z",
     "iopub.status.busy": "2021-07-09T19:03:25.887431Z",
     "iopub.status.idle": "2021-07-09T19:03:26.061330Z",
     "shell.execute_reply": "2021-07-09T19:03:26.059828Z",
     "shell.execute_reply.started": "2021-07-09T19:03:25.887959Z"
    }
   },
   "outputs": [
    {
     "data": {
      "application/vnd.plotly.v1+json": {
       "config": {
        "plotlyServerURL": "https://plot.ly"
       },
       "data": [
        {
         "name": "Age",
         "type": "box",
         "xaxis": "x",
         "y": [
          23,
          47,
          47,
          28,
          61,
          22,
          49,
          41,
          60,
          43,
          47,
          34,
          43,
          74,
          50,
          16,
          69,
          43,
          23,
          32,
          57,
          63,
          47,
          48,
          33,
          28,
          31,
          49,
          39,
          45,
          18,
          74,
          49,
          65,
          53,
          46,
          32,
          39,
          39,
          15,
          73,
          58,
          50,
          23,
          50,
          66,
          37,
          68,
          23,
          28,
          58,
          67,
          62,
          24,
          68,
          26,
          65,
          40,
          60,
          34,
          38,
          24,
          67,
          45,
          60,
          68,
          29,
          17,
          54,
          18,
          70,
          28,
          24,
          41,
          31,
          26,
          36,
          26,
          19,
          32,
          60,
          64,
          32,
          38,
          47,
          59,
          51,
          69,
          37,
          50,
          62,
          41,
          29,
          42,
          56,
          36,
          58,
          56,
          20,
          15,
          31,
          45,
          28,
          56,
          22,
          37,
          22,
          42,
          72,
          23,
          50,
          47,
          35,
          65,
          20,
          51,
          67,
          40,
          32,
          61,
          28,
          15,
          34,
          36,
          53,
          19,
          66,
          35,
          47,
          32,
          70,
          52,
          49,
          24,
          42,
          74,
          55,
          35,
          51,
          69,
          49,
          64,
          60,
          74,
          39,
          61,
          37,
          26,
          61,
          22,
          49,
          68,
          55,
          72,
          37,
          49,
          31,
          53,
          59,
          34,
          30,
          57,
          43,
          21,
          16,
          38,
          58,
          57,
          51,
          20,
          28,
          45,
          39,
          41,
          42,
          73,
          48,
          25,
          39,
          67,
          22,
          59,
          20,
          36,
          18,
          57,
          70,
          47,
          65,
          64,
          58,
          23,
          72,
          72,
          46,
          56,
          16,
          52,
          23,
          40
         ],
         "yaxis": "y"
        },
        {
         "name": "Na_to_K",
         "type": "box",
         "xaxis": "x2",
         "y": [
          25.355,
          13.093,
          10.114,
          7.798,
          18.043,
          8.607,
          16.275,
          11.037,
          15.171,
          19.368,
          11.767,
          19.199,
          15.376,
          20.942,
          12.703,
          15.516,
          11.455,
          13.972,
          7.298,
          25.974,
          19.128,
          25.917,
          30.568,
          15.036,
          33.486,
          18.809,
          30.366,
          9.381,
          22.697,
          17.951,
          8.75,
          9.567,
          11.014,
          31.876,
          14.133,
          7.285,
          9.445,
          13.938,
          9.709,
          9.084,
          19.221,
          14.239,
          15.79,
          12.26,
          12.295,
          8.107,
          13.091,
          10.291,
          31.686,
          19.796,
          19.416,
          10.898,
          27.183,
          18.457,
          10.189,
          14.16,
          11.34,
          27.826,
          10.091,
          18.703,
          29.875,
          9.475,
          20.693,
          8.37,
          13.303,
          27.05,
          12.856,
          10.832,
          24.658,
          24.276,
          13.967,
          19.675,
          10.605,
          22.905,
          17.069,
          20.909,
          11.198,
          19.161,
          13.313,
          10.84,
          13.934,
          7.761,
          9.712,
          11.326,
          10.067,
          13.935,
          13.597,
          15.478,
          23.091,
          17.211,
          16.594,
          15.156,
          29.45,
          29.271,
          15.015,
          11.424,
          38.247,
          25.395,
          35.639,
          16.725,
          11.871,
          12.854,
          13.127,
          8.966,
          28.294,
          8.968,
          11.953,
          20.013,
          9.677,
          16.85,
          7.49,
          6.683,
          9.17,
          13.769,
          9.281,
          18.295,
          9.514,
          10.103,
          10.292,
          25.475,
          27.064,
          17.206,
          22.456,
          16.753,
          12.495,
          25.969,
          16.347,
          7.845,
          33.542,
          7.477,
          20.489,
          32.922,
          13.598,
          25.786,
          21.036,
          11.939,
          10.977,
          12.894,
          11.343,
          10.065,
          6.269,
          25.741,
          8.621,
          15.436,
          9.664,
          9.443,
          12.006,
          12.307,
          7.34,
          8.151,
          8.7,
          11.009,
          7.261,
          14.642,
          16.724,
          10.537,
          11.227,
          22.963,
          10.444,
          12.923,
          10.443,
          9.945,
          12.859,
          28.632,
          19.007,
          18.295,
          26.645,
          14.216,
          23.003,
          11.262,
          12.879,
          10.017,
          17.225,
          18.739,
          12.766,
          18.348,
          10.446,
          19.011,
          15.969,
          15.891,
          22.818,
          13.884,
          11.686,
          15.49,
          37.188,
          25.893,
          9.849,
          10.403,
          34.997,
          20.932,
          18.991,
          8.011,
          16.31,
          6.769,
          34.686,
          11.567,
          12.006,
          9.894,
          14.02,
          11.349
         ],
         "yaxis": "y2"
        },
        {
         "name": "Drug",
         "type": "box",
         "xaxis": "x3",
         "y": [
          "Y",
          "C",
          "C",
          "X",
          "Y",
          "X",
          "Y",
          "C",
          "Y",
          "Y",
          "C",
          "Y",
          "Y",
          "Y",
          "X",
          "Y",
          "X",
          "A",
          "C",
          "Y",
          "Y",
          "Y",
          "Y",
          "Y",
          "Y",
          "Y",
          "Y",
          "X",
          "Y",
          "Y",
          "X",
          "B",
          "X",
          "Y",
          "X",
          "X",
          "A",
          "X",
          "X",
          "X",
          "Y",
          "B",
          "Y",
          "X",
          "X",
          "X",
          "A",
          "C",
          "Y",
          "Y",
          "Y",
          "X",
          "Y",
          "Y",
          "B",
          "C",
          "B",
          "Y",
          "X",
          "Y",
          "Y",
          "A",
          "Y",
          "X",
          "B",
          "Y",
          "A",
          "X",
          "Y",
          "Y",
          "B",
          "Y",
          "X",
          "Y",
          "Y",
          "Y",
          "A",
          "Y",
          "A",
          "X",
          "B",
          "X",
          "C",
          "A",
          "C",
          "B",
          "X",
          "Y",
          "Y",
          "Y",
          "Y",
          "Y",
          "Y",
          "Y",
          "Y",
          "X",
          "Y",
          "Y",
          "Y",
          "Y",
          "A",
          "A",
          "C",
          "X",
          "Y",
          "X",
          "X",
          "Y",
          "B",
          "Y",
          "A",
          "X",
          "X",
          "X",
          "X",
          "Y",
          "X",
          "X",
          "A",
          "Y",
          "Y",
          "Y",
          "Y",
          "Y",
          "B",
          "Y",
          "Y",
          "X",
          "Y",
          "X",
          "Y",
          "Y",
          "X",
          "Y",
          "Y",
          "X",
          "B",
          "A",
          "B",
          "X",
          "A",
          "Y",
          "B",
          "Y",
          "A",
          "X",
          "X",
          "A",
          "X",
          "C",
          "A",
          "B",
          "X",
          "X",
          "Y",
          "C",
          "A",
          "Y",
          "C",
          "X",
          "X",
          "B",
          "X",
          "Y",
          "Y",
          "Y",
          "Y",
          "X",
          "Y",
          "A",
          "X",
          "X",
          "Y",
          "Y",
          "A",
          "Y",
          "A",
          "Y",
          "Y",
          "Y",
          "Y",
          "X",
          "X",
          "Y",
          "Y",
          "Y",
          "B",
          "A",
          "Y",
          "Y",
          "Y",
          "A",
          "Y",
          "C",
          "Y",
          "C",
          "C",
          "X",
          "X",
          "X"
         ],
         "yaxis": "y3"
        },
        {
         "name": "Sex",
         "type": "box",
         "xaxis": "x4",
         "y": [
          0,
          1,
          1,
          0,
          0,
          0,
          0,
          1,
          1,
          1,
          0,
          0,
          1,
          0,
          0,
          0,
          1,
          1,
          1,
          0,
          1,
          1,
          1,
          0,
          0,
          0,
          1,
          0,
          0,
          1,
          0,
          1,
          1,
          0,
          1,
          1,
          1,
          1,
          0,
          1,
          0,
          0,
          1,
          1,
          0,
          0,
          0,
          1,
          1,
          0,
          0,
          1,
          1,
          0,
          0,
          0,
          1,
          1,
          1,
          1,
          0,
          1,
          1,
          1,
          0,
          0,
          1,
          1,
          1,
          0,
          1,
          0,
          0,
          0,
          1,
          1,
          0,
          0,
          0,
          0,
          1,
          1,
          0,
          0,
          0,
          1,
          0,
          1,
          0,
          0,
          1,
          1,
          0,
          0,
          1,
          1,
          0,
          0,
          1,
          0,
          1,
          0,
          0,
          1,
          1,
          1,
          1,
          1,
          1,
          1,
          1,
          0,
          1,
          0,
          0,
          1,
          1,
          0,
          0,
          0,
          1,
          1,
          1,
          0,
          0,
          0,
          1,
          1,
          1,
          0,
          0,
          1,
          1,
          1,
          0,
          1,
          0,
          0,
          1,
          0,
          1,
          0,
          1,
          1,
          1,
          1,
          0,
          0,
          0,
          1,
          1,
          1,
          1,
          0,
          1,
          1,
          1,
          1,
          0,
          0,
          0,
          0,
          1,
          0,
          1,
          1,
          0,
          0,
          0,
          0,
          0,
          1,
          0,
          0,
          1,
          0,
          1,
          1,
          1,
          0,
          0,
          0,
          0,
          0,
          0,
          0,
          1,
          1,
          1,
          1,
          1,
          1,
          1,
          1,
          0,
          0,
          1,
          1,
          1,
          0
         ],
         "yaxis": "y4"
        },
        {
         "name": "BP",
         "type": "box",
         "xaxis": "x5",
         "y": [
          0,
          1,
          1,
          2,
          1,
          2,
          2,
          1,
          2,
          1,
          1,
          0,
          1,
          1,
          2,
          0,
          1,
          0,
          1,
          0,
          1,
          2,
          1,
          1,
          1,
          0,
          0,
          2,
          1,
          1,
          2,
          0,
          1,
          0,
          2,
          2,
          0,
          1,
          2,
          2,
          2,
          0,
          2,
          2,
          2,
          2,
          0,
          1,
          2,
          1,
          0,
          2,
          1,
          0,
          0,
          1,
          0,
          0,
          2,
          0,
          1,
          0,
          1,
          1,
          0,
          2,
          0,
          2,
          2,
          0,
          0,
          2,
          2,
          2,
          0,
          1,
          0,
          0,
          0,
          1,
          0,
          2,
          1,
          0,
          1,
          0,
          2,
          1,
          0,
          2,
          2,
          0,
          0,
          1,
          1,
          1,
          1,
          0,
          0,
          0,
          0,
          0,
          1,
          2,
          0,
          1,
          2,
          1,
          0,
          2,
          0,
          2,
          1,
          1,
          2,
          0,
          2,
          2,
          0,
          0,
          2,
          0,
          2,
          2,
          0,
          0,
          0,
          2,
          1,
          2,
          2,
          1,
          1,
          2,
          0,
          1,
          0,
          0,
          0,
          2,
          0,
          1,
          0,
          0,
          0,
          2,
          1,
          0,
          1,
          1,
          0,
          0,
          2,
          1,
          1,
          1,
          0,
          1,
          1,
          1,
          2,
          0,
          2,
          0,
          0,
          1,
          1,
          2,
          1,
          0,
          2,
          1,
          2,
          1,
          0,
          0,
          0,
          2,
          2,
          2,
          0,
          2,
          1,
          0,
          0,
          2,
          0,
          0,
          0,
          0,
          0,
          0,
          1,
          1,
          0,
          1,
          1,
          2,
          2,
          1
         ],
         "yaxis": "y5"
        },
        {
         "name": "Cholesterol",
         "type": "box",
         "xaxis": "x6",
         "y": [
          0,
          0,
          0,
          0,
          0,
          0,
          0,
          0,
          0,
          1,
          0,
          1,
          0,
          0,
          0,
          1,
          1,
          0,
          0,
          1,
          1,
          0,
          1,
          0,
          0,
          1,
          0,
          1,
          1,
          0,
          1,
          0,
          1,
          1,
          0,
          1,
          1,
          1,
          1,
          0,
          0,
          1,
          1,
          0,
          1,
          1,
          0,
          0,
          0,
          0,
          0,
          1,
          1,
          1,
          1,
          0,
          1,
          0,
          1,
          0,
          1,
          1,
          1,
          1,
          0,
          1,
          0,
          1,
          0,
          1,
          0,
          0,
          0,
          1,
          1,
          1,
          0,
          1,
          0,
          1,
          0,
          0,
          0,
          1,
          0,
          0,
          0,
          0,
          1,
          1,
          0,
          1,
          0,
          1,
          0,
          1,
          0,
          0,
          1,
          1,
          1,
          0,
          0,
          0,
          1,
          1,
          0,
          0,
          1,
          0,
          0,
          1,
          1,
          1,
          1,
          0,
          1,
          0,
          1,
          0,
          0,
          1,
          0,
          0,
          1,
          1,
          0,
          1,
          1,
          0,
          0,
          1,
          1,
          0,
          0,
          1,
          0,
          0,
          1,
          0,
          1,
          1,
          1,
          1,
          0,
          0,
          1,
          1,
          1,
          0,
          1,
          0,
          1,
          1,
          1,
          0,
          1,
          0,
          0,
          1,
          0,
          1,
          1,
          1,
          1,
          0,
          0,
          0,
          1,
          0,
          0,
          1,
          1,
          1,
          1,
          0,
          1,
          0,
          0,
          0,
          1,
          0,
          1,
          1,
          0,
          1,
          0,
          0,
          1,
          1,
          0,
          0,
          0,
          0,
          0,
          0,
          0,
          0,
          1,
          1
         ],
         "yaxis": "y6"
        }
       ],
       "layout": {
        "template": {
         "data": {
          "bar": [
           {
            "error_x": {
             "color": "#2a3f5f"
            },
            "error_y": {
             "color": "#2a3f5f"
            },
            "marker": {
             "line": {
              "color": "#E5ECF6",
              "width": 0.5
             },
             "pattern": {
              "fillmode": "overlay",
              "size": 10,
              "solidity": 0.2
             }
            },
            "type": "bar"
           }
          ],
          "barpolar": [
           {
            "marker": {
             "line": {
              "color": "#E5ECF6",
              "width": 0.5
             },
             "pattern": {
              "fillmode": "overlay",
              "size": 10,
              "solidity": 0.2
             }
            },
            "type": "barpolar"
           }
          ],
          "carpet": [
           {
            "aaxis": {
             "endlinecolor": "#2a3f5f",
             "gridcolor": "white",
             "linecolor": "white",
             "minorgridcolor": "white",
             "startlinecolor": "#2a3f5f"
            },
            "baxis": {
             "endlinecolor": "#2a3f5f",
             "gridcolor": "white",
             "linecolor": "white",
             "minorgridcolor": "white",
             "startlinecolor": "#2a3f5f"
            },
            "type": "carpet"
           }
          ],
          "choropleth": [
           {
            "colorbar": {
             "outlinewidth": 0,
             "ticks": ""
            },
            "type": "choropleth"
           }
          ],
          "contour": [
           {
            "colorbar": {
             "outlinewidth": 0,
             "ticks": ""
            },
            "colorscale": [
             [
              0,
              "#0d0887"
             ],
             [
              0.1111111111111111,
              "#46039f"
             ],
             [
              0.2222222222222222,
              "#7201a8"
             ],
             [
              0.3333333333333333,
              "#9c179e"
             ],
             [
              0.4444444444444444,
              "#bd3786"
             ],
             [
              0.5555555555555556,
              "#d8576b"
             ],
             [
              0.6666666666666666,
              "#ed7953"
             ],
             [
              0.7777777777777778,
              "#fb9f3a"
             ],
             [
              0.8888888888888888,
              "#fdca26"
             ],
             [
              1,
              "#f0f921"
             ]
            ],
            "type": "contour"
           }
          ],
          "contourcarpet": [
           {
            "colorbar": {
             "outlinewidth": 0,
             "ticks": ""
            },
            "type": "contourcarpet"
           }
          ],
          "heatmap": [
           {
            "colorbar": {
             "outlinewidth": 0,
             "ticks": ""
            },
            "colorscale": [
             [
              0,
              "#0d0887"
             ],
             [
              0.1111111111111111,
              "#46039f"
             ],
             [
              0.2222222222222222,
              "#7201a8"
             ],
             [
              0.3333333333333333,
              "#9c179e"
             ],
             [
              0.4444444444444444,
              "#bd3786"
             ],
             [
              0.5555555555555556,
              "#d8576b"
             ],
             [
              0.6666666666666666,
              "#ed7953"
             ],
             [
              0.7777777777777778,
              "#fb9f3a"
             ],
             [
              0.8888888888888888,
              "#fdca26"
             ],
             [
              1,
              "#f0f921"
             ]
            ],
            "type": "heatmap"
           }
          ],
          "heatmapgl": [
           {
            "colorbar": {
             "outlinewidth": 0,
             "ticks": ""
            },
            "colorscale": [
             [
              0,
              "#0d0887"
             ],
             [
              0.1111111111111111,
              "#46039f"
             ],
             [
              0.2222222222222222,
              "#7201a8"
             ],
             [
              0.3333333333333333,
              "#9c179e"
             ],
             [
              0.4444444444444444,
              "#bd3786"
             ],
             [
              0.5555555555555556,
              "#d8576b"
             ],
             [
              0.6666666666666666,
              "#ed7953"
             ],
             [
              0.7777777777777778,
              "#fb9f3a"
             ],
             [
              0.8888888888888888,
              "#fdca26"
             ],
             [
              1,
              "#f0f921"
             ]
            ],
            "type": "heatmapgl"
           }
          ],
          "histogram": [
           {
            "marker": {
             "pattern": {
              "fillmode": "overlay",
              "size": 10,
              "solidity": 0.2
             }
            },
            "type": "histogram"
           }
          ],
          "histogram2d": [
           {
            "colorbar": {
             "outlinewidth": 0,
             "ticks": ""
            },
            "colorscale": [
             [
              0,
              "#0d0887"
             ],
             [
              0.1111111111111111,
              "#46039f"
             ],
             [
              0.2222222222222222,
              "#7201a8"
             ],
             [
              0.3333333333333333,
              "#9c179e"
             ],
             [
              0.4444444444444444,
              "#bd3786"
             ],
             [
              0.5555555555555556,
              "#d8576b"
             ],
             [
              0.6666666666666666,
              "#ed7953"
             ],
             [
              0.7777777777777778,
              "#fb9f3a"
             ],
             [
              0.8888888888888888,
              "#fdca26"
             ],
             [
              1,
              "#f0f921"
             ]
            ],
            "type": "histogram2d"
           }
          ],
          "histogram2dcontour": [
           {
            "colorbar": {
             "outlinewidth": 0,
             "ticks": ""
            },
            "colorscale": [
             [
              0,
              "#0d0887"
             ],
             [
              0.1111111111111111,
              "#46039f"
             ],
             [
              0.2222222222222222,
              "#7201a8"
             ],
             [
              0.3333333333333333,
              "#9c179e"
             ],
             [
              0.4444444444444444,
              "#bd3786"
             ],
             [
              0.5555555555555556,
              "#d8576b"
             ],
             [
              0.6666666666666666,
              "#ed7953"
             ],
             [
              0.7777777777777778,
              "#fb9f3a"
             ],
             [
              0.8888888888888888,
              "#fdca26"
             ],
             [
              1,
              "#f0f921"
             ]
            ],
            "type": "histogram2dcontour"
           }
          ],
          "mesh3d": [
           {
            "colorbar": {
             "outlinewidth": 0,
             "ticks": ""
            },
            "type": "mesh3d"
           }
          ],
          "parcoords": [
           {
            "line": {
             "colorbar": {
              "outlinewidth": 0,
              "ticks": ""
             }
            },
            "type": "parcoords"
           }
          ],
          "pie": [
           {
            "automargin": true,
            "type": "pie"
           }
          ],
          "scatter": [
           {
            "marker": {
             "colorbar": {
              "outlinewidth": 0,
              "ticks": ""
             }
            },
            "type": "scatter"
           }
          ],
          "scatter3d": [
           {
            "line": {
             "colorbar": {
              "outlinewidth": 0,
              "ticks": ""
             }
            },
            "marker": {
             "colorbar": {
              "outlinewidth": 0,
              "ticks": ""
             }
            },
            "type": "scatter3d"
           }
          ],
          "scattercarpet": [
           {
            "marker": {
             "colorbar": {
              "outlinewidth": 0,
              "ticks": ""
             }
            },
            "type": "scattercarpet"
           }
          ],
          "scattergeo": [
           {
            "marker": {
             "colorbar": {
              "outlinewidth": 0,
              "ticks": ""
             }
            },
            "type": "scattergeo"
           }
          ],
          "scattergl": [
           {
            "marker": {
             "colorbar": {
              "outlinewidth": 0,
              "ticks": ""
             }
            },
            "type": "scattergl"
           }
          ],
          "scattermapbox": [
           {
            "marker": {
             "colorbar": {
              "outlinewidth": 0,
              "ticks": ""
             }
            },
            "type": "scattermapbox"
           }
          ],
          "scatterpolar": [
           {
            "marker": {
             "colorbar": {
              "outlinewidth": 0,
              "ticks": ""
             }
            },
            "type": "scatterpolar"
           }
          ],
          "scatterpolargl": [
           {
            "marker": {
             "colorbar": {
              "outlinewidth": 0,
              "ticks": ""
             }
            },
            "type": "scatterpolargl"
           }
          ],
          "scatterternary": [
           {
            "marker": {
             "colorbar": {
              "outlinewidth": 0,
              "ticks": ""
             }
            },
            "type": "scatterternary"
           }
          ],
          "surface": [
           {
            "colorbar": {
             "outlinewidth": 0,
             "ticks": ""
            },
            "colorscale": [
             [
              0,
              "#0d0887"
             ],
             [
              0.1111111111111111,
              "#46039f"
             ],
             [
              0.2222222222222222,
              "#7201a8"
             ],
             [
              0.3333333333333333,
              "#9c179e"
             ],
             [
              0.4444444444444444,
              "#bd3786"
             ],
             [
              0.5555555555555556,
              "#d8576b"
             ],
             [
              0.6666666666666666,
              "#ed7953"
             ],
             [
              0.7777777777777778,
              "#fb9f3a"
             ],
             [
              0.8888888888888888,
              "#fdca26"
             ],
             [
              1,
              "#f0f921"
             ]
            ],
            "type": "surface"
           }
          ],
          "table": [
           {
            "cells": {
             "fill": {
              "color": "#EBF0F8"
             },
             "line": {
              "color": "white"
             }
            },
            "header": {
             "fill": {
              "color": "#C8D4E3"
             },
             "line": {
              "color": "white"
             }
            },
            "type": "table"
           }
          ]
         },
         "layout": {
          "annotationdefaults": {
           "arrowcolor": "#2a3f5f",
           "arrowhead": 0,
           "arrowwidth": 1
          },
          "autotypenumbers": "strict",
          "coloraxis": {
           "colorbar": {
            "outlinewidth": 0,
            "ticks": ""
           }
          },
          "colorscale": {
           "diverging": [
            [
             0,
             "#8e0152"
            ],
            [
             0.1,
             "#c51b7d"
            ],
            [
             0.2,
             "#de77ae"
            ],
            [
             0.3,
             "#f1b6da"
            ],
            [
             0.4,
             "#fde0ef"
            ],
            [
             0.5,
             "#f7f7f7"
            ],
            [
             0.6,
             "#e6f5d0"
            ],
            [
             0.7,
             "#b8e186"
            ],
            [
             0.8,
             "#7fbc41"
            ],
            [
             0.9,
             "#4d9221"
            ],
            [
             1,
             "#276419"
            ]
           ],
           "sequential": [
            [
             0,
             "#0d0887"
            ],
            [
             0.1111111111111111,
             "#46039f"
            ],
            [
             0.2222222222222222,
             "#7201a8"
            ],
            [
             0.3333333333333333,
             "#9c179e"
            ],
            [
             0.4444444444444444,
             "#bd3786"
            ],
            [
             0.5555555555555556,
             "#d8576b"
            ],
            [
             0.6666666666666666,
             "#ed7953"
            ],
            [
             0.7777777777777778,
             "#fb9f3a"
            ],
            [
             0.8888888888888888,
             "#fdca26"
            ],
            [
             1,
             "#f0f921"
            ]
           ],
           "sequentialminus": [
            [
             0,
             "#0d0887"
            ],
            [
             0.1111111111111111,
             "#46039f"
            ],
            [
             0.2222222222222222,
             "#7201a8"
            ],
            [
             0.3333333333333333,
             "#9c179e"
            ],
            [
             0.4444444444444444,
             "#bd3786"
            ],
            [
             0.5555555555555556,
             "#d8576b"
            ],
            [
             0.6666666666666666,
             "#ed7953"
            ],
            [
             0.7777777777777778,
             "#fb9f3a"
            ],
            [
             0.8888888888888888,
             "#fdca26"
            ],
            [
             1,
             "#f0f921"
            ]
           ]
          },
          "colorway": [
           "#636efa",
           "#EF553B",
           "#00cc96",
           "#ab63fa",
           "#FFA15A",
           "#19d3f3",
           "#FF6692",
           "#B6E880",
           "#FF97FF",
           "#FECB52"
          ],
          "font": {
           "color": "#2a3f5f"
          },
          "geo": {
           "bgcolor": "white",
           "lakecolor": "white",
           "landcolor": "#E5ECF6",
           "showlakes": true,
           "showland": true,
           "subunitcolor": "white"
          },
          "hoverlabel": {
           "align": "left"
          },
          "hovermode": "closest",
          "mapbox": {
           "style": "light"
          },
          "paper_bgcolor": "white",
          "plot_bgcolor": "#E5ECF6",
          "polar": {
           "angularaxis": {
            "gridcolor": "white",
            "linecolor": "white",
            "ticks": ""
           },
           "bgcolor": "#E5ECF6",
           "radialaxis": {
            "gridcolor": "white",
            "linecolor": "white",
            "ticks": ""
           }
          },
          "scene": {
           "xaxis": {
            "backgroundcolor": "#E5ECF6",
            "gridcolor": "white",
            "gridwidth": 2,
            "linecolor": "white",
            "showbackground": true,
            "ticks": "",
            "zerolinecolor": "white"
           },
           "yaxis": {
            "backgroundcolor": "#E5ECF6",
            "gridcolor": "white",
            "gridwidth": 2,
            "linecolor": "white",
            "showbackground": true,
            "ticks": "",
            "zerolinecolor": "white"
           },
           "zaxis": {
            "backgroundcolor": "#E5ECF6",
            "gridcolor": "white",
            "gridwidth": 2,
            "linecolor": "white",
            "showbackground": true,
            "ticks": "",
            "zerolinecolor": "white"
           }
          },
          "shapedefaults": {
           "line": {
            "color": "#2a3f5f"
           }
          },
          "ternary": {
           "aaxis": {
            "gridcolor": "white",
            "linecolor": "white",
            "ticks": ""
           },
           "baxis": {
            "gridcolor": "white",
            "linecolor": "white",
            "ticks": ""
           },
           "bgcolor": "#E5ECF6",
           "caxis": {
            "gridcolor": "white",
            "linecolor": "white",
            "ticks": ""
           }
          },
          "title": {
           "x": 0.05
          },
          "xaxis": {
           "automargin": true,
           "gridcolor": "white",
           "linecolor": "white",
           "ticks": "",
           "title": {
            "standoff": 15
           },
           "zerolinecolor": "white",
           "zerolinewidth": 2
          },
          "yaxis": {
           "automargin": true,
           "gridcolor": "white",
           "linecolor": "white",
           "ticks": "",
           "title": {
            "standoff": 15
           },
           "zerolinecolor": "white",
           "zerolinewidth": 2
          }
         }
        },
        "xaxis": {
         "anchor": "y",
         "domain": [
          0,
          0.1388888888888889
         ]
        },
        "xaxis2": {
         "anchor": "y2",
         "domain": [
          0.17222222222222222,
          0.3111111111111111
         ]
        },
        "xaxis3": {
         "anchor": "y3",
         "domain": [
          0.34444444444444444,
          0.48333333333333334
         ]
        },
        "xaxis4": {
         "anchor": "y4",
         "domain": [
          0.5166666666666667,
          0.6555555555555557
         ]
        },
        "xaxis5": {
         "anchor": "y5",
         "domain": [
          0.6888888888888889,
          0.8277777777777777
         ]
        },
        "xaxis6": {
         "anchor": "y6",
         "domain": [
          0.861111111111111,
          1
         ]
        },
        "yaxis": {
         "anchor": "x",
         "domain": [
          0,
          1
         ]
        },
        "yaxis2": {
         "anchor": "x2",
         "domain": [
          0,
          1
         ]
        },
        "yaxis3": {
         "anchor": "x3",
         "domain": [
          0,
          1
         ]
        },
        "yaxis4": {
         "anchor": "x4",
         "domain": [
          0,
          1
         ]
        },
        "yaxis5": {
         "anchor": "x5",
         "domain": [
          0,
          1
         ]
        },
        "yaxis6": {
         "anchor": "x6",
         "domain": [
          0,
          1
         ]
        }
       }
      },
      "text/html": [
       "<div>                            <div id=\"3c62c399-1a6e-45e0-b950-de19c0c9c1b3\" class=\"plotly-graph-div\" style=\"height:525px; width:100%;\"></div>            <script type=\"text/javascript\">                require([\"plotly\"], function(Plotly) {                    window.PLOTLYENV=window.PLOTLYENV || {};                                    if (document.getElementById(\"3c62c399-1a6e-45e0-b950-de19c0c9c1b3\")) {                    Plotly.newPlot(                        \"3c62c399-1a6e-45e0-b950-de19c0c9c1b3\",                        [{\"name\":\"Age\",\"type\":\"box\",\"xaxis\":\"x\",\"y\":[23,47,47,28,61,22,49,41,60,43,47,34,43,74,50,16,69,43,23,32,57,63,47,48,33,28,31,49,39,45,18,74,49,65,53,46,32,39,39,15,73,58,50,23,50,66,37,68,23,28,58,67,62,24,68,26,65,40,60,34,38,24,67,45,60,68,29,17,54,18,70,28,24,41,31,26,36,26,19,32,60,64,32,38,47,59,51,69,37,50,62,41,29,42,56,36,58,56,20,15,31,45,28,56,22,37,22,42,72,23,50,47,35,65,20,51,67,40,32,61,28,15,34,36,53,19,66,35,47,32,70,52,49,24,42,74,55,35,51,69,49,64,60,74,39,61,37,26,61,22,49,68,55,72,37,49,31,53,59,34,30,57,43,21,16,38,58,57,51,20,28,45,39,41,42,73,48,25,39,67,22,59,20,36,18,57,70,47,65,64,58,23,72,72,46,56,16,52,23,40],\"yaxis\":\"y\"},{\"name\":\"Na_to_K\",\"type\":\"box\",\"xaxis\":\"x2\",\"y\":[25.355,13.093,10.114,7.798,18.043,8.607,16.275,11.037,15.171,19.368,11.767,19.199,15.376,20.942,12.703,15.516,11.455,13.972,7.298,25.974,19.128,25.917,30.568,15.036,33.486,18.809,30.366,9.381,22.697,17.951,8.75,9.567,11.014,31.876,14.133,7.285,9.445,13.938,9.709,9.084,19.221,14.239,15.79,12.26,12.295,8.107,13.091,10.291,31.686,19.796,19.416,10.898,27.183,18.457,10.189,14.16,11.34,27.826,10.091,18.703,29.875,9.475,20.693,8.37,13.303,27.05,12.856,10.832,24.658,24.276,13.967,19.675,10.605,22.905,17.069,20.909,11.198,19.161,13.313,10.84,13.934,7.761,9.712,11.326,10.067,13.935,13.597,15.478,23.091,17.211,16.594,15.156,29.45,29.271,15.015,11.424,38.247,25.395,35.639,16.725,11.871,12.854,13.127,8.966,28.294,8.968,11.953,20.013,9.677,16.85,7.49,6.683,9.17,13.769,9.281,18.295,9.514,10.103,10.292,25.475,27.064,17.206,22.456,16.753,12.495,25.969,16.347,7.845,33.542,7.477,20.489,32.922,13.598,25.786,21.036,11.939,10.977,12.894,11.343,10.065,6.269,25.741,8.621,15.436,9.664,9.443,12.006,12.307,7.34,8.151,8.7,11.009,7.261,14.642,16.724,10.537,11.227,22.963,10.444,12.923,10.443,9.945,12.859,28.632,19.007,18.295,26.645,14.216,23.003,11.262,12.879,10.017,17.225,18.739,12.766,18.348,10.446,19.011,15.969,15.891,22.818,13.884,11.686,15.49,37.188,25.893,9.849,10.403,34.997,20.932,18.991,8.011,16.31,6.769,34.686,11.567,12.006,9.894,14.02,11.349],\"yaxis\":\"y2\"},{\"name\":\"Drug\",\"type\":\"box\",\"xaxis\":\"x3\",\"y\":[\"Y\",\"C\",\"C\",\"X\",\"Y\",\"X\",\"Y\",\"C\",\"Y\",\"Y\",\"C\",\"Y\",\"Y\",\"Y\",\"X\",\"Y\",\"X\",\"A\",\"C\",\"Y\",\"Y\",\"Y\",\"Y\",\"Y\",\"Y\",\"Y\",\"Y\",\"X\",\"Y\",\"Y\",\"X\",\"B\",\"X\",\"Y\",\"X\",\"X\",\"A\",\"X\",\"X\",\"X\",\"Y\",\"B\",\"Y\",\"X\",\"X\",\"X\",\"A\",\"C\",\"Y\",\"Y\",\"Y\",\"X\",\"Y\",\"Y\",\"B\",\"C\",\"B\",\"Y\",\"X\",\"Y\",\"Y\",\"A\",\"Y\",\"X\",\"B\",\"Y\",\"A\",\"X\",\"Y\",\"Y\",\"B\",\"Y\",\"X\",\"Y\",\"Y\",\"Y\",\"A\",\"Y\",\"A\",\"X\",\"B\",\"X\",\"C\",\"A\",\"C\",\"B\",\"X\",\"Y\",\"Y\",\"Y\",\"Y\",\"Y\",\"Y\",\"Y\",\"Y\",\"X\",\"Y\",\"Y\",\"Y\",\"Y\",\"A\",\"A\",\"C\",\"X\",\"Y\",\"X\",\"X\",\"Y\",\"B\",\"Y\",\"A\",\"X\",\"X\",\"X\",\"X\",\"Y\",\"X\",\"X\",\"A\",\"Y\",\"Y\",\"Y\",\"Y\",\"Y\",\"B\",\"Y\",\"Y\",\"X\",\"Y\",\"X\",\"Y\",\"Y\",\"X\",\"Y\",\"Y\",\"X\",\"B\",\"A\",\"B\",\"X\",\"A\",\"Y\",\"B\",\"Y\",\"A\",\"X\",\"X\",\"A\",\"X\",\"C\",\"A\",\"B\",\"X\",\"X\",\"Y\",\"C\",\"A\",\"Y\",\"C\",\"X\",\"X\",\"B\",\"X\",\"Y\",\"Y\",\"Y\",\"Y\",\"X\",\"Y\",\"A\",\"X\",\"X\",\"Y\",\"Y\",\"A\",\"Y\",\"A\",\"Y\",\"Y\",\"Y\",\"Y\",\"X\",\"X\",\"Y\",\"Y\",\"Y\",\"B\",\"A\",\"Y\",\"Y\",\"Y\",\"A\",\"Y\",\"C\",\"Y\",\"C\",\"C\",\"X\",\"X\",\"X\"],\"yaxis\":\"y3\"},{\"name\":\"Sex\",\"type\":\"box\",\"xaxis\":\"x4\",\"y\":[0,1,1,0,0,0,0,1,1,1,0,0,1,0,0,0,1,1,1,0,1,1,1,0,0,0,1,0,0,1,0,1,1,0,1,1,1,1,0,1,0,0,1,1,0,0,0,1,1,0,0,1,1,0,0,0,1,1,1,1,0,1,1,1,0,0,1,1,1,0,1,0,0,0,1,1,0,0,0,0,1,1,0,0,0,1,0,1,0,0,1,1,0,0,1,1,0,0,1,0,1,0,0,1,1,1,1,1,1,1,1,0,1,0,0,1,1,0,0,0,1,1,1,0,0,0,1,1,1,0,0,1,1,1,0,1,0,0,1,0,1,0,1,1,1,1,0,0,0,1,1,1,1,0,1,1,1,1,0,0,0,0,1,0,1,1,0,0,0,0,0,1,0,0,1,0,1,1,1,0,0,0,0,0,0,0,1,1,1,1,1,1,1,1,0,0,1,1,1,0],\"yaxis\":\"y4\"},{\"name\":\"BP\",\"type\":\"box\",\"xaxis\":\"x5\",\"y\":[0,1,1,2,1,2,2,1,2,1,1,0,1,1,2,0,1,0,1,0,1,2,1,1,1,0,0,2,1,1,2,0,1,0,2,2,0,1,2,2,2,0,2,2,2,2,0,1,2,1,0,2,1,0,0,1,0,0,2,0,1,0,1,1,0,2,0,2,2,0,0,2,2,2,0,1,0,0,0,1,0,2,1,0,1,0,2,1,0,2,2,0,0,1,1,1,1,0,0,0,0,0,1,2,0,1,2,1,0,2,0,2,1,1,2,0,2,2,0,0,2,0,2,2,0,0,0,2,1,2,2,1,1,2,0,1,0,0,0,2,0,1,0,0,0,2,1,0,1,1,0,0,2,1,1,1,0,1,1,1,2,0,2,0,0,1,1,2,1,0,2,1,2,1,0,0,0,2,2,2,0,2,1,0,0,2,0,0,0,0,0,0,1,1,0,1,1,2,2,1],\"yaxis\":\"y5\"},{\"name\":\"Cholesterol\",\"type\":\"box\",\"xaxis\":\"x6\",\"y\":[0,0,0,0,0,0,0,0,0,1,0,1,0,0,0,1,1,0,0,1,1,0,1,0,0,1,0,1,1,0,1,0,1,1,0,1,1,1,1,0,0,1,1,0,1,1,0,0,0,0,0,1,1,1,1,0,1,0,1,0,1,1,1,1,0,1,0,1,0,1,0,0,0,1,1,1,0,1,0,1,0,0,0,1,0,0,0,0,1,1,0,1,0,1,0,1,0,0,1,1,1,0,0,0,1,1,0,0,1,0,0,1,1,1,1,0,1,0,1,0,0,1,0,0,1,1,0,1,1,0,0,1,1,0,0,1,0,0,1,0,1,1,1,1,0,0,1,1,1,0,1,0,1,1,1,0,1,0,0,1,0,1,1,1,1,0,0,0,1,0,0,1,1,1,1,0,1,0,0,0,1,0,1,1,0,1,0,0,1,1,0,0,0,0,0,0,0,0,1,1],\"yaxis\":\"y6\"}],                        {\"template\":{\"data\":{\"bar\":[{\"error_x\":{\"color\":\"#2a3f5f\"},\"error_y\":{\"color\":\"#2a3f5f\"},\"marker\":{\"line\":{\"color\":\"#E5ECF6\",\"width\":0.5},\"pattern\":{\"fillmode\":\"overlay\",\"size\":10,\"solidity\":0.2}},\"type\":\"bar\"}],\"barpolar\":[{\"marker\":{\"line\":{\"color\":\"#E5ECF6\",\"width\":0.5},\"pattern\":{\"fillmode\":\"overlay\",\"size\":10,\"solidity\":0.2}},\"type\":\"barpolar\"}],\"carpet\":[{\"aaxis\":{\"endlinecolor\":\"#2a3f5f\",\"gridcolor\":\"white\",\"linecolor\":\"white\",\"minorgridcolor\":\"white\",\"startlinecolor\":\"#2a3f5f\"},\"baxis\":{\"endlinecolor\":\"#2a3f5f\",\"gridcolor\":\"white\",\"linecolor\":\"white\",\"minorgridcolor\":\"white\",\"startlinecolor\":\"#2a3f5f\"},\"type\":\"carpet\"}],\"choropleth\":[{\"colorbar\":{\"outlinewidth\":0,\"ticks\":\"\"},\"type\":\"choropleth\"}],\"contour\":[{\"colorbar\":{\"outlinewidth\":0,\"ticks\":\"\"},\"colorscale\":[[0.0,\"#0d0887\"],[0.1111111111111111,\"#46039f\"],[0.2222222222222222,\"#7201a8\"],[0.3333333333333333,\"#9c179e\"],[0.4444444444444444,\"#bd3786\"],[0.5555555555555556,\"#d8576b\"],[0.6666666666666666,\"#ed7953\"],[0.7777777777777778,\"#fb9f3a\"],[0.8888888888888888,\"#fdca26\"],[1.0,\"#f0f921\"]],\"type\":\"contour\"}],\"contourcarpet\":[{\"colorbar\":{\"outlinewidth\":0,\"ticks\":\"\"},\"type\":\"contourcarpet\"}],\"heatmap\":[{\"colorbar\":{\"outlinewidth\":0,\"ticks\":\"\"},\"colorscale\":[[0.0,\"#0d0887\"],[0.1111111111111111,\"#46039f\"],[0.2222222222222222,\"#7201a8\"],[0.3333333333333333,\"#9c179e\"],[0.4444444444444444,\"#bd3786\"],[0.5555555555555556,\"#d8576b\"],[0.6666666666666666,\"#ed7953\"],[0.7777777777777778,\"#fb9f3a\"],[0.8888888888888888,\"#fdca26\"],[1.0,\"#f0f921\"]],\"type\":\"heatmap\"}],\"heatmapgl\":[{\"colorbar\":{\"outlinewidth\":0,\"ticks\":\"\"},\"colorscale\":[[0.0,\"#0d0887\"],[0.1111111111111111,\"#46039f\"],[0.2222222222222222,\"#7201a8\"],[0.3333333333333333,\"#9c179e\"],[0.4444444444444444,\"#bd3786\"],[0.5555555555555556,\"#d8576b\"],[0.6666666666666666,\"#ed7953\"],[0.7777777777777778,\"#fb9f3a\"],[0.8888888888888888,\"#fdca26\"],[1.0,\"#f0f921\"]],\"type\":\"heatmapgl\"}],\"histogram\":[{\"marker\":{\"pattern\":{\"fillmode\":\"overlay\",\"size\":10,\"solidity\":0.2}},\"type\":\"histogram\"}],\"histogram2d\":[{\"colorbar\":{\"outlinewidth\":0,\"ticks\":\"\"},\"colorscale\":[[0.0,\"#0d0887\"],[0.1111111111111111,\"#46039f\"],[0.2222222222222222,\"#7201a8\"],[0.3333333333333333,\"#9c179e\"],[0.4444444444444444,\"#bd3786\"],[0.5555555555555556,\"#d8576b\"],[0.6666666666666666,\"#ed7953\"],[0.7777777777777778,\"#fb9f3a\"],[0.8888888888888888,\"#fdca26\"],[1.0,\"#f0f921\"]],\"type\":\"histogram2d\"}],\"histogram2dcontour\":[{\"colorbar\":{\"outlinewidth\":0,\"ticks\":\"\"},\"colorscale\":[[0.0,\"#0d0887\"],[0.1111111111111111,\"#46039f\"],[0.2222222222222222,\"#7201a8\"],[0.3333333333333333,\"#9c179e\"],[0.4444444444444444,\"#bd3786\"],[0.5555555555555556,\"#d8576b\"],[0.6666666666666666,\"#ed7953\"],[0.7777777777777778,\"#fb9f3a\"],[0.8888888888888888,\"#fdca26\"],[1.0,\"#f0f921\"]],\"type\":\"histogram2dcontour\"}],\"mesh3d\":[{\"colorbar\":{\"outlinewidth\":0,\"ticks\":\"\"},\"type\":\"mesh3d\"}],\"parcoords\":[{\"line\":{\"colorbar\":{\"outlinewidth\":0,\"ticks\":\"\"}},\"type\":\"parcoords\"}],\"pie\":[{\"automargin\":true,\"type\":\"pie\"}],\"scatter\":[{\"marker\":{\"colorbar\":{\"outlinewidth\":0,\"ticks\":\"\"}},\"type\":\"scatter\"}],\"scatter3d\":[{\"line\":{\"colorbar\":{\"outlinewidth\":0,\"ticks\":\"\"}},\"marker\":{\"colorbar\":{\"outlinewidth\":0,\"ticks\":\"\"}},\"type\":\"scatter3d\"}],\"scattercarpet\":[{\"marker\":{\"colorbar\":{\"outlinewidth\":0,\"ticks\":\"\"}},\"type\":\"scattercarpet\"}],\"scattergeo\":[{\"marker\":{\"colorbar\":{\"outlinewidth\":0,\"ticks\":\"\"}},\"type\":\"scattergeo\"}],\"scattergl\":[{\"marker\":{\"colorbar\":{\"outlinewidth\":0,\"ticks\":\"\"}},\"type\":\"scattergl\"}],\"scattermapbox\":[{\"marker\":{\"colorbar\":{\"outlinewidth\":0,\"ticks\":\"\"}},\"type\":\"scattermapbox\"}],\"scatterpolar\":[{\"marker\":{\"colorbar\":{\"outlinewidth\":0,\"ticks\":\"\"}},\"type\":\"scatterpolar\"}],\"scatterpolargl\":[{\"marker\":{\"colorbar\":{\"outlinewidth\":0,\"ticks\":\"\"}},\"type\":\"scatterpolargl\"}],\"scatterternary\":[{\"marker\":{\"colorbar\":{\"outlinewidth\":0,\"ticks\":\"\"}},\"type\":\"scatterternary\"}],\"surface\":[{\"colorbar\":{\"outlinewidth\":0,\"ticks\":\"\"},\"colorscale\":[[0.0,\"#0d0887\"],[0.1111111111111111,\"#46039f\"],[0.2222222222222222,\"#7201a8\"],[0.3333333333333333,\"#9c179e\"],[0.4444444444444444,\"#bd3786\"],[0.5555555555555556,\"#d8576b\"],[0.6666666666666666,\"#ed7953\"],[0.7777777777777778,\"#fb9f3a\"],[0.8888888888888888,\"#fdca26\"],[1.0,\"#f0f921\"]],\"type\":\"surface\"}],\"table\":[{\"cells\":{\"fill\":{\"color\":\"#EBF0F8\"},\"line\":{\"color\":\"white\"}},\"header\":{\"fill\":{\"color\":\"#C8D4E3\"},\"line\":{\"color\":\"white\"}},\"type\":\"table\"}]},\"layout\":{\"annotationdefaults\":{\"arrowcolor\":\"#2a3f5f\",\"arrowhead\":0,\"arrowwidth\":1},\"autotypenumbers\":\"strict\",\"coloraxis\":{\"colorbar\":{\"outlinewidth\":0,\"ticks\":\"\"}},\"colorscale\":{\"diverging\":[[0,\"#8e0152\"],[0.1,\"#c51b7d\"],[0.2,\"#de77ae\"],[0.3,\"#f1b6da\"],[0.4,\"#fde0ef\"],[0.5,\"#f7f7f7\"],[0.6,\"#e6f5d0\"],[0.7,\"#b8e186\"],[0.8,\"#7fbc41\"],[0.9,\"#4d9221\"],[1,\"#276419\"]],\"sequential\":[[0.0,\"#0d0887\"],[0.1111111111111111,\"#46039f\"],[0.2222222222222222,\"#7201a8\"],[0.3333333333333333,\"#9c179e\"],[0.4444444444444444,\"#bd3786\"],[0.5555555555555556,\"#d8576b\"],[0.6666666666666666,\"#ed7953\"],[0.7777777777777778,\"#fb9f3a\"],[0.8888888888888888,\"#fdca26\"],[1.0,\"#f0f921\"]],\"sequentialminus\":[[0.0,\"#0d0887\"],[0.1111111111111111,\"#46039f\"],[0.2222222222222222,\"#7201a8\"],[0.3333333333333333,\"#9c179e\"],[0.4444444444444444,\"#bd3786\"],[0.5555555555555556,\"#d8576b\"],[0.6666666666666666,\"#ed7953\"],[0.7777777777777778,\"#fb9f3a\"],[0.8888888888888888,\"#fdca26\"],[1.0,\"#f0f921\"]]},\"colorway\":[\"#636efa\",\"#EF553B\",\"#00cc96\",\"#ab63fa\",\"#FFA15A\",\"#19d3f3\",\"#FF6692\",\"#B6E880\",\"#FF97FF\",\"#FECB52\"],\"font\":{\"color\":\"#2a3f5f\"},\"geo\":{\"bgcolor\":\"white\",\"lakecolor\":\"white\",\"landcolor\":\"#E5ECF6\",\"showlakes\":true,\"showland\":true,\"subunitcolor\":\"white\"},\"hoverlabel\":{\"align\":\"left\"},\"hovermode\":\"closest\",\"mapbox\":{\"style\":\"light\"},\"paper_bgcolor\":\"white\",\"plot_bgcolor\":\"#E5ECF6\",\"polar\":{\"angularaxis\":{\"gridcolor\":\"white\",\"linecolor\":\"white\",\"ticks\":\"\"},\"bgcolor\":\"#E5ECF6\",\"radialaxis\":{\"gridcolor\":\"white\",\"linecolor\":\"white\",\"ticks\":\"\"}},\"scene\":{\"xaxis\":{\"backgroundcolor\":\"#E5ECF6\",\"gridcolor\":\"white\",\"gridwidth\":2,\"linecolor\":\"white\",\"showbackground\":true,\"ticks\":\"\",\"zerolinecolor\":\"white\"},\"yaxis\":{\"backgroundcolor\":\"#E5ECF6\",\"gridcolor\":\"white\",\"gridwidth\":2,\"linecolor\":\"white\",\"showbackground\":true,\"ticks\":\"\",\"zerolinecolor\":\"white\"},\"zaxis\":{\"backgroundcolor\":\"#E5ECF6\",\"gridcolor\":\"white\",\"gridwidth\":2,\"linecolor\":\"white\",\"showbackground\":true,\"ticks\":\"\",\"zerolinecolor\":\"white\"}},\"shapedefaults\":{\"line\":{\"color\":\"#2a3f5f\"}},\"ternary\":{\"aaxis\":{\"gridcolor\":\"white\",\"linecolor\":\"white\",\"ticks\":\"\"},\"baxis\":{\"gridcolor\":\"white\",\"linecolor\":\"white\",\"ticks\":\"\"},\"bgcolor\":\"#E5ECF6\",\"caxis\":{\"gridcolor\":\"white\",\"linecolor\":\"white\",\"ticks\":\"\"}},\"title\":{\"x\":0.05},\"xaxis\":{\"automargin\":true,\"gridcolor\":\"white\",\"linecolor\":\"white\",\"ticks\":\"\",\"title\":{\"standoff\":15},\"zerolinecolor\":\"white\",\"zerolinewidth\":2},\"yaxis\":{\"automargin\":true,\"gridcolor\":\"white\",\"linecolor\":\"white\",\"ticks\":\"\",\"title\":{\"standoff\":15},\"zerolinecolor\":\"white\",\"zerolinewidth\":2}}},\"xaxis\":{\"anchor\":\"y\",\"domain\":[0.0,0.1388888888888889]},\"xaxis2\":{\"anchor\":\"y2\",\"domain\":[0.17222222222222222,0.3111111111111111]},\"xaxis3\":{\"anchor\":\"y3\",\"domain\":[0.34444444444444444,0.48333333333333334]},\"xaxis4\":{\"anchor\":\"y4\",\"domain\":[0.5166666666666667,0.6555555555555557]},\"xaxis5\":{\"anchor\":\"y5\",\"domain\":[0.6888888888888889,0.8277777777777777]},\"xaxis6\":{\"anchor\":\"y6\",\"domain\":[0.861111111111111,1.0]},\"yaxis\":{\"anchor\":\"x\",\"domain\":[0.0,1.0]},\"yaxis2\":{\"anchor\":\"x2\",\"domain\":[0.0,1.0]},\"yaxis3\":{\"anchor\":\"x3\",\"domain\":[0.0,1.0]},\"yaxis4\":{\"anchor\":\"x4\",\"domain\":[0.0,1.0]},\"yaxis5\":{\"anchor\":\"x5\",\"domain\":[0.0,1.0]},\"yaxis6\":{\"anchor\":\"x6\",\"domain\":[0.0,1.0]}},                        {\"responsive\": true}                    ).then(function(){\n",
       "                            \n",
       "var gd = document.getElementById('3c62c399-1a6e-45e0-b950-de19c0c9c1b3');\n",
       "var x = new MutationObserver(function (mutations, observer) {{\n",
       "        var display = window.getComputedStyle(gd).display;\n",
       "        if (!display || display === 'none') {{\n",
       "            console.log([gd, 'removed!']);\n",
       "            Plotly.purge(gd);\n",
       "            observer.disconnect();\n",
       "        }}\n",
       "}});\n",
       "\n",
       "// Listen for the removal of the full notebook cells\n",
       "var notebookContainer = gd.closest('#notebook-container');\n",
       "if (notebookContainer) {{\n",
       "    x.observe(notebookContainer, {childList: true});\n",
       "}}\n",
       "\n",
       "// Listen for the clearing of the current output cell\n",
       "var outputEl = gd.closest('.output');\n",
       "if (outputEl) {{\n",
       "    x.observe(outputEl, {childList: true});\n",
       "}}\n",
       "\n",
       "                        })                };                });            </script>        </div>"
      ]
     },
     "metadata": {},
     "output_type": "display_data"
    }
   ],
   "source": [
    "def Outliers(dataframe,cols):\n",
    "    import plotly.graph_objects as go\n",
    "    from plotly.subplots import make_subplots\n",
    "    numeric_col2=[]\n",
    "    for x in cols:\n",
    "        numeric_col2.append(x)\n",
    "\n",
    "    fig=make_subplots(rows=1, cols=len(cols))\n",
    "\n",
    "    for i,col in enumerate(numeric_col2):\n",
    "        fig.add_trace(go.Box(y=dataframe[col].values, name=dataframe[col].name), row=1, col=i+1)\n",
    "\n",
    "    return fig.show()\n",
    "\n",
    "cols=data.columns.values.tolist()\n",
    "Outliers(data,cols)"
   ]
  },
  {
   "cell_type": "markdown",
   "metadata": {},
   "source": [
    "# Data Preprocessing"
   ]
  },
  {
   "cell_type": "code",
   "execution_count": 21,
   "metadata": {
    "ExecuteTime": {
     "end_time": "2021-07-12T06:22:48.204575Z",
     "start_time": "2021-07-12T06:22:47.433602Z"
    },
    "execution": {
     "iopub.execute_input": "2021-07-09T19:03:45.354326Z",
     "iopub.status.busy": "2021-07-09T19:03:45.353958Z",
     "iopub.status.idle": "2021-07-09T19:03:45.385191Z",
     "shell.execute_reply": "2021-07-09T19:03:45.383900Z",
     "shell.execute_reply.started": "2021-07-09T19:03:45.354295Z"
    }
   },
   "outputs": [
    {
     "data": {
      "text/html": [
       "<div>\n",
       "<style scoped>\n",
       "    .dataframe tbody tr th:only-of-type {\n",
       "        vertical-align: middle;\n",
       "    }\n",
       "\n",
       "    .dataframe tbody tr th {\n",
       "        vertical-align: top;\n",
       "    }\n",
       "\n",
       "    .dataframe thead th {\n",
       "        text-align: right;\n",
       "    }\n",
       "</style>\n",
       "<table border=\"1\" class=\"dataframe\">\n",
       "  <thead>\n",
       "    <tr style=\"text-align: right;\">\n",
       "      <th></th>\n",
       "      <th>Age</th>\n",
       "      <th>Na_to_K</th>\n",
       "      <th>Drug</th>\n",
       "      <th>Sex</th>\n",
       "      <th>BP</th>\n",
       "      <th>Cholesterol</th>\n",
       "    </tr>\n",
       "  </thead>\n",
       "  <tbody>\n",
       "    <tr>\n",
       "      <th>0</th>\n",
       "      <td>23</td>\n",
       "      <td>25.355</td>\n",
       "      <td>Y</td>\n",
       "      <td>0</td>\n",
       "      <td>0</td>\n",
       "      <td>0</td>\n",
       "    </tr>\n",
       "    <tr>\n",
       "      <th>1</th>\n",
       "      <td>47</td>\n",
       "      <td>13.093</td>\n",
       "      <td>C</td>\n",
       "      <td>1</td>\n",
       "      <td>1</td>\n",
       "      <td>0</td>\n",
       "    </tr>\n",
       "    <tr>\n",
       "      <th>2</th>\n",
       "      <td>47</td>\n",
       "      <td>10.114</td>\n",
       "      <td>C</td>\n",
       "      <td>1</td>\n",
       "      <td>1</td>\n",
       "      <td>0</td>\n",
       "    </tr>\n",
       "    <tr>\n",
       "      <th>3</th>\n",
       "      <td>28</td>\n",
       "      <td>7.798</td>\n",
       "      <td>X</td>\n",
       "      <td>0</td>\n",
       "      <td>2</td>\n",
       "      <td>0</td>\n",
       "    </tr>\n",
       "    <tr>\n",
       "      <th>4</th>\n",
       "      <td>61</td>\n",
       "      <td>18.043</td>\n",
       "      <td>Y</td>\n",
       "      <td>0</td>\n",
       "      <td>1</td>\n",
       "      <td>0</td>\n",
       "    </tr>\n",
       "    <tr>\n",
       "      <th>...</th>\n",
       "      <td>...</td>\n",
       "      <td>...</td>\n",
       "      <td>...</td>\n",
       "      <td>...</td>\n",
       "      <td>...</td>\n",
       "      <td>...</td>\n",
       "    </tr>\n",
       "    <tr>\n",
       "      <th>195</th>\n",
       "      <td>56</td>\n",
       "      <td>11.567</td>\n",
       "      <td>C</td>\n",
       "      <td>0</td>\n",
       "      <td>1</td>\n",
       "      <td>0</td>\n",
       "    </tr>\n",
       "    <tr>\n",
       "      <th>196</th>\n",
       "      <td>16</td>\n",
       "      <td>12.006</td>\n",
       "      <td>C</td>\n",
       "      <td>1</td>\n",
       "      <td>1</td>\n",
       "      <td>0</td>\n",
       "    </tr>\n",
       "    <tr>\n",
       "      <th>197</th>\n",
       "      <td>52</td>\n",
       "      <td>9.894</td>\n",
       "      <td>X</td>\n",
       "      <td>1</td>\n",
       "      <td>2</td>\n",
       "      <td>0</td>\n",
       "    </tr>\n",
       "    <tr>\n",
       "      <th>198</th>\n",
       "      <td>23</td>\n",
       "      <td>14.020</td>\n",
       "      <td>X</td>\n",
       "      <td>1</td>\n",
       "      <td>2</td>\n",
       "      <td>1</td>\n",
       "    </tr>\n",
       "    <tr>\n",
       "      <th>199</th>\n",
       "      <td>40</td>\n",
       "      <td>11.349</td>\n",
       "      <td>X</td>\n",
       "      <td>0</td>\n",
       "      <td>1</td>\n",
       "      <td>1</td>\n",
       "    </tr>\n",
       "  </tbody>\n",
       "</table>\n",
       "<p>200 rows × 6 columns</p>\n",
       "</div>"
      ],
      "text/plain": [
       "     Age  Na_to_K Drug  Sex  BP  Cholesterol\n",
       "0     23   25.355    Y    0   0            0\n",
       "1     47   13.093    C    1   1            0\n",
       "2     47   10.114    C    1   1            0\n",
       "3     28    7.798    X    0   2            0\n",
       "4     61   18.043    Y    0   1            0\n",
       "..   ...      ...  ...  ...  ..          ...\n",
       "195   56   11.567    C    0   1            0\n",
       "196   16   12.006    C    1   1            0\n",
       "197   52    9.894    X    1   2            0\n",
       "198   23   14.020    X    1   2            1\n",
       "199   40   11.349    X    0   1            1\n",
       "\n",
       "[200 rows x 6 columns]"
      ]
     },
     "execution_count": 21,
     "metadata": {},
     "output_type": "execute_result"
    }
   ],
   "source": [
    "from sklearn import preprocessing\n",
    "data2=data\n",
    "subset=[\"Age\",\"Na_to_K\",\"Drug\"]\n",
    "data2=data2.drop(subset,axis=1)\n",
    "data2=data2.apply(preprocessing.LabelEncoder().fit_transform)\n",
    "data=data.drop([\"Sex\",\"BP\",\"Cholesterol\"],axis=1)\n",
    "data=pd.concat([data,data2],axis=1)\n",
    "\n",
    "data"
   ]
  },
  {
   "cell_type": "code",
   "execution_count": 22,
   "metadata": {
    "ExecuteTime": {
     "end_time": "2021-07-12T06:22:52.940002Z",
     "start_time": "2021-07-12T06:22:52.032298Z"
    },
    "execution": {
     "iopub.execute_input": "2021-07-09T19:03:47.358807Z",
     "iopub.status.busy": "2021-07-09T19:03:47.358405Z",
     "iopub.status.idle": "2021-07-09T19:03:47.476225Z",
     "shell.execute_reply": "2021-07-09T19:03:47.475059Z",
     "shell.execute_reply.started": "2021-07-09T19:03:47.358772Z"
    }
   },
   "outputs": [
    {
     "name": "stdout",
     "output_type": "stream",
     "text": [
      "3: False----> Age\n",
      "1: True----> Na_to_K\n",
      "2: False----> Sex\n",
      "1: True----> BP\n",
      "1: True----> Cholesterol\n"
     ]
    },
    {
     "name": "stderr",
     "output_type": "stream",
     "text": [
      "/home/vijay/anaconda3/lib/python3.8/site-packages/sklearn/utils/validation.py:70: FutureWarning: Pass n_features_to_select=3 as keyword args. From version 1.0 (renaming of 0.25) passing these as positional arguments will result in an error\n",
      "  warnings.warn(f\"Pass {args_msg} as keyword args. From version \"\n"
     ]
    },
    {
     "data": {
      "text/plain": [
       "['Na_to_K', 'BP', 'Cholesterol']"
      ]
     },
     "execution_count": 22,
     "metadata": {},
     "output_type": "execute_result"
    }
   ],
   "source": [
    "def feature_selector(dataframe,feature_number,target_variable):\n",
    "    from sklearn import datasets\n",
    "    from sklearn.feature_selection import RFE\n",
    "    from sklearn.linear_model import LogisticRegression\n",
    "    \n",
    "    dataframe2=dataframe[target_variable]\n",
    "    dataframe=dataframe.drop([target_variable],axis=1)\n",
    "     \n",
    "    n=feature_number\n",
    "    lr = LogisticRegression(solver=\"liblinear\")\n",
    "    rfe=RFE(lr,n)\n",
    "    rfe=rfe.fit(dataframe,dataframe2)\n",
    "    cols=[]\n",
    "    for x in dataframe.columns.values.tolist():\n",
    "        cols.append(x)\n",
    "    ranking=[]\n",
    "    for x in rfe.ranking_:\n",
    "        ranking.append(x)\n",
    "    n=0\n",
    "    for x in rfe.support_:\n",
    "        print(f\"{ranking[n]}: {x}----> {cols[n]}\")\n",
    "        n+=1\n",
    "    selected=[]\n",
    "    n=0\n",
    "    z=zip(dataframe.columns.values.tolist(),rfe.support_)\n",
    "    z=list(z)\n",
    "    for x in range(len(z)+1):\n",
    "    \n",
    "        try:\n",
    "            if str(z[n][1])==\"True\":\n",
    "                selected.append(z[n])\n",
    "            else:\n",
    "                pass\n",
    "        except IndexError:\n",
    "            pass\n",
    "        n+=1\n",
    "    cols_selected=[]   \n",
    "    \n",
    "    for x,y in selected:\n",
    "        cols_selected.append(x)\n",
    "    \n",
    "    if len(cols_selected)==feature_number:\n",
    "        return  cols_selected\n",
    "    else:\n",
    "        print(\"ERROR!. Cols_Selected does not meet feature_number requirements\")\n",
    "\n",
    "        \n",
    "feature_selector(data,3,\"Drug\")\n"
   ]
  },
  {
   "cell_type": "code",
   "execution_count": 23,
   "metadata": {
    "ExecuteTime": {
     "end_time": "2021-07-12T06:26:41.338209Z",
     "start_time": "2021-07-12T06:26:41.331286Z"
    },
    "execution": {
     "iopub.execute_input": "2021-07-09T19:03:48.842071Z",
     "iopub.status.busy": "2021-07-09T19:03:48.841703Z",
     "iopub.status.idle": "2021-07-09T19:03:48.850522Z",
     "shell.execute_reply": "2021-07-09T19:03:48.849149Z",
     "shell.execute_reply.started": "2021-07-09T19:03:48.842040Z"
    }
   },
   "outputs": [],
   "source": [
    "def VIF(dataframe,chosen_cols):\n",
    "    from statsmodels.stats.outliers_influence import variance_inflation_factor as VIF\n",
    "    from statsmodels.tools.tools import add_constant\n",
    "    X=dataframe[chosen_cols]\n",
    "    X=add_constant(X)\n",
    "    vif_data=pd.DataFrame()\n",
    "    vif_data[\"feature\"]=X.columns\n",
    "    vif_data[\"VIF\"]=[VIF(X.values, i) for i in range(len(X.columns))]\n",
    "    return vif_data"
   ]
  },
  {
   "cell_type": "code",
   "execution_count": 26,
   "metadata": {
    "ExecuteTime": {
     "end_time": "2021-07-12T06:28:34.882764Z",
     "start_time": "2021-07-12T06:28:34.676206Z"
    },
    "execution": {
     "iopub.execute_input": "2021-07-09T19:03:49.770495Z",
     "iopub.status.busy": "2021-07-09T19:03:49.770135Z",
     "iopub.status.idle": "2021-07-09T19:03:49.833036Z",
     "shell.execute_reply": "2021-07-09T19:03:49.831955Z",
     "shell.execute_reply.started": "2021-07-09T19:03:49.770466Z"
    }
   },
   "outputs": [
    {
     "name": "stderr",
     "output_type": "stream",
     "text": [
      "/home/vijay/anaconda3/lib/python3.8/site-packages/statsmodels/tsa/tsatools.py:142: FutureWarning: In a future version of pandas all arguments of concat except for the argument 'objs' will be keyword-only\n",
      "  x = pd.concat(x[::order], 1)\n"
     ]
    },
    {
     "data": {
      "text/html": [
       "<div>\n",
       "<style scoped>\n",
       "    .dataframe tbody tr th:only-of-type {\n",
       "        vertical-align: middle;\n",
       "    }\n",
       "\n",
       "    .dataframe tbody tr th {\n",
       "        vertical-align: top;\n",
       "    }\n",
       "\n",
       "    .dataframe thead th {\n",
       "        text-align: right;\n",
       "    }\n",
       "</style>\n",
       "<table border=\"1\" class=\"dataframe\">\n",
       "  <thead>\n",
       "    <tr style=\"text-align: right;\">\n",
       "      <th></th>\n",
       "      <th>feature</th>\n",
       "      <th>VIF</th>\n",
       "    </tr>\n",
       "  </thead>\n",
       "  <tbody>\n",
       "    <tr>\n",
       "      <th>0</th>\n",
       "      <td>const</td>\n",
       "      <td>9.459282</td>\n",
       "    </tr>\n",
       "    <tr>\n",
       "      <th>1</th>\n",
       "      <td>Na_to_K</td>\n",
       "      <td>1.022921</td>\n",
       "    </tr>\n",
       "    <tr>\n",
       "      <th>2</th>\n",
       "      <td>BP</td>\n",
       "      <td>1.042544</td>\n",
       "    </tr>\n",
       "    <tr>\n",
       "      <th>3</th>\n",
       "      <td>Cholesterol</td>\n",
       "      <td>1.019403</td>\n",
       "    </tr>\n",
       "  </tbody>\n",
       "</table>\n",
       "</div>"
      ],
      "text/plain": [
       "       feature       VIF\n",
       "0        const  9.459282\n",
       "1      Na_to_K  1.022921\n",
       "2           BP  1.042544\n",
       "3  Cholesterol  1.019403"
      ]
     },
     "execution_count": 26,
     "metadata": {},
     "output_type": "execute_result"
    }
   ],
   "source": [
    "chosen_cols=['Na_to_K', 'BP', 'Cholesterol']\n",
    "VIF(data,chosen_cols)"
   ]
  },
  {
   "cell_type": "markdown",
   "metadata": {},
   "source": [
    "# Predicting"
   ]
  },
  {
   "cell_type": "markdown",
   "metadata": {},
   "source": [
    "**LOGISTIC REGRESSION**"
   ]
  },
  {
   "cell_type": "code",
   "execution_count": 48,
   "metadata": {
    "ExecuteTime": {
     "end_time": "2021-07-12T06:38:15.735328Z",
     "start_time": "2021-07-12T06:38:15.489102Z"
    },
    "execution": {
     "iopub.execute_input": "2021-07-09T19:03:52.225613Z",
     "iopub.status.busy": "2021-07-09T19:03:52.225255Z",
     "iopub.status.idle": "2021-07-09T19:03:52.398290Z",
     "shell.execute_reply": "2021-07-09T19:03:52.397278Z",
     "shell.execute_reply.started": "2021-07-09T19:03:52.225584Z"
    }
   },
   "outputs": [
    {
     "name": "stdout",
     "output_type": "stream",
     "text": [
      "Prediction Accuracy (Test): 0.95\n",
      "\n",
      "               0  prediction\n",
      "0   5.167796e-02           0\n",
      "1   2.397768e-03           0\n",
      "2   5.566325e-08           0\n",
      "3   1.769297e-24           0\n",
      "4   7.398640e-08           0\n",
      "5   5.995007e-02           0\n",
      "6   1.495667e-03           0\n",
      "7   6.180622e-02           0\n",
      "8   8.667870e-03           0\n",
      "9   3.511841e-04           0\n",
      "10  4.004453e-01           1\n",
      "11  1.345979e-13           0\n",
      "12  4.728506e-10           0\n",
      "13  3.362078e-04           0\n",
      "14  3.482162e-01           1\n",
      "15  8.773943e-02           0\n",
      "16  3.034896e-20           0\n",
      "17  1.607047e-09           0\n",
      "18  6.406890e-02           0\n",
      "19  1.389342e-03           0\n",
      "20  7.240473e-02           0\n",
      "21  1.644357e-03           0\n",
      "22  3.817179e-04           0\n",
      "23  6.686292e-02           0\n",
      "24  5.368661e-19           0\n",
      "25  2.552366e-05           0\n",
      "26  2.237521e-04           0\n",
      "27  1.609618e-15           0\n",
      "28  9.832131e-12           0\n",
      "29  5.761851e-04           0\n",
      "30  5.862935e-02           0\n",
      "31  8.150246e-02           0\n",
      "32  3.811200e-01           1\n",
      "33  3.317277e-04           0\n",
      "34  8.913797e-20           0\n",
      "35  6.265548e-08           0\n",
      "36  1.313999e-03           0\n",
      "37  9.168663e-06           0\n",
      "38  4.473847e-01           1\n",
      "39  2.174415e-03           0\n",
      "\n",
      "Treshold: 0.25\n",
      "\n",
      "Number of Positive Cases: [10.]%\n"
     ]
    },
    {
     "data": {
      "text/html": [
       "<div>\n",
       "<style scoped>\n",
       "    .dataframe tbody tr th:only-of-type {\n",
       "        vertical-align: middle;\n",
       "    }\n",
       "\n",
       "    .dataframe tbody tr th {\n",
       "        vertical-align: top;\n",
       "    }\n",
       "\n",
       "    .dataframe thead th {\n",
       "        text-align: right;\n",
       "    }\n",
       "</style>\n",
       "<table border=\"1\" class=\"dataframe\">\n",
       "  <thead>\n",
       "    <tr style=\"text-align: right;\">\n",
       "      <th>col_0</th>\n",
       "      <th>Count</th>\n",
       "    </tr>\n",
       "    <tr>\n",
       "      <th>prediction</th>\n",
       "      <th></th>\n",
       "    </tr>\n",
       "  </thead>\n",
       "  <tbody>\n",
       "    <tr>\n",
       "      <th>0</th>\n",
       "      <td>36</td>\n",
       "    </tr>\n",
       "    <tr>\n",
       "      <th>1</th>\n",
       "      <td>4</td>\n",
       "    </tr>\n",
       "  </tbody>\n",
       "</table>\n",
       "</div>"
      ],
      "text/plain": [
       "col_0       Count\n",
       "prediction       \n",
       "0              36\n",
       "1               4"
      ]
     },
     "execution_count": 48,
     "metadata": {},
     "output_type": "execute_result"
    }
   ],
   "source": [
    "from sklearn.linear_model import LogisticRegression\n",
    "from sklearn.model_selection import train_test_split\n",
    "from sklearn import linear_model\n",
    "import pandas as pd\n",
    "from sklearn import metrics\n",
    "import numpy as np\n",
    "X=data[chosen_cols]\n",
    "Y=data[\"Drug\"]\n",
    "X_train,X_test,Y_train,Y_test= train_test_split(X,Y,test_size=0.2,random_state=0)\n",
    "lm=linear_model.LogisticRegression(max_iter=1000)\n",
    "lm.fit(X_train,Y_train)\n",
    "predict=lm.predict(X_test)\n",
    "probs=lm.predict_proba(X_test)\n",
    "prob=probs[:,1]\n",
    "prob_df=pd.DataFrame(prob)\n",
    "    \n",
    "\n",
    "treshold = 0.25\n",
    "\n",
    "    \n",
    "print(f\"Prediction Accuracy (Test): {metrics.accuracy_score(Y_test,predict)}\")\n",
    "print()\n",
    "prob_df[\"prediction\"]= np.where(prob_df[0]> treshold,1,0)\n",
    "print(prob_df)\n",
    "print(f\"\\nTreshold: {treshold}\")\n",
    "print()\n",
    "con_tab=pd.crosstab(prob_df[\"prediction\"],columns=\"Count\")\n",
    "print(f\"Number of Positive Cases: {con_tab.values[1]/len(prob_df)*100}%\")\n",
    "con_tab\n",
    "    "
   ]
  },
  {
   "cell_type": "markdown",
   "metadata": {},
   "source": [
    "**DECISION TREE**"
   ]
  },
  {
   "cell_type": "code",
   "execution_count": 49,
   "metadata": {
    "ExecuteTime": {
     "end_time": "2021-07-12T06:38:38.073609Z",
     "start_time": "2021-07-12T06:38:38.063091Z"
    },
    "execution": {
     "iopub.execute_input": "2021-07-09T19:03:55.095234Z",
     "iopub.status.busy": "2021-07-09T19:03:55.094831Z",
     "iopub.status.idle": "2021-07-09T19:03:55.104125Z",
     "shell.execute_reply": "2021-07-09T19:03:55.102977Z",
     "shell.execute_reply.started": "2021-07-09T19:03:55.095203Z"
    }
   },
   "outputs": [],
   "source": [
    "def sklearn_decision_tree_clasiffier(dataframe,chosen_cols,target_variable,max_depth):\n",
    "    from sklearn.tree import DecisionTreeClassifier\n",
    "    import numpy as np\n",
    "    from sklearn.model_selection import train_test_split\n",
    "    from sklearn import metrics\n",
    "    X=dataframe[chosen_cols]\n",
    "    Y=dataframe[target_variable]\n",
    "    X_train,X_test,Y_train,Y_test= train_test_split(X,Y,test_size=0.2,random_state=0)\n",
    "    \n",
    "    tree=DecisionTreeClassifier(criterion=\"entropy\",min_samples_split=int((len(dataframe)/16)),max_depth=max_depth)\n",
    "    tree.fit(X_train,Y_train)\n",
    "    predict=tree.predict(X_test)\n",
    "    predict2=tree.predict(X_train)\n",
    "    print(f\"Prediction Accuracy (Train): {metrics.accuracy_score(Y_train,predict2)}\")\n",
    "    print(f\"Prediction Accuracy (Test): {metrics.accuracy_score(Y_test,predict)}\")\n",
    "    "
   ]
  },
  {
   "cell_type": "code",
   "execution_count": 50,
   "metadata": {
    "ExecuteTime": {
     "end_time": "2021-07-12T06:38:41.247291Z",
     "start_time": "2021-07-12T06:38:40.960404Z"
    },
    "execution": {
     "iopub.execute_input": "2021-07-09T19:03:55.219404Z",
     "iopub.status.busy": "2021-07-09T19:03:55.219019Z",
     "iopub.status.idle": "2021-07-09T19:03:55.248074Z",
     "shell.execute_reply": "2021-07-09T19:03:55.246765Z",
     "shell.execute_reply.started": "2021-07-09T19:03:55.219366Z"
    }
   },
   "outputs": [
    {
     "name": "stdout",
     "output_type": "stream",
     "text": [
      "Prediction Accuracy (Train): 0.93125\n",
      "Prediction Accuracy (Test): 0.925\n"
     ]
    }
   ],
   "source": [
    "sklearn_decision_tree_clasiffier(data,chosen_cols,\"Drug\",5)"
   ]
  },
  {
   "cell_type": "markdown",
   "metadata": {},
   "source": [
    "**RANDOM FOREST**"
   ]
  },
  {
   "cell_type": "code",
   "execution_count": 51,
   "metadata": {
    "ExecuteTime": {
     "end_time": "2021-07-12T06:38:44.512287Z",
     "start_time": "2021-07-12T06:38:44.502798Z"
    },
    "execution": {
     "iopub.execute_input": "2021-07-09T19:04:31.230953Z",
     "iopub.status.busy": "2021-07-09T19:04:31.230507Z",
     "iopub.status.idle": "2021-07-09T19:04:31.239364Z",
     "shell.execute_reply": "2021-07-09T19:04:31.238054Z",
     "shell.execute_reply.started": "2021-07-09T19:04:31.230917Z"
    }
   },
   "outputs": [],
   "source": [
    "def sklearn_Random_Forest_Clasiffier(dataframe,chosen_cols,target_variable):\n",
    "    from sklearn.ensemble import RandomForestClassifier\n",
    "    import numpy as np\n",
    "    from sklearn.model_selection import train_test_split\n",
    "    from sklearn import metrics\n",
    "  \n",
    "    X=dataframe[chosen_cols]\n",
    "    Y=dataframe[target_variable]\n",
    "    X_train,X_test,Y_train,Y_test= train_test_split(X,Y,test_size=0.2,random_state=0)\n",
    "    forest=RandomForestClassifier(n_jobs=2,n_estimators=10)\n",
    "    forest.fit(X_train,Y_train)\n",
    "    predict=forest.predict(X_test)\n",
    "    predict2=forest.predict(X_train)\n",
    "    print(f\"Prediction Accuracy (Train): {metrics.accuracy_score(Y_train,predict2)}\")\n",
    "    print(f\"Prediction Accuracy (Test): {metrics.accuracy_score(Y_test,predict)}\")"
   ]
  },
  {
   "cell_type": "code",
   "execution_count": 52,
   "metadata": {
    "ExecuteTime": {
     "end_time": "2021-07-12T06:38:49.116472Z",
     "start_time": "2021-07-12T06:38:48.774629Z"
    },
    "execution": {
     "iopub.execute_input": "2021-07-09T19:04:31.888094Z",
     "iopub.status.busy": "2021-07-09T19:04:31.887619Z",
     "iopub.status.idle": "2021-07-09T19:04:32.217973Z",
     "shell.execute_reply": "2021-07-09T19:04:32.216997Z",
     "shell.execute_reply.started": "2021-07-09T19:04:31.888059Z"
    }
   },
   "outputs": [
    {
     "name": "stdout",
     "output_type": "stream",
     "text": [
      "Prediction Accuracy (Train): 1.0\n",
      "Prediction Accuracy (Test): 0.95\n"
     ]
    }
   ],
   "source": [
    "sklearn_Random_Forest_Clasiffier(data,chosen_cols,\"Drug\")"
   ]
  },
  {
   "cell_type": "markdown",
   "metadata": {},
   "source": [
    "**KNN**"
   ]
  },
  {
   "cell_type": "code",
   "execution_count": 53,
   "metadata": {
    "ExecuteTime": {
     "end_time": "2021-07-12T06:38:52.783867Z",
     "start_time": "2021-07-12T06:38:52.774255Z"
    },
    "execution": {
     "iopub.execute_input": "2021-07-09T19:03:56.142734Z",
     "iopub.status.busy": "2021-07-09T19:03:56.142389Z",
     "iopub.status.idle": "2021-07-09T19:03:56.150465Z",
     "shell.execute_reply": "2021-07-09T19:03:56.149240Z",
     "shell.execute_reply.started": "2021-07-09T19:03:56.142703Z"
    }
   },
   "outputs": [],
   "source": [
    "def Sklearn_KNMC(dataframe,chosen_cols,target_variable):\n",
    "    from sklearn.neighbors import KNeighborsClassifier\n",
    "    import numpy as np\n",
    "    from sklearn.model_selection import train_test_split\n",
    "    from sklearn import metrics\n",
    "  \n",
    "    X=dataframe[chosen_cols]\n",
    "    Y=dataframe[target_variable]\n",
    "    X_train,X_test,Y_train,Y_test= train_test_split(X,Y,test_size=0.2,random_state=0)\n",
    "    KNNC=KNeighborsClassifier()\n",
    "    KNNC.fit(X_train,Y_train)\n",
    "    predict=KNNC.predict(X_test)\n",
    "    predict2=KNNC.predict(X_train)\n",
    "    print(f\"Prediction Accuracy (Train): {metrics.accuracy_score(Y_train,predict2)}\")\n",
    "    print(f\"Prediction Accuracy (Test): {metrics.accuracy_score(Y_test,predict)}\")"
   ]
  },
  {
   "cell_type": "code",
   "execution_count": 54,
   "metadata": {
    "ExecuteTime": {
     "end_time": "2021-07-12T06:38:54.636405Z",
     "start_time": "2021-07-12T06:38:54.574043Z"
    },
    "execution": {
     "iopub.execute_input": "2021-07-09T19:03:56.152483Z",
     "iopub.status.busy": "2021-07-09T19:03:56.152149Z",
     "iopub.status.idle": "2021-07-09T19:03:56.189151Z",
     "shell.execute_reply": "2021-07-09T19:03:56.187952Z",
     "shell.execute_reply.started": "2021-07-09T19:03:56.152453Z"
    }
   },
   "outputs": [
    {
     "name": "stdout",
     "output_type": "stream",
     "text": [
      "Prediction Accuracy (Train): 0.9\n",
      "Prediction Accuracy (Test): 0.9\n"
     ]
    }
   ],
   "source": [
    "Sklearn_KNMC(data,chosen_cols,\"Drug\")"
   ]
  },
  {
   "cell_type": "markdown",
   "metadata": {},
   "source": [
    "**Our Best Model Is LOGISTIC Regression and Random Forest With 95% Acc**"
   ]
  },
  {
   "cell_type": "code",
   "execution_count": null,
   "metadata": {},
   "outputs": [],
   "source": []
  }
 ],
 "metadata": {
  "kernelspec": {
   "display_name": "Python 3",
   "language": "python",
   "name": "python3"
  },
  "language_info": {
   "codemirror_mode": {
    "name": "ipython",
    "version": 3
   },
   "file_extension": ".py",
   "mimetype": "text/x-python",
   "name": "python",
   "nbconvert_exporter": "python",
   "pygments_lexer": "ipython3",
   "version": "3.8.8"
  },
  "latex_envs": {
   "LaTeX_envs_menu_present": true,
   "autoclose": false,
   "autocomplete": true,
   "bibliofile": "biblio.bib",
   "cite_by": "apalike",
   "current_citInitial": 1,
   "eqLabelWithNumbers": true,
   "eqNumInitial": 1,
   "hotkeys": {
    "equation": "Ctrl-E",
    "itemize": "Ctrl-I"
   },
   "labels_anchors": false,
   "latex_user_defs": false,
   "report_style_numbering": false,
   "user_envs_cfg": false
  },
  "varInspector": {
   "cols": {
    "lenName": 16,
    "lenType": 16,
    "lenVar": 40
   },
   "kernels_config": {
    "python": {
     "delete_cmd_postfix": "",
     "delete_cmd_prefix": "del ",
     "library": "var_list.py",
     "varRefreshCmd": "print(var_dic_list())"
    },
    "r": {
     "delete_cmd_postfix": ") ",
     "delete_cmd_prefix": "rm(",
     "library": "var_list.r",
     "varRefreshCmd": "cat(var_dic_list()) "
    }
   },
   "types_to_exclude": [
    "module",
    "function",
    "builtin_function_or_method",
    "instance",
    "_Feature"
   ],
   "window_display": false
  }
 },
 "nbformat": 4,
 "nbformat_minor": 4
}
