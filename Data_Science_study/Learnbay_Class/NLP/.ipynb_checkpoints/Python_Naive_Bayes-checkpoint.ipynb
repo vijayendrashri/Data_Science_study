{
 "cells": [
  {
   "cell_type": "markdown",
   "metadata": {
    "id": "Kfq17fdACH_O"
   },
   "source": [
    "## Naive Bayes Classifier\n",
    "\n",
    "Suppose you are a product manager, you want to classify customer reviews in positive and negative classes. Or As a loan manager, you want to identify which loan applicants are safe or risky? As a healthcare analyst, you want to predict which patients can suffer from diabetes disease. All the examples have the same kind of problem to classify reviews, loan applicants, and patients.\n",
    "\n",
    "Naive Bayes is the most straightforward and fast classification algorithm, which is suitable for a large chunk of data. Naive Bayes classifier is successfully used in various applications such as spam filtering, text classification, sentiment analysis, and recommender systems. It uses Bayes theorem of probability for prediction of unknown class.\n",
    "\n",
    "Naive Bayes models are a group of extremely fast and simple classification algorithms that are often suitable for very high-dimensional datasets. Because they are so fast and have so few tunable parameters, they end up being very useful as a quick-and-dirty baseline for a classification problem.\n",
    "\n",
    "Naive Bayes classifiers are built on Bayesian classification methods. These rely on Bayes's theorem, which is an equation describing the relationship of conditional probabilities of statistical quantities. In Bayesian classification, we're interested in finding the probability of a label given some observed features, which we can write as P(L | features). Bayes's theorem tells us how to express this in terms of quantities we can compute more directly.\n",
    "\n"
   ]
  },
  {
   "cell_type": "markdown",
   "metadata": {
    "id": "nZkASS4YCeo4"
   },
   "source": [
    "![alt text](https://res.cloudinary.com/dyd911kmh/image/upload/f_auto,q_auto:best/v1543836882/image_3_ijznzs.png)\n",
    "\n",
    "\n",
    "**Naive Bayes Theorem**\n",
    "\n",
    "\n",
    "**P(h)**: the probability of hypothesis h being true (regardless of the data). This is known as the prior probability of h.\n",
    "\n",
    "**P(D**): the probability of the data (regardless of the hypothesis). This is a normalizing factor.\n",
    "\n",
    "**P(h|D)**: the probability of hypothesis h given the data D. This is known as posterior probability.\n",
    "\n",
    "**P(D|h)**: the probability of data d given that the hypothesis h was true. This is known as likelihood probability.\n",
    "\n",
    "\n",
    "\n",
    "Such a model is called a generative model because it specifies the hypothetical random process that generates the data. Specifying this generative model for each label is the main piece of the training of such a Bayesian classifier. The general version of such a training step is a very difficult task, but we can make it simpler through the use of some simplifying assumptions about the form of this model.\n",
    "\n",
    "This is where the \"naive\" in \"naive Bayes\" comes in: if we make very naive assumptions about the generative model for each label, we can find a rough approximation of the generative model for each class, and then proceed with the Bayesian classification. Different types of naive Bayes classifiers rest on different naive assumptions about the data, and we will examine a few of these in the following sections."
   ]
  },
  {
   "cell_type": "markdown",
   "metadata": {
    "id": "EDRgxvQKEZx8"
   },
   "source": [
    "### How Naive Bayes classifier works?\n",
    "\n",
    "Given an example of weather conditions and playing sports. You need to calculate the probability of playing sports. Now, you need to classify whether players will play or not, based on the weather condition.\n",
    "\n",
    "First Approach (In case of a single feature)\n",
    "Naive Bayes classifier calculates the probability of an event in the following steps:\n",
    "\n",
    "Step 1: Calculate the prior probability for given class labels\n",
    "\n",
    "Step 2: Find Likelihood probability with each attribute for each class\n",
    "\n",
    "Step 3: Put these value in Bayes Formula and calculate posterior probability.\n",
    "\n",
    "Step 4: See which class has a higher probability, given the input belongs to the higher probability class.\n",
    "\n",
    "For simplifying prior and posterior probability calculation you can use the two tables frequency and likelihood tables. Both of these tables will help you to calculate the prior and posterior probability. The Frequency table contains the occurrence of labels for all features. There are two likelihood tables.\n",
    "\n",
    "\n",
    "![alt text](https://res.cloudinary.com/dyd911kmh/image/upload/f_auto,q_auto:best/v1543836883/image_4_lyi0ob.png)\n",
    "\n",
    "\n",
    "Probability of playing:\n",
    "\n",
    "P(Yes | Overcast) = P(Overcast | Yes) P(Yes) / P (Overcast) .....................(1)\n",
    "\n",
    "Calculate Prior Probabilities:\n",
    "\n",
    "P(Overcast) = 4/14 = 0.29\n",
    "\n",
    "P(Yes)= 9/14 = 0.64\n",
    "\n",
    "Calculate Posterior Probabilities:\n",
    "\n",
    "P(Overcast |Yes) = 4/9 = 0.44\n",
    "\n",
    "Put Prior and Posterior probabilities in equation (1)\n",
    "\n",
    "P (Yes | Overcast) = 0.44 * 0.64 / 0.29 = 0.98(Higher)\n",
    "\n",
    "Similarly, you can calculate the probability of not playing:\n",
    "\n",
    "Probability of not playing:\n",
    "\n",
    "P(No | Overcast) = P(Overcast | No) P(No) / P (Overcast) .....................(2)\n",
    "\n",
    "Calculate Prior Probabilities:\n",
    "\n",
    "P(Overcast) = 4/14 = 0.29\n",
    "\n",
    "P(No)= 5/14 = 0.36\n",
    "\n",
    "Calculate Posterior Probabilities:\n",
    "\n",
    "P(Overcast |No) = 0/9 = 0\n",
    "\n",
    "Put Prior and Posterior probabilities in equation (2)\n",
    "\n",
    "P (No | Overcast) = 0 * 0.36 / 0.29 = 0\n",
    "\n",
    "The probability of a 'Yes' class is higher. So you can determine here if the weather is overcast than players will play the sport."
   ]
  },
  {
   "cell_type": "markdown",
   "metadata": {
    "id": "yirmFMJwEzQX"
   },
   "source": [
    "**Second Approach (In case of multiple features)**\n",
    "\n",
    "![alt text](https://res.cloudinary.com/dyd911kmh/image/upload/f_auto,q_auto:best/v1543836884/image_5_uhsgzr.png)\n",
    "\n",
    "\n",
    "Now suppose you want to calculate the probability of playing when the weather is overcast, and the temperature is mild.\n",
    "\n",
    "Probability of playing:\n",
    "\n",
    "P(Play= Yes | Weather=Overcast, Temp=Mild) = P(Weather=Overcast, Temp=Mild | Play= Yes)P(Play=Yes) ..........(1)\n",
    "\n",
    "P(Weather=Overcast, Temp=Mild | Play= Yes)= P(Overcast |Yes) P(Mild |Yes) ………..(2)\n",
    "\n",
    "Calculate Prior Probabilities: P(Yes)= 9/14 = 0.64\n",
    "\n",
    "Calculate Posterior Probabilities: P(Overcast |Yes) = 4/9 = 0.44 P(Mild |Yes) = 4/9 = 0.44\n",
    "\n",
    "Put Posterior probabilities in equation (2) P(Weather=Overcast, Temp=Mild | Play= Yes) = 0.44 * 0.44 = 0.1936(Higher)\n",
    "\n",
    "Put Prior and Posterior probabilities in equation (1) P(Play= Yes | Weather=Overcast, Temp=Mild) = 0.1936*0.64 = 0.124\n",
    "\n",
    "Similarly, you can calculate the probability of not playing:\n",
    "\n",
    "Probability of not playing:\n",
    "\n",
    "P(Play= No | Weather=Overcast, Temp=Mild) = P(Weather=Overcast, Temp=Mild | Play= No)P(Play=No) ..........(3)\n",
    "\n",
    "P(Weather=Overcast, Temp=Mild | Play= No)= P(Weather=Overcast |Play=No) P(Temp=Mild | Play=No) ………..(4)\n",
    "\n",
    "Calculate Prior Probabilities: P(No)= 5/14 = 0.36\n",
    "\n",
    "Calculate Posterior Probabilities: P(Weather=Overcast |Play=No) = 0/9 = 0 P(Temp=Mild | Play=No)=2/5=0.4\n",
    "\n",
    "Put posterior probabilities in equation (4) P(Weather=Overcast, Temp=Mild | Play= No) = 0 * 0.4= 0\n",
    "\n",
    "Put prior and posterior probabilities in equation (3) P(Play= No | Weather=Overcast, Temp=Mild) = 0*0.36=0\n",
    "\n",
    "The probability of a 'Yes' class is higher. So you can say here that if the weather is overcast than players will play the sport."
   ]
  },
  {
   "cell_type": "code",
   "execution_count": null,
   "metadata": {
    "id": "wURT60w7CFLP"
   },
   "outputs": [],
   "source": [
    "%matplotlib inline\n",
    "import numpy as np\n",
    "import matplotlib.pyplot as plt\n",
    "import seaborn as sns; sns.set()"
   ]
  },
  {
   "cell_type": "code",
   "execution_count": null,
   "metadata": {
    "colab": {
     "base_uri": "https://localhost:8080/",
     "height": 285
    },
    "id": "t6-MKGlxCscl",
    "outputId": "331e0c98-f6df-48ea-92ca-9215c0896bde"
   },
   "outputs": [
    {
     "data": {
      "text/plain": [
       "<matplotlib.collections.PathCollection at 0x7f3f06205310>"
      ]
     },
     "execution_count": 2,
     "metadata": {
      "tags": []
     },
     "output_type": "execute_result"
    },
    {
     "data": {
      "image/png": "[encoded data removed]",
      "text/plain": [
       "<Figure size 432x288 with 1 Axes>"
      ]
     },
     "metadata": {
      "needs_background": "light",
      "tags": []
     },
     "output_type": "display_data"
    }
   ],
   "source": [
    "from sklearn.datasets import make_blobs\n",
    "X, y = make_blobs(100, 2, centers=4, random_state=2, cluster_std=.5)\n",
    "plt.scatter(X[:, 0], X[:, 1], c=y, s=50, cmap='winter')"
   ]
  },
  {
   "cell_type": "markdown",
   "metadata": {
    "id": "x6thqcPRCz0B"
   },
   "source": [
    "**Gaussian Naive Bayes**\n",
    "\n",
    "Perhaps the easiest naive Bayes classifier to understand is Gaussian naive Bayes. In this classifier, the assumption is that data from each label is drawn from a simple Gaussian distribution."
   ]
  },
  {
   "cell_type": "markdown",
   "metadata": {
    "id": "YvbPE4kiC_HN"
   },
   "source": [
    "One extremely fast way to create a simple model is to assume that the data is described by a Gaussian distribution with no covariance between dimensions. This model can be fit by simply finding the mean and standard deviation of the points within each label, which is all you need to define such a distribution.\n",
    "\n",
    "![alt text](https://jakevdp.github.io/PythonDataScienceHandbook/figures/05.05-gaussian-NB.png)\n",
    "\n"
   ]
  },
  {
   "cell_type": "markdown",
   "metadata": {
    "id": "3QQsgU8yDMxW"
   },
   "source": [
    "The ellipses here represent the Gaussian generative model for each label, with larger probability toward the center of the ellipses. With this generative model in place for each class, we have a simple recipe to compute the likelihood P(features | L1) for any data point, and thus we can quickly compute the posterior ratio and determine which label is the most probable for a given point."
   ]
  },
  {
   "cell_type": "code",
   "execution_count": null,
   "metadata": {
    "colab": {
     "base_uri": "https://localhost:8080/"
    },
    "id": "OrwSPBCaDQ3Y",
    "outputId": "3df3d2aa-eebf-484c-f9b8-137b2d874a29"
   },
   "outputs": [
    {
     "data": {
      "text/plain": [
       "GaussianNB(priors=None, var_smoothing=1e-09)"
      ]
     },
     "execution_count": 3,
     "metadata": {
      "tags": []
     },
     "output_type": "execute_result"
    }
   ],
   "source": [
    "from sklearn.naive_bayes import GaussianNB\n",
    "model = GaussianNB()\n",
    "model.fit(X, y)"
   ]
  },
  {
   "cell_type": "code",
   "execution_count": null,
   "metadata": {
    "id": "rRY8bftWDUX0"
   },
   "outputs": [],
   "source": [
    "rng = np.random.RandomState(0)\n",
    "Xnew = [-6, -14] + [14, 18] * rng.rand(2000, 2)\n",
    "ynew = model.predict(Xnew)"
   ]
  },
  {
   "cell_type": "code",
   "execution_count": null,
   "metadata": {
    "colab": {
     "base_uri": "https://localhost:8080/",
     "height": 337
    },
    "id": "aufXhlYdFzZT",
    "outputId": "5e586672-6c81-44fc-93dc-5417a44ceb52"
   },
   "outputs": [
    {
     "data": {
      "text/plain": [
       "(-7.060940764725452,\n",
       " 2.3381471896605026,\n",
       " -10.743428464356715,\n",
       " 3.955804605525034)"
      ]
     },
     "execution_count": 5,
     "metadata": {
      "tags": []
     },
     "output_type": "execute_result"
    },
    {
     "data": {
      "image/png": "[encoded data removed]",
      "text/plain": [
       "<Figure size 432x288 with 1 Axes>"
      ]
     },
     "metadata": {
      "needs_background": "light",
      "tags": []
     },
     "output_type": "display_data"
    }
   ],
   "source": [
    "plt.scatter(X[:, 0], X[:, 1], c=y, s=50, cmap='RdBu')\n",
    "lim = plt.axis()\n",
    "plt.scatter(Xnew[:, 0], Xnew[:, 1], c=ynew, s=20, cmap='RdBu', alpha=0.1)\n",
    "plt.axis(lim)"
   ]
  },
  {
   "cell_type": "markdown",
   "metadata": {
    "id": "CE8WJMPdLxp8"
   },
   "source": [
    "**Multinomial Naive Bayes**\n",
    "\n",
    "The Gaussian assumption just described is by no means the only simple assumption that could be used to specify the generative distribution for each label. Another useful example is multinomial naive Bayes, where the features are assumed to be generated from a simple multinomial distribution. The multinomial distribution describes the probability of observing counts among a number of categories, and thus multinomial naive Bayes is most appropriate for features that represent counts or count rates.\n",
    "\n",
    "The idea is precisely the same as before, except that instead of modeling the data distribution with the best-fit Gaussian, we model the data distribuiton with a best-fit multinomial distribution."
   ]
  },
  {
   "cell_type": "markdown",
   "metadata": {
    "id": "IeYmhNYPL7MK"
   },
   "source": [
    "One place where multinomial naive Bayes is often used is in text classification, where the features are related to word counts or frequencies within the documents to be classified. We discussed the extraction of such features from text in Feature Engineering; here we will use the sparse word count features from the 20 Newsgroups corpus to show how we might classify these short documents into categories."
   ]
  },
  {
   "cell_type": "code",
   "execution_count": null,
   "metadata": {
    "colab": {
     "base_uri": "https://localhost:8080/"
    },
    "id": "7ePu9SSmL4ND",
    "outputId": "44461c41-bbbd-4480-85b9-cf74042b6b38"
   },
   "outputs": [
    {
     "name": "stderr",
     "output_type": "stream",
     "text": [
      "Downloading 20news dataset. This may take a few minutes.\n",
      "Downloading dataset from https://ndownloader.figshare.com/files/5975967 (14 MB)\n"
     ]
    },
    {
     "data": {
      "text/plain": [
       "['alt.atheism',\n",
       " 'comp.graphics',\n",
       " 'comp.os.ms-windows.misc',\n",
       " 'comp.sys.ibm.pc.hardware',\n",
       " 'comp.sys.mac.hardware',\n",
       " 'comp.windows.x',\n",
       " 'misc.forsale',\n",
       " 'rec.autos',\n",
       " 'rec.motorcycles',\n",
       " 'rec.sport.baseball',\n",
       " 'rec.sport.hockey',\n",
       " 'sci.crypt',\n",
       " 'sci.electronics',\n",
       " 'sci.med',\n",
       " 'sci.space',\n",
       " 'soc.religion.christian',\n",
       " 'talk.politics.guns',\n",
       " 'talk.politics.mideast',\n",
       " 'talk.politics.misc',\n",
       " 'talk.religion.misc']"
      ]
     },
     "execution_count": 6,
     "metadata": {
      "tags": []
     },
     "output_type": "execute_result"
    }
   ],
   "source": [
    "from sklearn.datasets import fetch_20newsgroups\n",
    "\n",
    "data = fetch_20newsgroups()\n",
    "data.target_names"
   ]
  },
  {
   "cell_type": "code",
   "execution_count": null,
   "metadata": {
    "id": "bcFFkcrbME0u"
   },
   "outputs": [],
   "source": [
    "categories = ['soc.religion.christian', 'rec.motorcycles',\n",
    "              'sci.space', 'comp.graphics','rec.sport.baseball','talk.politics.misc','sci.electronics']\n",
    "train = fetch_20newsgroups(subset='train', categories=categories)\n",
    "test = fetch_20newsgroups(subset='test', categories=categories)"
   ]
  },
  {
   "cell_type": "code",
   "execution_count": null,
   "metadata": {
    "colab": {
     "base_uri": "https://localhost:8080/"
    },
    "id": "fDN5AuNMMGtj",
    "outputId": "cc77f8c2-45f2-4968-e46d-df7e86d5a0dc"
   },
   "outputs": [
    {
     "name": "stdout",
     "output_type": "stream",
     "text": [
      "From: bohja@cnsvax.uwec.edu\n",
      "Subject: WITCHES AND WICCAN:  your opinion\n",
      "Organization: University of Wisconsin Eau Claire\n",
      "Lines: 19\n",
      "\n",
      "I am a student at UW-Eau Claire.  I am doing a paper an witches and wanted to\n",
      "get your point of view.  I will not use you name unless you specifically tell\n",
      "me to do so.\n",
      "\n",
      "Please answer this question:\n",
      "\n",
      "As a Christian, are you offended by witches and Wiccan?  Do you feel that tehy\n",
      "are pagan in the evil sense of the word?\n",
      "\n",
      "You time and cooperation is appreciated.  Thanks, J.\n",
      "\n",
      "-This survey is being conducted in partial fulfillment of the course\n",
      "requirements for Engl 201, taught by Karen Welch at the University of\n",
      "Wisconsin-Eau Claire.  This course is in compliance with the course\n",
      "certification requirements of the University Institutional Review Board for the\n",
      "PRotection of Human Subjects.\n",
      "\n",
      "[but is it in compliance with any reasonable method for choosing\n",
      "samples???  --clh]\n",
      "\n",
      "From: jbh55289@uxa.cso.uiuc.edu (Josh Hopkins)\n",
      "Subject: RIMSAT, US/Russian joint venture\n",
      "Organization: University of Illinois at Urbana\n",
      "Lines: 121\n",
      "\n",
      "\n",
      "I've been to three talks in the last month which might be of interest. I've \n",
      "transcribed some of my notes below.  Since my note taking ability is by no means\n",
      "infallible, please assume that all factual errors are mine.  Permission is \n",
      "granted to copy this without restriction.\n",
      "\n",
      "Michael Sternberg, Cheif of Operations of RIMSAT, was invited to speak at an\n",
      "informal lunch held by ACDIS here on the campus of the University of Illinois.\n",
      "ACDIS is an organization on campus that deals with Arms Control, Disarmament and\n",
      "International Security.  RIMSAT was considered an appropriate topic because the\n",
      "company is using Russian launchers and satellites.  I think it also helped that\n",
      "his daughter is a grad student in the International Relations program.\n",
      "\n",
      "The concept behind RIMSAT apparently began when Matt Neilson (?) went to Tonga\n",
      "to visit a friend.  While he was there, he somehow ended up visiting the king,\n",
      "who happened to be a big TV fan.  Matt bought the King a satellite dish, which \n",
      "the king thought was really nifty.  Since Tonga has a GNP of about $70 million,\n",
      "His Majesty asked if there was any way to make money off this.  Matt thought\n",
      "there probably was, so at his suggestion, Tonga applied for 31 geosynchronous\n",
      "satellite slots.  While this isn't entirely off the wall, it was very unusual,\n",
      "seeing as Tonga was a tiny kingdom with no space program, and 31 is a lot of\n",
      "slots.\n",
      "\n",
      "The whole thing was debated in the appropriate regulatory agency and Carl\n",
      "Hilliard (who is apparently a respected space lawyer) wrote several opinions\n",
      "supporting Tonga's case.  Eventually Tonga ended up with 7 slots, ranging from \n",
      "70 E to 170 E (slots are designated by the longitude over which they reside).\n",
      "According to Sternberg, four of these, from 130 E to 142 E are the best in the\n",
      "world because they are excellently placed for communications between Hawaii and \n",
      "the Pacific Rim. \n",
      "\n",
      "RIMSAT was formed to use these slots. It was officially formed in Nevis as a tax\n",
      "haven.  They tried for a few years to raise funds in the west, however, to\n",
      "fill 7 slots with western satellites launched on western launchers would have\n",
      "cost approximately $2 billion.  It's not easy to raise that kind of money.\n",
      "Eventually, they hit upon the idea of using Russian hardware.  They began \n",
      "negotiating with Glavkosmos for hardware.  Mr Sternberg describes operating in \n",
      "Moscow in such harsh terms that I don't think I'll visit there for a long time.\n",
      "Besides a significant lack of creature comforts, he was not happy with the way\n",
      "that people operate.  For example \"everybody can sell you everything.\"  \n",
      "Everyone can show the proper documents and licenses that indicate they are the\n",
      "only ones who have the authority to sell what ever you want to by.\n",
      "\n",
      "Eventually, RIMSAT arranged a deal with Glavkosmos for 6 satellites at a cost\n",
      "of $150 million.  However, Glavkosmos lost favor after the coup.  Sternberg\n",
      "says that this is because they were basically a bunch of KGB operatives who \n",
      "went to trade shows and picked up lots of brochures.  Since Glavkosmos was\n",
      "out of power, he had to renegotiate the deal with the new authorities.  He\n",
      "again described life in a Moscow hotel in rather unfavorable terms.  Eventually,\n",
      "he worked out a deal and on Dec 4, 1992 he met with Koptev, who heads the \n",
      "Russian space program, to sign the deal.  Koptev insisted on a few concessions\n",
      "before signing and according to Sternberg he arranged these new rules to \n",
      "allow himself to form another company to do the exact same thing as RIMSAT.\n",
      "\n",
      "The next step was to meet with the builders of the hardware, NPO Applied \n",
      "Mechanics -- NPO PM to use their acronym.  This organization is located in \n",
      "Siberia (can't figure out how to spell the town, I need an atlas) and has built\n",
      "about 1500 vehicles since the dawn of the space age.  Sternberg commented that\n",
      "siberians are very different from Musovites.  They are hard workers, honest\n",
      "people who team up to get things done, very much like midwesterners.  At this\n",
      "point there were some comments from the audience that agreed with his opinion on\n",
      "both siberians and midwesterners :-)\n",
      "\n",
      "Sternberg had lots of good things to say about NPO PM.  His company is \n",
      "apparently lookng for $100 million to invest in the firm to become 50% partners.It apparently costs the Russians about $4 million to build a satellite that\n",
      "would sell for $50 million in the west.  If you want to give them \n",
      "specifications, they'll build you a satellite.  For the particular satellites\n",
      "that RIMSAT will be using, costs run about $378,000 per transponder year.  This\n",
      "compares to $810,000 t/y in the U.S.  They can sell their time for about $1.1\n",
      "million compared to $2.6 million in the U.S.  RIMSAT will launch their \n",
      "satellites on Protons.  To get the best prices, they bought in bulk.  They \n",
      "have the rights to twelve launches, so if any of you need a lift I can give\n",
      "you their address.  The first launch is scheduled for October and they are\n",
      "getting one used satellite from the Russians, which is being moved into place\n",
      "now.\n",
      "\n",
      "Tidbits:\n",
      "\n",
      "*  Sternberg says this kind of thing has to be done by entrepreneurs, not big\n",
      "business because big business is just like what they have over there, except\n",
      "that \"we have better paper, both in the bathroom and in the copier.\"\n",
      "\n",
      "*  Russian launches are self insured.  The promise to replace a failed launch\n",
      "within 9 months.\n",
      "\n",
      "*  Major investors in RIMSAT include Russell 20/20, which is a huge retirement\n",
      "fund organization, Cellsat, which is a big telecom business in southeast Asia,\n",
      "and a fund operated by some of the big names in U.S aerospace which he says is\n",
      "sort of an insurance policy for them if this really takes off.\n",
      "\n",
      "*  He downplayed the instabilites in the ex-USSR saying that we are worried\n",
      "partly because we aren't used to seeing Russia as anything but an unvarying\n",
      "monolith.  Italy gets a new government \"every two weeks\" but we don't worry \n",
      "because we're used to it.  He predicted that once we get used to seeing what\n",
      "really goes on in Russia we won't worry about their stability as much.\n",
      "\n",
      "*  Part of the problem with cooperative ventures is the problem of transfering\n",
      "money.  The central bank has a policy of taking hard currency payments, putting\n",
      "25% in their coffers and replacing the rest with the \"equivalent\" value in \n",
      "rubles.  To get around this, RIMSAT pays their hard currency into an Austrian\n",
      "bank account.  NPO PM then pays their contractors with foreign currency so that\n",
      "the only the contractors get swindled by the government.\n",
      "\n",
      "*  One of the big problems RIMSAT has had is stonewalling by the western \n",
      "satellite industry.  However, Intelsat recently bought three of the same type\n",
      "of satellites, which was rather reassuring.\n",
      "\n",
      "*  The biggest worry most people have about russian satellites is the primitive\n",
      "technology and shorter lifetime.  The older Gorizont (Horizon) satellites have\n",
      "a lifetime of about 5 years, while the more modern Express satellites compare\n",
      "well with western technology and last about 8 years.  While this is much \n",
      "shorter than 15 years for western satellites, Sternberg downplayed the \n",
      "difference.  At these prices they can afford to launch new ones.  In addition,\n",
      "shorter lifetimes mean that they can replace their equipment with newer\n",
      "technology so they will be able to compete better than older, out of date\n",
      "hardware.\n",
      "\n",
      "-- \n",
      "Josh Hopkins                                          jbh55289@uxa.cso.uiuc.edu\n",
      "\t\t    \"Find a way or make one.\"\n",
      "\t             -attributed to Hannibal\n",
      "\n"
     ]
    }
   ],
   "source": [
    "print(train.data[9])\n",
    "print(train.data[4])"
   ]
  },
  {
   "cell_type": "code",
   "execution_count": null,
   "metadata": {
    "colab": {
     "base_uri": "https://localhost:8080/"
    },
    "id": "EAQVpS47YGgK",
    "outputId": "0298aea9-9df9-4637-dcd6-b1100cf87011"
   },
   "outputs": [
    {
     "name": "stdout",
     "output_type": "stream",
     "text": [
      "From: karplus@cse.ucsc.edu (Kevin Karplus)\n",
      "Subject: Re: decoupling caps - onboard\n",
      "Organization: University of California, Santa Cruz\n",
      "Lines: 38\n",
      "Reply-To: karplus@ce.ucsc.edu (Kevin Karplus)\n",
      "NNTP-Posting-Host: ararat.ucsc.edu\n",
      "\n",
      "\n",
      "I've used on-chip capacitors to reduce ground-bounce noise on a small\n",
      "systolic array chip that had 50pF loads on the clock lines.\n",
      "(Design was in 2-micron n-well cmos, using the MOSIS scalable design rules.)\n",
      "Here are some thoughts on the bypass capacitors:\n",
      "\n",
      "1) They don't help much with simultaneous output switching--there is\n",
      "\tstill a large inductance between the bypass capacitor and the\n",
      "\tload capacitor (on both the signal line and the ground\n",
      "\treturn), so you still get ground and power line bounce. \n",
      "\n",
      "2) They do help a lot with on-chip loads, as I had with the high load\n",
      "\ton the clock lines. \n",
      "\n",
      "3) The transients you are trying to suppress are really high\n",
      "\tfrequency, so forget about large areas of poly-thin-oxide-diff\n",
      "\tcapacitors, since the RC time constant is too large.\n",
      "\tWhat I did is to make a metal2, metal, poly, diff sandwich,\n",
      "\tbut put a lot of holes in the poly layer, allowing frequent\n",
      "\tdiff-metal1 contacts.  I forget exactly how wide the poly\n",
      "\tlines were.  If I were doing this design again, I'd probably\n",
      "\tomit the diff altogether, and use a solid poly sheet instead,\n",
      "\tusing just m2, m1, and poly (and substrate, but that has such a high\n",
      "\tresistance it can be ignored at these speeds).\n",
      "\n",
      "4) You are probably better off trying to tune your circuit to run with\n",
      "\tslightly slower edges and lower voltage swings (especially for\n",
      "\toutput signalling), than spending chip area on capacitors.\n",
      "\tI had spare space on the die since the circuit was too big for\n",
      "\ta MOSIS tiny chip, and the next size up was twice as big as I\n",
      "\tneeded. \n",
      "\n",
      "Kevin Karplus\n",
      "-- \n",
      "Kevin Karplus\t\tkarplus@ce.ucsc.edu\n",
      "\n",
      "Due to budgetary constraints the light at the end of the tunnel is\n",
      "being turned off.\n",
      " 3\n"
     ]
    }
   ],
   "source": [
    "print(train.data[19],train.target[19])"
   ]
  },
  {
   "cell_type": "code",
   "execution_count": null,
   "metadata": {
    "colab": {
     "base_uri": "https://localhost:8080/"
    },
    "id": "kQML1w1IYOc7",
    "outputId": "46ab6286-b7bf-4eb6-b3df-f0d7b3c90930"
   },
   "outputs": [
    {
     "name": "stdout",
     "output_type": "stream",
     "text": [
      "From: horne@cs.utexas.edu (Patrick J. Horne)\n",
      "Subject: Thermal fuse supplier wanted\n",
      "Organization: CS Dept, University of Texas at Austin\n",
      "Lines: 21\n",
      "NNTP-Posting-Host: im4u.cs.utexas.edu\n",
      "Keywords: MITI\n",
      "\n",
      "I have a thermal fuse from a Apple Laserwriter II power supply (Made\n",
      "by Cannon) that I need to replace.  The fuse is not the standard\n",
      "tubular thermal fuse like those found in hair driers etc, but is a \n",
      "rectangular plastic package, much like a transistor or diode.  It\n",
      "is about 0.2\"x0.2\"x0.1\", with both leads coming out of one of the\n",
      "0.1\"x0.1\" sides.  I have been told that it was made by MITI, a asian\n",
      "company, but I can find no information as to a supplier.  This fuse\n",
      "is rated at 1A, 130C.  Does anyone have a source for this fuse?  I\n",
      "only need 5 or so, which means that the manufacturer wouldn't even want\n",
      "to talk to me, let alone, deal with me.\n",
      "\n",
      "Please advise via E-mail.\n",
      "\n",
      "Thanks,\n",
      "Pat\n",
      "\n",
      "-- \n",
      "---  I like boats and bicycles, they're healthier than Valium  ---\n",
      "Pat Horne, Network Manager, Shop Supervisor, Hardware Guru \n",
      "CS Dept, University of Texas, Austin, Tx. 78712 USA \n",
      "voice (512)471-9517, fax (512)471-8885, UUCP:cs.utexas.edu!horne\n",
      "\n"
     ]
    }
   ],
   "source": [
    "print(train.data[100])"
   ]
  },
  {
   "cell_type": "markdown",
   "metadata": {
    "id": "TZ4tsYQuMU9w"
   },
   "source": [
    "In order to use this data for machine learning, we need to be able to convert the content of each string into a vector of numbers. For this we will use the TF-IDF vectorizer (discussed in Feature Engineering), and create a pipeline that attaches it to a multinomial naive Bayes classifier"
   ]
  },
  {
   "cell_type": "code",
   "execution_count": null,
   "metadata": {
    "id": "w65Rw7llMVzo"
   },
   "outputs": [],
   "source": [
    "from sklearn.feature_extraction.text import TfidfVectorizer\n",
    "from sklearn.naive_bayes import MultinomialNB\n",
    "from sklearn.pipeline import make_pipeline\n",
    "\n",
    "model = make_pipeline(TfidfVectorizer(), MultinomialNB())"
   ]
  },
  {
   "cell_type": "code",
   "execution_count": null,
   "metadata": {
    "id": "FZGhgqToMfHW"
   },
   "outputs": [],
   "source": [
    "model.fit(train.data, train.target) #training\n",
    "labels = model.predict(test.data)\n"
   ]
  },
  {
   "cell_type": "code",
   "execution_count": null,
   "metadata": {
    "colab": {
     "base_uri": "https://localhost:8080/"
    },
    "id": "4_MU15ChzkMx",
    "outputId": "184e3fb7-03b7-4d1d-f231-ee06c02d84d9"
   },
   "outputs": [
    {
     "data": {
      "text/plain": [
       "array([4, 5, 4, ..., 5, 1, 1])"
      ]
     },
     "execution_count": 13,
     "metadata": {
      "tags": []
     },
     "output_type": "execute_result"
    }
   ],
   "source": [
    "labels"
   ]
  },
  {
   "cell_type": "code",
   "execution_count": null,
   "metadata": {
    "colab": {
     "base_uri": "https://localhost:8080/"
    },
    "id": "eV4FqJB7XTNU",
    "outputId": "2a98c0aa-9ab9-4200-b0d3-4539529c6360"
   },
   "outputs": [
    {
     "name": "stdout",
     "output_type": "stream",
     "text": [
      "              precision    recall  f1-score   support\n",
      "\n",
      "           0       0.94      0.82      0.88       389\n",
      "           1       0.94      0.97      0.96       398\n",
      "           2       0.96      0.96      0.96       397\n",
      "           3       0.93      0.76      0.84       393\n",
      "           4       0.88      0.92      0.90       394\n",
      "           5       0.63      0.98      0.77       398\n",
      "           6       0.98      0.57      0.72       310\n",
      "\n",
      "    accuracy                           0.86      2679\n",
      "   macro avg       0.90      0.85      0.86      2679\n",
      "weighted avg       0.89      0.86      0.86      2679\n",
      "\n"
     ]
    }
   ],
   "source": [
    "from sklearn.metrics import classification_report\n",
    "print(classification_report(test.target, labels))"
   ]
  },
  {
   "cell_type": "code",
   "execution_count": null,
   "metadata": {
    "colab": {
     "base_uri": "https://localhost:8080/",
     "height": 407
    },
    "id": "kjcD5ozyMmvw",
    "outputId": "878af918-b977-4ada-c94b-b1dc47562e2c"
   },
   "outputs": [
    {
     "data": {
      "text/plain": [
       "Text(89.18, 0.5, 'predicted label')"
      ]
     },
     "execution_count": 15,
     "metadata": {
      "tags": []
     },
     "output_type": "execute_result"
    },
    {
     "data": {
      "image/png": "[encoded data removed]",
      "text/plain": [
       "<Figure size 432x288 with 1 Axes>"
      ]
     },
     "metadata": {
      "needs_background": "light",
      "tags": []
     },
     "output_type": "display_data"
    }
   ],
   "source": [
    "from sklearn.metrics import confusion_matrix\n",
    "mat = confusion_matrix(test.target, labels)\n",
    "sns.heatmap(mat.T, square=True, annot=True, fmt='d', cbar=False,\n",
    "            xticklabels=train.target_names, yticklabels=train.target_names)\n",
    "plt.xlabel('true label')\n",
    "plt.ylabel('predicted label')"
   ]
  },
  {
   "cell_type": "markdown",
   "metadata": {
    "id": "vcgPTi7rMv0S"
   },
   "source": [
    "Evidently, even this very simple classifier can successfully separate space talk from computer talk, but it gets confused between talk about religion and talk about Christianity. This is perhaps an expected area of confusion!\n",
    "\n",
    "The very cool thing here is that we now have the tools to determine the category for any string, using the predict() method of this pipeline. Here's a quick utility function that will return the prediction for a single string."
   ]
  },
  {
   "cell_type": "code",
   "execution_count": null,
   "metadata": {
    "id": "46QKHHseMp99"
   },
   "outputs": [],
   "source": [
    "def predict_category(s, train=train, model=model):\n",
    "    pred = model.predict([s])\n",
    "    print(pred)\n",
    "    return train.target_names[pred[0]]"
   ]
  },
  {
   "cell_type": "code",
   "execution_count": null,
   "metadata": {
    "colab": {
     "base_uri": "https://localhost:8080/",
     "height": 53
    },
    "id": "yMW-PoKjMz4v",
    "outputId": "f3750435-686b-4f6d-dc41-e03b11c9df73"
   },
   "outputs": [
    {
     "name": "stdout",
     "output_type": "stream",
     "text": [
      "[1]\n"
     ]
    },
    {
     "data": {
      "application/vnd.google.colaboratory.intrinsic+json": {
       "type": "string"
      },
      "text/plain": [
       "'rec.motorcycles'"
      ]
     },
     "execution_count": 17,
     "metadata": {
      "tags": []
     },
     "output_type": "execute_result"
    }
   ],
   "source": [
    "predict_category('Whats the mileage of this bike?')"
   ]
  },
  {
   "cell_type": "code",
   "execution_count": null,
   "metadata": {
    "colab": {
     "base_uri": "https://localhost:8080/",
     "height": 53
    },
    "id": "HcrFi_VEM4fq",
    "outputId": "fce5287b-b42f-41e6-ba76-784ec7438c5c"
   },
   "outputs": [
    {
     "name": "stdout",
     "output_type": "stream",
     "text": [
      "[2]\n"
     ]
    },
    {
     "data": {
      "application/vnd.google.colaboratory.intrinsic+json": {
       "type": "string"
      },
      "text/plain": [
       "'rec.sport.baseball'"
      ]
     },
     "execution_count": 18,
     "metadata": {
      "tags": []
     },
     "output_type": "execute_result"
    }
   ],
   "source": [
    "predict_category('Sachin scored a double hundred')"
   ]
  },
  {
   "cell_type": "code",
   "execution_count": null,
   "metadata": {
    "colab": {
     "base_uri": "https://localhost:8080/",
     "height": 53
    },
    "id": "E6VA1H4OkhHx",
    "outputId": "66d933f2-49a7-4ced-aae7-a93037c4bceb"
   },
   "outputs": [
    {
     "name": "stdout",
     "output_type": "stream",
     "text": [
      "[5]\n"
     ]
    },
    {
     "data": {
      "application/vnd.google.colaboratory.intrinsic+json": {
       "type": "string"
      },
      "text/plain": [
       "'soc.religion.christian'"
      ]
     },
     "execution_count": 19,
     "metadata": {
      "tags": []
     },
     "output_type": "execute_result"
    }
   ],
   "source": [
    "predict_category('The G7 meet would happen at Vienna next month and the world leaders from these countries would discuss incoming financial turbulence')"
   ]
  },
  {
   "cell_type": "code",
   "execution_count": null,
   "metadata": {
    "colab": {
     "base_uri": "https://localhost:8080/",
     "height": 35
    },
    "id": "V4fA0h1gM7ab",
    "outputId": "e397b0c9-486f-4185-ae73-cf994f8e1f38"
   },
   "outputs": [
    {
     "data": {
      "application/vnd.google.colaboratory.intrinsic+json": {
       "type": "string"
      },
      "text/plain": [
       "'soc.religion.christian'"
      ]
     },
     "execution_count": 20,
     "metadata": {
      "tags": []
     },
     "output_type": "execute_result"
    }
   ],
   "source": [
    "predict_category('Evidently, even this very simple classifier can successfully separate space talk from computer talk, but it gets confused between talk about misc.politics and talk about Christianity.')"
   ]
  },
  {
   "cell_type": "markdown",
   "metadata": {
    "id": "dIdX0llxFJ47"
   },
   "source": [
    "### Summary\n",
    "\n",
    "\n",
    "**Advantages**\n",
    "\n",
    "1. It is not only a simple approach but also a fast and accurate method for prediction.\n",
    "2. Naive Bayes has very low computation cost.\n",
    "3. It can efficiently work on a large dataset.\n",
    "4. It performs well in case of discrete response variable compared to the continuous variable.\n",
    "5. It can be used with multiple class prediction problems.\n",
    "6. It also performs well in the case of text analytics problems.\n",
    "7. When the assumption of independence holds, a Naive Bayes classifier performs better compared to other models like logistic regression.\n",
    "\n",
    "**Disadvantages**\n",
    "\n",
    "1. The assumption of independent features. In practice, it is almost impossible that model will get a set of predictors which are entirely independent.\n",
    "2. If there is no training tuple of a particular class, this causes zero posterior probability. In this case, the model is unable to make predictions. This problem is known as Zero Probability/Frequency Problem."
   ]
  }
 ],
 "metadata": {
  "colab": {
   "collapsed_sections": [],
   "name": "Python Naive Bayes.ipynb",
   "provenance": []
  },
  "kernelspec": {
   "display_name": "Python 3",
   "language": "python",
   "name": "python3"
  },
  "language_info": {
   "codemirror_mode": {
    "name": "ipython",
    "version": 3
   },
   "file_extension": ".py",
   "mimetype": "text/x-python",
   "name": "python",
   "nbconvert_exporter": "python",
   "pygments_lexer": "ipython3",
   "version": "3.8.8"
  }
 },
 "nbformat": 4,
 "nbformat_minor": 1
}
