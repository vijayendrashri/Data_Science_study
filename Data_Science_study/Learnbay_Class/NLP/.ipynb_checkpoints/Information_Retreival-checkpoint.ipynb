{
 "cells": [
  {
   "cell_type": "markdown",
   "metadata": {
    "id": "mJN3DLwqYVTp"
   },
   "source": [
    "**Information retrieval** (IR) is the activity of obtaining information system resources that are relevant to an information need from a collection of those resources. Searches can be based on full-text or other content-based indexing. Information retrieval is the science of searching for information in a document, searching for documents themselves, and also searching for the metadata that describes data, and for databases of texts, images or sounds.  Web search engines are the most visible IR applications."
   ]
  },
  {
   "cell_type": "markdown",
   "metadata": {
    "id": "TsFMco0DZHVW"
   },
   "source": [
    "An information retrieval process begins when a user enters a query into the system. Queries are formal statements of information needs, for example search strings in web search engines. In information retrieval a query does not uniquely identify a single object in the collection. Instead, several objects may match the query, perhaps with different degrees of relevancy.\n",
    "\n",
    "An object is an entity that is represented by information in a content collection or database. User queries are matched against the database information. However, as opposed to classical SQL queries of a database, in information retrieval the results returned may or may not match the query, so results are typically ranked. This ranking of results is a key difference of information retrieval searching compared to database searching.\n",
    "\n",
    "Depending on the application the data objects may be, for example, text documents, images, audio, mind maps or videos. Often the documents themselves are not kept or stored directly in the IR system, but are instead represented in the system by document surrogates or metadata.\n",
    "\n",
    "Most IR systems compute a numeric score on how well each object in the database matches the query, and rank the objects according to this value. The top ranking objects are then shown to the user. The process may then be iterated if the user wishes to refine the query."
   ]
  },
  {
   "cell_type": "markdown",
   "metadata": {
    "id": "6QKi3DE6f7ul"
   },
   "source": [
    "Where is Information Retrieval used?\n",
    "\n",
    "**Use Case 1: Digital Library**\n",
    "\n",
    "A digital library is a library in which collection of data are stored in digital formats and accessible by computers. The digital content may be stored locally, or accessed remotely via computer networks. A digital library is a type of information retrieval system.\n",
    "\n",
    "**Use Case 2: Search Engine**\n",
    "\n",
    "A search engine is one of the most the practical applications of information retrieval techniques to large scale text collections.\n",
    "\n",
    "**Use Case 3**: **Image retrieval**\n",
    "\n",
    "An image retrieval system is a computer system for browsing, searching and retrieving images from a large database of digital images."
   ]
  },
  {
   "cell_type": "markdown",
   "metadata": {
    "id": "MYky9MYtYQ2l"
   },
   "source": [
    "![alt text](https://jamesmccaffrey.files.wordpress.com/2016/10/precisionandrecall_informationretrieval.jpg)"
   ]
  },
  {
   "cell_type": "markdown",
   "metadata": {
    "id": "RbJB_MeHb8JC"
   },
   "source": [
    "**Finding Similar Documents**: A reader is interested in a specific news article and you want to find similar articles to recommend. What is the right notion of similarity? Moreover, what if there are millions of other documents? Each time you want to a retrieve a new document, do you need to search through all other documents? How do you group similar documents together? How do you discover new, emerging topics that the documents cover? "
   ]
  },
  {
   "cell_type": "markdown",
   "metadata": {
    "id": "_pantf7DLsR4"
   },
   "source": [
    "## Case Study : Retrieving Similar Publications @ UNM College of Pharmacy and School of Medicine"
   ]
  },
  {
   "cell_type": "markdown",
   "metadata": {
    "id": "s6qn54IBL4gC"
   },
   "source": [
    "**Goal: Find similar papers using Title and Abstract text**\n",
    "\n",
    "In this case we will use Pandas, NLTK, Numpy, and SKLearn libraries to find similar articles published in PubMed using k-Nearest Neighbors.\n",
    "\n",
    "Steps:\n",
    "* Find the important keywords of each document using tf-idf\n",
    "* Apply knn_model on tf-idf to find similar papers\n",
    "* Cleaning:\n",
    "\n",
    " * Clean text from \\n and \\x things like that by Replacing \\n and \\x with white-spaces\n",
    " \n",
    " * Apply unicode\n",
    "\n",
    " * Make everything lower case"
   ]
  },
  {
   "cell_type": "code",
   "execution_count": 1,
   "metadata": {
    "ExecuteTime": {
     "end_time": "2021-08-16T09:40:00.834555Z",
     "start_time": "2021-08-16T09:39:46.370703Z"
    },
    "colab": {
     "base_uri": "https://localhost:8080/"
    },
    "id": "wFbmtrScKpj7",
    "outputId": "c57ee817-366a-4f60-c37e-866885c03342"
   },
   "outputs": [
    {
     "name": "stdout",
     "output_type": "stream",
     "text": [
      "Collecting biopython\n",
      "  Downloading biopython-1.79-cp38-cp38-manylinux_2_5_x86_64.manylinux1_x86_64.whl (2.3 MB)\n",
      "\u001b[K     |████████████████████████████████| 2.3 MB 2.3 MB/s eta 0:00:01\n",
      "\u001b[?25hRequirement already satisfied: numpy in /home/vijay/anaconda3/lib/python3.8/site-packages (from biopython) (1.20.1)\n",
      "Installing collected packages: biopython\n",
      "Successfully installed biopython-1.79\n"
     ]
    }
   ],
   "source": [
    "! pip install biopython"
   ]
  },
  {
   "cell_type": "code",
   "execution_count": 2,
   "metadata": {
    "ExecuteTime": {
     "end_time": "2021-08-16T09:40:09.223618Z",
     "start_time": "2021-08-16T09:40:00.839198Z"
    },
    "id": "DQEge78QLyq7"
   },
   "outputs": [],
   "source": [
    "import pandas as pd\n",
    "import sklearn\n",
    "import numpy as np\n",
    "import nltk\n",
    "import re\n",
    "from Bio import Medline"
   ]
  },
  {
   "cell_type": "markdown",
   "metadata": {
    "id": "kb18KSZvNc5Z"
   },
   "source": [
    "Downloading paper abstracts\n",
    "First we must download text data that we are interested in using. To do this we will use articles indexed in pubmed.gov. For this notebook we are interested only in article published from the University of New Mexico College of Pharmacy and School of Medicine. Pubmed allows the use of filters/keywords to restrict your search to certain institutions. Retrieve articles affiliated with UNM CoP and SoM by using the following search string \"university of new mexico\"[AD] AND (\"pharmacy\"[AD] OR \"medicine\"[AD])\n",
    "\n",
    "Steps:\n",
    "\n",
    "* Navigate to pubmed.gov\n",
    "* Enter \"university of new mexico\"[AD] AND (\"pharmacy\"[AD] OR \"medicine\"[AD]) into the search box\n",
    "*Click 'Send to:' and choose 'File' and 'Format: MEDLINE'\n",
    "*Click 'Create File'\n",
    "\n",
    "As of 10 Oct 2019  there are a total of 8,315 articles found matching this search criteria. A file called pubmed_result.txt should have been saved to your computer. This file contains all of the articles matching the search criteria in MEDLINE format."
   ]
  },
  {
   "cell_type": "markdown",
   "metadata": {
    "id": "44ZL_vQjN4yb"
   },
   "source": [
    "\n",
    "**Lets import the article data**"
   ]
  },
  {
   "cell_type": "code",
   "execution_count": null,
   "metadata": {
    "colab": {
     "base_uri": "https://localhost:8080/",
     "height": 90,
     "resources": {
      "http://localhost:8080/nbextensions/google.colab/files.js": {
       "data": "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",
       "headers": [
        [
         "content-type",
         "application/javascript"
        ]
       ],
       "ok": true,
       "status": 200,
       "status_text": ""
      }
     }
    },
    "id": "anhINnmHOGgm",
    "outputId": "6d8c9356-af56-48ad-8f65-d256b5a640f2"
   },
   "outputs": [
    {
     "data": {
      "text/html": [
       "\n",
       "     <input type=\"file\" id=\"files-7ac5295b-c4bb-40de-894c-44b9986f1f90\" name=\"files[]\" multiple disabled\n",
       "        style=\"border:none\" />\n",
       "     <output id=\"result-7ac5295b-c4bb-40de-894c-44b9986f1f90\">\n",
       "      Upload widget is only available when the cell has been executed in the\n",
       "      current browser session. Please rerun this cell to enable.\n",
       "      </output>\n",
       "      <script src=\"/nbextensions/google.colab/files.js\"></script> "
      ],
      "text/plain": [
       "<IPython.core.display.HTML object>"
      ]
     },
     "metadata": {
      "tags": []
     },
     "output_type": "display_data"
    },
    {
     "name": "stdout",
     "output_type": "stream",
     "text": [
      "Saving pubmed_result.txt to pubmed_result.txt\n",
      "User uploaded file \"pubmed_result.txt\" with length 5062254 bytes\n"
     ]
    }
   ],
   "source": [
    "from google.colab import files\n",
    "\n",
    "uploaded = files.upload()\n",
    "\n",
    "for fn in uploaded.keys():\n",
    "  print('User uploaded file \"{name}\" with length {length} bytes'.format(\n",
    "      name=fn, length=len(uploaded[fn])))"
   ]
  },
  {
   "cell_type": "code",
   "execution_count": null,
   "metadata": {
    "id": "zfdSzcgkODhR"
   },
   "outputs": [],
   "source": [
    "# Function that uses the Medline module from\n",
    "# the Biopython library to parse and read MEDLINE\n",
    "# formatted files. Results are stored in a Pandas \n",
    "# DataFrame\n",
    "def read_medline_data(filename):\n",
    "    recs = Medline.parse(open(filename, 'r'))\n",
    "    text = pd.DataFrame(columns = [\"title\", \"authors\", \"abstract\"])\n",
    "    count = 0\n",
    "    for rec in recs:\n",
    "        try:\n",
    "            abstr = rec[\"AB\"]\n",
    "            title = rec[\"TI\"]\n",
    "            auths = rec[\"AU\"]\n",
    "            text = text.append(pd.DataFrame([[title, auths, abstr]],\n",
    "                                     columns=['title', 'authors', 'abstract']),\n",
    "                              ignore_index=True)            \n",
    "        except:\n",
    "            pass\n",
    "    return text"
   ]
  },
  {
   "cell_type": "code",
   "execution_count": null,
   "metadata": {
    "colab": {
     "base_uri": "https://localhost:8080/",
     "height": 291
    },
    "id": "DGe4NkMaObUt",
    "outputId": "f92022ae-a6fa-43a7-92cd-42b788e3f648"
   },
   "outputs": [
    {
     "data": {
      "text/html": [
       "<div>\n",
       "<style scoped>\n",
       "    .dataframe tbody tr th:only-of-type {\n",
       "        vertical-align: middle;\n",
       "    }\n",
       "\n",
       "    .dataframe tbody tr th {\n",
       "        vertical-align: top;\n",
       "    }\n",
       "\n",
       "    .dataframe thead th {\n",
       "        text-align: right;\n",
       "    }\n",
       "</style>\n",
       "<table border=\"1\" class=\"dataframe\">\n",
       "  <thead>\n",
       "    <tr style=\"text-align: right;\">\n",
       "      <th></th>\n",
       "      <th>title</th>\n",
       "      <th>authors</th>\n",
       "      <th>abstract</th>\n",
       "    </tr>\n",
       "  </thead>\n",
       "  <tbody>\n",
       "    <tr>\n",
       "      <th>0</th>\n",
       "      <td>Peer-Centered Versus Standard Physician-Center...</td>\n",
       "      <td>[Krantz TE, Rogers RG, Petersen TR, Dunivan GC...</td>\n",
       "      <td>OBJECTIVES: Peer counseling may improve upon p...</td>\n",
       "    </tr>\n",
       "    <tr>\n",
       "      <th>1</th>\n",
       "      <td>ISOPT Clinical Hot Topic Panel Discussion on C...</td>\n",
       "      <td>[Asbell PA, Aquavella JV, Hamrah P, Pepose JS,...</td>\n",
       "      <td>The cornea and its adnexa pose a unique situat...</td>\n",
       "    </tr>\n",
       "    <tr>\n",
       "      <th>2</th>\n",
       "      <td>Speed and quality goals in procedural skills l...</td>\n",
       "      <td>[Cook DA, Gas BL, Pankratz VS, Farley DR, Pusi...</td>\n",
       "      <td>Purpose: Compare time (speed) and product qual...</td>\n",
       "    </tr>\n",
       "    <tr>\n",
       "      <th>3</th>\n",
       "      <td>Amphotericin B Penetrates into the Central Ner...</td>\n",
       "      <td>[Petraitis V, Petraitiene R, Valdez JM, Pyrgos...</td>\n",
       "      <td>Hematogenous Candida meningoencephalitis (HCME...</td>\n",
       "    </tr>\n",
       "    <tr>\n",
       "      <th>4</th>\n",
       "      <td>A contemporary review of obstructive sleep apnea.</td>\n",
       "      <td>[Ralls F, Cutchen L]</td>\n",
       "      <td>PURPOSE OF REVIEW: This review provides a cont...</td>\n",
       "    </tr>\n",
       "  </tbody>\n",
       "</table>\n",
       "</div>"
      ],
      "text/plain": [
       "                                               title  ...                                           abstract\n",
       "0  Peer-Centered Versus Standard Physician-Center...  ...  OBJECTIVES: Peer counseling may improve upon p...\n",
       "1  ISOPT Clinical Hot Topic Panel Discussion on C...  ...  The cornea and its adnexa pose a unique situat...\n",
       "2  Speed and quality goals in procedural skills l...  ...  Purpose: Compare time (speed) and product qual...\n",
       "3  Amphotericin B Penetrates into the Central Ner...  ...  Hematogenous Candida meningoencephalitis (HCME...\n",
       "4  A contemporary review of obstructive sleep apnea.  ...  PURPOSE OF REVIEW: This review provides a cont...\n",
       "\n",
       "[5 rows x 3 columns]"
      ]
     },
     "execution_count": 6,
     "metadata": {
      "tags": []
     },
     "output_type": "execute_result"
    }
   ],
   "source": [
    "# Read in MEDLINE formatted text\n",
    "papers = read_medline_data(\"pubmed_result.txt\")\n",
    "\n",
    "# Show the top few papers\n",
    "papers.head()"
   ]
  },
  {
   "cell_type": "code",
   "execution_count": null,
   "metadata": {
    "colab": {
     "base_uri": "https://localhost:8080/"
    },
    "id": "3PMnCkINOkFN",
    "outputId": "8ded9b04-5def-4a85-8a84-0772b6e62256"
   },
   "outputs": [
    {
     "name": "stdout",
     "output_type": "stream",
     "text": [
      "Title:  Can BDDCS illuminate targets in drug design?\n",
      "\n",
      "\n",
      "Abstract:  The fact that pharmacokinetic (PK) properties of drugs influence their interaction with protein targets is a principle known for decades. The same cannot be said for the opposite, namely that targets influence the PK properties of drugs. Evidence confirming this possibility is introduced here for the first time, as we show that certain protein families have a clear preference for drugs with specific PK properties. We investigate this by cross-referencing 'druggable target' annotations for >1000 US Food and Drug Administration (FDA)-approved drugs with their PK profile, as defined by the Biopharmaceutics Drug Disposition Classification System (BDDCS) criteria, and then examine the BDDCS preference for several major target protein families and therapeutic categories. Our findings suggest a novel way to conduct drug discovery by focusing PK profiles at the very early stage of target selection.\n"
     ]
    }
   ],
   "source": [
    "print (\"Title: \", papers['title'][11])\n",
    "print ('\\n')\n",
    "print (\"Abstract: \", papers['abstract'][11])"
   ]
  },
  {
   "cell_type": "code",
   "execution_count": null,
   "metadata": {
    "colab": {
     "base_uri": "https://localhost:8080/",
     "height": 342
    },
    "id": "guRK0is3Oqna",
    "outputId": "d00fceea-2181-487b-d4f1-fd125cb9bb1e"
   },
   "outputs": [
    {
     "data": {
      "text/html": [
       "<div>\n",
       "<style scoped>\n",
       "    .dataframe tbody tr th:only-of-type {\n",
       "        vertical-align: middle;\n",
       "    }\n",
       "\n",
       "    .dataframe tbody tr th {\n",
       "        vertical-align: top;\n",
       "    }\n",
       "\n",
       "    .dataframe thead th {\n",
       "        text-align: right;\n",
       "    }\n",
       "</style>\n",
       "<table border=\"1\" class=\"dataframe\">\n",
       "  <thead>\n",
       "    <tr style=\"text-align: right;\">\n",
       "      <th></th>\n",
       "      <th>title</th>\n",
       "      <th>authors</th>\n",
       "      <th>abstract</th>\n",
       "      <th>clean_abstract</th>\n",
       "      <th>clean_title</th>\n",
       "    </tr>\n",
       "  </thead>\n",
       "  <tbody>\n",
       "    <tr>\n",
       "      <th>0</th>\n",
       "      <td>Peer-Centered Versus Standard Physician-Center...</td>\n",
       "      <td>[Krantz TE, Rogers RG, Petersen TR, Dunivan GC...</td>\n",
       "      <td>OBJECTIVES: Peer counseling may improve upon p...</td>\n",
       "      <td>objectives peer counseling may improve upon pr...</td>\n",
       "      <td>peer centered versus standard physician center...</td>\n",
       "    </tr>\n",
       "    <tr>\n",
       "      <th>1</th>\n",
       "      <td>ISOPT Clinical Hot Topic Panel Discussion on C...</td>\n",
       "      <td>[Asbell PA, Aquavella JV, Hamrah P, Pepose JS,...</td>\n",
       "      <td>The cornea and its adnexa pose a unique situat...</td>\n",
       "      <td>the cornea and its adnexa pose a unique situat...</td>\n",
       "      <td>isopt clinical hot topic panel discussion on c...</td>\n",
       "    </tr>\n",
       "    <tr>\n",
       "      <th>2</th>\n",
       "      <td>Speed and quality goals in procedural skills l...</td>\n",
       "      <td>[Cook DA, Gas BL, Pankratz VS, Farley DR, Pusi...</td>\n",
       "      <td>Purpose: Compare time (speed) and product qual...</td>\n",
       "      <td>purpose compare time speed and product quality...</td>\n",
       "      <td>speed and quality goals in procedural skills l...</td>\n",
       "    </tr>\n",
       "    <tr>\n",
       "      <th>3</th>\n",
       "      <td>Amphotericin B Penetrates into the Central Ner...</td>\n",
       "      <td>[Petraitis V, Petraitiene R, Valdez JM, Pyrgos...</td>\n",
       "      <td>Hematogenous Candida meningoencephalitis (HCME...</td>\n",
       "      <td>hematogenous candida meningoencephalitis hcme ...</td>\n",
       "      <td>amphotericin b penetrates into the central ner...</td>\n",
       "    </tr>\n",
       "    <tr>\n",
       "      <th>4</th>\n",
       "      <td>A contemporary review of obstructive sleep apnea.</td>\n",
       "      <td>[Ralls F, Cutchen L]</td>\n",
       "      <td>PURPOSE OF REVIEW: This review provides a cont...</td>\n",
       "      <td>purpose of review this review provides a conte...</td>\n",
       "      <td>a contemporary review of obstructive sleep apnea</td>\n",
       "    </tr>\n",
       "  </tbody>\n",
       "</table>\n",
       "</div>"
      ],
      "text/plain": [
       "                                               title  ...                                        clean_title\n",
       "0  Peer-Centered Versus Standard Physician-Center...  ...  peer centered versus standard physician center...\n",
       "1  ISOPT Clinical Hot Topic Panel Discussion on C...  ...  isopt clinical hot topic panel discussion on c...\n",
       "2  Speed and quality goals in procedural skills l...  ...  speed and quality goals in procedural skills l...\n",
       "3  Amphotericin B Penetrates into the Central Ner...  ...  amphotericin b penetrates into the central ner...\n",
       "4  A contemporary review of obstructive sleep apnea.  ...  a contemporary review of obstructive sleep apnea \n",
       "\n",
       "[5 rows x 5 columns]"
      ]
     },
     "execution_count": 8,
     "metadata": {
      "tags": []
     },
     "output_type": "execute_result"
    }
   ],
   "source": [
    "# Function that cleans text by removing '\\x0c' and '\\n' characters\n",
    "# as well as all non-alpha characters and finally converts everything\n",
    "# to lower case\n",
    "def clean_text(text):\n",
    "    stop_words = ['\\x0c', '\\n']\n",
    "    for i in stop_words:\n",
    "        text.replace(i, ' ')\n",
    "    clean_text = re.sub('[^a-zA-Z]+', ' ', text)\n",
    "    return clean_text.lower()\n",
    "\n",
    "# Create a column for cleaned Abstract and cleaned Title\n",
    "papers['clean_abstract'] = papers['abstract'].apply(clean_text)\n",
    "papers['clean_title'] = papers['title'].apply(clean_text)\n",
    "\n",
    "papers.head()"
   ]
  },
  {
   "cell_type": "code",
   "execution_count": null,
   "metadata": {
    "colab": {
     "base_uri": "https://localhost:8080/"
    },
    "id": "K-x3vB5qPFcb",
    "outputId": "506111b5-9049-4f89-d2d9-b308c6ba7c40"
   },
   "outputs": [
    {
     "name": "stdout",
     "output_type": "stream",
     "text": [
      "Title:  A contemporary review of obstructive sleep apnea.\n",
      "\n",
      "\n",
      "Abstract:  PURPOSE OF REVIEW: This review provides a contemporary review of sleep apnea with emphasis on definitions, epidemiology, and consequences. RECENT FINDINGS: Amyloid beta-42 is one of the main peptides forming amyloid plaques in the brains of Alzheimer patients. Poorer sleep quality and shorter sleep duration have been associated with a higher amyloid burden. Decreased sleep time in the elderly is a precipitating factor in amyloid retention. Studies have shown that the dysregulation of the homeostatic balance of the major inhibitory and excitatory amino acid neurotransmitter systems of gamma-aminobutyric acid (GABA) and glutamate play a role in sleep disordered breathing (SDB). SUMMARY: Untreated sleep disordered breathing (obstructive sleep apnea and/or central sleep apnea) are an important cause of medical mortality and morbidity. OSA is characterized by recurrent episodes of partial or complete collapse of the upper airway during sleep followed by hypoxia and sympathetic activation. Apneic events are terminated by arousal, followed by increases in pulse and blood pressure, and re-oxygenation and the release of inflammatory factors. Individuals with OSA have an increased risk of developing atrial fibrillation. Hypoxemia and poor sleep quality because of OSA increase the risk of cognitive decline in the elderly.\n"
     ]
    }
   ],
   "source": [
    "print (\"Title: \", papers['title'][4])\n",
    "print ('\\n')\n",
    "print (\"Abstract: \", papers['abstract'][4])"
   ]
  },
  {
   "cell_type": "code",
   "execution_count": null,
   "metadata": {
    "colab": {
     "base_uri": "https://localhost:8080/"
    },
    "id": "WcEar3J7jqv3",
    "outputId": "6b69e6e2-f30d-414a-9a93-1e89de650ad9"
   },
   "outputs": [
    {
     "name": "stdout",
     "output_type": "stream",
     "text": [
      "Title:  a contemporary review of obstructive sleep apnea \n",
      "\n",
      "\n",
      "Abstract:  purpose of review this review provides a contemporary review of sleep apnea with emphasis on definitions epidemiology and consequences recent findings amyloid beta is one of the main peptides forming amyloid plaques in the brains of alzheimer patients poorer sleep quality and shorter sleep duration have been associated with a higher amyloid burden decreased sleep time in the elderly is a precipitating factor in amyloid retention studies have shown that the dysregulation of the homeostatic balance of the major inhibitory and excitatory amino acid neurotransmitter systems of gamma aminobutyric acid gaba and glutamate play a role in sleep disordered breathing sdb summary untreated sleep disordered breathing obstructive sleep apnea and or central sleep apnea are an important cause of medical mortality and morbidity osa is characterized by recurrent episodes of partial or complete collapse of the upper airway during sleep followed by hypoxia and sympathetic activation apneic events are terminated by arousal followed by increases in pulse and blood pressure and re oxygenation and the release of inflammatory factors individuals with osa have an increased risk of developing atrial fibrillation hypoxemia and poor sleep quality because of osa increase the risk of cognitive decline in the elderly \n"
     ]
    }
   ],
   "source": [
    "print (\"Title: \", papers['clean_title'][4])\n",
    "print ('\\n')\n",
    "print (\"Abstract: \", papers['clean_abstract'][4])"
   ]
  },
  {
   "cell_type": "code",
   "execution_count": null,
   "metadata": {
    "id": "-ZZpTmDZPNPW"
   },
   "outputs": [],
   "source": [
    "'''Build tf-idf matrix based on Abstract and Title\n",
    "Use NLTK word_tokenize() and SnowballStemmer() to tokenize and stem document Title and Abstract'''\n",
    "\n",
    "# Function that takes text, tokenizes it and returns list of stemmed tokens\n",
    "def tokenize_and_stem(text):\n",
    "    tokens = nltk.word_tokenize(text)\n",
    "    stemmer = nltk.stem.snowball.SnowballStemmer(\"english\")\n",
    "    return [i for i in [stemmer.stem(t) for t in tokens] if len(i) > 2]"
   ]
  },
  {
   "cell_type": "markdown",
   "metadata": {
    "id": "UzsLJ7uOPVfa"
   },
   "source": [
    "**Create a tf-idf vectorizer using sklearn TfidfVectorizer**\n",
    "\n",
    "1. First we create the vectorizer specifying the paramters\n",
    "    * max_df is the maximum allowable document frequency for a token this is set to 0.50 to include terms that appear in less than 50% of documents.\n",
    "    * min_df is the minimum allowable document frequency for a token and is set to 0 to include all terms, even those that appear in only one document\n",
    "    * max_features sets the maximum number of features allowed and is set to an arbitrarily large number (i.e. 200,000) to ensure we capture at least as many features\n",
    "    * stop_words specifies the words/tokens to remove from the corpus\n",
    "    * use_idf enables reweighting each feature by its inverse-document-frequency when set to true\n",
    "    * tokenizer specifies which tokenizer to use, we want to tokenize and stem so we pass it our tokenized_and_stem() function we created above. The default tokenizer will tokenize words and include those greater than two characters in length.\n",
    "2. We then fit the vectorizer to our cleaned text using *vectorizer.fit_transform()*\n",
    "3. The output is a n*m matrix where n is the number of documents in our corpus and m is the number of features.\n",
    "4. We can inspect the features using *vectorizer.get_feature_names()*"
   ]
  },
  {
   "cell_type": "code",
   "execution_count": null,
   "metadata": {
    "colab": {
     "base_uri": "https://localhost:8080/"
    },
    "id": "eXcVNLEpWBpY",
    "outputId": "3516641b-1fa6-44f6-972b-0833ea577e6f"
   },
   "outputs": [
    {
     "name": "stdout",
     "output_type": "stream",
     "text": [
      "[nltk_data] Downloading package punkt to /root/nltk_data...\n",
      "[nltk_data]   Unzipping tokenizers/punkt.zip.\n"
     ]
    },
    {
     "data": {
      "text/plain": [
       "True"
      ]
     },
     "execution_count": 13,
     "metadata": {
      "tags": []
     },
     "output_type": "execute_result"
    }
   ],
   "source": [
    "import nltk\n",
    "nltk.download('punkt')"
   ]
  },
  {
   "cell_type": "code",
   "execution_count": null,
   "metadata": {
    "colab": {
     "base_uri": "https://localhost:8080/"
    },
    "id": "SeCC4wWQPZL9",
    "outputId": "7003d170-cb4f-4e47-ac42-f3a21a9fefa2"
   },
   "outputs": [
    {
     "name": "stderr",
     "output_type": "stream",
     "text": [
      "/usr/local/lib/python3.7/dist-packages/sklearn/feature_extraction/text.py:385: UserWarning: Your stop_words may be inconsistent with your preprocessing. Tokenizing the stop words generated tokens ['abov', 'afterward', 'alon', 'alreadi', 'alway', 'ani', 'anoth', 'anyon', 'anyth', 'anywher', 'becam', 'becaus', 'becom', 'befor', 'besid', 'cri', 'describ', 'dure', 'els', 'elsewher', 'empti', 'everi', 'everyon', 'everyth', 'everywher', 'fifti', 'forti', 'henc', 'hereaft', 'herebi', 'howev', 'hundr', 'inde', 'mani', 'meanwhil', 'moreov', 'nobodi', 'noon', 'noth', 'nowher', 'onc', 'onli', 'otherwis', 'ourselv', 'perhap', 'pleas', 'sever', 'sinc', 'sincer', 'sixti', 'someon', 'someth', 'sometim', 'somewher', 'themselv', 'thenc', 'thereaft', 'therebi', 'therefor', 'togeth', 'twelv', 'twenti', 'veri', 'whatev', 'whenc', 'whenev', 'wherea', 'whereaft', 'wherebi', 'wherev', 'whi', 'yourselv'] not in stop_words.\n",
      "  'stop_words.' % sorted(inconsistent))\n"
     ]
    }
   ],
   "source": [
    "# Import the TfidfVectorizer from sklearn\n",
    "from sklearn.feature_extraction.text import TfidfVectorizer\n",
    "\n",
    "# Create vectorizer for Abstracts, max_df is set to 0.5, we only want\n",
    "# to include terms that appear in less tha 50% of the documents (i.e. rare terms)\n",
    "abs_tfidf_vectorizer = TfidfVectorizer(max_df=0.5, min_df=0, max_features=200000,\n",
    "               stop_words='english', use_idf=True, tokenizer=tokenize_and_stem)\n",
    "\n",
    "# Create vectorizer for Title, max_df is set to 0.5, we only want \n",
    "# to include terms that appear in less than 50% of the documents (i.e. rare terms)\n",
    "title_tfidf_vectorizer = TfidfVectorizer(max_df=0.5, min_df=0, max_features=200000,\n",
    "               stop_words='english', use_idf=True, tokenizer=tokenize_and_stem)\n",
    "\n",
    "# Compute TF-IDF weights for Abstracts\n",
    "tfidf_weights_abs = abs_tfidf_vectorizer.fit_transform(papers['clean_abstract'])"
   ]
  },
  {
   "cell_type": "code",
   "execution_count": null,
   "metadata": {
    "colab": {
     "base_uri": "https://localhost:8080/"
    },
    "id": "_lUwxVPDRtDV",
    "outputId": "888acf54-a402-4b4e-d980-8c2046c05cba"
   },
   "outputs": [
    {
     "name": "stderr",
     "output_type": "stream",
     "text": [
      "/usr/local/lib/python3.7/dist-packages/sklearn/feature_extraction/text.py:385: UserWarning: Your stop_words may be inconsistent with your preprocessing. Tokenizing the stop words generated tokens ['abov', 'afterward', 'alon', 'alreadi', 'alway', 'ani', 'anoth', 'anyon', 'anyth', 'anywher', 'becam', 'becaus', 'becom', 'befor', 'besid', 'cri', 'describ', 'dure', 'els', 'elsewher', 'empti', 'everi', 'everyon', 'everyth', 'everywher', 'fifti', 'forti', 'henc', 'hereaft', 'herebi', 'howev', 'hundr', 'inde', 'mani', 'meanwhil', 'moreov', 'nobodi', 'noon', 'noth', 'nowher', 'onc', 'onli', 'otherwis', 'ourselv', 'perhap', 'pleas', 'sever', 'sinc', 'sincer', 'sixti', 'someon', 'someth', 'sometim', 'somewher', 'themselv', 'thenc', 'thereaft', 'therebi', 'therefor', 'togeth', 'twelv', 'twenti', 'veri', 'whatev', 'whenc', 'whenev', 'wherea', 'whereaft', 'wherebi', 'wherev', 'whi', 'yourselv'] not in stop_words.\n",
      "  'stop_words.' % sorted(inconsistent))\n"
     ]
    }
   ],
   "source": [
    "# Compute TF-IDF weights for Title\n",
    "tfidf_weights_title = title_tfidf_vectorizer.fit_transform(papers['clean_title'])\n",
    "\n",
    "# Get feature names for Abstract and Title models\n",
    "tfidf_features_title = title_tfidf_vectorizer.get_feature_names()\n",
    "tfidf_features_abs = abs_tfidf_vectorizer.get_feature_names()"
   ]
  },
  {
   "cell_type": "code",
   "execution_count": null,
   "metadata": {
    "colab": {
     "base_uri": "https://localhost:8080/"
    },
    "id": "J6O2_4M8kZsY",
    "outputId": "0e4f6fda-64e8-4c2e-ed93-575314eda936"
   },
   "outputs": [
    {
     "data": {
      "text/plain": [
       "['aabb',\n",
       " 'aadc',\n",
       " 'aall',\n",
       " 'aam',\n",
       " 'aamc',\n",
       " 'aaml',\n",
       " 'aapcc',\n",
       " 'abandon',\n",
       " 'abat',\n",
       " 'abc',\n",
       " 'abct',\n",
       " 'abdomen',\n",
       " 'abdomin',\n",
       " 'aberr',\n",
       " 'abfm',\n",
       " 'abhd',\n",
       " 'abi',\n",
       " 'abil',\n",
       " 'abirateron',\n",
       " 'abl',\n",
       " 'ablat',\n",
       " 'abmd',\n",
       " 'abnorm',\n",
       " 'abolish',\n",
       " 'abomas',\n",
       " 'abort',\n",
       " 'abov',\n",
       " 'abridg',\n",
       " 'abrog',\n",
       " 'abrothrix',\n",
       " 'abscess',\n",
       " 'abscessus',\n",
       " 'abscop',\n",
       " 'absenc',\n",
       " 'absent',\n",
       " 'absente',\n",
       " 'absentia',\n",
       " 'absolut',\n",
       " 'absorb',\n",
       " 'absorpt',\n",
       " 'absorptiometri',\n",
       " 'abstin',\n",
       " 'abstract',\n",
       " 'abt',\n",
       " 'abund',\n",
       " 'abus',\n",
       " 'academ',\n",
       " 'academi',\n",
       " 'academia',\n",
       " 'acc',\n",
       " 'acceler',\n",
       " 'acceleromet',\n",
       " 'accentu',\n",
       " 'accept',\n",
       " 'acceptor',\n",
       " 'access',\n",
       " 'accid',\n",
       " 'accident',\n",
       " 'accipitriform',\n",
       " 'accompani',\n",
       " 'accomplish',\n",
       " 'accord',\n",
       " 'account',\n",
       " 'accredit',\n",
       " 'accru',\n",
       " 'accultur',\n",
       " 'accumben',\n",
       " 'accumul',\n",
       " 'accur',\n",
       " 'accuraci',\n",
       " 'accuro',\n",
       " 'accusatori',\n",
       " 'ace',\n",
       " 'acei',\n",
       " 'acep',\n",
       " 'acet',\n",
       " 'acetaminophen',\n",
       " 'acetazolamid',\n",
       " 'aceton',\n",
       " 'acetoxymethyl',\n",
       " 'acetyl',\n",
       " 'acetylaspart',\n",
       " 'acetylcholin',\n",
       " 'acgm',\n",
       " 'achiev',\n",
       " 'achieva',\n",
       " 'acid',\n",
       " 'acinetobact',\n",
       " 'acknowledg',\n",
       " 'acmtf',\n",
       " 'acn',\n",
       " 'acosog',\n",
       " 'acp',\n",
       " 'acquaint',\n",
       " 'acquir',\n",
       " 'acquisit',\n",
       " 'act',\n",
       " 'actin',\n",
       " 'action',\n",
       " 'activ',\n",
       " 'activat',\n",
       " 'actual',\n",
       " 'acuiti',\n",
       " 'acuminatum',\n",
       " 'acupunctur',\n",
       " 'acut',\n",
       " 'adalimumab',\n",
       " 'adam',\n",
       " 'adapt',\n",
       " 'add',\n",
       " 'addict',\n",
       " 'addit',\n",
       " 'address',\n",
       " 'adduct',\n",
       " 'ade',\n",
       " 'adem',\n",
       " 'adenin',\n",
       " 'adenocarcinoma',\n",
       " 'adenomatoid',\n",
       " 'adenopathi',\n",
       " 'adenosin',\n",
       " 'adenovir',\n",
       " 'adenovirus',\n",
       " 'adenylyltransferas',\n",
       " 'adequ',\n",
       " 'adequaci',\n",
       " 'adhd',\n",
       " 'adher',\n",
       " 'adhes',\n",
       " 'adiabat',\n",
       " 'adipocyt',\n",
       " 'adipogenesi',\n",
       " 'adipos',\n",
       " 'adjac',\n",
       " 'adjud',\n",
       " 'adjunct',\n",
       " 'adjust',\n",
       " 'adjuv',\n",
       " 'administ',\n",
       " 'administr',\n",
       " 'admiss',\n",
       " 'admit',\n",
       " 'adnex',\n",
       " 'adnexa',\n",
       " 'adnul',\n",
       " 'adolesc',\n",
       " 'adopt',\n",
       " 'adp',\n",
       " 'adren',\n",
       " 'adrenerg',\n",
       " 'adrenocorticotrop',\n",
       " 'adult',\n",
       " 'adulthood',\n",
       " 'advanc',\n",
       " 'advantag',\n",
       " 'advent',\n",
       " 'advers',\n",
       " 'advertis',\n",
       " 'advic',\n",
       " 'advis',\n",
       " 'advisor',\n",
       " 'advisori',\n",
       " 'advoc',\n",
       " 'advocaci',\n",
       " 'aec',\n",
       " 'aer',\n",
       " 'aerob',\n",
       " 'aerodigest',\n",
       " 'aerodynam',\n",
       " 'aerosol',\n",
       " 'aeruginosa',\n",
       " 'aesculap',\n",
       " 'aetiolog',\n",
       " 'afb',\n",
       " 'aff',\n",
       " 'affair',\n",
       " 'affect',\n",
       " 'affili',\n",
       " 'affin',\n",
       " 'affirm',\n",
       " 'afflict',\n",
       " 'afford',\n",
       " 'afghanistan',\n",
       " 'aflatoxin',\n",
       " 'aforement',\n",
       " 'africa',\n",
       " 'african',\n",
       " 'aftercar',\n",
       " 'afternoon',\n",
       " 'afterward',\n",
       " 'agatston',\n",
       " 'age',\n",
       " 'agenc',\n",
       " 'agenda',\n",
       " 'agenesi',\n",
       " 'agent',\n",
       " 'agglomeran',\n",
       " 'aggreg',\n",
       " 'aggress',\n",
       " 'agit',\n",
       " 'ago',\n",
       " 'agon',\n",
       " 'agonist',\n",
       " 'agranular',\n",
       " 'agre',\n",
       " 'agreement',\n",
       " 'agricultur',\n",
       " 'agro',\n",
       " 'aha',\n",
       " 'ahi',\n",
       " 'ahr',\n",
       " 'aid',\n",
       " 'ailment',\n",
       " 'aim',\n",
       " 'aip',\n",
       " 'air',\n",
       " 'airc',\n",
       " 'airway',\n",
       " 'akap',\n",
       " 'aki',\n",
       " 'akt',\n",
       " 'ala',\n",
       " 'alarm',\n",
       " 'alaska',\n",
       " 'alaskan',\n",
       " 'albeit',\n",
       " 'albican',\n",
       " 'albumin',\n",
       " 'albuminuria',\n",
       " 'albuquerqu',\n",
       " 'alcohol',\n",
       " 'aldosteron',\n",
       " 'alert',\n",
       " 'alexa',\n",
       " 'alfa',\n",
       " 'algorithm',\n",
       " 'align',\n",
       " 'alik',\n",
       " 'aliv',\n",
       " 'alkalin',\n",
       " 'alkyl',\n",
       " 'allel',\n",
       " 'allerg',\n",
       " 'allergi',\n",
       " 'allevi',\n",
       " 'alli',\n",
       " 'allianc',\n",
       " 'alloc',\n",
       " 'allodynia',\n",
       " 'allogen',\n",
       " 'allograft',\n",
       " 'allohct',\n",
       " 'allow',\n",
       " 'alon',\n",
       " 'alongsid',\n",
       " 'alosetron',\n",
       " 'alpha',\n",
       " 'alphabeta',\n",
       " 'alreadi',\n",
       " 'alspac',\n",
       " 'alt',\n",
       " 'alta',\n",
       " 'altai',\n",
       " 'alteplas',\n",
       " 'alter',\n",
       " 'altern',\n",
       " 'altitud',\n",
       " 'altman',\n",
       " 'altogeth',\n",
       " 'altv',\n",
       " 'aluminum',\n",
       " 'alveolar',\n",
       " 'alveoli',\n",
       " 'alway',\n",
       " 'alzheim',\n",
       " 'amantadin',\n",
       " 'amb',\n",
       " 'ambient',\n",
       " 'ambigu',\n",
       " 'ambroxol',\n",
       " 'ambul',\n",
       " 'ambulatori',\n",
       " 'amelior',\n",
       " 'ameloblastoma',\n",
       " 'amen',\n",
       " 'amend',\n",
       " 'america',\n",
       " 'american',\n",
       " 'ami',\n",
       " 'amin',\n",
       " 'amino',\n",
       " 'aminobutyr',\n",
       " 'amitriptylin',\n",
       " 'aml',\n",
       " 'amnioinfus',\n",
       " 'amniot',\n",
       " 'amp',\n",
       " 'amphetamin',\n",
       " 'amphiphil',\n",
       " 'amphotericin',\n",
       " 'ampl',\n",
       " 'amplif',\n",
       " 'amplifi',\n",
       " 'amplitud',\n",
       " 'amput',\n",
       " 'amssm',\n",
       " 'amygdala',\n",
       " 'amyloid',\n",
       " 'amyotroph',\n",
       " 'amyrin',\n",
       " 'anabol',\n",
       " 'anaemia',\n",
       " 'anal',\n",
       " 'analges',\n",
       " 'analgesia',\n",
       " 'analog',\n",
       " 'analogu',\n",
       " 'analys',\n",
       " 'analysi',\n",
       " 'analyst',\n",
       " 'analyt',\n",
       " 'analyz',\n",
       " 'anaphylaxi',\n",
       " 'anasarca',\n",
       " 'anastomos',\n",
       " 'anastomosi',\n",
       " 'anatom',\n",
       " 'anatomi',\n",
       " 'anca',\n",
       " 'ancestor',\n",
       " 'ancestr',\n",
       " 'ancestri',\n",
       " 'anchor',\n",
       " 'ancient',\n",
       " 'ancillari',\n",
       " 'ancova',\n",
       " 'andes',\n",
       " 'andexanet',\n",
       " 'andexxa',\n",
       " 'androgen',\n",
       " 'andv',\n",
       " 'anecdot',\n",
       " 'anem',\n",
       " 'anemia',\n",
       " 'anemon',\n",
       " 'anesthesia',\n",
       " 'anesthesiolog',\n",
       " 'anesthesiologist',\n",
       " 'anesthet',\n",
       " 'aneugen',\n",
       " 'aneuploidi',\n",
       " 'aneurysm',\n",
       " 'angel',\n",
       " 'angii',\n",
       " 'angina',\n",
       " 'angiogen',\n",
       " 'angiogenesi',\n",
       " 'angiogenin',\n",
       " 'angiographi',\n",
       " 'angioma',\n",
       " 'angioplasti',\n",
       " 'angiostat',\n",
       " 'angiosuit',\n",
       " 'angiotensin',\n",
       " 'angiotensinogen',\n",
       " 'angl',\n",
       " 'anglo',\n",
       " 'angul',\n",
       " 'angular',\n",
       " 'anhedonia',\n",
       " 'ani',\n",
       " 'anim',\n",
       " 'anisotropi',\n",
       " 'anka',\n",
       " 'ann',\n",
       " 'anneal',\n",
       " 'annexin',\n",
       " 'annot',\n",
       " 'announc',\n",
       " 'annual',\n",
       " 'annular',\n",
       " 'anod',\n",
       " 'anogenit',\n",
       " 'anomali',\n",
       " 'anonym',\n",
       " 'anorect',\n",
       " 'anoscopi',\n",
       " 'anoth',\n",
       " 'anova',\n",
       " 'answer',\n",
       " 'ant',\n",
       " 'antagon',\n",
       " 'antagonist',\n",
       " 'anteced',\n",
       " 'anted',\n",
       " 'antenat',\n",
       " 'antepartum',\n",
       " 'anterior',\n",
       " 'anterograd',\n",
       " 'anthracyclin',\n",
       " 'anthropologist',\n",
       " 'anthropometr',\n",
       " 'anti',\n",
       " 'antiapoptot',\n",
       " 'antibacteri',\n",
       " 'antibiot',\n",
       " 'antibodi',\n",
       " 'anticanc',\n",
       " 'anticholinerg',\n",
       " 'anticip',\n",
       " 'anticipatori',\n",
       " 'anticoagul',\n",
       " 'anticonvuls',\n",
       " 'anticorrel',\n",
       " 'antidepress',\n",
       " 'antiemet',\n",
       " 'antifibrot',\n",
       " 'antifol',\n",
       " 'antigen',\n",
       " 'antimalari',\n",
       " 'antimicrobi',\n",
       " 'antimyeloperoxidas',\n",
       " 'antineoplast',\n",
       " 'antineutrophil',\n",
       " 'antioxid',\n",
       " 'antiphospholipid',\n",
       " 'antiplatelet',\n",
       " 'antipsychot',\n",
       " 'antiqu',\n",
       " 'antiretrovir',\n",
       " 'antisens',\n",
       " 'antisoci',\n",
       " 'antitumor',\n",
       " 'antivenom',\n",
       " 'antivir',\n",
       " 'antivirul',\n",
       " 'antral',\n",
       " 'anur',\n",
       " 'anxieti',\n",
       " 'anxiolyt',\n",
       " 'aod',\n",
       " 'aor',\n",
       " 'aorta',\n",
       " 'aortic',\n",
       " 'apa',\n",
       " 'apart',\n",
       " 'apathet',\n",
       " 'apathi',\n",
       " 'apc',\n",
       " 'ape',\n",
       " 'apertur',\n",
       " 'apex',\n",
       " 'apheresi',\n",
       " 'apic',\n",
       " 'apicoplast',\n",
       " 'apixaban',\n",
       " 'apl',\n",
       " 'apnea',\n",
       " 'apneic',\n",
       " 'apo',\n",
       " 'apolipoprotein',\n",
       " 'apologis',\n",
       " 'apophysi',\n",
       " 'apoptosi',\n",
       " 'apoptot',\n",
       " 'apox',\n",
       " 'app',\n",
       " 'appalachian',\n",
       " 'appar',\n",
       " 'appear',\n",
       " 'appendic',\n",
       " 'appendicular',\n",
       " 'appendix',\n",
       " 'appetit',\n",
       " 'appli',\n",
       " 'applic',\n",
       " 'appoint',\n",
       " 'apprais',\n",
       " 'appreci',\n",
       " 'approach',\n",
       " 'appropri',\n",
       " 'approv',\n",
       " 'approx',\n",
       " 'approxim',\n",
       " 'april',\n",
       " 'aptima',\n",
       " 'apurin',\n",
       " 'apyrimidin',\n",
       " 'aquacultur',\n",
       " 'aquat',\n",
       " 'aqueous',\n",
       " 'arachid',\n",
       " 'arachidon',\n",
       " 'araneus',\n",
       " 'arb',\n",
       " 'arch',\n",
       " 'archaic',\n",
       " 'architectur',\n",
       " 'arciero',\n",
       " 'arctic',\n",
       " 'arcus',\n",
       " 'ard',\n",
       " 'area',\n",
       " 'areal',\n",
       " 'arf',\n",
       " 'arg',\n",
       " 'argentina',\n",
       " 'argentinean',\n",
       " 'argon',\n",
       " 'argu',\n",
       " 'argument',\n",
       " 'arhgap',\n",
       " 'arhgef',\n",
       " 'ari',\n",
       " 'aris',\n",
       " 'arizona',\n",
       " 'arm',\n",
       " 'armi',\n",
       " 'armitag',\n",
       " 'aroma',\n",
       " 'aromat',\n",
       " 'arous',\n",
       " 'arrang',\n",
       " 'array',\n",
       " 'arrest',\n",
       " 'arrhythm',\n",
       " 'arrhythmia',\n",
       " 'arriv',\n",
       " 'arsenic',\n",
       " 'arsenit',\n",
       " 'art',\n",
       " 'artemisinin',\n",
       " 'arteri',\n",
       " 'arteriolar',\n",
       " 'arteriosus',\n",
       " 'arterioven',\n",
       " 'arthralgia',\n",
       " 'arthriti',\n",
       " 'arthrocentesi',\n",
       " 'arthroplasti',\n",
       " 'arthropod',\n",
       " 'arthroscop',\n",
       " 'arthroscopi',\n",
       " 'arthrotomi',\n",
       " 'articl',\n",
       " 'articul',\n",
       " 'artifact',\n",
       " 'artifici',\n",
       " 'aryl',\n",
       " 'asa',\n",
       " 'asah',\n",
       " 'asberg',\n",
       " 'asc',\n",
       " 'ascend',\n",
       " 'ascent',\n",
       " 'ascertain',\n",
       " 'ascit',\n",
       " 'asco',\n",
       " 'asd',\n",
       " 'ash',\n",
       " 'asi',\n",
       " 'asia',\n",
       " 'asian',\n",
       " 'asiii',\n",
       " 'ask',\n",
       " 'asp',\n",
       " 'asparaginas',\n",
       " 'aspart',\n",
       " 'aspartyl',\n",
       " 'aspect',\n",
       " 'aspergillus',\n",
       " 'aspir',\n",
       " 'aspirin',\n",
       " 'asq',\n",
       " 'assault',\n",
       " 'assay',\n",
       " 'assembl',\n",
       " 'assemblag',\n",
       " 'assert',\n",
       " 'assess',\n",
       " 'assign',\n",
       " 'assist',\n",
       " 'associ',\n",
       " 'assum',\n",
       " 'assumpt',\n",
       " 'assur',\n",
       " 'asthma',\n",
       " 'astro',\n",
       " 'astrocyt',\n",
       " 'astroglia',\n",
       " 'asylum',\n",
       " 'asymmetr',\n",
       " 'asymptomat',\n",
       " 'asynchron',\n",
       " 'asystol',\n",
       " 'ataxia',\n",
       " 'atcc',\n",
       " 'atf',\n",
       " 'atg',\n",
       " 'atheroma',\n",
       " 'atherosclerosi',\n",
       " 'atherosclerot',\n",
       " 'athlet',\n",
       " 'atlas',\n",
       " 'atm',\n",
       " 'atmospher',\n",
       " 'ato',\n",
       " 'atop',\n",
       " 'atorvastatin',\n",
       " 'atp',\n",
       " 'atpas',\n",
       " 'atr',\n",
       " 'atra',\n",
       " 'atria',\n",
       " 'atrial',\n",
       " 'atrioesophag',\n",
       " 'atrium',\n",
       " 'atrophi',\n",
       " 'att',\n",
       " 'attach',\n",
       " 'attain',\n",
       " 'attempt',\n",
       " 'attend',\n",
       " 'attende',\n",
       " 'attent',\n",
       " 'attenu',\n",
       " 'attitud',\n",
       " 'attract',\n",
       " 'attribut',\n",
       " 'attrit',\n",
       " 'atyp',\n",
       " 'aub',\n",
       " 'auc',\n",
       " 'aud',\n",
       " 'audienc',\n",
       " 'audio',\n",
       " 'audit',\n",
       " 'auditori',\n",
       " 'aug',\n",
       " 'augment',\n",
       " 'august',\n",
       " 'auh',\n",
       " 'aureus',\n",
       " 'auricular',\n",
       " 'auster',\n",
       " 'austral',\n",
       " 'australia',\n",
       " 'aut',\n",
       " 'author',\n",
       " 'authorship',\n",
       " 'autism',\n",
       " 'auto',\n",
       " 'autoantibodi',\n",
       " 'autochthon',\n",
       " 'autoconnect',\n",
       " 'autocorrel',\n",
       " 'autogel',\n",
       " 'autoimmun',\n",
       " 'autoinflammatori',\n",
       " 'autolog',\n",
       " 'autom',\n",
       " 'automat',\n",
       " 'automatis',\n",
       " 'automobil',\n",
       " 'autonom',\n",
       " 'autonomi',\n",
       " 'autophag',\n",
       " 'autophagi',\n",
       " 'autopsi',\n",
       " 'autoradiographi',\n",
       " 'autoregress',\n",
       " 'autosom',\n",
       " 'avail',\n",
       " 'avenu',\n",
       " 'averag',\n",
       " 'avers',\n",
       " 'avert',\n",
       " 'avh',\n",
       " 'avian',\n",
       " 'aviat',\n",
       " 'avid',\n",
       " 'avoid',\n",
       " 'avuls',\n",
       " 'awaken',\n",
       " 'awar',\n",
       " 'award',\n",
       " 'axe',\n",
       " 'axi',\n",
       " 'axon',\n",
       " 'aya',\n",
       " 'ayr',\n",
       " 'aysen',\n",
       " 'azithromycin',\n",
       " 'babi',\n",
       " 'bacilli',\n",
       " 'backbon',\n",
       " 'backburn',\n",
       " 'background',\n",
       " 'backward',\n",
       " 'bacteremia',\n",
       " 'bacteri',\n",
       " 'bacteria',\n",
       " 'bacteriolog',\n",
       " 'bacteriophag',\n",
       " 'bacterium',\n",
       " 'bacteriuria',\n",
       " 'bafilomycin',\n",
       " 'baicalin',\n",
       " 'baja',\n",
       " 'bal',\n",
       " 'balanc',\n",
       " 'balloon',\n",
       " 'band',\n",
       " 'bandwidth',\n",
       " 'bangladesh',\n",
       " 'bap',\n",
       " 'barcelona',\n",
       " 'bariatr',\n",
       " 'barn',\n",
       " 'barr',\n",
       " 'barrier',\n",
       " 'basal',\n",
       " 'base',\n",
       " 'baselin',\n",
       " 'basi',\n",
       " 'basic',\n",
       " 'basin',\n",
       " 'basolater',\n",
       " 'basophil',\n",
       " 'bath',\n",
       " 'batteri',\n",
       " 'bay',\n",
       " 'bayesian',\n",
       " 'bayley',\n",
       " 'bba',\n",
       " 'bbb',\n",
       " 'bbp',\n",
       " 'bbps',\n",
       " 'bcaa',\n",
       " 'bcl',\n",
       " 'bcr',\n",
       " 'bct',\n",
       " 'bcvi',\n",
       " 'bcvis',\n",
       " 'bddcs',\n",
       " 'bdfmri',\n",
       " 'bdi',\n",
       " 'bds',\n",
       " 'bead',\n",
       " 'beadchip',\n",
       " 'beam',\n",
       " 'bear',\n",
       " 'beat',\n",
       " 'becam',\n",
       " 'becaus',\n",
       " 'beck',\n",
       " 'beclin',\n",
       " 'becom',\n",
       " 'bed',\n",
       " 'bedcov',\n",
       " 'bedsid',\n",
       " 'befor',\n",
       " 'began',\n",
       " 'beget',\n",
       " 'begin',\n",
       " 'begun',\n",
       " 'behav',\n",
       " 'behavior',\n",
       " 'behaviour',\n",
       " 'behen',\n",
       " 'behr',\n",
       " 'beig',\n",
       " 'belarusian',\n",
       " 'beli',\n",
       " 'belief',\n",
       " 'believ',\n",
       " 'beliz',\n",
       " 'bell',\n",
       " 'belong',\n",
       " 'belonging',\n",
       " 'bench',\n",
       " 'benchmark',\n",
       " 'benefici',\n",
       " 'beneficiari',\n",
       " 'benefit',\n",
       " 'benign',\n",
       " 'bent',\n",
       " 'benzo',\n",
       " 'benzodiazepin',\n",
       " 'benzothiazol',\n",
       " 'ber',\n",
       " 'berghei',\n",
       " 'berlin',\n",
       " 'besid',\n",
       " 'best',\n",
       " 'beta',\n",
       " 'betk',\n",
       " 'better',\n",
       " 'beverag',\n",
       " 'bfdp',\n",
       " 'bfm',\n",
       " 'bia',\n",
       " 'bias',\n",
       " 'bibliograph',\n",
       " 'bibliographi',\n",
       " 'bibliometr',\n",
       " 'bidomain',\n",
       " 'bieti',\n",
       " 'bifida',\n",
       " 'bifront',\n",
       " 'big',\n",
       " 'bighorn',\n",
       " 'bik',\n",
       " 'bilater',\n",
       " 'bilay',\n",
       " 'bile',\n",
       " 'bilirubin',\n",
       " 'billion',\n",
       " 'binari',\n",
       " 'bind',\n",
       " 'bing',\n",
       " 'bio',\n",
       " 'bioactiv',\n",
       " 'bioapplic',\n",
       " 'bioavail',\n",
       " 'biobank',\n",
       " 'biochem',\n",
       " 'biochemistri',\n",
       " 'biodefens',\n",
       " 'biodistribut',\n",
       " 'biofeatur',\n",
       " 'biofeedback',\n",
       " 'biofilm',\n",
       " 'biofluid',\n",
       " 'biogenesi',\n",
       " 'bioinformat',\n",
       " 'biol',\n",
       " 'biolit',\n",
       " 'biolog',\n",
       " 'biomark',\n",
       " 'biomechan',\n",
       " 'biomed',\n",
       " 'biometr',\n",
       " 'biomimet',\n",
       " 'biomolecular',\n",
       " 'biomphalaria',\n",
       " 'biopharmaceut',\n",
       " 'biophys',\n",
       " 'bioprosthet',\n",
       " 'biopsi',\n",
       " 'bioreactor',\n",
       " 'biosensor',\n",
       " 'biosimilar',\n",
       " 'biospecimen',\n",
       " 'biosynthes',\n",
       " 'biosynthesi',\n",
       " 'biosynthet',\n",
       " 'bipartit',\n",
       " 'biphenyl',\n",
       " 'bipolar',\n",
       " 'birc',\n",
       " 'bird',\n",
       " 'birt',\n",
       " 'birth',\n",
       " 'birthweight',\n",
       " 'bisexu',\n",
       " 'bismuth',\n",
       " 'bisphenol',\n",
       " 'bisphosph',\n",
       " 'biss',\n",
       " 'bite',\n",
       " 'bitempor',\n",
       " 'bivari',\n",
       " 'bizarr',\n",
       " 'black',\n",
       " 'blackburn',\n",
       " 'bladder',\n",
       " 'bland',\n",
       " 'blast',\n",
       " 'blautia',\n",
       " 'blaz',\n",
       " 'bleed',\n",
       " 'blephar',\n",
       " 'blind',\n",
       " 'blink',\n",
       " 'blister',\n",
       " 'block',\n",
       " 'blockad',\n",
       " 'blocker',\n",
       " 'blood',\n",
       " 'bloodstream',\n",
       " 'blot',\n",
       " 'blow',\n",
       " 'blue',\n",
       " 'blunt',\n",
       " 'blur',\n",
       " 'bma',\n",
       " 'bmb',\n",
       " 'bmc',\n",
       " 'bmd',\n",
       " 'bmi',\n",
       " 'bmis',\n",
       " 'bmn',\n",
       " 'bmsc',\n",
       " 'bmscs',\n",
       " 'bnab',\n",
       " 'board',\n",
       " 'boca',\n",
       " 'bodi',\n",
       " 'bodili',\n",
       " 'bold',\n",
       " 'bolivia',\n",
       " 'bolster',\n",
       " 'bolus',\n",
       " 'bond',\n",
       " 'bone',\n",
       " 'bonferroni',\n",
       " 'boni',\n",
       " 'bont',\n",
       " 'book',\n",
       " 'boost',\n",
       " 'borderlin',\n",
       " 'born',\n",
       " 'borrow',\n",
       " 'boston',\n",
       " 'bothersom',\n",
       " 'bottl',\n",
       " 'bottleneck',\n",
       " 'botulinum',\n",
       " 'bougi',\n",
       " 'bound',\n",
       " 'boundari',\n",
       " 'bout',\n",
       " 'bowel',\n",
       " 'box',\n",
       " 'boy',\n",
       " 'bpd',\n",
       " 'bpv',\n",
       " 'bpvs',\n",
       " 'brace',\n",
       " 'bracket',\n",
       " 'brain',\n",
       " 'brainstem',\n",
       " 'branch',\n",
       " 'brand',\n",
       " 'braun',\n",
       " 'brazil',\n",
       " 'brca',\n",
       " 'brd',\n",
       " 'breach',\n",
       " 'bread',\n",
       " 'break',\n",
       " 'breakag',\n",
       " 'breakdown',\n",
       " 'breast',\n",
       " 'breastf',\n",
       " 'breastfe',\n",
       " 'breastfeed',\n",
       " 'breath',\n",
       " 'breslow',\n",
       " 'bridg',\n",
       " 'brief',\n",
       " 'briefli',\n",
       " 'bright',\n",
       " 'bring',\n",
       " 'british',\n",
       " 'broad',\n",
       " 'broaden',\n",
       " 'broader',\n",
       " 'broken',\n",
       " 'bromhexin',\n",
       " 'bromodomain',\n",
       " 'bronchial',\n",
       " 'bronchiti',\n",
       " 'bronchoalveolar',\n",
       " 'bronchopulmonari',\n",
       " 'bronchoscopi',\n",
       " 'bronchus',\n",
       " 'broth',\n",
       " 'brought',\n",
       " 'brown',\n",
       " 'brucella',\n",
       " 'brue',\n",
       " 'brunner',\n",
       " 'bsa',\n",
       " 'bsid',\n",
       " 'btx',\n",
       " 'bubo',\n",
       " 'buccal',\n",
       " 'budget',\n",
       " 'budtend',\n",
       " 'bueno',\n",
       " 'buffer',\n",
       " 'build',\n",
       " 'built',\n",
       " 'bukavu',\n",
       " 'bulb',\n",
       " 'bulimia',\n",
       " 'bulk',\n",
       " 'bundl',\n",
       " ...]"
      ]
     },
     "execution_count": 16,
     "metadata": {
      "tags": []
     },
     "output_type": "execute_result"
    }
   ],
   "source": [
    "tfidf_features_abs"
   ]
  },
  {
   "cell_type": "markdown",
   "metadata": {
    "id": "nObDwPzbRzO3"
   },
   "source": [
    "**Write function to get the top-k features associated with a document**"
   ]
  },
  {
   "cell_type": "code",
   "execution_count": null,
   "metadata": {
    "colab": {
     "base_uri": "https://localhost:8080/"
    },
    "id": "Efpv4SwBRxX1",
    "outputId": "96603f16-2a5f-4a23-d7e3-a47f8019bdd0"
   },
   "outputs": [
    {
     "data": {
      "text/plain": [
       "['cornea',\n",
       " 'discuss',\n",
       " 'wet',\n",
       " 'discomfort',\n",
       " 'situat',\n",
       " 'network',\n",
       " 'neural',\n",
       " 'seen',\n",
       " 'maintain',\n",
       " 'issu']"
      ]
     },
     "execution_count": 17,
     "metadata": {
      "tags": []
     },
     "output_type": "execute_result"
    }
   ],
   "source": [
    "# Function for returning the top_k features of an Abstract\n",
    "# or Title\n",
    "def get_top_features(rownum, weights, features, top_k=10):\n",
    "    weight_vec = weights.toarray()[rownum,:]\n",
    "    top_idx = np.argsort(weight_vec)[::-1][:top_k]\n",
    "    return [features[i] for i in top_idx]\n",
    "\n",
    "# Top k features of Abstract 1\n",
    "get_top_features(1, tfidf_weights_abs, tfidf_features_abs)"
   ]
  },
  {
   "cell_type": "code",
   "execution_count": null,
   "metadata": {
    "colab": {
     "base_uri": "https://localhost:8080/"
    },
    "id": "NdVFgUGnR7FT",
    "outputId": "fa79881c-7a6c-4b3a-928e-ecd2e4076ebe"
   },
   "outputs": [
    {
     "data": {
      "text/plain": [
       "['hot',\n",
       " 'discuss',\n",
       " 'cornea',\n",
       " 'anterior',\n",
       " 'isopt',\n",
       " 'segment',\n",
       " 'topic',\n",
       " 'panel',\n",
       " 'diseas',\n",
       " 'clinic']"
      ]
     },
     "execution_count": 18,
     "metadata": {
      "tags": []
     },
     "output_type": "execute_result"
    }
   ],
   "source": [
    "# Top k features of Title 1\n",
    "get_top_features(1, tfidf_weights_title, tfidf_features_title)"
   ]
  },
  {
   "cell_type": "markdown",
   "metadata": {
    "id": "uhNFTcNAUB7I"
   },
   "source": [
    "**Build Nearest Neighbors model using Abstract and Title TF-IDF matrices**"
   ]
  },
  {
   "cell_type": "code",
   "execution_count": null,
   "metadata": {
    "id": "C6eKPtIFUCxb"
   },
   "outputs": [],
   "source": [
    "\n",
    "# Build model to return 5 closest neighbors\n",
    "from sklearn.neighbors import NearestNeighbors\n",
    "\n",
    "# Create the k-NN model using k=5\n",
    "nn_abs = NearestNeighbors(n_neighbors=5, algorithm='auto')\n",
    "nn_title = NearestNeighbors(n_neighbors=5, algorithm='auto')\n",
    "\n",
    "# Fit the models to the TF-IDF weights matrix\n",
    "nn_fitted_abs = nn_abs.fit(tfidf_weights_abs)\n",
    "nn_fitted_title = nn_title.fit(tfidf_weights_title)\n",
    "\n",
    "# function to return the top-k nearest papers\n",
    "\n",
    "def find_nearest_papers(row, kNNmodel, tfidf_weights, tfidf_features, papers):\n",
    "    keywords = get_top_features(row, tfidf_weights, tfidf_features)\n",
    "    dist,idx = kNNmodel.kneighbors(tfidf_weights[row,:])\n",
    "    idx = list(idx[0])\n",
    "    return {'papers':papers.iloc[idx], 'keywords':keywords}"
   ]
  },
  {
   "cell_type": "markdown",
   "metadata": {
    "id": "ugxy4rFzUacM"
   },
   "source": [
    "**Return papers based on Abstract similarity**\n",
    "\n",
    "Now that we have a function to return similar papers, we can use it to find papers with similar abstracts. We can return Authors, Title, or Abstract of similar matches"
   ]
  },
  {
   "cell_type": "code",
   "execution_count": null,
   "metadata": {
    "colab": {
     "base_uri": "https://localhost:8080/",
     "height": 342
    },
    "id": "jkdd8AtbUcqp",
    "outputId": "51b95914-3c3e-4e1e-9e2e-8f0f4c9808bd"
   },
   "outputs": [
    {
     "data": {
      "text/html": [
       "<div>\n",
       "<style scoped>\n",
       "    .dataframe tbody tr th:only-of-type {\n",
       "        vertical-align: middle;\n",
       "    }\n",
       "\n",
       "    .dataframe tbody tr th {\n",
       "        vertical-align: top;\n",
       "    }\n",
       "\n",
       "    .dataframe thead th {\n",
       "        text-align: right;\n",
       "    }\n",
       "</style>\n",
       "<table border=\"1\" class=\"dataframe\">\n",
       "  <thead>\n",
       "    <tr style=\"text-align: right;\">\n",
       "      <th></th>\n",
       "      <th>title</th>\n",
       "      <th>authors</th>\n",
       "      <th>abstract</th>\n",
       "      <th>clean_abstract</th>\n",
       "      <th>clean_title</th>\n",
       "    </tr>\n",
       "  </thead>\n",
       "  <tbody>\n",
       "    <tr>\n",
       "      <th>1</th>\n",
       "      <td>ISOPT Clinical Hot Topic Panel Discussion on C...</td>\n",
       "      <td>[Asbell PA, Aquavella JV, Hamrah P, Pepose JS,...</td>\n",
       "      <td>The cornea and its adnexa pose a unique situat...</td>\n",
       "      <td>the cornea and its adnexa pose a unique situat...</td>\n",
       "      <td>isopt clinical hot topic panel discussion on c...</td>\n",
       "    </tr>\n",
       "    <tr>\n",
       "      <th>157</th>\n",
       "      <td>Functional network connectivity impairments an...</td>\n",
       "      <td>[Adhikari BM, Hong LE, Sampath H, Chiappelli J...</td>\n",
       "      <td>Cognitive deficits contribute to functional di...</td>\n",
       "      <td>cognitive deficits contribute to functional di...</td>\n",
       "      <td>functional network connectivity impairments an...</td>\n",
       "    </tr>\n",
       "    <tr>\n",
       "      <th>71</th>\n",
       "      <td>Resting-state fMRI dynamic functional network ...</td>\n",
       "      <td>[Espinoza FA, Anderson NE, Vergara VM, Harensk...</td>\n",
       "      <td>Studies have used resting-state functional mag...</td>\n",
       "      <td>studies have used resting state functional mag...</td>\n",
       "      <td>resting state fmri dynamic functional network ...</td>\n",
       "    </tr>\n",
       "    <tr>\n",
       "      <th>372</th>\n",
       "      <td>The spatial chronnectome reveals a dynamic int...</td>\n",
       "      <td>[Iraji A, Deramus TP, Lewis N, Yaesoubi M, Ste...</td>\n",
       "      <td>The brain is highly dynamic, reorganizing its ...</td>\n",
       "      <td>the brain is highly dynamic reorganizing its a...</td>\n",
       "      <td>the spatial chronnectome reveals a dynamic int...</td>\n",
       "    </tr>\n",
       "    <tr>\n",
       "      <th>453</th>\n",
       "      <td>Force of Habit: Developing Situation Awareness...</td>\n",
       "      <td>[Lauria MJ, Ghobrial MK, Hicks CM]</td>\n",
       "      <td>Situation awareness (SA) is a vital cognitive ...</td>\n",
       "      <td>situation awareness sa is a vital cognitive sk...</td>\n",
       "      <td>force of habit developing situation awareness ...</td>\n",
       "    </tr>\n",
       "  </tbody>\n",
       "</table>\n",
       "</div>"
      ],
      "text/plain": [
       "                                                 title  ...                                        clean_title\n",
       "1    ISOPT Clinical Hot Topic Panel Discussion on C...  ...  isopt clinical hot topic panel discussion on c...\n",
       "157  Functional network connectivity impairments an...  ...  functional network connectivity impairments an...\n",
       "71   Resting-state fMRI dynamic functional network ...  ...  resting state fmri dynamic functional network ...\n",
       "372  The spatial chronnectome reveals a dynamic int...  ...  the spatial chronnectome reveals a dynamic int...\n",
       "453  Force of Habit: Developing Situation Awareness...  ...  force of habit developing situation awareness ...\n",
       "\n",
       "[5 rows x 5 columns]"
      ]
     },
     "execution_count": 20,
     "metadata": {
      "tags": []
     },
     "output_type": "execute_result"
    }
   ],
   "source": [
    "find_nearest_papers(1, nn_fitted_abs, tfidf_weights_abs, tfidf_features_abs, papers)['papers']"
   ]
  },
  {
   "cell_type": "markdown",
   "metadata": {
    "id": "L95L6td-UfYg"
   },
   "source": [
    "**Return papers based on Title similarity**\n",
    "\n",
    "Now that we have a function to return similar papers, we can use it to find papers with similar Titles. We can return Authors, Title, or Abstract of similar matches"
   ]
  },
  {
   "cell_type": "code",
   "execution_count": null,
   "metadata": {
    "colab": {
     "base_uri": "https://localhost:8080/",
     "height": 342
    },
    "id": "FoCrp3s3UjuH",
    "outputId": "01d26471-6cc4-47b8-a980-dd60b1612a04"
   },
   "outputs": [
    {
     "data": {
      "text/html": [
       "<div>\n",
       "<style scoped>\n",
       "    .dataframe tbody tr th:only-of-type {\n",
       "        vertical-align: middle;\n",
       "    }\n",
       "\n",
       "    .dataframe tbody tr th {\n",
       "        vertical-align: top;\n",
       "    }\n",
       "\n",
       "    .dataframe thead th {\n",
       "        text-align: right;\n",
       "    }\n",
       "</style>\n",
       "<table border=\"1\" class=\"dataframe\">\n",
       "  <thead>\n",
       "    <tr style=\"text-align: right;\">\n",
       "      <th></th>\n",
       "      <th>title</th>\n",
       "      <th>authors</th>\n",
       "      <th>abstract</th>\n",
       "      <th>clean_abstract</th>\n",
       "      <th>clean_title</th>\n",
       "    </tr>\n",
       "  </thead>\n",
       "  <tbody>\n",
       "    <tr>\n",
       "      <th>1</th>\n",
       "      <td>ISOPT Clinical Hot Topic Panel Discussion on C...</td>\n",
       "      <td>[Asbell PA, Aquavella JV, Hamrah P, Pepose JS,...</td>\n",
       "      <td>The cornea and its adnexa pose a unique situat...</td>\n",
       "      <td>the cornea and its adnexa pose a unique situat...</td>\n",
       "      <td>isopt clinical hot topic panel discussion on c...</td>\n",
       "    </tr>\n",
       "    <tr>\n",
       "      <th>511</th>\n",
       "      <td>Racial variation in the complexity of coronary...</td>\n",
       "      <td>[Elbadawi A, Alotaki E, Vazquez C, Barssoum K,...</td>\n",
       "      <td>BACKGROUND: Racial variations in presentation ...</td>\n",
       "      <td>background racial variations in presentation o...</td>\n",
       "      <td>racial variation in the complexity of coronary...</td>\n",
       "    </tr>\n",
       "    <tr>\n",
       "      <th>234</th>\n",
       "      <td>Critical developments of 2018: A review of the...</td>\n",
       "      <td>[Cohn CS, Allen ES, Cushing MM, Dunbar NM, Fri...</td>\n",
       "      <td>BACKGROUND: The AABB compiles an annual synops...</td>\n",
       "      <td>background the aabb compiles an annual synopsi...</td>\n",
       "      <td>critical developments of a review of the liter...</td>\n",
       "    </tr>\n",
       "    <tr>\n",
       "      <th>266</th>\n",
       "      <td>Development and Validation of a MicroRNA Panel...</td>\n",
       "      <td>[Ormseth MJ, Solus JF, Sheng Q, Ye F, Wu Q, Gu...</td>\n",
       "      <td>OBJECTIVE: MicroRNA (miRNA) are short noncodin...</td>\n",
       "      <td>objective microrna mirna are short noncoding r...</td>\n",
       "      <td>development and validation of a microrna panel...</td>\n",
       "    </tr>\n",
       "    <tr>\n",
       "      <th>665</th>\n",
       "      <td>A Simple Framework for Weighting Panels Across...</td>\n",
       "      <td>[Kamnetz S, Trowbridge E, Lochner J, Koslov S,...</td>\n",
       "      <td>BACKGROUND: Health system redesign necessitate...</td>\n",
       "      <td>background health system redesign necessitates...</td>\n",
       "      <td>a simple framework for weighting panels across...</td>\n",
       "    </tr>\n",
       "  </tbody>\n",
       "</table>\n",
       "</div>"
      ],
      "text/plain": [
       "                                                 title  ...                                        clean_title\n",
       "1    ISOPT Clinical Hot Topic Panel Discussion on C...  ...  isopt clinical hot topic panel discussion on c...\n",
       "511  Racial variation in the complexity of coronary...  ...  racial variation in the complexity of coronary...\n",
       "234  Critical developments of 2018: A review of the...  ...  critical developments of a review of the liter...\n",
       "266  Development and Validation of a MicroRNA Panel...  ...  development and validation of a microrna panel...\n",
       "665  A Simple Framework for Weighting Panels Across...  ...  a simple framework for weighting panels across...\n",
       "\n",
       "[5 rows x 5 columns]"
      ]
     },
     "execution_count": 21,
     "metadata": {
      "tags": []
     },
     "output_type": "execute_result"
    }
   ],
   "source": [
    "find_nearest_papers(1, nn_fitted_title, tfidf_weights_title, tfidf_features_title, papers)['papers']"
   ]
  },
  {
   "cell_type": "markdown",
   "metadata": {
    "id": "pImzHOpQVXQv"
   },
   "source": [
    "**Let's find similar articles using Abstract similarity**"
   ]
  },
  {
   "cell_type": "code",
   "execution_count": null,
   "metadata": {
    "colab": {
     "base_uri": "https://localhost:8080/",
     "height": 98
    },
    "id": "Gw71bdocVck0",
    "outputId": "82eb4594-e4ec-4554-e404-c6909f4713a1"
   },
   "outputs": [
    {
     "data": {
      "text/html": [
       "<div>\n",
       "<style scoped>\n",
       "    .dataframe tbody tr th:only-of-type {\n",
       "        vertical-align: middle;\n",
       "    }\n",
       "\n",
       "    .dataframe tbody tr th {\n",
       "        vertical-align: top;\n",
       "    }\n",
       "\n",
       "    .dataframe thead th {\n",
       "        text-align: right;\n",
       "    }\n",
       "</style>\n",
       "<table border=\"1\" class=\"dataframe\">\n",
       "  <thead>\n",
       "    <tr style=\"text-align: right;\">\n",
       "      <th></th>\n",
       "      <th>title</th>\n",
       "      <th>authors</th>\n",
       "      <th>abstract</th>\n",
       "      <th>clean_abstract</th>\n",
       "      <th>clean_title</th>\n",
       "    </tr>\n",
       "  </thead>\n",
       "  <tbody>\n",
       "    <tr>\n",
       "      <th>4</th>\n",
       "      <td>A contemporary review of obstructive sleep apnea.</td>\n",
       "      <td>[Ralls F, Cutchen L]</td>\n",
       "      <td>PURPOSE OF REVIEW: This review provides a cont...</td>\n",
       "      <td>purpose of review this review provides a conte...</td>\n",
       "      <td>a contemporary review of obstructive sleep apnea</td>\n",
       "    </tr>\n",
       "  </tbody>\n",
       "</table>\n",
       "</div>"
      ],
      "text/plain": [
       "                                               title  ...                                        clean_title\n",
       "4  A contemporary review of obstructive sleep apnea.  ...  a contemporary review of obstructive sleep apnea \n",
       "\n",
       "[1 rows x 5 columns]"
      ]
     },
     "execution_count": 22,
     "metadata": {
      "tags": []
     },
     "output_type": "execute_result"
    }
   ],
   "source": [
    "title = \"A contemporary review of obstructive sleep apnea.\" #provide actual name of a paper\n",
    "papers[papers['title']==title]"
   ]
  },
  {
   "cell_type": "code",
   "execution_count": null,
   "metadata": {
    "colab": {
     "base_uri": "https://localhost:8080/"
    },
    "id": "ySKDGpRIVv17",
    "outputId": "67d81b41-4ea4-473f-8f56-7f899adb6c9c"
   },
   "outputs": [
    {
     "name": "stdout",
     "output_type": "stream",
     "text": [
      "Keywords:  sleep\n",
      "Keywords:  amyloid\n",
      "Keywords:  osa\n",
      "Keywords:  apnea\n",
      "Keywords:  breath\n",
      "Keywords:  elder\n",
      "Keywords:  review\n",
      "Keywords:  acid\n",
      "Keywords:  gaba\n",
      "Keywords:  excitatori\n"
     ]
    }
   ],
   "source": [
    "nearest_papers = find_nearest_papers(4, nn_fitted_abs, tfidf_weights_abs, tfidf_features_abs, papers)\n",
    "for i in nearest_papers['keywords']: print (\"Keywords: \", i)"
   ]
  },
  {
   "cell_type": "code",
   "execution_count": null,
   "metadata": {
    "colab": {
     "base_uri": "https://localhost:8080/"
    },
    "id": "66ML7so9VzDc",
    "outputId": "21225ad1-db7b-4e7f-c945-b87407eedd5a"
   },
   "outputs": [
    {
     "name": "stdout",
     "output_type": "stream",
     "text": [
      "Abstract: PURPOSE OF REVIEW: This review provides a contemporary review of sleep apnea with emphasis on definitions, epidemiology, and consequences. RECENT FINDINGS: Amyloid beta-42 is one of the main peptides forming amyloid plaques in the brains of Alzheimer patients. Poorer sleep quality and shorter sleep duration have been associated with a higher amyloid burden. Decreased sleep time in the elderly is a precipitating factor in amyloid retention. Studies have shown that the dysregulation of the homeostatic balance of the major inhibitory and excitatory amino acid neurotransmitter systems of gamma-aminobutyric acid (GABA) and glutamate play a role in sleep disordered breathing (SDB). SUMMARY: Untreated sleep disordered breathing (obstructive sleep apnea and/or central sleep apnea) are an important cause of medical mortality and morbidity. OSA is characterized by recurrent episodes of partial or complete collapse of the upper airway during sleep followed by hypoxia and sympathetic activation. Apneic events are terminated by arousal, followed by increases in pulse and blood pressure, and re-oxygenation and the release of inflammatory factors. Individuals with OSA have an increased risk of developing atrial fibrillation. Hypoxemia and poor sleep quality because of OSA increase the risk of cognitive decline in the elderly.\n",
      "\n",
      "Abstract: Sleep-disordered breathing (SDB), including OSA and central sleep apnea, is highly prevalent in patients with heart failure (HF). Multiple studies have reported this high prevalence in asymptomatic as well as symptomatic patients with reduced left ventricular ejection fraction (HFrEF), as well as in those with HF with preserved ejection fraction. The acute pathobiologic consequences of OSA, including exaggerated sympathetic activity, oxidative stress, and inflammation, eventually could lead to progressive left ventricular dysfunction, repeated hospitalization, and excessive mortality. Large numbers of observational studies and a few small randomized controlled trials have shown improvement in various cardiovascular consequences of SDB with treatment. There are no long-term randomized controlled trials to show improved survival of patients with HF and treatment of OSA. One trial of positive airway pressure treatment of OSA included patients with HF and showed no improvement in clinical outcomes. However, any conclusions derived from this trial must take into account several important pitfalls that have been extensively discussed in the literature. With the role of positive airway pressure as the sole therapy for SDB in HF increasingly questioned, a critical examination of long-accepted concepts in this field is needed. The objective of this review was to incorporate recent advances in the field into a phenotype-based approach to the management of OSA in HF.\n",
      "\n",
      "Abstract: PURPOSE OF REVIEW: To understand the importance of rapid eye movement (REM) sleep in the cognitive and sensorimotor development via neural plasticity during embryonic development and infants. RECENT FINDINGS: REM sleep has remained a mystery as many of the underlying mechanisms of REM sleep remain unclear. Recent findings have demonstrated that REM sleep selectively prunes newly formed dendritic spines in the developing brain as well as strengthening new synapses in the developing brain. This process is critical for normal neuronal circuit development and behavioral improvement after learning. SUMMARY: Although many mechanisms of REM sleep remain unclear, recent findings strongly suggest that REM sleep is vitally important in pruning synapses as well as maintaining new synapses for the development of a healthy brain. Developmental neuroplasticity refers to the continuous change of the developing brain during fetal development. Lack of plasticity may result in reduced intellectual ability, reduced learning and memory consolidation, and mental illness.\n",
      "\n",
      "Abstract: Sleep is critically important to consolidate information learned throughout the day. Slow-wave sleep (SWS) serves to consolidate declarative memories, a process previously modulated with open-loop non-invasive electrical stimulation, though not always effectively. These failures to replicate could be explained by the fact that stimulation has only been performed in open-loop, as opposed to closed-loop where phase and frequency of the endogenous slow-wave oscillations (SWOs) are matched for optimal timing. The current study investigated the effects of closed-loop transcranial Alternating Current Stimulation (tACS) targeting SWOs during sleep on memory consolidation. 21 participants took part in a three-night, counterbalanced, randomized, single-blind, within-subjects study, investigating performance changes (correct rate and F1 score) on images in a target detection task over 24 h. During sleep, 1.5 mA closed-loop tACS was delivered in phase over electrodes at F3 and F4 and 180 degrees out of phase over electrodes at bilateral mastoids at the frequency (range 0.5-1.2 Hz) and phase of ongoing SWOs for a duration of 5 cycles in each discrete event throughout the night. Data were analyzed in a repeated measures ANOVA framework, and results show that verum stimulation improved post-sleep performance specifically on generalized versions of images used in training at both morning and afternoon tests compared to sham, suggesting the facilitation of schematization of information, but not of rote, veridical recall. We also found a surprising inverted U-shaped dose effect of sleep tACS, which is interpreted in terms of tACS-induced faciliatory and subsequent refractory dynamics of SWO power in scalp EEG. This is the first study showing a selective modulation of long-term memory generalization using a novel closed-loop tACS approach, which holds great potential for both healthy and neuropsychiatric populations.\n",
      "\n",
      "Abstract: OBJECTIVE: To describe sociodemographic factors and health behaviors among American Indian (AI) families with young children and determine predictors of adult and child weight status among these factors. DESIGN: Descriptive, cross-sectional baseline data. SETTING: One urban area and 4 rural AI reservations nationwide. PARTICIPANTS: A total of 450 AI families with children aged 2-5 years participating in the Healthy Children, Strong Families 2 intervention. INTERVENTION: Baseline data from a healthy lifestyles intervention. MAIN OUTCOME MEASURES: Child body mass index (BMI) z-score and adult BMI, and multiple healthy lifestyle outcomes. ANALYSIS: Descriptive statistics and stepwise regression. RESULTS: Adult and child combined overweight and obesity rates were high: 82% and 40%, respectively. Food insecurity was high (61%). Multiple lifestyle behaviors, including fruit and vegetable and sugar-sweetened beverage consumption, adult physical activity, and child screen time, did not meet national recommendations. Adult sleep was adequate but children had low overnight sleep duration of 10 h/d. Significant predictors of child obesity included more adults in the household (P = .003; beta = 0.153), an adult AI caregiver (P = .02; beta = 0.116), high adult BMI (P = .001; beta = 0.176), gestational diabetes, high child birth weight (P < .001; beta = 0.247), and the family activity and nutrition score (P = .04; beta = 0.130). CONCLUSIONS AND IMPLICATIONS: We found multiple child-, adult-, and household-level factors influence early childhood obesity in AI children, highlighting the need for interventions to mitigate the modifiable factors identified in this study, including early life influences, home environments, and health behaviors.\n",
      "\n"
     ]
    }
   ],
   "source": [
    "# Show the abstracts of similar papers\n",
    "for i in nearest_papers['papers']['abstract']: print (\"Abstract: \"+i+\"\\n\")"
   ]
  },
  {
   "cell_type": "markdown",
   "metadata": {
    "id": "ijj53-6cV58T"
   },
   "source": [
    "Applying k-Nearest Neighbors to TF-IDF weights matrix seems to be pretty effective at returning similar articles. The parameters that were chosen to build the TF-IDF models and k-Nearest Neighbors models were somewhat arbitrary. It would be resonable to assume that the accuracy of document retrieval could be improved if more time was invested in selecting optimal tuning parameters."
   ]
  },
  {
   "cell_type": "markdown",
   "metadata": {
    "id": "eCui25VcjJ0Q"
   },
   "source": [
    "Try optimizing this one with K-means, Agglomerative clustering and DBSCAN."
   ]
  }
 ],
 "metadata": {
  "colab": {
   "collapsed_sections": [],
   "name": "Information Retreival.ipynb",
   "provenance": []
  },
  "kernelspec": {
   "display_name": "Python 3",
   "language": "python",
   "name": "python3"
  },
  "language_info": {
   "codemirror_mode": {
    "name": "ipython",
    "version": 3
   },
   "file_extension": ".py",
   "mimetype": "text/x-python",
   "name": "python",
   "nbconvert_exporter": "python",
   "pygments_lexer": "ipython3",
   "version": "3.8.8"
  }
 },
 "nbformat": 4,
 "nbformat_minor": 1
}
