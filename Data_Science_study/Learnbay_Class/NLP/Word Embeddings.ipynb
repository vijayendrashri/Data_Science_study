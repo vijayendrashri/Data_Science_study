{
 "cells": [
  {
   "cell_type": "markdown",
   "metadata": {
    "id": "61npX6ajxxej"
   },
   "source": [
    "## Bag of Words"
   ]
  },
  {
   "cell_type": "markdown",
   "metadata": {
    "id": "jG04tIcvn8-k"
   },
   "source": [
    "![alt text](https://cdn-media-1.freecodecamp.org/images/qRGh8boBcLLQfBvDnWTXKxZIEAk5LNfNABHF)"
   ]
  },
  {
   "cell_type": "markdown",
   "metadata": {
    "id": "kyKhu535oK8Z"
   },
   "source": [
    "Bag of Words (BOW) is a method to extract features from text documents. These features can be used for training machine learning algorithms. It creates a vocabulary of all the unique words occurring in all the documents in the training set.\n",
    "\n",
    "In simple terms, it’s a collection of words to represent a sentence with word count and mostly disregarding the order in which they appear.\n",
    "\n",
    "BOW is an approach widely used with:\n",
    "\n",
    "* Natural language processing\n",
    "* Information retrieval from documents\n",
    "* Document classifications"
   ]
  },
  {
   "cell_type": "markdown",
   "metadata": {
    "id": "ZbeniDfMoW2m"
   },
   "source": [
    "Let’s start with an example to understand by taking some sentences and generating vectors for those.\n",
    "\n",
    "1. \"John likes to watch movies. Mary likes movies too\"\n",
    "2. \"John also likes to watch football games\""
   ]
  },
  {
   "cell_type": "markdown",
   "metadata": {
    "id": "LsAWDjr_oiXv"
   },
   "source": [
    "Further, for each sentence, remove multiple occurrences of the word and use the word count to represent this."
   ]
  },
  {
   "cell_type": "markdown",
   "metadata": {
    "ExecuteTime": {
     "end_time": "2021-08-11T18:31:46.235757Z",
     "start_time": "2021-08-11T18:31:46.229237Z"
    },
    "colab": {
     "base_uri": "https://localhost:8080/",
     "height": 130
    },
    "executionInfo": {
     "elapsed": 1011,
     "status": "error",
     "timestamp": 1602816801120,
     "user": {
      "displayName": "Amritansh",
      "photoUrl": "https://lh3.googleusercontent.com/a-/AOh14GgOCYlsiZRYcdJh6VY2t9-yeGLukPvYWiiCX8ml8Q=s64",
      "userId": "03960123936802677440"
     },
     "user_tz": -330
    },
    "id": "ZjCMcVOHnvtQ",
    "outputId": "a1aa02c5-8d66-4fd9-c9f6-826ae4840c95"
   },
   "source": [
    "1. {\"John\":1,\"likes\":2,\"to\":1,\"watch\":1,\"movies\":2,\"Mary\":1,\"too\":1}\n",
    "2. {\"John\":1,\"also\":1,\"likes\":1,\"to\":1,\"watch\":1,\"football\":1,\"games\":1}"
   ]
  },
  {
   "cell_type": "markdown",
   "metadata": {
    "id": "rJuyU6UForrJ"
   },
   "source": [
    "Assuming these sentences are part of a document, below is the combined word frequency for our entire document. Both sentences are taken into account."
   ]
  },
  {
   "cell_type": "code",
   "execution_count": 1,
   "metadata": {
    "ExecuteTime": {
     "end_time": "2021-08-12T06:46:58.618317Z",
     "start_time": "2021-08-12T06:46:58.598872Z"
    },
    "colab": {
     "base_uri": "https://localhost:8080/"
    },
    "executionInfo": {
     "elapsed": 1124,
     "status": "ok",
     "timestamp": 1620357062573,
     "user": {
      "displayName": "Amritansh",
      "photoUrl": "https://lh3.googleusercontent.com/a-/AOh14GgOCYlsiZRYcdJh6VY2t9-yeGLukPvYWiiCX8ml8Q=s64",
      "userId": "03960123936802677440"
     },
     "user_tz": -330
    },
    "id": "3Ri81-fGot1V",
    "outputId": "82ae1e3c-199f-431d-aa10-17be248954b2"
   },
   "outputs": [
    {
     "data": {
      "text/plain": [
       "{'John': 2,\n",
       " 'likes': 3,\n",
       " 'to': 2,\n",
       " 'watch': 2,\n",
       " 'movies': 2,\n",
       " 'Mary': 1,\n",
       " 'too': 1,\n",
       " 'also': 1,\n",
       " 'football': 1,\n",
       " 'games': 1}"
      ]
     },
     "execution_count": 1,
     "metadata": {},
     "output_type": "execute_result"
    }
   ],
   "source": [
    "{\"John\":2,\"likes\":3,\"to\":2,\"watch\":2,\"movies\":2,\"Mary\":1,\"too\":1,  \"also\":1,\"football\":1,\"games\":1}"
   ]
  },
  {
   "cell_type": "markdown",
   "metadata": {
    "id": "vS2q4K9MsVY9"
   },
   "source": [
    "**The length of the vector will always be equal to vocabulary size. In this case the vector length is 10.**"
   ]
  },
  {
   "cell_type": "markdown",
   "metadata": {
    "id": "oUxIFxlRsgLk"
   },
   "source": [
    "In order to represent our original sentences in a vector, each vector is initialized with all zeros — [0, 0, 0, 0, 0, 0, 0, 0, 0, 0]\n",
    "\n",
    "This is followed by iteration and comparison with each word in our vocabulary, and incrementing the vector value if the sentence has that word.\n",
    "\n",
    "John likes to watch movies. Mary likes movies too: [1, 2, 1, 1, 2, 1, 1, 0, 0, 0]\n",
    "\n",
    "John also likes to watch football games: [1, 1, 1, 1, 0, 0, 0, 1, 1, 1]\n",
    "\n",
    "For example, in sentence 1 the word likes appears in second position and appears two times. So the second element of our vector for sentence 1 will be 2: [1, 2, 1, 1, 2, 1, 1, 0, 0, 0]\n",
    "\n",
    "The vector is always proportional to the size of our vocabulary.\n",
    "\n",
    "A big document where the generated vocabulary is huge may result in a vector with lots of 0 values. This is called a sparse vector. Sparse vectors require more memory and computational resources when modeling. The vast number of positions or dimensions can make the modeling process very challenging for traditional algorithms."
   ]
  },
  {
   "cell_type": "code",
   "execution_count": 2,
   "metadata": {
    "ExecuteTime": {
     "end_time": "2021-08-12T06:47:02.833871Z",
     "start_time": "2021-08-12T06:46:58.621445Z"
    },
    "colab": {
     "base_uri": "https://localhost:8080/"
    },
    "executionInfo": {
     "elapsed": 399,
     "status": "ok",
     "timestamp": 1626191295215,
     "user": {
      "displayName": "Amritansh",
      "photoUrl": "https://lh3.googleusercontent.com/a-/AOh14GgOCYlsiZRYcdJh6VY2t9-yeGLukPvYWiiCX8ml8Q=s64",
      "userId": "03960123936802677440"
     },
     "user_tz": -330
    },
    "id": "XF_CFDB8o5ql",
    "outputId": "22f12e2c-24dc-4065-dffd-e987e3ce2dc5"
   },
   "outputs": [
    {
     "name": "stdout",
     "output_type": "stream",
     "text": [
      "Word List for Document \n",
      "['and', 'arrived', 'at', 'bus', 'but', 'early', 'for', 'i', 'joe', 'late', 'looked', 'mary', 'noon', 'samantha', 'station', 'took', 'train', 'until', 'waited', 'was'] \n",
      "\n",
      "joe waited for the train \n",
      "[0. 0. 0. 0. 0. 0. 1. 0. 1. 0. 0. 0. 0. 0. 0. 0. 1. 0. 1. 0.]\n",
      "\n",
      "the train was late \n",
      "[0. 0. 0. 0. 0. 0. 0. 0. 0. 1. 0. 0. 0. 0. 0. 0. 1. 0. 0. 1.]\n",
      "\n",
      "mary and samantha took the bus \n",
      "[1. 0. 0. 1. 0. 0. 0. 0. 0. 0. 0. 1. 0. 1. 0. 1. 0. 0. 0. 0.]\n",
      "\n",
      "i looked for mary and samantha at the bus station \n",
      "[1. 0. 1. 1. 0. 0. 1. 1. 0. 0. 1. 1. 0. 1. 1. 0. 0. 0. 0. 0.]\n",
      "\n",
      "mary and samantha arrived at the bus station early but waited until noon for the bus \n",
      "[1. 1. 1. 2. 1. 1. 1. 0. 0. 0. 0. 1. 1. 1. 1. 0. 0. 1. 1. 0.]\n",
      "\n",
      "[[0 0 0 0 0 0 1 1 0 0 0 0 0 0 1 0 1 0 1 0]\n",
      " [0 0 0 0 0 0 0 0 1 0 0 0 0 0 1 0 1 0 0 1]\n",
      " [1 0 0 1 0 0 0 0 0 0 1 0 1 0 1 1 0 0 0 0]\n",
      " [1 0 1 1 0 0 1 0 0 1 1 0 1 1 1 0 0 0 0 0]\n",
      " [1 1 1 2 1 1 1 0 0 0 1 1 1 1 2 0 0 1 1 0]]\n"
     ]
    }
   ],
   "source": [
    "import numpy\n",
    "import re\n",
    "\n",
    "'''\n",
    "Tokenize each the sentences, example\n",
    "Input : \"John likes to watch movies. Mary likes movies too\"\n",
    "Ouput : \"John\",\"likes\",\"to\",\"watch\",\"movies\",\"Mary\",\"likes\",\"movies\",\"too\"\n",
    "'''\n",
    "def tokenize(sentences):\n",
    "    words = []\n",
    "    for sentence in sentences:\n",
    "        w = word_extraction(sentence)\n",
    "        words.extend(w)\n",
    "        \n",
    "    words = sorted(list(set(words)))\n",
    "    return words\n",
    "\n",
    "def word_extraction(sentence):\n",
    "    ignore = ['a', \"the\", \"is\"]\n",
    "    words = re.sub(\"[^\\w]\", \" \",  sentence).split() # \\w = [a-zA-Z0-9_]\n",
    "    cleaned_text = [w.lower() for w in words if w not in ignore]\n",
    "    return cleaned_text    \n",
    "    \n",
    "def generate_bow(allsentences):    \n",
    "    vocab = tokenize(allsentences)\n",
    "    print(\"Word List for Document \\n{0} \\n\".format(vocab));\n",
    "\n",
    "    for sentence in allsentences:\n",
    "        words = word_extraction(sentence)\n",
    "        bag_vector = numpy.zeros(len(vocab))\n",
    "        for w in words:\n",
    "            for i,word in enumerate(vocab):\n",
    "                if word == w: \n",
    "                    bag_vector[i] += 1\n",
    "                    \n",
    "        print(\"{0} \\n{1}\\n\".format(sentence,numpy.array(bag_vector)))\n",
    "\n",
    "\n",
    "allsentences = [\"joe waited for the train\", \"the train was late\", \"mary and samantha took the bus\", \n",
    "            \"i looked for mary and samantha at the bus station\", \n",
    "            \"mary and samantha arrived at the bus station early but waited until noon for the bus\"]\n",
    "\n",
    "\n",
    "generate_bow(allsentences)\n",
    "\n",
    "# or one can use sklearn\n",
    "\n",
    "from sklearn.feature_extraction.text import CountVectorizer\n",
    "vectorizer = CountVectorizer()\n",
    "X = vectorizer.fit_transform(allsentences)\n",
    "print(X.toarray())"
   ]
  },
  {
   "cell_type": "markdown",
   "metadata": {
    "id": "2XjyLHxfvna9"
   },
   "source": [
    "### Limitations of BOW\n",
    "\n",
    "**Semantic meaning**: the basic BOW approach does not consider the meaning of the word in the document. It completely ignores the context in which it’s used. The same word can be used in multiple places based on the context or nearby words.\n",
    "\n",
    "**Vector size**: For a large document, the vector size can be huge resulting in a lot of computation and time. You may need to ignore words based on relevance to your use case."
   ]
  },
  {
   "cell_type": "markdown",
   "metadata": {
    "id": "AggHl0qqxtV0"
   },
   "source": [
    "## Bi-gram / N-gram"
   ]
  },
  {
   "cell_type": "code",
   "execution_count": 3,
   "metadata": {
    "ExecuteTime": {
     "end_time": "2021-08-12T06:47:04.924752Z",
     "start_time": "2021-08-12T06:47:02.840289Z"
    },
    "colab": {
     "base_uri": "https://localhost:8080/"
    },
    "executionInfo": {
     "elapsed": 2109,
     "status": "ok",
     "timestamp": 1626273586374,
     "user": {
      "displayName": "Amritansh",
      "photoUrl": "https://lh3.googleusercontent.com/a-/AOh14GgOCYlsiZRYcdJh6VY2t9-yeGLukPvYWiiCX8ml8Q=s64",
      "userId": "03960123936802677440"
     },
     "user_tz": -330
    },
    "id": "LyVMK1hxzJ6L",
    "outputId": "5aa8bb67-1790-4e70-9e9e-2007b916e5bc"
   },
   "outputs": [
    {
     "name": "stderr",
     "output_type": "stream",
     "text": [
      "[nltk_data] Downloading package stopwords to /home/vijay/nltk_data...\n",
      "[nltk_data]   Package stopwords is already up-to-date!\n"
     ]
    },
    {
     "data": {
      "text/plain": [
       "True"
      ]
     },
     "execution_count": 3,
     "metadata": {},
     "output_type": "execute_result"
    }
   ],
   "source": [
    "import nltk\n",
    "nltk.download(\"stopwords\")"
   ]
  },
  {
   "cell_type": "code",
   "execution_count": 4,
   "metadata": {
    "ExecuteTime": {
     "end_time": "2021-08-12T06:47:05.132870Z",
     "start_time": "2021-08-12T06:47:04.929053Z"
    },
    "colab": {
     "base_uri": "https://localhost:8080/"
    },
    "executionInfo": {
     "elapsed": 547,
     "status": "ok",
     "timestamp": 1626273588017,
     "user": {
      "displayName": "Amritansh",
      "photoUrl": "https://lh3.googleusercontent.com/a-/AOh14GgOCYlsiZRYcdJh6VY2t9-yeGLukPvYWiiCX8ml8Q=s64",
      "userId": "03960123936802677440"
     },
     "user_tz": -330
    },
    "id": "DXk0ashjzU8Q",
    "outputId": "fb2bdda2-7bc7-49db-d8fc-1214419d2dda"
   },
   "outputs": [
    {
     "name": "stderr",
     "output_type": "stream",
     "text": [
      "[nltk_data] Downloading package gutenberg to /home/vijay/nltk_data...\n",
      "[nltk_data]   Package gutenberg is already up-to-date!\n"
     ]
    },
    {
     "data": {
      "text/plain": [
       "True"
      ]
     },
     "execution_count": 4,
     "metadata": {},
     "output_type": "execute_result"
    }
   ],
   "source": [
    "nltk.download(\"gutenberg\")"
   ]
  },
  {
   "cell_type": "code",
   "execution_count": 5,
   "metadata": {
    "ExecuteTime": {
     "end_time": "2021-08-12T06:47:13.944212Z",
     "start_time": "2021-08-12T06:47:05.136695Z"
    },
    "id": "qS5_8cdvzFeE"
   },
   "outputs": [],
   "source": [
    "import nltk\n",
    "from nltk.corpus import stopwords\n",
    "from collections import Counter\n",
    "\n",
    "word_list = []\n",
    "\n",
    "# Set up a quick lookup table for common words like \"the\" and \"an\" so they can be excluded\n",
    "stops = set(stopwords.words('english'))\n",
    "\n",
    "# For all 18 novels in the public domain book corpus, extract all their words\n",
    "[word_list.extend(nltk.corpus.gutenberg.words(f)) for f in nltk.corpus.gutenberg.fileids()]\n",
    "\n",
    "# Filter out words that have punctuation and make everything lower-case\n",
    "cleaned_words = [w.lower() for w in word_list if w.isalnum()]\n",
    "\n",
    "# Ask NLTK to generate a list of bigrams for the word \"sun\", excluding \n",
    "# those words which are too common to be interesing \n",
    "sun_bigrams = [b for b in nltk.bigrams(cleaned_words) if (b[0] == 'sun' or b[1] == 'sun') \\\n",
    "  and b[0] not in stops and b[1] not in stops]"
   ]
  },
  {
   "cell_type": "code",
   "execution_count": 6,
   "metadata": {
    "ExecuteTime": {
     "end_time": "2021-08-12T06:47:13.950999Z",
     "start_time": "2021-08-12T06:47:13.945977Z"
    },
    "colab": {
     "base_uri": "https://localhost:8080/"
    },
    "executionInfo": {
     "elapsed": 312,
     "status": "ok",
     "timestamp": 1626273875638,
     "user": {
      "displayName": "Amritansh",
      "photoUrl": "https://lh3.googleusercontent.com/a-/AOh14GgOCYlsiZRYcdJh6VY2t9-yeGLukPvYWiiCX8ml8Q=s64",
      "userId": "03960123936802677440"
     },
     "user_tz": -330
    },
    "id": "WemP6_ULzpTt",
    "outputId": "2153e1ef-2c31-499b-9195-6b37e6e1a09b"
   },
   "outputs": [
    {
     "name": "stdout",
     "output_type": "stream",
     "text": [
      "{('radiant', 'sun'), ('sun', 'knoweth'), ('mother', 'sun'), ('sun', 'swept'), ('sun', 'stand'), ('volcanoes', 'sun'), ('hump', 'sun'), ('sun', 'come'), ('sun', 'usher'), ('sun', 'splashed'), ('sun', 'ahab'), ('victorious', 'sun'), ('japanese', 'sun'), ('chemick', 'sun'), ('sun', 'hark'), ('sun', 'bright'), ('sun', 'stands'), ('blazing', 'sun'), ('sun', 'set'), ('sun', 'paint'), ('coming', 'sun'), ('sun', 'turned'), ('sun', 'neither'), ('low', 'sun'), ('runaway', 'sun'), ('west', 'sun'), ('sun', 'shine'), ('sun', 'tired'), ('slanting', 'sun'), ('day', 'sun'), ('thou', 'sun'), ('sultry', 'sun'), ('sun', 'following'), ('sun', 'though'), ('sun', 'falls'), ('sun', 'dial'), ('sun', 'entering'), ('sun', 'evan'), ('weaker', 'sun'), ('red', 'sun'), ('sun', 'declined'), ('sun', 'animals'), ('sun', 'things'), ('sun', 'hides'), ('sun', 'gained'), ('sun', 'became'), ('sun', 'would'), ('torrid', 'sun'), ('sun', 'instantly'), ('neither', 'sun'), ('diver', 'sun'), ('burnished', 'sun'), ('sun', 'ho'), ('sun', 'ingendered'), ('sun', 'go'), ('summer', 'sun'), ('needed', 'sun'), ('sun', 'bonnet'), ('sheeny', 'sun'), ('lucifer', 'sun'), ('ye', 'sun'), ('sun', 'riseth'), ('great', 'sun'), ('sun', 'around'), ('sun', 'gave'), ('sun', '9'), ('natural', 'sun'), ('beaming', 'sun'), ('excellent', 'sun'), ('sun', 'till'), ('sun', 'goeth'), ('sun', 'cast'), ('mounted', 'sun'), ('seeing', 'sun'), ('abated', 'sun'), ('sun', 'thy'), ('sun', 'keep'), ('sun', 'level'), ('sinking', 'sun'), ('sun', 'entered'), ('sun', '19'), ('parting', 'sun'), ('sun', 'upon'), ('sun', 'breed'), ('silent', 'sun'), ('sun', 'stars'), ('sun', 'aye'), ('midday', 'sun'), ('sun', 'turnbull'), ('sun', 'soon'), ('sun', 'wilt'), ('sun', 'astern'), ('sun', 'goes'), ('western', 'sun'), ('sun', 'soaked'), ('sun', 'even'), ('spangling', 'sun'), ('setting', 'sun'), ('send', 'sun'), ('sun', '12'), ('sun', 'seemed'), ('sun', 'toasted'), ('sun', 'dropt'), ('sun', 'seeking'), ('sun', 'returned'), ('thy', 'sun'), ('sun', 'beat'), ('sun', 'first'), ('sun', 'predominant'), ('mounting', 'sun'), ('flashing', 'sun'), ('sun', 'saying'), ('sun', 'burned'), ('sun', 'descried'), ('sun', 'going'), ('th', 'sun'), ('sun', 'light'), ('shining', 'sun'), ('sun', 'two'), ('sun', 'climbed'), ('sun', 'glade'), ('sun', 'science'), ('sun', 'stood'), ('sun', 'wheels'), ('sun', 'threw'), ('sun', 'new'), ('sun', '11'), ('poor', 'sun'), ('earth', 'sun'), ('quickening', 'sun'), ('sun', '17'), ('sun', 'moon'), ('sun', '7'), ('upper', 'sun'), ('sky', 'sun'), ('sun', 'beam'), ('sun', '74'), ('sun', 'rose'), ('sun', 'sinking'), ('sun', 'like'), ('modern', 'sun'), ('sun', 'dried'), ('sun', 'making'), ('midnight', 'sun'), ('sun', 'embracing'), ('golden', 'sun'), ('running', 'sun'), ('sun', 'oh'), ('sun', 'something'), ('invisible', 'sun'), ('orient', 'sun'), ('sun', 'shone'), ('keystone', 'sun'), ('sun', 'tan'), ('immense', 'sun'), ('sun', 'appeared'), ('haired', 'sun'), ('sun', 'said'), ('blinding', 'sun'), ('dazzling', 'sun'), ('sun', 'frequently'), ('sun', 'lit'), ('sun', 'shifted'), ('sun', 'measuring'), ('sun', 'failing'), ('sun', 'smite'), ('sun', 'move'), ('sun', 'slowly'), ('coined', 'sun'), ('pleasant', 'sun'), ('sun', 'shot'), ('sun', 'waxed'), ('mr', 'sun'), ('sun', '16'), ('sun', 'wears'), ('bearded', 'sun'), ('rising', 'sun'), ('earliest', 'sun'), ('sun', 'seems'), ('sun', 'half'), ('sun', 'burning'), ('sun', 'bursts'), ('sun', 'dalroy'), ('sun', 'carefully'), ('sun', 'meets'), ('equatorial', 'sun'), ('sun', 'rise'), ('sun', 'see'), ('sun', 'toward'), ('sun', 'whether'), ('sun', 'ever'), ('risen', 'sun'), ('sun', 'hath'), ('sun', '2'), ('white', 'sun'), ('clear', 'sun'), ('glaring', 'sun'), ('sun', 'namely'), ('sun', 'afloat'), ('sun', 'radiant'), ('sun', 'unto'), ('sun', 'slow'), ('sun', 'descending'), ('sun', 'ran'), ('sun', 'besides'), ('sun', 'producing'), ('glad', 'sun'), ('sun', 'thought'), ('forenoon', 'sun'), ('sun', 'freighted'), ('sun', 'ashamed'), ('sun', 'excludes'), ('sun', 'shines'), ('sun', 'queen'), ('downward', 'sun'), ('israel', 'sun'), ('sun', '4'), ('sun', 'shining'), ('hot', 'sun'), ('afternoon', 'sun'), ('sun', 'never'), ('sun', 'went'), ('sun', 'shineth'), ('sun', 'beyond'), ('sun', '1'), ('sun', 'playing'), ('sun', 'impearls'), ('sun', 'burnt'), ('strong', 'sun'), ('sun', 'gilds'), ('sun', 'swings'), ('sun', 'action'), ('sun', '58'), ('bright', 'sun'), ('sun', 'moby'), ('commanding', 'sun'), ('sun', 'also'), ('gayety', 'sun'), ('morning', 'sun'), ('ratifying', 'sun'), ('sun', '8'), ('sun', 'ariseth'), ('sun', 'another'), ('sun', 'chapter'), ('sun', 'shall')}\n",
      "245\n"
     ]
    }
   ],
   "source": [
    "print(set(sun_bigrams))\n",
    "print(len(set(sun_bigrams)))"
   ]
  },
  {
   "cell_type": "code",
   "execution_count": 7,
   "metadata": {
    "ExecuteTime": {
     "end_time": "2021-08-12T06:47:14.346540Z",
     "start_time": "2021-08-12T06:47:13.953406Z"
    },
    "colab": {
     "base_uri": "https://localhost:8080/"
    },
    "executionInfo": {
     "elapsed": 1084,
     "status": "ok",
     "timestamp": 1626274114237,
     "user": {
      "displayName": "Amritansh",
      "photoUrl": "https://lh3.googleusercontent.com/a-/AOh14GgOCYlsiZRYcdJh6VY2t9-yeGLukPvYWiiCX8ml8Q=s64",
      "userId": "03960123936802677440"
     },
     "user_tz": -330
    },
    "id": "biHZ6yaX0EAv",
    "outputId": "0b4c129e-4342-4d26-fa4c-ed1bd010617d"
   },
   "outputs": [
    {
     "name": "stderr",
     "output_type": "stream",
     "text": [
      "[nltk_data] Downloading package punkt to /home/vijay/nltk_data...\n",
      "[nltk_data]   Package punkt is already up-to-date!\n"
     ]
    },
    {
     "data": {
      "text/plain": [
       "True"
      ]
     },
     "execution_count": 7,
     "metadata": {},
     "output_type": "execute_result"
    }
   ],
   "source": [
    "nltk.download('punkt')"
   ]
  },
  {
   "cell_type": "code",
   "execution_count": 8,
   "metadata": {
    "ExecuteTime": {
     "end_time": "2021-08-12T06:47:14.518916Z",
     "start_time": "2021-08-12T06:47:14.354764Z"
    },
    "id": "D3feHxbLz_pp"
   },
   "outputs": [],
   "source": [
    "import nltk\n",
    "from nltk.tokenize import word_tokenize\n",
    "from nltk.util import ngrams \n",
    "\n",
    "sentences = [\"To Sherlock Holmes she is always the woman.\", \"I have seldom heard him mention her under any other name.\"]\n",
    "\n",
    "bigrams = []\n",
    "for sentence in sentences:\n",
    "    sequence = word_tokenize(sentence) \n",
    "    bigrams.extend(list(ngrams(sequence, 2)))\n",
    "\n",
    "freq_dist = nltk.FreqDist(bigrams)\n",
    "prob_dist = nltk.MLEProbDist(freq_dist)\n",
    "number_of_bigrams = freq_dist.N()"
   ]
  },
  {
   "cell_type": "code",
   "execution_count": 9,
   "metadata": {
    "ExecuteTime": {
     "end_time": "2021-08-12T06:47:14.563850Z",
     "start_time": "2021-08-12T06:47:14.521417Z"
    },
    "colab": {
     "base_uri": "https://localhost:8080/"
    },
    "executionInfo": {
     "elapsed": 4,
     "status": "ok",
     "timestamp": 1626274173548,
     "user": {
      "displayName": "Amritansh",
      "photoUrl": "https://lh3.googleusercontent.com/a-/AOh14GgOCYlsiZRYcdJh6VY2t9-yeGLukPvYWiiCX8ml8Q=s64",
      "userId": "03960123936802677440"
     },
     "user_tz": -330
    },
    "id": "tUOg5nlt0K9f",
    "outputId": "50245591-51eb-4f24-f4aa-518432a4de5f"
   },
   "outputs": [
    {
     "name": "stdout",
     "output_type": "stream",
     "text": [
      "[('To', 'Sherlock'), ('Sherlock', 'Holmes'), ('Holmes', 'she'), ('she', 'is'), ('is', 'always'), ('always', 'the'), ('the', 'woman'), ('woman', '.'), ('I', 'have'), ('have', 'seldom'), ('seldom', 'heard'), ('heard', 'him'), ('him', 'mention'), ('mention', 'her'), ('her', 'under'), ('under', 'any'), ('any', 'other'), ('other', 'name'), ('name', '.')]\n",
      "19\n"
     ]
    }
   ],
   "source": [
    "print(bigrams)\n",
    "print(number_of_bigrams)"
   ]
  },
  {
   "cell_type": "code",
   "execution_count": 10,
   "metadata": {
    "ExecuteTime": {
     "end_time": "2021-08-12T06:47:14.632073Z",
     "start_time": "2021-08-12T06:47:14.566088Z"
    },
    "colab": {
     "base_uri": "https://localhost:8080/"
    },
    "executionInfo": {
     "elapsed": 330,
     "status": "ok",
     "timestamp": 1626274320873,
     "user": {
      "displayName": "Amritansh",
      "photoUrl": "https://lh3.googleusercontent.com/a-/AOh14GgOCYlsiZRYcdJh6VY2t9-yeGLukPvYWiiCX8ml8Q=s64",
      "userId": "03960123936802677440"
     },
     "user_tz": -330
    },
    "id": "y_KIdW26r4go",
    "outputId": "5b0a6212-4d27-4b73-a34b-018eb043d641"
   },
   "outputs": [
    {
     "name": "stdout",
     "output_type": "stream",
     "text": [
      "['I', 'am', 'aware', 'that', 'nltk', 'only', 'offers', 'bigrams', 'and', 'trigrams', ',', 'but', 'is', 'there', 'a', 'way', 'to', 'split', 'my', 'text', 'in', 'four-grams', ',', 'five-grams', 'or', 'even', 'hundred-grams']\n",
      "27\n",
      "<zip object at 0x7f7ef21738c0>\n",
      "<zip object at 0x7f7ef2173a00>\n"
     ]
    }
   ],
   "source": [
    "from nltk.util import ngrams\n",
    "text = \"I am aware that nltk only offers bigrams and trigrams, but is there a way to split my text in four-grams, five-grams or even hundred-grams\"\n",
    "tokenize = nltk.word_tokenize(text)\n",
    "print(tokenize)\n",
    "print (len(tokenize))\n",
    "trigrams=ngrams(tokenize,3)\n",
    "print(trigrams)\n",
    "fourgrams=ngrams(tokenize,4)\n",
    "print(fourgrams)"
   ]
  },
  {
   "cell_type": "code",
   "execution_count": 11,
   "metadata": {
    "ExecuteTime": {
     "end_time": "2021-08-12T06:47:14.764387Z",
     "start_time": "2021-08-12T06:47:14.634872Z"
    },
    "colab": {
     "base_uri": "https://localhost:8080/"
    },
    "executionInfo": {
     "elapsed": 6,
     "status": "ok",
     "timestamp": 1626274338307,
     "user": {
      "displayName": "Amritansh",
      "photoUrl": "https://lh3.googleusercontent.com/a-/AOh14GgOCYlsiZRYcdJh6VY2t9-yeGLukPvYWiiCX8ml8Q=s64",
      "userId": "03960123936802677440"
     },
     "user_tz": -330
    },
    "id": "KfRfPH_KtBue",
    "outputId": "1e4b52e0-2d09-4fc3-9c49-af01d7164156"
   },
   "outputs": [
    {
     "data": {
      "text/plain": [
       "['I am aware',\n",
       " 'am aware that',\n",
       " 'aware that nltk',\n",
       " 'that nltk only',\n",
       " 'nltk only offers',\n",
       " 'only offers bigrams',\n",
       " 'offers bigrams and',\n",
       " 'bigrams and trigrams',\n",
       " 'and trigrams ,',\n",
       " 'trigrams , but',\n",
       " ', but is',\n",
       " 'but is there',\n",
       " 'is there a',\n",
       " 'there a way',\n",
       " 'a way to',\n",
       " 'way to split',\n",
       " 'to split my',\n",
       " 'split my text',\n",
       " 'my text in',\n",
       " 'text in four-grams',\n",
       " 'in four-grams ,',\n",
       " 'four-grams , five-grams',\n",
       " ', five-grams or',\n",
       " 'five-grams or even',\n",
       " 'or even hundred-grams']"
      ]
     },
     "execution_count": 11,
     "metadata": {},
     "output_type": "execute_result"
    }
   ],
   "source": [
    "def get_ngrams(n_grams):\n",
    "    return [ ' '.join(grams) for grams in n_grams]\n",
    "get_ngrams(trigrams)"
   ]
  },
  {
   "cell_type": "code",
   "execution_count": 12,
   "metadata": {
    "ExecuteTime": {
     "end_time": "2021-08-12T06:47:14.833568Z",
     "start_time": "2021-08-12T06:47:14.767206Z"
    },
    "colab": {
     "base_uri": "https://localhost:8080/"
    },
    "executionInfo": {
     "elapsed": 1407,
     "status": "ok",
     "timestamp": 1626274758007,
     "user": {
      "displayName": "Amritansh",
      "photoUrl": "https://lh3.googleusercontent.com/a-/AOh14GgOCYlsiZRYcdJh6VY2t9-yeGLukPvYWiiCX8ml8Q=s64",
      "userId": "03960123936802677440"
     },
     "user_tz": -330
    },
    "id": "ZyfmZItvtcvI",
    "outputId": "dee37ef7-75a0-495f-997f-10d04f954339"
   },
   "outputs": [
    {
     "data": {
      "text/plain": [
       "['I am aware that',\n",
       " 'am aware that nltk',\n",
       " 'aware that nltk only',\n",
       " 'that nltk only offers',\n",
       " 'nltk only offers bigrams',\n",
       " 'only offers bigrams and',\n",
       " 'offers bigrams and trigrams',\n",
       " 'bigrams and trigrams ,',\n",
       " 'and trigrams , but',\n",
       " 'trigrams , but is',\n",
       " ', but is there',\n",
       " 'but is there a',\n",
       " 'is there a way',\n",
       " 'there a way to',\n",
       " 'a way to split',\n",
       " 'way to split my',\n",
       " 'to split my text',\n",
       " 'split my text in',\n",
       " 'my text in four-grams',\n",
       " 'text in four-grams ,',\n",
       " 'in four-grams , five-grams',\n",
       " 'four-grams , five-grams or',\n",
       " ', five-grams or even',\n",
       " 'five-grams or even hundred-grams']"
      ]
     },
     "execution_count": 12,
     "metadata": {},
     "output_type": "execute_result"
    }
   ],
   "source": [
    "get_ngrams(fourgrams)"
   ]
  },
  {
   "cell_type": "markdown",
   "metadata": {
    "id": "Fjt6AuawCbHq"
   },
   "source": [
    "## TF-IDF Vectorizer\n",
    "\n",
    "\n",
    "TF-IDF stands for term frequency-inverse document frequency. TF-IDF weight is a statistical measure used to evaluate how important a word is to a document in a collection or corpus. The importance increases proportionally to the number of times a word appears in the document but is offset by the frequency of the word in the corpus.\n",
    "\n",
    "**Term Frequency (TF)**: is a scoring of the frequency of the word in the current document. Since every document is different in length, it is possible that a term would appear much more times in long documents than shorter ones. The term frequency is often divided by the document length to normalize.\n",
    "\n",
    "![alt text](https://miro.medium.com/max/404/1*SUAeubfQGK_w0XZWQW6V1Q.png)\n",
    "\n",
    "\n",
    "**Inverse Document Frequency (IDF)**: is a scoring of how rare the word is across documents. IDF is a measure of how rare a term is. Rarer the term, more is the IDF score.\n",
    "\n",
    "![alt text](https://miro.medium.com/max/411/1*T57j-UDzXizqG40FUfmkLw.png)\n",
    "\n",
    "\n",
    "Thus,\n",
    "\n",
    "![alt text](https://miro.medium.com/max/215/1*YrgmAeG7KNRB4dQcGcsdyg.png)"
   ]
  },
  {
   "cell_type": "markdown",
   "metadata": {
    "id": "QxNmcj76Df5b"
   },
   "source": [
    "The tf-idf value increases proportionally to the number of times a word appears in the document, but is offset by the frequency of the word in the corpus, which helps to adjust for the fact that some words appear more frequently in general."
   ]
  },
  {
   "cell_type": "code",
   "execution_count": 13,
   "metadata": {
    "ExecuteTime": {
     "end_time": "2021-08-12T06:47:15.107608Z",
     "start_time": "2021-08-12T06:47:14.835629Z"
    },
    "colab": {
     "base_uri": "https://localhost:8080/",
     "height": 90,
     "resources": {
      "http://localhost:8080/nbextensions/google.colab/files.js": {
       "data": "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",
       "headers": [
        [
         "content-type",
         "application/javascript"
        ]
       ],
       "ok": true,
       "status": 200,
       "status_text": ""
      }
     }
    },
    "executionInfo": {
     "elapsed": 657091,
     "status": "ok",
     "timestamp": 1626444954557,
     "user": {
      "displayName": "Amritansh",
      "photoUrl": "https://lh3.googleusercontent.com/a-/AOh14GgOCYlsiZRYcdJh6VY2t9-yeGLukPvYWiiCX8ml8Q=s64",
      "userId": "03960123936802677440"
     },
     "user_tz": -330
    },
    "id": "kJjoboYZwL6w",
    "outputId": "6c20a132-8769-4721-f0fd-2a2d454adab5"
   },
   "outputs": [
    {
     "ename": "ModuleNotFoundError",
     "evalue": "No module named 'google.colab'",
     "output_type": "error",
     "traceback": [
      "\u001b[0;31m---------------------------------------------------------------------------\u001b[0m",
      "\u001b[0;31mModuleNotFoundError\u001b[0m                       Traceback (most recent call last)",
      "\u001b[0;32m<ipython-input-13-292f82be1b7a>\u001b[0m in \u001b[0;36m<module>\u001b[0;34m\u001b[0m\n\u001b[0;32m----> 1\u001b[0;31m \u001b[0;32mfrom\u001b[0m \u001b[0mgoogle\u001b[0m\u001b[0;34m.\u001b[0m\u001b[0mcolab\u001b[0m \u001b[0;32mimport\u001b[0m \u001b[0mfiles\u001b[0m\u001b[0;34m\u001b[0m\u001b[0;34m\u001b[0m\u001b[0m\n\u001b[0m\u001b[1;32m      2\u001b[0m \u001b[0;34m\u001b[0m\u001b[0m\n\u001b[1;32m      3\u001b[0m \u001b[0muploaded\u001b[0m \u001b[0;34m=\u001b[0m \u001b[0mfiles\u001b[0m\u001b[0;34m.\u001b[0m\u001b[0mupload\u001b[0m\u001b[0;34m(\u001b[0m\u001b[0;34m)\u001b[0m\u001b[0;34m\u001b[0m\u001b[0;34m\u001b[0m\u001b[0m\n\u001b[1;32m      4\u001b[0m \u001b[0;34m\u001b[0m\u001b[0m\n\u001b[1;32m      5\u001b[0m \u001b[0;32mfor\u001b[0m \u001b[0mfn\u001b[0m \u001b[0;32min\u001b[0m \u001b[0muploaded\u001b[0m\u001b[0;34m.\u001b[0m\u001b[0mkeys\u001b[0m\u001b[0;34m(\u001b[0m\u001b[0;34m)\u001b[0m\u001b[0;34m:\u001b[0m\u001b[0;34m\u001b[0m\u001b[0;34m\u001b[0m\u001b[0m\n",
      "\u001b[0;31mModuleNotFoundError\u001b[0m: No module named 'google.colab'"
     ]
    }
   ],
   "source": [
    "from google.colab import files\n",
    "\n",
    "uploaded = files.upload()\n",
    "\n",
    "for fn in uploaded.keys():\n",
    "  print('User uploaded file \"{name}\" with length {length} bytes'.format(\n",
    "      name=fn, length=len(uploaded[fn])))"
   ]
  },
  {
   "cell_type": "code",
   "execution_count": 15,
   "metadata": {
    "ExecuteTime": {
     "end_time": "2021-08-12T06:52:52.586561Z",
     "start_time": "2021-08-12T06:52:51.511111Z"
    },
    "colab": {
     "base_uri": "https://localhost:8080/"
    },
    "executionInfo": {
     "elapsed": 1486,
     "status": "ok",
     "timestamp": 1626445688679,
     "user": {
      "displayName": "Amritansh",
      "photoUrl": "https://lh3.googleusercontent.com/a-/AOh14GgOCYlsiZRYcdJh6VY2t9-yeGLukPvYWiiCX8ml8Q=s64",
      "userId": "03960123936802677440"
     },
     "user_tz": -330
    },
    "id": "m2eNYFFCwCSU",
    "outputId": "5309b664-0fe1-4d86-d129-ad76a88f6453"
   },
   "outputs": [
    {
     "name": "stdout",
     "output_type": "stream",
     "text": [
      "Schema:\n",
      "\n",
      " id                            int64\n",
      "title                        object\n",
      "body                         object\n",
      "answer_count                  int64\n",
      "comment_count                 int64\n",
      "creation_date                object\n",
      "last_activity_date           object\n",
      "last_editor_display_name     object\n",
      "owner_display_name           object\n",
      "owner_user_id               float64\n",
      "post_type_id                  int64\n",
      "score                         int64\n",
      "tags                         object\n",
      "view_count                    int64\n",
      "accepted_answer_id          float64\n",
      "favorite_count              float64\n",
      "last_edit_date               object\n",
      "last_editor_user_id         float64\n",
      "community_owned_date         object\n",
      "dtype: object\n",
      "Number of questions,columns= (20000, 19)\n"
     ]
    }
   ],
   "source": [
    "import pandas as pd\n",
    "\n",
    "# read json into a dataframe\n",
    "df_idf=pd.read_json(\"stackoverflow-data-idf.json\",lines=True)\n",
    "\n",
    "# print schema\n",
    "print(\"Schema:\\n\\n\",df_idf.dtypes)\n",
    "print(\"Number of questions,columns=\",df_idf.shape)"
   ]
  },
  {
   "cell_type": "code",
   "execution_count": 16,
   "metadata": {
    "ExecuteTime": {
     "end_time": "2021-08-12T06:53:11.961000Z",
     "start_time": "2021-08-12T06:53:08.647561Z"
    },
    "colab": {
     "base_uri": "https://localhost:8080/",
     "height": 86
    },
    "executionInfo": {
     "elapsed": 3326,
     "status": "ok",
     "timestamp": 1626445805105,
     "user": {
      "displayName": "Amritansh",
      "photoUrl": "https://lh3.googleusercontent.com/a-/AOh14GgOCYlsiZRYcdJh6VY2t9-yeGLukPvYWiiCX8ml8Q=s64",
      "userId": "03960123936802677440"
     },
     "user_tz": -330
    },
    "id": "qDT8RjbwwZxA",
    "outputId": "f3ebda6d-23f1-41ba-ea2a-73b2b1bc48cc"
   },
   "outputs": [
    {
     "data": {
      "text/plain": [
       "'serializing a private struct can it be done i have a public class that contains a private struct the struct contains properties mostly string that i want to serialize when i attempt to serialize the struct and stream it to disk using xmlserializer i get an error saying only public types can be serialized i don t need and don t want this struct to be public is there a way i can serialize it and keep it private '"
      ]
     },
     "execution_count": 16,
     "metadata": {},
     "output_type": "execute_result"
    }
   ],
   "source": [
    "import re\n",
    "def pre_process(text):\n",
    "    \n",
    "    # lowercase\n",
    "    text=text.lower()\n",
    "    \n",
    "    #remove tags\n",
    "    text=re.sub(\"</?.*?>\",\" <> \",text)\n",
    "    \n",
    "    # remove special characters and digits\n",
    "    text=re.sub(\"(\\\\d|\\\\W)+\",\" \",text)\n",
    "    \n",
    "    return text\n",
    "\n",
    "df_idf['text'] = df_idf['title'] + df_idf['body']\n",
    "df_idf['text'] = df_idf['text'].apply(lambda x:pre_process(x))\n",
    "\n",
    "#show the first 'text'\n",
    "df_idf['text'][0]"
   ]
  },
  {
   "cell_type": "code",
   "execution_count": 17,
   "metadata": {
    "ExecuteTime": {
     "end_time": "2021-08-12T06:54:08.514914Z",
     "start_time": "2021-08-12T06:54:08.507540Z"
    },
    "colab": {
     "base_uri": "https://localhost:8080/",
     "height": 120
    },
    "executionInfo": {
     "elapsed": 337,
     "status": "ok",
     "timestamp": 1626445832918,
     "user": {
      "displayName": "Amritansh",
      "photoUrl": "https://lh3.googleusercontent.com/a-/AOh14GgOCYlsiZRYcdJh6VY2t9-yeGLukPvYWiiCX8ml8Q=s64",
      "userId": "03960123936802677440"
     },
     "user_tz": -330
    },
    "id": "w-hv_RowkZs6",
    "outputId": "1d1efd8f-0c74-4df1-ce87-66bd12e174fb"
   },
   "outputs": [
    {
     "data": {
      "text/plain": [
       "'msysgit and git cheetah having issues on winxp with git bash context menu i ve installed msysgit version on windows xp and i chose to use the plugin advanced version for the context menu if i start up git bash from the shortcut icon it starts up fine but if i use the right click context menu i got the following errors welcome to git version preview run git help git to display the help index run git help lt command gt to display help for specific commands sh bin stty no such file or directory sh bin stty no such file or directory sh hostname command not found sh unalias cm not found desktop part auth googleauth gt i used the same version on my home windows machine and had no issues at all any clues thanks justin '"
      ]
     },
     "execution_count": 17,
     "metadata": {},
     "output_type": "execute_result"
    }
   ],
   "source": [
    "df_idf['text'][67]"
   ]
  },
  {
   "cell_type": "code",
   "execution_count": 18,
   "metadata": {
    "ExecuteTime": {
     "end_time": "2021-08-12T06:54:13.388537Z",
     "start_time": "2021-08-12T06:54:13.371202Z"
    },
    "colab": {
     "base_uri": "https://localhost:8080/",
     "height": 72,
     "resources": {
      "http://localhost:8080/nbextensions/google.colab/files.js": {
       "data": "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",
       "headers": [
        [
         "content-type",
         "application/javascript"
        ]
       ],
       "ok": true,
       "status": 200,
       "status_text": ""
      }
     }
    },
    "executionInfo": {
     "elapsed": 6417,
     "status": "ok",
     "timestamp": 1626445852025,
     "user": {
      "displayName": "Amritansh",
      "photoUrl": "https://lh3.googleusercontent.com/a-/AOh14GgOCYlsiZRYcdJh6VY2t9-yeGLukPvYWiiCX8ml8Q=s64",
      "userId": "03960123936802677440"
     },
     "user_tz": -330
    },
    "id": "hZY_dD836oIo",
    "outputId": "50074389-5051-4fd1-de46-2d42a9baf1be"
   },
   "outputs": [
    {
     "ename": "NameError",
     "evalue": "name 'files' is not defined",
     "output_type": "error",
     "traceback": [
      "\u001b[0;31m---------------------------------------------------------------------------\u001b[0m",
      "\u001b[0;31mNameError\u001b[0m                                 Traceback (most recent call last)",
      "\u001b[0;32m<ipython-input-18-ed2fd71b4a2f>\u001b[0m in \u001b[0;36m<module>\u001b[0;34m\u001b[0m\n\u001b[0;32m----> 1\u001b[0;31m \u001b[0muploaded\u001b[0m \u001b[0;34m=\u001b[0m \u001b[0mfiles\u001b[0m\u001b[0;34m.\u001b[0m\u001b[0mupload\u001b[0m\u001b[0;34m(\u001b[0m\u001b[0;34m)\u001b[0m\u001b[0;34m\u001b[0m\u001b[0;34m\u001b[0m\u001b[0m\n\u001b[0m",
      "\u001b[0;31mNameError\u001b[0m: name 'files' is not defined"
     ]
    }
   ],
   "source": [
    "uploaded = files.upload()"
   ]
  },
  {
   "cell_type": "code",
   "execution_count": 20,
   "metadata": {
    "ExecuteTime": {
     "end_time": "2021-08-12T06:56:32.697340Z",
     "start_time": "2021-08-12T06:56:29.596107Z"
    },
    "colab": {
     "base_uri": "https://localhost:8080/"
    },
    "executionInfo": {
     "elapsed": 3523,
     "status": "ok",
     "timestamp": 1626446199790,
     "user": {
      "displayName": "Amritansh",
      "photoUrl": "https://lh3.googleusercontent.com/a-/AOh14GgOCYlsiZRYcdJh6VY2t9-yeGLukPvYWiiCX8ml8Q=s64",
      "userId": "03960123936802677440"
     },
     "user_tz": -330
    },
    "id": "EyyPBtvrwgbM",
    "outputId": "7adb6d5d-7502-4fce-9c39-e8cd77022c33"
   },
   "outputs": [],
   "source": [
    "from sklearn.feature_extraction.text import CountVectorizer\n",
    "\n",
    "def get_stop_words(stop_file_path):\n",
    "    \"\"\"load stop words \"\"\"\n",
    "    \n",
    "    with open(stop_file_path, 'r', encoding=\"utf-8\") as f:\n",
    "        stopwords = f.readlines()\n",
    "        stop_set = set(m.strip() for m in stopwords)\n",
    "        return frozenset(stop_set)\n",
    "\n",
    "#load a set of stop words\n",
    "stopwords=get_stop_words(\"stopwords.txt\")\n",
    "\n",
    "#get the text column \n",
    "docs=df_idf['text'].tolist()\n",
    "\n",
    "#create a vocabulary of words, \n",
    "#ignore words that appear in more than 90% of documents, \n",
    "#eliminate stop words\n",
    "cv=CountVectorizer(max_df=0.7,stop_words=stopwords)\n",
    "word_count_vector=cv.fit_transform(docs)"
   ]
  },
  {
   "cell_type": "code",
   "execution_count": 21,
   "metadata": {
    "ExecuteTime": {
     "end_time": "2021-08-12T06:56:35.537499Z",
     "start_time": "2021-08-12T06:56:35.531001Z"
    },
    "colab": {
     "base_uri": "https://localhost:8080/"
    },
    "executionInfo": {
     "elapsed": 5,
     "status": "ok",
     "timestamp": 1626446199792,
     "user": {
      "displayName": "Amritansh",
      "photoUrl": "https://lh3.googleusercontent.com/a-/AOh14GgOCYlsiZRYcdJh6VY2t9-yeGLukPvYWiiCX8ml8Q=s64",
      "userId": "03960123936802677440"
     },
     "user_tz": -330
    },
    "id": "yBMYQrrlxKH2",
    "outputId": "036a23e1-7007-469a-f09c-de7879ba5489"
   },
   "outputs": [
    {
     "data": {
      "text/plain": [
       "(20000, 124925)"
      ]
     },
     "execution_count": 21,
     "metadata": {},
     "output_type": "execute_result"
    }
   ],
   "source": [
    "word_count_vector.shape"
   ]
  },
  {
   "cell_type": "code",
   "execution_count": 22,
   "metadata": {
    "ExecuteTime": {
     "end_time": "2021-08-12T06:56:36.408734Z",
     "start_time": "2021-08-12T06:56:36.403447Z"
    },
    "colab": {
     "base_uri": "https://localhost:8080/"
    },
    "executionInfo": {
     "elapsed": 334,
     "status": "ok",
     "timestamp": 1626446231733,
     "user": {
      "displayName": "Amritansh",
      "photoUrl": "https://lh3.googleusercontent.com/a-/AOh14GgOCYlsiZRYcdJh6VY2t9-yeGLukPvYWiiCX8ml8Q=s64",
      "userId": "03960123936802677440"
     },
     "user_tz": -330
    },
    "id": "vrXtBzFnlmRS",
    "outputId": "7ef159eb-d685-4ff5-8e8c-c48e1df69bcc"
   },
   "outputs": [
    {
     "data": {
      "text/plain": [
       "<20000x124925 sparse matrix of type '<class 'numpy.int64'>'\n",
       "\twith 1023637 stored elements in Compressed Sparse Row format>"
      ]
     },
     "execution_count": 22,
     "metadata": {},
     "output_type": "execute_result"
    }
   ],
   "source": [
    "word_count_vector"
   ]
  },
  {
   "cell_type": "code",
   "execution_count": null,
   "metadata": {
    "ExecuteTime": {
     "end_time": "2021-08-12T06:47:15.122978Z",
     "start_time": "2021-08-12T06:46:58.631Z"
    },
    "colab": {
     "base_uri": "https://localhost:8080/"
    },
    "executionInfo": {
     "elapsed": 3387,
     "status": "ok",
     "timestamp": 1626446260432,
     "user": {
      "displayName": "Amritansh",
      "photoUrl": "https://lh3.googleusercontent.com/a-/AOh14GgOCYlsiZRYcdJh6VY2t9-yeGLukPvYWiiCX8ml8Q=s64",
      "userId": "03960123936802677440"
     },
     "user_tz": -330
    },
    "id": "UCfMx2VkxOWF",
    "outputId": "f67ca132-db37-4d7a-ed83-a0d2d1049998"
   },
   "outputs": [],
   "source": [
    "cv=CountVectorizer(max_df=0.85,stop_words=stopwords,max_features=50000)\n",
    "word_count_vector=cv.fit_transform(docs)\n",
    "word_count_vector.shape"
   ]
  },
  {
   "cell_type": "code",
   "execution_count": null,
   "metadata": {
    "ExecuteTime": {
     "end_time": "2021-08-12T06:47:15.124333Z",
     "start_time": "2021-08-12T06:46:58.633Z"
    },
    "colab": {
     "base_uri": "https://localhost:8080/"
    },
    "executionInfo": {
     "elapsed": 465,
     "status": "ok",
     "timestamp": 1626446289818,
     "user": {
      "displayName": "Amritansh",
      "photoUrl": "https://lh3.googleusercontent.com/a-/AOh14GgOCYlsiZRYcdJh6VY2t9-yeGLukPvYWiiCX8ml8Q=s64",
      "userId": "03960123936802677440"
     },
     "user_tz": -330
    },
    "id": "X8femwmsxRSp",
    "outputId": "118d7267-c56b-4046-e703-8c642d2e7fc4"
   },
   "outputs": [],
   "source": [
    "list(cv.vocabulary_.keys())[:10]"
   ]
  },
  {
   "cell_type": "code",
   "execution_count": null,
   "metadata": {
    "ExecuteTime": {
     "end_time": "2021-08-12T06:47:15.125785Z",
     "start_time": "2021-08-12T06:46:58.634Z"
    },
    "colab": {
     "base_uri": "https://localhost:8080/"
    },
    "executionInfo": {
     "elapsed": 1071,
     "status": "ok",
     "timestamp": 1620705381561,
     "user": {
      "displayName": "Amritansh",
      "photoUrl": "https://lh3.googleusercontent.com/a-/AOh14GgOCYlsiZRYcdJh6VY2t9-yeGLukPvYWiiCX8ml8Q=s64",
      "userId": "03960123936802677440"
     },
     "user_tz": -330
    },
    "id": "ef-9jLnjxTt4",
    "outputId": "364dd17a-c70d-457c-b84b-51200544bae1"
   },
   "outputs": [],
   "source": [
    "\n",
    "list(cv.get_feature_names())[2000:2015]"
   ]
  },
  {
   "cell_type": "code",
   "execution_count": null,
   "metadata": {
    "ExecuteTime": {
     "end_time": "2021-08-12T06:47:15.127402Z",
     "start_time": "2021-08-12T06:46:58.635Z"
    },
    "colab": {
     "base_uri": "https://localhost:8080/"
    },
    "executionInfo": {
     "elapsed": 358,
     "status": "ok",
     "timestamp": 1626446419790,
     "user": {
      "displayName": "Amritansh",
      "photoUrl": "https://lh3.googleusercontent.com/a-/AOh14GgOCYlsiZRYcdJh6VY2t9-yeGLukPvYWiiCX8ml8Q=s64",
      "userId": "03960123936802677440"
     },
     "user_tz": -330
    },
    "id": "2m5wAh2BxqD7",
    "outputId": "b3755466-3110-45aa-8845-696bde3d9b56"
   },
   "outputs": [],
   "source": [
    "from sklearn.feature_extraction.text import TfidfTransformer\n",
    "\n",
    "tfidf_transformer=TfidfTransformer(smooth_idf=True,use_idf=True)\n",
    "tfidf_transformer.fit(word_count_vector)"
   ]
  },
  {
   "cell_type": "code",
   "execution_count": null,
   "metadata": {
    "ExecuteTime": {
     "end_time": "2021-08-12T06:47:15.128307Z",
     "start_time": "2021-08-12T06:46:58.637Z"
    },
    "colab": {
     "base_uri": "https://localhost:8080/"
    },
    "executionInfo": {
     "elapsed": 346,
     "status": "ok",
     "timestamp": 1626446472369,
     "user": {
      "displayName": "Amritansh",
      "photoUrl": "https://lh3.googleusercontent.com/a-/AOh14GgOCYlsiZRYcdJh6VY2t9-yeGLukPvYWiiCX8ml8Q=s64",
      "userId": "03960123936802677440"
     },
     "user_tz": -330
    },
    "id": "FAxAwjrbxsPV",
    "outputId": "f05aefa6-3b01-4802-dd76-7d3baad93e85"
   },
   "outputs": [],
   "source": [
    "\n",
    "tfidf_transformer.idf_"
   ]
  },
  {
   "cell_type": "code",
   "execution_count": null,
   "metadata": {
    "ExecuteTime": {
     "end_time": "2021-08-12T06:47:15.129366Z",
     "start_time": "2021-08-12T06:46:58.638Z"
    },
    "colab": {
     "base_uri": "https://localhost:8080/",
     "height": 72,
     "resources": {
      "http://localhost:8080/nbextensions/google.colab/files.js": {
       "data": "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",
       "headers": [
        [
         "content-type",
         "application/javascript"
        ]
       ],
       "ok": true,
       "status": 200,
       "status_text": ""
      }
     }
    },
    "executionInfo": {
     "elapsed": 21603,
     "status": "ok",
     "timestamp": 1626446498005,
     "user": {
      "displayName": "Amritansh",
      "photoUrl": "https://lh3.googleusercontent.com/a-/AOh14GgOCYlsiZRYcdJh6VY2t9-yeGLukPvYWiiCX8ml8Q=s64",
      "userId": "03960123936802677440"
     },
     "user_tz": -330
    },
    "id": "PSIgkppuyZL-",
    "outputId": "6fef08c4-c077-49ac-d9a0-fea0c9daf05d"
   },
   "outputs": [],
   "source": [
    "uploaded = files.upload()"
   ]
  },
  {
   "cell_type": "code",
   "execution_count": null,
   "metadata": {
    "ExecuteTime": {
     "end_time": "2021-08-12T06:47:15.130952Z",
     "start_time": "2021-08-12T06:46:58.640Z"
    },
    "executionInfo": {
     "elapsed": 336,
     "status": "ok",
     "timestamp": 1626446506059,
     "user": {
      "displayName": "Amritansh",
      "photoUrl": "https://lh3.googleusercontent.com/a-/AOh14GgOCYlsiZRYcdJh6VY2t9-yeGLukPvYWiiCX8ml8Q=s64",
      "userId": "03960123936802677440"
     },
     "user_tz": -330
    },
    "id": "BZO76ZJAyeyM"
   },
   "outputs": [],
   "source": [
    "# read test docs into a dataframe and concatenate title and body\n",
    "df_test=pd.read_json(\"stackoverflow-test.json\",lines=True)\n",
    "df_test['text'] = df_test['title'] + df_test['body']\n",
    "df_test['text'] =df_test['text'].apply(lambda x:pre_process(x))\n",
    "\n",
    "# get test docs into a list\n",
    "docs_test=df_test['text'].tolist()\n",
    "docs_title=df_test['title'].tolist()\n",
    "docs_body=df_test['body'].tolist()"
   ]
  },
  {
   "cell_type": "code",
   "execution_count": null,
   "metadata": {
    "ExecuteTime": {
     "end_time": "2021-08-12T06:47:15.132000Z",
     "start_time": "2021-08-12T06:46:58.641Z"
    },
    "executionInfo": {
     "elapsed": 523,
     "status": "ok",
     "timestamp": 1626446559291,
     "user": {
      "displayName": "Amritansh",
      "photoUrl": "https://lh3.googleusercontent.com/a-/AOh14GgOCYlsiZRYcdJh6VY2t9-yeGLukPvYWiiCX8ml8Q=s64",
      "userId": "03960123936802677440"
     },
     "user_tz": -330
    },
    "id": "-JdTFJgvltor"
   },
   "outputs": [],
   "source": [
    "def sort_coo(coo_matrix):\n",
    "    tuples = zip(coo_matrix.col, coo_matrix.data)\n",
    "    return sorted(tuples, key=lambda x: (x[1], x[0]), reverse=True)\n",
    "\n",
    "def extract_topn_from_vector(feature_names, sorted_items, topn=5):\n",
    "    \"\"\"get the feature names and tf-idf score of top n items\"\"\"\n",
    "    \n",
    "    #use only topn items from vector\n",
    "    sorted_items = sorted_items[:topn]\n",
    "\n",
    "    score_vals = []\n",
    "    feature_vals = []\n",
    "\n",
    "    for idx, score in sorted_items:\n",
    "        fname = feature_names[idx]\n",
    "        \n",
    "        #keep track of feature name and its corresponding score\n",
    "        score_vals.append(round(score, 3))\n",
    "        feature_vals.append(feature_names[idx])\n",
    "\n",
    "    #create a tuples of feature,score\n",
    "    #results = zip(feature_vals,score_vals)\n",
    "    results= {}\n",
    "    for idx in range(len(feature_vals)):\n",
    "        results[feature_vals[idx]]=score_vals[idx]\n",
    "    \n",
    "    return results"
   ]
  },
  {
   "cell_type": "code",
   "execution_count": null,
   "metadata": {
    "ExecuteTime": {
     "end_time": "2021-08-12T06:47:15.132989Z",
     "start_time": "2021-08-12T06:46:58.643Z"
    },
    "colab": {
     "base_uri": "https://localhost:8080/"
    },
    "executionInfo": {
     "elapsed": 347,
     "status": "ok",
     "timestamp": 1626446627445,
     "user": {
      "displayName": "Amritansh",
      "photoUrl": "https://lh3.googleusercontent.com/a-/AOh14GgOCYlsiZRYcdJh6VY2t9-yeGLukPvYWiiCX8ml8Q=s64",
      "userId": "03960123936802677440"
     },
     "user_tz": -330
    },
    "id": "Lgqavv0slzE_",
    "outputId": "fcacd792-592b-4496-ed54-b2421f11fc54"
   },
   "outputs": [],
   "source": [
    "# you only needs to do this once\n",
    "feature_names=cv.get_feature_names()\n",
    "\n",
    "# get the document that we want to extract keywords from\n",
    "doc=docs_test[28]\n",
    "\n",
    "#generate tf-idf for the given document\n",
    "tf_idf_vector=tfidf_transformer.transform(cv.transform([doc]))\n",
    "\n",
    "#sort the tf-idf vectors by descending order of scores\n",
    "sorted_items=sort_coo(tf_idf_vector.tocoo())\n",
    "\n",
    "#extract only the top n; n here is 10\n",
    "keywords=extract_topn_from_vector(feature_names,sorted_items,10)\n",
    "\n",
    "# now print the results\n",
    "print(\"\\n=====Title=====\")\n",
    "print(docs_title[28])\n",
    "print(\"\\n=====Body=====\")\n",
    "print(docs_body[28])\n",
    "print(\"\\n===Keywords===\")\n",
    "for k in keywords:\n",
    "    print(k,keywords[k])"
   ]
  },
  {
   "cell_type": "code",
   "execution_count": null,
   "metadata": {
    "ExecuteTime": {
     "end_time": "2021-08-12T06:47:15.133971Z",
     "start_time": "2021-08-12T06:46:58.647Z"
    },
    "executionInfo": {
     "elapsed": 330,
     "status": "ok",
     "timestamp": 1626446710938,
     "user": {
      "displayName": "Amritansh",
      "photoUrl": "https://lh3.googleusercontent.com/a-/AOh14GgOCYlsiZRYcdJh6VY2t9-yeGLukPvYWiiCX8ml8Q=s64",
      "userId": "03960123936802677440"
     },
     "user_tz": -330
    },
    "id": "-xMva08Rl5EY"
   },
   "outputs": [],
   "source": [
    "# put the common code into several methods\n",
    "def get_keywords(idx):\n",
    "\n",
    "    #generate tf-idf for the given document\n",
    "    tf_idf_vector=tfidf_transformer.transform(cv.transform([docs_test[idx]]))\n",
    "\n",
    "    #sort the tf-idf vectors by descending order of scores\n",
    "    sorted_items=sort_coo(tf_idf_vector.tocoo())\n",
    "\n",
    "    #extract only the top n; n here is 10\n",
    "    keywords=extract_topn_from_vector(feature_names,sorted_items,10)\n",
    "    \n",
    "    return keywords\n",
    "\n",
    "def print_results(idx,keywords):\n",
    "    # now print the results\n",
    "    print(\"\\n=====Title=====\")\n",
    "    print(docs_title[idx])\n",
    "    print(\"\\n=====Body=====\")\n",
    "    print(docs_body[idx])\n",
    "    print(\"\\n===Keywords===\")\n",
    "    for k in keywords:\n",
    "        print(k,keywords[k])"
   ]
  },
  {
   "cell_type": "code",
   "execution_count": null,
   "metadata": {
    "ExecuteTime": {
     "end_time": "2021-08-12T06:47:15.135102Z",
     "start_time": "2021-08-12T06:46:58.649Z"
    },
    "colab": {
     "base_uri": "https://localhost:8080/"
    },
    "executionInfo": {
     "elapsed": 366,
     "status": "ok",
     "timestamp": 1626446880009,
     "user": {
      "displayName": "Amritansh",
      "photoUrl": "https://lh3.googleusercontent.com/a-/AOh14GgOCYlsiZRYcdJh6VY2t9-yeGLukPvYWiiCX8ml8Q=s64",
      "userId": "03960123936802677440"
     },
     "user_tz": -330
    },
    "id": "cwaH93fRnUmW",
    "outputId": "421f5884-5622-4550-c22c-cae61c4c38fa"
   },
   "outputs": [],
   "source": [
    "idx=450\n",
    "keywords=get_keywords(idx)\n",
    "print_results(idx,keywords)"
   ]
  }
 ],
 "metadata": {
  "colab": {
   "collapsed_sections": [],
   "name": "Word Embeddings.ipynb",
   "provenance": []
  },
  "kernelspec": {
   "display_name": "Python 3",
   "language": "python",
   "name": "python3"
  },
  "language_info": {
   "codemirror_mode": {
    "name": "ipython",
    "version": 3
   },
   "file_extension": ".py",
   "mimetype": "text/x-python",
   "name": "python",
   "nbconvert_exporter": "python",
   "pygments_lexer": "ipython3",
   "version": "3.8.8"
  }
 },
 "nbformat": 4,
 "nbformat_minor": 1
}
