{
 "cells": [
  {
   "cell_type": "markdown",
   "id": "ebf95ddb",
   "metadata": {},
   "source": [
    "### ANOVA(Analysis of variance)"
   ]
  },
  {
   "cell_type": "code",
   "execution_count": 1,
   "id": "c4dcb9e2",
   "metadata": {
    "ExecuteTime": {
     "end_time": "2021-05-10T14:48:25.062593Z",
     "start_time": "2021-05-10T14:48:20.761094Z"
    }
   },
   "outputs": [],
   "source": [
    "import pandas as pd\n",
    "import seaborn as sns\n",
    "import matplotlib.pyplot as plt"
   ]
  },
  {
   "cell_type": "code",
   "execution_count": 2,
   "id": "5f787dc0",
   "metadata": {
    "ExecuteTime": {
     "end_time": "2021-05-10T14:49:01.615039Z",
     "start_time": "2021-05-10T14:49:01.548396Z"
    }
   },
   "outputs": [],
   "source": [
    "datafile = \"Dataset/PlantGrowth.csv\"\n",
    "data = pd.read_csv(datafile)"
   ]
  },
  {
   "cell_type": "code",
   "execution_count": 12,
   "id": "2ab38cde",
   "metadata": {
    "ExecuteTime": {
     "end_time": "2021-05-10T14:54:51.642495Z",
     "start_time": "2021-05-10T14:54:51.430805Z"
    }
   },
   "outputs": [
    {
     "data": {
      "image/png": "[encoded data removed]",
      "text/plain": [
       "<Figure size 864x576 with 1 Axes>"
      ]
     },
     "metadata": {
      "needs_background": "light"
     },
     "output_type": "display_data"
    }
   ],
   "source": [
    "data.boxplot('weight',by='group',figsize=(12,8))\n",
    "plt.show()\n",
    "ctrl = data['weight'][data.group == 'ctrl']\n",
    "grps = pd.unique(data.group.values)\n",
    "d_data={grp:data['weight'][data.group==grp] for grp in grps}\n",
    "k = len(pd.unique(data.group))\n",
    "N = len(data.values)\n",
    "n = data.groupby('group').size()[0]"
   ]
  },
  {
   "cell_type": "code",
   "execution_count": 17,
   "id": "dc46646b",
   "metadata": {
    "ExecuteTime": {
     "end_time": "2021-05-10T15:17:42.495149Z",
     "start_time": "2021-05-10T15:17:42.474618Z"
    }
   },
   "outputs": [
    {
     "data": {
      "text/html": [
       "<div>\n",
       "<style scoped>\n",
       "    .dataframe tbody tr th:only-of-type {\n",
       "        vertical-align: middle;\n",
       "    }\n",
       "\n",
       "    .dataframe tbody tr th {\n",
       "        vertical-align: top;\n",
       "    }\n",
       "\n",
       "    .dataframe thead th {\n",
       "        text-align: right;\n",
       "    }\n",
       "</style>\n",
       "<table border=\"1\" class=\"dataframe\">\n",
       "  <thead>\n",
       "    <tr style=\"text-align: right;\">\n",
       "      <th></th>\n",
       "      <th>Unnamed: 0</th>\n",
       "      <th>weight</th>\n",
       "      <th>group</th>\n",
       "    </tr>\n",
       "  </thead>\n",
       "  <tbody>\n",
       "    <tr>\n",
       "      <th>0</th>\n",
       "      <td>1</td>\n",
       "      <td>4.17</td>\n",
       "      <td>ctrl</td>\n",
       "    </tr>\n",
       "    <tr>\n",
       "      <th>1</th>\n",
       "      <td>2</td>\n",
       "      <td>5.58</td>\n",
       "      <td>ctrl</td>\n",
       "    </tr>\n",
       "    <tr>\n",
       "      <th>2</th>\n",
       "      <td>3</td>\n",
       "      <td>5.18</td>\n",
       "      <td>ctrl</td>\n",
       "    </tr>\n",
       "    <tr>\n",
       "      <th>3</th>\n",
       "      <td>4</td>\n",
       "      <td>6.11</td>\n",
       "      <td>ctrl</td>\n",
       "    </tr>\n",
       "    <tr>\n",
       "      <th>4</th>\n",
       "      <td>5</td>\n",
       "      <td>4.50</td>\n",
       "      <td>ctrl</td>\n",
       "    </tr>\n",
       "    <tr>\n",
       "      <th>5</th>\n",
       "      <td>6</td>\n",
       "      <td>4.61</td>\n",
       "      <td>ctrl</td>\n",
       "    </tr>\n",
       "    <tr>\n",
       "      <th>6</th>\n",
       "      <td>7</td>\n",
       "      <td>5.17</td>\n",
       "      <td>ctrl</td>\n",
       "    </tr>\n",
       "    <tr>\n",
       "      <th>7</th>\n",
       "      <td>8</td>\n",
       "      <td>4.53</td>\n",
       "      <td>ctrl</td>\n",
       "    </tr>\n",
       "    <tr>\n",
       "      <th>8</th>\n",
       "      <td>9</td>\n",
       "      <td>5.33</td>\n",
       "      <td>ctrl</td>\n",
       "    </tr>\n",
       "    <tr>\n",
       "      <th>9</th>\n",
       "      <td>10</td>\n",
       "      <td>5.14</td>\n",
       "      <td>ctrl</td>\n",
       "    </tr>\n",
       "    <tr>\n",
       "      <th>10</th>\n",
       "      <td>11</td>\n",
       "      <td>4.81</td>\n",
       "      <td>trt1</td>\n",
       "    </tr>\n",
       "    <tr>\n",
       "      <th>11</th>\n",
       "      <td>12</td>\n",
       "      <td>4.17</td>\n",
       "      <td>trt1</td>\n",
       "    </tr>\n",
       "    <tr>\n",
       "      <th>12</th>\n",
       "      <td>13</td>\n",
       "      <td>4.41</td>\n",
       "      <td>trt1</td>\n",
       "    </tr>\n",
       "    <tr>\n",
       "      <th>13</th>\n",
       "      <td>14</td>\n",
       "      <td>3.59</td>\n",
       "      <td>trt1</td>\n",
       "    </tr>\n",
       "    <tr>\n",
       "      <th>14</th>\n",
       "      <td>15</td>\n",
       "      <td>5.87</td>\n",
       "      <td>trt1</td>\n",
       "    </tr>\n",
       "    <tr>\n",
       "      <th>15</th>\n",
       "      <td>16</td>\n",
       "      <td>3.83</td>\n",
       "      <td>trt1</td>\n",
       "    </tr>\n",
       "    <tr>\n",
       "      <th>16</th>\n",
       "      <td>17</td>\n",
       "      <td>6.03</td>\n",
       "      <td>trt1</td>\n",
       "    </tr>\n",
       "    <tr>\n",
       "      <th>17</th>\n",
       "      <td>18</td>\n",
       "      <td>4.89</td>\n",
       "      <td>trt1</td>\n",
       "    </tr>\n",
       "    <tr>\n",
       "      <th>18</th>\n",
       "      <td>19</td>\n",
       "      <td>4.32</td>\n",
       "      <td>trt1</td>\n",
       "    </tr>\n",
       "    <tr>\n",
       "      <th>19</th>\n",
       "      <td>20</td>\n",
       "      <td>4.69</td>\n",
       "      <td>trt1</td>\n",
       "    </tr>\n",
       "    <tr>\n",
       "      <th>20</th>\n",
       "      <td>21</td>\n",
       "      <td>6.31</td>\n",
       "      <td>trt2</td>\n",
       "    </tr>\n",
       "    <tr>\n",
       "      <th>21</th>\n",
       "      <td>22</td>\n",
       "      <td>5.12</td>\n",
       "      <td>trt2</td>\n",
       "    </tr>\n",
       "    <tr>\n",
       "      <th>22</th>\n",
       "      <td>23</td>\n",
       "      <td>5.54</td>\n",
       "      <td>trt2</td>\n",
       "    </tr>\n",
       "    <tr>\n",
       "      <th>23</th>\n",
       "      <td>24</td>\n",
       "      <td>5.50</td>\n",
       "      <td>trt2</td>\n",
       "    </tr>\n",
       "    <tr>\n",
       "      <th>24</th>\n",
       "      <td>25</td>\n",
       "      <td>5.37</td>\n",
       "      <td>trt2</td>\n",
       "    </tr>\n",
       "    <tr>\n",
       "      <th>25</th>\n",
       "      <td>26</td>\n",
       "      <td>5.29</td>\n",
       "      <td>trt2</td>\n",
       "    </tr>\n",
       "    <tr>\n",
       "      <th>26</th>\n",
       "      <td>27</td>\n",
       "      <td>4.92</td>\n",
       "      <td>trt2</td>\n",
       "    </tr>\n",
       "    <tr>\n",
       "      <th>27</th>\n",
       "      <td>28</td>\n",
       "      <td>6.15</td>\n",
       "      <td>trt2</td>\n",
       "    </tr>\n",
       "    <tr>\n",
       "      <th>28</th>\n",
       "      <td>29</td>\n",
       "      <td>5.80</td>\n",
       "      <td>trt2</td>\n",
       "    </tr>\n",
       "    <tr>\n",
       "      <th>29</th>\n",
       "      <td>30</td>\n",
       "      <td>5.26</td>\n",
       "      <td>trt2</td>\n",
       "    </tr>\n",
       "  </tbody>\n",
       "</table>\n",
       "</div>"
      ],
      "text/plain": [
       "    Unnamed: 0  weight group\n",
       "0            1    4.17  ctrl\n",
       "1            2    5.58  ctrl\n",
       "2            3    5.18  ctrl\n",
       "3            4    6.11  ctrl\n",
       "4            5    4.50  ctrl\n",
       "5            6    4.61  ctrl\n",
       "6            7    5.17  ctrl\n",
       "7            8    4.53  ctrl\n",
       "8            9    5.33  ctrl\n",
       "9           10    5.14  ctrl\n",
       "10          11    4.81  trt1\n",
       "11          12    4.17  trt1\n",
       "12          13    4.41  trt1\n",
       "13          14    3.59  trt1\n",
       "14          15    5.87  trt1\n",
       "15          16    3.83  trt1\n",
       "16          17    6.03  trt1\n",
       "17          18    4.89  trt1\n",
       "18          19    4.32  trt1\n",
       "19          20    4.69  trt1\n",
       "20          21    6.31  trt2\n",
       "21          22    5.12  trt2\n",
       "22          23    5.54  trt2\n",
       "23          24    5.50  trt2\n",
       "24          25    5.37  trt2\n",
       "25          26    5.29  trt2\n",
       "26          27    4.92  trt2\n",
       "27          28    6.15  trt2\n",
       "28          29    5.80  trt2\n",
       "29          30    5.26  trt2"
      ]
     },
     "execution_count": 17,
     "metadata": {},
     "output_type": "execute_result"
    }
   ],
   "source": [
    "data"
   ]
  },
  {
   "cell_type": "markdown",
   "id": "12a0995d",
   "metadata": {},
   "source": [
    "### ANOVA Test"
   ]
  },
  {
   "cell_type": "code",
   "execution_count": 14,
   "id": "ac77ef1c",
   "metadata": {
    "ExecuteTime": {
     "end_time": "2021-05-10T15:13:38.397352Z",
     "start_time": "2021-05-10T15:13:36.642137Z"
    }
   },
   "outputs": [],
   "source": [
    "import statsmodels.api as sm\n",
    "from statsmodels.formula.api import ols"
   ]
  },
  {
   "cell_type": "code",
   "execution_count": 18,
   "id": "f1ac45cf",
   "metadata": {
    "ExecuteTime": {
     "end_time": "2021-05-10T15:18:01.484075Z",
     "start_time": "2021-05-10T15:18:01.081572Z"
    }
   },
   "outputs": [
    {
     "name": "stdout",
     "output_type": "stream",
     "text": [
      "            sum_sq    df         F   PR(>F)\n",
      "group      3.76634   2.0  4.846088  0.01591\n",
      "Residual  10.49209  27.0       NaN      NaN\n"
     ]
    }
   ],
   "source": [
    "mod = ols('weight ~ group', data=data).fit()\n",
    "aov_table = sm.stats.anova_lm(mod, typ=2)\n",
    "print(aov_table)"
   ]
  },
  {
   "cell_type": "markdown",
   "id": "e6539a2a",
   "metadata": {},
   "source": [
    "### Tukey's Test"
   ]
  },
  {
   "cell_type": "code",
   "execution_count": 19,
   "id": "bc210467",
   "metadata": {
    "ExecuteTime": {
     "end_time": "2021-05-10T15:28:34.980729Z",
     "start_time": "2021-05-10T15:28:34.861475Z"
    }
   },
   "outputs": [
    {
     "name": "stdout",
     "output_type": "stream",
     "text": [
      "Multiple Comparison of Means - Tukey HSD, FWER=0.05\n",
      "===================================================\n",
      "group1 group2 meandiff p-adj   lower  upper  reject\n",
      "---------------------------------------------------\n",
      "  ctrl   trt1   -0.371 0.3921 -1.0621 0.3201  False\n",
      "  ctrl   trt2    0.494  0.198 -0.1971 1.1851  False\n",
      "  trt1   trt2    0.865  0.012  0.1739 1.5561   True\n",
      "---------------------------------------------------\n",
      "['ctrl' 'trt1' 'trt2']\n"
     ]
    }
   ],
   "source": [
    "from statsmodels.stats.multicomp import pairwise_tukeyhsd\n",
    "from statsmodels.stats.multicomp import MultiComparison\n",
    "\n",
    "mc = MultiComparison(data['weight'],data['group'])\n",
    "result = mc.tukeyhsd()\n",
    "\n",
    "print(result)\n",
    "print(mc.groupsunique)\n"
   ]
  },
  {
   "cell_type": "code",
   "execution_count": null,
   "id": "959b5f14",
   "metadata": {},
   "outputs": [],
   "source": []
  }
 ],
 "metadata": {
  "kernelspec": {
   "display_name": "Python 3",
   "language": "python",
   "name": "python3"
  },
  "language_info": {
   "codemirror_mode": {
    "name": "ipython",
    "version": 3
   },
   "file_extension": ".py",
   "mimetype": "text/x-python",
   "name": "python",
   "nbconvert_exporter": "python",
   "pygments_lexer": "ipython3",
   "version": "3.8.3"
  },
  "latex_envs": {
   "LaTeX_envs_menu_present": true,
   "autoclose": false,
   "autocomplete": true,
   "bibliofile": "biblio.bib",
   "cite_by": "apalike",
   "current_citInitial": 1,
   "eqLabelWithNumbers": true,
   "eqNumInitial": 1,
   "hotkeys": {
    "equation": "Ctrl-E",
    "itemize": "Ctrl-I"
   },
   "labels_anchors": false,
   "latex_user_defs": false,
   "report_style_numbering": false,
   "user_envs_cfg": false
  },
  "varInspector": {
   "cols": {
    "lenName": 16,
    "lenType": 16,
    "lenVar": 40
   },
   "kernels_config": {
    "python": {
     "delete_cmd_postfix": "",
     "delete_cmd_prefix": "del ",
     "library": "var_list.py",
     "varRefreshCmd": "print(var_dic_list())"
    },
    "r": {
     "delete_cmd_postfix": ") ",
     "delete_cmd_prefix": "rm(",
     "library": "var_list.r",
     "varRefreshCmd": "cat(var_dic_list()) "
    }
   },
   "types_to_exclude": [
    "module",
    "function",
    "builtin_function_or_method",
    "instance",
    "_Feature"
   ],
   "window_display": false
  }
 },
 "nbformat": 4,
 "nbformat_minor": 5
}
