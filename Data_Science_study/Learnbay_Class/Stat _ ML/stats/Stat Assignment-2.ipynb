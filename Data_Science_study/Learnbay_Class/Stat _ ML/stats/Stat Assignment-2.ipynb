{
 "cells": [
  {
   "cell_type": "code",
   "execution_count": 1,
   "id": "intelligent-toyota",
   "metadata": {
    "ExecuteTime": {
     "end_time": "2021-05-07T10:46:46.060430Z",
     "start_time": "2021-05-07T10:46:45.798306Z"
    }
   },
   "outputs": [],
   "source": [
    "import pandas as pd\n",
    "import numpy as np"
   ]
  },
  {
   "cell_type": "code",
   "execution_count": 4,
   "id": "built-banana",
   "metadata": {
    "ExecuteTime": {
     "end_time": "2021-05-07T10:47:18.253543Z",
     "start_time": "2021-05-07T10:47:18.244714Z"
    }
   },
   "outputs": [],
   "source": [
    "def hypo_test(filename,alpha):\n",
    "    df = pd.read_csv(filename)\n",
    "    n = df.shape[0]\n",
    "    sd = df.std()\n",
    "    x = df.mean()\n",
    "#   print('No. Sample =', n, \" Standard Deviation =\", round(sd,2), \" Sample Mean=\", x)\n",
    "    z = (x[0]-x[1])/np.sqrt((pow(sd[1],2)/n)+(pow(sd[0],2)/n))\n",
    "    print(f\"Z Test \" if n>30 else \"T Test\" , round(z,2))\n",
    "    if (round(z,3) > alpha ):\n",
    "        print('Null Hypo is rejected.')\n",
    "    else:\n",
    "        print('Null Hypo is accepted.')"
   ]
  },
  {
   "cell_type": "code",
   "execution_count": 3,
   "id": "acknowledged-norfolk",
   "metadata": {
    "ExecuteTime": {
     "end_time": "2021-05-07T10:46:46.144280Z",
     "start_time": "2021-05-07T10:46:46.070996Z"
    }
   },
   "outputs": [
    {
     "name": "stdout",
     "output_type": "stream",
     "text": [
      "T Test 1.07\n",
      "Null Hypo is accepted.\n"
     ]
    }
   ],
   "source": [
    "hypo_test('hypothesis_testing.csv',1.96)"
   ]
  }
 ],
 "metadata": {
  "kernelspec": {
   "display_name": "Python 3",
   "language": "python",
   "name": "python3"
  },
  "language_info": {
   "codemirror_mode": {
    "name": "ipython",
    "version": 3
   },
   "file_extension": ".py",
   "mimetype": "text/x-python",
   "name": "python",
   "nbconvert_exporter": "python",
   "pygments_lexer": "ipython3",
   "version": "3.8.3"
  },
  "latex_envs": {
   "LaTeX_envs_menu_present": true,
   "autoclose": false,
   "autocomplete": true,
   "bibliofile": "biblio.bib",
   "cite_by": "apalike",
   "current_citInitial": 1,
   "eqLabelWithNumbers": true,
   "eqNumInitial": 1,
   "hotkeys": {
    "equation": "Ctrl-E",
    "itemize": "Ctrl-I"
   },
   "labels_anchors": false,
   "latex_user_defs": false,
   "report_style_numbering": false,
   "user_envs_cfg": false
  },
  "varInspector": {
   "cols": {
    "lenName": 16,
    "lenType": 16,
    "lenVar": 40
   },
   "kernels_config": {
    "python": {
     "delete_cmd_postfix": "",
     "delete_cmd_prefix": "del ",
     "library": "var_list.py",
     "varRefreshCmd": "print(var_dic_list())"
    },
    "r": {
     "delete_cmd_postfix": ") ",
     "delete_cmd_prefix": "rm(",
     "library": "var_list.r",
     "varRefreshCmd": "cat(var_dic_list()) "
    }
   },
   "types_to_exclude": [
    "module",
    "function",
    "builtin_function_or_method",
    "instance",
    "_Feature"
   ],
   "window_display": false
  }
 },
 "nbformat": 4,
 "nbformat_minor": 5
}
