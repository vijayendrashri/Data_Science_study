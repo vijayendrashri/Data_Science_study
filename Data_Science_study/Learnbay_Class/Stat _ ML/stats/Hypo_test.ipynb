{
 "cells": [
  {
   "cell_type": "code",
   "execution_count": 1,
   "id": "recovered-combine",
   "metadata": {
    "ExecuteTime": {
     "end_time": "2021-05-05T14:45:40.997857Z",
     "start_time": "2021-05-05T14:45:40.795633Z"
    }
   },
   "outputs": [],
   "source": [
    "import numpy as np\n",
    "import pandas as pd\n",
    "from scipy.stats import ttest_ind"
   ]
  },
  {
   "cell_type": "code",
   "execution_count": 2,
   "id": "conscious-floating",
   "metadata": {
    "ExecuteTime": {
     "end_time": "2021-05-05T14:46:12.382518Z",
     "start_time": "2021-05-05T14:46:12.359206Z"
    }
   },
   "outputs": [
    {
     "data": {
      "text/html": [
       "<div>\n",
       "<style scoped>\n",
       "    .dataframe tbody tr th:only-of-type {\n",
       "        vertical-align: middle;\n",
       "    }\n",
       "\n",
       "    .dataframe tbody tr th {\n",
       "        vertical-align: top;\n",
       "    }\n",
       "\n",
       "    .dataframe thead th {\n",
       "        text-align: right;\n",
       "    }\n",
       "</style>\n",
       "<table border=\"1\" class=\"dataframe\">\n",
       "  <thead>\n",
       "    <tr style=\"text-align: right;\">\n",
       "      <th></th>\n",
       "      <th>Current</th>\n",
       "      <th>New</th>\n",
       "    </tr>\n",
       "  </thead>\n",
       "  <tbody>\n",
       "    <tr>\n",
       "      <th>0</th>\n",
       "      <td>264</td>\n",
       "      <td>277</td>\n",
       "    </tr>\n",
       "    <tr>\n",
       "      <th>1</th>\n",
       "      <td>261</td>\n",
       "      <td>269</td>\n",
       "    </tr>\n",
       "    <tr>\n",
       "      <th>2</th>\n",
       "      <td>267</td>\n",
       "      <td>263</td>\n",
       "    </tr>\n",
       "    <tr>\n",
       "      <th>3</th>\n",
       "      <td>272</td>\n",
       "      <td>266</td>\n",
       "    </tr>\n",
       "    <tr>\n",
       "      <th>4</th>\n",
       "      <td>258</td>\n",
       "      <td>262</td>\n",
       "    </tr>\n",
       "  </tbody>\n",
       "</table>\n",
       "</div>"
      ],
      "text/plain": [
       "   Current  New\n",
       "0      264  277\n",
       "1      261  269\n",
       "2      267  263\n",
       "3      272  266\n",
       "4      258  262"
      ]
     },
     "execution_count": 2,
     "metadata": {},
     "output_type": "execute_result"
    }
   ],
   "source": [
    "my_data = pd.read_csv('hypothesis_testing.csv')\n",
    "my_data.headd()"
   ]
  },
  {
   "cell_type": "code",
   "execution_count": 3,
   "id": "clinical-carnival",
   "metadata": {
    "ExecuteTime": {
     "end_time": "2021-05-05T14:46:36.265658Z",
     "start_time": "2021-05-05T14:46:36.260965Z"
    }
   },
   "outputs": [],
   "source": [
    "current = my_data['Current']\n",
    "new = my_data['New']"
   ]
  },
  {
   "cell_type": "markdown",
   "id": "explicit-karen",
   "metadata": {},
   "source": [
    "### T- Test Two Sample"
   ]
  },
  {
   "cell_type": "code",
   "execution_count": 4,
   "id": "african-radical",
   "metadata": {
    "ExecuteTime": {
     "end_time": "2021-05-05T14:46:48.389075Z",
     "start_time": "2021-05-05T14:46:48.381069Z"
    }
   },
   "outputs": [
    {
     "data": {
      "text/plain": [
       "Ttest_indResult(statistic=1.3283615935245678, pvalue=0.18793228491854663)"
      ]
     },
     "execution_count": 4,
     "metadata": {},
     "output_type": "execute_result"
    }
   ],
   "source": [
    "ttest_ind(current,new)"
   ]
  },
  {
   "cell_type": "markdown",
   "id": "hourly-depth",
   "metadata": {},
   "source": [
    "### Two sample Z - Test"
   ]
  },
  {
   "cell_type": "code",
   "execution_count": 5,
   "id": "prostate-robert",
   "metadata": {
    "ExecuteTime": {
     "end_time": "2021-05-05T14:57:39.762697Z",
     "start_time": "2021-05-05T14:57:39.716579Z"
    }
   },
   "outputs": [
    {
     "name": "stdout",
     "output_type": "stream",
     "text": [
      "0.18405868087594723\n"
     ]
    }
   ],
   "source": [
    "from statsmodels.stats import weightstats as stests\n",
    "\n",
    "ztest, pval = stests.ztest(current,x2 = new ,alternative='two-sided')\n",
    "print(float(pval))"
   ]
  },
  {
   "cell_type": "code",
   "execution_count": null,
   "id": "minor-press",
   "metadata": {},
   "outputs": [],
   "source": []
  }
 ],
 "metadata": {
  "kernelspec": {
   "display_name": "Python 3",
   "language": "python",
   "name": "python3"
  },
  "language_info": {
   "codemirror_mode": {
    "name": "ipython",
    "version": 3
   },
   "file_extension": ".py",
   "mimetype": "text/x-python",
   "name": "python",
   "nbconvert_exporter": "python",
   "pygments_lexer": "ipython3",
   "version": "3.8.3"
  },
  "latex_envs": {
   "LaTeX_envs_menu_present": true,
   "autoclose": false,
   "autocomplete": true,
   "bibliofile": "biblio.bib",
   "cite_by": "apalike",
   "current_citInitial": 1,
   "eqLabelWithNumbers": true,
   "eqNumInitial": 1,
   "hotkeys": {
    "equation": "Ctrl-E",
    "itemize": "Ctrl-I"
   },
   "labels_anchors": false,
   "latex_user_defs": false,
   "report_style_numbering": false,
   "user_envs_cfg": false
  },
  "varInspector": {
   "cols": {
    "lenName": 16,
    "lenType": 16,
    "lenVar": 40
   },
   "kernels_config": {
    "python": {
     "delete_cmd_postfix": "",
     "delete_cmd_prefix": "del ",
     "library": "var_list.py",
     "varRefreshCmd": "print(var_dic_list())"
    },
    "r": {
     "delete_cmd_postfix": ") ",
     "delete_cmd_prefix": "rm(",
     "library": "var_list.r",
     "varRefreshCmd": "cat(var_dic_list()) "
    }
   },
   "types_to_exclude": [
    "module",
    "function",
    "builtin_function_or_method",
    "instance",
    "_Feature"
   ],
   "window_display": false
  }
 },
 "nbformat": 4,
 "nbformat_minor": 5
}
