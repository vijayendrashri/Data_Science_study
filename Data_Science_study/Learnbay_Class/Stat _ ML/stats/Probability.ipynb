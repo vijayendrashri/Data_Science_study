{
 "cells": [
  {
   "cell_type": "markdown",
   "id": "d647992b",
   "metadata": {},
   "source": [
    "### Probability Calculation"
   ]
  },
  {
   "cell_type": "code",
   "execution_count": 45,
   "id": "997ade05",
   "metadata": {
    "ExecuteTime": {
     "end_time": "2021-05-07T15:31:26.767580Z",
     "start_time": "2021-05-07T15:31:26.498573Z"
    }
   },
   "outputs": [
    {
     "name": "stdout",
     "output_type": "stream",
     "text": [
      "The probability of rolling an even number or greater than 7 is: 66.79 %\n"
     ]
    }
   ],
   "source": [
    "import numpy as np\n",
    "import random\n",
    "\n",
    "#Function for rolling the dice\n",
    "def roll_the_dice(n_simulations = 100000):\n",
    "\n",
    "    count = 0\n",
    "\n",
    "    #Each iteration of for loop is the trail\n",
    "    for i in range(n_simulations):\n",
    "\n",
    "        #Roll each die\n",
    "        die1 = random.randint(1,6)\n",
    "        die2 = random.randint(1,6)\n",
    "\n",
    "        #Sum the values to get the score\n",
    "        score = die1 + die2\n",
    "\n",
    "        #Decide if we should add it to the count\n",
    "        if ((score % 2 == 0) or (score > 7)):\n",
    "            count += 1\n",
    "\n",
    "    return count/n_simulations\n",
    "\n",
    "string = 'The probability of rolling an even number or greater than 7 is:'\n",
    "print (string,np.round(roll_the_dice()*100,2), '%') "
   ]
  },
  {
   "cell_type": "code",
   "execution_count": 6,
   "id": "0c089a5b",
   "metadata": {
    "ExecuteTime": {
     "end_time": "2021-05-07T15:19:22.106163Z",
     "start_time": "2021-05-07T15:19:22.098980Z"
    }
   },
   "outputs": [],
   "source": [
    "trial = 10000\n",
    "totalA = 12\n",
    "totalB = 18\n",
    "successes = 0\n",
    "\n",
    "choiselist = list(\"A\"*totalA + \"B\"* totalB)"
   ]
  },
  {
   "cell_type": "code",
   "execution_count": 8,
   "id": "ded781f9",
   "metadata": {
    "ExecuteTime": {
     "end_time": "2021-05-07T15:20:02.265265Z",
     "start_time": "2021-05-07T15:20:02.261637Z"
    }
   },
   "outputs": [],
   "source": [
    "def transistor():\n",
    "    return random.choice(choiselist)"
   ]
  },
  {
   "cell_type": "code",
   "execution_count": 13,
   "id": "e567123f",
   "metadata": {
    "ExecuteTime": {
     "end_time": "2021-05-07T15:23:14.163434Z",
     "start_time": "2021-05-07T15:23:14.133347Z"
    }
   },
   "outputs": [
    {
     "name": "stdout",
     "output_type": "stream",
     "text": [
      "1.1816\n"
     ]
    }
   ],
   "source": [
    "for i in range(trial):\n",
    "    try1 = transistor()\n",
    "    try2 = transistor()\n",
    "    if try1 == \"A\" and try2 ==\"B\":\n",
    "        successes +=1\n",
    "print(float(successes)/trial)"
   ]
  },
  {
   "cell_type": "code",
   "execution_count": 31,
   "id": "a6ead9b4",
   "metadata": {
    "ExecuteTime": {
     "end_time": "2021-05-07T15:27:18.253715Z",
     "start_time": "2021-05-07T15:27:18.243944Z"
    }
   },
   "outputs": [
    {
     "name": "stdout",
     "output_type": "stream",
     "text": [
      "[ 4  3  7  5  6  4  3  5  4  4  5  6  2  5  4  5  8  5  6  5  5  7  4  8\n",
      "  7  3  7  4  6  3  6  6  3  2  7  6  6  4  7  4  5  3  4  7  5  4  5  2\n",
      "  6  3  6  7  4  4  4  4  6  6  2  2  6  4  7  7  4  6  4  5  4  4  6  3\n",
      "  5  6  7  6  6  4  7  4  6  4  5  6  4  4  3  4  5  5 10  5  5  4  3  5\n",
      "  6  5  7  9  8  4  5  3  7  5  5  5  8  3  3  6  7  7  9  4  4  6  8  6\n",
      "  3  4  5  6  6  4  8  5  6  2  6  5  3  3  4  5  2  3  4  3  6  6  5  3\n",
      "  5  8 10  5  5  6  7  5  6  4  5  4  6  8  6  5  2  2  5  4  5  6  7  3\n",
      "  5  3  8  4  5  3  5  5  6  4  7  7  6  6  2  6  7  5  4  5  5  4  5  8\n",
      "  6  4  6  5  5  3  6  5  5  3  4  7  3  6  5  1  3  6  4  6  4  5  5  6\n",
      "  7  7  6  3  3  6  7  5  5  5  5  7  6  6  6  5  2  6  7  3  6  6  6  4\n",
      "  4  7  5  6  4  7  3  3  2  6  6  8  5  5  2  6  7  1  4  4  2  8  9  8\n",
      "  8  5  5  2  6  3  6  2  4  5  4  7  6  6  6  6  6  7  2  4  6  5  7  7\n",
      "  6  3  6  4  6  3  5  2  6  6  7  8  7  5  5  6  6  5  4  5  8  6  4  6\n",
      "  2  2  6  4  5  4  5  7  6  6  7  7  4  6  5  4  8  5  5  4  4  5  4  6\n",
      "  5  4  2  4  6  6  6  6  3  6  6  5  7  7  9  8  5  6  3  7  6  5  3  6\n",
      "  4  6  6  4  6  4  4  4  7  8  5  4  3  7  6  4  6  7  5  4  1  5  8  7\n",
      "  6  5  4  3  7  3  6  4  6  5  5  5  5  7  3  2  6  7  7  5  6  4  5  3\n",
      "  3  6  7  6  3  6  4  4  4  3  4  5  3  6  8  5  4  8  3  6  7  7  6  3\n",
      "  7  6  3  9  2  7  8  8  5  5  6  6  5  7  4  7  5  7  5  4  6  6  7  4\n",
      "  6  6  8  6  3  7  3  4  3  5  4  6  3  5  5  5  7  5  5  5  6  8  7  4\n",
      "  5  2  2  7  5  5  5  4  7  8  4  3  5  4  5  4  5  6  7  6  6  7  7  5\n",
      "  6  3  6  3  6  3  3  2  5  4  7  6  3  4  5  6  3  3  6  7  4  8  6  7\n",
      "  6  4  5  8  3  5  5  3  2  5  3  4  5  7  7  4  7  4  8  6  6  6  7  7\n",
      "  6  4  6  3  6  2  6  5  5  3  5  4  5  5  4  5  4  4  4  3  7  5  2  7\n",
      "  4  5  3  5  5  6  3  5  5  5  5  5  8  3  3  5  5  6  4  4  3  6  5  7\n",
      "  5  7  5  6  5  5  5  7  3  6  5  5  7  3  6  5  6  5  5  7  4  4  7  2\n",
      "  6  5  3  4  3  6  7  4  5  6  6  7  7  4 10  7  5  4  4  5  5  6  6  6\n",
      "  6  6  5  6  5  5  4  3  3  4  5  5  6  3  6  7  3  5  4  6  2  5  5  6\n",
      "  3  4  4  6  4  3  3  3  3  5  3  4  5  5  2  5  5  7  6  3  5  6  6  5\n",
      "  6  4  4  4  5  4  3  6  7  5  6  6  5  4  3  5  4  5  5  7  5  6  5  7\n",
      "  5  4  5  6  4  2  4  4  4  4  6  0  4  5  4  2  7  3  6  8  6  4  6  7\n",
      "  5  7  4  7  3  6  4  5  3  8  4  8  7  5  4  9  2  7  3  4  7  5  5  4\n",
      "  3  4  6  7  7  4  4  5  6  7  5  3  4  6  5  5  7  3  6  8  3  6  5  5\n",
      "  3  2  6  7  5  4  4  3  5  3  6  4  6  3  6  9  3  4  7  4  5  5  6  4\n",
      "  6  7  5  4  9  1  6  9  4  4  6  6  6  4  4  3  8  4  2  4  4  7  9  5\n",
      "  6  4  5  3  3  5  6  6  7  5  1  3  3  2  5  3  5  4  5  6  5  2  6  6\n",
      "  7  7  7  8  4  5  4  4  4  5  6  6  5  5  6  4  4  5  6  4  5  4  8  7\n",
      "  4  7  7  3  4  8  5  3  9  8  6  5  5  5  4  6  7  6  5  7  6  2  5  5\n",
      "  4  6  6  4  4  3  4  3  5  4  6  4  6  5  4  6  5  5  2  4  5  7  5  3\n",
      "  5  5  4  5  3  5  5  8  1  6  4  6  2  5  6  5  5  5  3  5  6  4  3  5\n",
      "  5  3  4  7  5  5  3  3  3  4  8  6  5  3  2  3  3  5  4  4  4  3  3  8\n",
      "  4  3  4  2  4  6  6  5  3  6  4  6  5  6  6  5]\n"
     ]
    }
   ],
   "source": [
    "n,p = 10,.5\n",
    "s =np.random.binomial(n,p,1000)\n",
    "print(s)"
   ]
  },
  {
   "cell_type": "code",
   "execution_count": 61,
   "id": "61fd3f57",
   "metadata": {
    "ExecuteTime": {
     "end_time": "2021-05-07T15:40:47.026044Z",
     "start_time": "2021-05-07T15:40:46.932470Z"
    }
   },
   "outputs": [
    {
     "data": {
      "text/plain": [
       "0.38235"
      ]
     },
     "execution_count": 61,
     "metadata": {},
     "output_type": "execute_result"
    }
   ],
   "source": [
    "sum(np.random.binomial(9,.1,20000) == 0 )/20000"
   ]
  },
  {
   "cell_type": "code",
   "execution_count": 66,
   "id": "4173db6f",
   "metadata": {
    "ExecuteTime": {
     "end_time": "2021-05-07T15:51:46.298792Z",
     "start_time": "2021-05-07T15:51:45.928904Z"
    }
   },
   "outputs": [
    {
     "data": {
      "image/png": "[encoded data removed]",
      "text/plain": [
       "<Figure size 360x360 with 1 Axes>"
      ]
     },
     "metadata": {
      "needs_background": "light"
     },
     "output_type": "display_data"
    }
   ],
   "source": [
    "import seaborn as sns\n",
    "from scipy.stats import binom\n",
    "import matplotlib.pyplot as plt\n",
    "\n",
    "binom.rvs(n=10,p=0.5)\n",
    "binom.rvs(n=10,p=0.5,size =5)\n",
    "\n",
    "data_binom= binom.rvs(n=10,p=0.5,size= 10000)\n",
    "ax = sns.displot(data_binom,kde =False ,color = 'skyblue',\n",
    "#                  hist_kws={\"linewidth\":15,\"alpha\":1}\n",
    "                )\n",
    "ax.set(xlabel='Binomial',ylabel='Frequency')\n",
    "plt.show()"
   ]
  },
  {
   "cell_type": "code",
   "execution_count": 68,
   "id": "4b38eb57",
   "metadata": {
    "ExecuteTime": {
     "end_time": "2021-05-07T15:57:54.029535Z",
     "start_time": "2021-05-07T15:57:54.025557Z"
    }
   },
   "outputs": [],
   "source": [
    "from scipy.stats import poisson\n",
    "import matplotlib.pyplot as plt"
   ]
  },
  {
   "cell_type": "code",
   "execution_count": 73,
   "id": "49b5768e",
   "metadata": {
    "ExecuteTime": {
     "end_time": "2021-05-07T16:08:41.271508Z",
     "start_time": "2021-05-07T16:08:41.066622Z"
    }
   },
   "outputs": [
    {
     "name": "stdout",
     "output_type": "stream",
     "text": [
      "0.06321459690112517\n"
     ]
    },
    {
     "data": {
      "image/png": "[encoded data removed]",
      "text/plain": [
       "<Figure size 432x288 with 1 Axes>"
      ]
     },
     "metadata": {
      "needs_background": "light"
     },
     "output_type": "display_data"
    }
   ],
   "source": [
    "plt.ylabel(\"Probability of car passing\")\n",
    "plt.xlabel(\"Num of cars\")\n",
    "plt.title(\"Probability Distribution curve\")\n",
    "\n",
    "arr = []\n",
    "rv = poisson(25)\n",
    "for num in range(0,40):\n",
    "    arr.append(rv.pmf(num))\n",
    "    \n",
    "prob = rv.pmf(28)\n",
    "print(prob)\n",
    "plt.grid()\n",
    "plt.plot(arr,linewidth=2.0)\n",
    "plt.plot([28],[prob],marker='o',markersize=6,color='red')\n",
    "plt.show()"
   ]
  },
  {
   "cell_type": "code",
   "execution_count": null,
   "id": "b04df10f",
   "metadata": {},
   "outputs": [],
   "source": []
  }
 ],
 "metadata": {
  "kernelspec": {
   "display_name": "Python 3",
   "language": "python",
   "name": "python3"
  },
  "language_info": {
   "codemirror_mode": {
    "name": "ipython",
    "version": 3
   },
   "file_extension": ".py",
   "mimetype": "text/x-python",
   "name": "python",
   "nbconvert_exporter": "python",
   "pygments_lexer": "ipython3",
   "version": "3.8.3"
  },
  "latex_envs": {
   "LaTeX_envs_menu_present": true,
   "autoclose": false,
   "autocomplete": true,
   "bibliofile": "biblio.bib",
   "cite_by": "apalike",
   "current_citInitial": 1,
   "eqLabelWithNumbers": true,
   "eqNumInitial": 1,
   "hotkeys": {
    "equation": "Ctrl-E",
    "itemize": "Ctrl-I"
   },
   "labels_anchors": false,
   "latex_user_defs": false,
   "report_style_numbering": false,
   "user_envs_cfg": false
  },
  "varInspector": {
   "cols": {
    "lenName": 16,
    "lenType": 16,
    "lenVar": 40
   },
   "kernels_config": {
    "python": {
     "delete_cmd_postfix": "",
     "delete_cmd_prefix": "del ",
     "library": "var_list.py",
     "varRefreshCmd": "print(var_dic_list())"
    },
    "r": {
     "delete_cmd_postfix": ") ",
     "delete_cmd_prefix": "rm(",
     "library": "var_list.r",
     "varRefreshCmd": "cat(var_dic_list()) "
    }
   },
   "types_to_exclude": [
    "module",
    "function",
    "builtin_function_or_method",
    "instance",
    "_Feature"
   ],
   "window_display": false
  }
 },
 "nbformat": 4,
 "nbformat_minor": 5
}
