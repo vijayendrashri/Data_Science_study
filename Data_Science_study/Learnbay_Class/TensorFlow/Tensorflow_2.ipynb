{
 "cells": [
  {
   "cell_type": "markdown",
   "metadata": {
    "id": "YwRhVNG9kVbv"
   },
   "source": [
    "# Tensorflow 2 Introduction\n",
    "\n",
    "Tensorflow 2.x alongwith Keras API provide a powerful set of tools to write Neural Networks, test and deploy them in a jiffy. \n",
    "\n",
    "The official documentation could be found here : https://www.tensorflow.org/"
   ]
  },
  {
   "cell_type": "markdown",
   "metadata": {
    "id": "RRcZDuL1oJ8e"
   },
   "source": [
    "---\n",
    "### TensorFlow 2.0 is an extensive redesign of TensorFlow and Keras that takes into account over four years of user feedback and technical progress.\n",
    "---\n",
    "\n",
    "TensorFlow 2.0 is built on the following key ideas:\n",
    "\n",
    "- Let users run their computation eagerly, like they would in Numpy. This makes TensorFlow 2.0 programming intuitive and Pythonic.\n",
    "- Preserve the considerable advantages of compiled graphs (for performance, distribution, and deployment). This makes TensorFlow fast, scalable, and production-ready.\n",
    "- Leverage Keras as its high-level deep learning API, making TensorFlow approachable and highly productive.\n",
    "- Extend Keras into a spectrum of workflows ranging from the very high-level (easier to use, less flexible) to the very low-level (requires more expertise, but provides great flexibility)."
   ]
  },
  {
   "cell_type": "markdown",
   "metadata": {
    "id": "dQirvOlfk6T6"
   },
   "source": [
    "### Easy model building\n",
    "TensorFlow offers multiple levels of abstraction so you can choose the right one for your needs. Build and train models by using the high-level Keras API, which makes getting started with TensorFlow and machine learning easy.\n",
    "\n",
    "If you need more flexibility, eager execution allows for immediate iteration and intuitive debugging. For large ML training tasks, use the Distribution Strategy API for distributed training on different hardware configurations without changing the model definition."
   ]
  },
  {
   "cell_type": "markdown",
   "metadata": {
    "id": "jMN-IZnalFdI"
   },
   "source": [
    "### Robust ML production anywhere\n",
    "TensorFlow has always provided a direct path to production. Whether it’s on servers, edge devices, or the web, TensorFlow lets you train and deploy your model easily, no matter what language or platform you use.\n",
    "\n",
    "Use TensorFlow Extended (TFX) if you need a full production ML pipeline. For running inference on mobile and edge devices, use TensorFlow Lite. Train and deploy models in JavaScript environments using TensorFlow.js."
   ]
  },
  {
   "cell_type": "markdown",
   "metadata": {
    "id": "mdQePGOdlMUw"
   },
   "source": [
    "### Powerful experimentation for research\n",
    "Build and train state-of-the-art models without sacrificing speed or performance. TensorFlow gives you the flexibility and control with features like the Keras Functional API and Model Subclassing API for creation of complex topologies. For easy prototyping and fast debugging, use eager execution.\n",
    "\n",
    "TensorFlow also supports an ecosystem of powerful add-on libraries and models to experiment with, including Ragged Tensors, TensorFlow Probability, Tensor2Tensor and BERT."
   ]
  },
  {
   "cell_type": "code",
   "execution_count": 1,
   "metadata": {
    "ExecuteTime": {
     "end_time": "2021-07-07T15:11:06.889744Z",
     "start_time": "2021-07-07T15:11:06.874645Z"
    },
    "colab": {
     "base_uri": "https://localhost:8080/",
     "height": 35
    },
    "id": "GjAseJNgjwSq",
    "outputId": "ed2f5acd-4341-40c9-ef46-6af392b2db92"
   },
   "outputs": [
    {
     "data": {
      "text/plain": [
       "'\\n!pip install --upgrade tensorflow  # cpu only\\n!pip install --upgrade tensorflow-gpu # gpu and cpu\\n'"
      ]
     },
     "execution_count": 1,
     "metadata": {},
     "output_type": "execute_result"
    }
   ],
   "source": [
    "'''\n",
    "!pip install --upgrade tensorflow  # cpu only\n",
    "!pip install --upgrade tensorflow-gpu # gpu and cpu\n",
    "'''"
   ]
  },
  {
   "cell_type": "code",
   "execution_count": 1,
   "metadata": {
    "ExecuteTime": {
     "end_time": "2021-07-17T05:25:13.078717Z",
     "start_time": "2021-07-17T05:24:55.027950Z"
    },
    "colab": {
     "base_uri": "https://localhost:8080/"
    },
    "id": "n7MT_GHwlfbS",
    "outputId": "bf863d25-4031-4ad4-90e2-ed3c2e265eff"
   },
   "outputs": [
    {
     "name": "stdout",
     "output_type": "stream",
     "text": [
      "Your TensorFlow version: 2.5.0\n"
     ]
    }
   ],
   "source": [
    "# check the version\n",
    "import tensorflow as tf\n",
    "print(('Your TensorFlow version: {0}').format(tf.__version__))"
   ]
  },
  {
   "cell_type": "markdown",
   "metadata": {
    "id": "6Fua7TBZlxgM"
   },
   "source": [
    "How to verify if running eager execution?\n",
    "\n",
    "Eager execution is a fairly new addition to the tensorflow framework, thus we wish to check if eager execution is enabled or disabled."
   ]
  },
  {
   "cell_type": "code",
   "execution_count": 2,
   "metadata": {
    "ExecuteTime": {
     "end_time": "2021-07-17T05:25:16.559394Z",
     "start_time": "2021-07-17T05:25:16.546465Z"
    },
    "colab": {
     "base_uri": "https://localhost:8080/"
    },
    "id": "ta3hAFCUl1gd",
    "outputId": "b88cf4cd-fba6-4658-a01a-160b985c8038"
   },
   "outputs": [
    {
     "name": "stdout",
     "output_type": "stream",
     "text": [
      "Eager execution is enabled (running operations immediately)\n",
      "\n",
      "Turn eager execution off by running: \n",
      "from tensorflow.python.framework.ops import disable_eager_execution\n",
      "disable_eager_execution()\n"
     ]
    }
   ],
   "source": [
    "if(tf.executing_eagerly()):\n",
    "    print('Eager execution is enabled (running operations immediately)\\n')\n",
    "    print(('Turn eager execution off by running: \\n{0}\\n{1}').format('' \\\n",
    "        'from tensorflow.python.framework.ops import disable_eager_execution', \\\n",
    "        'disable_eager_execution()'))\n",
    "else:\n",
    "    print('You are not running eager execution. TensorFlow version >= 2.0.0' \\\n",
    "          'has eager execution enabled by default.')\n",
    "    print(('Turn on eager execution by running: \\n\\n{0}\\n\\nOr upgrade '\\\n",
    "           'your tensorflow version by running:\\n\\n{1}').format(\n",
    "           'tf.compat.v1.enable_eager_execution()'))"
   ]
  },
  {
   "cell_type": "markdown",
   "metadata": {
    "id": "Rq2K_DC7mOHG"
   },
   "source": [
    "Verify if GPU is available and ready to be used"
   ]
  },
  {
   "cell_type": "code",
   "execution_count": 3,
   "metadata": {
    "ExecuteTime": {
     "end_time": "2021-07-17T05:26:30.040236Z",
     "start_time": "2021-07-17T05:26:29.245184Z"
    },
    "colab": {
     "base_uri": "https://localhost:8080/"
    },
    "id": "oAXts2AVmNtq",
    "outputId": "5551d5cd-4cbb-408f-c857-0ee4fe71b02d"
   },
   "outputs": [
    {
     "name": "stdout",
     "output_type": "stream",
     "text": [
      "Is your GPU available for use? \n",
      "Yes, your GPU is available: True\n",
      "\n",
      "Your devices that are available:\n",
      "['/physical_device:CPU:0', '/physical_device:GPU:0']\n"
     ]
    }
   ],
   "source": [
    "print(('Is your GPU available for use? \\n{0}'\n",
    "       ).format('Yes, your GPU is available: True' if tf.test.is_built_with_cuda(\n",
    "       ) == True else 'No, your GPU is NOT available: False'))\n",
    "\n",
    "print(('\\nYour devices that are available:\\n{0}').format([\n",
    "    device.name for device in tf.config.experimental.list_physical_devices()\n",
    "]))"
   ]
  },
  {
   "cell_type": "markdown",
   "metadata": {
    "id": "meIAavg6mnva"
   },
   "source": [
    "Check the runtime comparison"
   ]
  },
  {
   "cell_type": "code",
   "execution_count": 6,
   "metadata": {
    "ExecuteTime": {
     "end_time": "2021-07-17T05:26:56.658995Z",
     "start_time": "2021-07-17T05:26:56.586864Z"
    },
    "colab": {
     "base_uri": "https://localhost:8080/"
    },
    "id": "_SoUuPUymX-i",
    "outputId": "3d3dd0ea-06d3-478a-fd8e-21e1cc71d972"
   },
   "outputs": [
    {
     "name": "stdout",
     "output_type": "stream",
     "text": [
      "0.05273103713989258\n",
      "0.0012481212615966797\n",
      "GPU speedup over CPU: 42x\n"
     ]
    }
   ],
   "source": [
    "import time\n",
    "\n",
    "cpu_slot = 0\n",
    "gpu_slot = 0\n",
    "\n",
    "# Using CPU at slot 0\n",
    "with tf.device('/CPU:' + str(cpu_slot)):\n",
    "    # Starting a timer\n",
    "    start = time.time()\n",
    "\n",
    "    # Doing operations on CPU\n",
    "    random_image_cpu = tf.random.normal((100, 100, 100, 3))\n",
    "    net_cpu = tf.reduce_sum(random_image_cpu)\n",
    "\n",
    "    # Printing how long it took with CPU\n",
    "    end_cpu = time.time() - start\n",
    "    print(end_cpu)\n",
    "\n",
    "# Using the GPU at slot 0\n",
    "with tf.device('/GPU:' + str(gpu_slot)):\n",
    "    # Starting a timer\n",
    "    start = time.time()\n",
    "\n",
    "    # Doing operations on GPU\n",
    "    random_image_gpu = tf.random.normal((100, 100, 100, 3))\n",
    "    net_gpu = tf.reduce_sum(random_image_gpu)\n",
    "\n",
    "    # Printing how long it took with GPU\n",
    "    end_gpu = time.time() - start\n",
    "    print(end_gpu)\n",
    "print('GPU speedup over CPU: {}x'.format(int(end_cpu / end_gpu)))"
   ]
  },
  {
   "cell_type": "markdown",
   "metadata": {
    "id": "Mnk9WgLznexv"
   },
   "source": [
    "Basic Datatypes"
   ]
  },
  {
   "cell_type": "markdown",
   "metadata": {
    "id": "8ArPSlQ4njYA"
   },
   "source": [
    "**Constant**\n"
   ]
  },
  {
   "cell_type": "code",
   "execution_count": 6,
   "metadata": {
    "ExecuteTime": {
     "end_time": "2021-07-07T13:16:44.892374Z",
     "start_time": "2021-07-07T13:16:44.837229Z"
    },
    "colab": {
     "base_uri": "https://localhost:8080/"
    },
    "id": "uQIA2PXVnnIL",
    "outputId": "26117032-76e1-4483-d55d-42f133cad5a2"
   },
   "outputs": [
    {
     "data": {
      "text/plain": [
       "tf.float64"
      ]
     },
     "execution_count": 6,
     "metadata": {},
     "output_type": "execute_result"
    }
   ],
   "source": [
    "c = tf.constant(4.0, dtype=tf.float64)\n",
    "c.dtype"
   ]
  },
  {
   "cell_type": "code",
   "execution_count": 7,
   "metadata": {
    "ExecuteTime": {
     "end_time": "2021-07-07T13:16:44.999751Z",
     "start_time": "2021-07-07T13:16:44.894894Z"
    },
    "colab": {
     "base_uri": "https://localhost:8080/"
    },
    "id": "Yg4x-gsjdb_a",
    "outputId": "13671976-eadf-4eb2-e57f-cfb05bb71b3c"
   },
   "outputs": [
    {
     "name": "stdout",
     "output_type": "stream",
     "text": [
      "tf.Tensor(4.0, shape=(), dtype=float64)\n"
     ]
    }
   ],
   "source": [
    "print(c)"
   ]
  },
  {
   "cell_type": "code",
   "execution_count": 8,
   "metadata": {
    "ExecuteTime": {
     "end_time": "2021-07-07T13:16:45.084393Z",
     "start_time": "2021-07-07T13:16:45.008590Z"
    },
    "colab": {
     "base_uri": "https://localhost:8080/"
    },
    "id": "vKXMJZEgoX5P",
    "outputId": "5ede1913-00f0-4bbc-a57b-20a2a87eb275"
   },
   "outputs": [
    {
     "data": {
      "text/plain": [
       "dtype('int64')"
      ]
     },
     "execution_count": 8,
     "metadata": {},
     "output_type": "execute_result"
    }
   ],
   "source": [
    "import numpy as np\n",
    "d = np.array([ [1,2,3], [4,5,6]])\n",
    "d.dtype"
   ]
  },
  {
   "cell_type": "code",
   "execution_count": 9,
   "metadata": {
    "ExecuteTime": {
     "end_time": "2021-07-07T13:16:45.156694Z",
     "start_time": "2021-07-07T13:16:45.086335Z"
    },
    "colab": {
     "base_uri": "https://localhost:8080/"
    },
    "id": "6TTHXQKWodYA",
    "outputId": "53eb0914-8e4c-4d2a-cf08-40206397a423"
   },
   "outputs": [
    {
     "name": "stdout",
     "output_type": "stream",
     "text": [
      "tf.Tensor(\n",
      "[[1 2 3]\n",
      " [4 5 6]], shape=(2, 3), dtype=int64)\n"
     ]
    }
   ],
   "source": [
    "e = tf.constant(d)\n",
    "print(e)"
   ]
  },
  {
   "cell_type": "code",
   "execution_count": 10,
   "metadata": {
    "ExecuteTime": {
     "end_time": "2021-07-07T13:16:45.243202Z",
     "start_time": "2021-07-07T13:16:45.160964Z"
    },
    "colab": {
     "base_uri": "https://localhost:8080/"
    },
    "id": "_YqkPVigd_fj",
    "outputId": "9dc68778-424f-44d0-ca38-03b0b543f4d7"
   },
   "outputs": [
    {
     "data": {
      "text/plain": [
       "tf.int64"
      ]
     },
     "execution_count": 10,
     "metadata": {},
     "output_type": "execute_result"
    }
   ],
   "source": [
    "e.dtype"
   ]
  },
  {
   "cell_type": "code",
   "execution_count": 11,
   "metadata": {
    "ExecuteTime": {
     "end_time": "2021-07-07T13:16:45.348943Z",
     "start_time": "2021-07-07T13:16:45.247308Z"
    },
    "colab": {
     "base_uri": "https://localhost:8080/"
    },
    "id": "FyxVHoqfolIE",
    "outputId": "e368aad5-4d60-4f36-d879-e9a92ae43f6b"
   },
   "outputs": [
    {
     "name": "stdout",
     "output_type": "stream",
     "text": [
      "tf.Tensor([1 0 1], shape=(3,), dtype=int32)\n"
     ]
    },
    {
     "data": {
      "text/plain": [
       "<tf.Tensor: shape=(3, 1), dtype=int32, numpy=\n",
       "array([[1],\n",
       "       [0],\n",
       "       [1]], dtype=int32)>"
      ]
     },
     "execution_count": 11,
     "metadata": {},
     "output_type": "execute_result"
    }
   ],
   "source": [
    "b = tf.constant( [1,0,1]) \n",
    "print (b)\n",
    "b = tf.expand_dims(b,1)\n",
    "b.shape\n",
    "b"
   ]
  },
  {
   "cell_type": "code",
   "execution_count": 12,
   "metadata": {
    "ExecuteTime": {
     "end_time": "2021-07-07T13:16:45.429277Z",
     "start_time": "2021-07-07T13:16:45.353518Z"
    },
    "colab": {
     "base_uri": "https://localhost:8080/"
    },
    "id": "FKCokg4MuPt7",
    "outputId": "616b5b4c-0fd7-4542-a76e-3a903b0d1bdb",
    "scrolled": true
   },
   "outputs": [
    {
     "data": {
      "text/plain": [
       "<tf.Tensor: shape=(5, 5), dtype=float32, numpy=\n",
       "array([[ 1.5778289 ,  1.3424317 ,  1.2899965 ,  0.17103595, -0.04193725],\n",
       "       [ 0.9550956 , -0.75889105, -0.66252816,  1.0739785 , -1.1163186 ],\n",
       "       [-0.17133397, -1.1619769 ,  0.63408834,  0.33570632,  0.06903678],\n",
       "       [ 0.1039075 ,  0.31590202,  0.43592817,  1.5667031 ,  0.21678412],\n",
       "       [-0.14894295, -0.99190086, -0.9459586 , -0.10052883,  0.36106077]],\n",
       "      dtype=float32)>"
      ]
     },
     "execution_count": 12,
     "metadata": {},
     "output_type": "execute_result"
    }
   ],
   "source": [
    "tf.random.normal(shape=(5,5), mean=0., stddev=1.)"
   ]
  },
  {
   "cell_type": "code",
   "execution_count": 13,
   "metadata": {
    "ExecuteTime": {
     "end_time": "2021-07-07T13:16:45.506302Z",
     "start_time": "2021-07-07T13:16:45.433029Z"
    },
    "colab": {
     "base_uri": "https://localhost:8080/"
    },
    "id": "OgSXd0T-uTwX",
    "outputId": "f6119f82-3821-4d5a-b1f0-f0d4274e7f8a",
    "scrolled": true
   },
   "outputs": [
    {
     "data": {
      "text/plain": [
       "<tf.Tensor: shape=(5, 5), dtype=int32, numpy=\n",
       "array([[1, 9, 1, 8, 7],\n",
       "       [7, 4, 3, 3, 6],\n",
       "       [4, 2, 8, 9, 8],\n",
       "       [8, 6, 3, 4, 3],\n",
       "       [0, 3, 2, 6, 6]], dtype=int32)>"
      ]
     },
     "execution_count": 13,
     "metadata": {},
     "output_type": "execute_result"
    }
   ],
   "source": [
    "tf.random.uniform(shape=(5, 5), minval=0, maxval=10, dtype='int32')"
   ]
  },
  {
   "cell_type": "markdown",
   "metadata": {
    "id": "Vsu3IENkrPiT"
   },
   "source": [
    "**Variables**"
   ]
  },
  {
   "cell_type": "code",
   "execution_count": 14,
   "metadata": {
    "ExecuteTime": {
     "end_time": "2021-07-07T13:16:45.607360Z",
     "start_time": "2021-07-07T13:16:45.510420Z"
    },
    "colab": {
     "base_uri": "https://localhost:8080/"
    },
    "id": "t8TJMm9arQmf",
    "outputId": "98cde61d-1bb9-427f-c74b-e56c3d1a7e86"
   },
   "outputs": [
    {
     "name": "stdout",
     "output_type": "stream",
     "text": [
      "<tf.Variable 'Variable:0' shape=(1, 5) dtype=float32, numpy=\n",
      "array([[ 0.0086447 ,  1.7007571 ,  0.9271905 , -0.09284566, -2.719066  ]],\n",
      "      dtype=float32)>\n"
     ]
    }
   ],
   "source": [
    "init_vals = tf.random.normal((1,5),0,1)\n",
    "var = tf.Variable(init_vals)\n",
    "print(var)"
   ]
  },
  {
   "cell_type": "code",
   "execution_count": 15,
   "metadata": {
    "ExecuteTime": {
     "end_time": "2021-07-07T13:16:45.703362Z",
     "start_time": "2021-07-07T13:16:45.611854Z"
    },
    "colab": {
     "base_uri": "https://localhost:8080/"
    },
    "id": "4sJHvnOwmIMh",
    "outputId": "a784af1a-28ac-4780-ce74-cdee9075fd52"
   },
   "outputs": [
    {
     "data": {
      "text/plain": [
       "tf.float32"
      ]
     },
     "execution_count": 15,
     "metadata": {},
     "output_type": "execute_result"
    }
   ],
   "source": [
    "var.dtype"
   ]
  },
  {
   "cell_type": "markdown",
   "metadata": {
    "id": "vQK6S0L1ubNL"
   },
   "source": [
    "We update the value of a Variable by using the methods .assign(value), or .assign_add(increment) or .assign_sub(decrement):"
   ]
  },
  {
   "cell_type": "code",
   "execution_count": 16,
   "metadata": {
    "ExecuteTime": {
     "end_time": "2021-07-07T13:16:45.780187Z",
     "start_time": "2021-07-07T13:16:45.706995Z"
    },
    "colab": {
     "base_uri": "https://localhost:8080/"
    },
    "id": "ZpmZNtjEuh7m",
    "outputId": "95102ec6-fe3d-4b31-9ea9-5637d8ce7ee1"
   },
   "outputs": [
    {
     "name": "stdout",
     "output_type": "stream",
     "text": [
      "<tf.Variable 'Variable:0' shape=(2, 2) dtype=float32, numpy=\n",
      "array([[-0.20724542,  1.2297391 ],\n",
      "       [-0.5714016 ,  0.2651368 ]], dtype=float32)>\n"
     ]
    }
   ],
   "source": [
    "initial_value = tf.random.normal(shape=(2, 2))\n",
    "a = tf.Variable(initial_value)\n",
    "print(a)"
   ]
  },
  {
   "cell_type": "code",
   "execution_count": 17,
   "metadata": {
    "ExecuteTime": {
     "end_time": "2021-07-07T13:16:45.867616Z",
     "start_time": "2021-07-07T13:16:45.783854Z"
    },
    "colab": {
     "base_uri": "https://localhost:8080/"
    },
    "id": "P6En2MDKua3o",
    "outputId": "d03c2278-ef1a-4b6b-b85b-c356412414e1"
   },
   "outputs": [
    {
     "name": "stdout",
     "output_type": "stream",
     "text": [
      "tf.Tensor(\n",
      "[[-0.33481777 -0.5837813 ]\n",
      " [-0.977257    0.4494493 ]], shape=(2, 2), dtype=float32)\n"
     ]
    }
   ],
   "source": [
    "new_value = tf.random.normal(shape=(2, 2))\n",
    "print(new_value)\n",
    "a.assign(new_value)\n",
    "for i in range(2):\n",
    "    for j in range(2):\n",
    "        assert a[i, j] == new_value[i, j]"
   ]
  },
  {
   "cell_type": "code",
   "execution_count": 18,
   "metadata": {
    "ExecuteTime": {
     "end_time": "2021-07-07T13:16:45.934769Z",
     "start_time": "2021-07-07T13:16:45.871416Z"
    },
    "colab": {
     "base_uri": "https://localhost:8080/"
    },
    "id": "GKnyS_eHmbNh",
    "outputId": "d3253523-f144-4ee2-a3f8-63329e4eb1b7"
   },
   "outputs": [
    {
     "name": "stdout",
     "output_type": "stream",
     "text": [
      "<tf.Variable 'Variable:0' shape=(2, 2) dtype=float32, numpy=\n",
      "array([[-0.33481777, -0.5837813 ],\n",
      "       [-0.977257  ,  0.4494493 ]], dtype=float32)>\n"
     ]
    }
   ],
   "source": [
    "print (a)"
   ]
  },
  {
   "cell_type": "code",
   "execution_count": 19,
   "metadata": {
    "ExecuteTime": {
     "end_time": "2021-07-07T13:16:46.019620Z",
     "start_time": "2021-07-07T13:16:45.936964Z"
    },
    "colab": {
     "base_uri": "https://localhost:8080/"
    },
    "id": "7l6PSFx-aq3D",
    "outputId": "268bb32c-eb96-4966-b444-8ee52650148d"
   },
   "outputs": [
    {
     "name": "stdout",
     "output_type": "stream",
     "text": [
      "tf.Tensor(\n",
      "[[-0.33481777 -0.5837813 ]\n",
      " [-0.977257    0.4494493 ]], shape=(2, 2), dtype=float32)\n"
     ]
    }
   ],
   "source": [
    "print(new_value)"
   ]
  },
  {
   "cell_type": "code",
   "execution_count": 20,
   "metadata": {
    "ExecuteTime": {
     "end_time": "2021-07-07T13:16:46.103027Z",
     "start_time": "2021-07-07T13:16:46.023672Z"
    },
    "id": "tO4mdlGXumvt"
   },
   "outputs": [],
   "source": [
    "added_value = tf.random.normal(shape=(2, 2))\n",
    "a.assign_add(added_value)\n",
    "for i in range(2):\n",
    "    for j in range(2):\n",
    "        assert a[i, j] == new_value[i, j] + added_value[i, j]"
   ]
  },
  {
   "cell_type": "code",
   "execution_count": 21,
   "metadata": {
    "ExecuteTime": {
     "end_time": "2021-07-07T13:16:46.186779Z",
     "start_time": "2021-07-07T13:16:46.105024Z"
    },
    "colab": {
     "base_uri": "https://localhost:8080/"
    },
    "id": "ZIJNerMJmnRG",
    "outputId": "3aefbff3-913b-400e-9ef2-14414d2301a0"
   },
   "outputs": [
    {
     "name": "stdout",
     "output_type": "stream",
     "text": [
      "<tf.Variable 'Variable:0' shape=(2, 2) dtype=float32, numpy=\n",
      "array([[-2.394321  ,  0.17609811],\n",
      "       [-0.44337463,  1.5143661 ]], dtype=float32)>\n"
     ]
    }
   ],
   "source": [
    "print(a)"
   ]
  },
  {
   "cell_type": "code",
   "execution_count": 22,
   "metadata": {
    "ExecuteTime": {
     "end_time": "2021-07-07T13:16:46.311996Z",
     "start_time": "2021-07-07T13:16:46.191477Z"
    },
    "id": "TtDgfx7ru0OJ"
   },
   "outputs": [],
   "source": [
    "a = tf.random.normal(shape=(2, 2))\n",
    "b = tf.random.normal(shape=(2, 2))\n",
    "\n",
    "c = a + b\n",
    "d = tf.square(c)\n",
    "e = tf.exp(d)"
   ]
  },
  {
   "cell_type": "code",
   "execution_count": 23,
   "metadata": {
    "ExecuteTime": {
     "end_time": "2021-07-07T13:16:46.396794Z",
     "start_time": "2021-07-07T13:16:46.325753Z"
    },
    "colab": {
     "base_uri": "https://localhost:8080/"
    },
    "id": "XbgUOeQAu4En",
    "outputId": "6437f989-cf0b-42df-8bf5-a77f5270f1ac"
   },
   "outputs": [
    {
     "name": "stdout",
     "output_type": "stream",
     "text": [
      "tf.Tensor(\n",
      "[[ 1.4561872   0.9410069 ]\n",
      " [ 1.5632646  -0.08354056]], shape=(2, 2), dtype=float32) tf.Tensor(\n",
      "[[2.1204813  0.885494  ]\n",
      " [2.4437962  0.00697902]], shape=(2, 2), dtype=float32) tf.Tensor(\n",
      "[[ 8.335148   2.4241817]\n",
      " [11.516677   1.0070034]], shape=(2, 2), dtype=float32)\n"
     ]
    }
   ],
   "source": [
    "print (c,d,e)"
   ]
  },
  {
   "cell_type": "markdown",
   "metadata": {
    "id": "DwR3H7bNr5Uu"
   },
   "source": [
    "**Simple Operations**\n",
    "\n",
    "We need to know the basic operations in tensorflow, in order to be able to use tensorflow for most of our work.\n",
    "\n",
    "**Common Use**\n",
    "\n",
    "This is some of the common functions from tensorflow, that you will probably need to use at some point.\n",
    "\n",
    "* Making tensors tf.constant and tf.Variable\n",
    "\n",
    "* Concatenation of two tensors by tf.concat\n",
    "\n",
    "* Making tensors by tf.zeros or tf.ones\n",
    "\n",
    "* Reshape data by tf.reshape\n",
    "\n",
    "* Casting tensors to other data types by tf.cast"
   ]
  },
  {
   "cell_type": "markdown",
   "metadata": {
    "id": "OYq1CjOtsZMJ"
   },
   "source": [
    "Concatenation by tf.concat and making tensors by tf.constant"
   ]
  },
  {
   "cell_type": "code",
   "execution_count": 24,
   "metadata": {
    "ExecuteTime": {
     "end_time": "2021-07-07T13:16:46.481673Z",
     "start_time": "2021-07-07T13:16:46.404520Z"
    },
    "colab": {
     "base_uri": "https://localhost:8080/"
    },
    "id": "cqxn6Jl_sVPm",
    "outputId": "5824926f-44e6-42e2-85d6-40bf1451dd67"
   },
   "outputs": [
    {
     "name": "stdout",
     "output_type": "stream",
     "text": [
      "Adding B's columns to A:\n",
      "[[3 2 9 5]\n",
      " [5 2 1 3]]\n",
      "\n",
      "Adding B's rows to A:\n",
      "[[3 2]\n",
      " [5 2]\n",
      " [9 5]\n",
      " [1 3]]\n"
     ]
    }
   ],
   "source": [
    "# Making a constant tensor A, that does not change\n",
    "A = tf.constant([[3, 2],\n",
    "                 [5, 2]])\n",
    "\n",
    "# Making a Variable tensor VA, which can change. Notice it's .Variable\n",
    "VA = tf.Variable([[3, 2],\n",
    "                 [5, 2]])\n",
    "\n",
    "# Making another tensor B\n",
    "B = tf.constant([[9, 5],\n",
    "                 [1, 3]])\n",
    "\n",
    "# Concatenate columns\n",
    "AB_concatenated = tf.concat(values=[A, B], axis=1)\n",
    "print(('Adding B\\'s columns to A:\\n{0}').format(\n",
    "    AB_concatenated.numpy()\n",
    "))\n",
    "\n",
    "# Concatenate rows\n",
    "AB_concatenated = tf.concat(values=[A, B], axis=0)\n",
    "print(('\\nAdding B\\'s rows to A:\\n{0}').format(\n",
    "    AB_concatenated.numpy()\n",
    "))"
   ]
  },
  {
   "cell_type": "code",
   "execution_count": 25,
   "metadata": {
    "ExecuteTime": {
     "end_time": "2021-07-07T13:16:46.591071Z",
     "start_time": "2021-07-07T13:16:46.486112Z"
    },
    "colab": {
     "base_uri": "https://localhost:8080/"
    },
    "id": "GUy8kflcdkI6",
    "outputId": "02319bc8-44d5-4290-ff56-60b7d9fb531c"
   },
   "outputs": [
    {
     "data": {
      "text/plain": [
       "<tf.Tensor: shape=(4, 2), dtype=int32, numpy=\n",
       "array([[3, 2],\n",
       "       [5, 2],\n",
       "       [9, 5],\n",
       "       [1, 3]], dtype=int32)>"
      ]
     },
     "execution_count": 25,
     "metadata": {},
     "output_type": "execute_result"
    }
   ],
   "source": [
    "AB_concatenated"
   ]
  },
  {
   "cell_type": "markdown",
   "metadata": {
    "id": "_LDKQgHYtCnV"
   },
   "source": [
    "Making tensors by tf.zeros and tf.ones\n"
   ]
  },
  {
   "cell_type": "code",
   "execution_count": 26,
   "metadata": {
    "ExecuteTime": {
     "end_time": "2021-07-07T13:16:46.672611Z",
     "start_time": "2021-07-07T13:16:46.594946Z"
    },
    "colab": {
     "base_uri": "https://localhost:8080/"
    },
    "id": "K72HOBvytGyL",
    "outputId": "683e5576-eb51-48a1-c08f-8be670f8d57d"
   },
   "outputs": [
    {
     "name": "stdout",
     "output_type": "stream",
     "text": [
      "Tensor full of zeros as int32, 3 rows and 4 columns:\n",
      "[[0 0 0 0]\n",
      " [0 0 0 0]\n",
      " [0 0 0 0]]\n",
      "\n",
      "Tensor full of ones as float32, 5 rows and 3 columns:\n",
      "[[1. 1. 1.]\n",
      " [1. 1. 1.]\n",
      " [1. 1. 1.]\n",
      " [1. 1. 1.]\n",
      " [1. 1. 1.]]\n"
     ]
    }
   ],
   "source": [
    "# Making a tensor filled with zeros. shape=[rows, columns]\n",
    "tensor = tf.zeros(shape=[3, 4], dtype=tf.int32)\n",
    "print(('Tensor full of zeros as int32, 3 rows and 4 columns:\\n{0}').format(\n",
    "    tensor.numpy()\n",
    "))\n",
    "\n",
    "# Making a tensor filled with zeros with data type of float32\n",
    "tensor = tf.ones(shape=[5, 3], dtype=tf.float32)\n",
    "print(('\\nTensor full of ones as float32, 5 rows and 3 columns:\\n{0}').format(\n",
    "    tensor.numpy()\n",
    "))"
   ]
  },
  {
   "cell_type": "code",
   "execution_count": 27,
   "metadata": {
    "ExecuteTime": {
     "end_time": "2021-07-07T13:16:46.754059Z",
     "start_time": "2021-07-07T13:16:46.675466Z"
    },
    "colab": {
     "base_uri": "https://localhost:8080/"
    },
    "id": "yrrSb66AtNdn",
    "outputId": "6e59be73-8b15-4a10-f9fd-ed502468f5c7"
   },
   "outputs": [
    {
     "name": "stdout",
     "output_type": "stream",
     "text": [
      "Tensor BEFORE reshape:\n",
      "[[3 2]\n",
      " [5 2]\n",
      " [9 5]\n",
      " [1 3]]\n",
      "\n",
      "Tensor AFTER reshape:\n",
      "[[3 2 5 2 9 5 1 3]]\n"
     ]
    }
   ],
   "source": [
    "# Making a tensor for reshaping\n",
    "tensor = tf.constant([[3, 2],\n",
    "                      [5, 2],\n",
    "                      [9, 5],\n",
    "                      [1, 3]])\n",
    "\n",
    "# Reshaping the tensor into a shape of: shape = [rows, columns]\n",
    "reshaped_tensor = tf.reshape(tensor=tensor,\n",
    "                            shape=[1, 8])\n",
    "\n",
    "print(('Tensor BEFORE reshape:\\n{0}').format(\n",
    "    tensor.numpy()\n",
    "))\n",
    "print(('\\nTensor AFTER reshape:\\n{0}').format(\n",
    "    reshaped_tensor.numpy()\n",
    "))"
   ]
  },
  {
   "cell_type": "code",
   "execution_count": 28,
   "metadata": {
    "ExecuteTime": {
     "end_time": "2021-07-07T13:16:46.836208Z",
     "start_time": "2021-07-07T13:16:46.757887Z"
    },
    "colab": {
     "base_uri": "https://localhost:8080/"
    },
    "id": "VfzeXWSNtVuI",
    "outputId": "0b53c9f2-3b7f-4b41-c3a8-3d46faf79515"
   },
   "outputs": [
    {
     "name": "stdout",
     "output_type": "stream",
     "text": [
      "Tensor with floats:\n",
      "[[3.1 2.8]\n",
      " [5.2 2.3]\n",
      " [9.7 5.5]\n",
      " [1.1 3.4]]\n",
      "\n",
      "Tensor cast from float to int (just remove the decimal, no rounding):\n",
      "[[3 2]\n",
      " [5 2]\n",
      " [9 5]\n",
      " [1 3]]\n"
     ]
    }
   ],
   "source": [
    "# Making a tensor\n",
    "tensor = tf.constant([[3.1, 2.8],\n",
    "                      [5.2, 2.3],\n",
    "                      [9.7, 5.5],\n",
    "                      [1.1, 3.4]], \n",
    "                      dtype=tf.float32)\n",
    "\n",
    "tensor_as_int = tf.cast(tensor, tf.int32)\n",
    "\n",
    "print(('Tensor with floats:\\n{0}').format(\n",
    "    tensor.numpy()\n",
    "))\n",
    "print(('\\nTensor cast from float to int (just remove the decimal, no rounding):\\n{0}').format(\n",
    "    tensor_as_int.numpy()\n",
    "))"
   ]
  },
  {
   "cell_type": "markdown",
   "metadata": {
    "id": "CZhbGkH8tcS7"
   },
   "source": [
    "### The linear algebra operations\n",
    "* Transpose tensor\n",
    "* Matrix Multiplication\n",
    "* Element-wise multiplication\n",
    "* Identity Matrix\n",
    "* Determinant\n",
    "* Dot Product"
   ]
  },
  {
   "cell_type": "code",
   "execution_count": 29,
   "metadata": {
    "ExecuteTime": {
     "end_time": "2021-07-07T13:16:46.920379Z",
     "start_time": "2021-07-07T13:16:46.838190Z"
    },
    "colab": {
     "base_uri": "https://localhost:8080/"
    },
    "id": "ISQcseLltin5",
    "outputId": "5dfccec8-af96-41dc-b63a-cabc92c3c288"
   },
   "outputs": [
    {
     "name": "stdout",
     "output_type": "stream",
     "text": [
      "The transposed matrix A:\n",
      "[[3 1]\n",
      " [7 9]]\n"
     ]
    }
   ],
   "source": [
    "# Some Matrix A\n",
    "A = tf.constant([[3, 7],\n",
    "                 [1, 9]])\n",
    "\n",
    "A = tf.transpose(A)\n",
    "\n",
    "print(('The transposed matrix A:\\n{0}').format(\n",
    "    A\n",
    "))"
   ]
  },
  {
   "cell_type": "code",
   "execution_count": 30,
   "metadata": {
    "ExecuteTime": {
     "end_time": "2021-07-07T13:16:47.034448Z",
     "start_time": "2021-07-07T13:16:46.922619Z"
    },
    "colab": {
     "base_uri": "https://localhost:8080/"
    },
    "id": "kZNUbYcDtmJS",
    "outputId": "c9a8d82e-f5a9-47b7-8ccd-e9e6dd97d60f"
   },
   "outputs": [
    {
     "name": "stdout",
     "output_type": "stream",
     "text": [
      "Matrix Multiplication of A and v results in a new Tensor:\n",
      "[[29]\n",
      " [23]]\n"
     ]
    }
   ],
   "source": [
    "# Some Matrix A\n",
    "A = tf.constant([[3, 7],\n",
    "                 [1, 9]])\n",
    "\n",
    "# Some vector v\n",
    "v = tf.constant([[5],\n",
    "                 [2]])\n",
    "\n",
    "# Matrix multiplication of A.v^T\n",
    "Av = tf.matmul(A, v)\n",
    "\n",
    "print(('Matrix Multiplication of A and v results in a new Tensor:\\n{0}').format(\n",
    "    Av\n",
    "))"
   ]
  },
  {
   "cell_type": "code",
   "execution_count": 31,
   "metadata": {
    "ExecuteTime": {
     "end_time": "2021-07-07T13:16:47.091688Z",
     "start_time": "2021-07-07T13:16:47.037194Z"
    },
    "colab": {
     "base_uri": "https://localhost:8080/"
    },
    "id": "KFHtRNCwtp3d",
    "outputId": "6789d0fc-09dc-48f1-cb94-184aec15b78b"
   },
   "outputs": [
    {
     "name": "stdout",
     "output_type": "stream",
     "text": [
      "Element-wise multiplication of A and v results in a new Tensor:\n",
      "[[15 35]\n",
      " [ 2 18]]\n"
     ]
    }
   ],
   "source": [
    "# Element-wise multiplication\n",
    "Av = tf.multiply(A, v)\n",
    "\n",
    "print(('Element-wise multiplication of A and v results in a new Tensor:\\n{0}').format(\n",
    "    Av\n",
    "))"
   ]
  },
  {
   "cell_type": "code",
   "execution_count": 32,
   "metadata": {
    "ExecuteTime": {
     "end_time": "2021-07-07T13:16:47.168680Z",
     "start_time": "2021-07-07T13:16:47.095451Z"
    },
    "colab": {
     "base_uri": "https://localhost:8080/"
    },
    "id": "p_bcCgbWtu4Z",
    "outputId": "5e3b6144-d76a-4d1e-da96-5be340090d59"
   },
   "outputs": [
    {
     "name": "stdout",
     "output_type": "stream",
     "text": [
      "Get rows and columns in tensor A:\n",
      "3 rows\n",
      "2 columns\n",
      "\n",
      "The identity matrix of A:\n",
      "[[1 0]\n",
      " [0 1]\n",
      " [0 0]]\n"
     ]
    }
   ],
   "source": [
    "# Some Matrix A\n",
    "A = tf.constant([[3, 7],\n",
    "                 [1, 9],\n",
    "                 [2, 5]])\n",
    "\n",
    "# Get number of dimensions\n",
    "rows, columns = A.shape\n",
    "print(('Get rows and columns in tensor A:\\n{0} rows\\n{1} columns').format(\n",
    "    rows, columns\n",
    "))\n",
    "\n",
    "# Making identity matrix\n",
    "A_identity = tf.eye(num_rows = rows,\n",
    "                    num_columns = columns,\n",
    "                    dtype = tf.int32)\n",
    "print(('\\nThe identity matrix of A:\\n{0}').format(A_identity.numpy()))"
   ]
  },
  {
   "cell_type": "code",
   "execution_count": 33,
   "metadata": {
    "ExecuteTime": {
     "end_time": "2021-07-07T13:16:47.284793Z",
     "start_time": "2021-07-07T13:16:47.172797Z"
    },
    "colab": {
     "base_uri": "https://localhost:8080/"
    },
    "id": "dvM490dUtwSu",
    "outputId": "8559c351-7e6b-441b-ba32-d9181bbd3c63"
   },
   "outputs": [
    {
     "name": "stdout",
     "output_type": "stream",
     "text": [
      "The determinant of A:\n",
      "20.000001907348633\n"
     ]
    }
   ],
   "source": [
    "# Reusing Matrix A\n",
    "A = tf.constant([[3, 7],\n",
    "                 [1, 9]])\n",
    "\n",
    "# Determinant must be: half, float32, float64, complex64, complex128\n",
    "# Thus, we cast A to the data type float32\n",
    "A = tf.dtypes.cast(A, tf.float32)\n",
    "\n",
    "# Finding the determinant of A\n",
    "det_A = tf.linalg.det(A)\n",
    "\n",
    "print(('The determinant of A:\\n{0}').format(\n",
    "    det_A\n",
    "))"
   ]
  },
  {
   "cell_type": "code",
   "execution_count": 34,
   "metadata": {
    "ExecuteTime": {
     "end_time": "2021-07-07T13:16:47.369999Z",
     "start_time": "2021-07-07T13:16:47.290129Z"
    },
    "colab": {
     "base_uri": "https://localhost:8080/"
    },
    "id": "5Tml7JLqt4Lg",
    "outputId": "3f918e1b-7c3d-474d-a574-d3d17f78b4c7"
   },
   "outputs": [
    {
     "name": "stdout",
     "output_type": "stream",
     "text": [
      "Dot product of A.B^T results in a new Tensor:\n",
      "[[8634 2719 8750]\n",
      " [2939 1329 2975]\n",
      " [7573 5341 7545]]\n",
      "\n",
      "Matrix Multiplication of A.B^T results in a new Tensor:\n",
      "[[8634 2719 8750]\n",
      " [2939 1329 2975]\n",
      " [7573 5341 7545]]\n"
     ]
    }
   ],
   "source": [
    "# Defining a 3x3 matrix\n",
    "A = tf.constant([[32, 83, 5],\n",
    "                 [17, 23, 10],\n",
    "                 [75, 39, 52]])\n",
    "\n",
    "# Defining another 3x3 matrix\n",
    "B = tf.constant([[28, 57, 20],\n",
    "                 [91, 10, 95],\n",
    "                 [37, 13, 45]])\n",
    "\n",
    "# Finding the dot product\n",
    "dot_AB = tf.tensordot(a=A, b=B, axes=1).numpy()\n",
    "\n",
    "print(('Dot product of A.B^T results in a new Tensor:\\n{0}').format(\n",
    "    dot_AB\n",
    "))\n",
    "\n",
    "# Which is the same as matrix multiplication in this instance (axes=1)\n",
    "# Matrix multiplication of A and B\n",
    "AB = tf.matmul(A, B)\n",
    "\n",
    "print(('\\nMatrix Multiplication of A.B^T results in a new Tensor:\\n{0}').format(\n",
    "    AB\n",
    "))"
   ]
  },
  {
   "cell_type": "markdown",
   "metadata": {
    "id": "lQnif_fst-XY"
   },
   "source": [
    "### Calculating Gradients\n",
    "When using gradient tape from TensorFlow, we need to create a tf.Variable and not tf.constant, because TensorFlow does not watch constants. The great thing about making variables is that we can use gradient tape at any time, and TensorFlow will automatically give us the gradient."
   ]
  },
  {
   "cell_type": "code",
   "execution_count": 35,
   "metadata": {
    "ExecuteTime": {
     "end_time": "2021-07-07T13:16:47.515618Z",
     "start_time": "2021-07-07T13:16:47.371703Z"
    },
    "colab": {
     "base_uri": "https://localhost:8080/"
    },
    "id": "uKny5OJZuA78",
    "outputId": "dde4147b-22a5-40da-d6aa-3f290c693d03"
   },
   "outputs": [
    {
     "name": "stdout",
     "output_type": "stream",
     "text": [
      "tf.Tensor(\n",
      "[[1.329784  0.3382052]\n",
      " [0.9374592 1.0686427]], shape=(2, 2), dtype=float32)\n",
      "tf.Tensor(\n",
      "[[-0.98039174 -0.44463843]\n",
      " [ 0.99629724 -0.99166644]], shape=(2, 2), dtype=float32)\n"
     ]
    }
   ],
   "source": [
    "a = tf.random.normal(shape=(2, 2))\n",
    "b = tf.random.normal(shape=(2, 2))\n",
    "\n",
    "with tf.GradientTape() as tape:\n",
    "    tape.watch(a)  # Start recording the history of operations applied to `a`\n",
    "    c = tf.sqrt(tf.square(a) + tf.square(b))  # Do some math using `a`\n",
    "    print (c)\n",
    "  # What's the gradient of `c` with respect to `a`?\n",
    "    dc_da = tape.gradient(c, a)\n",
    "    print(dc_da)\n",
    "#   dc_db = tape.gradient(c, b)\n",
    "#   print(dc_db)"
   ]
  },
  {
   "cell_type": "code",
   "execution_count": 36,
   "metadata": {
    "ExecuteTime": {
     "end_time": "2021-07-07T13:16:47.640362Z",
     "start_time": "2021-07-07T13:16:47.520320Z"
    },
    "colab": {
     "base_uri": "https://localhost:8080/"
    },
    "id": "UyEkKjaSvIUj",
    "outputId": "77fc1e0c-2934-4ee1-c38c-b8daf7e0fc51"
   },
   "outputs": [
    {
     "name": "stdout",
     "output_type": "stream",
     "text": [
      "tf.Tensor(\n",
      "[[-0.98039174 -0.44463843]\n",
      " [ 0.99629724 -0.99166644]], shape=(2, 2), dtype=float32)\n"
     ]
    }
   ],
   "source": [
    "a = tf.Variable(a)\n",
    "\n",
    "with tf.GradientTape() as tape:\n",
    "    c = tf.sqrt(tf.square(a) + tf.square(b))\n",
    "    dc_da = tape.gradient(c, a)  # automatic gradient calculation\n",
    "    print(dc_da)"
   ]
  },
  {
   "cell_type": "code",
   "execution_count": 37,
   "metadata": {
    "ExecuteTime": {
     "end_time": "2021-07-07T13:16:47.702888Z",
     "start_time": "2021-07-07T13:16:47.644916Z"
    },
    "colab": {
     "base_uri": "https://localhost:8080/"
    },
    "id": "MfHvEMtWvL-n",
    "outputId": "42e33160-7736-477a-cd28-98042c88ef91"
   },
   "outputs": [
    {
     "name": "stdout",
     "output_type": "stream",
     "text": [
      "tf.Tensor(\n",
      "[[0.02920175 2.3722188 ]\n",
      " [0.00788486 0.0155316 ]], shape=(2, 2), dtype=float32)\n"
     ]
    }
   ],
   "source": [
    "with tf.GradientTape() as outer_tape:\n",
    "    with tf.GradientTape() as tape:\n",
    "        c = tf.sqrt(tf.square(a) + tf.square(b))\n",
    "        dc_da = tape.gradient(c, a)\n",
    "    d2c_da2 = outer_tape.gradient(dc_da, a)\n",
    "    print(d2c_da2)   # double differentiation"
   ]
  },
  {
   "cell_type": "markdown",
   "metadata": {
    "id": "Uhxm3yPWvT9B"
   },
   "source": [
    "Lets take an example of Hyperbolic Tan function (tanh) and try to get its derivative.\n"
   ]
  },
  {
   "cell_type": "markdown",
   "metadata": {
    "id": "CbCpEO82wNSC"
   },
   "source": [
    "![alt text](https://mathworld.wolfram.com/images/interactive/TanhReal.gif)"
   ]
  },
  {
   "cell_type": "code",
   "execution_count": 38,
   "metadata": {
    "ExecuteTime": {
     "end_time": "2021-07-07T13:16:47.796091Z",
     "start_time": "2021-07-07T13:16:47.707132Z"
    },
    "colab": {
     "base_uri": "https://localhost:8080/"
    },
    "id": "GZPR687cvcnC",
    "outputId": "421fee42-8f5b-4bc9-db87-bf0bf68865d5"
   },
   "outputs": [
    {
     "data": {
      "text/plain": [
       "<tf.Tensor: shape=(), dtype=float32, numpy=-0.9999092>"
      ]
     },
     "execution_count": 38,
     "metadata": {},
     "output_type": "execute_result"
    }
   ],
   "source": [
    "tf.tanh(-5.0)"
   ]
  },
  {
   "cell_type": "code",
   "execution_count": 39,
   "metadata": {
    "ExecuteTime": {
     "end_time": "2021-07-07T13:16:47.900560Z",
     "start_time": "2021-07-07T13:16:47.799901Z"
    },
    "colab": {
     "base_uri": "https://localhost:8080/"
    },
    "id": "_cviVWPQvbDR",
    "outputId": "4aff3136-6bef-49ac-c03e-627c7bc5beb7"
   },
   "outputs": [
    {
     "name": "stdout",
     "output_type": "stream",
     "text": [
      "0.9998999834060669 is the gradient of tanh with x=-0.009999999776482582\n"
     ]
    }
   ],
   "source": [
    "import math\n",
    "\n",
    "def tanh(x):\n",
    "    return tf.tanh(x)\n",
    "\n",
    "def get_gradient(x, activation_function):\n",
    "    with tf.GradientTape() as gt:\n",
    "        y = activation_function(x)\n",
    "\n",
    "        gradient = gt.gradient(y, x).numpy()\n",
    "\n",
    "    return gradient\n",
    "\n",
    "x = tf.Variable(-0.01)\n",
    "gradient = get_gradient(x,tanh)\n",
    "\n",
    "print('{0} is the gradient of tanh with x={1}'.format(gradient, x.numpy()))"
   ]
  },
  {
   "cell_type": "markdown",
   "metadata": {
    "id": "6178V2xWxF1z"
   },
   "source": [
    "### An end-to-end example: linear regression\n",
    "So far we have learned that TensorFlow is a Numpy-like library that is GPU or TPU accelerated, with automatic differentiation. Time for an end-to-end example: let's implement a linear regression."
   ]
  },
  {
   "cell_type": "code",
   "execution_count": 40,
   "metadata": {
    "ExecuteTime": {
     "end_time": "2021-07-07T13:16:47.978742Z",
     "start_time": "2021-07-07T13:16:47.904160Z"
    },
    "id": "SE0JpcJ6xNsp"
   },
   "outputs": [],
   "source": [
    "input_dim = 2\n",
    "output_dim = 1\n",
    "learning_rate = 0.01 # subject to change\n",
    "\n",
    "# This is our weight matrix\n",
    "w = tf.Variable(tf.random.uniform(shape=(input_dim, output_dim))) # parameters, equal to theta\n",
    "# This is our bias vector\n",
    "b = tf.Variable(tf.zeros(shape=(output_dim,))) # intercept\n",
    "\n",
    "def compute_predictions(features): # define hypothesis\n",
    "      return tf.matmul(features, w) + b\n",
    "\n",
    "def compute_loss(labels, predictions): # define MSE\n",
    "      return tf.reduce_mean(tf.square(labels - predictions))\n",
    "\n",
    "def train(x, y): # training and updating through GD updates\n",
    "    with tf.GradientTape() as tape:\n",
    "        predictions = compute_predictions(x) # y_pred or y hat\n",
    "        loss = compute_loss(y, predictions)  # loss returned\n",
    "        dloss_dw, dloss_db = tape.gradient(loss, [w, b]) # gradient w.r.t. w and b\n",
    "    w.assign_sub(learning_rate * dloss_dw) # reassign weights\n",
    "    b.assign_sub(learning_rate * dloss_db) # reassign bias\n",
    "    return loss"
   ]
  },
  {
   "cell_type": "code",
   "execution_count": 41,
   "metadata": {
    "ExecuteTime": {
     "end_time": "2021-07-07T13:16:48.111285Z",
     "start_time": "2021-07-07T13:16:47.982786Z"
    },
    "id": "IR899iPvyUUW"
   },
   "outputs": [],
   "source": [
    "# Homework. \n",
    "'''To generate data and utilize the above code to run a simple linear regression.'''\n",
    "tol = 1e-3\n",
    "# write function for predict()\n",
    "\n",
    "# write a R2 and adjusted R2 score metric\n",
    "# write a loop and stop when tolerance condition is met"
   ]
  },
  {
   "cell_type": "code",
   "execution_count": 42,
   "metadata": {
    "ExecuteTime": {
     "end_time": "2021-07-07T13:16:48.177662Z",
     "start_time": "2021-07-07T13:16:48.114809Z"
    },
    "id": "YY0gSHiouPNP"
   },
   "outputs": [
    {
     "ename": "SyntaxError",
     "evalue": "invalid syntax (<ipython-input-42-adea32ba620a>, line 4)",
     "output_type": "error",
     "traceback": [
      "\u001b[0;36m  File \u001b[0;32m\"<ipython-input-42-adea32ba620a>\"\u001b[0;36m, line \u001b[0;32m4\u001b[0m\n\u001b[0;31m    x2 =\u001b[0m\n\u001b[0m         ^\u001b[0m\n\u001b[0;31mSyntaxError\u001b[0m\u001b[0;31m:\u001b[0m invalid syntax\n"
     ]
    }
   ],
   "source": [
    "# numpy and random function create your own data.\n",
    "\n",
    "x1 = tf.random.normal()\n",
    "x2 = \n",
    "y = w1.x1 + w2x2 + noise # data generation\n",
    "\n",
    "def r2(y_pred, y_true):\n",
    "    return 1- (sum(np.pow((y_pred-y_true),2))/sum(np.pow((mean(y_true)-y_true),2))\n"
   ]
  },
  {
   "cell_type": "markdown",
   "metadata": {
    "id": "2SHwiN21ybHD"
   },
   "source": [
    "**Going fast with graphs**\n",
    "\n",
    "Literally all we need to do is add the tf.function decorator on it"
   ]
  },
  {
   "cell_type": "code",
   "execution_count": null,
   "metadata": {
    "ExecuteTime": {
     "end_time": "2021-07-07T13:16:48.198512Z",
     "start_time": "2021-07-07T13:16:42.905Z"
    },
    "id": "HaMGa3viy5rQ"
   },
   "outputs": [],
   "source": [
    "# dummy code\n",
    "@tf.function\n",
    "def train_on_batch(x, y):\n",
    "      with tf.GradientTape() as tape:\n",
    "        predictions = compute_predictions(x)\n",
    "        loss = compute_loss(y, predictions)\n",
    "        dloss_dw, dloss_db = tape.gradient(loss, [w, b])\n",
    "        w.assign_sub(learning_rate * dloss_dw)\n",
    "        b.assign_sub(learning_rate * dloss_db)\n",
    "        return loss"
   ]
  },
  {
   "cell_type": "markdown",
   "metadata": {
    "id": "afnpEWu_zMSH"
   },
   "source": [
    "Lets see how fast it could go!"
   ]
  },
  {
   "cell_type": "code",
   "execution_count": null,
   "metadata": {
    "ExecuteTime": {
     "end_time": "2021-07-07T13:16:48.200903Z",
     "start_time": "2021-07-07T13:16:42.910Z"
    },
    "colab": {
     "base_uri": "https://localhost:8080/"
    },
    "id": "3zcV8VMyzHkV",
    "outputId": "22e9cef2-52ec-473d-bb2c-088b5d9a8a67"
   },
   "outputs": [],
   "source": [
    "import timeit\n",
    "conv_layer = tf.keras.layers.Conv2D(100, 3)\n",
    "\n",
    "@tf.function\n",
    "def conv_fn(image):\n",
    "  return conv_layer(image)\n",
    "\n",
    "image = tf.ones([1, 200, 200, 100])\n",
    "# warm up\n",
    "conv_layer(image); conv_fn(image)\n",
    "\n",
    "no_tf_fn = timeit.timeit(lambda: conv_layer(image), number=10) # tensorflow layer\n",
    "with_tf_fn = timeit.timeit(lambda: conv_fn(image), number=10) # graph\n",
    "difference = no_tf_fn - with_tf_fn\n",
    "\n",
    "print(\"Without tf.function: \", no_tf_fn)\n",
    "print(\"With tf.function: \", with_tf_fn)\n",
    "print(\"The difference: \", difference)\n",
    "\n",
    "print(\"\\nJust imagine when we have to do millions/billions of these calculations\")\n",
    "print(\"Difference times a billion: \", difference*1000000)"
   ]
  }
 ],
 "metadata": {
  "accelerator": "GPU",
  "colab": {
   "collapsed_sections": [],
   "name": "Tensorflow_2 .ipynb",
   "provenance": []
  },
  "kernelspec": {
   "display_name": "Python 3",
   "language": "python",
   "name": "python3"
  },
  "language_info": {
   "codemirror_mode": {
    "name": "ipython",
    "version": 3
   },
   "file_extension": ".py",
   "mimetype": "text/x-python",
   "name": "python",
   "nbconvert_exporter": "python",
   "pygments_lexer": "ipython3",
   "version": "3.8.10"
  },
  "latex_envs": {
   "LaTeX_envs_menu_present": true,
   "autoclose": false,
   "autocomplete": true,
   "bibliofile": "biblio.bib",
   "cite_by": "apalike",
   "current_citInitial": 1,
   "eqLabelWithNumbers": true,
   "eqNumInitial": 1,
   "hotkeys": {
    "equation": "Ctrl-E",
    "itemize": "Ctrl-I"
   },
   "labels_anchors": false,
   "latex_user_defs": false,
   "report_style_numbering": false,
   "user_envs_cfg": false
  },
  "varInspector": {
   "cols": {
    "lenName": 16,
    "lenType": 16,
    "lenVar": 40
   },
   "kernels_config": {
    "python": {
     "delete_cmd_postfix": "",
     "delete_cmd_prefix": "del ",
     "library": "var_list.py",
     "varRefreshCmd": "print(var_dic_list())"
    },
    "r": {
     "delete_cmd_postfix": ") ",
     "delete_cmd_prefix": "rm(",
     "library": "var_list.r",
     "varRefreshCmd": "cat(var_dic_list()) "
    }
   },
   "types_to_exclude": [
    "module",
    "function",
    "builtin_function_or_method",
    "instance",
    "_Feature"
   ],
   "window_display": false
  }
 },
 "nbformat": 4,
 "nbformat_minor": 1
}
