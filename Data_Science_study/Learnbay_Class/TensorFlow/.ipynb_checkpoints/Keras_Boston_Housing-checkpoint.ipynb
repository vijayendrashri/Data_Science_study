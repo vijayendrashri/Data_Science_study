{
 "cells": [
  {
   "cell_type": "code",
   "execution_count": 4,
   "metadata": {
    "ExecuteTime": {
     "start_time": "2021-07-11T10:16:49.921Z"
    },
    "id": "QtwzSSg_OgqG"
   },
   "outputs": [],
   "source": [
    "# Regression Example With Boston Dataset: Baseline\n",
    "import numpy\n",
    "import pandas\n",
    "from tensorflow.keras.models import Sequential\n",
    "from tensorflow.keras.layers import Dense, Dropout\n",
    "from tensorflow.keras.wrappers.scikit_learn import KerasRegressor\n",
    "from sklearn.model_selection import cross_val_score\n",
    "from sklearn.model_selection import KFold\n",
    "from sklearn import preprocessing\n",
    "from sklearn.model_selection import train_test_split\n",
    "from sklearn.preprocessing import RobustScaler"
   ]
  },
  {
   "cell_type": "code",
   "execution_count": 5,
   "metadata": {
    "ExecuteTime": {
     "end_time": "2021-07-11T10:16:02.257368Z",
     "start_time": "2021-07-11T10:16:02.206647Z"
    },
    "colab": {
     "base_uri": "https://localhost:8080/"
    },
    "id": "Qp8OZ_FgOnXm",
    "outputId": "bcc4676c-9db8-48fc-a45a-b361ad44f9af"
   },
   "outputs": [
    {
     "name": "stdout",
     "output_type": "stream",
     "text": [
      "          0     1      2   3      4      5     6       7   8      9     10  \\\n",
      "0    0.00632  18.0   2.31   0  0.538  6.575  65.2  4.0900   1  296.0  15.3   \n",
      "1    0.02731   0.0   7.07   0  0.469  6.421  78.9  4.9671   2  242.0  17.8   \n",
      "2    0.02729   0.0   7.07   0  0.469  7.185  61.1  4.9671   2  242.0  17.8   \n",
      "3    0.03237   0.0   2.18   0  0.458  6.998  45.8  6.0622   3  222.0  18.7   \n",
      "4    0.06905   0.0   2.18   0  0.458  7.147  54.2  6.0622   3  222.0  18.7   \n",
      "..       ...   ...    ...  ..    ...    ...   ...     ...  ..    ...   ...   \n",
      "501  0.06263   0.0  11.93   0  0.573  6.593  69.1  2.4786   1  273.0  21.0   \n",
      "502  0.04527   0.0  11.93   0  0.573  6.120  76.7  2.2875   1  273.0  21.0   \n",
      "503  0.06076   0.0  11.93   0  0.573  6.976  91.0  2.1675   1  273.0  21.0   \n",
      "504  0.10959   0.0  11.93   0  0.573  6.794  89.3  2.3889   1  273.0  21.0   \n",
      "505  0.04741   0.0  11.93   0  0.573  6.030  80.8  2.5050   1  273.0  21.0   \n",
      "\n",
      "         11    12    13  \n",
      "0    396.90  4.98  24.0  \n",
      "1    396.90  9.14  21.6  \n",
      "2    392.83  4.03  34.7  \n",
      "3    394.63  2.94  33.4  \n",
      "4    396.90  5.33  36.2  \n",
      "..      ...   ...   ...  \n",
      "501  391.99  9.67  22.4  \n",
      "502  396.90  9.08  20.6  \n",
      "503  396.90  5.64  23.9  \n",
      "504  393.45  6.48  22.0  \n",
      "505  396.90  7.88  11.9  \n",
      "\n",
      "[506 rows x 14 columns]\n",
      "(506, 13) (506,)\n"
     ]
    }
   ],
   "source": [
    "# load dataset\n",
    "fileInput = \"housing.tsv\"\n",
    "dataframe = pandas.read_csv(fileInput, delim_whitespace=True, header=None)\n",
    "dataset = dataframe.values\n",
    "\n",
    "print(dataframe)\n",
    "\n",
    "# split into input (X) and output (Y) variables\n",
    "X = dataset[:, 0:13]\n",
    "Y = dataset[:, 13]\n",
    "\n",
    "\n",
    "print (X.shape, Y.shape)\n",
    "\n",
    "X = RobustScaler().fit_transform(X)\n",
    "# Y = robust_scaler.fit_transform(Y)\n",
    "X_train, X_test, Y_train, Y_test = train_test_split(X,Y, test_size = 0.25)\n"
   ]
  },
  {
   "cell_type": "code",
   "execution_count": 6,
   "metadata": {
    "ExecuteTime": {
     "end_time": "2021-07-11T10:16:07.175739Z",
     "start_time": "2021-07-11T10:16:07.144849Z"
    },
    "colab": {
     "base_uri": "https://localhost:8080/"
    },
    "id": "xxg5qwlSM1XZ",
    "outputId": "87ba4847-ca96-4752-89e6-cb0f92407640"
   },
   "outputs": [
    {
     "data": {
      "text/plain": [
       "array([[-0.03957121,  0.        ,  0.3253292 , ..., -0.94642857,\n",
       "         0.11032498, -0.08595702],\n",
       "       [-0.04806904,  3.6       , -0.48412084, ..., -1.375     ,\n",
       "         0.26190191, -0.59670165],\n",
       "       [ 3.27999082,  0.        ,  0.651433  , ...,  0.41071429,\n",
       "        -4.79146181,  0.27386307],\n",
       "       ...,\n",
       "       [-0.05287567,  0.        , -0.43687064, ..., -0.875     ,\n",
       "        -0.00815445, -0.44377811],\n",
       "       [ 0.19450701,  0.        , -0.12006197, ...,  0.69642857,\n",
       "        -4.08010553,  0.59170415],\n",
       "       [-0.03590227,  0.        , -0.21533695, ..., -0.41071429,\n",
       "        -0.28924331, -0.65167416]])"
      ]
     },
     "execution_count": 6,
     "metadata": {},
     "output_type": "execute_result"
    }
   ],
   "source": [
    "X_test"
   ]
  },
  {
   "cell_type": "code",
   "execution_count": 8,
   "metadata": {
    "ExecuteTime": {
     "end_time": "2021-07-11T10:16:38.168316Z",
     "start_time": "2021-07-11T10:16:13.223393Z"
    },
    "colab": {
     "base_uri": "https://localhost:8080/"
    },
    "id": "zQg6RA_KOVly",
    "outputId": "2bac28e3-947d-4f5a-9034-1ba78a48e3ff",
    "scrolled": true
   },
   "outputs": [
    {
     "name": "stdout",
     "output_type": "stream",
     "text": [
      "Epoch 1/100\n",
      "8/8 [==============================] - 0s 3ms/step - loss: 582.4524\n",
      "Epoch 2/100\n",
      "8/8 [==============================] - 0s 3ms/step - loss: 570.0600\n",
      "Epoch 3/100\n",
      "8/8 [==============================] - 0s 4ms/step - loss: 559.0214\n",
      "Epoch 4/100\n",
      "8/8 [==============================] - 0s 4ms/step - loss: 545.9446\n",
      "Epoch 5/100\n",
      "8/8 [==============================] - 0s 3ms/step - loss: 532.7789\n",
      "Epoch 6/100\n",
      "8/8 [==============================] - 0s 3ms/step - loss: 517.1094\n",
      "Epoch 7/100\n",
      "8/8 [==============================] - 0s 4ms/step - loss: 492.4047\n",
      "Epoch 8/100\n",
      "8/8 [==============================] - 0s 5ms/step - loss: 462.1642\n",
      "Epoch 9/100\n",
      "8/8 [==============================] - 0s 4ms/step - loss: 435.7833\n",
      "Epoch 10/100\n",
      "8/8 [==============================] - 0s 4ms/step - loss: 410.9742\n",
      "Epoch 11/100\n",
      "8/8 [==============================] - 0s 4ms/step - loss: 387.4398\n",
      "Epoch 12/100\n",
      "8/8 [==============================] - 0s 5ms/step - loss: 369.5458\n",
      "Epoch 13/100\n",
      "8/8 [==============================] - 0s 5ms/step - loss: 353.1726\n",
      "Epoch 14/100\n",
      "8/8 [==============================] - 0s 5ms/step - loss: 334.5840\n",
      "Epoch 15/100\n",
      "8/8 [==============================] - 0s 3ms/step - loss: 320.5774\n",
      "Epoch 16/100\n",
      "8/8 [==============================] - 0s 4ms/step - loss: 305.3506\n",
      "Epoch 17/100\n",
      "8/8 [==============================] - 0s 5ms/step - loss: 293.9018\n",
      "Epoch 18/100\n",
      "8/8 [==============================] - 0s 4ms/step - loss: 281.0857\n",
      "Epoch 19/100\n",
      "8/8 [==============================] - 0s 4ms/step - loss: 271.9752\n",
      "Epoch 20/100\n",
      "8/8 [==============================] - 0s 4ms/step - loss: 261.2551\n",
      "Epoch 21/100\n",
      "8/8 [==============================] - 0s 5ms/step - loss: 251.5688\n",
      "Epoch 22/100\n",
      "8/8 [==============================] - 0s 5ms/step - loss: 242.2689\n",
      "Epoch 23/100\n",
      "8/8 [==============================] - 0s 5ms/step - loss: 232.3230\n",
      "Epoch 24/100\n",
      "8/8 [==============================] - 0s 3ms/step - loss: 224.4636\n",
      "Epoch 25/100\n",
      "8/8 [==============================] - 0s 4ms/step - loss: 217.7030\n",
      "Epoch 26/100\n",
      "8/8 [==============================] - 0s 4ms/step - loss: 210.2375\n",
      "Epoch 27/100\n",
      "8/8 [==============================] - 0s 3ms/step - loss: 202.8487\n",
      "Epoch 28/100\n",
      "8/8 [==============================] - 0s 4ms/step - loss: 195.1815\n",
      "Epoch 29/100\n",
      "8/8 [==============================] - 0s 3ms/step - loss: 189.2389\n",
      "Epoch 30/100\n",
      "8/8 [==============================] - 0s 4ms/step - loss: 182.5281\n",
      "Epoch 31/100\n",
      "8/8 [==============================] - 0s 6ms/step - loss: 177.0882\n",
      "Epoch 32/100\n",
      "8/8 [==============================] - 0s 5ms/step - loss: 170.9995\n",
      "Epoch 33/100\n",
      "8/8 [==============================] - 0s 5ms/step - loss: 165.3787\n",
      "Epoch 34/100\n",
      "8/8 [==============================] - 0s 6ms/step - loss: 160.2642\n",
      "Epoch 35/100\n",
      "8/8 [==============================] - 0s 3ms/step - loss: 155.4077\n",
      "Epoch 36/100\n",
      "8/8 [==============================] - 0s 5ms/step - loss: 150.8888\n",
      "Epoch 37/100\n",
      "8/8 [==============================] - 0s 5ms/step - loss: 146.0856\n",
      "Epoch 38/100\n",
      "8/8 [==============================] - 0s 5ms/step - loss: 142.2486\n",
      "Epoch 39/100\n",
      "8/8 [==============================] - 0s 6ms/step - loss: 137.9380\n",
      "Epoch 40/100\n",
      "8/8 [==============================] - 0s 4ms/step - loss: 134.7597\n",
      "Epoch 41/100\n",
      "8/8 [==============================] - 0s 4ms/step - loss: 130.6949\n",
      "Epoch 42/100\n",
      "8/8 [==============================] - 0s 5ms/step - loss: 127.2778\n",
      "Epoch 43/100\n",
      "8/8 [==============================] - 0s 4ms/step - loss: 124.2772\n",
      "Epoch 44/100\n",
      "8/8 [==============================] - 0s 5ms/step - loss: 120.9916\n",
      "Epoch 45/100\n",
      "8/8 [==============================] - 0s 5ms/step - loss: 118.6500\n",
      "Epoch 46/100\n",
      "8/8 [==============================] - 0s 4ms/step - loss: 115.6012\n",
      "Epoch 47/100\n",
      "8/8 [==============================] - 0s 5ms/step - loss: 113.2737\n",
      "Epoch 48/100\n",
      "8/8 [==============================] - 0s 4ms/step - loss: 110.9740\n",
      "Epoch 49/100\n",
      "8/8 [==============================] - 0s 4ms/step - loss: 108.9626\n",
      "Epoch 50/100\n",
      "8/8 [==============================] - 0s 6ms/step - loss: 106.8153\n",
      "Epoch 51/100\n",
      "8/8 [==============================] - 0s 4ms/step - loss: 104.9602\n",
      "Epoch 52/100\n",
      "8/8 [==============================] - 0s 4ms/step - loss: 103.1257\n",
      "Epoch 53/100\n",
      "8/8 [==============================] - 0s 4ms/step - loss: 101.5493\n",
      "Epoch 54/100\n",
      "8/8 [==============================] - 0s 5ms/step - loss: 100.1075\n",
      "Epoch 55/100\n",
      "8/8 [==============================] - 0s 4ms/step - loss: 98.9901\n",
      "Epoch 56/100\n",
      "8/8 [==============================] - 0s 4ms/step - loss: 97.6744\n",
      "Epoch 57/100\n",
      "8/8 [==============================] - 0s 4ms/step - loss: 96.4033\n",
      "Epoch 58/100\n",
      "8/8 [==============================] - 0s 4ms/step - loss: 95.2940\n",
      "Epoch 59/100\n",
      "8/8 [==============================] - 0s 3ms/step - loss: 94.2360\n",
      "Epoch 60/100\n",
      "8/8 [==============================] - 0s 4ms/step - loss: 93.5094\n",
      "Epoch 61/100\n",
      "8/8 [==============================] - 0s 4ms/step - loss: 92.6977\n",
      "Epoch 62/100\n",
      "8/8 [==============================] - 0s 4ms/step - loss: 92.1602\n",
      "Epoch 63/100\n",
      "8/8 [==============================] - 0s 4ms/step - loss: 91.3026\n",
      "Epoch 64/100\n",
      "8/8 [==============================] - 0s 4ms/step - loss: 90.6104\n",
      "Epoch 65/100\n",
      "8/8 [==============================] - 0s 4ms/step - loss: 90.0312\n",
      "Epoch 66/100\n",
      "8/8 [==============================] - 0s 4ms/step - loss: 89.3727\n",
      "Epoch 67/100\n",
      "8/8 [==============================] - 0s 4ms/step - loss: 88.7714\n",
      "Epoch 68/100\n",
      "8/8 [==============================] - 0s 3ms/step - loss: 88.7729\n",
      "Epoch 69/100\n",
      "8/8 [==============================] - 0s 3ms/step - loss: 88.3293\n",
      "Epoch 70/100\n",
      "8/8 [==============================] - 0s 3ms/step - loss: 87.8570\n",
      "Epoch 71/100\n",
      "8/8 [==============================] - 0s 4ms/step - loss: 87.1019\n",
      "Epoch 72/100\n",
      "8/8 [==============================] - 0s 3ms/step - loss: 86.7720\n",
      "Epoch 73/100\n",
      "8/8 [==============================] - 0s 3ms/step - loss: 86.2691\n",
      "Epoch 74/100\n",
      "8/8 [==============================] - 0s 5ms/step - loss: 85.9723\n",
      "Epoch 75/100\n",
      "8/8 [==============================] - 0s 6ms/step - loss: 84.8185\n",
      "Epoch 76/100\n",
      "8/8 [==============================] - 0s 3ms/step - loss: 84.4872\n",
      "Epoch 77/100\n",
      "8/8 [==============================] - 0s 4ms/step - loss: 83.8669\n",
      "Epoch 78/100\n",
      "8/8 [==============================] - 0s 3ms/step - loss: 82.2726\n",
      "Epoch 79/100\n",
      "8/8 [==============================] - 0s 4ms/step - loss: 80.4749\n",
      "Epoch 80/100\n",
      "8/8 [==============================] - 0s 3ms/step - loss: 77.9699\n",
      "Epoch 81/100\n",
      "8/8 [==============================] - 0s 4ms/step - loss: 74.9655\n",
      "Epoch 82/100\n",
      "8/8 [==============================] - 0s 5ms/step - loss: 73.6609\n",
      "Epoch 83/100\n",
      "8/8 [==============================] - 0s 5ms/step - loss: 74.8439\n",
      "Epoch 84/100\n",
      "8/8 [==============================] - 0s 4ms/step - loss: 72.2435\n",
      "Epoch 85/100\n",
      "8/8 [==============================] - 0s 4ms/step - loss: 69.9460\n",
      "Epoch 86/100\n",
      "8/8 [==============================] - 0s 4ms/step - loss: 67.2444\n",
      "Epoch 87/100\n",
      "8/8 [==============================] - 0s 4ms/step - loss: 62.5538\n",
      "Epoch 88/100\n",
      "8/8 [==============================] - 0s 4ms/step - loss: 60.0601\n",
      "Epoch 89/100\n",
      "8/8 [==============================] - 0s 4ms/step - loss: 60.5409\n",
      "Epoch 90/100\n",
      "8/8 [==============================] - 0s 3ms/step - loss: 59.0330\n",
      "Epoch 91/100\n",
      "8/8 [==============================] - 0s 4ms/step - loss: 58.4159\n",
      "Epoch 92/100\n",
      "8/8 [==============================] - 0s 3ms/step - loss: 56.6861\n",
      "Epoch 93/100\n",
      "8/8 [==============================] - 0s 4ms/step - loss: 55.9894\n",
      "Epoch 94/100\n",
      "8/8 [==============================] - 0s 5ms/step - loss: 55.5861\n",
      "Epoch 95/100\n",
      "8/8 [==============================] - 0s 4ms/step - loss: 54.4239\n",
      "Epoch 96/100\n",
      "8/8 [==============================] - 0s 6ms/step - loss: 53.9762\n",
      "Epoch 97/100\n",
      "8/8 [==============================] - 0s 5ms/step - loss: 53.4009\n",
      "Epoch 98/100\n",
      "8/8 [==============================] - 0s 4ms/step - loss: 53.5775\n",
      "Epoch 99/100\n",
      "8/8 [==============================] - 0s 5ms/step - loss: 52.5979\n",
      "Epoch 100/100\n",
      "8/8 [==============================] - 0s 4ms/step - loss: 53.1342\n",
      "8/8 [==============================] - 0s 2ms/step - loss: 51.4906\n",
      "51.490631103515625\n"
     ]
    },
    {
     "name": "stdout",
     "output_type": "stream",
     "text": [
      "3/3 [==============================] - 0s 2ms/step - loss: 52.4930\n",
      "52.49298858642578\n"
     ]
    }
   ],
   "source": [
    "# evaluate model with standardized dataset\n",
    "model = Sequential()                  \n",
    "model.add(Dense(40, input_dim=13, activation= 'tanh',kernel_regularizer='L2'))\n",
    "model.add(Dense(20, activation= 'relu', kernel_regularizer='L2'))\n",
    "model.add(Dropout(0.25))\n",
    "model.add(Dense(10, activation= 'tanh', kernel_regularizer='L2'))\n",
    "model.add(Dense(5, activation= 'relu'))\n",
    "model.add(Dense(1))   \n",
    "model.compile(loss= 'mean_squared_error' , optimizer= 'adam' )\n",
    " \n",
    "model.fit(X_train, Y_train, epochs=100, batch_size=50, verbose=1)\n",
    "\n",
    "\n",
    "\n",
    "scores = model.evaluate(X_train, Y_train, batch_size=50)\n",
    "print (scores)\n",
    "\n",
    "scores = model.evaluate(X_test, Y_test, batch_size=50)\n",
    "print (scores)"
   ]
  },
  {
   "cell_type": "code",
   "execution_count": 9,
   "metadata": {
    "colab": {
     "base_uri": "https://localhost:8080/"
    },
    "id": "FRtZMBPjo6Ym",
    "outputId": "d711bf96-059d-43ca-9087-8e4cf15d4c7c"
   },
   "outputs": [
    {
     "name": "stdout",
     "output_type": "stream",
     "text": [
      "0.3462668889335576\n"
     ]
    }
   ],
   "source": [
    "from sklearn.metrics import r2_score\n",
    "\n",
    "y_pred = model.predict(X_test)\n",
    "\n",
    "print(r2_score(Y_test, y_pred))"
   ]
  },
  {
   "cell_type": "code",
   "execution_count": 10,
   "metadata": {
    "colab": {
     "base_uri": "https://localhost:8080/"
    },
    "id": "xSJVD95ppwt4",
    "outputId": "997e95a9-0bf6-439e-94b5-0126e00da7c3"
   },
   "outputs": [
    {
     "name": "stdout",
     "output_type": "stream",
     "text": [
      "0.40978547231226115\n"
     ]
    }
   ],
   "source": [
    "y_pred = model.predict(X_train)\n",
    "\n",
    "print(r2_score(Y_train, y_pred))"
   ]
  },
  {
   "cell_type": "code",
   "execution_count": 13,
   "metadata": {
    "id": "TVx2ya10ujrV"
   },
   "outputs": [
    {
     "data": {
      "text/plain": [
       "' More steps to take \\n1. Outlier removal\\n2. Target Regressor\\n3. Change Hyperparameters ( no. of layers, Nodes, activation, L2, Dropout)'"
      ]
     },
     "execution_count": 13,
     "metadata": {},
     "output_type": "execute_result"
    }
   ],
   "source": [
    "\"\"\" More steps to take \n",
    "1. Outlier removal\n",
    "2. Target Regressor\n",
    "3. Change Hyperparameters ( no. of layers, Nodes, activation, L2, Dropout)\"\"\""
   ]
  },
  {
   "cell_type": "code",
   "execution_count": 14,
   "metadata": {
    "colab": {
     "base_uri": "https://localhost:8080/"
    },
    "id": "76O1rxyFOywm",
    "outputId": "371f3e22-45b5-480a-b4ad-14a6c98fdab1"
   },
   "outputs": [
    {
     "name": "stdout",
     "output_type": "stream",
     "text": [
      "Saved model to disk\n"
     ]
    }
   ],
   "source": [
    "# serialize model to JSON\n",
    "model_json = model.to_json()\n",
    "\n",
    "with open(\"model.json\", \"w\") as json_file:\n",
    "    json_file.write(model_json)\n",
    "\n",
    "\n",
    "# serialize weights to HDF5\n",
    "model.save_weights(\"model.h5\")\n",
    "\n",
    "print(\"Saved model to disk\")"
   ]
  },
  {
   "cell_type": "code",
   "execution_count": 15,
   "metadata": {
    "colab": {
     "base_uri": "https://localhost:8080/"
    },
    "id": "0MUJvMiXfbSa",
    "outputId": "aa0831b2-0e67-4e18-e5ef-e4ac6cfdfe64"
   },
   "outputs": [
    {
     "name": "stdout",
     "output_type": "stream",
     "text": [
      " Artificial_Neural_Network.ipynb   model.h5\r\n",
      " housing.tsv                       model.json\r\n",
      " Keras_Boston_Housing.ipynb        Tensorflow_2.ipynb\r\n",
      " Keras_classification.ipynb       'Tensorflow Test.ipynb'\r\n",
      " Keras_Simplified.ipynb            Universal_function_approximator.ipynb\r\n"
     ]
    }
   ],
   "source": [
    "%ls"
   ]
  },
  {
   "cell_type": "code",
   "execution_count": 18,
   "metadata": {
    "colab": {
     "base_uri": "https://localhost:8080/"
    },
    "id": "SqDsUz8DP8F3",
    "outputId": "fb10d3f4-bab5-4ad0-c4ef-dc7a67e00f0c"
   },
   "outputs": [
    {
     "name": "stdout",
     "output_type": "stream",
     "text": [
      "3/3 [==============================] - 0s 2ms/step - loss: 52.4930\n",
      "52.49298858642578\n"
     ]
    }
   ],
   "source": [
    "model.load_weights(\"model.h5\")\n",
    "scores = model.evaluate(X_test, Y_test, batch_size=50)\n",
    "print (scores)"
   ]
  },
  {
   "cell_type": "code",
   "execution_count": null,
   "metadata": {},
   "outputs": [],
   "source": []
  }
 ],
 "metadata": {
  "accelerator": "GPU",
  "colab": {
   "collapsed_sections": [],
   "name": "Keras Boston Housing",
   "provenance": []
  },
  "kernelspec": {
   "display_name": "Python [conda env:tensorflow] *",
   "language": "python",
   "name": "conda-env-tensorflow-py"
  },
  "language_info": {
   "codemirror_mode": {
    "name": "ipython",
    "version": 3
   },
   "file_extension": ".py",
   "mimetype": "text/x-python",
   "name": "python",
   "nbconvert_exporter": "python",
   "pygments_lexer": "ipython3",
   "version": "3.8.10"
  },
  "latex_envs": {
   "LaTeX_envs_menu_present": true,
   "autoclose": false,
   "autocomplete": true,
   "bibliofile": "biblio.bib",
   "cite_by": "apalike",
   "current_citInitial": 1,
   "eqLabelWithNumbers": true,
   "eqNumInitial": 1,
   "hotkeys": {
    "equation": "Ctrl-E",
    "itemize": "Ctrl-I"
   },
   "labels_anchors": false,
   "latex_user_defs": false,
   "report_style_numbering": false,
   "user_envs_cfg": false
  },
  "varInspector": {
   "cols": {
    "lenName": 16,
    "lenType": 16,
    "lenVar": 40
   },
   "kernels_config": {
    "python": {
     "delete_cmd_postfix": "",
     "delete_cmd_prefix": "del ",
     "library": "var_list.py",
     "varRefreshCmd": "print(var_dic_list())"
    },
    "r": {
     "delete_cmd_postfix": ") ",
     "delete_cmd_prefix": "rm(",
     "library": "var_list.r",
     "varRefreshCmd": "cat(var_dic_list()) "
    }
   },
   "types_to_exclude": [
    "module",
    "function",
    "builtin_function_or_method",
    "instance",
    "_Feature"
   ],
   "window_display": false
  }
 },
 "nbformat": 4,
 "nbformat_minor": 1
}
