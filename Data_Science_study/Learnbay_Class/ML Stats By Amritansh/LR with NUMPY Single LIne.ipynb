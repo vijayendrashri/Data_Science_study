{
 "cells": [
  {
   "cell_type": "code",
   "execution_count": 1,
   "id": "af2e6074",
   "metadata": {
    "ExecuteTime": {
     "end_time": "2021-06-17T15:38:23.421070Z",
     "start_time": "2021-06-17T15:38:22.204806Z"
    }
   },
   "outputs": [],
   "source": [
    "import numpy as np\n",
    "import matplotlib.pyplot as plt"
   ]
  },
  {
   "cell_type": "code",
   "execution_count": 2,
   "id": "421e5544",
   "metadata": {
    "ExecuteTime": {
     "end_time": "2021-06-17T16:01:17.274206Z",
     "start_time": "2021-06-17T16:01:17.222886Z"
    }
   },
   "outputs": [
    {
     "data": {
      "text/plain": [
       "array([[-1.        ],\n",
       "       [-0.97979798],\n",
       "       [-0.95959596],\n",
       "       [-0.93939394],\n",
       "       [-0.91919192],\n",
       "       [-0.8989899 ],\n",
       "       [-0.87878788],\n",
       "       [-0.85858586],\n",
       "       [-0.83838384],\n",
       "       [-0.81818182],\n",
       "       [-0.7979798 ],\n",
       "       [-0.77777778],\n",
       "       [-0.75757576],\n",
       "       [-0.73737374],\n",
       "       [-0.71717172],\n",
       "       [-0.6969697 ],\n",
       "       [-0.67676768],\n",
       "       [-0.65656566],\n",
       "       [-0.63636364],\n",
       "       [-0.61616162],\n",
       "       [-0.5959596 ],\n",
       "       [-0.57575758],\n",
       "       [-0.55555556],\n",
       "       [-0.53535354],\n",
       "       [-0.51515152],\n",
       "       [-0.49494949],\n",
       "       [-0.47474747],\n",
       "       [-0.45454545],\n",
       "       [-0.43434343],\n",
       "       [-0.41414141],\n",
       "       [-0.39393939],\n",
       "       [-0.37373737],\n",
       "       [-0.35353535],\n",
       "       [-0.33333333],\n",
       "       [-0.31313131],\n",
       "       [-0.29292929],\n",
       "       [-0.27272727],\n",
       "       [-0.25252525],\n",
       "       [-0.23232323],\n",
       "       [-0.21212121],\n",
       "       [-0.19191919],\n",
       "       [-0.17171717],\n",
       "       [-0.15151515],\n",
       "       [-0.13131313],\n",
       "       [-0.11111111],\n",
       "       [-0.09090909],\n",
       "       [-0.07070707],\n",
       "       [-0.05050505],\n",
       "       [-0.03030303],\n",
       "       [-0.01010101],\n",
       "       [ 0.01010101],\n",
       "       [ 0.03030303],\n",
       "       [ 0.05050505],\n",
       "       [ 0.07070707],\n",
       "       [ 0.09090909],\n",
       "       [ 0.11111111],\n",
       "       [ 0.13131313],\n",
       "       [ 0.15151515],\n",
       "       [ 0.17171717],\n",
       "       [ 0.19191919],\n",
       "       [ 0.21212121],\n",
       "       [ 0.23232323],\n",
       "       [ 0.25252525],\n",
       "       [ 0.27272727],\n",
       "       [ 0.29292929],\n",
       "       [ 0.31313131],\n",
       "       [ 0.33333333],\n",
       "       [ 0.35353535],\n",
       "       [ 0.37373737],\n",
       "       [ 0.39393939],\n",
       "       [ 0.41414141],\n",
       "       [ 0.43434343],\n",
       "       [ 0.45454545],\n",
       "       [ 0.47474747],\n",
       "       [ 0.49494949],\n",
       "       [ 0.51515152],\n",
       "       [ 0.53535354],\n",
       "       [ 0.55555556],\n",
       "       [ 0.57575758],\n",
       "       [ 0.5959596 ],\n",
       "       [ 0.61616162],\n",
       "       [ 0.63636364],\n",
       "       [ 0.65656566],\n",
       "       [ 0.67676768],\n",
       "       [ 0.6969697 ],\n",
       "       [ 0.71717172],\n",
       "       [ 0.73737374],\n",
       "       [ 0.75757576],\n",
       "       [ 0.77777778],\n",
       "       [ 0.7979798 ],\n",
       "       [ 0.81818182],\n",
       "       [ 0.83838384],\n",
       "       [ 0.85858586],\n",
       "       [ 0.87878788],\n",
       "       [ 0.8989899 ],\n",
       "       [ 0.91919192],\n",
       "       [ 0.93939394],\n",
       "       [ 0.95959596],\n",
       "       [ 0.97979798],\n",
       "       [ 1.        ]])"
      ]
     },
     "execution_count": 2,
     "metadata": {},
     "output_type": "execute_result"
    }
   ],
   "source": [
    "np.random.seed(5)\n",
    "data_x = np.linspace(-10.0, 10.0, 100)[:, np.newaxis]\n",
    "# data_y = np.sin(data_x) + 0.1 * np.power(data_x, 2) + 0.5 * np.random.randn(100, 1)\n",
    "data_y = 29*data_x + 20* np.random.randn(100, 1)  # creating your data\n",
    "data_x /= np.max(data_x) #scaling\n",
    "data_x"
   ]
  },
  {
   "cell_type": "code",
   "execution_count": 3,
   "id": "06d766f3",
   "metadata": {
    "ExecuteTime": {
     "end_time": "2021-06-17T16:01:25.285497Z",
     "start_time": "2021-06-17T16:01:25.277310Z"
    }
   },
   "outputs": [
    {
     "data": {
      "text/plain": [
       "array([[ 1.        , -1.        ],\n",
       "       [ 1.        , -0.97979798],\n",
       "       [ 1.        , -0.95959596],\n",
       "       [ 1.        , -0.93939394],\n",
       "       [ 1.        , -0.91919192],\n",
       "       [ 1.        , -0.8989899 ],\n",
       "       [ 1.        , -0.87878788],\n",
       "       [ 1.        , -0.85858586],\n",
       "       [ 1.        , -0.83838384],\n",
       "       [ 1.        , -0.81818182],\n",
       "       [ 1.        , -0.7979798 ],\n",
       "       [ 1.        , -0.77777778],\n",
       "       [ 1.        , -0.75757576],\n",
       "       [ 1.        , -0.73737374],\n",
       "       [ 1.        , -0.71717172],\n",
       "       [ 1.        , -0.6969697 ],\n",
       "       [ 1.        , -0.67676768],\n",
       "       [ 1.        , -0.65656566],\n",
       "       [ 1.        , -0.63636364],\n",
       "       [ 1.        , -0.61616162],\n",
       "       [ 1.        , -0.5959596 ],\n",
       "       [ 1.        , -0.57575758],\n",
       "       [ 1.        , -0.55555556],\n",
       "       [ 1.        , -0.53535354],\n",
       "       [ 1.        , -0.51515152],\n",
       "       [ 1.        , -0.49494949],\n",
       "       [ 1.        , -0.47474747],\n",
       "       [ 1.        , -0.45454545],\n",
       "       [ 1.        , -0.43434343],\n",
       "       [ 1.        , -0.41414141],\n",
       "       [ 1.        , -0.39393939],\n",
       "       [ 1.        , -0.37373737],\n",
       "       [ 1.        , -0.35353535],\n",
       "       [ 1.        , -0.33333333],\n",
       "       [ 1.        , -0.31313131],\n",
       "       [ 1.        , -0.29292929],\n",
       "       [ 1.        , -0.27272727],\n",
       "       [ 1.        , -0.25252525],\n",
       "       [ 1.        , -0.23232323],\n",
       "       [ 1.        , -0.21212121],\n",
       "       [ 1.        , -0.19191919],\n",
       "       [ 1.        , -0.17171717],\n",
       "       [ 1.        , -0.15151515],\n",
       "       [ 1.        , -0.13131313],\n",
       "       [ 1.        , -0.11111111],\n",
       "       [ 1.        , -0.09090909],\n",
       "       [ 1.        , -0.07070707],\n",
       "       [ 1.        , -0.05050505],\n",
       "       [ 1.        , -0.03030303],\n",
       "       [ 1.        , -0.01010101],\n",
       "       [ 1.        ,  0.01010101],\n",
       "       [ 1.        ,  0.03030303],\n",
       "       [ 1.        ,  0.05050505],\n",
       "       [ 1.        ,  0.07070707],\n",
       "       [ 1.        ,  0.09090909],\n",
       "       [ 1.        ,  0.11111111],\n",
       "       [ 1.        ,  0.13131313],\n",
       "       [ 1.        ,  0.15151515],\n",
       "       [ 1.        ,  0.17171717],\n",
       "       [ 1.        ,  0.19191919],\n",
       "       [ 1.        ,  0.21212121],\n",
       "       [ 1.        ,  0.23232323],\n",
       "       [ 1.        ,  0.25252525],\n",
       "       [ 1.        ,  0.27272727],\n",
       "       [ 1.        ,  0.29292929],\n",
       "       [ 1.        ,  0.31313131],\n",
       "       [ 1.        ,  0.33333333],\n",
       "       [ 1.        ,  0.35353535],\n",
       "       [ 1.        ,  0.37373737],\n",
       "       [ 1.        ,  0.39393939],\n",
       "       [ 1.        ,  0.41414141],\n",
       "       [ 1.        ,  0.43434343],\n",
       "       [ 1.        ,  0.45454545],\n",
       "       [ 1.        ,  0.47474747],\n",
       "       [ 1.        ,  0.49494949],\n",
       "       [ 1.        ,  0.51515152],\n",
       "       [ 1.        ,  0.53535354],\n",
       "       [ 1.        ,  0.55555556],\n",
       "       [ 1.        ,  0.57575758],\n",
       "       [ 1.        ,  0.5959596 ],\n",
       "       [ 1.        ,  0.61616162],\n",
       "       [ 1.        ,  0.63636364],\n",
       "       [ 1.        ,  0.65656566],\n",
       "       [ 1.        ,  0.67676768],\n",
       "       [ 1.        ,  0.6969697 ],\n",
       "       [ 1.        ,  0.71717172],\n",
       "       [ 1.        ,  0.73737374],\n",
       "       [ 1.        ,  0.75757576],\n",
       "       [ 1.        ,  0.77777778],\n",
       "       [ 1.        ,  0.7979798 ],\n",
       "       [ 1.        ,  0.81818182],\n",
       "       [ 1.        ,  0.83838384],\n",
       "       [ 1.        ,  0.85858586],\n",
       "       [ 1.        ,  0.87878788],\n",
       "       [ 1.        ,  0.8989899 ],\n",
       "       [ 1.        ,  0.91919192],\n",
       "       [ 1.        ,  0.93939394],\n",
       "       [ 1.        ,  0.95959596],\n",
       "       [ 1.        ,  0.97979798],\n",
       "       [ 1.        ,  1.        ]])"
      ]
     },
     "execution_count": 3,
     "metadata": {},
     "output_type": "execute_result"
    }
   ],
   "source": [
    "data_x = np.hstack((np.ones_like(data_x), data_x))\n",
    "data_x"
   ]
  },
  {
   "cell_type": "code",
   "execution_count": 4,
   "id": "1899e2a3",
   "metadata": {
    "ExecuteTime": {
     "end_time": "2021-06-17T16:01:35.373743Z",
     "start_time": "2021-06-17T16:01:35.348735Z"
    }
   },
   "outputs": [
    {
     "name": "stdout",
     "output_type": "stream",
     "text": [
      "[56 34 87 24 27 92 67 43 65 69 12 59 47 62 72 40 44 80 46 29 77  0 52 84\n",
      " 58 93 88 33 19 61 90 51 49 13 39 36 50 16 22 63 66 25 57 20 97 91 76 11\n",
      " 82 53 15 81 73 17 48 32 60 10 21 42  4 96 78 70 79 68  9 74  7  6 94 30\n",
      "  1 37 86 95 71 18 38 54  2 85 23  3 55 89 35 75 98 83 41 26  5 45 31 99\n",
      " 14  8 28 64]\n",
      "(20, 2) 160 20 80\n",
      "[[ 1.          0.13131313]\n",
      " [ 1.         -0.31313131]\n",
      " [ 1.          0.75757576]\n",
      " [ 1.         -0.51515152]\n",
      " [ 1.         -0.45454545]\n",
      " [ 1.          0.85858586]\n",
      " [ 1.          0.35353535]\n",
      " [ 1.         -0.13131313]\n",
      " [ 1.          0.31313131]\n",
      " [ 1.          0.39393939]\n",
      " [ 1.         -0.75757576]\n",
      " [ 1.          0.19191919]\n",
      " [ 1.         -0.05050505]\n",
      " [ 1.          0.25252525]\n",
      " [ 1.          0.45454545]\n",
      " [ 1.         -0.19191919]\n",
      " [ 1.         -0.11111111]\n",
      " [ 1.          0.61616162]\n",
      " [ 1.         -0.07070707]\n",
      " [ 1.         -0.41414141]]\n"
     ]
    }
   ],
   "source": [
    "order = np.random.permutation(len(data_x))\n",
    "portion = 20\n",
    "test_x = data_x[order[:portion]]\n",
    "test_y = data_y[order[:portion]]\n",
    "train_x = data_x[order[portion:]]\n",
    "train_y = data_y[order[portion:]]\n",
    "print(order)\n",
    "print (test_x.shape, train_x.size, test_y.size, train_y.size)\n",
    "print (test_x)"
   ]
  },
  {
   "cell_type": "code",
   "execution_count": 5,
   "id": "a7e9c017",
   "metadata": {
    "ExecuteTime": {
     "end_time": "2021-06-17T16:01:43.380382Z",
     "start_time": "2021-06-17T16:01:42.758966Z"
    }
   },
   "outputs": [
    {
     "data": {
      "image/png": "[encoded data removed]",
      "text/plain": [
       "<Figure size 432x288 with 1 Axes>"
      ]
     },
     "metadata": {
      "needs_background": "light"
     },
     "output_type": "display_data"
    }
   ],
   "source": [
    "plt.scatter(train_x[:,1], train_y, c='b', label='Data')\n",
    "plt.show()"
   ]
  },
  {
   "cell_type": "code",
   "execution_count": 13,
   "id": "844d97ba",
   "metadata": {
    "ExecuteTime": {
     "end_time": "2021-06-17T16:03:50.018581Z",
     "start_time": "2021-06-17T16:03:50.012316Z"
    }
   },
   "outputs": [],
   "source": [
    "def get_gradient(w, x, y):\n",
    "    y_estimate = (np.power(x,1).dot(w)).flatten() #hypothesis\n",
    "    error = (y.flatten() - y_estimate) \n",
    "    mse = (1.0/len(x))*np.sum(np.power(error,2)) # mse\n",
    "    gradient = -(1.0/len(x)) * error.dot(np.power(x,1))         # gradient\n",
    "    return gradient, mse"
   ]
  },
  {
   "cell_type": "code",
   "execution_count": 14,
   "id": "8f25d18e",
   "metadata": {
    "ExecuteTime": {
     "end_time": "2021-06-17T16:03:50.698248Z",
     "start_time": "2021-06-17T16:03:50.659013Z"
    }
   },
   "outputs": [
    {
     "name": "stdout",
     "output_type": "stream",
     "text": [
      "Intial values of Weights:\n",
      "-0.034702101230658505 2.2332708137448996\n",
      "Iteration: 10 - Error: 16152.4334\n",
      "Updated Weights : 84.627930 , -1.128190\n",
      "Iteration: 20 - Error: 7682.7991\n",
      "Updated Weights : 149.925493 , -1.709792\n",
      "Iteration: 30 - Error: 3762.4111\n",
      "Updated Weights : 194.351770 , -1.341229\n",
      "Iteration: 40 - Error: 1946.4778\n",
      "Updated Weights : 224.584611 , -0.823941\n",
      "Iteration: 50 - Error: 1105.1773\n",
      "Updated Weights : 245.160908 , -0.378987\n",
      "Iteration: 60 - Error: 715.3937\n",
      "Updated Weights : 259.165830 , -0.043758\n",
      "Iteration: 70 - Error: 534.8005\n",
      "Updated Weights : 268.698335 , 0.195701\n",
      "Iteration: 80 - Error: 451.1284\n",
      "Updated Weights : 275.186771 , 0.362625\n",
      "Iteration: 90 - Error: 412.3616\n",
      "Updated Weights : 279.603253 , 0.477616\n",
      "Iteration: 100 - Error: 394.4002\n",
      "Updated Weights : 282.609429 , 0.556365\n",
      "Iteration: 110 - Error: 386.0783\n",
      "Updated Weights : 284.655655 , 0.610133\n",
      "Iteration: 120 - Error: 382.2227\n",
      "Updated Weights : 286.048468 , 0.646790\n",
      "Iteration: 130 - Error: 380.4363\n",
      "Updated Weights : 286.996521 , 0.671762\n",
      "Iteration: 140 - Error: 379.6086\n",
      "Updated Weights : 287.641837 , 0.688767\n",
      "Iteration: 150 - Error: 379.2251\n",
      "Updated Weights : 288.081087 , 0.700344\n",
      "Iteration: 160 - Error: 379.0474\n",
      "Updated Weights : 288.380074 , 0.708225\n",
      "Iteration: 170 - Error: 378.9651\n",
      "Updated Weights : 288.583587 , 0.713590\n",
      "Iteration: 180 - Error: 378.9270\n",
      "Updated Weights : 288.722113 , 0.717242\n",
      "Iteration: 190 - Error: 378.9093\n",
      "Updated Weights : 288.816405 , 0.719727\n",
      "Iteration: 200 - Error: 378.9011\n",
      "Updated Weights : 288.880587 , 0.721419\n",
      "Iteration: 210 - Error: 378.8973\n",
      "Updated Weights : 288.924274 , 0.722571\n",
      "Iteration: 220 - Error: 378.8956\n",
      "Updated Weights : 288.954010 , 0.723355\n",
      "Iteration: 230 - Error: 378.8948\n",
      "Updated Weights : 288.974251 , 0.723889\n",
      "Iteration: 240 - Error: 378.8944\n",
      "Updated Weights : 288.988029 , 0.724252\n",
      "Converged\n",
      "Final Weights : 288.992217 , 0.724362\n",
      "Test Cost = 226.61394051201364\n"
     ]
    }
   ],
   "source": [
    "w = np.random.randn(2) # Random Intialization\n",
    "alpha = 0.1 # learning rate\n",
    "tolerance = 1e-3 # param for stopping the loop\n",
    "print(\"Intial values of Weights:\")\n",
    "print(w[1], w[0])\n",
    "# Perform Gradient Descent\n",
    "iterations = 1\n",
    "while True:\n",
    "    gradient, error = get_gradient(w, train_x, train_y)\n",
    "    new_w = w - alpha * gradient\n",
    "#     print(gradient)\n",
    "    \n",
    "    # Stopping Condition\n",
    "    if np.sum(abs(new_w - w)) < tolerance:\n",
    "        print (\"Converged\")\n",
    "        break\n",
    "    \n",
    "    # Print error every 10 iterations\n",
    "    if iterations % 10 == 0:\n",
    "        print (\"Iteration: %d - Error: %.4f\" %(iterations, error))\n",
    "        print (\"Updated Weights : {:f} , {:f}\".format(w[1], w[0]))\n",
    "    iterations += 1\n",
    "    w = new_w\n",
    "\n",
    "print (\"Final Weights : {:f} , {:f}\".format(w[1], w[0]))\n",
    "print (\"Test Cost =\", get_gradient(w, test_x, test_y)[1])"
   ]
  },
  {
   "cell_type": "code",
   "execution_count": 15,
   "id": "fe414090",
   "metadata": {
    "ExecuteTime": {
     "end_time": "2021-06-17T16:03:51.278312Z",
     "start_time": "2021-06-17T16:03:51.274821Z"
    }
   },
   "outputs": [
    {
     "name": "stdout",
     "output_type": "stream",
     "text": [
      "Final eqn / hypothesis looks like:\n",
      "y = 288.992217.x^1 + 0.724362\n"
     ]
    }
   ],
   "source": [
    "print(\"Final eqn / hypothesis looks like:\")\n",
    "print('y = {:f}.x^1 + {:f}'.format(w[1], w[0]))"
   ]
  },
  {
   "cell_type": "code",
   "execution_count": 16,
   "id": "a5159a2b",
   "metadata": {
    "ExecuteTime": {
     "end_time": "2021-06-17T16:03:52.222916Z",
     "start_time": "2021-06-17T16:03:51.972057Z"
    }
   },
   "outputs": [
    {
     "data": {
      "image/png": "[encoded data removed]",
      "text/plain": [
       "<Figure size 432x288 with 1 Axes>"
      ]
     },
     "metadata": {
      "needs_background": "light"
     },
     "output_type": "display_data"
    }
   ],
   "source": [
    "plt.plot(data_x[:,1], (data_x**1).dot(w), c='g', label='Model')\n",
    "plt.scatter(train_x[:,1], train_y, c='b', label='Train Set')\n",
    "plt.scatter(test_x[:,1], test_y, c='r', label='Test Set')\n",
    "plt.grid()\n",
    "plt.legend(loc='best')\n",
    "plt.xlabel('X')\n",
    "plt.ylabel('Y')\n",
    "plt.show()"
   ]
  },
  {
   "cell_type": "code",
   "execution_count": 10,
   "id": "dda0869b",
   "metadata": {
    "ExecuteTime": {
     "end_time": "2021-06-17T16:02:18.045714Z",
     "start_time": "2021-06-17T16:02:18.041304Z"
    }
   },
   "outputs": [
    {
     "data": {
      "text/plain": [
       "array([  0.44824287, -11.83196569])"
      ]
     },
     "execution_count": 10,
     "metadata": {},
     "output_type": "execute_result"
    }
   ],
   "source": [
    "w # trained model contains values of weights/parameters"
   ]
  },
  {
   "cell_type": "code",
   "execution_count": null,
   "id": "3eb0d56c",
   "metadata": {},
   "outputs": [],
   "source": []
  }
 ],
 "metadata": {
  "kernelspec": {
   "display_name": "Python 3",
   "language": "python",
   "name": "python3"
  },
  "language_info": {
   "codemirror_mode": {
    "name": "ipython",
    "version": 3
   },
   "file_extension": ".py",
   "mimetype": "text/x-python",
   "name": "python",
   "nbconvert_exporter": "python",
   "pygments_lexer": "ipython3",
   "version": "3.8.3"
  },
  "latex_envs": {
   "LaTeX_envs_menu_present": true,
   "autoclose": false,
   "autocomplete": true,
   "bibliofile": "biblio.bib",
   "cite_by": "apalike",
   "current_citInitial": 1,
   "eqLabelWithNumbers": true,
   "eqNumInitial": 1,
   "hotkeys": {
    "equation": "Ctrl-E",
    "itemize": "Ctrl-I"
   },
   "labels_anchors": false,
   "latex_user_defs": false,
   "report_style_numbering": false,
   "user_envs_cfg": false
  },
  "varInspector": {
   "cols": {
    "lenName": 16,
    "lenType": 16,
    "lenVar": 40
   },
   "kernels_config": {
    "python": {
     "delete_cmd_postfix": "",
     "delete_cmd_prefix": "del ",
     "library": "var_list.py",
     "varRefreshCmd": "print(var_dic_list())"
    },
    "r": {
     "delete_cmd_postfix": ") ",
     "delete_cmd_prefix": "rm(",
     "library": "var_list.r",
     "varRefreshCmd": "cat(var_dic_list()) "
    }
   },
   "types_to_exclude": [
    "module",
    "function",
    "builtin_function_or_method",
    "instance",
    "_Feature"
   ],
   "window_display": false
  }
 },
 "nbformat": 4,
 "nbformat_minor": 5
}
