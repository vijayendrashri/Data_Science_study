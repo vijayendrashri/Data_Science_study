{
 "cells": [
  {
   "cell_type": "code",
   "execution_count": 10,
   "id": "e86a1e96",
   "metadata": {
    "ExecuteTime": {
     "end_time": "2021-06-22T08:47:28.741208Z",
     "start_time": "2021-06-22T08:47:28.735424Z"
    }
   },
   "outputs": [],
   "source": [
    "import numpy as np\n",
    "import matplotlib.pyplot as plt\n",
    "import matplotlib.animation as ani"
   ]
  },
  {
   "cell_type": "code",
   "execution_count": 15,
   "id": "e1498d58",
   "metadata": {
    "ExecuteTime": {
     "end_time": "2021-06-22T08:48:02.852270Z",
     "start_time": "2021-06-22T08:48:02.845958Z"
    }
   },
   "outputs": [],
   "source": [
    "# 2000 simulation for Die roll\n",
    "n=5"
   ]
  },
  {
   "cell_type": "code",
   "execution_count": 16,
   "id": "4886beac",
   "metadata": {
    "ExecuteTime": {
     "end_time": "2021-06-22T08:48:03.604792Z",
     "start_time": "2021-06-22T08:48:03.581381Z"
    }
   },
   "outputs": [
    {
     "name": "stdout",
     "output_type": "stream",
     "text": [
      "[5.0, 2.8, 3.0]\n"
     ]
    },
    {
     "data": {
      "text/plain": [
       "<Figure size 432x288 with 0 Axes>"
      ]
     },
     "metadata": {},
     "output_type": "display_data"
    }
   ],
   "source": [
    "# In each simulation there is one  trial\n",
    "avg=[]\n",
    "for i in range(2,n):\n",
    "    a = np.random.randint(1,7,n)\n",
    "    avg.append(np.average(a))\n",
    "    \n",
    "print(avg[:3])\n",
    "#function that plot the histogram\n",
    "def clt(current):\n",
    "    plt.cla()\n",
    "    if current==5:\n",
    "        a.event_source.stop()\n",
    "    plt.hist(avg[0:current])\n",
    "    plt.gca().set_title('Expected value of die roll')\n",
    "    plt.gca().set_xlabel('Avg from die roll')\n",
    "    plt.gca().set_ylabel('Frequency')\n",
    "    plt.annotate('Die roll ={}'.format(current),[3,27])\n",
    "\n",
    "fig=plt.figure()\n",
    "a = ani.FuncAnimation(fig,clt,interval=5)\n",
    "plt.show()"
   ]
  },
  {
   "cell_type": "code",
   "execution_count": null,
   "id": "9219864c",
   "metadata": {},
   "outputs": [],
   "source": []
  }
 ],
 "metadata": {
  "kernelspec": {
   "display_name": "Python 3",
   "language": "python",
   "name": "python3"
  },
  "language_info": {
   "codemirror_mode": {
    "name": "ipython",
    "version": 3
   },
   "file_extension": ".py",
   "mimetype": "text/x-python",
   "name": "python",
   "nbconvert_exporter": "python",
   "pygments_lexer": "ipython3",
   "version": "3.8.3"
  },
  "latex_envs": {
   "LaTeX_envs_menu_present": true,
   "autoclose": false,
   "autocomplete": true,
   "bibliofile": "biblio.bib",
   "cite_by": "apalike",
   "current_citInitial": 1,
   "eqLabelWithNumbers": true,
   "eqNumInitial": 1,
   "hotkeys": {
    "equation": "Ctrl-E",
    "itemize": "Ctrl-I"
   },
   "labels_anchors": false,
   "latex_user_defs": false,
   "report_style_numbering": false,
   "user_envs_cfg": false
  },
  "varInspector": {
   "cols": {
    "lenName": 16,
    "lenType": 16,
    "lenVar": 40
   },
   "kernels_config": {
    "python": {
     "delete_cmd_postfix": "",
     "delete_cmd_prefix": "del ",
     "library": "var_list.py",
     "varRefreshCmd": "print(var_dic_list())"
    },
    "r": {
     "delete_cmd_postfix": ") ",
     "delete_cmd_prefix": "rm(",
     "library": "var_list.r",
     "varRefreshCmd": "cat(var_dic_list()) "
    }
   },
   "types_to_exclude": [
    "module",
    "function",
    "builtin_function_or_method",
    "instance",
    "_Feature"
   ],
   "window_display": false
  }
 },
 "nbformat": 4,
 "nbformat_minor": 5
}
