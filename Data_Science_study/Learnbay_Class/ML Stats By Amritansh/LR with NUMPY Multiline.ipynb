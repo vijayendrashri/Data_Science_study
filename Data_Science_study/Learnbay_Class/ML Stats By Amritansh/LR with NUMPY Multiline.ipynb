{
 "cells": [
  {
   "cell_type": "code",
   "execution_count": 2,
   "id": "af2e6074",
   "metadata": {
    "ExecuteTime": {
     "end_time": "2021-06-18T05:46:54.526709Z",
     "start_time": "2021-06-18T05:46:54.521158Z"
    }
   },
   "outputs": [],
   "source": [
    "import numpy as np\n",
    "import matplotlib.pyplot as plt"
   ]
  },
  {
   "cell_type": "code",
   "execution_count": 16,
   "id": "421e5544",
   "metadata": {
    "ExecuteTime": {
     "end_time": "2021-06-18T05:53:24.602660Z",
     "start_time": "2021-06-18T05:53:24.582832Z"
    },
    "scrolled": true
   },
   "outputs": [
    {
     "data": {
      "text/plain": [
       "array([[-1.        ],\n",
       "       [-0.97979798],\n",
       "       [-0.95959596],\n",
       "       [-0.93939394],\n",
       "       [-0.91919192],\n",
       "       [-0.8989899 ],\n",
       "       [-0.87878788],\n",
       "       [-0.85858586],\n",
       "       [-0.83838384],\n",
       "       [-0.81818182],\n",
       "       [-0.7979798 ],\n",
       "       [-0.77777778],\n",
       "       [-0.75757576],\n",
       "       [-0.73737374],\n",
       "       [-0.71717172],\n",
       "       [-0.6969697 ],\n",
       "       [-0.67676768],\n",
       "       [-0.65656566],\n",
       "       [-0.63636364],\n",
       "       [-0.61616162],\n",
       "       [-0.5959596 ],\n",
       "       [-0.57575758],\n",
       "       [-0.55555556],\n",
       "       [-0.53535354],\n",
       "       [-0.51515152],\n",
       "       [-0.49494949],\n",
       "       [-0.47474747],\n",
       "       [-0.45454545],\n",
       "       [-0.43434343],\n",
       "       [-0.41414141],\n",
       "       [-0.39393939],\n",
       "       [-0.37373737],\n",
       "       [-0.35353535],\n",
       "       [-0.33333333],\n",
       "       [-0.31313131],\n",
       "       [-0.29292929],\n",
       "       [-0.27272727],\n",
       "       [-0.25252525],\n",
       "       [-0.23232323],\n",
       "       [-0.21212121],\n",
       "       [-0.19191919],\n",
       "       [-0.17171717],\n",
       "       [-0.15151515],\n",
       "       [-0.13131313],\n",
       "       [-0.11111111],\n",
       "       [-0.09090909],\n",
       "       [-0.07070707],\n",
       "       [-0.05050505],\n",
       "       [-0.03030303],\n",
       "       [-0.01010101],\n",
       "       [ 0.01010101],\n",
       "       [ 0.03030303],\n",
       "       [ 0.05050505],\n",
       "       [ 0.07070707],\n",
       "       [ 0.09090909],\n",
       "       [ 0.11111111],\n",
       "       [ 0.13131313],\n",
       "       [ 0.15151515],\n",
       "       [ 0.17171717],\n",
       "       [ 0.19191919],\n",
       "       [ 0.21212121],\n",
       "       [ 0.23232323],\n",
       "       [ 0.25252525],\n",
       "       [ 0.27272727],\n",
       "       [ 0.29292929],\n",
       "       [ 0.31313131],\n",
       "       [ 0.33333333],\n",
       "       [ 0.35353535],\n",
       "       [ 0.37373737],\n",
       "       [ 0.39393939],\n",
       "       [ 0.41414141],\n",
       "       [ 0.43434343],\n",
       "       [ 0.45454545],\n",
       "       [ 0.47474747],\n",
       "       [ 0.49494949],\n",
       "       [ 0.51515152],\n",
       "       [ 0.53535354],\n",
       "       [ 0.55555556],\n",
       "       [ 0.57575758],\n",
       "       [ 0.5959596 ],\n",
       "       [ 0.61616162],\n",
       "       [ 0.63636364],\n",
       "       [ 0.65656566],\n",
       "       [ 0.67676768],\n",
       "       [ 0.6969697 ],\n",
       "       [ 0.71717172],\n",
       "       [ 0.73737374],\n",
       "       [ 0.75757576],\n",
       "       [ 0.77777778],\n",
       "       [ 0.7979798 ],\n",
       "       [ 0.81818182],\n",
       "       [ 0.83838384],\n",
       "       [ 0.85858586],\n",
       "       [ 0.87878788],\n",
       "       [ 0.8989899 ],\n",
       "       [ 0.91919192],\n",
       "       [ 0.93939394],\n",
       "       [ 0.95959596],\n",
       "       [ 0.97979798],\n",
       "       [ 1.        ]])"
      ]
     },
     "execution_count": 16,
     "metadata": {},
     "output_type": "execute_result"
    }
   ],
   "source": [
    "np.random.seed(5)\n",
    "data_x = np.linspace(-10.0, 10.0, 100)[:, np.newaxis]\n",
    "data_y = np.sin(data_x) + 0.1 * np.power(data_x, 2) + 0.5 * np.random.randn(100, 1)\n",
    "# data_y = 29*data_x + 20* np.random.randn(100, 1)  # creating your data\n",
    "data_x /= np.max(data_x) #scaling\n",
    "data_x"
   ]
  },
  {
   "cell_type": "code",
   "execution_count": 17,
   "id": "06d766f3",
   "metadata": {
    "ExecuteTime": {
     "end_time": "2021-06-18T05:53:26.285948Z",
     "start_time": "2021-06-18T05:53:26.271251Z"
    },
    "scrolled": true
   },
   "outputs": [
    {
     "data": {
      "text/plain": [
       "array([[ 1.        , -1.        ],\n",
       "       [ 1.        , -0.97979798],\n",
       "       [ 1.        , -0.95959596],\n",
       "       [ 1.        , -0.93939394],\n",
       "       [ 1.        , -0.91919192],\n",
       "       [ 1.        , -0.8989899 ],\n",
       "       [ 1.        , -0.87878788],\n",
       "       [ 1.        , -0.85858586],\n",
       "       [ 1.        , -0.83838384],\n",
       "       [ 1.        , -0.81818182],\n",
       "       [ 1.        , -0.7979798 ],\n",
       "       [ 1.        , -0.77777778],\n",
       "       [ 1.        , -0.75757576],\n",
       "       [ 1.        , -0.73737374],\n",
       "       [ 1.        , -0.71717172],\n",
       "       [ 1.        , -0.6969697 ],\n",
       "       [ 1.        , -0.67676768],\n",
       "       [ 1.        , -0.65656566],\n",
       "       [ 1.        , -0.63636364],\n",
       "       [ 1.        , -0.61616162],\n",
       "       [ 1.        , -0.5959596 ],\n",
       "       [ 1.        , -0.57575758],\n",
       "       [ 1.        , -0.55555556],\n",
       "       [ 1.        , -0.53535354],\n",
       "       [ 1.        , -0.51515152],\n",
       "       [ 1.        , -0.49494949],\n",
       "       [ 1.        , -0.47474747],\n",
       "       [ 1.        , -0.45454545],\n",
       "       [ 1.        , -0.43434343],\n",
       "       [ 1.        , -0.41414141],\n",
       "       [ 1.        , -0.39393939],\n",
       "       [ 1.        , -0.37373737],\n",
       "       [ 1.        , -0.35353535],\n",
       "       [ 1.        , -0.33333333],\n",
       "       [ 1.        , -0.31313131],\n",
       "       [ 1.        , -0.29292929],\n",
       "       [ 1.        , -0.27272727],\n",
       "       [ 1.        , -0.25252525],\n",
       "       [ 1.        , -0.23232323],\n",
       "       [ 1.        , -0.21212121],\n",
       "       [ 1.        , -0.19191919],\n",
       "       [ 1.        , -0.17171717],\n",
       "       [ 1.        , -0.15151515],\n",
       "       [ 1.        , -0.13131313],\n",
       "       [ 1.        , -0.11111111],\n",
       "       [ 1.        , -0.09090909],\n",
       "       [ 1.        , -0.07070707],\n",
       "       [ 1.        , -0.05050505],\n",
       "       [ 1.        , -0.03030303],\n",
       "       [ 1.        , -0.01010101],\n",
       "       [ 1.        ,  0.01010101],\n",
       "       [ 1.        ,  0.03030303],\n",
       "       [ 1.        ,  0.05050505],\n",
       "       [ 1.        ,  0.07070707],\n",
       "       [ 1.        ,  0.09090909],\n",
       "       [ 1.        ,  0.11111111],\n",
       "       [ 1.        ,  0.13131313],\n",
       "       [ 1.        ,  0.15151515],\n",
       "       [ 1.        ,  0.17171717],\n",
       "       [ 1.        ,  0.19191919],\n",
       "       [ 1.        ,  0.21212121],\n",
       "       [ 1.        ,  0.23232323],\n",
       "       [ 1.        ,  0.25252525],\n",
       "       [ 1.        ,  0.27272727],\n",
       "       [ 1.        ,  0.29292929],\n",
       "       [ 1.        ,  0.31313131],\n",
       "       [ 1.        ,  0.33333333],\n",
       "       [ 1.        ,  0.35353535],\n",
       "       [ 1.        ,  0.37373737],\n",
       "       [ 1.        ,  0.39393939],\n",
       "       [ 1.        ,  0.41414141],\n",
       "       [ 1.        ,  0.43434343],\n",
       "       [ 1.        ,  0.45454545],\n",
       "       [ 1.        ,  0.47474747],\n",
       "       [ 1.        ,  0.49494949],\n",
       "       [ 1.        ,  0.51515152],\n",
       "       [ 1.        ,  0.53535354],\n",
       "       [ 1.        ,  0.55555556],\n",
       "       [ 1.        ,  0.57575758],\n",
       "       [ 1.        ,  0.5959596 ],\n",
       "       [ 1.        ,  0.61616162],\n",
       "       [ 1.        ,  0.63636364],\n",
       "       [ 1.        ,  0.65656566],\n",
       "       [ 1.        ,  0.67676768],\n",
       "       [ 1.        ,  0.6969697 ],\n",
       "       [ 1.        ,  0.71717172],\n",
       "       [ 1.        ,  0.73737374],\n",
       "       [ 1.        ,  0.75757576],\n",
       "       [ 1.        ,  0.77777778],\n",
       "       [ 1.        ,  0.7979798 ],\n",
       "       [ 1.        ,  0.81818182],\n",
       "       [ 1.        ,  0.83838384],\n",
       "       [ 1.        ,  0.85858586],\n",
       "       [ 1.        ,  0.87878788],\n",
       "       [ 1.        ,  0.8989899 ],\n",
       "       [ 1.        ,  0.91919192],\n",
       "       [ 1.        ,  0.93939394],\n",
       "       [ 1.        ,  0.95959596],\n",
       "       [ 1.        ,  0.97979798],\n",
       "       [ 1.        ,  1.        ]])"
      ]
     },
     "execution_count": 17,
     "metadata": {},
     "output_type": "execute_result"
    }
   ],
   "source": [
    "data_x = np.hstack((np.ones_like(data_x), data_x))\n",
    "data_x"
   ]
  },
  {
   "cell_type": "code",
   "execution_count": 18,
   "id": "1899e2a3",
   "metadata": {
    "ExecuteTime": {
     "end_time": "2021-06-18T05:53:28.054753Z",
     "start_time": "2021-06-18T05:53:28.038312Z"
    },
    "scrolled": true
   },
   "outputs": [
    {
     "name": "stdout",
     "output_type": "stream",
     "text": [
      "[56 34 87 24 27 92 67 43 65 69 12 59 47 62 72 40 44 80 46 29 77  0 52 84\n",
      " 58 93 88 33 19 61 90 51 49 13 39 36 50 16 22 63 66 25 57 20 97 91 76 11\n",
      " 82 53 15 81 73 17 48 32 60 10 21 42  4 96 78 70 79 68  9 74  7  6 94 30\n",
      "  1 37 86 95 71 18 38 54  2 85 23  3 55 89 35 75 98 83 41 26  5 45 31 99\n",
      " 14  8 28 64]\n",
      "(20, 2) 160 20 80\n",
      "[[ 1.          0.13131313]\n",
      " [ 1.         -0.31313131]\n",
      " [ 1.          0.75757576]\n",
      " [ 1.         -0.51515152]\n",
      " [ 1.         -0.45454545]\n",
      " [ 1.          0.85858586]\n",
      " [ 1.          0.35353535]\n",
      " [ 1.         -0.13131313]\n",
      " [ 1.          0.31313131]\n",
      " [ 1.          0.39393939]\n",
      " [ 1.         -0.75757576]\n",
      " [ 1.          0.19191919]\n",
      " [ 1.         -0.05050505]\n",
      " [ 1.          0.25252525]\n",
      " [ 1.          0.45454545]\n",
      " [ 1.         -0.19191919]\n",
      " [ 1.         -0.11111111]\n",
      " [ 1.          0.61616162]\n",
      " [ 1.         -0.07070707]\n",
      " [ 1.         -0.41414141]]\n"
     ]
    }
   ],
   "source": [
    "order = np.random.permutation(len(data_x))\n",
    "portion = 20\n",
    "test_x = data_x[order[:portion]]\n",
    "test_y = data_y[order[:portion]]\n",
    "train_x = data_x[order[portion:]]\n",
    "train_y = data_y[order[portion:]]\n",
    "print(order)\n",
    "print (test_x.shape, train_x.size, test_y.size, train_y.size)\n",
    "print (test_x)"
   ]
  },
  {
   "cell_type": "code",
   "execution_count": 19,
   "id": "a7e9c017",
   "metadata": {
    "ExecuteTime": {
     "end_time": "2021-06-18T05:53:33.158458Z",
     "start_time": "2021-06-18T05:53:32.958257Z"
    }
   },
   "outputs": [
    {
     "data": {
      "image/png": "[encoded data removed]",
      "text/plain": [
       "<Figure size 432x288 with 1 Axes>"
      ]
     },
     "metadata": {
      "needs_background": "light"
     },
     "output_type": "display_data"
    }
   ],
   "source": [
    "plt.scatter(train_x[:,1], train_y, c='b', label='Data')\n",
    "plt.show()"
   ]
  },
  {
   "cell_type": "code",
   "execution_count": 25,
   "id": "844d97ba",
   "metadata": {
    "ExecuteTime": {
     "end_time": "2021-06-18T05:54:13.443222Z",
     "start_time": "2021-06-18T05:54:13.436030Z"
    }
   },
   "outputs": [],
   "source": [
    "def get_gradient(w, x, y):\n",
    "    y_estimate = (np.power(x,2).dot(w)).flatten() #hypothesis\n",
    "    error = (y.flatten() - y_estimate) \n",
    "    mse = (1.0/len(x))*np.sum(np.power(error,2)) # mse\n",
    "    gradient = -(1.0/len(x)) * error.dot(np.power(x,2))         # gradient\n",
    "    return gradient, mse"
   ]
  },
  {
   "cell_type": "code",
   "execution_count": 26,
   "id": "8f25d18e",
   "metadata": {
    "ExecuteTime": {
     "end_time": "2021-06-18T05:54:16.252520Z",
     "start_time": "2021-06-18T05:54:16.123780Z"
    }
   },
   "outputs": [
    {
     "name": "stdout",
     "output_type": "stream",
     "text": [
      "Intial values of Weights:\n",
      "-0.034702101230658505 2.2332708137448996\n",
      "Iteration: 10 - Error: 8.3515\n",
      "Updated Weights : 1.095098 , 3.053418\n",
      "Iteration: 20 - Error: 6.8643\n",
      "Updated Weights : 1.947217 , 3.152029\n",
      "Iteration: 30 - Error: 5.8864\n",
      "Updated Weights : 2.630789 , 3.001803\n",
      "Iteration: 40 - Error: 5.0846\n",
      "Updated Weights : 3.229770 , 2.793263\n",
      "Iteration: 50 - Error: 4.4098\n",
      "Updated Weights : 3.771602 , 2.581009\n",
      "Iteration: 60 - Error: 3.8403\n",
      "Updated Weights : 4.266949 , 2.379943\n",
      "Iteration: 70 - Error: 3.3595\n",
      "Updated Weights : 4.721349 , 2.193433\n",
      "Iteration: 80 - Error: 2.9536\n",
      "Updated Weights : 5.138642 , 2.021547\n",
      "Iteration: 90 - Error: 2.6110\n",
      "Updated Weights : 5.521992 , 1.863464\n",
      "Iteration: 100 - Error: 2.3217\n",
      "Updated Weights : 5.874200 , 1.718172\n",
      "Iteration: 110 - Error: 2.0775\n",
      "Updated Weights : 6.197807 , 1.584664\n",
      "Iteration: 120 - Error: 1.8714\n",
      "Updated Weights : 6.495139 , 1.461990\n",
      "Iteration: 130 - Error: 1.6973\n",
      "Updated Weights : 6.768330 , 1.349276\n",
      "Iteration: 140 - Error: 1.5504\n",
      "Updated Weights : 7.019340 , 1.245713\n",
      "Iteration: 150 - Error: 1.4263\n",
      "Updated Weights : 7.249971 , 1.150557\n",
      "Iteration: 160 - Error: 1.3216\n",
      "Updated Weights : 7.461877 , 1.063128\n",
      "Iteration: 170 - Error: 1.2332\n",
      "Updated Weights : 7.656579 , 0.982797\n",
      "Iteration: 180 - Error: 1.1586\n",
      "Updated Weights : 7.835472 , 0.908988\n",
      "Iteration: 190 - Error: 1.0956\n",
      "Updated Weights : 7.999841 , 0.841171\n",
      "Iteration: 200 - Error: 1.0424\n",
      "Updated Weights : 8.150866 , 0.778860\n",
      "Iteration: 210 - Error: 0.9975\n",
      "Updated Weights : 8.289628 , 0.721609\n",
      "Iteration: 220 - Error: 0.9596\n",
      "Updated Weights : 8.417124 , 0.669005\n",
      "Iteration: 230 - Error: 0.9276\n",
      "Updated Weights : 8.534269 , 0.620673\n",
      "Iteration: 240 - Error: 0.9006\n",
      "Updated Weights : 8.641903 , 0.576265\n",
      "Iteration: 250 - Error: 0.8778\n",
      "Updated Weights : 8.740799 , 0.535462\n",
      "Iteration: 260 - Error: 0.8585\n",
      "Updated Weights : 8.831665 , 0.497972\n",
      "Iteration: 270 - Error: 0.8423\n",
      "Updated Weights : 8.915153 , 0.463525\n",
      "Iteration: 280 - Error: 0.8285\n",
      "Updated Weights : 8.991863 , 0.431876\n",
      "Iteration: 290 - Error: 0.8170\n",
      "Updated Weights : 9.062345 , 0.402796\n",
      "Iteration: 300 - Error: 0.8072\n",
      "Updated Weights : 9.127105 , 0.376077\n",
      "Iteration: 310 - Error: 0.7989\n",
      "Updated Weights : 9.186607 , 0.351527\n",
      "Iteration: 320 - Error: 0.7920\n",
      "Updated Weights : 9.241277 , 0.328971\n",
      "Iteration: 330 - Error: 0.7861\n",
      "Updated Weights : 9.291509 , 0.308246\n",
      "Iteration: 340 - Error: 0.7811\n",
      "Updated Weights : 9.337663 , 0.289203\n",
      "Iteration: 350 - Error: 0.7769\n",
      "Updated Weights : 9.380070 , 0.271707\n",
      "Iteration: 360 - Error: 0.7734\n",
      "Updated Weights : 9.419033 , 0.255631\n",
      "Iteration: 370 - Error: 0.7704\n",
      "Updated Weights : 9.454833 , 0.240860\n",
      "Iteration: 380 - Error: 0.7679\n",
      "Updated Weights : 9.487727 , 0.227289\n",
      "Iteration: 390 - Error: 0.7657\n",
      "Updated Weights : 9.517950 , 0.214819\n",
      "Iteration: 400 - Error: 0.7639\n",
      "Updated Weights : 9.545719 , 0.203362\n",
      "Iteration: 410 - Error: 0.7624\n",
      "Updated Weights : 9.571233 , 0.192835\n",
      "Iteration: 420 - Error: 0.7611\n",
      "Updated Weights : 9.594677 , 0.183163\n",
      "Iteration: 430 - Error: 0.7600\n",
      "Updated Weights : 9.616216 , 0.174276\n",
      "Iteration: 440 - Error: 0.7591\n",
      "Updated Weights : 9.636007 , 0.166111\n",
      "Iteration: 450 - Error: 0.7584\n",
      "Updated Weights : 9.654191 , 0.158608\n",
      "Iteration: 460 - Error: 0.7577\n",
      "Updated Weights : 9.670899 , 0.151715\n",
      "Iteration: 470 - Error: 0.7572\n",
      "Updated Weights : 9.686250 , 0.145381\n",
      "Iteration: 480 - Error: 0.7567\n",
      "Updated Weights : 9.700355 , 0.139562\n",
      "Iteration: 490 - Error: 0.7563\n",
      "Updated Weights : 9.713314 , 0.134215\n",
      "Iteration: 500 - Error: 0.7560\n",
      "Updated Weights : 9.725222 , 0.129302\n",
      "Iteration: 510 - Error: 0.7557\n",
      "Updated Weights : 9.736163 , 0.124788\n",
      "Iteration: 520 - Error: 0.7555\n",
      "Updated Weights : 9.746215 , 0.120640\n",
      "Iteration: 530 - Error: 0.7553\n",
      "Updated Weights : 9.755451 , 0.116829\n",
      "Iteration: 540 - Error: 0.7551\n",
      "Updated Weights : 9.763938 , 0.113328\n",
      "Iteration: 550 - Error: 0.7550\n",
      "Updated Weights : 9.771735 , 0.110111\n",
      "Converged\n",
      "Final Weights : 9.776106 , 0.108307\n",
      "Test Cost = 0.5741974831474823\n"
     ]
    }
   ],
   "source": [
    "w = np.random.randn(2) # Random Intialization\n",
    "alpha = 0.1 # learning rate\n",
    "tolerance = 1e-3 # param for stopping the loop\n",
    "print(\"Intial values of Weights:\")\n",
    "print(w[1], w[0])\n",
    "# Perform Gradient Descent\n",
    "iterations = 1\n",
    "while True:\n",
    "    gradient, error = get_gradient(w, train_x, train_y)\n",
    "    new_w = w - alpha * gradient\n",
    "#     print(gradient)\n",
    "    \n",
    "    # Stopping Condition\n",
    "    if np.sum(abs(new_w - w)) < tolerance:\n",
    "        print (\"Converged\")\n",
    "        break\n",
    "    \n",
    "    # Print error every 10 iterations\n",
    "    if iterations % 10 == 0:\n",
    "        print (\"Iteration: %d - Error: %.4f\" %(iterations, error))\n",
    "        print (\"Updated Weights : {:f} , {:f}\".format(w[1], w[0]))\n",
    "    iterations += 1\n",
    "    w = new_w\n",
    "\n",
    "print (\"Final Weights : {:f} , {:f}\".format(w[1], w[0]))\n",
    "print (\"Test Cost =\", get_gradient(w, test_x, test_y)[1])"
   ]
  },
  {
   "cell_type": "code",
   "execution_count": 27,
   "id": "fe414090",
   "metadata": {
    "ExecuteTime": {
     "end_time": "2021-06-18T05:54:20.666514Z",
     "start_time": "2021-06-18T05:54:20.659502Z"
    }
   },
   "outputs": [
    {
     "name": "stdout",
     "output_type": "stream",
     "text": [
      "Final eqn / hypothesis looks like:\n",
      "y = 9.776106.x^2 + 0.108307\n"
     ]
    }
   ],
   "source": [
    "print(\"Final eqn / hypothesis looks like:\")\n",
    "print('y = {:f}.x^2 + {:f}'.format(w[1], w[0]))"
   ]
  },
  {
   "cell_type": "code",
   "execution_count": 28,
   "id": "a5159a2b",
   "metadata": {
    "ExecuteTime": {
     "end_time": "2021-06-18T05:54:22.470878Z",
     "start_time": "2021-06-18T05:54:22.204231Z"
    }
   },
   "outputs": [
    {
     "data": {
      "image/png": "[encoded data removed]",
      "text/plain": [
       "<Figure size 432x288 with 1 Axes>"
      ]
     },
     "metadata": {
      "needs_background": "light"
     },
     "output_type": "display_data"
    }
   ],
   "source": [
    "plt.plot(data_x[:,1], (data_x**2).dot(w), c='g', label='Model')\n",
    "plt.scatter(train_x[:,1], train_y, c='b', label='Train Set')\n",
    "plt.scatter(test_x[:,1], test_y, c='r', label='Test Set')\n",
    "plt.grid()\n",
    "plt.legend(loc='best')\n",
    "plt.xlabel('X')\n",
    "plt.ylabel('Y')\n",
    "plt.show()"
   ]
  },
  {
   "cell_type": "code",
   "execution_count": 29,
   "id": "dda0869b",
   "metadata": {
    "ExecuteTime": {
     "end_time": "2021-06-18T06:05:05.801628Z",
     "start_time": "2021-06-18T06:05:05.794281Z"
    }
   },
   "outputs": [
    {
     "data": {
      "text/plain": [
       "array([0.10830745, 9.77610629])"
      ]
     },
     "execution_count": 29,
     "metadata": {},
     "output_type": "execute_result"
    }
   ],
   "source": [
    "w # trained model contains values of weights/parameters"
   ]
  },
  {
   "cell_type": "code",
   "execution_count": null,
   "id": "3eb0d56c",
   "metadata": {},
   "outputs": [],
   "source": []
  }
 ],
 "metadata": {
  "kernelspec": {
   "display_name": "Python 3",
   "language": "python",
   "name": "python3"
  },
  "language_info": {
   "codemirror_mode": {
    "name": "ipython",
    "version": 3
   },
   "file_extension": ".py",
   "mimetype": "text/x-python",
   "name": "python",
   "nbconvert_exporter": "python",
   "pygments_lexer": "ipython3",
   "version": "3.8.3"
  },
  "latex_envs": {
   "LaTeX_envs_menu_present": true,
   "autoclose": false,
   "autocomplete": true,
   "bibliofile": "biblio.bib",
   "cite_by": "apalike",
   "current_citInitial": 1,
   "eqLabelWithNumbers": true,
   "eqNumInitial": 1,
   "hotkeys": {
    "equation": "Ctrl-E",
    "itemize": "Ctrl-I"
   },
   "labels_anchors": false,
   "latex_user_defs": false,
   "report_style_numbering": false,
   "user_envs_cfg": false
  },
  "varInspector": {
   "cols": {
    "lenName": 16,
    "lenType": 16,
    "lenVar": 40
   },
   "kernels_config": {
    "python": {
     "delete_cmd_postfix": "",
     "delete_cmd_prefix": "del ",
     "library": "var_list.py",
     "varRefreshCmd": "print(var_dic_list())"
    },
    "r": {
     "delete_cmd_postfix": ") ",
     "delete_cmd_prefix": "rm(",
     "library": "var_list.r",
     "varRefreshCmd": "cat(var_dic_list()) "
    }
   },
   "types_to_exclude": [
    "module",
    "function",
    "builtin_function_or_method",
    "instance",
    "_Feature"
   ],
   "window_display": false
  }
 },
 "nbformat": 4,
 "nbformat_minor": 5
}
