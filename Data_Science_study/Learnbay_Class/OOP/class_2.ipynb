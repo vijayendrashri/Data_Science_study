{
 "cells": [
  {
   "cell_type": "code",
   "execution_count": 1,
   "id": "a7636c24",
   "metadata": {
    "ExecuteTime": {
     "end_time": "2021-07-05T11:11:20.676358Z",
     "start_time": "2021-07-05T11:11:20.669172Z"
    }
   },
   "outputs": [],
   "source": [
    "class Employee:\n",
    "    def set_emp_name(self,emp_name):\n",
    "        self.emp_name=emp_name\n",
    "    def get_emp_name(self):\n",
    "        return self.emp_name\n",
    "    \n",
    "    def set_emp_id(self,emp_id):\n",
    "        self.emp_id=emp_id\n",
    "    def get_emp_id(self):\n",
    "        return self.emp_id\n",
    "    \n",
    "    def set_emp_sal(self,emp_sal):\n",
    "        self.emp_sal=emp_sal\n",
    "    def get_emp_sal(self):\n",
    "        return self.emp_sal\n",
    "    \n",
    "    \n",
    "class Manager(Employee):\n",
    "    def set_emp_designation(self,emp_designation):\n",
    "        self.emp_designation=emp_designation\n",
    "    def get_emp_name(self):\n",
    "        return self.emp_designation\n",
    "    \n",
    "    "
   ]
  },
  {
   "cell_type": "code",
   "execution_count": 2,
   "id": "f596a40d",
   "metadata": {
    "ExecuteTime": {
     "end_time": "2021-07-05T11:11:20.845839Z",
     "start_time": "2021-07-05T11:11:20.678857Z"
    }
   },
   "outputs": [],
   "source": [
    "m1 = Manager()\n",
    "m1.set_emp_id(101)\n",
    "m1.set_emp_sal(1000)"
   ]
  },
  {
   "cell_type": "code",
   "execution_count": 3,
   "id": "9736f0c9",
   "metadata": {
    "ExecuteTime": {
     "end_time": "2021-07-05T11:11:20.925089Z",
     "start_time": "2021-07-05T11:11:20.849976Z"
    }
   },
   "outputs": [
    {
     "data": {
      "text/plain": [
       "101"
      ]
     },
     "execution_count": 3,
     "metadata": {},
     "output_type": "execute_result"
    }
   ],
   "source": [
    "m1.get_emp_id()"
   ]
  },
  {
   "cell_type": "code",
   "execution_count": 4,
   "id": "a742056f",
   "metadata": {
    "ExecuteTime": {
     "end_time": "2021-07-05T11:11:20.996890Z",
     "start_time": "2021-07-05T11:11:20.928750Z"
    }
   },
   "outputs": [
    {
     "data": {
      "text/plain": [
       "100"
      ]
     },
     "execution_count": 4,
     "metadata": {},
     "output_type": "execute_result"
    }
   ],
   "source": [
    "class Employee:\n",
    "    def __init__(self,ename,eid,esal):\n",
    "        self.ename = ename\n",
    "        self.eid = eid\n",
    "        self.esal = esal\n",
    "        \n",
    "class Manager(Employee):\n",
    "    pass\n",
    "\n",
    "m1 = Manager('Rahul',100,22222222)\n",
    "m1.eid"
   ]
  },
  {
   "cell_type": "code",
   "execution_count": 5,
   "id": "19dffb10",
   "metadata": {
    "ExecuteTime": {
     "end_time": "2021-07-05T11:11:21.068285Z",
     "start_time": "2021-07-05T11:11:21.000116Z"
    }
   },
   "outputs": [],
   "source": [
    "class Manager(Employee):\n",
    "    def __init__(self,ename,eid,esal,edesc):\n",
    "        super().__init__(ename,eid,esal)\n",
    "        self.edesc = edesc"
   ]
  },
  {
   "cell_type": "code",
   "execution_count": 6,
   "id": "a105fb6a",
   "metadata": {
    "ExecuteTime": {
     "end_time": "2021-07-05T11:11:21.142507Z",
     "start_time": "2021-07-05T11:11:21.072043Z"
    }
   },
   "outputs": [
    {
     "name": "stdout",
     "output_type": "stream",
     "text": [
      "Rah\n",
      "10\n"
     ]
    }
   ],
   "source": [
    "m1 = Manager('Rah',10,1111,'Tech')\n",
    "print(m1.ename)\n",
    "print(m1.eid)"
   ]
  },
  {
   "cell_type": "code",
   "execution_count": 7,
   "id": "cf57e2ac",
   "metadata": {
    "ExecuteTime": {
     "end_time": "2021-07-05T11:11:21.218540Z",
     "start_time": "2021-07-05T11:11:21.149991Z"
    }
   },
   "outputs": [
    {
     "name": "stdout",
     "output_type": "stream",
     "text": [
      "From A\n",
      "From B\n",
      "From C\n"
     ]
    }
   ],
   "source": [
    "class A:\n",
    "    def __init__(self):\n",
    "        print('From A')\n",
    "class B(A):\n",
    "    def __init__(self):\n",
    "        super().__init__()\n",
    "        print('From B')\n",
    "class C(B):\n",
    "    def __init__(self):\n",
    "        super().__init__()\n",
    "        print('From C')\n",
    "\n",
    "c =C()"
   ]
  },
  {
   "cell_type": "code",
   "execution_count": 8,
   "id": "f3ba06cd",
   "metadata": {
    "ExecuteTime": {
     "end_time": "2021-07-05T11:11:21.296535Z",
     "start_time": "2021-07-05T11:11:21.223346Z"
    }
   },
   "outputs": [
    {
     "name": "stdout",
     "output_type": "stream",
     "text": [
      "constructor in Class A\n",
      "constructor in Class C\n"
     ]
    }
   ],
   "source": [
    "class A:\n",
    "    def __init__(self): \n",
    "        print(\"constructor in Class A\")\n",
    "\n",
    "class B:\n",
    "    def __init__(self):\n",
    "        print(\"constructor in Class B\")\n",
    "\n",
    "class C(A, B):\n",
    "    def __init__(self):\n",
    "        super().__init__()\n",
    "        print(\"constructor in Class C\")\n",
    "c1 = C()"
   ]
  },
  {
   "cell_type": "code",
   "execution_count": 9,
   "id": "638b31f5",
   "metadata": {
    "ExecuteTime": {
     "end_time": "2021-07-05T11:11:21.381276Z",
     "start_time": "2021-07-05T11:11:21.298588Z"
    }
   },
   "outputs": [],
   "source": [
    "class A:\n",
    "    def __init__(self): \n",
    "        print(\"constructor in Class A\")\n",
    "        super().__init__()\n",
    "\n",
    "class B:\n",
    "    def __init__(self):\n",
    "        print(\"constructor in Class B\")\n",
    "        super().__init__()\n",
    "\n",
    "class C:\n",
    "    def __init__(self):\n",
    "        print(\"constructor in Class C\")\n",
    "        super().__init__()\n",
    "\n",
    "class D(A,B):\n",
    "    def __init__(self):\n",
    "        print(\"constructor in Class D\")\n",
    "        super().__init__()\n",
    "class E(B,C):\n",
    "    def __init__(self):\n",
    "        print(\"constructor in Class E\")\n",
    "        super().__init__()\n",
    "class F(D,E,C):\n",
    "    def __init__(self):\n",
    "        print(\"constructor in Class F\")\n",
    "        super().__init__()\n"
   ]
  },
  {
   "cell_type": "code",
   "execution_count": 10,
   "id": "92c152b9",
   "metadata": {
    "ExecuteTime": {
     "end_time": "2021-07-05T11:11:21.502877Z",
     "start_time": "2021-07-05T11:11:21.384758Z"
    }
   },
   "outputs": [
    {
     "name": "stdout",
     "output_type": "stream",
     "text": [
      "constructor in Class F\n",
      "constructor in Class D\n",
      "constructor in Class A\n",
      "constructor in Class E\n",
      "constructor in Class B\n",
      "constructor in Class C\n"
     ]
    }
   ],
   "source": [
    "f = F()"
   ]
  },
  {
   "cell_type": "code",
   "execution_count": 13,
   "id": "7d3c1b18",
   "metadata": {
    "ExecuteTime": {
     "end_time": "2021-07-05T11:12:06.826645Z",
     "start_time": "2021-07-05T11:12:06.820147Z"
    }
   },
   "outputs": [
    {
     "data": {
      "text/plain": [
       "[__main__.F,\n",
       " __main__.D,\n",
       " __main__.A,\n",
       " __main__.E,\n",
       " __main__.B,\n",
       " __main__.C,\n",
       " object]"
      ]
     },
     "execution_count": 13,
     "metadata": {},
     "output_type": "execute_result"
    }
   ],
   "source": [
    "F.mro()"
   ]
  },
  {
   "cell_type": "code",
   "execution_count": null,
   "id": "d8bfc589",
   "metadata": {},
   "outputs": [],
   "source": []
  }
 ],
 "metadata": {
  "kernelspec": {
   "display_name": "Python 3",
   "language": "python",
   "name": "python3"
  },
  "language_info": {
   "codemirror_mode": {
    "name": "ipython",
    "version": 3
   },
   "file_extension": ".py",
   "mimetype": "text/x-python",
   "name": "python",
   "nbconvert_exporter": "python",
   "pygments_lexer": "ipython3",
   "version": "3.8.3"
  },
  "latex_envs": {
   "LaTeX_envs_menu_present": true,
   "autoclose": false,
   "autocomplete": true,
   "bibliofile": "biblio.bib",
   "cite_by": "apalike",
   "current_citInitial": 1,
   "eqLabelWithNumbers": true,
   "eqNumInitial": 1,
   "hotkeys": {
    "equation": "Ctrl-E",
    "itemize": "Ctrl-I"
   },
   "labels_anchors": false,
   "latex_user_defs": false,
   "report_style_numbering": false,
   "user_envs_cfg": false
  },
  "varInspector": {
   "cols": {
    "lenName": 16,
    "lenType": 16,
    "lenVar": 40
   },
   "kernels_config": {
    "python": {
     "delete_cmd_postfix": "",
     "delete_cmd_prefix": "del ",
     "library": "var_list.py",
     "varRefreshCmd": "print(var_dic_list())"
    },
    "r": {
     "delete_cmd_postfix": ") ",
     "delete_cmd_prefix": "rm(",
     "library": "var_list.r",
     "varRefreshCmd": "cat(var_dic_list()) "
    }
   },
   "types_to_exclude": [
    "module",
    "function",
    "builtin_function_or_method",
    "instance",
    "_Feature"
   ],
   "window_display": false
  }
 },
 "nbformat": 4,
 "nbformat_minor": 5
}
