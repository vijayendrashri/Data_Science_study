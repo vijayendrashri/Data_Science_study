{
 "cells": [
  {
   "cell_type": "code",
   "execution_count": 2,
   "id": "58a5c54c",
   "metadata": {
    "ExecuteTime": {
     "end_time": "2021-06-19T11:41:05.868522Z",
     "start_time": "2021-06-19T11:41:05.864471Z"
    }
   },
   "outputs": [
    {
     "name": "stdout",
     "output_type": "stream",
     "text": [
      "vijay\n"
     ]
    }
   ],
   "source": [
    "def Student():\n",
    "    print('From method')\n",
    "\n",
    "class Student:\n",
    "    '''This is new class'''\n",
    "\n",
    "a = Student\n",
    "a.name='vijay'\n",
    "print(a.name)"
   ]
  },
  {
   "cell_type": "code",
   "execution_count": null,
   "id": "e65b8eb8",
   "metadata": {},
   "outputs": [],
   "source": [
    "# There is contact list as class variable where the contact object is appended at the time of instantiation.. class contact: con_list = [] def __init__(self, con_name, con_mob, con_email): self.name = con_name self.mob = con_mob self.email = con_email con1 = contact(\"viv\", 9583904359, 'viveksagar237@gmail.com') list1 = [con1.name, con1.mob, con1.email] con1.con_list.append(list1) con2 = contact('Amlan', 9583838383, 'amlanmishra123@gmail.com') list2 = [con2.name, con2.mob, con2.email] con2.con_list.append(list2) con3 = contact('Tejas', 9369524156, 'teja321@gmail.com') list3 = [con3.name, con3.mob, con3.email] con2.con_list.append(list3) con4 = contact('Indra', 5465832578, 'tiger4321@gmail.com') list4 = [con4.name, con4.mob, con4.email] con2.con_list.append(list4) con5 = contact('Atulit', 8754587447, 'shalin654@gmail.com') list5 = [con5.name, con5.mob, con5.email] con5.con_list.append(list5) print(con1.con_list) print(contact.con_list) "
   ]
  },
  {
   "cell_type": "code",
   "execution_count": 4,
   "id": "eb70aa06",
   "metadata": {
    "ExecuteTime": {
     "end_time": "2021-06-20T09:39:20.150679Z",
     "start_time": "2021-06-20T09:39:20.118158Z"
    }
   },
   "outputs": [
    {
     "name": "stdout",
     "output_type": "stream",
     "text": [
      "54545\n",
      "bob@gmail.com\n"
     ]
    },
    {
     "data": {
      "text/plain": [
       "3"
      ]
     },
     "execution_count": 4,
     "metadata": {},
     "output_type": "execute_result"
    }
   ],
   "source": [
    "class Contact:\n",
    "    contact_list=[]\n",
    "    def __init__(self,name,mob,email):\n",
    "        self.name=name\n",
    "        self.mob=mob\n",
    "        self.email=email\n",
    "        Contact.contact_list.append(self)\n",
    "        \n",
    "    @classmethod\n",
    "    def contact_info(cls,name):\n",
    "        for i in cls.contact_list:\n",
    "            if i.name == name:\n",
    "                print(i.mob)\n",
    "                print(i.email)\n",
    "    @staticmethod\n",
    "    def my_cal(a,b):\n",
    "        return a*b\n",
    "                \n",
    "c1= Contact('Bob',54545,'bob@gmail.com')\n",
    "c2= Contact('Bob1',54545,'bob1@gmail.com')\n",
    "\n",
    "Contact.contact_info('Bob')\n",
    "Contact.my_cal(1,3)"
   ]
  },
  {
   "cell_type": "code",
   "execution_count": 9,
   "id": "0aad285a",
   "metadata": {
    "ExecuteTime": {
     "end_time": "2021-06-20T09:44:16.638853Z",
     "start_time": "2021-06-20T09:44:16.632575Z"
    }
   },
   "outputs": [
    {
     "name": "stdout",
     "output_type": "stream",
     "text": [
      "Bob\n",
      "54545\n",
      "bob@gmail.com\n",
      "\n",
      "Bob1\n",
      "54545\n",
      "bob1@gmail.com\n"
     ]
    }
   ],
   "source": [
    "class Contact:\n",
    "    contact_list=[]\n",
    "    def __init__(self,name,mob,email):\n",
    "        self.name=name\n",
    "        self.mob=mob\n",
    "        self.email=email\n",
    "        Contact.contact_list.append(self)\n",
    "        \n",
    "    def contact_details(self):\n",
    "        print(self.name)\n",
    "        print(self.mob)\n",
    "        print(self.email)\n",
    "           \n",
    "c1= Contact('Bob',54545,'bob@gmail.com')\n",
    "c2= Contact('Bob1',54545,'bob1@gmail.com')\n",
    "\n",
    "c1.contact_details()\n",
    "print()\n",
    "c2.contact_details()\n"
   ]
  },
  {
   "cell_type": "code",
   "execution_count": 17,
   "id": "ce6e9c2b",
   "metadata": {
    "ExecuteTime": {
     "end_time": "2021-06-20T12:46:04.078141Z",
     "start_time": "2021-06-20T12:46:04.075447Z"
    }
   },
   "outputs": [],
   "source": [
    "# Access Modifier : Private _abc -> Where directly access the variable"
   ]
  },
  {
   "cell_type": "code",
   "execution_count": 26,
   "id": "6d3751b3",
   "metadata": {
    "ExecuteTime": {
     "end_time": "2021-06-20T12:48:55.225664Z",
     "start_time": "2021-06-20T12:48:55.212385Z"
    }
   },
   "outputs": [
    {
     "name": "stdout",
     "output_type": "stream",
     "text": [
      "Ravi\n",
      "897987\n",
      "vjiaj@mailas\n"
     ]
    }
   ],
   "source": [
    "class Employee:\n",
    "    def set_name(self,name):\n",
    "        self.e_name=name\n",
    "    def get_name(self):\n",
    "        return self.e_name\n",
    "    \n",
    "    def set_mob(self,mob):\n",
    "        self.e_mob=mob\n",
    "    def get_mob(self):\n",
    "        return self.e_mob\n",
    "    \n",
    "    def set_email(self,email):\n",
    "        self.e_email=email\n",
    "    def get_email(self):\n",
    "        return self.e_email\n",
    "    \n",
    "\n",
    "e1 = Employee()\n",
    "e1.set_name('Ravi')\n",
    "e1.set_mob(897987)\n",
    "e1.e_email='vjiaj@mailas'\n",
    "print(e1.get_name())\n",
    "print(e1.get_mob())\n",
    "print(e1.get_email())"
   ]
  },
  {
   "cell_type": "code",
   "execution_count": 18,
   "id": "12a0b1e4",
   "metadata": {
    "ExecuteTime": {
     "end_time": "2021-06-20T12:46:23.939706Z",
     "start_time": "2021-06-20T12:46:23.935301Z"
    }
   },
   "outputs": [],
   "source": [
    "# Access Modifier : Private __abc -> cant directly access the variable"
   ]
  },
  {
   "cell_type": "code",
   "execution_count": 32,
   "id": "94a626ae",
   "metadata": {
    "ExecuteTime": {
     "end_time": "2021-06-20T12:56:33.084198Z",
     "start_time": "2021-06-20T12:56:33.071666Z"
    }
   },
   "outputs": [
    {
     "name": "stdout",
     "output_type": "stream",
     "text": [
      "Ravi\n",
      "897987\n"
     ]
    }
   ],
   "source": [
    "class Employee:\n",
    "    def set_name(self,name):\n",
    "        self.__e_name=name\n",
    "    def get_name(self):\n",
    "        return self.__e_name\n",
    "    \n",
    "    def set_mob(self,mob):\n",
    "        self.__e_mob=mob\n",
    "    def get_mob(self):\n",
    "        return self.__e_mob\n",
    "    \n",
    "    def set_email(self,email):\n",
    "        self.__e_email=email\n",
    "    def get_email(self):\n",
    "        return self.__e_email\n",
    "    \n",
    "\n",
    "e1 = Employee()\n",
    "e1.set_name('Ravi')\n",
    "e1.set_mob(897987)\n",
    "print(e1.get_name())\n",
    "print(e1.get_mob())"
   ]
  },
  {
   "cell_type": "code",
   "execution_count": 35,
   "id": "e11b9ae6",
   "metadata": {
    "ExecuteTime": {
     "end_time": "2021-06-20T12:57:24.222213Z",
     "start_time": "2021-06-20T12:57:24.216954Z"
    }
   },
   "outputs": [
    {
     "name": "stdout",
     "output_type": "stream",
     "text": [
      "Ravi\n",
      "11111111\n"
     ]
    }
   ],
   "source": [
    "print(e1._Employee__e_name)\n",
    "e1._Employee__e_mob=11111111\n",
    "print(e1._Employee__e_mob)"
   ]
  },
  {
   "cell_type": "code",
   "execution_count": 34,
   "id": "88ba6c3c",
   "metadata": {
    "ExecuteTime": {
     "end_time": "2021-06-20T12:56:36.622502Z",
     "start_time": "2021-06-20T12:56:36.616075Z"
    }
   },
   "outputs": [
    {
     "name": "stdout",
     "output_type": "stream",
     "text": [
      "['_Employee__e_mob', '_Employee__e_name', '__class__', '__delattr__', '__dict__', '__dir__', '__doc__', '__eq__', '__format__', '__ge__', '__getattribute__', '__gt__', '__hash__', '__init__', '__init_subclass__', '__le__', '__lt__', '__module__', '__ne__', '__new__', '__reduce__', '__reduce_ex__', '__repr__', '__setattr__', '__sizeof__', '__str__', '__subclasshook__', '__weakref__', 'get_email', 'get_mob', 'get_name', 'set_email', 'set_mob', 'set_name']\n"
     ]
    }
   ],
   "source": [
    "print(dir(e1))"
   ]
  },
  {
   "cell_type": "code",
   "execution_count": null,
   "id": "5c6cfc16",
   "metadata": {},
   "outputs": [],
   "source": []
  }
 ],
 "metadata": {
  "kernelspec": {
   "display_name": "Python 3",
   "language": "python",
   "name": "python3"
  },
  "language_info": {
   "codemirror_mode": {
    "name": "ipython",
    "version": 3
   },
   "file_extension": ".py",
   "mimetype": "text/x-python",
   "name": "python",
   "nbconvert_exporter": "python",
   "pygments_lexer": "ipython3",
   "version": "3.8.3"
  },
  "latex_envs": {
   "LaTeX_envs_menu_present": true,
   "autoclose": false,
   "autocomplete": true,
   "bibliofile": "biblio.bib",
   "cite_by": "apalike",
   "current_citInitial": 1,
   "eqLabelWithNumbers": true,
   "eqNumInitial": 1,
   "hotkeys": {
    "equation": "Ctrl-E",
    "itemize": "Ctrl-I"
   },
   "labels_anchors": false,
   "latex_user_defs": false,
   "report_style_numbering": false,
   "user_envs_cfg": false
  },
  "varInspector": {
   "cols": {
    "lenName": 16,
    "lenType": 16,
    "lenVar": 40
   },
   "kernels_config": {
    "python": {
     "delete_cmd_postfix": "",
     "delete_cmd_prefix": "del ",
     "library": "var_list.py",
     "varRefreshCmd": "print(var_dic_list())"
    },
    "r": {
     "delete_cmd_postfix": ") ",
     "delete_cmd_prefix": "rm(",
     "library": "var_list.r",
     "varRefreshCmd": "cat(var_dic_list()) "
    }
   },
   "types_to_exclude": [
    "module",
    "function",
    "builtin_function_or_method",
    "instance",
    "_Feature"
   ],
   "window_display": false
  }
 },
 "nbformat": 4,
 "nbformat_minor": 5
}
