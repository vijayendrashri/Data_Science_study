{
 "cells": [
  {
   "cell_type": "code",
   "execution_count": 9,
   "id": "79f55417",
   "metadata": {
    "ExecuteTime": {
     "end_time": "2021-07-05T12:50:06.046774Z",
     "start_time": "2021-07-05T12:50:06.027136Z"
    }
   },
   "outputs": [
    {
     "name": "stdout",
     "output_type": "stream",
     "text": [
      "[10, 20, 30, 1, 2, 3]\n",
      "PythonLearnbay\n",
      "(11, 22, 33, 99, 33, 22)\n"
     ]
    }
   ],
   "source": [
    "class my_lst:\n",
    "    def __init__(self,v1,v2):\n",
    "        self.v1 = v1\n",
    "        self.v2 = v2\n",
    "    \n",
    "    def add(self):\n",
    "        return self.v1+self.v2\n",
    "class my_str:\n",
    "    def __init__(self,v1,v2):\n",
    "        self.v1 = v1\n",
    "        self.v2 = v2\n",
    "    \n",
    "    def add(self):\n",
    "        return self.v1+self.v2\n",
    "class my_tpl:\n",
    "    def __init__(self,v1,v2):\n",
    "        self.v1 = v1\n",
    "        self.v2 = v2\n",
    "    \n",
    "    def tpl_add(self):\n",
    "        return self.v1+self.v2\n",
    "\n",
    "def f1(obj):\n",
    "    if hasattr(obj,'add'):\n",
    "        print(obj.add())\n",
    "    elif hasattr(obj,'tpl_add'):\n",
    "        print(obj.tpl_add())\n",
    "    \n",
    "obj_lst = [my_lst([10,20,30],[1,2,3]),my_str('Python','Learnbay'),my_tpl((11,22,33),(99,33,22))]\n",
    "for i in obj_lst:\n",
    "    f1(i)\n",
    "    "
   ]
  },
  {
   "cell_type": "code",
   "execution_count": 14,
   "id": "2e8f90cd",
   "metadata": {
    "ExecuteTime": {
     "end_time": "2021-07-05T13:07:24.930868Z",
     "start_time": "2021-07-05T13:07:24.921818Z"
    }
   },
   "outputs": [
    {
     "name": "stdout",
     "output_type": "stream",
     "text": [
      "67\n"
     ]
    }
   ],
   "source": [
    "class my_class:\n",
    "    def __init__(self,v1,v2):\n",
    "        self.v1 = v1\n",
    "        self.v2 = v2\n",
    "        self.tot= v1+v2\n",
    "    \n",
    "    def __add__(self,other):\n",
    "        return self.tot+other.tot\n",
    "\n",
    "m1=my_class(12,22)\n",
    "m2=my_class(12,21)\n",
    "print(m1+m2)"
   ]
  },
  {
   "cell_type": "code",
   "execution_count": 28,
   "id": "48b3150c",
   "metadata": {
    "ExecuteTime": {
     "end_time": "2021-07-05T13:24:08.641084Z",
     "start_time": "2021-07-05T13:24:08.628209Z"
    }
   },
   "outputs": [
    {
     "name": "stdout",
     "output_type": "stream",
     "text": [
      "m1 with 2 arg\n",
      "m1 with 2 arg\n",
      "m1 with 2 arg\n",
      "m1 with 1 arg\n"
     ]
    }
   ],
   "source": [
    "class A:\n",
    "    def m3(self, a=None, b=None):\n",
    "        if (a != 0) and (b != 0):\n",
    "            print('m1 with 2 arg')\n",
    "        elif(a != '') or (b != ''):\n",
    "            print('m1 with 1 arg')\n",
    "        else:\n",
    "            print('m1 with no arg')\n",
    "\n",
    "\n",
    "a = A()\n",
    "a.m3()\n",
    "a.m3(10)\n",
    "a.m3(10, 20)\n",
    "a.m3(0, 0)"
   ]
  },
  {
   "cell_type": "code",
   "execution_count": null,
   "id": "bb1f5745",
   "metadata": {},
   "outputs": [],
   "source": [
    "# Constructor overriding\n",
    "class A:\n",
    "    def __init__(self,a = None,b =None):\n",
    "        print('Constr')"
   ]
  }
 ],
 "metadata": {
  "kernelspec": {
   "display_name": "Python 3",
   "language": "python",
   "name": "python3"
  },
  "language_info": {
   "codemirror_mode": {
    "name": "ipython",
    "version": 3
   },
   "file_extension": ".py",
   "mimetype": "text/x-python",
   "name": "python",
   "nbconvert_exporter": "python",
   "pygments_lexer": "ipython3",
   "version": "3.8.3"
  },
  "latex_envs": {
   "LaTeX_envs_menu_present": true,
   "autoclose": false,
   "autocomplete": true,
   "bibliofile": "biblio.bib",
   "cite_by": "apalike",
   "current_citInitial": 1,
   "eqLabelWithNumbers": true,
   "eqNumInitial": 1,
   "hotkeys": {
    "equation": "Ctrl-E",
    "itemize": "Ctrl-I"
   },
   "labels_anchors": false,
   "latex_user_defs": false,
   "report_style_numbering": false,
   "user_envs_cfg": false
  },
  "varInspector": {
   "cols": {
    "lenName": 16,
    "lenType": 16,
    "lenVar": 40
   },
   "kernels_config": {
    "python": {
     "delete_cmd_postfix": "",
     "delete_cmd_prefix": "del ",
     "library": "var_list.py",
     "varRefreshCmd": "print(var_dic_list())"
    },
    "r": {
     "delete_cmd_postfix": ") ",
     "delete_cmd_prefix": "rm(",
     "library": "var_list.r",
     "varRefreshCmd": "cat(var_dic_list()) "
    }
   },
   "types_to_exclude": [
    "module",
    "function",
    "builtin_function_or_method",
    "instance",
    "_Feature"
   ],
   "window_display": false
  }
 },
 "nbformat": 4,
 "nbformat_minor": 5
}
