{
 "cells": [
  {
   "cell_type": "code",
   "execution_count": 1,
   "id": "3cb402dc",
   "metadata": {
    "ExecuteTime": {
     "end_time": "2021-07-16T12:52:44.406170Z",
     "start_time": "2021-07-16T12:52:44.399709Z"
    }
   },
   "outputs": [],
   "source": [
    "import numpy as np"
   ]
  },
  {
   "cell_type": "code",
   "execution_count": 9,
   "id": "d6b28504",
   "metadata": {
    "ExecuteTime": {
     "end_time": "2021-07-16T12:58:09.009902Z",
     "start_time": "2021-07-16T12:58:09.002180Z"
    }
   },
   "outputs": [],
   "source": [
    "y_pred = np.array([1,1,0,0,1])\n",
    "y_true = np.array([.3,.7,1,0,.5])"
   ]
  },
  {
   "cell_type": "code",
   "execution_count": 10,
   "id": "3cc3ab0e",
   "metadata": {
    "ExecuteTime": {
     "end_time": "2021-07-16T12:58:10.961764Z",
     "start_time": "2021-07-16T12:58:10.953515Z"
    }
   },
   "outputs": [],
   "source": [
    "def mae(y_true,y_pred):\n",
    "    total_error = 0\n",
    "    for yt, yp in zip(y_true,y_pred):\n",
    "        total_error += abs(yt-yp)\n",
    "    print('total error: ' ,total_error)\n",
    "    mae = total_error/len(y_true)\n",
    "    print(\"MAE \",mae)"
   ]
  },
  {
   "cell_type": "code",
   "execution_count": 11,
   "id": "5c5d2ace",
   "metadata": {
    "ExecuteTime": {
     "end_time": "2021-07-16T12:58:11.385731Z",
     "start_time": "2021-07-16T12:58:11.377490Z"
    }
   },
   "outputs": [
    {
     "name": "stdout",
     "output_type": "stream",
     "text": [
      "total error:  2.5\n",
      "MAE  0.5\n"
     ]
    }
   ],
   "source": [
    "mae(y_true,y_pred)"
   ]
  },
  {
   "cell_type": "code",
   "execution_count": 12,
   "id": "59b9f83e",
   "metadata": {
    "ExecuteTime": {
     "end_time": "2021-07-16T12:58:12.757446Z",
     "start_time": "2021-07-16T12:58:12.730298Z"
    }
   },
   "outputs": [
    {
     "data": {
      "text/plain": [
       "0.5"
      ]
     },
     "execution_count": 12,
     "metadata": {},
     "output_type": "execute_result"
    }
   ],
   "source": [
    "np.mean(np.abs(y_pred-y_true))"
   ]
  },
  {
   "cell_type": "code",
   "execution_count": 13,
   "id": "f0acf534",
   "metadata": {
    "ExecuteTime": {
     "end_time": "2021-07-16T12:58:38.137648Z",
     "start_time": "2021-07-16T12:58:38.128616Z"
    }
   },
   "outputs": [
    {
     "data": {
      "text/plain": [
       "array([-20.72326584])"
      ]
     },
     "execution_count": 13,
     "metadata": {},
     "output_type": "execute_result"
    }
   ],
   "source": [
    "np.log([0.000000001])"
   ]
  },
  {
   "cell_type": "code",
   "execution_count": 15,
   "id": "a8bafc48",
   "metadata": {
    "ExecuteTime": {
     "end_time": "2021-07-16T13:00:55.533459Z",
     "start_time": "2021-07-16T13:00:55.528797Z"
    }
   },
   "outputs": [],
   "source": [
    "epsilon = 1e-15"
   ]
  },
  {
   "cell_type": "code",
   "execution_count": 20,
   "id": "20dbd20b",
   "metadata": {
    "ExecuteTime": {
     "end_time": "2021-07-16T13:04:23.640424Z",
     "start_time": "2021-07-16T13:04:23.631659Z"
    }
   },
   "outputs": [
    {
     "data": {
      "text/plain": [
       "[1, 1, 1e-15, 1e-15, 1]"
      ]
     },
     "execution_count": 20,
     "metadata": {},
     "output_type": "execute_result"
    }
   ],
   "source": [
    "y_pred_new =[max(i,epsilon) for i in y_pred]\n",
    "y_pred_new"
   ]
  },
  {
   "cell_type": "code",
   "execution_count": 21,
   "id": "c68d54eb",
   "metadata": {
    "ExecuteTime": {
     "end_time": "2021-07-16T13:04:27.772775Z",
     "start_time": "2021-07-16T13:04:27.768320Z"
    }
   },
   "outputs": [],
   "source": [
    "y_pred_new =[min(i,1-epsilon) for i in y_pred_new]"
   ]
  },
  {
   "cell_type": "code",
   "execution_count": 26,
   "id": "5766bfae",
   "metadata": {
    "ExecuteTime": {
     "end_time": "2021-07-16T13:09:07.540326Z",
     "start_time": "2021-07-16T13:09:07.530888Z"
    }
   },
   "outputs": [
    {
     "data": {
      "text/plain": [
       "array([-9.99200722e-16, -9.99200722e-16, -3.45387764e+01, -3.45387764e+01,\n",
       "       -9.99200722e-16])"
      ]
     },
     "execution_count": 26,
     "metadata": {},
     "output_type": "execute_result"
    }
   ],
   "source": [
    "y_pred_new = np.array(y_pred_new)\n",
    "np.log(y_pred_new)"
   ]
  },
  {
   "cell_type": "code",
   "execution_count": 28,
   "id": "1a2bc21a",
   "metadata": {
    "ExecuteTime": {
     "end_time": "2021-07-16T13:09:17.762964Z",
     "start_time": "2021-07-16T13:09:17.754210Z"
    }
   },
   "outputs": [
    {
     "data": {
      "text/plain": [
       "17.2696280766844"
      ]
     },
     "execution_count": 28,
     "metadata": {},
     "output_type": "execute_result"
    }
   ],
   "source": [
    "-np.mean(y_true*np.log(y_pred_new)+(1-y_true)*np.log(1-y_pred_new))"
   ]
  },
  {
   "cell_type": "code",
   "execution_count": 29,
   "id": "552492ae",
   "metadata": {
    "ExecuteTime": {
     "end_time": "2021-07-16T13:10:40.596049Z",
     "start_time": "2021-07-16T13:10:40.589284Z"
    }
   },
   "outputs": [],
   "source": [
    "def log_loss(y_true,y_pred):\n",
    "    y_pred_new =[max(i,epsilon) for i in y_pred]\n",
    "    y_pred_new =[min(i,1-epsilon) for i in y_pred_new]\n",
    "    y_pred_new = np.array(y_pred_new)\n",
    "    return -np.mean(y_true*np.log(y_pred_new)+(1-y_true)*np.log(1-y_pred_new))"
   ]
  },
  {
   "cell_type": "code",
   "execution_count": 30,
   "id": "fd8d8f4d",
   "metadata": {
    "ExecuteTime": {
     "end_time": "2021-07-16T13:10:59.827029Z",
     "start_time": "2021-07-16T13:10:59.819864Z"
    }
   },
   "outputs": [
    {
     "data": {
      "text/plain": [
       "17.2696280766844"
      ]
     },
     "execution_count": 30,
     "metadata": {},
     "output_type": "execute_result"
    }
   ],
   "source": [
    "log_loss(y_true,y_pred)"
   ]
  },
  {
   "cell_type": "code",
   "execution_count": null,
   "id": "948f6b87",
   "metadata": {},
   "outputs": [],
   "source": []
  }
 ],
 "metadata": {
  "kernelspec": {
   "display_name": "Python 3",
   "language": "python",
   "name": "python3"
  },
  "language_info": {
   "codemirror_mode": {
    "name": "ipython",
    "version": 3
   },
   "file_extension": ".py",
   "mimetype": "text/x-python",
   "name": "python",
   "nbconvert_exporter": "python",
   "pygments_lexer": "ipython3",
   "version": "3.8.10"
  },
  "latex_envs": {
   "LaTeX_envs_menu_present": true,
   "autoclose": false,
   "autocomplete": true,
   "bibliofile": "biblio.bib",
   "cite_by": "apalike",
   "current_citInitial": 1,
   "eqLabelWithNumbers": true,
   "eqNumInitial": 1,
   "hotkeys": {
    "equation": "Ctrl-E",
    "itemize": "Ctrl-I"
   },
   "labels_anchors": false,
   "latex_user_defs": false,
   "report_style_numbering": false,
   "user_envs_cfg": false
  },
  "varInspector": {
   "cols": {
    "lenName": 16,
    "lenType": 16,
    "lenVar": 40
   },
   "kernels_config": {
    "python": {
     "delete_cmd_postfix": "",
     "delete_cmd_prefix": "del ",
     "library": "var_list.py",
     "varRefreshCmd": "print(var_dic_list())"
    },
    "r": {
     "delete_cmd_postfix": ") ",
     "delete_cmd_prefix": "rm(",
     "library": "var_list.r",
     "varRefreshCmd": "cat(var_dic_list()) "
    }
   },
   "types_to_exclude": [
    "module",
    "function",
    "builtin_function_or_method",
    "instance",
    "_Feature"
   ],
   "window_display": false
  }
 },
 "nbformat": 4,
 "nbformat_minor": 5
}
