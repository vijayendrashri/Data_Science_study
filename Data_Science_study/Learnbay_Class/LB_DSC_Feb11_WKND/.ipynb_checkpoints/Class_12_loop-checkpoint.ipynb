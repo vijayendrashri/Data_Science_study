{
 "cells": [
  {
   "cell_type": "code",
   "execution_count": 11,
   "id": "about-webcam",
   "metadata": {
    "ExecuteTime": {
     "end_time": "2021-03-02T14:23:09.854288Z",
     "start_time": "2021-03-02T14:23:09.841716Z"
    }
   },
   "outputs": [
    {
     "name": "stdout",
     "output_type": "stream",
     "text": [
      "Fizz  3\n",
      "Buzz  5\n",
      "Fizz  6\n",
      "Fizz  9\n",
      "Buzz  10\n",
      "Fizz  12\n",
      "FizzBuzz  15\n",
      "Fizz  18\n",
      "Buzz  20\n",
      "Fizz  21\n",
      "Fizz  24\n",
      "Buzz  25\n",
      "Fizz  27\n",
      "FizzBuzz  30\n",
      "Fizz  33\n",
      "Buzz  35\n",
      "Fizz  36\n",
      "Fizz  39\n",
      "Buzz  40\n",
      "Fizz  42\n",
      "FizzBuzz  45\n",
      "Fizz  48\n",
      "Buzz  50\n"
     ]
    }
   ],
   "source": [
    "for i in range(1,51):\n",
    "    if i%3==0 and i%5==0:\n",
    "        print('FizzBuzz ', i)\n",
    "    elif i%3 == 0:\n",
    "        print('Fizz ',i)\n",
    "    elif i%5 == 0:\n",
    "        print('Buzz ',i)\n",
    "    else:\n",
    "        continue"
   ]
  },
  {
   "cell_type": "code",
   "execution_count": 79,
   "id": "dimensional-artwork",
   "metadata": {
    "ExecuteTime": {
     "end_time": "2021-03-02T16:15:50.131286Z",
     "start_time": "2021-03-02T16:15:39.490639Z"
    }
   },
   "outputs": [
    {
     "name": "stdout",
     "output_type": "stream",
     "text": [
      "Enter a comma separated value('0010','0011','1010','0101','1100')\n",
      "0b1010\n",
      "0b101\n"
     ]
    }
   ],
   "source": [
    "seq = eval(input('Enter a comma separated value'))\n",
    "\n",
    "for i in seq:\n",
    "    num = eval('0b'+str(i))\n",
    "    if num%5 == 0 :\n",
    "        print(bin(num))\n",
    "    "
   ]
  },
  {
   "cell_type": "code",
   "execution_count": 25,
   "id": "instructional-september",
   "metadata": {
    "ExecuteTime": {
     "end_time": "2021-03-02T14:46:06.576260Z",
     "start_time": "2021-03-02T14:46:06.560622Z"
    }
   },
   "outputs": [
    {
     "data": {
      "text/plain": [
       "'0b1010'"
      ]
     },
     "execution_count": 25,
     "metadata": {},
     "output_type": "execute_result"
    }
   ],
   "source": [
    "'0b'+'1010'"
   ]
  },
  {
   "cell_type": "code",
   "execution_count": 34,
   "id": "elegant-starter",
   "metadata": {
    "ExecuteTime": {
     "end_time": "2021-03-02T14:53:55.507910Z",
     "start_time": "2021-03-02T14:53:55.499850Z"
    }
   },
   "outputs": [
    {
     "name": "stdout",
     "output_type": "stream",
     "text": [
      "10\n",
      "20\n",
      "30\n",
      "50\n",
      "60\n",
      "40\n",
      "10\n"
     ]
    }
   ],
   "source": [
    "lst= [10,20,30,50,60,40,10]\n",
    "i = 0\n",
    "while i < len(lst):\n",
    "    print(lst[i])\n",
    "    i+=1"
   ]
  },
  {
   "cell_type": "code",
   "execution_count": 44,
   "id": "peripheral-myrtle",
   "metadata": {
    "ExecuteTime": {
     "end_time": "2021-03-02T14:58:50.752482Z",
     "start_time": "2021-03-02T14:58:50.744758Z"
    }
   },
   "outputs": [
    {
     "name": "stdout",
     "output_type": "stream",
     "text": [
      "10\n",
      "40\n",
      "60\n",
      "50\n",
      "30\n",
      "20\n",
      "10\n"
     ]
    }
   ],
   "source": [
    "lst= [10,20,30,50,60,40,10]\n",
    "i = -1\n",
    "while i >= -len(lst):\n",
    "    print(lst[i])\n",
    "    i -=1"
   ]
  },
  {
   "cell_type": "code",
   "execution_count": 49,
   "id": "economic-electron",
   "metadata": {
    "ExecuteTime": {
     "end_time": "2021-03-02T15:03:27.657198Z",
     "start_time": "2021-03-02T15:03:27.647936Z"
    }
   },
   "outputs": [
    {
     "name": "stdout",
     "output_type": "stream",
     "text": [
      "[2, 4, 6, 8]\n",
      "[1, 3, 5, 7]\n"
     ]
    }
   ],
   "source": [
    "lst = [1,2,3,4,5,6,7,8]\n",
    "list1=[]\n",
    "list2=[]\n",
    "i=0\n",
    "while i < len(lst):\n",
    "    if lst[i]%2 ==0 :\n",
    "        list1.append(lst[i])\n",
    "    else :\n",
    "        list2.append(lst[i])\n",
    "    i += 1\n",
    "print(list1)\n",
    "print(list2)"
   ]
  },
  {
   "cell_type": "code",
   "execution_count": 70,
   "id": "ahead-collection",
   "metadata": {
    "ExecuteTime": {
     "end_time": "2021-03-02T15:23:01.259776Z",
     "start_time": "2021-03-02T15:23:01.252908Z"
    }
   },
   "outputs": [
    {
     "name": "stdout",
     "output_type": "stream",
     "text": [
      "0\n",
      "2\n",
      "6\n"
     ]
    }
   ],
   "source": [
    "lst = [10,20,10,20,30,40,10] \n",
    "ind=-1\n",
    "while True:\n",
    "    try:\n",
    "        ind = lst.index(10,ind+1)\n",
    "        print(ind)\n",
    "    except:\n",
    "        break"
   ]
  },
  {
   "cell_type": "code",
   "execution_count": null,
   "id": "supposed-shift",
   "metadata": {},
   "outputs": [],
   "source": []
  }
 ],
 "metadata": {
  "kernelspec": {
   "display_name": "Python 3",
   "language": "python",
   "name": "python3"
  },
  "language_info": {
   "codemirror_mode": {
    "name": "ipython",
    "version": 3
   },
   "file_extension": ".py",
   "mimetype": "text/x-python",
   "name": "python",
   "nbconvert_exporter": "python",
   "pygments_lexer": "ipython3",
   "version": "3.8.3"
  },
  "latex_envs": {
   "LaTeX_envs_menu_present": true,
   "autoclose": false,
   "autocomplete": true,
   "bibliofile": "biblio.bib",
   "cite_by": "apalike",
   "current_citInitial": 1,
   "eqLabelWithNumbers": true,
   "eqNumInitial": 1,
   "hotkeys": {
    "equation": "Ctrl-E",
    "itemize": "Ctrl-I"
   },
   "labels_anchors": false,
   "latex_user_defs": false,
   "report_style_numbering": false,
   "user_envs_cfg": false
  },
  "varInspector": {
   "cols": {
    "lenName": 16,
    "lenType": 16,
    "lenVar": 40
   },
   "kernels_config": {
    "python": {
     "delete_cmd_postfix": "",
     "delete_cmd_prefix": "del ",
     "library": "var_list.py",
     "varRefreshCmd": "print(var_dic_list())"
    },
    "r": {
     "delete_cmd_postfix": ") ",
     "delete_cmd_prefix": "rm(",
     "library": "var_list.r",
     "varRefreshCmd": "cat(var_dic_list()) "
    }
   },
   "types_to_exclude": [
    "module",
    "function",
    "builtin_function_or_method",
    "instance",
    "_Feature"
   ],
   "window_display": false
  }
 },
 "nbformat": 4,
 "nbformat_minor": 5
}
