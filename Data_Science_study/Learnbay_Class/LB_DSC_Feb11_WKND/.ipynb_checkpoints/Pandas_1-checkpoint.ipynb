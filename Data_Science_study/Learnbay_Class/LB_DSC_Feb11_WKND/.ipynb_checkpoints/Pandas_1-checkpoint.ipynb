{
 "cells": [
  {
   "cell_type": "code",
   "execution_count": 1,
   "id": "minus-responsibility",
   "metadata": {
    "ExecuteTime": {
     "end_time": "2021-04-01T14:25:51.726039Z",
     "start_time": "2021-04-01T14:25:51.412769Z"
    }
   },
   "outputs": [],
   "source": [
    "import pandas as pd"
   ]
  },
  {
   "cell_type": "code",
   "execution_count": 2,
   "id": "existing-sport",
   "metadata": {
    "ExecuteTime": {
     "end_time": "2021-04-01T14:25:51.732147Z",
     "start_time": "2021-04-01T14:25:51.728864Z"
    }
   },
   "outputs": [],
   "source": [
    "rivers=[\"ganga\",\"yamuna\",\"neil\",\"brazos\"]"
   ]
  },
  {
   "cell_type": "code",
   "execution_count": 3,
   "id": "prerequisite-fence",
   "metadata": {
    "ExecuteTime": {
     "end_time": "2021-04-01T14:25:51.816096Z",
     "start_time": "2021-04-01T14:25:51.734358Z"
    }
   },
   "outputs": [],
   "source": [
    "aa = pd.Series(rivers)"
   ]
  },
  {
   "cell_type": "code",
   "execution_count": 4,
   "id": "solar-schedule",
   "metadata": {
    "ExecuteTime": {
     "end_time": "2021-04-01T14:25:51.899898Z",
     "start_time": "2021-04-01T14:25:51.818875Z"
    }
   },
   "outputs": [],
   "source": [
    "newa = pd.Series(rivers,index=['a','b','c','d'])"
   ]
  },
  {
   "cell_type": "code",
   "execution_count": 5,
   "id": "practical-samba",
   "metadata": {
    "ExecuteTime": {
     "end_time": "2021-04-01T14:25:51.982050Z",
     "start_time": "2021-04-01T14:25:51.902546Z"
    }
   },
   "outputs": [],
   "source": [
    "#Array\n",
    "import numpy as np"
   ]
  },
  {
   "cell_type": "code",
   "execution_count": 6,
   "id": "loaded-decrease",
   "metadata": {
    "ExecuteTime": {
     "end_time": "2021-04-01T14:25:52.081445Z",
     "start_time": "2021-04-01T14:25:51.984110Z"
    }
   },
   "outputs": [
    {
     "data": {
      "text/plain": [
       "array([0.33603983, 0.62747488, 0.85236194, 0.9385571 , 0.59411939])"
      ]
     },
     "execution_count": 6,
     "metadata": {},
     "output_type": "execute_result"
    }
   ],
   "source": [
    "a=np.random.rand(5)\n",
    "a"
   ]
  },
  {
   "cell_type": "code",
   "execution_count": 7,
   "id": "stone-checklist",
   "metadata": {
    "ExecuteTime": {
     "end_time": "2021-04-01T14:25:52.153648Z",
     "start_time": "2021-04-01T14:25:52.084937Z"
    }
   },
   "outputs": [
    {
     "data": {
      "text/plain": [
       "0    0.336040\n",
       "1    0.627475\n",
       "2    0.852362\n",
       "3    0.938557\n",
       "4    0.594119\n",
       "dtype: float64"
      ]
     },
     "execution_count": 7,
     "metadata": {},
     "output_type": "execute_result"
    }
   ],
   "source": [
    "pd.Series(a)"
   ]
  },
  {
   "cell_type": "code",
   "execution_count": 8,
   "id": "falling-preparation",
   "metadata": {
    "ExecuteTime": {
     "end_time": "2021-04-01T14:25:52.265125Z",
     "start_time": "2021-04-01T14:25:52.156532Z"
    }
   },
   "outputs": [
    {
     "data": {
      "text/plain": [
       "arr1    0.336040\n",
       "arr1    0.627475\n",
       "arr1    0.852362\n",
       "arr1    0.938557\n",
       "arr1    0.594119\n",
       "dtype: float64"
      ]
     },
     "execution_count": 8,
     "metadata": {},
     "output_type": "execute_result"
    }
   ],
   "source": [
    "pd.Series(a,index=['arr1','arr1','arr1','arr1','arr1'])"
   ]
  },
  {
   "cell_type": "code",
   "execution_count": 9,
   "id": "metallic-graphic",
   "metadata": {
    "ExecuteTime": {
     "end_time": "2021-04-01T14:25:52.347154Z",
     "start_time": "2021-04-01T14:25:52.267673Z"
    }
   },
   "outputs": [
    {
     "data": {
      "text/plain": [
       "a    0\n",
       "b    1\n",
       "c    2\n",
       "d    3\n",
       "dtype: int64"
      ]
     },
     "execution_count": 9,
     "metadata": {},
     "output_type": "execute_result"
    }
   ],
   "source": [
    "data={'a':0,'b':1,'c':2,'d':3}\n",
    "pd.Series(data)"
   ]
  },
  {
   "cell_type": "code",
   "execution_count": 10,
   "id": "bearing-shirt",
   "metadata": {
    "ExecuteTime": {
     "end_time": "2021-04-01T14:25:52.429774Z",
     "start_time": "2021-04-01T14:25:52.349158Z"
    }
   },
   "outputs": [
    {
     "data": {
      "text/plain": [
       "a    0\n",
       "b    1\n",
       "c    2\n",
       "d    3\n",
       "dtype: int64"
      ]
     },
     "execution_count": 10,
     "metadata": {},
     "output_type": "execute_result"
    }
   ],
   "source": [
    "c=pd.Series(data,index=['a','b','c','d'])\n",
    "c"
   ]
  },
  {
   "cell_type": "markdown",
   "id": "lesser-tuesday",
   "metadata": {},
   "source": [
    "# Indexing"
   ]
  },
  {
   "cell_type": "code",
   "execution_count": 11,
   "id": "loved-patrol",
   "metadata": {
    "ExecuteTime": {
     "end_time": "2021-04-01T14:25:52.504052Z",
     "start_time": "2021-04-01T14:25:52.431807Z"
    }
   },
   "outputs": [
    {
     "data": {
      "text/plain": [
       "0     ganga\n",
       "1    yamuna\n",
       "2      neil\n",
       "3    brazos\n",
       "dtype: object"
      ]
     },
     "execution_count": 11,
     "metadata": {},
     "output_type": "execute_result"
    }
   ],
   "source": [
    "aa"
   ]
  },
  {
   "cell_type": "code",
   "execution_count": 12,
   "id": "compliant-edition",
   "metadata": {
    "ExecuteTime": {
     "end_time": "2021-04-01T14:25:52.594443Z",
     "start_time": "2021-04-01T14:25:52.507161Z"
    }
   },
   "outputs": [
    {
     "data": {
      "text/plain": [
       "'yamuna'"
      ]
     },
     "execution_count": 12,
     "metadata": {},
     "output_type": "execute_result"
    }
   ],
   "source": [
    "aa[1] #---- implicit index"
   ]
  },
  {
   "cell_type": "code",
   "execution_count": 13,
   "id": "warming-sheet",
   "metadata": {
    "ExecuteTime": {
     "end_time": "2021-04-01T14:25:52.701540Z",
     "start_time": "2021-04-01T14:25:52.597250Z"
    }
   },
   "outputs": [
    {
     "data": {
      "text/plain": [
       "0"
      ]
     },
     "execution_count": 13,
     "metadata": {},
     "output_type": "execute_result"
    }
   ],
   "source": [
    "c['a'] # ---- explicit index"
   ]
  },
  {
   "cell_type": "code",
   "execution_count": 14,
   "id": "relevant-sheffield",
   "metadata": {
    "ExecuteTime": {
     "end_time": "2021-04-01T14:25:52.796103Z",
     "start_time": "2021-04-01T14:25:52.703708Z"
    }
   },
   "outputs": [
    {
     "data": {
      "text/plain": [
       "101     ganga\n",
       "102    yamuna\n",
       "103      neil\n",
       "104    brazos\n",
       "dtype: object"
      ]
     },
     "execution_count": 14,
     "metadata": {},
     "output_type": "execute_result"
    }
   ],
   "source": [
    "cc = pd.Series(rivers,index=['101','102','103','104'])\n",
    "cc"
   ]
  },
  {
   "cell_type": "code",
   "execution_count": 15,
   "id": "material-george",
   "metadata": {
    "ExecuteTime": {
     "end_time": "2021-04-01T14:25:52.867735Z",
     "start_time": "2021-04-01T14:25:52.799074Z"
    }
   },
   "outputs": [
    {
     "name": "stdout",
     "output_type": "stream",
     "text": [
      "yamuna\n",
      "ganga\n"
     ]
    }
   ],
   "source": [
    "print(cc['102'])\n",
    "\n",
    "print(cc[0])"
   ]
  },
  {
   "cell_type": "code",
   "execution_count": 16,
   "id": "compact-fighter",
   "metadata": {
    "ExecuteTime": {
     "end_time": "2021-04-01T14:25:52.954845Z",
     "start_time": "2021-04-01T14:25:52.872313Z"
    }
   },
   "outputs": [
    {
     "data": {
      "text/plain": [
       "a     ganga\n",
       "b    yamuna\n",
       "c      neil\n",
       "dtype: object"
      ]
     },
     "execution_count": 16,
     "metadata": {},
     "output_type": "execute_result"
    }
   ],
   "source": [
    "newa[:'c']"
   ]
  },
  {
   "cell_type": "code",
   "execution_count": 17,
   "id": "decimal-depression",
   "metadata": {
    "ExecuteTime": {
     "end_time": "2021-04-01T14:25:53.036636Z",
     "start_time": "2021-04-01T14:25:52.957404Z"
    }
   },
   "outputs": [
    {
     "data": {
      "text/plain": [
       "d    brazos\n",
       "c      neil\n",
       "b    yamuna\n",
       "a     ganga\n",
       "dtype: object"
      ]
     },
     "execution_count": 17,
     "metadata": {},
     "output_type": "execute_result"
    }
   ],
   "source": [
    "newa[::-1]"
   ]
  },
  {
   "cell_type": "code",
   "execution_count": 18,
   "id": "maritime-damage",
   "metadata": {
    "ExecuteTime": {
     "end_time": "2021-04-01T14:25:53.116760Z",
     "start_time": "2021-04-01T14:25:53.039576Z"
    }
   },
   "outputs": [],
   "source": [
    "brics_country=['China', 'India', 'Brazil','Russia', 'South Africa'] #----index\n",
    "brics_currecny=['Renminbi','Rupee','Real','Ruble','Rand']  #------value"
   ]
  },
  {
   "cell_type": "code",
   "execution_count": 19,
   "id": "plastic-reunion",
   "metadata": {
    "ExecuteTime": {
     "end_time": "2021-04-01T14:25:53.204344Z",
     "start_time": "2021-04-01T14:25:53.119035Z"
    }
   },
   "outputs": [
    {
     "data": {
      "text/plain": [
       "China           Renminbi\n",
       "India              Rupee\n",
       "Brazil              Real\n",
       "Russia             Ruble\n",
       "South Africa        Rand\n",
       "dtype: object"
      ]
     },
     "execution_count": 19,
     "metadata": {},
     "output_type": "execute_result"
    }
   ],
   "source": [
    "country_curr = pd.Series(brics_currecny,index=brics_country)\n",
    "country_curr"
   ]
  },
  {
   "cell_type": "code",
   "execution_count": 20,
   "id": "friendly-length",
   "metadata": {
    "ExecuteTime": {
     "end_time": "2021-04-01T14:25:53.294775Z",
     "start_time": "2021-04-01T14:25:53.206555Z"
    }
   },
   "outputs": [
    {
     "data": {
      "text/plain": [
       "array(['Renminbi', 'Rupee', 'Real', 'Ruble', 'Rand'], dtype=object)"
      ]
     },
     "execution_count": 20,
     "metadata": {},
     "output_type": "execute_result"
    }
   ],
   "source": [
    "country_curr.values"
   ]
  },
  {
   "cell_type": "code",
   "execution_count": 21,
   "id": "varied-lloyd",
   "metadata": {
    "ExecuteTime": {
     "end_time": "2021-04-01T14:25:53.409061Z",
     "start_time": "2021-04-01T14:25:53.297191Z"
    }
   },
   "outputs": [
    {
     "data": {
      "text/plain": [
       "Index(['China', 'India', 'Brazil', 'Russia', 'South Africa'], dtype='object')"
      ]
     },
     "execution_count": 21,
     "metadata": {},
     "output_type": "execute_result"
    }
   ],
   "source": [
    "country_curr.index"
   ]
  },
  {
   "cell_type": "markdown",
   "id": "increased-california",
   "metadata": {},
   "source": [
    "# Dataframe"
   ]
  },
  {
   "cell_type": "code",
   "execution_count": 22,
   "id": "adjacent-pathology",
   "metadata": {
    "ExecuteTime": {
     "end_time": "2021-04-01T14:25:53.481816Z",
     "start_time": "2021-04-01T14:25:53.419414Z"
    }
   },
   "outputs": [
    {
     "data": {
      "text/html": [
       "<div>\n",
       "<style scoped>\n",
       "    .dataframe tbody tr th:only-of-type {\n",
       "        vertical-align: middle;\n",
       "    }\n",
       "\n",
       "    .dataframe tbody tr th {\n",
       "        vertical-align: top;\n",
       "    }\n",
       "\n",
       "    .dataframe thead th {\n",
       "        text-align: right;\n",
       "    }\n",
       "</style>\n",
       "<table border=\"1\" class=\"dataframe\">\n",
       "  <thead>\n",
       "    <tr style=\"text-align: right;\">\n",
       "      <th></th>\n",
       "    </tr>\n",
       "  </thead>\n",
       "  <tbody>\n",
       "  </tbody>\n",
       "</table>\n",
       "</div>"
      ],
      "text/plain": [
       "Empty DataFrame\n",
       "Columns: []\n",
       "Index: []"
      ]
     },
     "execution_count": 22,
     "metadata": {},
     "output_type": "execute_result"
    }
   ],
   "source": [
    "empty_df=pd.DataFrame()\n",
    "empty_df"
   ]
  },
  {
   "cell_type": "code",
   "execution_count": 23,
   "id": "informative-eligibility",
   "metadata": {
    "ExecuteTime": {
     "end_time": "2021-04-01T14:25:53.691053Z",
     "start_time": "2021-04-01T14:25:53.486629Z"
    }
   },
   "outputs": [],
   "source": [
    "brics_country=['China', 'India', 'Brazil','Russia', 'South Africa'] #----index\n",
    "c_df=pd.DataFrame(brics_country)"
   ]
  },
  {
   "cell_type": "code",
   "execution_count": 24,
   "id": "green-auction",
   "metadata": {
    "ExecuteTime": {
     "end_time": "2021-04-01T14:25:53.780228Z",
     "start_time": "2021-04-01T14:25:53.695057Z"
    }
   },
   "outputs": [
    {
     "data": {
      "text/html": [
       "<div>\n",
       "<style scoped>\n",
       "    .dataframe tbody tr th:only-of-type {\n",
       "        vertical-align: middle;\n",
       "    }\n",
       "\n",
       "    .dataframe tbody tr th {\n",
       "        vertical-align: top;\n",
       "    }\n",
       "\n",
       "    .dataframe thead th {\n",
       "        text-align: right;\n",
       "    }\n",
       "</style>\n",
       "<table border=\"1\" class=\"dataframe\">\n",
       "  <thead>\n",
       "    <tr style=\"text-align: right;\">\n",
       "      <th></th>\n",
       "      <th>0</th>\n",
       "    </tr>\n",
       "  </thead>\n",
       "  <tbody>\n",
       "    <tr>\n",
       "      <th>0</th>\n",
       "      <td>China</td>\n",
       "    </tr>\n",
       "    <tr>\n",
       "      <th>1</th>\n",
       "      <td>India</td>\n",
       "    </tr>\n",
       "    <tr>\n",
       "      <th>2</th>\n",
       "      <td>Brazil</td>\n",
       "    </tr>\n",
       "    <tr>\n",
       "      <th>3</th>\n",
       "      <td>Russia</td>\n",
       "    </tr>\n",
       "    <tr>\n",
       "      <th>4</th>\n",
       "      <td>South Africa</td>\n",
       "    </tr>\n",
       "  </tbody>\n",
       "</table>\n",
       "</div>"
      ],
      "text/plain": [
       "              0\n",
       "0         China\n",
       "1         India\n",
       "2        Brazil\n",
       "3        Russia\n",
       "4  South Africa"
      ]
     },
     "execution_count": 24,
     "metadata": {},
     "output_type": "execute_result"
    }
   ],
   "source": [
    "c_df"
   ]
  },
  {
   "cell_type": "code",
   "execution_count": 25,
   "id": "potential-assessment",
   "metadata": {
    "ExecuteTime": {
     "end_time": "2021-04-01T14:25:53.842974Z",
     "start_time": "2021-04-01T14:25:53.782994Z"
    }
   },
   "outputs": [
    {
     "data": {
      "text/plain": [
       "(5, 1)"
      ]
     },
     "execution_count": 25,
     "metadata": {},
     "output_type": "execute_result"
    }
   ],
   "source": [
    "c_df.shape"
   ]
  },
  {
   "cell_type": "code",
   "execution_count": 26,
   "id": "perceived-richmond",
   "metadata": {
    "ExecuteTime": {
     "end_time": "2021-04-01T14:25:53.917878Z",
     "start_time": "2021-04-01T14:25:53.846237Z"
    }
   },
   "outputs": [
    {
     "data": {
      "text/plain": [
       "2"
      ]
     },
     "execution_count": 26,
     "metadata": {},
     "output_type": "execute_result"
    }
   ],
   "source": [
    "c_df.ndim"
   ]
  },
  {
   "cell_type": "code",
   "execution_count": 27,
   "id": "funded-extra",
   "metadata": {
    "ExecuteTime": {
     "end_time": "2021-04-01T14:25:53.999848Z",
     "start_time": "2021-04-01T14:25:53.920261Z"
    }
   },
   "outputs": [
    {
     "data": {
      "text/html": [
       "<div>\n",
       "<style scoped>\n",
       "    .dataframe tbody tr th:only-of-type {\n",
       "        vertical-align: middle;\n",
       "    }\n",
       "\n",
       "    .dataframe tbody tr th {\n",
       "        vertical-align: top;\n",
       "    }\n",
       "\n",
       "    .dataframe thead th {\n",
       "        text-align: right;\n",
       "    }\n",
       "</style>\n",
       "<table border=\"1\" class=\"dataframe\">\n",
       "  <thead>\n",
       "    <tr style=\"text-align: right;\">\n",
       "      <th></th>\n",
       "      <th>Country</th>\n",
       "    </tr>\n",
       "  </thead>\n",
       "  <tbody>\n",
       "    <tr>\n",
       "      <th>0</th>\n",
       "      <td>China</td>\n",
       "    </tr>\n",
       "    <tr>\n",
       "      <th>1</th>\n",
       "      <td>India</td>\n",
       "    </tr>\n",
       "    <tr>\n",
       "      <th>2</th>\n",
       "      <td>Brazil</td>\n",
       "    </tr>\n",
       "    <tr>\n",
       "      <th>3</th>\n",
       "      <td>Russia</td>\n",
       "    </tr>\n",
       "    <tr>\n",
       "      <th>4</th>\n",
       "      <td>South Africa</td>\n",
       "    </tr>\n",
       "  </tbody>\n",
       "</table>\n",
       "</div>"
      ],
      "text/plain": [
       "        Country\n",
       "0         China\n",
       "1         India\n",
       "2        Brazil\n",
       "3        Russia\n",
       "4  South Africa"
      ]
     },
     "execution_count": 27,
     "metadata": {},
     "output_type": "execute_result"
    }
   ],
   "source": [
    "# Pass column name\n",
    "brics_country=['China', 'India', 'Brazil','Russia', 'South Africa'] #----index\n",
    "c_df=pd.DataFrame(brics_country,columns=['Country'])\n",
    "c_df"
   ]
  },
  {
   "cell_type": "code",
   "execution_count": 28,
   "id": "bright-alexandria",
   "metadata": {
    "ExecuteTime": {
     "end_time": "2021-04-01T14:25:54.077220Z",
     "start_time": "2021-04-01T14:25:54.002016Z"
    }
   },
   "outputs": [
    {
     "data": {
      "text/plain": [
       "[('China', 'Renminbi'),\n",
       " ('India', 'Rupee'),\n",
       " ('Brazil', 'Real'),\n",
       " ('Russia', 'Ruble'),\n",
       " ('South Africa', 'Rand')]"
      ]
     },
     "execution_count": 28,
     "metadata": {},
     "output_type": "execute_result"
    }
   ],
   "source": [
    "data = list(zip(brics_country,brics_currecny))\n",
    "data"
   ]
  },
  {
   "cell_type": "code",
   "execution_count": 29,
   "id": "acquired-share",
   "metadata": {
    "ExecuteTime": {
     "end_time": "2021-04-01T14:25:54.159407Z",
     "start_time": "2021-04-01T14:25:54.079674Z"
    }
   },
   "outputs": [
    {
     "data": {
      "text/html": [
       "<div>\n",
       "<style scoped>\n",
       "    .dataframe tbody tr th:only-of-type {\n",
       "        vertical-align: middle;\n",
       "    }\n",
       "\n",
       "    .dataframe tbody tr th {\n",
       "        vertical-align: top;\n",
       "    }\n",
       "\n",
       "    .dataframe thead th {\n",
       "        text-align: right;\n",
       "    }\n",
       "</style>\n",
       "<table border=\"1\" class=\"dataframe\">\n",
       "  <thead>\n",
       "    <tr style=\"text-align: right;\">\n",
       "      <th></th>\n",
       "      <th>0</th>\n",
       "      <th>1</th>\n",
       "    </tr>\n",
       "  </thead>\n",
       "  <tbody>\n",
       "    <tr>\n",
       "      <th>0</th>\n",
       "      <td>China</td>\n",
       "      <td>Renminbi</td>\n",
       "    </tr>\n",
       "    <tr>\n",
       "      <th>1</th>\n",
       "      <td>India</td>\n",
       "      <td>Rupee</td>\n",
       "    </tr>\n",
       "    <tr>\n",
       "      <th>2</th>\n",
       "      <td>Brazil</td>\n",
       "      <td>Real</td>\n",
       "    </tr>\n",
       "    <tr>\n",
       "      <th>3</th>\n",
       "      <td>Russia</td>\n",
       "      <td>Ruble</td>\n",
       "    </tr>\n",
       "    <tr>\n",
       "      <th>4</th>\n",
       "      <td>South Africa</td>\n",
       "      <td>Rand</td>\n",
       "    </tr>\n",
       "  </tbody>\n",
       "</table>\n",
       "</div>"
      ],
      "text/plain": [
       "              0         1\n",
       "0         China  Renminbi\n",
       "1         India     Rupee\n",
       "2        Brazil      Real\n",
       "3        Russia     Ruble\n",
       "4  South Africa      Rand"
      ]
     },
     "execution_count": 29,
     "metadata": {},
     "output_type": "execute_result"
    }
   ],
   "source": [
    "new_c=pd.DataFrame(data)\n",
    "new_c"
   ]
  },
  {
   "cell_type": "code",
   "execution_count": 30,
   "id": "decreased-election",
   "metadata": {
    "ExecuteTime": {
     "end_time": "2021-04-01T14:25:54.301219Z",
     "start_time": "2021-04-01T14:25:54.161686Z"
    }
   },
   "outputs": [
    {
     "data": {
      "text/html": [
       "<div>\n",
       "<style scoped>\n",
       "    .dataframe tbody tr th:only-of-type {\n",
       "        vertical-align: middle;\n",
       "    }\n",
       "\n",
       "    .dataframe tbody tr th {\n",
       "        vertical-align: top;\n",
       "    }\n",
       "\n",
       "    .dataframe thead th {\n",
       "        text-align: right;\n",
       "    }\n",
       "</style>\n",
       "<table border=\"1\" class=\"dataframe\">\n",
       "  <thead>\n",
       "    <tr style=\"text-align: right;\">\n",
       "      <th></th>\n",
       "      <th>country</th>\n",
       "      <th>currency</th>\n",
       "    </tr>\n",
       "  </thead>\n",
       "  <tbody>\n",
       "    <tr>\n",
       "      <th>0</th>\n",
       "      <td>China</td>\n",
       "      <td>Renminbi</td>\n",
       "    </tr>\n",
       "    <tr>\n",
       "      <th>1</th>\n",
       "      <td>India</td>\n",
       "      <td>Rupee</td>\n",
       "    </tr>\n",
       "    <tr>\n",
       "      <th>2</th>\n",
       "      <td>Brazil</td>\n",
       "      <td>Real</td>\n",
       "    </tr>\n",
       "    <tr>\n",
       "      <th>3</th>\n",
       "      <td>Russia</td>\n",
       "      <td>Ruble</td>\n",
       "    </tr>\n",
       "    <tr>\n",
       "      <th>4</th>\n",
       "      <td>South Africa</td>\n",
       "      <td>Rand</td>\n",
       "    </tr>\n",
       "  </tbody>\n",
       "</table>\n",
       "</div>"
      ],
      "text/plain": [
       "        country  currency\n",
       "0         China  Renminbi\n",
       "1         India     Rupee\n",
       "2        Brazil      Real\n",
       "3        Russia     Ruble\n",
       "4  South Africa      Rand"
      ]
     },
     "execution_count": 30,
     "metadata": {},
     "output_type": "execute_result"
    }
   ],
   "source": [
    "new_c=pd.DataFrame(data,columns=['country','currency'])\n",
    "new_c"
   ]
  },
  {
   "cell_type": "code",
   "execution_count": 31,
   "id": "essential-warner",
   "metadata": {
    "ExecuteTime": {
     "end_time": "2021-04-01T14:25:54.385038Z",
     "start_time": "2021-04-01T14:25:54.303125Z"
    }
   },
   "outputs": [
    {
     "data": {
      "text/html": [
       "<div>\n",
       "<style scoped>\n",
       "    .dataframe tbody tr th:only-of-type {\n",
       "        vertical-align: middle;\n",
       "    }\n",
       "\n",
       "    .dataframe tbody tr th {\n",
       "        vertical-align: top;\n",
       "    }\n",
       "\n",
       "    .dataframe thead th {\n",
       "        text-align: right;\n",
       "    }\n",
       "</style>\n",
       "<table border=\"1\" class=\"dataframe\">\n",
       "  <thead>\n",
       "    <tr style=\"text-align: right;\">\n",
       "      <th></th>\n",
       "      <th>a</th>\n",
       "      <th>b</th>\n",
       "      <th>c</th>\n",
       "    </tr>\n",
       "  </thead>\n",
       "  <tbody>\n",
       "    <tr>\n",
       "      <th>0</th>\n",
       "      <td>2</td>\n",
       "      <td>3</td>\n",
       "      <td>5</td>\n",
       "    </tr>\n",
       "    <tr>\n",
       "      <th>1</th>\n",
       "      <td>5</td>\n",
       "      <td>4</td>\n",
       "      <td>6</td>\n",
       "    </tr>\n",
       "  </tbody>\n",
       "</table>\n",
       "</div>"
      ],
      "text/plain": [
       "   a  b  c\n",
       "0  2  3  5\n",
       "1  5  4  6"
      ]
     },
     "execution_count": 31,
     "metadata": {},
     "output_type": "execute_result"
    }
   ],
   "source": [
    "# Creating dataframe as dic\n",
    "data={'a':[2,5],'b':[3,4],'c':[5,6]}\n",
    "df = pd.DataFrame(data)\n",
    "df"
   ]
  },
  {
   "cell_type": "code",
   "execution_count": 32,
   "id": "psychological-qualification",
   "metadata": {
    "ExecuteTime": {
     "end_time": "2021-04-01T14:25:54.532739Z",
     "start_time": "2021-04-01T14:25:54.387719Z"
    }
   },
   "outputs": [
    {
     "data": {
      "text/html": [
       "<div>\n",
       "<style scoped>\n",
       "    .dataframe tbody tr th:only-of-type {\n",
       "        vertical-align: middle;\n",
       "    }\n",
       "\n",
       "    .dataframe tbody tr th {\n",
       "        vertical-align: top;\n",
       "    }\n",
       "\n",
       "    .dataframe thead th {\n",
       "        text-align: right;\n",
       "    }\n",
       "</style>\n",
       "<table border=\"1\" class=\"dataframe\">\n",
       "  <thead>\n",
       "    <tr style=\"text-align: right;\">\n",
       "      <th></th>\n",
       "      <th>Country (or dependency)</th>\n",
       "      <th>Population (2020)</th>\n",
       "      <th>Yearly Change</th>\n",
       "      <th>Net Change</th>\n",
       "      <th>Density (P/Km²)</th>\n",
       "      <th>Land Area (Km²)</th>\n",
       "      <th>Migrants (net)</th>\n",
       "      <th>Fert. Rate</th>\n",
       "      <th>Med. Age</th>\n",
       "      <th>Urban Pop %</th>\n",
       "      <th>World Share</th>\n",
       "    </tr>\n",
       "  </thead>\n",
       "  <tbody>\n",
       "    <tr>\n",
       "      <th>0</th>\n",
       "      <td>China</td>\n",
       "      <td>1440297825</td>\n",
       "      <td>0.39 %</td>\n",
       "      <td>5540090</td>\n",
       "      <td>153</td>\n",
       "      <td>9388211</td>\n",
       "      <td>-348399.0</td>\n",
       "      <td>1.7</td>\n",
       "      <td>38</td>\n",
       "      <td>61 %</td>\n",
       "      <td>18.47 %</td>\n",
       "    </tr>\n",
       "    <tr>\n",
       "      <th>1</th>\n",
       "      <td>India</td>\n",
       "      <td>1382345085</td>\n",
       "      <td>0.99 %</td>\n",
       "      <td>13586631</td>\n",
       "      <td>464</td>\n",
       "      <td>2973190</td>\n",
       "      <td>-532687.0</td>\n",
       "      <td>2.2</td>\n",
       "      <td>28</td>\n",
       "      <td>35 %</td>\n",
       "      <td>17.70 %</td>\n",
       "    </tr>\n",
       "    <tr>\n",
       "      <th>2</th>\n",
       "      <td>United States</td>\n",
       "      <td>331341050</td>\n",
       "      <td>0.59 %</td>\n",
       "      <td>1937734</td>\n",
       "      <td>36</td>\n",
       "      <td>9147420</td>\n",
       "      <td>954806.0</td>\n",
       "      <td>1.8</td>\n",
       "      <td>38</td>\n",
       "      <td>83 %</td>\n",
       "      <td>4.25 %</td>\n",
       "    </tr>\n",
       "    <tr>\n",
       "      <th>3</th>\n",
       "      <td>Indonesia</td>\n",
       "      <td>274021604</td>\n",
       "      <td>1.07 %</td>\n",
       "      <td>2898047</td>\n",
       "      <td>151</td>\n",
       "      <td>1811570</td>\n",
       "      <td>-98955.0</td>\n",
       "      <td>2.3</td>\n",
       "      <td>30</td>\n",
       "      <td>56 %</td>\n",
       "      <td>3.51 %</td>\n",
       "    </tr>\n",
       "    <tr>\n",
       "      <th>4</th>\n",
       "      <td>Pakistan</td>\n",
       "      <td>221612785</td>\n",
       "      <td>2.00 %</td>\n",
       "      <td>4327022</td>\n",
       "      <td>287</td>\n",
       "      <td>770880</td>\n",
       "      <td>-233379.0</td>\n",
       "      <td>3.6</td>\n",
       "      <td>23</td>\n",
       "      <td>35 %</td>\n",
       "      <td>2.83 %</td>\n",
       "    </tr>\n",
       "    <tr>\n",
       "      <th>...</th>\n",
       "      <td>...</td>\n",
       "      <td>...</td>\n",
       "      <td>...</td>\n",
       "      <td>...</td>\n",
       "      <td>...</td>\n",
       "      <td>...</td>\n",
       "      <td>...</td>\n",
       "      <td>...</td>\n",
       "      <td>...</td>\n",
       "      <td>...</td>\n",
       "      <td>...</td>\n",
       "    </tr>\n",
       "    <tr>\n",
       "      <th>230</th>\n",
       "      <td>Montserrat</td>\n",
       "      <td>4993</td>\n",
       "      <td>0.06 %</td>\n",
       "      <td>3</td>\n",
       "      <td>50</td>\n",
       "      <td>100</td>\n",
       "      <td>NaN</td>\n",
       "      <td>N.A.</td>\n",
       "      <td>N.A.</td>\n",
       "      <td>10 %</td>\n",
       "      <td>0.00 %</td>\n",
       "    </tr>\n",
       "    <tr>\n",
       "      <th>231</th>\n",
       "      <td>Falkland Islands</td>\n",
       "      <td>3497</td>\n",
       "      <td>3.05 %</td>\n",
       "      <td>103</td>\n",
       "      <td>0</td>\n",
       "      <td>12170</td>\n",
       "      <td>NaN</td>\n",
       "      <td>N.A.</td>\n",
       "      <td>N.A.</td>\n",
       "      <td>66 %</td>\n",
       "      <td>0.00 %</td>\n",
       "    </tr>\n",
       "    <tr>\n",
       "      <th>232</th>\n",
       "      <td>Niue</td>\n",
       "      <td>1628</td>\n",
       "      <td>0.68 %</td>\n",
       "      <td>11</td>\n",
       "      <td>6</td>\n",
       "      <td>260</td>\n",
       "      <td>NaN</td>\n",
       "      <td>N.A.</td>\n",
       "      <td>N.A.</td>\n",
       "      <td>46 %</td>\n",
       "      <td>0.00 %</td>\n",
       "    </tr>\n",
       "    <tr>\n",
       "      <th>233</th>\n",
       "      <td>Tokelau</td>\n",
       "      <td>1360</td>\n",
       "      <td>1.27 %</td>\n",
       "      <td>17</td>\n",
       "      <td>136</td>\n",
       "      <td>10</td>\n",
       "      <td>NaN</td>\n",
       "      <td>N.A.</td>\n",
       "      <td>N.A.</td>\n",
       "      <td>0 %</td>\n",
       "      <td>0.00 %</td>\n",
       "    </tr>\n",
       "    <tr>\n",
       "      <th>234</th>\n",
       "      <td>Holy See</td>\n",
       "      <td>801</td>\n",
       "      <td>0.25 %</td>\n",
       "      <td>2</td>\n",
       "      <td>2003</td>\n",
       "      <td>0</td>\n",
       "      <td>NaN</td>\n",
       "      <td>N.A.</td>\n",
       "      <td>N.A.</td>\n",
       "      <td>N.A.</td>\n",
       "      <td>0.00 %</td>\n",
       "    </tr>\n",
       "  </tbody>\n",
       "</table>\n",
       "<p>235 rows × 11 columns</p>\n",
       "</div>"
      ],
      "text/plain": [
       "    Country (or dependency)  Population (2020) Yearly Change  Net Change  \\\n",
       "0                     China         1440297825        0.39 %     5540090   \n",
       "1                     India         1382345085        0.99 %    13586631   \n",
       "2             United States          331341050        0.59 %     1937734   \n",
       "3                 Indonesia          274021604        1.07 %     2898047   \n",
       "4                  Pakistan          221612785        2.00 %     4327022   \n",
       "..                      ...                ...           ...         ...   \n",
       "230              Montserrat               4993        0.06 %           3   \n",
       "231        Falkland Islands               3497        3.05 %         103   \n",
       "232                    Niue               1628        0.68 %          11   \n",
       "233                 Tokelau               1360        1.27 %          17   \n",
       "234                Holy See                801        0.25 %           2   \n",
       "\n",
       "     Density (P/Km²)  Land Area (Km²)  Migrants (net) Fert. Rate Med. Age  \\\n",
       "0                153          9388211       -348399.0        1.7       38   \n",
       "1                464          2973190       -532687.0        2.2       28   \n",
       "2                 36          9147420        954806.0        1.8       38   \n",
       "3                151          1811570        -98955.0        2.3       30   \n",
       "4                287           770880       -233379.0        3.6       23   \n",
       "..               ...              ...             ...        ...      ...   \n",
       "230               50              100             NaN       N.A.     N.A.   \n",
       "231                0            12170             NaN       N.A.     N.A.   \n",
       "232                6              260             NaN       N.A.     N.A.   \n",
       "233              136               10             NaN       N.A.     N.A.   \n",
       "234             2003                0             NaN       N.A.     N.A.   \n",
       "\n",
       "    Urban Pop % World Share  \n",
       "0          61 %     18.47 %  \n",
       "1          35 %     17.70 %  \n",
       "2          83 %      4.25 %  \n",
       "3          56 %      3.51 %  \n",
       "4          35 %      2.83 %  \n",
       "..          ...         ...  \n",
       "230        10 %      0.00 %  \n",
       "231        66 %      0.00 %  \n",
       "232        46 %      0.00 %  \n",
       "233         0 %      0.00 %  \n",
       "234        N.A.      0.00 %  \n",
       "\n",
       "[235 rows x 11 columns]"
      ]
     },
     "execution_count": 32,
     "metadata": {},
     "output_type": "execute_result"
    }
   ],
   "source": [
    "#create df from file\n",
    "country_df = pd.read_csv('dataset/population_by_country_2020.csv')\n",
    "country_df"
   ]
  },
  {
   "cell_type": "code",
   "execution_count": 33,
   "id": "sorted-atlas",
   "metadata": {
    "ExecuteTime": {
     "end_time": "2021-04-01T14:25:54.928122Z",
     "start_time": "2021-04-01T14:25:54.536095Z"
    }
   },
   "outputs": [
    {
     "data": {
      "text/html": [
       "<div>\n",
       "<style scoped>\n",
       "    .dataframe tbody tr th:only-of-type {\n",
       "        vertical-align: middle;\n",
       "    }\n",
       "\n",
       "    .dataframe tbody tr th {\n",
       "        vertical-align: top;\n",
       "    }\n",
       "\n",
       "    .dataframe thead th {\n",
       "        text-align: right;\n",
       "    }\n",
       "</style>\n",
       "<table border=\"1\" class=\"dataframe\">\n",
       "  <thead>\n",
       "    <tr style=\"text-align: right;\">\n",
       "      <th></th>\n",
       "      <th>Year</th>\n",
       "      <th>Country</th>\n",
       "      <th>Winner</th>\n",
       "      <th>Runners-Up</th>\n",
       "      <th>GoalsScored</th>\n",
       "      <th>MatchesPlayed</th>\n",
       "    </tr>\n",
       "  </thead>\n",
       "  <tbody>\n",
       "    <tr>\n",
       "      <th>0</th>\n",
       "      <td>1990</td>\n",
       "      <td>Italy</td>\n",
       "      <td>Germany</td>\n",
       "      <td>Argentina</td>\n",
       "      <td>115</td>\n",
       "      <td>52</td>\n",
       "    </tr>\n",
       "    <tr>\n",
       "      <th>1</th>\n",
       "      <td>1994</td>\n",
       "      <td>USA</td>\n",
       "      <td>Brazil</td>\n",
       "      <td>Italy</td>\n",
       "      <td>141</td>\n",
       "      <td>52</td>\n",
       "    </tr>\n",
       "    <tr>\n",
       "      <th>2</th>\n",
       "      <td>1998</td>\n",
       "      <td>France</td>\n",
       "      <td>France</td>\n",
       "      <td>Brazil</td>\n",
       "      <td>171</td>\n",
       "      <td>64</td>\n",
       "    </tr>\n",
       "    <tr>\n",
       "      <th>3</th>\n",
       "      <td>2002</td>\n",
       "      <td>Japan</td>\n",
       "      <td>Brazil</td>\n",
       "      <td>Germany</td>\n",
       "      <td>161</td>\n",
       "      <td>64</td>\n",
       "    </tr>\n",
       "    <tr>\n",
       "      <th>4</th>\n",
       "      <td>2006</td>\n",
       "      <td>Germany</td>\n",
       "      <td>Italy</td>\n",
       "      <td>France</td>\n",
       "      <td>147</td>\n",
       "      <td>64</td>\n",
       "    </tr>\n",
       "    <tr>\n",
       "      <th>5</th>\n",
       "      <td>2010</td>\n",
       "      <td>South Africa</td>\n",
       "      <td>Spain</td>\n",
       "      <td>Netherlands</td>\n",
       "      <td>145</td>\n",
       "      <td>64</td>\n",
       "    </tr>\n",
       "    <tr>\n",
       "      <th>6</th>\n",
       "      <td>2014</td>\n",
       "      <td>Brazil</td>\n",
       "      <td>Germany</td>\n",
       "      <td>Argentina</td>\n",
       "      <td>171</td>\n",
       "      <td>64</td>\n",
       "    </tr>\n",
       "  </tbody>\n",
       "</table>\n",
       "</div>"
      ],
      "text/plain": [
       "   Year       Country    Winner   Runners-Up  GoalsScored  MatchesPlayed\n",
       "0  1990         Italy  Germany     Argentina          115             52\n",
       "1  1994           USA    Brazil        Italy          141             52\n",
       "2  1998        France    France       Brazil          171             64\n",
       "3  2002         Japan    Brazil      Germany          161             64\n",
       "4  2006       Germany     Italy       France          147             64\n",
       "5  2010  South Africa     Spain  Netherlands          145             64\n",
       "6  2014        Brazil   Germany    Argentina          171             64"
      ]
     },
     "execution_count": 33,
     "metadata": {},
     "output_type": "execute_result"
    }
   ],
   "source": [
    "xl_df = pd.read_excel('dataset/football_worldcup.xlsx',sheet_name=0)\n",
    "xl_df"
   ]
  },
  {
   "cell_type": "code",
   "execution_count": 34,
   "id": "opposite-morning",
   "metadata": {
    "ExecuteTime": {
     "end_time": "2021-04-01T14:25:54.935955Z",
     "start_time": "2021-04-01T14:25:54.931159Z"
    }
   },
   "outputs": [
    {
     "data": {
      "text/plain": [
       "(7, 6)"
      ]
     },
     "execution_count": 34,
     "metadata": {},
     "output_type": "execute_result"
    }
   ],
   "source": [
    "xl_df.shape"
   ]
  },
  {
   "cell_type": "code",
   "execution_count": 35,
   "id": "efficient-bones",
   "metadata": {
    "ExecuteTime": {
     "end_time": "2021-04-01T14:25:54.999664Z",
     "start_time": "2021-04-01T14:25:54.938547Z"
    }
   },
   "outputs": [],
   "source": [
    "a,b =xl_df.shape"
   ]
  },
  {
   "cell_type": "code",
   "execution_count": 36,
   "id": "trained-pattern",
   "metadata": {
    "ExecuteTime": {
     "end_time": "2021-04-01T14:25:55.079783Z",
     "start_time": "2021-04-01T14:25:55.001991Z"
    }
   },
   "outputs": [
    {
     "data": {
      "text/html": [
       "<div>\n",
       "<style scoped>\n",
       "    .dataframe tbody tr th:only-of-type {\n",
       "        vertical-align: middle;\n",
       "    }\n",
       "\n",
       "    .dataframe tbody tr th {\n",
       "        vertical-align: top;\n",
       "    }\n",
       "\n",
       "    .dataframe thead th {\n",
       "        text-align: right;\n",
       "    }\n",
       "</style>\n",
       "<table border=\"1\" class=\"dataframe\">\n",
       "  <thead>\n",
       "    <tr style=\"text-align: right;\">\n",
       "      <th></th>\n",
       "      <th>Year</th>\n",
       "      <th>Country</th>\n",
       "      <th>Winner</th>\n",
       "      <th>Runners-Up</th>\n",
       "      <th>GoalsScored</th>\n",
       "      <th>MatchesPlayed</th>\n",
       "    </tr>\n",
       "  </thead>\n",
       "  <tbody>\n",
       "    <tr>\n",
       "      <th>0</th>\n",
       "      <td>1990</td>\n",
       "      <td>Italy</td>\n",
       "      <td>Germany</td>\n",
       "      <td>Argentina</td>\n",
       "      <td>115</td>\n",
       "      <td>52</td>\n",
       "    </tr>\n",
       "    <tr>\n",
       "      <th>1</th>\n",
       "      <td>1994</td>\n",
       "      <td>USA</td>\n",
       "      <td>Brazil</td>\n",
       "      <td>Italy</td>\n",
       "      <td>141</td>\n",
       "      <td>52</td>\n",
       "    </tr>\n",
       "    <tr>\n",
       "      <th>2</th>\n",
       "      <td>1998</td>\n",
       "      <td>France</td>\n",
       "      <td>France</td>\n",
       "      <td>Brazil</td>\n",
       "      <td>171</td>\n",
       "      <td>64</td>\n",
       "    </tr>\n",
       "    <tr>\n",
       "      <th>3</th>\n",
       "      <td>2002</td>\n",
       "      <td>Japan</td>\n",
       "      <td>Brazil</td>\n",
       "      <td>Germany</td>\n",
       "      <td>161</td>\n",
       "      <td>64</td>\n",
       "    </tr>\n",
       "    <tr>\n",
       "      <th>4</th>\n",
       "      <td>2006</td>\n",
       "      <td>Germany</td>\n",
       "      <td>Italy</td>\n",
       "      <td>France</td>\n",
       "      <td>147</td>\n",
       "      <td>64</td>\n",
       "    </tr>\n",
       "  </tbody>\n",
       "</table>\n",
       "</div>"
      ],
      "text/plain": [
       "   Year  Country    Winner Runners-Up  GoalsScored  MatchesPlayed\n",
       "0  1990    Italy  Germany   Argentina          115             52\n",
       "1  1994      USA    Brazil      Italy          141             52\n",
       "2  1998   France    France     Brazil          171             64\n",
       "3  2002    Japan    Brazil    Germany          161             64\n",
       "4  2006  Germany     Italy     France          147             64"
      ]
     },
     "execution_count": 36,
     "metadata": {},
     "output_type": "execute_result"
    }
   ],
   "source": [
    "xl_df.head()"
   ]
  },
  {
   "cell_type": "code",
   "execution_count": 37,
   "id": "ranking-population",
   "metadata": {
    "ExecuteTime": {
     "end_time": "2021-04-01T14:25:55.220824Z",
     "start_time": "2021-04-01T14:25:55.083340Z"
    }
   },
   "outputs": [
    {
     "data": {
      "text/html": [
       "<div>\n",
       "<style scoped>\n",
       "    .dataframe tbody tr th:only-of-type {\n",
       "        vertical-align: middle;\n",
       "    }\n",
       "\n",
       "    .dataframe tbody tr th {\n",
       "        vertical-align: top;\n",
       "    }\n",
       "\n",
       "    .dataframe thead th {\n",
       "        text-align: right;\n",
       "    }\n",
       "</style>\n",
       "<table border=\"1\" class=\"dataframe\">\n",
       "  <thead>\n",
       "    <tr style=\"text-align: right;\">\n",
       "      <th></th>\n",
       "      <th>Year</th>\n",
       "      <th>Country</th>\n",
       "      <th>Winner</th>\n",
       "      <th>Runners-Up</th>\n",
       "      <th>GoalsScored</th>\n",
       "      <th>MatchesPlayed</th>\n",
       "    </tr>\n",
       "  </thead>\n",
       "  <tbody>\n",
       "    <tr>\n",
       "      <th>0</th>\n",
       "      <td>1990</td>\n",
       "      <td>Italy</td>\n",
       "      <td>Germany</td>\n",
       "      <td>Argentina</td>\n",
       "      <td>115</td>\n",
       "      <td>52</td>\n",
       "    </tr>\n",
       "    <tr>\n",
       "      <th>1</th>\n",
       "      <td>1994</td>\n",
       "      <td>USA</td>\n",
       "      <td>Brazil</td>\n",
       "      <td>Italy</td>\n",
       "      <td>141</td>\n",
       "      <td>52</td>\n",
       "    </tr>\n",
       "    <tr>\n",
       "      <th>2</th>\n",
       "      <td>1998</td>\n",
       "      <td>France</td>\n",
       "      <td>France</td>\n",
       "      <td>Brazil</td>\n",
       "      <td>171</td>\n",
       "      <td>64</td>\n",
       "    </tr>\n",
       "    <tr>\n",
       "      <th>3</th>\n",
       "      <td>2002</td>\n",
       "      <td>Japan</td>\n",
       "      <td>Brazil</td>\n",
       "      <td>Germany</td>\n",
       "      <td>161</td>\n",
       "      <td>64</td>\n",
       "    </tr>\n",
       "    <tr>\n",
       "      <th>4</th>\n",
       "      <td>2006</td>\n",
       "      <td>Germany</td>\n",
       "      <td>Italy</td>\n",
       "      <td>France</td>\n",
       "      <td>147</td>\n",
       "      <td>64</td>\n",
       "    </tr>\n",
       "    <tr>\n",
       "      <th>5</th>\n",
       "      <td>2010</td>\n",
       "      <td>South Africa</td>\n",
       "      <td>Spain</td>\n",
       "      <td>Netherlands</td>\n",
       "      <td>145</td>\n",
       "      <td>64</td>\n",
       "    </tr>\n",
       "    <tr>\n",
       "      <th>6</th>\n",
       "      <td>2014</td>\n",
       "      <td>Brazil</td>\n",
       "      <td>Germany</td>\n",
       "      <td>Argentina</td>\n",
       "      <td>171</td>\n",
       "      <td>64</td>\n",
       "    </tr>\n",
       "  </tbody>\n",
       "</table>\n",
       "</div>"
      ],
      "text/plain": [
       "   Year       Country    Winner   Runners-Up  GoalsScored  MatchesPlayed\n",
       "0  1990         Italy  Germany     Argentina          115             52\n",
       "1  1994           USA    Brazil        Italy          141             52\n",
       "2  1998        France    France       Brazil          171             64\n",
       "3  2002         Japan    Brazil      Germany          161             64\n",
       "4  2006       Germany     Italy       France          147             64\n",
       "5  2010  South Africa     Spain  Netherlands          145             64\n",
       "6  2014        Brazil   Germany    Argentina          171             64"
      ]
     },
     "execution_count": 37,
     "metadata": {},
     "output_type": "execute_result"
    }
   ],
   "source": [
    "xl_df.head(10)"
   ]
  },
  {
   "cell_type": "code",
   "execution_count": 38,
   "id": "finished-conjunction",
   "metadata": {
    "ExecuteTime": {
     "end_time": "2021-04-01T14:25:55.333293Z",
     "start_time": "2021-04-01T14:25:55.222854Z"
    }
   },
   "outputs": [
    {
     "data": {
      "text/html": [
       "<div>\n",
       "<style scoped>\n",
       "    .dataframe tbody tr th:only-of-type {\n",
       "        vertical-align: middle;\n",
       "    }\n",
       "\n",
       "    .dataframe tbody tr th {\n",
       "        vertical-align: top;\n",
       "    }\n",
       "\n",
       "    .dataframe thead th {\n",
       "        text-align: right;\n",
       "    }\n",
       "</style>\n",
       "<table border=\"1\" class=\"dataframe\">\n",
       "  <thead>\n",
       "    <tr style=\"text-align: right;\">\n",
       "      <th></th>\n",
       "      <th>Country (or dependency)</th>\n",
       "      <th>Population (2020)</th>\n",
       "      <th>Yearly Change</th>\n",
       "      <th>Net Change</th>\n",
       "      <th>Density (P/Km²)</th>\n",
       "      <th>Land Area (Km²)</th>\n",
       "      <th>Migrants (net)</th>\n",
       "      <th>Fert. Rate</th>\n",
       "      <th>Med. Age</th>\n",
       "      <th>Urban Pop %</th>\n",
       "      <th>World Share</th>\n",
       "    </tr>\n",
       "  </thead>\n",
       "  <tbody>\n",
       "    <tr>\n",
       "      <th>0</th>\n",
       "      <td>China</td>\n",
       "      <td>1440297825</td>\n",
       "      <td>0.39 %</td>\n",
       "      <td>5540090</td>\n",
       "      <td>153</td>\n",
       "      <td>9388211</td>\n",
       "      <td>-348399.0</td>\n",
       "      <td>1.7</td>\n",
       "      <td>38</td>\n",
       "      <td>61 %</td>\n",
       "      <td>18.47 %</td>\n",
       "    </tr>\n",
       "    <tr>\n",
       "      <th>1</th>\n",
       "      <td>India</td>\n",
       "      <td>1382345085</td>\n",
       "      <td>0.99 %</td>\n",
       "      <td>13586631</td>\n",
       "      <td>464</td>\n",
       "      <td>2973190</td>\n",
       "      <td>-532687.0</td>\n",
       "      <td>2.2</td>\n",
       "      <td>28</td>\n",
       "      <td>35 %</td>\n",
       "      <td>17.70 %</td>\n",
       "    </tr>\n",
       "    <tr>\n",
       "      <th>2</th>\n",
       "      <td>United States</td>\n",
       "      <td>331341050</td>\n",
       "      <td>0.59 %</td>\n",
       "      <td>1937734</td>\n",
       "      <td>36</td>\n",
       "      <td>9147420</td>\n",
       "      <td>954806.0</td>\n",
       "      <td>1.8</td>\n",
       "      <td>38</td>\n",
       "      <td>83 %</td>\n",
       "      <td>4.25 %</td>\n",
       "    </tr>\n",
       "    <tr>\n",
       "      <th>3</th>\n",
       "      <td>Indonesia</td>\n",
       "      <td>274021604</td>\n",
       "      <td>1.07 %</td>\n",
       "      <td>2898047</td>\n",
       "      <td>151</td>\n",
       "      <td>1811570</td>\n",
       "      <td>-98955.0</td>\n",
       "      <td>2.3</td>\n",
       "      <td>30</td>\n",
       "      <td>56 %</td>\n",
       "      <td>3.51 %</td>\n",
       "    </tr>\n",
       "    <tr>\n",
       "      <th>4</th>\n",
       "      <td>Pakistan</td>\n",
       "      <td>221612785</td>\n",
       "      <td>2.00 %</td>\n",
       "      <td>4327022</td>\n",
       "      <td>287</td>\n",
       "      <td>770880</td>\n",
       "      <td>-233379.0</td>\n",
       "      <td>3.6</td>\n",
       "      <td>23</td>\n",
       "      <td>35 %</td>\n",
       "      <td>2.83 %</td>\n",
       "    </tr>\n",
       "    <tr>\n",
       "      <th>5</th>\n",
       "      <td>Brazil</td>\n",
       "      <td>212821986</td>\n",
       "      <td>0.72 %</td>\n",
       "      <td>1509890</td>\n",
       "      <td>25</td>\n",
       "      <td>8358140</td>\n",
       "      <td>21200.0</td>\n",
       "      <td>1.7</td>\n",
       "      <td>33</td>\n",
       "      <td>88 %</td>\n",
       "      <td>2.73 %</td>\n",
       "    </tr>\n",
       "    <tr>\n",
       "      <th>6</th>\n",
       "      <td>Nigeria</td>\n",
       "      <td>206984347</td>\n",
       "      <td>2.58 %</td>\n",
       "      <td>5175990</td>\n",
       "      <td>226</td>\n",
       "      <td>910770</td>\n",
       "      <td>-60000.0</td>\n",
       "      <td>5.4</td>\n",
       "      <td>18</td>\n",
       "      <td>52 %</td>\n",
       "      <td>2.64 %</td>\n",
       "    </tr>\n",
       "    <tr>\n",
       "      <th>7</th>\n",
       "      <td>Bangladesh</td>\n",
       "      <td>164972348</td>\n",
       "      <td>1.01 %</td>\n",
       "      <td>1643222</td>\n",
       "      <td>1265</td>\n",
       "      <td>130170</td>\n",
       "      <td>-369501.0</td>\n",
       "      <td>2.1</td>\n",
       "      <td>28</td>\n",
       "      <td>39 %</td>\n",
       "      <td>2.11 %</td>\n",
       "    </tr>\n",
       "    <tr>\n",
       "      <th>8</th>\n",
       "      <td>Russia</td>\n",
       "      <td>145945524</td>\n",
       "      <td>0.04 %</td>\n",
       "      <td>62206</td>\n",
       "      <td>9</td>\n",
       "      <td>16376870</td>\n",
       "      <td>182456.0</td>\n",
       "      <td>1.8</td>\n",
       "      <td>40</td>\n",
       "      <td>74 %</td>\n",
       "      <td>1.87 %</td>\n",
       "    </tr>\n",
       "    <tr>\n",
       "      <th>9</th>\n",
       "      <td>Mexico</td>\n",
       "      <td>129166028</td>\n",
       "      <td>1.06 %</td>\n",
       "      <td>1357224</td>\n",
       "      <td>66</td>\n",
       "      <td>1943950</td>\n",
       "      <td>-60000.0</td>\n",
       "      <td>2.1</td>\n",
       "      <td>29</td>\n",
       "      <td>84 %</td>\n",
       "      <td>1.65 %</td>\n",
       "    </tr>\n",
       "    <tr>\n",
       "      <th>10</th>\n",
       "      <td>Japan</td>\n",
       "      <td>126407422</td>\n",
       "      <td>-0.30 %</td>\n",
       "      <td>-383840</td>\n",
       "      <td>347</td>\n",
       "      <td>364555</td>\n",
       "      <td>71560.0</td>\n",
       "      <td>1.4</td>\n",
       "      <td>48</td>\n",
       "      <td>92 %</td>\n",
       "      <td>1.62 %</td>\n",
       "    </tr>\n",
       "    <tr>\n",
       "      <th>11</th>\n",
       "      <td>Ethiopia</td>\n",
       "      <td>115434444</td>\n",
       "      <td>2.57 %</td>\n",
       "      <td>2884858</td>\n",
       "      <td>115</td>\n",
       "      <td>1000000</td>\n",
       "      <td>30000.0</td>\n",
       "      <td>4.3</td>\n",
       "      <td>19</td>\n",
       "      <td>21 %</td>\n",
       "      <td>1.47 %</td>\n",
       "    </tr>\n",
       "    <tr>\n",
       "      <th>12</th>\n",
       "      <td>Philippines</td>\n",
       "      <td>109830324</td>\n",
       "      <td>1.35 %</td>\n",
       "      <td>1464463</td>\n",
       "      <td>368</td>\n",
       "      <td>298170</td>\n",
       "      <td>-67152.0</td>\n",
       "      <td>2.6</td>\n",
       "      <td>26</td>\n",
       "      <td>47 %</td>\n",
       "      <td>1.41 %</td>\n",
       "    </tr>\n",
       "    <tr>\n",
       "      <th>13</th>\n",
       "      <td>Egypt</td>\n",
       "      <td>102659126</td>\n",
       "      <td>1.94 %</td>\n",
       "      <td>1946331</td>\n",
       "      <td>103</td>\n",
       "      <td>995450</td>\n",
       "      <td>-38033.0</td>\n",
       "      <td>3.3</td>\n",
       "      <td>25</td>\n",
       "      <td>43 %</td>\n",
       "      <td>1.31 %</td>\n",
       "    </tr>\n",
       "    <tr>\n",
       "      <th>14</th>\n",
       "      <td>Vietnam</td>\n",
       "      <td>97490013</td>\n",
       "      <td>0.91 %</td>\n",
       "      <td>876473</td>\n",
       "      <td>314</td>\n",
       "      <td>310070</td>\n",
       "      <td>-80000.0</td>\n",
       "      <td>2.1</td>\n",
       "      <td>32</td>\n",
       "      <td>38 %</td>\n",
       "      <td>1.25 %</td>\n",
       "    </tr>\n",
       "    <tr>\n",
       "      <th>15</th>\n",
       "      <td>DR Congo</td>\n",
       "      <td>90003954</td>\n",
       "      <td>3.19 %</td>\n",
       "      <td>2770836</td>\n",
       "      <td>40</td>\n",
       "      <td>2267050</td>\n",
       "      <td>23861.0</td>\n",
       "      <td>6.0</td>\n",
       "      <td>17</td>\n",
       "      <td>46 %</td>\n",
       "      <td>1.15 %</td>\n",
       "    </tr>\n",
       "    <tr>\n",
       "      <th>16</th>\n",
       "      <td>Turkey</td>\n",
       "      <td>84495243</td>\n",
       "      <td>1.09 %</td>\n",
       "      <td>909452</td>\n",
       "      <td>110</td>\n",
       "      <td>769630</td>\n",
       "      <td>283922.0</td>\n",
       "      <td>2.1</td>\n",
       "      <td>32</td>\n",
       "      <td>76 %</td>\n",
       "      <td>1.08 %</td>\n",
       "    </tr>\n",
       "    <tr>\n",
       "      <th>17</th>\n",
       "      <td>Iran</td>\n",
       "      <td>84176929</td>\n",
       "      <td>1.30 %</td>\n",
       "      <td>1079043</td>\n",
       "      <td>52</td>\n",
       "      <td>1628550</td>\n",
       "      <td>-55000.0</td>\n",
       "      <td>2.2</td>\n",
       "      <td>32</td>\n",
       "      <td>76 %</td>\n",
       "      <td>1.08 %</td>\n",
       "    </tr>\n",
       "    <tr>\n",
       "      <th>18</th>\n",
       "      <td>Germany</td>\n",
       "      <td>83830972</td>\n",
       "      <td>0.32 %</td>\n",
       "      <td>266897</td>\n",
       "      <td>240</td>\n",
       "      <td>348560</td>\n",
       "      <td>543822.0</td>\n",
       "      <td>1.6</td>\n",
       "      <td>46</td>\n",
       "      <td>76 %</td>\n",
       "      <td>1.07 %</td>\n",
       "    </tr>\n",
       "    <tr>\n",
       "      <th>19</th>\n",
       "      <td>Thailand</td>\n",
       "      <td>69830779</td>\n",
       "      <td>0.25 %</td>\n",
       "      <td>174396</td>\n",
       "      <td>137</td>\n",
       "      <td>510890</td>\n",
       "      <td>19444.0</td>\n",
       "      <td>1.5</td>\n",
       "      <td>40</td>\n",
       "      <td>51 %</td>\n",
       "      <td>0.90 %</td>\n",
       "    </tr>\n",
       "  </tbody>\n",
       "</table>\n",
       "</div>"
      ],
      "text/plain": [
       "   Country (or dependency)  Population (2020) Yearly Change  Net Change  \\\n",
       "0                    China         1440297825        0.39 %     5540090   \n",
       "1                    India         1382345085        0.99 %    13586631   \n",
       "2            United States          331341050        0.59 %     1937734   \n",
       "3                Indonesia          274021604        1.07 %     2898047   \n",
       "4                 Pakistan          221612785        2.00 %     4327022   \n",
       "5                   Brazil          212821986        0.72 %     1509890   \n",
       "6                  Nigeria          206984347        2.58 %     5175990   \n",
       "7               Bangladesh          164972348        1.01 %     1643222   \n",
       "8                   Russia          145945524        0.04 %       62206   \n",
       "9                   Mexico          129166028        1.06 %     1357224   \n",
       "10                   Japan          126407422       -0.30 %     -383840   \n",
       "11                Ethiopia          115434444        2.57 %     2884858   \n",
       "12             Philippines          109830324        1.35 %     1464463   \n",
       "13                   Egypt          102659126        1.94 %     1946331   \n",
       "14                 Vietnam           97490013        0.91 %      876473   \n",
       "15                DR Congo           90003954        3.19 %     2770836   \n",
       "16                  Turkey           84495243        1.09 %      909452   \n",
       "17                    Iran           84176929        1.30 %     1079043   \n",
       "18                 Germany           83830972        0.32 %      266897   \n",
       "19                Thailand           69830779        0.25 %      174396   \n",
       "\n",
       "    Density (P/Km²)  Land Area (Km²)  Migrants (net) Fert. Rate Med. Age  \\\n",
       "0               153          9388211       -348399.0        1.7       38   \n",
       "1               464          2973190       -532687.0        2.2       28   \n",
       "2                36          9147420        954806.0        1.8       38   \n",
       "3               151          1811570        -98955.0        2.3       30   \n",
       "4               287           770880       -233379.0        3.6       23   \n",
       "5                25          8358140         21200.0        1.7       33   \n",
       "6               226           910770        -60000.0        5.4       18   \n",
       "7              1265           130170       -369501.0        2.1       28   \n",
       "8                 9         16376870        182456.0        1.8       40   \n",
       "9                66          1943950        -60000.0        2.1       29   \n",
       "10              347           364555         71560.0        1.4       48   \n",
       "11              115          1000000         30000.0        4.3       19   \n",
       "12              368           298170        -67152.0        2.6       26   \n",
       "13              103           995450        -38033.0        3.3       25   \n",
       "14              314           310070        -80000.0        2.1       32   \n",
       "15               40          2267050         23861.0        6.0       17   \n",
       "16              110           769630        283922.0        2.1       32   \n",
       "17               52          1628550        -55000.0        2.2       32   \n",
       "18              240           348560        543822.0        1.6       46   \n",
       "19              137           510890         19444.0        1.5       40   \n",
       "\n",
       "   Urban Pop % World Share  \n",
       "0         61 %     18.47 %  \n",
       "1         35 %     17.70 %  \n",
       "2         83 %      4.25 %  \n",
       "3         56 %      3.51 %  \n",
       "4         35 %      2.83 %  \n",
       "5         88 %      2.73 %  \n",
       "6         52 %      2.64 %  \n",
       "7         39 %      2.11 %  \n",
       "8         74 %      1.87 %  \n",
       "9         84 %      1.65 %  \n",
       "10        92 %      1.62 %  \n",
       "11        21 %      1.47 %  \n",
       "12        47 %      1.41 %  \n",
       "13        43 %      1.31 %  \n",
       "14        38 %      1.25 %  \n",
       "15        46 %      1.15 %  \n",
       "16        76 %      1.08 %  \n",
       "17        76 %      1.08 %  \n",
       "18        76 %      1.07 %  \n",
       "19        51 %      0.90 %  "
      ]
     },
     "execution_count": 38,
     "metadata": {},
     "output_type": "execute_result"
    }
   ],
   "source": [
    "country_df.head(20)"
   ]
  },
  {
   "cell_type": "code",
   "execution_count": 39,
   "id": "focused-poverty",
   "metadata": {
    "ExecuteTime": {
     "end_time": "2021-04-01T14:25:55.403519Z",
     "start_time": "2021-04-01T14:25:55.337261Z"
    }
   },
   "outputs": [
    {
     "data": {
      "text/html": [
       "<div>\n",
       "<style scoped>\n",
       "    .dataframe tbody tr th:only-of-type {\n",
       "        vertical-align: middle;\n",
       "    }\n",
       "\n",
       "    .dataframe tbody tr th {\n",
       "        vertical-align: top;\n",
       "    }\n",
       "\n",
       "    .dataframe thead th {\n",
       "        text-align: right;\n",
       "    }\n",
       "</style>\n",
       "<table border=\"1\" class=\"dataframe\">\n",
       "  <thead>\n",
       "    <tr style=\"text-align: right;\">\n",
       "      <th></th>\n",
       "      <th>Country (or dependency)</th>\n",
       "      <th>Population (2020)</th>\n",
       "      <th>Yearly Change</th>\n",
       "      <th>Net Change</th>\n",
       "      <th>Density (P/Km²)</th>\n",
       "      <th>Land Area (Km²)</th>\n",
       "      <th>Migrants (net)</th>\n",
       "      <th>Fert. Rate</th>\n",
       "      <th>Med. Age</th>\n",
       "      <th>Urban Pop %</th>\n",
       "      <th>World Share</th>\n",
       "    </tr>\n",
       "  </thead>\n",
       "  <tbody>\n",
       "    <tr>\n",
       "      <th>215</th>\n",
       "      <td>Saint Martin</td>\n",
       "      <td>38778</td>\n",
       "      <td>1.75 %</td>\n",
       "      <td>664</td>\n",
       "      <td>730</td>\n",
       "      <td>53</td>\n",
       "      <td>NaN</td>\n",
       "      <td>N.A.</td>\n",
       "      <td>N.A.</td>\n",
       "      <td>0 %</td>\n",
       "      <td>0.00 %</td>\n",
       "    </tr>\n",
       "    <tr>\n",
       "      <th>216</th>\n",
       "      <td>Liechtenstein</td>\n",
       "      <td>38147</td>\n",
       "      <td>0.29 %</td>\n",
       "      <td>109</td>\n",
       "      <td>238</td>\n",
       "      <td>160</td>\n",
       "      <td>NaN</td>\n",
       "      <td>N.A.</td>\n",
       "      <td>N.A.</td>\n",
       "      <td>15 %</td>\n",
       "      <td>0.00 %</td>\n",
       "    </tr>\n",
       "    <tr>\n",
       "      <th>217</th>\n",
       "      <td>San Marino</td>\n",
       "      <td>33944</td>\n",
       "      <td>0.21 %</td>\n",
       "      <td>71</td>\n",
       "      <td>566</td>\n",
       "      <td>60</td>\n",
       "      <td>NaN</td>\n",
       "      <td>N.A.</td>\n",
       "      <td>N.A.</td>\n",
       "      <td>97 %</td>\n",
       "      <td>0.00 %</td>\n",
       "    </tr>\n",
       "    <tr>\n",
       "      <th>218</th>\n",
       "      <td>Gibraltar</td>\n",
       "      <td>33689</td>\n",
       "      <td>-0.03 %</td>\n",
       "      <td>-10</td>\n",
       "      <td>3369</td>\n",
       "      <td>10</td>\n",
       "      <td>NaN</td>\n",
       "      <td>N.A.</td>\n",
       "      <td>N.A.</td>\n",
       "      <td>N.A.</td>\n",
       "      <td>0.00 %</td>\n",
       "    </tr>\n",
       "    <tr>\n",
       "      <th>219</th>\n",
       "      <td>British Virgin Islands</td>\n",
       "      <td>30266</td>\n",
       "      <td>0.67 %</td>\n",
       "      <td>201</td>\n",
       "      <td>202</td>\n",
       "      <td>150</td>\n",
       "      <td>NaN</td>\n",
       "      <td>N.A.</td>\n",
       "      <td>N.A.</td>\n",
       "      <td>52 %</td>\n",
       "      <td>0.00 %</td>\n",
       "    </tr>\n",
       "    <tr>\n",
       "      <th>220</th>\n",
       "      <td>Caribbean Netherlands</td>\n",
       "      <td>26265</td>\n",
       "      <td>0.94 %</td>\n",
       "      <td>244</td>\n",
       "      <td>80</td>\n",
       "      <td>328</td>\n",
       "      <td>NaN</td>\n",
       "      <td>N.A.</td>\n",
       "      <td>N.A.</td>\n",
       "      <td>75 %</td>\n",
       "      <td>0.00 %</td>\n",
       "    </tr>\n",
       "    <tr>\n",
       "      <th>221</th>\n",
       "      <td>Palau</td>\n",
       "      <td>18109</td>\n",
       "      <td>0.48 %</td>\n",
       "      <td>86</td>\n",
       "      <td>39</td>\n",
       "      <td>460</td>\n",
       "      <td>NaN</td>\n",
       "      <td>N.A.</td>\n",
       "      <td>N.A.</td>\n",
       "      <td>N.A.</td>\n",
       "      <td>0.00 %</td>\n",
       "    </tr>\n",
       "    <tr>\n",
       "      <th>222</th>\n",
       "      <td>Cook Islands</td>\n",
       "      <td>17567</td>\n",
       "      <td>0.09 %</td>\n",
       "      <td>16</td>\n",
       "      <td>73</td>\n",
       "      <td>240</td>\n",
       "      <td>NaN</td>\n",
       "      <td>N.A.</td>\n",
       "      <td>N.A.</td>\n",
       "      <td>75 %</td>\n",
       "      <td>0.00 %</td>\n",
       "    </tr>\n",
       "    <tr>\n",
       "      <th>223</th>\n",
       "      <td>Anguilla</td>\n",
       "      <td>15026</td>\n",
       "      <td>0.90 %</td>\n",
       "      <td>134</td>\n",
       "      <td>167</td>\n",
       "      <td>90</td>\n",
       "      <td>NaN</td>\n",
       "      <td>N.A.</td>\n",
       "      <td>N.A.</td>\n",
       "      <td>N.A.</td>\n",
       "      <td>0.00 %</td>\n",
       "    </tr>\n",
       "    <tr>\n",
       "      <th>224</th>\n",
       "      <td>Tuvalu</td>\n",
       "      <td>11817</td>\n",
       "      <td>1.25 %</td>\n",
       "      <td>146</td>\n",
       "      <td>393</td>\n",
       "      <td>30</td>\n",
       "      <td>NaN</td>\n",
       "      <td>N.A.</td>\n",
       "      <td>N.A.</td>\n",
       "      <td>62 %</td>\n",
       "      <td>0.00 %</td>\n",
       "    </tr>\n",
       "    <tr>\n",
       "      <th>225</th>\n",
       "      <td>Wallis &amp; Futuna</td>\n",
       "      <td>11203</td>\n",
       "      <td>-1.69 %</td>\n",
       "      <td>-193</td>\n",
       "      <td>80</td>\n",
       "      <td>140</td>\n",
       "      <td>NaN</td>\n",
       "      <td>N.A.</td>\n",
       "      <td>N.A.</td>\n",
       "      <td>0 %</td>\n",
       "      <td>0.00 %</td>\n",
       "    </tr>\n",
       "    <tr>\n",
       "      <th>226</th>\n",
       "      <td>Nauru</td>\n",
       "      <td>10836</td>\n",
       "      <td>0.63 %</td>\n",
       "      <td>68</td>\n",
       "      <td>541</td>\n",
       "      <td>20</td>\n",
       "      <td>NaN</td>\n",
       "      <td>N.A.</td>\n",
       "      <td>N.A.</td>\n",
       "      <td>N.A.</td>\n",
       "      <td>0.00 %</td>\n",
       "    </tr>\n",
       "    <tr>\n",
       "      <th>227</th>\n",
       "      <td>Saint Barthelemy</td>\n",
       "      <td>9882</td>\n",
       "      <td>0.30 %</td>\n",
       "      <td>30</td>\n",
       "      <td>470</td>\n",
       "      <td>21</td>\n",
       "      <td>NaN</td>\n",
       "      <td>N.A.</td>\n",
       "      <td>N.A.</td>\n",
       "      <td>0 %</td>\n",
       "      <td>0.00 %</td>\n",
       "    </tr>\n",
       "    <tr>\n",
       "      <th>228</th>\n",
       "      <td>Saint Helena</td>\n",
       "      <td>6080</td>\n",
       "      <td>0.30 %</td>\n",
       "      <td>18</td>\n",
       "      <td>16</td>\n",
       "      <td>390</td>\n",
       "      <td>NaN</td>\n",
       "      <td>N.A.</td>\n",
       "      <td>N.A.</td>\n",
       "      <td>27 %</td>\n",
       "      <td>0.00 %</td>\n",
       "    </tr>\n",
       "    <tr>\n",
       "      <th>229</th>\n",
       "      <td>Saint Pierre &amp; Miquelon</td>\n",
       "      <td>5789</td>\n",
       "      <td>-0.48 %</td>\n",
       "      <td>-28</td>\n",
       "      <td>25</td>\n",
       "      <td>230</td>\n",
       "      <td>NaN</td>\n",
       "      <td>N.A.</td>\n",
       "      <td>N.A.</td>\n",
       "      <td>100 %</td>\n",
       "      <td>0.00 %</td>\n",
       "    </tr>\n",
       "    <tr>\n",
       "      <th>230</th>\n",
       "      <td>Montserrat</td>\n",
       "      <td>4993</td>\n",
       "      <td>0.06 %</td>\n",
       "      <td>3</td>\n",
       "      <td>50</td>\n",
       "      <td>100</td>\n",
       "      <td>NaN</td>\n",
       "      <td>N.A.</td>\n",
       "      <td>N.A.</td>\n",
       "      <td>10 %</td>\n",
       "      <td>0.00 %</td>\n",
       "    </tr>\n",
       "    <tr>\n",
       "      <th>231</th>\n",
       "      <td>Falkland Islands</td>\n",
       "      <td>3497</td>\n",
       "      <td>3.05 %</td>\n",
       "      <td>103</td>\n",
       "      <td>0</td>\n",
       "      <td>12170</td>\n",
       "      <td>NaN</td>\n",
       "      <td>N.A.</td>\n",
       "      <td>N.A.</td>\n",
       "      <td>66 %</td>\n",
       "      <td>0.00 %</td>\n",
       "    </tr>\n",
       "    <tr>\n",
       "      <th>232</th>\n",
       "      <td>Niue</td>\n",
       "      <td>1628</td>\n",
       "      <td>0.68 %</td>\n",
       "      <td>11</td>\n",
       "      <td>6</td>\n",
       "      <td>260</td>\n",
       "      <td>NaN</td>\n",
       "      <td>N.A.</td>\n",
       "      <td>N.A.</td>\n",
       "      <td>46 %</td>\n",
       "      <td>0.00 %</td>\n",
       "    </tr>\n",
       "    <tr>\n",
       "      <th>233</th>\n",
       "      <td>Tokelau</td>\n",
       "      <td>1360</td>\n",
       "      <td>1.27 %</td>\n",
       "      <td>17</td>\n",
       "      <td>136</td>\n",
       "      <td>10</td>\n",
       "      <td>NaN</td>\n",
       "      <td>N.A.</td>\n",
       "      <td>N.A.</td>\n",
       "      <td>0 %</td>\n",
       "      <td>0.00 %</td>\n",
       "    </tr>\n",
       "    <tr>\n",
       "      <th>234</th>\n",
       "      <td>Holy See</td>\n",
       "      <td>801</td>\n",
       "      <td>0.25 %</td>\n",
       "      <td>2</td>\n",
       "      <td>2003</td>\n",
       "      <td>0</td>\n",
       "      <td>NaN</td>\n",
       "      <td>N.A.</td>\n",
       "      <td>N.A.</td>\n",
       "      <td>N.A.</td>\n",
       "      <td>0.00 %</td>\n",
       "    </tr>\n",
       "  </tbody>\n",
       "</table>\n",
       "</div>"
      ],
      "text/plain": [
       "     Country (or dependency)  Population (2020) Yearly Change  Net Change  \\\n",
       "215             Saint Martin              38778        1.75 %         664   \n",
       "216            Liechtenstein              38147        0.29 %         109   \n",
       "217               San Marino              33944        0.21 %          71   \n",
       "218                Gibraltar              33689       -0.03 %         -10   \n",
       "219   British Virgin Islands              30266        0.67 %         201   \n",
       "220    Caribbean Netherlands              26265        0.94 %         244   \n",
       "221                    Palau              18109        0.48 %          86   \n",
       "222             Cook Islands              17567        0.09 %          16   \n",
       "223                 Anguilla              15026        0.90 %         134   \n",
       "224                   Tuvalu              11817        1.25 %         146   \n",
       "225          Wallis & Futuna              11203       -1.69 %        -193   \n",
       "226                    Nauru              10836        0.63 %          68   \n",
       "227         Saint Barthelemy               9882        0.30 %          30   \n",
       "228             Saint Helena               6080        0.30 %          18   \n",
       "229  Saint Pierre & Miquelon               5789       -0.48 %         -28   \n",
       "230               Montserrat               4993        0.06 %           3   \n",
       "231         Falkland Islands               3497        3.05 %         103   \n",
       "232                     Niue               1628        0.68 %          11   \n",
       "233                  Tokelau               1360        1.27 %          17   \n",
       "234                 Holy See                801        0.25 %           2   \n",
       "\n",
       "     Density (P/Km²)  Land Area (Km²)  Migrants (net) Fert. Rate Med. Age  \\\n",
       "215              730               53             NaN       N.A.     N.A.   \n",
       "216              238              160             NaN       N.A.     N.A.   \n",
       "217              566               60             NaN       N.A.     N.A.   \n",
       "218             3369               10             NaN       N.A.     N.A.   \n",
       "219              202              150             NaN       N.A.     N.A.   \n",
       "220               80              328             NaN       N.A.     N.A.   \n",
       "221               39              460             NaN       N.A.     N.A.   \n",
       "222               73              240             NaN       N.A.     N.A.   \n",
       "223              167               90             NaN       N.A.     N.A.   \n",
       "224              393               30             NaN       N.A.     N.A.   \n",
       "225               80              140             NaN       N.A.     N.A.   \n",
       "226              541               20             NaN       N.A.     N.A.   \n",
       "227              470               21             NaN       N.A.     N.A.   \n",
       "228               16              390             NaN       N.A.     N.A.   \n",
       "229               25              230             NaN       N.A.     N.A.   \n",
       "230               50              100             NaN       N.A.     N.A.   \n",
       "231                0            12170             NaN       N.A.     N.A.   \n",
       "232                6              260             NaN       N.A.     N.A.   \n",
       "233              136               10             NaN       N.A.     N.A.   \n",
       "234             2003                0             NaN       N.A.     N.A.   \n",
       "\n",
       "    Urban Pop % World Share  \n",
       "215         0 %      0.00 %  \n",
       "216        15 %      0.00 %  \n",
       "217        97 %      0.00 %  \n",
       "218        N.A.      0.00 %  \n",
       "219        52 %      0.00 %  \n",
       "220        75 %      0.00 %  \n",
       "221        N.A.      0.00 %  \n",
       "222        75 %      0.00 %  \n",
       "223        N.A.      0.00 %  \n",
       "224        62 %      0.00 %  \n",
       "225         0 %      0.00 %  \n",
       "226        N.A.      0.00 %  \n",
       "227         0 %      0.00 %  \n",
       "228        27 %      0.00 %  \n",
       "229       100 %      0.00 %  \n",
       "230        10 %      0.00 %  \n",
       "231        66 %      0.00 %  \n",
       "232        46 %      0.00 %  \n",
       "233         0 %      0.00 %  \n",
       "234        N.A.      0.00 %  "
      ]
     },
     "execution_count": 39,
     "metadata": {},
     "output_type": "execute_result"
    }
   ],
   "source": [
    "country_df.tail(20)"
   ]
  },
  {
   "cell_type": "code",
   "execution_count": 40,
   "id": "functional-omaha",
   "metadata": {
    "ExecuteTime": {
     "end_time": "2021-04-01T14:26:18.612605Z",
     "start_time": "2021-04-01T14:26:18.604997Z"
    }
   },
   "outputs": [
    {
     "data": {
      "text/plain": [
       "Index(['Country (or dependency)', 'Population (2020)', 'Yearly Change',\n",
       "       'Net Change', 'Density (P/Km²)', 'Land Area (Km²)', 'Migrants (net)',\n",
       "       'Fert. Rate', 'Med. Age', 'Urban Pop %', 'World Share'],\n",
       "      dtype='object')"
      ]
     },
     "execution_count": 40,
     "metadata": {},
     "output_type": "execute_result"
    }
   ],
   "source": [
    "country_df.columns"
   ]
  },
  {
   "cell_type": "code",
   "execution_count": 43,
   "id": "lesser-northern",
   "metadata": {
    "ExecuteTime": {
     "end_time": "2021-04-01T14:26:51.382116Z",
     "start_time": "2021-04-01T14:26:51.375079Z"
    }
   },
   "outputs": [
    {
     "data": {
      "text/plain": [
       "0      1440297825\n",
       "1      1382345085\n",
       "2       331341050\n",
       "3       274021604\n",
       "4       221612785\n",
       "          ...    \n",
       "230          4993\n",
       "231          3497\n",
       "232          1628\n",
       "233          1360\n",
       "234           801\n",
       "Name: Population (2020), Length: 235, dtype: int64"
      ]
     },
     "execution_count": 43,
     "metadata": {},
     "output_type": "execute_result"
    }
   ],
   "source": [
    "country_df['Population (2020)']"
   ]
  },
  {
   "cell_type": "code",
   "execution_count": 44,
   "id": "charming-google",
   "metadata": {
    "ExecuteTime": {
     "end_time": "2021-04-01T14:27:09.198255Z",
     "start_time": "2021-04-01T14:27:09.191676Z"
    }
   },
   "outputs": [
    {
     "data": {
      "text/plain": [
       "pandas.core.series.Series"
      ]
     },
     "execution_count": 44,
     "metadata": {},
     "output_type": "execute_result"
    }
   ],
   "source": [
    "type(country_df['Population (2020)'])"
   ]
  },
  {
   "cell_type": "code",
   "execution_count": 82,
   "id": "isolated-constraint",
   "metadata": {
    "ExecuteTime": {
     "end_time": "2021-04-01T15:10:04.537989Z",
     "start_time": "2021-04-01T15:10:04.522603Z"
    }
   },
   "outputs": [
    {
     "data": {
      "text/html": [
       "<div>\n",
       "<style scoped>\n",
       "    .dataframe tbody tr th:only-of-type {\n",
       "        vertical-align: middle;\n",
       "    }\n",
       "\n",
       "    .dataframe tbody tr th {\n",
       "        vertical-align: top;\n",
       "    }\n",
       "\n",
       "    .dataframe thead th {\n",
       "        text-align: right;\n",
       "    }\n",
       "</style>\n",
       "<table border=\"1\" class=\"dataframe\">\n",
       "  <thead>\n",
       "    <tr style=\"text-align: right;\">\n",
       "      <th></th>\n",
       "      <th>day</th>\n",
       "      <th>temperature</th>\n",
       "      <th>windspeed</th>\n",
       "      <th>event</th>\n",
       "    </tr>\n",
       "  </thead>\n",
       "  <tbody>\n",
       "    <tr>\n",
       "      <th>0</th>\n",
       "      <td>1/1/2017</td>\n",
       "      <td>32</td>\n",
       "      <td>6</td>\n",
       "      <td>Rain</td>\n",
       "    </tr>\n",
       "    <tr>\n",
       "      <th>1</th>\n",
       "      <td>1/2/2017</td>\n",
       "      <td>35</td>\n",
       "      <td>7</td>\n",
       "      <td>Sunny</td>\n",
       "    </tr>\n",
       "    <tr>\n",
       "      <th>2</th>\n",
       "      <td>1/3/2017</td>\n",
       "      <td>28</td>\n",
       "      <td>2</td>\n",
       "      <td>Snow</td>\n",
       "    </tr>\n",
       "    <tr>\n",
       "      <th>3</th>\n",
       "      <td>1/4/2017</td>\n",
       "      <td>24</td>\n",
       "      <td>7</td>\n",
       "      <td>Snow</td>\n",
       "    </tr>\n",
       "    <tr>\n",
       "      <th>4</th>\n",
       "      <td>1/5/2017</td>\n",
       "      <td>32</td>\n",
       "      <td>4</td>\n",
       "      <td>Rain</td>\n",
       "    </tr>\n",
       "    <tr>\n",
       "      <th>5</th>\n",
       "      <td>1/6/2017</td>\n",
       "      <td>31</td>\n",
       "      <td>2</td>\n",
       "      <td>Sunny</td>\n",
       "    </tr>\n",
       "  </tbody>\n",
       "</table>\n",
       "</div>"
      ],
      "text/plain": [
       "        day  temperature  windspeed  event\n",
       "0  1/1/2017           32          6   Rain\n",
       "1  1/2/2017           35          7  Sunny\n",
       "2  1/3/2017           28          2   Snow\n",
       "3  1/4/2017           24          7   Snow\n",
       "4  1/5/2017           32          4   Rain\n",
       "5  1/6/2017           31          2  Sunny"
      ]
     },
     "execution_count": 82,
     "metadata": {},
     "output_type": "execute_result"
    }
   ],
   "source": [
    "df = pd.read_csv('dataset/weather_data.csv')\n",
    "df"
   ]
  },
  {
   "cell_type": "code",
   "execution_count": 50,
   "id": "ancient-story",
   "metadata": {
    "ExecuteTime": {
     "end_time": "2021-04-01T14:33:23.159012Z",
     "start_time": "2021-04-01T14:33:23.152225Z"
    }
   },
   "outputs": [
    {
     "data": {
      "text/plain": [
       "3    24\n",
       "4    32\n",
       "5    31\n",
       "Name: temperature, dtype: int64"
      ]
     },
     "execution_count": 50,
     "metadata": {},
     "output_type": "execute_result"
    }
   ],
   "source": [
    "df.temperature[3:6]"
   ]
  },
  {
   "cell_type": "code",
   "execution_count": 51,
   "id": "employed-composer",
   "metadata": {
    "ExecuteTime": {
     "end_time": "2021-04-01T14:35:14.488169Z",
     "start_time": "2021-04-01T14:35:14.479815Z"
    }
   },
   "outputs": [
    {
     "data": {
      "text/plain": [
       "<bound method NDFrame.describe of         day  temperature  windspeed  event\n",
       "0  1/1/2017           32          6   Rain\n",
       "1  1/2/2017           35          7  Sunny\n",
       "2  1/3/2017           28          2   Snow\n",
       "3  1/4/2017           24          7   Snow\n",
       "4  1/5/2017           32          4   Rain\n",
       "5  1/6/2017           31          2  Sunny>"
      ]
     },
     "execution_count": 51,
     "metadata": {},
     "output_type": "execute_result"
    }
   ],
   "source": [
    "df.describe"
   ]
  },
  {
   "cell_type": "code",
   "execution_count": 53,
   "id": "further-input",
   "metadata": {
    "ExecuteTime": {
     "end_time": "2021-04-01T14:35:43.137767Z",
     "start_time": "2021-04-01T14:35:43.126742Z"
    }
   },
   "outputs": [
    {
     "data": {
      "text/plain": [
       "day            1/6/2017\n",
       "temperature          35\n",
       "windspeed             7\n",
       "event             Sunny\n",
       "dtype: object"
      ]
     },
     "execution_count": 53,
     "metadata": {},
     "output_type": "execute_result"
    }
   ],
   "source": [
    "df.max()"
   ]
  },
  {
   "cell_type": "code",
   "execution_count": 60,
   "id": "traditional-orleans",
   "metadata": {
    "ExecuteTime": {
     "end_time": "2021-04-01T14:38:12.667007Z",
     "start_time": "2021-04-01T14:38:12.658066Z"
    }
   },
   "outputs": [
    {
     "data": {
      "text/plain": [
       "35"
      ]
     },
     "execution_count": 60,
     "metadata": {},
     "output_type": "execute_result"
    }
   ],
   "source": [
    "df.temperature.max()\n",
    "\n",
    "# or \n",
    "\n",
    "df.max()['temperature']"
   ]
  },
  {
   "cell_type": "code",
   "execution_count": 61,
   "id": "interracial-tuesday",
   "metadata": {
    "ExecuteTime": {
     "end_time": "2021-04-01T14:39:29.146937Z",
     "start_time": "2021-04-01T14:39:29.136361Z"
    }
   },
   "outputs": [
    {
     "data": {
      "text/plain": [
       "day            1/1/2017\n",
       "temperature          24\n",
       "windspeed             2\n",
       "event              Rain\n",
       "dtype: object"
      ]
     },
     "execution_count": 61,
     "metadata": {},
     "output_type": "execute_result"
    }
   ],
   "source": [
    "df.min()"
   ]
  },
  {
   "cell_type": "code",
   "execution_count": 62,
   "id": "exclusive-rebate",
   "metadata": {
    "ExecuteTime": {
     "end_time": "2021-04-01T14:39:41.350676Z",
     "start_time": "2021-04-01T14:39:41.344322Z"
    }
   },
   "outputs": [
    {
     "data": {
      "text/plain": [
       "2"
      ]
     },
     "execution_count": 62,
     "metadata": {},
     "output_type": "execute_result"
    }
   ],
   "source": [
    "df.windspeed.min()"
   ]
  },
  {
   "cell_type": "code",
   "execution_count": 64,
   "id": "laden-series",
   "metadata": {
    "ExecuteTime": {
     "end_time": "2021-04-01T14:42:57.827631Z",
     "start_time": "2021-04-01T14:42:57.818000Z"
    }
   },
   "outputs": [
    {
     "data": {
      "text/plain": [
       "temperature    30.333333\n",
       "windspeed       4.666667\n",
       "dtype: float64"
      ]
     },
     "execution_count": 64,
     "metadata": {},
     "output_type": "execute_result"
    }
   ],
   "source": [
    "df.mean()"
   ]
  },
  {
   "cell_type": "code",
   "execution_count": 65,
   "id": "useful-balloon",
   "metadata": {
    "ExecuteTime": {
     "end_time": "2021-04-01T14:44:37.025625Z",
     "start_time": "2021-04-01T14:44:37.017385Z"
    }
   },
   "outputs": [
    {
     "data": {
      "text/plain": [
       "temperature    31.5\n",
       "windspeed       5.0\n",
       "dtype: float64"
      ]
     },
     "execution_count": 65,
     "metadata": {},
     "output_type": "execute_result"
    }
   ],
   "source": [
    "df.median()"
   ]
  },
  {
   "cell_type": "code",
   "execution_count": 66,
   "id": "recreational-hungarian",
   "metadata": {
    "ExecuteTime": {
     "end_time": "2021-04-01T14:49:34.041539Z",
     "start_time": "2021-04-01T14:49:34.013796Z"
    }
   },
   "outputs": [
    {
     "data": {
      "text/html": [
       "<div>\n",
       "<style scoped>\n",
       "    .dataframe tbody tr th:only-of-type {\n",
       "        vertical-align: middle;\n",
       "    }\n",
       "\n",
       "    .dataframe tbody tr th {\n",
       "        vertical-align: top;\n",
       "    }\n",
       "\n",
       "    .dataframe thead th {\n",
       "        text-align: right;\n",
       "    }\n",
       "</style>\n",
       "<table border=\"1\" class=\"dataframe\">\n",
       "  <thead>\n",
       "    <tr style=\"text-align: right;\">\n",
       "      <th></th>\n",
       "      <th>day</th>\n",
       "      <th>temperature</th>\n",
       "      <th>windspeed</th>\n",
       "      <th>event</th>\n",
       "    </tr>\n",
       "  </thead>\n",
       "  <tbody>\n",
       "    <tr>\n",
       "      <th>0</th>\n",
       "      <td>1/1/2017</td>\n",
       "      <td>32.0</td>\n",
       "      <td>2.0</td>\n",
       "      <td>Rain</td>\n",
       "    </tr>\n",
       "    <tr>\n",
       "      <th>1</th>\n",
       "      <td>1/2/2017</td>\n",
       "      <td>NaN</td>\n",
       "      <td>7.0</td>\n",
       "      <td>Snow</td>\n",
       "    </tr>\n",
       "    <tr>\n",
       "      <th>2</th>\n",
       "      <td>1/3/2017</td>\n",
       "      <td>NaN</td>\n",
       "      <td>NaN</td>\n",
       "      <td>Sunny</td>\n",
       "    </tr>\n",
       "    <tr>\n",
       "      <th>3</th>\n",
       "      <td>1/4/2017</td>\n",
       "      <td>NaN</td>\n",
       "      <td>NaN</td>\n",
       "      <td>NaN</td>\n",
       "    </tr>\n",
       "    <tr>\n",
       "      <th>4</th>\n",
       "      <td>1/5/2017</td>\n",
       "      <td>NaN</td>\n",
       "      <td>NaN</td>\n",
       "      <td>NaN</td>\n",
       "    </tr>\n",
       "    <tr>\n",
       "      <th>5</th>\n",
       "      <td>1/6/2017</td>\n",
       "      <td>NaN</td>\n",
       "      <td>NaN</td>\n",
       "      <td>NaN</td>\n",
       "    </tr>\n",
       "  </tbody>\n",
       "</table>\n",
       "</div>"
      ],
      "text/plain": [
       "        day  temperature  windspeed  event\n",
       "0  1/1/2017         32.0        2.0   Rain\n",
       "1  1/2/2017          NaN        7.0   Snow\n",
       "2  1/3/2017          NaN        NaN  Sunny\n",
       "3  1/4/2017          NaN        NaN    NaN\n",
       "4  1/5/2017          NaN        NaN    NaN\n",
       "5  1/6/2017          NaN        NaN    NaN"
      ]
     },
     "execution_count": 66,
     "metadata": {},
     "output_type": "execute_result"
    }
   ],
   "source": [
    "df.mode()"
   ]
  },
  {
   "cell_type": "code",
   "execution_count": 71,
   "id": "atlantic-formation",
   "metadata": {
    "ExecuteTime": {
     "end_time": "2021-04-01T14:54:18.493730Z",
     "start_time": "2021-04-01T14:54:18.485803Z"
    }
   },
   "outputs": [
    {
     "data": {
      "text/plain": [
       "day            object\n",
       "temperature     int64\n",
       "windspeed       int64\n",
       "event          object\n",
       "dtype: object"
      ]
     },
     "execution_count": 71,
     "metadata": {},
     "output_type": "execute_result"
    }
   ],
   "source": [
    "df.dtypes"
   ]
  },
  {
   "cell_type": "code",
   "execution_count": 73,
   "id": "intensive-message",
   "metadata": {
    "ExecuteTime": {
     "end_time": "2021-04-01T14:54:56.205067Z",
     "start_time": "2021-04-01T14:54:56.172010Z"
    }
   },
   "outputs": [
    {
     "name": "stdout",
     "output_type": "stream",
     "text": [
      "<class 'pandas.core.frame.DataFrame'>\n",
      "RangeIndex: 6 entries, 0 to 5\n",
      "Data columns (total 4 columns):\n",
      " #   Column       Non-Null Count  Dtype \n",
      "---  ------       --------------  ----- \n",
      " 0   day          6 non-null      object\n",
      " 1   temperature  6 non-null      int64 \n",
      " 2   windspeed    6 non-null      int64 \n",
      " 3   event        6 non-null      object\n",
      "dtypes: int64(2), object(2)\n",
      "memory usage: 320.0+ bytes\n"
     ]
    }
   ],
   "source": [
    "df.info()"
   ]
  },
  {
   "cell_type": "code",
   "execution_count": 74,
   "id": "graduate-heath",
   "metadata": {
    "ExecuteTime": {
     "end_time": "2021-04-01T14:55:12.427904Z",
     "start_time": "2021-04-01T14:55:12.394108Z"
    }
   },
   "outputs": [
    {
     "data": {
      "text/html": [
       "<div>\n",
       "<style scoped>\n",
       "    .dataframe tbody tr th:only-of-type {\n",
       "        vertical-align: middle;\n",
       "    }\n",
       "\n",
       "    .dataframe tbody tr th {\n",
       "        vertical-align: top;\n",
       "    }\n",
       "\n",
       "    .dataframe thead th {\n",
       "        text-align: right;\n",
       "    }\n",
       "</style>\n",
       "<table border=\"1\" class=\"dataframe\">\n",
       "  <thead>\n",
       "    <tr style=\"text-align: right;\">\n",
       "      <th></th>\n",
       "      <th>temperature</th>\n",
       "      <th>windspeed</th>\n",
       "    </tr>\n",
       "  </thead>\n",
       "  <tbody>\n",
       "    <tr>\n",
       "      <th>count</th>\n",
       "      <td>6.000000</td>\n",
       "      <td>6.000000</td>\n",
       "    </tr>\n",
       "    <tr>\n",
       "      <th>mean</th>\n",
       "      <td>30.333333</td>\n",
       "      <td>4.666667</td>\n",
       "    </tr>\n",
       "    <tr>\n",
       "      <th>std</th>\n",
       "      <td>3.829708</td>\n",
       "      <td>2.338090</td>\n",
       "    </tr>\n",
       "    <tr>\n",
       "      <th>min</th>\n",
       "      <td>24.000000</td>\n",
       "      <td>2.000000</td>\n",
       "    </tr>\n",
       "    <tr>\n",
       "      <th>25%</th>\n",
       "      <td>28.750000</td>\n",
       "      <td>2.500000</td>\n",
       "    </tr>\n",
       "    <tr>\n",
       "      <th>50%</th>\n",
       "      <td>31.500000</td>\n",
       "      <td>5.000000</td>\n",
       "    </tr>\n",
       "    <tr>\n",
       "      <th>75%</th>\n",
       "      <td>32.000000</td>\n",
       "      <td>6.750000</td>\n",
       "    </tr>\n",
       "    <tr>\n",
       "      <th>max</th>\n",
       "      <td>35.000000</td>\n",
       "      <td>7.000000</td>\n",
       "    </tr>\n",
       "  </tbody>\n",
       "</table>\n",
       "</div>"
      ],
      "text/plain": [
       "       temperature  windspeed\n",
       "count     6.000000   6.000000\n",
       "mean     30.333333   4.666667\n",
       "std       3.829708   2.338090\n",
       "min      24.000000   2.000000\n",
       "25%      28.750000   2.500000\n",
       "50%      31.500000   5.000000\n",
       "75%      32.000000   6.750000\n",
       "max      35.000000   7.000000"
      ]
     },
     "execution_count": 74,
     "metadata": {},
     "output_type": "execute_result"
    }
   ],
   "source": [
    "df.describe()"
   ]
  },
  {
   "cell_type": "code",
   "execution_count": 80,
   "id": "elementary-motor",
   "metadata": {
    "ExecuteTime": {
     "end_time": "2021-04-01T14:59:11.754344Z",
     "start_time": "2021-04-01T14:59:11.553942Z"
    }
   },
   "outputs": [
    {
     "data": {
      "text/html": [
       "<div>\n",
       "<style scoped>\n",
       "    .dataframe tbody tr th:only-of-type {\n",
       "        vertical-align: middle;\n",
       "    }\n",
       "\n",
       "    .dataframe tbody tr th {\n",
       "        vertical-align: top;\n",
       "    }\n",
       "\n",
       "    .dataframe thead th {\n",
       "        text-align: right;\n",
       "    }\n",
       "</style>\n",
       "<table border=\"1\" class=\"dataframe\">\n",
       "  <thead>\n",
       "    <tr style=\"text-align: right;\">\n",
       "      <th></th>\n",
       "      <th>day</th>\n",
       "      <th>temperature</th>\n",
       "      <th>windspeed</th>\n",
       "      <th>event</th>\n",
       "    </tr>\n",
       "  </thead>\n",
       "  <tbody>\n",
       "    <tr>\n",
       "      <th>count</th>\n",
       "      <td>6</td>\n",
       "      <td>6.000000</td>\n",
       "      <td>6.000000</td>\n",
       "      <td>6</td>\n",
       "    </tr>\n",
       "    <tr>\n",
       "      <th>unique</th>\n",
       "      <td>6</td>\n",
       "      <td>NaN</td>\n",
       "      <td>NaN</td>\n",
       "      <td>3</td>\n",
       "    </tr>\n",
       "    <tr>\n",
       "      <th>top</th>\n",
       "      <td>1/3/2017</td>\n",
       "      <td>NaN</td>\n",
       "      <td>NaN</td>\n",
       "      <td>Rain</td>\n",
       "    </tr>\n",
       "    <tr>\n",
       "      <th>freq</th>\n",
       "      <td>1</td>\n",
       "      <td>NaN</td>\n",
       "      <td>NaN</td>\n",
       "      <td>2</td>\n",
       "    </tr>\n",
       "    <tr>\n",
       "      <th>mean</th>\n",
       "      <td>NaN</td>\n",
       "      <td>30.333333</td>\n",
       "      <td>4.666667</td>\n",
       "      <td>NaN</td>\n",
       "    </tr>\n",
       "    <tr>\n",
       "      <th>std</th>\n",
       "      <td>NaN</td>\n",
       "      <td>3.829708</td>\n",
       "      <td>2.338090</td>\n",
       "      <td>NaN</td>\n",
       "    </tr>\n",
       "    <tr>\n",
       "      <th>min</th>\n",
       "      <td>NaN</td>\n",
       "      <td>24.000000</td>\n",
       "      <td>2.000000</td>\n",
       "      <td>NaN</td>\n",
       "    </tr>\n",
       "    <tr>\n",
       "      <th>25%</th>\n",
       "      <td>NaN</td>\n",
       "      <td>28.750000</td>\n",
       "      <td>2.500000</td>\n",
       "      <td>NaN</td>\n",
       "    </tr>\n",
       "    <tr>\n",
       "      <th>50%</th>\n",
       "      <td>NaN</td>\n",
       "      <td>31.500000</td>\n",
       "      <td>5.000000</td>\n",
       "      <td>NaN</td>\n",
       "    </tr>\n",
       "    <tr>\n",
       "      <th>75%</th>\n",
       "      <td>NaN</td>\n",
       "      <td>32.000000</td>\n",
       "      <td>6.750000</td>\n",
       "      <td>NaN</td>\n",
       "    </tr>\n",
       "    <tr>\n",
       "      <th>max</th>\n",
       "      <td>NaN</td>\n",
       "      <td>35.000000</td>\n",
       "      <td>7.000000</td>\n",
       "      <td>NaN</td>\n",
       "    </tr>\n",
       "  </tbody>\n",
       "</table>\n",
       "</div>"
      ],
      "text/plain": [
       "             day  temperature  windspeed event\n",
       "count          6     6.000000   6.000000     6\n",
       "unique         6          NaN        NaN     3\n",
       "top     1/3/2017          NaN        NaN  Rain\n",
       "freq           1          NaN        NaN     2\n",
       "mean         NaN    30.333333   4.666667   NaN\n",
       "std          NaN     3.829708   2.338090   NaN\n",
       "min          NaN    24.000000   2.000000   NaN\n",
       "25%          NaN    28.750000   2.500000   NaN\n",
       "50%          NaN    31.500000   5.000000   NaN\n",
       "75%          NaN    32.000000   6.750000   NaN\n",
       "max          NaN    35.000000   7.000000   NaN"
      ]
     },
     "execution_count": 80,
     "metadata": {},
     "output_type": "execute_result"
    }
   ],
   "source": [
    "df.describe(include='all')"
   ]
  },
  {
   "cell_type": "code",
   "execution_count": 84,
   "id": "indian-height",
   "metadata": {
    "ExecuteTime": {
     "end_time": "2021-04-01T15:10:26.791953Z",
     "start_time": "2021-04-01T15:10:26.774385Z"
    }
   },
   "outputs": [
    {
     "data": {
      "text/html": [
       "<div>\n",
       "<style scoped>\n",
       "    .dataframe tbody tr th:only-of-type {\n",
       "        vertical-align: middle;\n",
       "    }\n",
       "\n",
       "    .dataframe tbody tr th {\n",
       "        vertical-align: top;\n",
       "    }\n",
       "\n",
       "    .dataframe thead th {\n",
       "        text-align: right;\n",
       "    }\n",
       "</style>\n",
       "<table border=\"1\" class=\"dataframe\">\n",
       "  <thead>\n",
       "    <tr style=\"text-align: right;\">\n",
       "      <th></th>\n",
       "      <th>Year</th>\n",
       "      <th>Country</th>\n",
       "      <th>Winner</th>\n",
       "      <th>GoalScored</th>\n",
       "    </tr>\n",
       "  </thead>\n",
       "  <tbody>\n",
       "    <tr>\n",
       "      <th>0</th>\n",
       "      <td>1990</td>\n",
       "      <td>Italy</td>\n",
       "      <td>Germany</td>\n",
       "      <td>115</td>\n",
       "    </tr>\n",
       "    <tr>\n",
       "      <th>1</th>\n",
       "      <td>1994</td>\n",
       "      <td>USA</td>\n",
       "      <td>Brazil</td>\n",
       "      <td>141</td>\n",
       "    </tr>\n",
       "    <tr>\n",
       "      <th>2</th>\n",
       "      <td>1998</td>\n",
       "      <td>France</td>\n",
       "      <td>France</td>\n",
       "      <td>171</td>\n",
       "    </tr>\n",
       "    <tr>\n",
       "      <th>3</th>\n",
       "      <td>2002</td>\n",
       "      <td>Japan</td>\n",
       "      <td>Brazil</td>\n",
       "      <td>161</td>\n",
       "    </tr>\n",
       "  </tbody>\n",
       "</table>\n",
       "</div>"
      ],
      "text/plain": [
       "   Year Country   Winner  GoalScored\n",
       "0  1990   Italy  Germany         115\n",
       "1  1994     USA   Brazil         141\n",
       "2  1998  France   France         171\n",
       "3  2002   Japan   Brazil         161"
      ]
     },
     "execution_count": 84,
     "metadata": {},
     "output_type": "execute_result"
    }
   ],
   "source": [
    "df_dict = {'Year' : [1990, 1994, 1998, 2002],\n",
    "'Country' : ['Italy', 'USA', 'France', 'Japan'],\n",
    "'Winner' : ['Germany', 'Brazil', 'France', 'Brazil'],\n",
    "'GoalScored' : [115, 141, 171, 161]\n",
    "} \n",
    "pd.DataFrame(df_dict)"
   ]
  },
  {
   "cell_type": "code",
   "execution_count": 86,
   "id": "comparative-locator",
   "metadata": {
    "ExecuteTime": {
     "end_time": "2021-04-01T15:13:33.162222Z",
     "start_time": "2021-04-01T15:13:33.148558Z"
    }
   },
   "outputs": [
    {
     "data": {
      "text/html": [
       "<div>\n",
       "<style scoped>\n",
       "    .dataframe tbody tr th:only-of-type {\n",
       "        vertical-align: middle;\n",
       "    }\n",
       "\n",
       "    .dataframe tbody tr th {\n",
       "        vertical-align: top;\n",
       "    }\n",
       "\n",
       "    .dataframe thead th {\n",
       "        text-align: right;\n",
       "    }\n",
       "</style>\n",
       "<table border=\"1\" class=\"dataframe\">\n",
       "  <thead>\n",
       "    <tr style=\"text-align: right;\">\n",
       "      <th></th>\n",
       "      <th>0</th>\n",
       "      <th>1</th>\n",
       "      <th>2</th>\n",
       "      <th>3</th>\n",
       "    </tr>\n",
       "  </thead>\n",
       "  <tbody>\n",
       "    <tr>\n",
       "      <th>0</th>\n",
       "      <td>1990</td>\n",
       "      <td>1994</td>\n",
       "      <td>1998</td>\n",
       "      <td>2002</td>\n",
       "    </tr>\n",
       "    <tr>\n",
       "      <th>1</th>\n",
       "      <td>Italy</td>\n",
       "      <td>USA</td>\n",
       "      <td>France</td>\n",
       "      <td>Japan</td>\n",
       "    </tr>\n",
       "    <tr>\n",
       "      <th>2</th>\n",
       "      <td>Germany</td>\n",
       "      <td>Brazil</td>\n",
       "      <td>France</td>\n",
       "      <td>Brazil</td>\n",
       "    </tr>\n",
       "    <tr>\n",
       "      <th>3</th>\n",
       "      <td>115</td>\n",
       "      <td>141</td>\n",
       "      <td>171</td>\n",
       "      <td>161</td>\n",
       "    </tr>\n",
       "  </tbody>\n",
       "</table>\n",
       "</div>"
      ],
      "text/plain": [
       "         0       1       2       3\n",
       "0     1990    1994    1998    2002\n",
       "1    Italy     USA  France   Japan\n",
       "2  Germany  Brazil  France  Brazil\n",
       "3      115     141     171     161"
      ]
     },
     "execution_count": 86,
     "metadata": {},
     "output_type": "execute_result"
    }
   ],
   "source": [
    "df_tuple = [(1990, 1994, 1998, 2002),\n",
    "('Italy', 'USA', 'France', 'Japan'),\n",
    "('Germany', 'Brazil', 'France', 'Brazil'),\n",
    "(115, 141, 171, 161),\n",
    "] \n",
    "pd.DataFrame(df_tuple)"
   ]
  },
  {
   "cell_type": "code",
   "execution_count": null,
   "id": "military-singing",
   "metadata": {},
   "outputs": [],
   "source": []
  },
  {
   "cell_type": "code",
   "execution_count": null,
   "id": "specified-divorce",
   "metadata": {},
   "outputs": [],
   "source": []
  },
  {
   "cell_type": "code",
   "execution_count": null,
   "id": "isolated-vatican",
   "metadata": {},
   "outputs": [],
   "source": []
  },
  {
   "cell_type": "code",
   "execution_count": null,
   "id": "direct-seeker",
   "metadata": {},
   "outputs": [],
   "source": []
  }
 ],
 "metadata": {
  "kernelspec": {
   "display_name": "Python 3",
   "language": "python",
   "name": "python3"
  },
  "language_info": {
   "codemirror_mode": {
    "name": "ipython",
    "version": 3
   },
   "file_extension": ".py",
   "mimetype": "text/x-python",
   "name": "python",
   "nbconvert_exporter": "python",
   "pygments_lexer": "ipython3",
   "version": "3.8.3"
  },
  "latex_envs": {
   "LaTeX_envs_menu_present": true,
   "autoclose": false,
   "autocomplete": true,
   "bibliofile": "biblio.bib",
   "cite_by": "apalike",
   "current_citInitial": 1,
   "eqLabelWithNumbers": true,
   "eqNumInitial": 1,
   "hotkeys": {
    "equation": "Ctrl-E",
    "itemize": "Ctrl-I"
   },
   "labels_anchors": false,
   "latex_user_defs": false,
   "report_style_numbering": false,
   "user_envs_cfg": false
  },
  "varInspector": {
   "cols": {
    "lenName": 16,
    "lenType": 16,
    "lenVar": 40
   },
   "kernels_config": {
    "python": {
     "delete_cmd_postfix": "",
     "delete_cmd_prefix": "del ",
     "library": "var_list.py",
     "varRefreshCmd": "print(var_dic_list())"
    },
    "r": {
     "delete_cmd_postfix": ") ",
     "delete_cmd_prefix": "rm(",
     "library": "var_list.r",
     "varRefreshCmd": "cat(var_dic_list()) "
    }
   },
   "types_to_exclude": [
    "module",
    "function",
    "builtin_function_or_method",
    "instance",
    "_Feature"
   ],
   "window_display": false
  }
 },
 "nbformat": 4,
 "nbformat_minor": 5
}
