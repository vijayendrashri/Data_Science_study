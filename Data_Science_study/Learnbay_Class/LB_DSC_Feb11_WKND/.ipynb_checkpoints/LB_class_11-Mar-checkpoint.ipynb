{
 "cells": [
  {
   "cell_type": "code",
   "execution_count": 10,
   "metadata": {
    "ExecuteTime": {
     "end_time": "2021-03-11T15:41:54.196352Z",
     "start_time": "2021-03-11T15:41:54.188349Z"
    }
   },
   "outputs": [
    {
     "data": {
      "text/plain": [
       "[10, 12, 14, 16, 18]"
      ]
     },
     "execution_count": 10,
     "metadata": {},
     "output_type": "execute_result"
    }
   ],
   "source": [
    "lst = [10,12,1,3,14,15,16,17,18]\n",
    "out_lst=[]\n",
    "def my_filter(seq):\n",
    "    for i in seq:\n",
    "        if (lambda i:True if i%2==0 else False)(i) :\n",
    "            out_lst.append(i)\n",
    "        else:\n",
    "            continue\n",
    "    return out_lst\n",
    "my_filter(lst)"
   ]
  },
  {
   "cell_type": "code",
   "execution_count": 15,
   "metadata": {
    "ExecuteTime": {
     "end_time": "2021-03-11T15:45:25.355569Z",
     "start_time": "2021-03-11T15:45:25.350568Z"
    }
   },
   "outputs": [
    {
     "name": "stdout",
     "output_type": "stream",
     "text": [
      "[(1, 2), (3, 4), (4, 5), (7, 5), (9, 7)]\n"
     ]
    }
   ],
   "source": [
    "tup = [(9,7),(4,5),(7,5),(3,4),(1,2)]\n",
    "tup.sort(key=lambda tpl:tpl[-1])\n",
    "print(tup)"
   ]
  },
  {
   "cell_type": "code",
   "execution_count": 27,
   "metadata": {
    "ExecuteTime": {
     "end_time": "2021-03-11T16:06:02.551876Z",
     "start_time": "2021-03-11T16:06:02.543871Z"
    }
   },
   "outputs": [
    {
     "data": {
      "text/plain": [
       "['Abhishek', 'Anubhav', 'Akhil']"
      ]
     },
     "execution_count": 27,
     "metadata": {},
     "output_type": "execute_result"
    }
   ],
   "source": [
    "lst = ['hema@gmail.com', 'Abhishek@gmail.com', 'Anubhav@yahoo.com', 'Akhil@rediffmail.com', 'Sita@hotmail.com']\n",
    "lst1=filter(lambda x: x.index('@')>4,lst)\n",
    "list(map(lambda email: email[:email.index(\"@\")],lst1))"
   ]
  },
  {
   "cell_type": "code",
   "execution_count": 23,
   "metadata": {
    "ExecuteTime": {
     "end_time": "2021-03-11T15:59:19.115178Z",
     "start_time": "2021-03-11T15:59:19.108176Z"
    }
   },
   "outputs": [
    {
     "data": {
      "text/plain": [
       "['hema@gmail.com',\n",
       " 'Abhishek@gmail.com',\n",
       " 'Anubhav@yahoo.com',\n",
       " 'Akhil@rediffmail.com',\n",
       " 'Sita@hotmail.com']"
      ]
     },
     "execution_count": 23,
     "metadata": {},
     "output_type": "execute_result"
    }
   ],
   "source": [
    "list(filter(lambda x: x.split('@')[-1],lst))"
   ]
  },
  {
   "cell_type": "code",
   "execution_count": 25,
   "metadata": {
    "ExecuteTime": {
     "end_time": "2021-03-11T15:59:56.645108Z",
     "start_time": "2021-03-11T15:59:56.639101Z"
    }
   },
   "outputs": [
    {
     "data": {
      "text/plain": [
       "[False, True, True, True, False]"
      ]
     },
     "execution_count": 25,
     "metadata": {},
     "output_type": "execute_result"
    }
   ],
   "source": [
    "list(map(lambda x: x.index('@')>4,lst))"
   ]
  }
 ],
 "metadata": {
  "kernelspec": {
   "display_name": "Python 3",
   "language": "python",
   "name": "python3"
  },
  "language_info": {
   "codemirror_mode": {
    "name": "ipython",
    "version": 3
   },
   "file_extension": ".py",
   "mimetype": "text/x-python",
   "name": "python",
   "nbconvert_exporter": "python",
   "pygments_lexer": "ipython3",
   "version": "3.8.3"
  },
  "latex_envs": {
   "LaTeX_envs_menu_present": true,
   "autoclose": false,
   "autocomplete": true,
   "bibliofile": "biblio.bib",
   "cite_by": "apalike",
   "current_citInitial": 1,
   "eqLabelWithNumbers": true,
   "eqNumInitial": 1,
   "hotkeys": {
    "equation": "Ctrl-E",
    "itemize": "Ctrl-I"
   },
   "labels_anchors": false,
   "latex_user_defs": false,
   "report_style_numbering": false,
   "user_envs_cfg": false
  },
  "varInspector": {
   "cols": {
    "lenName": 16,
    "lenType": 16,
    "lenVar": 40
   },
   "kernels_config": {
    "python": {
     "delete_cmd_postfix": "",
     "delete_cmd_prefix": "del ",
     "library": "var_list.py",
     "varRefreshCmd": "print(var_dic_list())"
    },
    "r": {
     "delete_cmd_postfix": ") ",
     "delete_cmd_prefix": "rm(",
     "library": "var_list.r",
     "varRefreshCmd": "cat(var_dic_list()) "
    }
   },
   "types_to_exclude": [
    "module",
    "function",
    "builtin_function_or_method",
    "instance",
    "_Feature"
   ],
   "window_display": false
  }
 },
 "nbformat": 4,
 "nbformat_minor": 2
}
