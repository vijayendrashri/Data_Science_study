{
 "cells": [
  {
   "cell_type": "code",
   "execution_count": 1,
   "id": "innovative-condition",
   "metadata": {
    "ExecuteTime": {
     "end_time": "2021-03-07T12:21:09.410771Z",
     "start_time": "2021-03-07T12:21:06.709581Z"
    }
   },
   "outputs": [
    {
     "name": "stdout",
     "output_type": "stream",
     "text": [
      "Enter the digit form 0 to 9 : 6\n",
      "Entered Digit is : Six\n"
     ]
    }
   ],
   "source": [
    "# Q. ​ W. A P. which takes one number ​ from​ ​ 0 ​ to ​ 9 ​ ​ from​ the user ​ and​ prints\n",
    "# it ​ in​ the word. And ​ if​ the word ​ is​ ​ not​ ​ from​ ​ 0 ​ to ​ 9 ​ then\n",
    "# it should print that number ​ is​ outside of the range ​ and​ program should\n",
    "# exit.\n",
    "# For exapmple:-\n",
    "# input = ​ 1\n",
    "# output = one\n",
    "\n",
    "n=int(input(\"Enter the digit form 0 to 9 : \"))\n",
    "print(\"Entered Digit is : \",end='')\n",
    "if n==0:\n",
    "    print(\"Zero\")\n",
    "elif n==1:\n",
    "    print(\"One\")\n",
    "elif n==2:\n",
    "    print(\"Two\")\n",
    "elif n==3:\n",
    "    print(\"Three\")\n",
    "elif n==4:\n",
    "    print(\"Four\")\n",
    "elif n==5:\n",
    "    print(\"Five\")\n",
    "elif n==6:\n",
    "    print(\"Six\")\n",
    "elif n==7:\n",
    "    print(\"Seven\")\n",
    "elif n==8:\n",
    "    print(\"Eight\")\n",
    "elif n==9:\n",
    "    print(\"Nine\")\n",
    "else:\n",
    "    print(\"Not a Digit\")"
   ]
  },
  {
   "cell_type": "code",
   "execution_count": 2,
   "id": "premium-toner",
   "metadata": {
    "ExecuteTime": {
     "end_time": "2021-03-07T12:21:14.039448Z",
     "start_time": "2021-03-07T12:21:09.414021Z"
    }
   },
   "outputs": [
    {
     "name": "stdout",
     "output_type": "stream",
     "text": [
      "Please select any one operation from below:-\n",
      "To add enter 1\n",
      "To subtract enter 2\n",
      "To multiply enter  3\n",
      "To divide enter 4\n",
      "To divide and find quotient enter 5\n",
      "To divide and find remainder enter  6\n",
      "To divide and find num1 to the power of num2 enter  7\n",
      "To Come out of the program enter 8Enter the digit form 1 to 8 : 4\n",
      "Enter first digit : 456\n",
      "Enter second digit : 456\n",
      "Divide :  1.0\n"
     ]
    }
   ],
   "source": [
    "# W. A P. to implement calculator but the operation to be done and two\n",
    "# numbers will be taken as input from user:-\n",
    "print(\"Please select any one operation from below:-\\n\"\n",
    "      \"To add enter 1\\n\"\n",
    "      \"To subtract enter 2\\n\"\n",
    "      \"To multiply enter  3\\n\"\n",
    "      \"To divide enter 4\\n\"\n",
    "      \"To divide and find quotient enter 5\\n\"\n",
    "      \"To divide and find remainder enter  6\\n\"\n",
    "      \"To divide and find num1 to the power of num2 enter  7\\n\"\n",
    "      \"To Come out of the program enter 8\", end=\"\")\n",
    "\n",
    "n = int(input(\"Enter the digit form 1 to 8 : \"))\n",
    "if n in range(1, 8):\n",
    "    a = int(input(\"Enter first digit : \"))\n",
    "    b = int(input(\"Enter second digit : \"))\n",
    "    if n == 1:\n",
    "        print(\"Addition : \", a+b)\n",
    "    elif n == 2:\n",
    "        print(\"Substraction : \", a-b)\n",
    "    elif n == 3:\n",
    "        print(\"Multiply : \", a*b)\n",
    "    elif n == 4:\n",
    "        print(\"Divide : \", a/b)\n",
    "    elif n == 5:\n",
    "        print(\"Divide and Quotient : \", a//b)\n",
    "    elif n == 6:\n",
    "        print(\"Divide and remainder :\", a % b)\n",
    "    elif n == 7:\n",
    "        print(\"Power of b on a :\", a**b)\n",
    "else:\n",
    "    print(\"Exit.\")"
   ]
  },
  {
   "cell_type": "code",
   "execution_count": 30,
   "id": "naval-basket",
   "metadata": {
    "ExecuteTime": {
     "end_time": "2021-03-08T18:13:27.886640Z",
     "start_time": "2021-03-08T18:13:25.055138Z"
    }
   },
   "outputs": [
    {
     "name": "stdout",
     "output_type": "stream",
     "text": [
      "Enter a year1900\n",
      "It's a leap year\n"
     ]
    }
   ],
   "source": [
    "# W A P to check whether a year entered by user is an leap year or not?\n",
    "year = int(input(\"Enter a year\"))\n",
    "if (year % 4 == 0):\n",
    "    print(\"It's a leap year\")\n",
    "else:\n",
    "    print(\"It's not a leap year\")"
   ]
  },
  {
   "cell_type": "code",
   "execution_count": null,
   "id": "abstract-treasury",
   "metadata": {
    "ExecuteTime": {
     "start_time": "2021-03-07T12:21:06.695Z"
    }
   },
   "outputs": [],
   "source": [
    "# W A P which takes one number from the user and checks whether it is an even or odd number?\n",
    "# If it even then prints number is even number else prints that number is odd number.\n",
    "year = int(input(\"Enter a number \"))\n",
    "if (year % 2 == 0):\n",
    "    print(\"Even number\")\n",
    "else:\n",
    "    print(\"Odd number\")"
   ]
  },
  {
   "cell_type": "code",
   "execution_count": null,
   "id": "front-startup",
   "metadata": {
    "ExecuteTime": {
     "start_time": "2021-03-07T12:21:06.697Z"
    }
   },
   "outputs": [],
   "source": [
    "# W A P which takes two numbers from the user  and prints below output:-\n",
    "# 1. num1  is greater than num2  if num1  is greater than num2\n",
    "# 2. num1  is smaller than num2  if num1  is smaller than num2\n",
    "# 3. num1 is equal to num2  if num1  and num2 are equal\n",
    "num1 = int(input(\"Enter 1st number \"))\n",
    "num2 = int(input(\"Enter 2nd number \"))\n",
    "if num1 == num2:\n",
    "    print(\"Numbers are equal\")\n",
    "elif num1 > num2:\n",
    "    print(f\"{num1} is greater than {num2}\")\n",
    "else:\n",
    "    print(f\"{num1} is smaller than {num2}\")\n",
    "    \n",
    "print(\"=================== another way==============\")    \n",
    "print (f\"Both {num1} and {num2} are equal\" if num1 == num2 else f\"{num1} is greater than {num2}\"\n",
    "        if num1 > num2 else f\"{num1} is smaller than {num2}\") "
   ]
  },
  {
   "cell_type": "code",
   "execution_count": 54,
   "id": "military-ready",
   "metadata": {
    "ExecuteTime": {
     "end_time": "2021-03-08T18:41:25.200522Z",
     "start_time": "2021-03-08T18:41:25.193725Z"
    }
   },
   "outputs": [
    {
     "name": "stdout",
     "output_type": "stream",
     "text": [
      "55\n"
     ]
    }
   ],
   "source": [
    "#Write a Python program to find the length of the my_str using loop:-\n",
    "my_str = 'Write a Python program to find the length of the my_str'\n",
    "count=0\n",
    "for i in my_str:\n",
    "    count+=1\n",
    "print(count)"
   ]
  },
  {
   "cell_type": "code",
   "execution_count": 55,
   "id": "pregnant-prince",
   "metadata": {
    "ExecuteTime": {
     "end_time": "2021-03-08T18:41:26.520944Z",
     "start_time": "2021-03-08T18:41:26.513258Z"
    }
   },
   "outputs": [
    {
     "name": "stdout",
     "output_type": "stream",
     "text": [
      "9\n"
     ]
    }
   ],
   "source": [
    "# Write a Python program to find the total number of times letter 'p'\n",
    "# is appeared in the below string using loop:-\n",
    "Input_str = 'peter piper picked a peck of pickled peppers.'\n",
    "count = 0\n",
    "for i in Input_str:\n",
    "    if 'p' == i:\n",
    "        count += 1\n",
    "print(count)"
   ]
  },
  {
   "cell_type": "code",
   "execution_count": 56,
   "id": "hispanic-trigger",
   "metadata": {
    "ExecuteTime": {
     "end_time": "2021-03-08T18:41:31.449435Z",
     "start_time": "2021-03-08T18:41:31.441421Z"
    }
   },
   "outputs": [
    {
     "name": "stdout",
     "output_type": "stream",
     "text": [
      "0\n",
      "6\n",
      "8\n",
      "12\n",
      "21\n",
      "29\n",
      "37\n",
      "39\n",
      "40\n"
     ]
    }
   ],
   "source": [
    "# Write a Python Program, to print all the indexes of all occurences of letter 'p' appeared in the string using loop.\n",
    "in_str = 'peter piper picked a peck of pickled peppers.'\n",
    "# for i,c in enumerate(in_str):\n",
    "#     if 'p'==c:\n",
    "#         print('By enumerater : ',i)\n",
    "\n",
    "for i in range(len(in_str)):\n",
    "    if 'p' == in_str[i]:\n",
    "        print(i)"
   ]
  },
  {
   "cell_type": "code",
   "execution_count": 57,
   "id": "loved-strip",
   "metadata": {
    "ExecuteTime": {
     "end_time": "2021-03-08T18:41:48.464116Z",
     "start_time": "2021-03-08T18:41:48.455985Z"
    }
   },
   "outputs": [
    {
     "name": "stdout",
     "output_type": "stream",
     "text": [
      "['peter', 'piper', 'picked', 'a', 'peck', 'of', 'pickled', 'peppers.']\n"
     ]
    }
   ],
   "source": [
    "# Write a python program to find below output using loop\n",
    "# Input:- 'peter piper picked a peck of pickled peppers.'\n",
    "# Output:- ['peter','piper','picked','a','peck','of','pickled','peppers']\n",
    "\n",
    "in_str = 'peter piper picked a peck of pickled peppers.'\n",
    "str2=''\n",
    "lst=[]\n",
    "for i in range(len(in_str)):\n",
    "    if in_str[i]!=' ':\n",
    "        str2 += in_str[i]\n",
    "    else:\n",
    "        lst.append(str2)\n",
    "        str2 =''\n",
    "lst.append(str2)    \n",
    "print(lst)"
   ]
  },
  {
   "cell_type": "code",
   "execution_count": 61,
   "id": "existing-projector",
   "metadata": {
    "ExecuteTime": {
     "end_time": "2021-03-08T18:42:56.871504Z",
     "start_time": "2021-03-08T18:42:56.862261Z"
    }
   },
   "outputs": [
    {
     "name": "stdout",
     "output_type": "stream",
     "text": [
      "peppers. pickled of peck a picked piper peter\n"
     ]
    }
   ],
   "source": [
    "# Write a python program to find below output using loop.\n",
    "# Output:- 'peppers pickled of peck a picked piper peter'\n",
    "in_str = 'peter piper picked a peck of pickled peppers.'\n",
    "str2 = ''\n",
    "lst = []\n",
    "for i in range(len(in_str)-1,-1, -1):\n",
    "    if in_str[i] != ' ':\n",
    "        str2 += in_str[i]\n",
    "    else:\n",
    "        lst.append(str2[::-1])\n",
    "        str2 = ''\n",
    "lst.append(str2[::-1])\n",
    "print(' '.join(lst))"
   ]
  },
  {
   "cell_type": "code",
   "execution_count": 62,
   "id": "documentary-lawrence",
   "metadata": {
    "ExecuteTime": {
     "end_time": "2021-03-08T18:43:01.557320Z",
     "start_time": "2021-03-08T18:43:01.549466Z"
    }
   },
   "outputs": [
    {
     "name": "stdout",
     "output_type": "stream",
     "text": [
      ".sreppep delkcip fo kcep a dekcip repip retep\n"
     ]
    }
   ],
   "source": [
    "# Write a python program to find below output using loop.\n",
    "#Output:-'.sreppep delkcip fo kcep a dekcip repip retep'\n",
    "in_str = 'peter piper picked a peck of pickled peppers.'\n",
    "str2 = ''\n",
    "lst = []\n",
    "for i in range(len(in_str)-1,-1, -1):\n",
    "    if in_str[i] != ' ':\n",
    "        str2 += in_str[i]\n",
    "    else:\n",
    "        lst.append(str2)\n",
    "        str2 = ''\n",
    "lst.append(str2)\n",
    "print(' '.join(lst))"
   ]
  },
  {
   "cell_type": "code",
   "execution_count": 64,
   "id": "competent-sally",
   "metadata": {
    "ExecuteTime": {
     "end_time": "2021-03-08T18:43:46.614369Z",
     "start_time": "2021-03-08T18:43:46.604241Z"
    }
   },
   "outputs": [
    {
     "name": "stdout",
     "output_type": "stream",
     "text": [
      "retep repip dekcip a kcep fo delkcip .sreppep\n"
     ]
    }
   ],
   "source": [
    "# Write a python program to find below output using loop:-\n",
    "# Output:- retep repip dekcip a kcep fo delkcip sreppep'\n",
    "in_str = 'peter piper picked a peck of pickled peppers.'\n",
    "str2 = ''\n",
    "lst = []\n",
    "for i in range(len(in_str)):\n",
    "    if in_str[i] != ' ':\n",
    "        str2 += in_str[i]\n",
    "    else:\n",
    "        lst.append(str2[::-1])\n",
    "        str2 = ''\n",
    "lst.append(str2[::-1])\n",
    "print(' '.join(lst))"
   ]
  },
  {
   "cell_type": "code",
   "execution_count": 65,
   "id": "backed-threshold",
   "metadata": {
    "ExecuteTime": {
     "end_time": "2021-03-08T18:44:34.155036Z",
     "start_time": "2021-03-08T18:44:34.145687Z"
    }
   },
   "outputs": [
    {
     "name": "stdout",
     "output_type": "stream",
     "text": [
      "Peter Piper Picked A Peck Of Pickled Peppers.\n"
     ]
    }
   ],
   "source": [
    "# Write a python program to find below output using loop\n",
    "#Output:-'Peter Piper Picked A Peck Of Pickled Peppers'\n",
    "in_str = 'peter piper picked a peck of pickled peppers.'\n",
    "str2 = ''\n",
    "lst = []\n",
    "count = 0\n",
    "for i in range(len(in_str)):\n",
    "    if in_str[i] != ' ':\n",
    "        if count == 0:\n",
    "            str2 = in_str[i].upper()\n",
    "        else:\n",
    "            str2 += in_str[i]\n",
    "        count += 1\n",
    "    else:\n",
    "        lst.append(str2)\n",
    "        str2 = ''\n",
    "        count = 0\n",
    "lst.append(str2)\n",
    "print(' '.join(lst))"
   ]
  },
  {
   "cell_type": "code",
   "execution_count": 66,
   "id": "reverse-links",
   "metadata": {
    "ExecuteTime": {
     "end_time": "2021-03-08T18:44:38.529323Z",
     "start_time": "2021-03-08T18:44:38.520796Z"
    }
   },
   "outputs": [
    {
     "name": "stdout",
     "output_type": "stream",
     "text": [
      "Peter piper picked a peck of pickled peppers.\n"
     ]
    }
   ],
   "source": [
    "# Write a python program to find below output using loop\n",
    "#Output:- 'Peter piper picked a peck of pickled peppers'\n",
    "in_str = 'peter piper picked a peck of pickled peppers.'\n",
    "str2 = ''\n",
    "lst = []\n",
    "for i in range(len(in_str)):\n",
    "    if i == 0:\n",
    "        str2 = in_str[i].upper()\n",
    "    else:\n",
    "        str2 += in_str[i]\n",
    "\n",
    "print(str2)"
   ]
  },
  {
   "cell_type": "code",
   "execution_count": 103,
   "id": "internal-yacht",
   "metadata": {
    "ExecuteTime": {
     "end_time": "2021-03-08T19:07:57.052055Z",
     "start_time": "2021-03-08T19:07:57.044749Z"
    }
   },
   "outputs": [
    {
     "name": "stdout",
     "output_type": "stream",
     "text": [
      "29\n",
      "Peter Piper Picked A Peck Of Pickl\n"
     ]
    }
   ],
   "source": [
    "# Write a python program to implement index method using loop. If\n",
    "# sub_str is found in my_str then it will print the index\n",
    "# of first occurrence of first character of matching string in my_str:-\n",
    "# Input:- my_str = 'Peter Piper Picked A Peck Of Pickled Peppers.'\n",
    "# sub_str = 'Pickl\n",
    "my_str1 = 'Peter Piper Picked A Peck Of Pickled Peppers.'\n",
    "# print(my_str.find('Pickl'))\n",
    "str2 = ''\n",
    "for i in range(len(my_str)):\n",
    "    if 'Pickl' in str2:\n",
    "        print(i-5)\n",
    "        break\n",
    "    else:\n",
    "        str2 += my_str[i]\n",
    "print(str2)"
   ]
  },
  {
   "cell_type": "code",
   "execution_count": 88,
   "id": "incomplete-edwards",
   "metadata": {
    "ExecuteTime": {
     "end_time": "2021-03-08T18:59:50.496522Z",
     "start_time": "2021-03-08T18:59:50.490254Z"
    }
   },
   "outputs": [
    {
     "name": "stdout",
     "output_type": "stream",
     "text": [
      "Peter Piper Picked A Pack Of Pickled Peppers.\n"
     ]
    }
   ],
   "source": [
    "# Write a python program to implement replace method using loop. If\n",
    "# sub_str is found in my_str then it will replace the first occurrence of sub_str \n",
    "# with new_str else it will will print sub_str not found:-\n",
    "# Input:- my_str = 'Peter Piper Picked A Peck Of Pickled Peppers.',\n",
    "# sub_str = 'Peck' , new_str ='Pack'\n",
    "my_str1 = 'Peter Piper Picked A Peck Of Pickled Peppers.'\n",
    "# if my_str.find('Peck')!= -1:\n",
    "#     my_str = my_str.replace(\"Peck\",\"Pack\")\n",
    "# print(my_str)\n",
    "str2=''\n",
    "for i in range(len(my_str1)):\n",
    "    if 'Peck' in str2:\n",
    "        str2 = str2.replace('Peck','Pack ')\n",
    "    else:\n",
    "        str2 += my_str1[i]\n",
    "print(str2)"
   ]
  },
  {
   "cell_type": "code",
   "execution_count": 110,
   "id": "chronic-testimony",
   "metadata": {
    "ExecuteTime": {
     "end_time": "2021-03-08T19:14:31.436017Z",
     "start_time": "2021-03-08T19:14:31.427434Z"
    }
   },
   "outputs": [
    {
     "name": "stdout",
     "output_type": "stream",
     "text": [
      "********************Peck*********************\n"
     ]
    }
   ],
   "source": [
    "# Write a python program to find below output (implements rjust and ljust) using loop:-\n",
    "# Input:- 'Peter Piper Picked A Peck Of Pickled Peppers.',\n",
    "# sub_str = 'Peck',\n",
    "# Output:- '*********************Peck********************'\n",
    "my_str = 'Peter Piper Picked A Peck Of Pickled Peppers.'\n",
    "# indexId = Input.find('Peck')\n",
    "# out_str= Input[indexId:indexId+4]\n",
    "# print(out_str.ljust(25,\"*\").rjust(45,\"*\"))\n",
    "str2 = ''\n",
    "ind = 0\n",
    "for i in range(len(my_str)):\n",
    "    if 'Peck' in str2:\n",
    "        ind = i-4\n",
    "        break\n",
    "    else:\n",
    "        str2 += my_str[i]\n",
    "out_str = my_str[ind:ind+4]\n",
    "print(out_str.ljust(25, \"*\").rjust(45, '*'))"
   ]
  },
  {
   "cell_type": "code",
   "execution_count": 8,
   "id": "unknown-violin",
   "metadata": {
    "ExecuteTime": {
     "end_time": "2021-03-13T12:39:04.412827Z",
     "start_time": "2021-03-13T12:39:04.403289Z"
    }
   },
   "outputs": [
    {
     "name": "stdout",
     "output_type": "stream",
     "text": [
      "['This', 'is', 'Python class']\n"
     ]
    }
   ],
   "source": [
    "# Write a python program to find below output using loop:-\n",
    "# Input:-'This is Python class' , sep = ' is',\n",
    "# Output:- ['This' , 'is' , 'Python class' ]\n",
    "Input = 'This is Python class'\n",
    "arr = []\n",
    "str1 = ''\n",
    "sep = 'is'\n",
    "for i in Input:\n",
    "    if i != ' ':\n",
    "        str1 += i\n",
    "    else:\n",
    "        if sep not in arr:\n",
    "            arr.append(str1)\n",
    "            str1 = ''\n",
    "        else:\n",
    "            str1 = str1 + ' '\n",
    "arr.append(str1.strip())\n",
    "print(arr)"
   ]
  },
  {
   "cell_type": "code",
   "execution_count": null,
   "id": "molecular-admission",
   "metadata": {},
   "outputs": [],
   "source": []
  }
 ],
 "metadata": {
  "kernelspec": {
   "display_name": "Python 3",
   "language": "python",
   "name": "python3"
  },
  "language_info": {
   "codemirror_mode": {
    "name": "ipython",
    "version": 3
   },
   "file_extension": ".py",
   "mimetype": "text/x-python",
   "name": "python",
   "nbconvert_exporter": "python",
   "pygments_lexer": "ipython3",
   "version": "3.8.3"
  },
  "latex_envs": {
   "LaTeX_envs_menu_present": true,
   "autoclose": false,
   "autocomplete": true,
   "bibliofile": "biblio.bib",
   "cite_by": "apalike",
   "current_citInitial": 1,
   "eqLabelWithNumbers": true,
   "eqNumInitial": 1,
   "hotkeys": {
    "equation": "Ctrl-E",
    "itemize": "Ctrl-I"
   },
   "labels_anchors": false,
   "latex_user_defs": false,
   "report_style_numbering": false,
   "user_envs_cfg": false
  },
  "varInspector": {
   "cols": {
    "lenName": 16,
    "lenType": 16,
    "lenVar": 40
   },
   "kernels_config": {
    "python": {
     "delete_cmd_postfix": "",
     "delete_cmd_prefix": "del ",
     "library": "var_list.py",
     "varRefreshCmd": "print(var_dic_list())"
    },
    "r": {
     "delete_cmd_postfix": ") ",
     "delete_cmd_prefix": "rm(",
     "library": "var_list.r",
     "varRefreshCmd": "cat(var_dic_list()) "
    }
   },
   "types_to_exclude": [
    "module",
    "function",
    "builtin_function_or_method",
    "instance",
    "_Feature"
   ],
   "window_display": false
  }
 },
 "nbformat": 4,
 "nbformat_minor": 5
}
