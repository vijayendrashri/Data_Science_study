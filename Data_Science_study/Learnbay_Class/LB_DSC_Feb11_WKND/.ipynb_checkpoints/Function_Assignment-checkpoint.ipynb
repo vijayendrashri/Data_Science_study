{
 "cells": [
  {
   "cell_type": "code",
   "execution_count": 1,
   "metadata": {
    "ExecuteTime": {
     "end_time": "2021-03-19T03:45:39.886075Z",
     "start_time": "2021-03-19T03:45:39.871546Z"
    },
    "id": "1YVTYu-CuCOO"
   },
   "outputs": [
    {
     "data": {
      "text/plain": [
       "9"
      ]
     },
     "execution_count": 1,
     "metadata": {},
     "output_type": "execute_result"
    }
   ],
   "source": [
    "# Define a function calls addNumber(x, y) that takes in two number and returns the sum of the two numbers.\n",
    "\n",
    "def addNumber(x, y):\n",
    "    return x+y\n",
    "\n",
    "addNumber(4,5)\n"
   ]
  },
  {
   "cell_type": "code",
   "execution_count": 2,
   "metadata": {
    "ExecuteTime": {
     "end_time": "2021-03-19T03:45:39.973414Z",
     "start_time": "2021-03-19T03:45:39.889196Z"
    },
    "id": "1-gIq-Rju2i2"
   },
   "outputs": [
    {
     "data": {
      "text/plain": [
       "-1"
      ]
     },
     "execution_count": 2,
     "metadata": {},
     "output_type": "execute_result"
    }
   ],
   "source": [
    "# Define a function calls subtractNumber(x, y) that takes in two numbers and returns the difference of the two numbers.\n",
    "def subtractNumber(x, y):\n",
    "    return x-y\n",
    "\n",
    "subtractNumber(4,5)\n",
    "\n"
   ]
  },
  {
   "cell_type": "code",
   "execution_count": 3,
   "metadata": {
    "ExecuteTime": {
     "end_time": "2021-03-19T03:45:40.047915Z",
     "start_time": "2021-03-19T03:45:39.976806Z"
    },
    "id": "kiAE0iLbviG9"
   },
   "outputs": [
    {
     "data": {
      "text/plain": [
       "8"
      ]
     },
     "execution_count": 3,
     "metadata": {},
     "output_type": "execute_result"
    }
   ],
   "source": [
    "# Write a function getBiggerNumber(x, y) that takes in two numbers as arguments and returns the bigger number.\n",
    "def getBiggerNumber(x, y):\n",
    "    return max(x,y)\n",
    "\n",
    "getBiggerNumber(5,8)\n"
   ]
  },
  {
   "cell_type": "code",
   "execution_count": 4,
   "metadata": {
    "ExecuteTime": {
     "end_time": "2021-03-19T03:45:40.116052Z",
     "start_time": "2021-03-19T03:45:40.052301Z"
    },
    "id": "10B5oVcZh16d"
   },
   "outputs": [
    {
     "name": "stdout",
     "output_type": "stream",
     "text": [
      "4.0\n",
      "243.0\n",
      "28.274333882308138\n"
     ]
    }
   ],
   "source": [
    "# Python provides many built-in modules with many useful functions.\n",
    "# One such module is the math module. The math module provides many useful functions such as sqrt(x), pow(x, y), ceil(x), floor(x) etc. \n",
    "# You will need to do a \"import math\" before you are allowed to use the functions within the math module.\n",
    "import math\n",
    "\n",
    "# Calculate the square root of 16 and stores it in the variable a\n",
    "a = math.sqrt(16)\n",
    "print(a)\n",
    "# Calculate 3 to the power of 5 and stores it in the variable b\n",
    "b=math.pow(3,5)\n",
    "print(b)\n",
    "# Calculate area of circle with radius = 3.0 by making use of the math.pi constant and store it in the variable c\n",
    "c= math.pi*math.pow(3,2)\n",
    "print(c)\n"
   ]
  },
  {
   "cell_type": "code",
   "execution_count": 5,
   "metadata": {
    "ExecuteTime": {
     "end_time": "2021-03-19T03:45:40.189711Z",
     "start_time": "2021-03-19T03:45:40.119193Z"
    },
    "id": "Yado0B99h2E_"
   },
   "outputs": [
    {
     "name": "stdout",
     "output_type": "stream",
     "text": [
      "82.4\n",
      "32.0\n"
     ]
    }
   ],
   "source": [
    "# Write a function to convert temperature from Celsius to Fahrenheit scale.\n",
    "# oC to oF Conversion: Multipy by 9, then divide by 5, then add 32.\n",
    "\n",
    "# Note: Return a string of 2 decimal places.\n",
    "# In - Cel2Fah(28.0)\n",
    "# Out - '82.40'\n",
    "# In - Cel2Fah(0.00)\n",
    "# Out - '32.00'\n",
    "def Cel2Fah(d):\n",
    "    return (d*9)/5+32\n",
    "\n",
    "print(Cel2Fah(28.0))\n",
    "print(Cel2Fah(0.00))"
   ]
  },
  {
   "cell_type": "code",
   "execution_count": 6,
   "metadata": {
    "ExecuteTime": {
     "end_time": "2021-03-19T03:45:40.257102Z",
     "start_time": "2021-03-19T03:45:40.192200Z"
    },
    "id": "n7lsFol9h2ID"
   },
   "outputs": [
    {
     "name": "stdout",
     "output_type": "stream",
     "text": [
      "21.8\n",
      "27.5\n"
     ]
    }
   ],
   "source": [
    "# Write a function to compute the BMI of a person.\n",
    "#     BMI = weight(kg)  /  ( height(m)*height(m) )\n",
    "\n",
    "# Note: Return a string of 1 decimal place.\n",
    "# In - BMI(63, 1.7)\n",
    "# Out - '21.8'\n",
    "# In - BMI(110, 2)\n",
    "# Out - '27.5'\n",
    "\n",
    "def BMI(weight,height):\n",
    "    return round(weight/(height*height),1)\n",
    "\n",
    "print(BMI(63, 1.7))\n",
    "print(BMI(110, 2))"
   ]
  },
  {
   "cell_type": "code",
   "execution_count": 7,
   "metadata": {
    "ExecuteTime": {
     "end_time": "2021-03-19T03:45:40.347742Z",
     "start_time": "2021-03-19T03:45:40.262434Z"
    },
    "id": "f2tV1AU8h2LN"
   },
   "outputs": [
    {
     "name": "stdout",
     "output_type": "stream",
     "text": [
      "51\n",
      "100\n",
      "525\n"
     ]
    }
   ],
   "source": [
    "# Write a function percent(value, total) that takes in two numbers as arguments, and returns the percentage value as an integer.\n",
    "# In - percent(46, 90)\n",
    "# Out - 51\n",
    "# In - percent(51, 51)\n",
    "# Out - 100\n",
    "# In - percent(63, 12)\n",
    "# Out - 525\n",
    "\n",
    "def percent(value,total):\n",
    "    return round((value/total)*100)\n",
    "\n",
    "print(percent(46, 90))\n",
    "print(percent(51, 51))\n",
    "print(percent(63, 12))"
   ]
  },
  {
   "cell_type": "code",
   "execution_count": 8,
   "metadata": {
    "ExecuteTime": {
     "end_time": "2021-03-19T03:45:40.415817Z",
     "start_time": "2021-03-19T03:45:40.352227Z"
    },
    "id": "QyoWR3dQh2OZ"
   },
   "outputs": [
    {
     "name": "stdout",
     "output_type": "stream",
     "text": [
      "5\n",
      "13\n"
     ]
    }
   ],
   "source": [
    "# Write a function to compute the hypotenuse given sides a and b of the triangle.\n",
    "# Hint: You can use math.sqrt(x) to compute the square root of x.\n",
    "# In - hypotenuse(3, 4)\n",
    "# Out - 5\n",
    "# In - hypotenuse(5, 12)\n",
    "# Out - 13\n",
    "\n",
    "def hypotenuse(a,b):\n",
    "    return round(math.sqrt(a**2 + b**2))\n",
    "\n",
    "print(hypotenuse(3, 4))\n",
    "print(hypotenuse(5, 12))"
   ]
  },
  {
   "cell_type": "code",
   "execution_count": 9,
   "metadata": {
    "ExecuteTime": {
     "end_time": "2021-03-19T03:45:40.481433Z",
     "start_time": "2021-03-19T03:45:40.421513Z"
    },
    "id": "XthPUigkh2Ro"
   },
   "outputs": [
    {
     "name": "stdout",
     "output_type": "stream",
     "text": [
      "9\n",
      "10\n"
     ]
    }
   ],
   "source": [
    "# Write a function getSumOfLastDigits() that takes in a list of positive numbers and returns the sum of all the last digits in the list.\n",
    "# getSumOfLastDigits([2, 3, 4])\n",
    "# 9\n",
    "# getSumOfLastDigits([1, 23, 456])\n",
    "# 10\n",
    "\n",
    "def getSumOfLastDigits(numList):\n",
    "    return sum(x % 10 for x in numList)\n",
    "\n",
    "print(getSumOfLastDigits([2, 3, 4]))\n",
    "\n",
    "print(getSumOfLastDigits([1, 23, 456]))\n"
   ]
  },
  {
   "cell_type": "code",
   "execution_count": 10,
   "metadata": {
    "ExecuteTime": {
     "end_time": "2021-03-19T03:45:40.557325Z",
     "start_time": "2021-03-19T03:45:40.484123Z"
    },
    "id": "T-uIqm9Mh2Un"
   },
   "outputs": [
    {
     "name": "stdout",
     "output_type": "stream",
     "text": [
      "My name is Lim.I am 20 years old.\n",
      "My name is Ahmad.My age is secret.\n"
     ]
    }
   ],
   "source": [
    "# Write a function that uses a default value.\n",
    "# In - introduce('Lim', 20)\n",
    "# Out - 'My name is Lim. I am 20 years old.'\n",
    "# In - introduce('Ahmad')\n",
    "# Out - 'My name is Ahmad. My age is secret.'\n",
    "def introduce(string, num=None):\n",
    "    strr = f'My name is {string}.'\n",
    "    if num is not None:\n",
    "        strr += f'I am {num} years old.'\n",
    "    else:\n",
    "        strr += \"My age is secret.\"\n",
    "    return strr\n",
    "\n",
    "\n",
    "print(introduce('Lim', 20))\n",
    "print(introduce('Ahmad'))"
   ]
  },
  {
   "cell_type": "code",
   "execution_count": 11,
   "metadata": {
    "ExecuteTime": {
     "end_time": "2021-03-19T03:45:40.625006Z",
     "start_time": "2021-03-19T03:45:40.560710Z"
    },
    "id": "h0pXo5vH6wA-"
   },
   "outputs": [
    {
     "name": "stdout",
     "output_type": "stream",
     "text": [
      "False\n",
      "True\n",
      "True\n"
     ]
    }
   ],
   "source": [
    "# Write a function isEquilateral(x, y, z) that accepts the 3 sides of a triangle as arguments. \n",
    "# The program should return True if it is an equilateral triangle.\n",
    "\n",
    "# In - isEquilateral(2, 4, 3)\n",
    "# False - False\n",
    "# In - iisEquilateral(3, 3, 3)\n",
    "# Out - True\n",
    "# In - isEquilateral(-3, -3, -3)\n",
    "# Out - False\n",
    "\n",
    "def isEquilateral(a,b,c):\n",
    "     return (a==b==c)\n",
    "    \n",
    "print(isEquilateral(2, 4, 3))\n",
    "print(isEquilateral(3, 3, 3))\n",
    "print(isEquilateral(-3, -3, -3))"
   ]
  },
  {
   "cell_type": "code",
   "execution_count": 12,
   "metadata": {
    "ExecuteTime": {
     "end_time": "2021-03-19T03:45:40.716374Z",
     "start_time": "2021-03-19T03:45:40.627614Z"
    },
    "id": "3NvcKCkn6wFy"
   },
   "outputs": [
    {
     "name": "stdout",
     "output_type": "stream",
     "text": [
      "-8\n",
      "1\n",
      "0\n"
     ]
    }
   ],
   "source": [
    "# For a quadratic equation in the form of ax2+bx+c, the discriminant, D is b2-4ac. Write a function to compute the discriminant, D.\n",
    "# In - quadratic(1, 2, 3)\n",
    "# Out - 'The discriminant is -8.'\n",
    "# In - quadratic(1, 3, 2)\n",
    "# Out - 'The discriminant is 1.'\n",
    "# In - quadratic(1, 4, 4)\n",
    "# Out - 'The discriminant is 0.'\n",
    "import cmath\n",
    "\n",
    "def quadratic(a, b, c):\n",
    "    return (b**2) - (4*a*c)\n",
    "\n",
    "print(quadratic(1, 2, 3))\n",
    "print(quadratic(1, 3, 2))\n",
    "print(quadratic(1, 4, 4))"
   ]
  },
  {
   "cell_type": "code",
   "execution_count": 13,
   "metadata": {
    "ExecuteTime": {
     "end_time": "2021-03-19T03:45:40.774683Z",
     "start_time": "2021-03-19T03:45:40.720450Z"
    },
    "colab": {
     "base_uri": "https://localhost:8080/",
     "height": 34
    },
    "id": "ihmuttBS6wJQ",
    "outputId": "0ef031e9-dec6-4ffe-b1ea-38d836dbcdcf"
   },
   "outputs": [
    {
     "name": "stdout",
     "output_type": "stream",
     "text": [
      "5\n",
      "10\n",
      "List is empty\n"
     ]
    }
   ],
   "source": [
    "# Define a function calls addFirstAndLast(x) that takes in a list of numbers and returns the sum of the first and last numbers.\n",
    "# In - addFirstAndLast([])\n",
    "# Out - 0\n",
    "# In - addFirstAndLast([2, 7, 3])\n",
    "# Out - 5\n",
    "# In - addFirstAndLast([10])\n",
    "# Out - 10\n",
    "\n",
    "def addFirstAndLast(lst):\n",
    "  if len(lst) == 1:\n",
    "    return lst[0]\n",
    "  elif lst:\n",
    "    return lst[0] + lst[-1]\n",
    "  else:\n",
    "    return 'List is empty'\n",
    "\n",
    "print(addFirstAndLast([2,7,3]))\n",
    "print(addFirstAndLast([10]))\n",
    "print(addFirstAndLast([]))"
   ]
  },
  {
   "cell_type": "code",
   "execution_count": 14,
   "metadata": {
    "ExecuteTime": {
     "end_time": "2021-03-19T03:45:40.848586Z",
     "start_time": "2021-03-19T03:45:40.778853Z"
    },
    "colab": {
     "base_uri": "https://localhost:8080/",
     "height": 34
    },
    "id": "lEt9HNPI6wM0",
    "outputId": "b07e15c3-a864-454c-aef5-1f1f0e07b39a"
   },
   "outputs": [
    {
     "data": {
      "text/plain": [
       "True"
      ]
     },
     "execution_count": 14,
     "metadata": {},
     "output_type": "execute_result"
    }
   ],
   "source": [
    "# Complete the 'lambda' expression so that it returns True if the argument is an even number, and False otherwise.\n",
    "\n",
    "(lambda num : True if num%2 == 0 else False)(6)"
   ]
  },
  {
   "cell_type": "code",
   "execution_count": 15,
   "metadata": {
    "ExecuteTime": {
     "end_time": "2021-03-19T03:45:40.915615Z",
     "start_time": "2021-03-19T03:45:40.852783Z"
    },
    "colab": {
     "base_uri": "https://localhost:8080/",
     "height": 35
    },
    "id": "JYWSZXPg6wQN",
    "outputId": "7b71e08d-573f-4d03-d5e3-e220df4c3b90"
   },
   "outputs": [
    {
     "data": {
      "text/plain": [
       "\"'A function that computes and returns the final score.\""
      ]
     },
     "execution_count": 15,
     "metadata": {},
     "output_type": "execute_result"
    }
   ],
   "source": [
    "# getScore.__doc__\n",
    "# 'A function that computes and returns the final score.'\n",
    "\n",
    "def getScore():\n",
    "  ''''A function that computes and returns the final score.'''\n",
    "  pass\n",
    "getScore.__doc__"
   ]
  },
  {
   "cell_type": "code",
   "execution_count": 16,
   "metadata": {
    "ExecuteTime": {
     "end_time": "2021-03-19T03:45:40.982266Z",
     "start_time": "2021-03-19T03:45:40.918503Z"
    },
    "colab": {
     "base_uri": "https://localhost:8080/",
     "height": 34
    },
    "id": "zmi81hi76wTK",
    "outputId": "232b4456-63ad-4582-d2cd-d888952dc957"
   },
   "outputs": [
    {
     "name": "stdout",
     "output_type": "stream",
     "text": [
      "25\n",
      "None\n",
      "100\n",
      "None\n",
      "1\n",
      "None\n"
     ]
    }
   ],
   "source": [
    "# In Python, it is possible to pass a function as a argument to another function.\n",
    "# Write a function useFunction(func, num) that takes in a function and a number as arguments.\n",
    "# The useFunction should produce the output shown in the examples given below.\n",
    "\n",
    "# def addOne(x):\n",
    "#   return x + 1\n",
    "# useFunction(addOne, 4)\n",
    "# 25\n",
    "# useFunction(addOne, 9)\n",
    "# 100\n",
    "# useFunction(addOne, 0)\n",
    "# 1\n",
    "\n",
    "\n",
    "def addOne(x):\n",
    "    return x + 1\n",
    "\n",
    "\n",
    "def useFunction(addOne, n):\n",
    "    print(addOne(n)**2)\n",
    "\n",
    "\n",
    "print(useFunction(addOne, 4))\n",
    "print(useFunction(addOne, 9))\n",
    "print(useFunction(addOne, 0))"
   ]
  },
  {
   "cell_type": "code",
   "execution_count": 17,
   "metadata": {
    "ExecuteTime": {
     "end_time": "2021-03-19T03:45:41.064577Z",
     "start_time": "2021-03-19T03:45:40.985181Z"
    },
    "id": "JJm1zFMX6wWK"
   },
   "outputs": [],
   "source": [
    "# def f1():\n",
    "#   print('This is f1 function')\n",
    "#   f1()\n",
    "# f1()"
   ]
  },
  {
   "cell_type": "code",
   "execution_count": 18,
   "metadata": {
    "ExecuteTime": {
     "end_time": "2021-03-19T03:45:41.123227Z",
     "start_time": "2021-03-19T03:45:41.067198Z"
    },
    "colab": {
     "base_uri": "https://localhost:8080/",
     "height": 34
    },
    "id": "PBvBwg0O6waD",
    "outputId": "57768b69-c749-4d88-be06-7a9d41a98de2"
   },
   "outputs": [
    {
     "name": "stdout",
     "output_type": "stream",
     "text": [
      "\\t\n"
     ]
    }
   ],
   "source": [
    "print('\\\\t')"
   ]
  }
 ],
 "metadata": {
  "colab": {
   "name": "Function_Assignment.ipynb",
   "provenance": []
  },
  "kernelspec": {
   "display_name": "Python 3",
   "language": "python",
   "name": "python3"
  },
  "language_info": {
   "codemirror_mode": {
    "name": "ipython",
    "version": 3
   },
   "file_extension": ".py",
   "mimetype": "text/x-python",
   "name": "python",
   "nbconvert_exporter": "python",
   "pygments_lexer": "ipython3",
   "version": "3.8.3"
  },
  "latex_envs": {
   "LaTeX_envs_menu_present": true,
   "autoclose": false,
   "autocomplete": true,
   "bibliofile": "biblio.bib",
   "cite_by": "apalike",
   "current_citInitial": 1,
   "eqLabelWithNumbers": true,
   "eqNumInitial": 1,
   "hotkeys": {
    "equation": "Ctrl-E",
    "itemize": "Ctrl-I"
   },
   "labels_anchors": false,
   "latex_user_defs": false,
   "report_style_numbering": false,
   "user_envs_cfg": false
  },
  "varInspector": {
   "cols": {
    "lenName": 16,
    "lenType": 16,
    "lenVar": 40
   },
   "kernels_config": {
    "python": {
     "delete_cmd_postfix": "",
     "delete_cmd_prefix": "del ",
     "library": "var_list.py",
     "varRefreshCmd": "print(var_dic_list())"
    },
    "r": {
     "delete_cmd_postfix": ") ",
     "delete_cmd_prefix": "rm(",
     "library": "var_list.r",
     "varRefreshCmd": "cat(var_dic_list()) "
    }
   },
   "types_to_exclude": [
    "module",
    "function",
    "builtin_function_or_method",
    "instance",
    "_Feature"
   ],
   "window_display": false
  }
 },
 "nbformat": 4,
 "nbformat_minor": 1
}
