{
 "cells": [
  {
   "cell_type": "code",
   "execution_count": 10,
   "metadata": {
    "ExecuteTime": {
     "end_time": "2021-03-11T15:41:54.196352Z",
     "start_time": "2021-03-11T15:41:54.188349Z"
    }
   },
   "outputs": [
    {
     "data": {
      "text/plain": [
       "[10, 12, 14, 16, 18]"
      ]
     },
     "execution_count": 10,
     "metadata": {},
     "output_type": "execute_result"
    }
   ],
   "source": [
    "lst = [10,12,1,3,14,15,16,17,18]\n",
    "out_lst=[]\n",
    "def my_filter(seq):\n",
    "    for i in seq:\n",
    "        if (lambda i:True if i%2==0 else False)(i) :\n",
    "            out_lst.append(i)\n",
    "        else:\n",
    "            continue\n",
    "    return out_lst\n",
    "my_filter(lst)"
   ]
  },
  {
   "cell_type": "code",
   "execution_count": 10,
   "metadata": {
    "ExecuteTime": {
     "end_time": "2021-04-22T12:01:07.405990Z",
     "start_time": "2021-04-22T12:01:07.400370Z"
    }
   },
   "outputs": [
    {
     "name": "stdout",
     "output_type": "stream",
     "text": [
      "[(7, 2), (3, 4), (4, 5), (9, 7), (1, 8)]\n"
     ]
    }
   ],
   "source": [
    "tup = [(9,7),(4,5),(7,2),(3,4),(1,8)]\n",
    "tup.sort(key=lambda tpl:tpl[1])\n",
    "print(tup)"
   ]
  },
  {
   "cell_type": "code",
   "execution_count": 16,
   "metadata": {
    "ExecuteTime": {
     "end_time": "2021-04-22T12:05:17.941639Z",
     "start_time": "2021-04-22T12:05:17.931093Z"
    }
   },
   "outputs": [
    {
     "data": {
      "text/plain": [
       "['Abhishek', 'Anubhav', 'Akhil']"
      ]
     },
     "execution_count": 16,
     "metadata": {},
     "output_type": "execute_result"
    }
   ],
   "source": [
    "# find name with more than 4 char\n",
    "lst = ['hema@gmail.com', 'Abhishek@gmail.com', 'Anubhav@yahoo.com', 'Akhil@rediffmail.com', 'Sita@hotmail.com']\n",
    "lst1=filter(lambda x: x.index('@')>4,lst)\n",
    "list(map(lambda email: email[:email.index(\"@\")],lst1))"
   ]
  },
  {
   "cell_type": "code",
   "execution_count": 17,
   "metadata": {
    "ExecuteTime": {
     "end_time": "2021-04-22T12:05:18.835011Z",
     "start_time": "2021-04-22T12:05:18.826778Z"
    }
   },
   "outputs": [
    {
     "data": {
      "text/plain": [
       "['gmail.com', 'gmail.com', 'yahoo.com', 'rediffmail.com', 'hotmail.com']"
      ]
     },
     "execution_count": 17,
     "metadata": {},
     "output_type": "execute_result"
    }
   ],
   "source": [
    "# Get list of all domain\n",
    "lst2 = map(lambda email: email[email.index(\"@\")+1:],lst)\n",
    "list(lst2)"
   ]
  },
  {
   "cell_type": "code",
   "execution_count": 18,
   "metadata": {
    "ExecuteTime": {
     "end_time": "2021-04-22T12:05:20.258751Z",
     "start_time": "2021-04-22T12:05:20.250900Z"
    }
   },
   "outputs": [
    {
     "data": {
      "text/plain": [
       "['gmail.com', 'yahoo.com', 'rediffmail.com']"
      ]
     },
     "execution_count": 18,
     "metadata": {},
     "output_type": "execute_result"
    }
   ],
   "source": [
    "# Get list of all the domains where username is more than 4 char but return map object.\n",
    "namelist=filter(lambda x: x.index('@')>4,lst)\n",
    "list(map(lambda email: email[email.index(\"@\")+1:],namelist))"
   ]
  },
  {
   "cell_type": "code",
   "execution_count": 19,
   "metadata": {
    "ExecuteTime": {
     "end_time": "2021-04-22T12:05:22.040740Z",
     "start_time": "2021-04-22T12:05:22.034760Z"
    }
   },
   "outputs": [
    {
     "name": "stdout",
     "output_type": "stream",
     "text": [
      "1\n"
     ]
    }
   ],
   "source": [
    "mod = lambda x: x if (x >= 0) else -x\n",
    "print(mod(1))"
   ]
  },
  {
   "cell_type": "code",
   "execution_count": 20,
   "metadata": {
    "ExecuteTime": {
     "end_time": "2021-04-22T12:06:54.547132Z",
     "start_time": "2021-04-22T12:06:54.541438Z"
    }
   },
   "outputs": [
    {
     "name": "stdout",
     "output_type": "stream",
     "text": [
      "3\n"
     ]
    }
   ],
   "source": [
    "# Example of lambda fuction using if-else\n",
    "max = lambda a, b : a if(a > b) else b\n",
    "print(max(3, 2))"
   ]
  },
  {
   "cell_type": "code",
   "execution_count": 22,
   "metadata": {
    "ExecuteTime": {
     "end_time": "2021-04-22T12:07:36.255649Z",
     "start_time": "2021-04-22T12:07:36.249135Z"
    }
   },
   "outputs": [
    {
     "name": "stdout",
     "output_type": "stream",
     "text": [
      "None\n"
     ]
    }
   ],
   "source": [
    "# Lambda function with if-else\n",
    "square = lambda x : x*x if(x > 0) else None\n",
    "print(square(-1))"
   ]
  },
  {
   "cell_type": "code",
   "execution_count": 23,
   "metadata": {
    "ExecuteTime": {
     "end_time": "2021-04-22T12:07:37.241109Z",
     "start_time": "2021-04-22T12:07:37.234535Z"
    }
   },
   "outputs": [
    {
     "name": "stdout",
     "output_type": "stream",
     "text": [
      "[]\n"
     ]
    }
   ],
   "source": [
    "list1 = [1,2,3,4,5,5,4,3,2]\n",
    "li = []\n",
    "lambda x : li.append(x)if (x not in li) else None\n",
    "print(li)"
   ]
  },
  {
   "cell_type": "code",
   "execution_count": null,
   "metadata": {},
   "outputs": [],
   "source": []
  }
 ],
 "metadata": {
  "kernelspec": {
   "display_name": "Python 3",
   "language": "python",
   "name": "python3"
  },
  "language_info": {
   "codemirror_mode": {
    "name": "ipython",
    "version": 3
   },
   "file_extension": ".py",
   "mimetype": "text/x-python",
   "name": "python",
   "nbconvert_exporter": "python",
   "pygments_lexer": "ipython3",
   "version": "3.8.3"
  },
  "latex_envs": {
   "LaTeX_envs_menu_present": true,
   "autoclose": false,
   "autocomplete": true,
   "bibliofile": "biblio.bib",
   "cite_by": "apalike",
   "current_citInitial": 1,
   "eqLabelWithNumbers": true,
   "eqNumInitial": 1,
   "hotkeys": {
    "equation": "Ctrl-E",
    "itemize": "Ctrl-I"
   },
   "labels_anchors": false,
   "latex_user_defs": false,
   "report_style_numbering": false,
   "user_envs_cfg": false
  },
  "varInspector": {
   "cols": {
    "lenName": 16,
    "lenType": 16,
    "lenVar": 40
   },
   "kernels_config": {
    "python": {
     "delete_cmd_postfix": "",
     "delete_cmd_prefix": "del ",
     "library": "var_list.py",
     "varRefreshCmd": "print(var_dic_list())"
    },
    "r": {
     "delete_cmd_postfix": ") ",
     "delete_cmd_prefix": "rm(",
     "library": "var_list.r",
     "varRefreshCmd": "cat(var_dic_list()) "
    }
   },
   "types_to_exclude": [
    "module",
    "function",
    "builtin_function_or_method",
    "instance",
    "_Feature"
   ],
   "window_display": false
  }
 },
 "nbformat": 4,
 "nbformat_minor": 2
}
