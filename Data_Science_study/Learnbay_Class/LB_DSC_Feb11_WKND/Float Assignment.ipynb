{
 "cells": [
  {
   "cell_type": "markdown",
   "id": "fossil-badge",
   "metadata": {},
   "source": [
    "### 1. Declare a float value and store it in a variable."
   ]
  },
  {
   "cell_type": "code",
   "execution_count": 1,
   "id": "greater-carolina",
   "metadata": {
    "ExecuteTime": {
     "end_time": "2021-02-27T09:43:14.493123Z",
     "start_time": "2021-02-27T09:43:14.485938Z"
    }
   },
   "outputs": [
    {
     "name": "stdout",
     "output_type": "stream",
     "text": [
      "12.3 <class 'float'>\n"
     ]
    }
   ],
   "source": [
    "a = 12.3\n",
    "print(a, type(a))"
   ]
  },
  {
   "cell_type": "markdown",
   "id": "floral-mechanism",
   "metadata": {},
   "source": [
    "### 2.Arithmetic Operations on float"
   ]
  },
  {
   "cell_type": "code",
   "execution_count": 13,
   "id": "limited-malta",
   "metadata": {
    "ExecuteTime": {
     "end_time": "2021-02-27T09:50:04.215276Z",
     "start_time": "2021-02-27T09:50:04.202182Z"
    }
   },
   "outputs": [
    {
     "name": "stdout",
     "output_type": "stream",
     "text": [
      " 60.4 + 2 =  62.4\n",
      " 60.4 - 2 =  58.4\n",
      " 60.4 * 2 =  120.8\n",
      " 60.4 / 2 =  30.2\n",
      " 60.4 % 2 =  0.3999999999999986\n",
      " 60.4 // 2 =  30.0\n",
      " 60.4 ** 2 =  3648.16\n"
     ]
    }
   ],
   "source": [
    "a = 60.4\n",
    "b = 2\n",
    "print(f' {a} + {b} = ', a+b)\n",
    "print(f' {a} - {b} = ', a-b)\n",
    "print(f' {a} * {b} = ', a*b)\n",
    "print(f' {a} / {b} = ', a/b)\n",
    "print(f' {a} % {b} = ', a % b)\n",
    "print(f' {a} // {b} = ', a//b)\n",
    "print(f' {a} ** {b} = ', a ** b)"
   ]
  },
  {
   "cell_type": "markdown",
   "id": "automotive-reunion",
   "metadata": {},
   "source": [
    "### 3. Comparison Operators on float take two different float values."
   ]
  },
  {
   "cell_type": "code",
   "execution_count": 15,
   "id": "induced-netscape",
   "metadata": {
    "ExecuteTime": {
     "end_time": "2021-02-27T09:51:38.092225Z",
     "start_time": "2021-02-27T09:51:38.083993Z"
    }
   },
   "outputs": [
    {
     "name": "stdout",
     "output_type": "stream",
     "text": [
      "True\n",
      "False\n",
      "True\n",
      "False\n"
     ]
    }
   ],
   "source": [
    "a = 60.4\n",
    "b = 2\n",
    "print(a > b)\n",
    "print(a < b)\n",
    "print(a >= b)\n",
    "print(a <= b)"
   ]
  },
  {
   "cell_type": "markdown",
   "id": "medical-workplace",
   "metadata": {},
   "source": [
    "### 4. Equality Operator Take two different float values."
   ]
  },
  {
   "cell_type": "code",
   "execution_count": 16,
   "id": "equipped-gallery",
   "metadata": {
    "ExecuteTime": {
     "end_time": "2021-02-27T09:52:30.306545Z",
     "start_time": "2021-02-27T09:52:30.300920Z"
    }
   },
   "outputs": [
    {
     "name": "stdout",
     "output_type": "stream",
     "text": [
      "False\n",
      "True\n"
     ]
    }
   ],
   "source": [
    "a = 60.4\n",
    "b = 2\n",
    "print(a == b)\n",
    "print(a != b)"
   ]
  },
  {
   "cell_type": "markdown",
   "id": "neutral-radical",
   "metadata": {},
   "source": [
    "### 5.Logical operators observe the output of below code"
   ]
  },
  {
   "cell_type": "code",
   "execution_count": 22,
   "id": "embedded-enzyme",
   "metadata": {
    "ExecuteTime": {
     "end_time": "2021-02-27T09:56:56.453984Z",
     "start_time": "2021-02-27T09:56:56.443343Z"
    }
   },
   "outputs": [
    {
     "name": "stdout",
     "output_type": "stream",
     "text": [
      "20.3\n",
      "0.0\n",
      "0.0\n",
      "10.2\n",
      "20.3\n",
      "20.3\n",
      "False\n",
      "True\n"
     ]
    }
   ],
   "source": [
    "print(10.20 and 20.30)\n",
    "print(0.0 and 20.30)\n",
    "print(20.30 and 0.0)\n",
    "print(10.20 or 20.30)\n",
    "print(0.0 or 20.30)\n",
    "print(20.30 or 0.0)\n",
    "print(not 10.20)\n",
    "print(not 0.0)"
   ]
  },
  {
   "cell_type": "markdown",
   "id": "elect-locking",
   "metadata": {},
   "source": [
    "### 6. What is the output of expression inside print statement."
   ]
  },
  {
   "cell_type": "code",
   "execution_count": 25,
   "id": "directed-inventory",
   "metadata": {
    "ExecuteTime": {
     "end_time": "2021-02-27T09:58:34.117411Z",
     "start_time": "2021-02-27T09:58:34.111835Z"
    }
   },
   "outputs": [
    {
     "name": "stdout",
     "output_type": "stream",
     "text": [
      "False\n",
      "True\n"
     ]
    }
   ],
   "source": [
    "a=10.20\n",
    "b=10.20\n",
    "print(a is b)\n",
    "print(a is not b)"
   ]
  },
  {
   "cell_type": "markdown",
   "id": "international-length",
   "metadata": {},
   "source": [
    "### 7. Membership operation"
   ]
  },
  {
   "cell_type": "code",
   "execution_count": 27,
   "id": "friendly-bread",
   "metadata": {
    "ExecuteTime": {
     "end_time": "2021-02-27T10:02:53.604153Z",
     "start_time": "2021-02-27T10:02:53.594308Z"
    }
   },
   "outputs": [
    {
     "name": "stdout",
     "output_type": "stream",
     "text": [
      "True\n",
      "True\n",
      "True\n",
      "True\n",
      "True\n",
      "True\n"
     ]
    }
   ],
   "source": [
    "print('2.7' in 'Python2.7.8')\n",
    "print(10.2 in [10, 10.20, 10+20j, 'Python'])\n",
    "print(10.2 in (10, 10.20, 10+20j, 'Python'))\n",
    "print(20.3 in {1, 20.30, 3+5j})\n",
    "print(2.3 in {1: 100, 2.3: 200, 3: 300})\n",
    "print(10 in range(20))"
   ]
  }
 ],
 "metadata": {
  "kernelspec": {
   "display_name": "Python 3",
   "language": "python",
   "name": "python3"
  },
  "language_info": {
   "codemirror_mode": {
    "name": "ipython",
    "version": 3
   },
   "file_extension": ".py",
   "mimetype": "text/x-python",
   "name": "python",
   "nbconvert_exporter": "python",
   "pygments_lexer": "ipython3",
   "version": "3.8.3"
  },
  "latex_envs": {
   "LaTeX_envs_menu_present": true,
   "autoclose": false,
   "autocomplete": true,
   "bibliofile": "biblio.bib",
   "cite_by": "apalike",
   "current_citInitial": 1,
   "eqLabelWithNumbers": true,
   "eqNumInitial": 1,
   "hotkeys": {
    "equation": "Ctrl-E",
    "itemize": "Ctrl-I"
   },
   "labels_anchors": false,
   "latex_user_defs": false,
   "report_style_numbering": false,
   "user_envs_cfg": false
  },
  "varInspector": {
   "cols": {
    "lenName": 16,
    "lenType": 16,
    "lenVar": 40
   },
   "kernels_config": {
    "python": {
     "delete_cmd_postfix": "",
     "delete_cmd_prefix": "del ",
     "library": "var_list.py",
     "varRefreshCmd": "print(var_dic_list())"
    },
    "r": {
     "delete_cmd_postfix": ") ",
     "delete_cmd_prefix": "rm(",
     "library": "var_list.r",
     "varRefreshCmd": "cat(var_dic_list()) "
    }
   },
   "types_to_exclude": [
    "module",
    "function",
    "builtin_function_or_method",
    "instance",
    "_Feature"
   ],
   "window_display": false
  }
 },
 "nbformat": 4,
 "nbformat_minor": 5
}
