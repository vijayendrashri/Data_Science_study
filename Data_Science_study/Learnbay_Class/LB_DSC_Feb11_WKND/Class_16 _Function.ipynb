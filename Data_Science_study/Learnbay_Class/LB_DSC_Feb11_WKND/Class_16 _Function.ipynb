{
 "cells": [
  {
   "cell_type": "code",
   "execution_count": 4,
   "id": "informed-freedom",
   "metadata": {
    "ExecuteTime": {
     "end_time": "2021-03-13T15:50:00.742508Z",
     "start_time": "2021-03-13T15:50:00.734308Z"
    }
   },
   "outputs": [
    {
     "name": "stdout",
     "output_type": "stream",
     "text": [
      "black-green-red-white-yellow\n"
     ]
    }
   ],
   "source": [
    "#sample - green-red-yellow-black-white\n",
    "#output - black-green-red-white-yellow\n",
    "str1 = \"green-red-yellow-black-white\"\n",
    "\n",
    "def alfasort(stri):\n",
    "    arr = stri.split(\"-\")\n",
    "    arr.sort()\n",
    "    arr1 = \"-\".join(arr)\n",
    "    return arr1\n",
    "\n",
    "print(alfasort(str1))"
   ]
  },
  {
   "cell_type": "code",
   "execution_count": 2,
   "id": "innovative-orbit",
   "metadata": {
    "ExecuteTime": {
     "end_time": "2021-03-13T15:49:39.489242Z",
     "start_time": "2021-03-13T15:49:39.410229Z"
    }
   },
   "outputs": [
    {
     "data": {
      "text/plain": [
       "[1, 2, 3, 4, 5]"
      ]
     },
     "execution_count": 2,
     "metadata": {},
     "output_type": "execute_result"
    }
   ],
   "source": [
    "#Get unique elements of the list\n",
    "# sample List:[1,2,3,3,3,4,5]\n",
    "# out List: [1,2,3,4,5]\n",
    "inList = [1,2,3,3,3,4,5]\n",
    "def getUniqueList(inlist):\n",
    "    anotherlist=[]\n",
    "    [anotherlist.append(i) for i in inlist if i not in anotherlist]            \n",
    "    return anotherlist\n",
    "getUniqueList(inList)"
   ]
  },
  {
   "cell_type": "code",
   "execution_count": 2,
   "id": "normal-border",
   "metadata": {
    "ExecuteTime": {
     "end_time": "2021-03-17T06:01:19.426762Z",
     "start_time": "2021-03-17T06:01:19.419080Z"
    }
   },
   "outputs": [
    {
     "data": {
      "text/plain": [
       "11"
      ]
     },
     "execution_count": 2,
     "metadata": {},
     "output_type": "execute_result"
    }
   ],
   "source": [
    "from functools import reduce\n",
    "lst = [11, 12, 13, 14, 15, 16]\n",
    "# reduce(lambda x,y : x+y,lst)\n",
    "reduce(lambda x, y: x if (x < y) else y, lst)"
   ]
  },
  {
   "cell_type": "code",
   "execution_count": 12,
   "id": "aggressive-cinema",
   "metadata": {
    "ExecuteTime": {
     "end_time": "2021-03-17T06:17:32.333377Z",
     "start_time": "2021-03-17T06:17:29.721727Z"
    }
   },
   "outputs": [
    {
     "name": "stdout",
     "output_type": "stream",
     "text": [
      "Enter Emp_Id12\n",
      "Enter Emp_Id34\n",
      "Enter Emp_Id5\n"
     ]
    },
    {
     "data": {
      "text/plain": [
       "{'Emp_Id0': '12', 'Emp_Id1': '34', 'Emp_Id2': '5'}"
      ]
     },
     "execution_count": 12,
     "metadata": {},
     "output_type": "execute_result"
    }
   ],
   "source": [
    "{f\"Emp_Id{i}\":input(f\"Enter Emp_Id\") for i in range(3)}"
   ]
  },
  {
   "cell_type": "code",
   "execution_count": 13,
   "id": "charged-simulation",
   "metadata": {
    "ExecuteTime": {
     "end_time": "2021-03-17T06:20:52.446719Z",
     "start_time": "2021-03-17T06:20:27.843489Z"
    }
   },
   "outputs": [
    {
     "name": "stdout",
     "output_type": "stream",
     "text": [
      "Enter Emp_Id 12\n",
      "Enter name eee\n",
      "Enter salary 111111\n",
      "Enter Emp_Id 33\n",
      "Enter name ffff\n",
      "Enter salary 444444\n",
      "Enter Emp_Id 55\n",
      "Enter name tttt\n",
      "Enter salary 44444666\n"
     ]
    },
    {
     "data": {
      "text/plain": [
       "{'emp0': {'Emp_Id': '12', 'Emp_Name': 'eee', 'Emp_Sal': '111111'},\n",
       " 'emp1': {'Emp_Id': '33', 'Emp_Name': 'ffff', 'Emp_Sal': '444444'},\n",
       " 'emp2': {'Emp_Id': '55', 'Emp_Name': 'tttt', 'Emp_Sal': '44444666'}}"
      ]
     },
     "execution_count": 13,
     "metadata": {},
     "output_type": "execute_result"
    }
   ],
   "source": [
    "{\"emp\"+str(i):{\"Emp_Id\":input(f\"Enter Emp_Id \"),\"Emp_Name\":input(f\"Enter name \"),\"Emp_Sal\":input(f\"Enter salary \")} for i in range(3)}\n"
   ]
  },
  {
   "cell_type": "code",
   "execution_count": 45,
   "id": "structured-vermont",
   "metadata": {
    "ExecuteTime": {
     "end_time": "2021-03-17T09:55:48.753217Z",
     "start_time": "2021-03-17T09:55:48.747494Z"
    }
   },
   "outputs": [
    {
     "name": "stdout",
     "output_type": "stream",
     "text": [
      "[('1', 'P'), ('2', 'y'), ('3', 't'), ('4', 'h'), ('5', 'o'), ('6', 'n')]\n"
     ]
    }
   ],
   "source": [
    "dd = list(zip('123456','Python'))\n",
    "print(dd)\n"
   ]
  },
  {
   "cell_type": "code",
   "execution_count": null,
   "id": "affecting-adams",
   "metadata": {},
   "outputs": [],
   "source": []
  }
 ],
 "metadata": {
  "kernelspec": {
   "display_name": "Python 3",
   "language": "python",
   "name": "python3"
  },
  "language_info": {
   "codemirror_mode": {
    "name": "ipython",
    "version": 3
   },
   "file_extension": ".py",
   "mimetype": "text/x-python",
   "name": "python",
   "nbconvert_exporter": "python",
   "pygments_lexer": "ipython3",
   "version": "3.8.3"
  },
  "latex_envs": {
   "LaTeX_envs_menu_present": true,
   "autoclose": false,
   "autocomplete": true,
   "bibliofile": "biblio.bib",
   "cite_by": "apalike",
   "current_citInitial": 1,
   "eqLabelWithNumbers": true,
   "eqNumInitial": 1,
   "hotkeys": {
    "equation": "Ctrl-E",
    "itemize": "Ctrl-I"
   },
   "labels_anchors": false,
   "latex_user_defs": false,
   "report_style_numbering": false,
   "user_envs_cfg": false
  },
  "varInspector": {
   "cols": {
    "lenName": 16,
    "lenType": 16,
    "lenVar": 40
   },
   "kernels_config": {
    "python": {
     "delete_cmd_postfix": "",
     "delete_cmd_prefix": "del ",
     "library": "var_list.py",
     "varRefreshCmd": "print(var_dic_list())"
    },
    "r": {
     "delete_cmd_postfix": ") ",
     "delete_cmd_prefix": "rm(",
     "library": "var_list.r",
     "varRefreshCmd": "cat(var_dic_list()) "
    }
   },
   "types_to_exclude": [
    "module",
    "function",
    "builtin_function_or_method",
    "instance",
    "_Feature"
   ],
   "window_display": false
  }
 },
 "nbformat": 4,
 "nbformat_minor": 5
}
