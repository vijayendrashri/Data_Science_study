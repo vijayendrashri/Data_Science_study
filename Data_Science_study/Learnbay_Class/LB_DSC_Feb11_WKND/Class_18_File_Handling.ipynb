{
 "cells": [
  {
   "cell_type": "code",
   "execution_count": 4,
   "metadata": {
    "ExecuteTime": {
     "end_time": "2021-03-17T14:18:53.758685Z",
     "start_time": "2021-03-17T14:18:53.751667Z"
    }
   },
   "outputs": [],
   "source": [
    "# Write and read mode - w+/w+b\n",
    "# If the file is existing then it will open a file in write mode after deleting the content of the file.\n",
    "# If the file is not existing then it will create a file with given name and extension.\n",
    "# You are allowed to write inot and read from the file\n",
    "\n",
    "# f = open('my_mod.py', 'w+')\n",
    "# f.write('Python class')\n",
    "# f.close()\n",
    "\n",
    "# f = open('my_mod.txt', 'w+')\n",
    "# f.write('Python class')\n",
    "# print(f.tell())\n",
    "# f.seek(0)\n",
    "# print(f.read())\n",
    "# print(f.tell())\n",
    "# f.close()\n",
    "\n"
   ]
  },
  {
   "cell_type": "code",
   "execution_count": 7,
   "metadata": {
    "ExecuteTime": {
     "end_time": "2021-03-17T14:25:56.031912Z",
     "start_time": "2021-03-17T14:25:56.018741Z"
    }
   },
   "outputs": [],
   "source": [
    "# Append and Read mode - a+/a+b\n",
    "# If the file is existing then it will open a file in append mode and places the cursor at the end of the file\n",
    "# If the file is not existing then it will create a file with given name and extension.\n",
    "# You are allowed to write and read both inot the file\n",
    "\n",
    "# f = open('my_mod.py', 'a+')\n",
    "# print(f.tell())\n",
    "# f.write('print(\"Hello World\")')\n",
    "# f.seek(100)\n",
    "# print(f.read())\n",
    "# f.close()\n",
    "\n",
    "# f = open('my_mod.py', 'a+')\n",
    "# f.seek(100)\n",
    "# f.write('print(\"Hello World\")')\n",
    "# f.close()\n"
   ]
  },
  {
   "cell_type": "code",
   "execution_count": 30,
   "metadata": {
    "ExecuteTime": {
     "end_time": "2021-03-17T14:56:27.205294Z",
     "start_time": "2021-03-17T14:56:27.190394Z"
    }
   },
   "outputs": [],
   "source": [
    "# Methods for reading\n",
    "# read() - a string object - reads the whole content of the file\n",
    "# read(no of char) - a string object - reads the specified no of character\n",
    "# readline() - a string object - reads one line from current cursor position\n",
    "# readlines() - a list of strings and read the whole content of the file\n",
    "\n",
    "# Methods for writing\n",
    "# write('String')\n",
    "# writelines(['str1', 'str2', 'str3'])\n",
    "\n",
    "\n",
    "f = open('my_mod.py', 'r+')\n",
    "# my_str = f.read()\n",
    "# print(my_str, type(my_str))\n",
    "\n",
    "# Reading first 100 characters from the file\n",
    "# my_str = f.read(100)\n",
    "# print(my_str)\n",
    "# print(type(my_str))\n",
    "\n",
    "# Reading a line from the file\n",
    "# my_str = f.readline()\n",
    "# print(my_str)\n",
    "# print(type(my_str))\n",
    "\n",
    "# reading the whole content of teh file\n",
    "# my_str = f.readlines()[::-1]\n",
    "# print(my_str)\n",
    "# f.close()\n",
    "\n",
    "# Methods to write\n",
    "# f = open('my_mod.txt', 'r+')\n",
    "# f.write(\"f = open('my_mod.py', 'w+')\\nf.write('Python class')\\nf.close()\")\n",
    "# f.close()\n",
    "\n",
    "# f = open('my_file.py', 'w+')\n",
    "# f.writelines([\"f = open('my_mod.txt', 'w+')\\n\",\n",
    "#               \"a = input('Enter a number: ')\\n\"\n",
    "#             \"f.write('Python class')\\n\",\n",
    "#             \"print(f.tell())\\n\",\n",
    "#             \"f.seek(0)\\n\",\n",
    "#             \"print(f.read())\\n\",\n",
    "#             \"print(f.tell())\\n\",\n",
    "#             \"f.close()\\n\",\n",
    "#             'print(\"Hello World\")\\n',\n",
    "#             'print(\"Hello World\")\\n',\n",
    "#              \"print('Python classes')\"])\n",
    "# print(x)\n",
    "# f.write('Heloo')\n",
    "# f.close()\n",
    "\n",
    "# Use with statement\n",
    "with open('my_file.py', 'w+') as f:\n",
    "    f.writelines([\"f = open('my_mod.txt', 'w+')\\n\",\n",
    "              \"a = input('Enter a number: ')\\n\"\n",
    "            \"f.write('Python class')\\n\",\n",
    "            \"print(f.tell())\\n\",\n",
    "            \"f.seek(0)\\n\",\n",
    "            \"print(f.read())\\n\",\n",
    "            \"print(f.tell())\\n\",\n",
    "            \"f.close()\\n\",\n",
    "            'print(\"Hello World\")\\n',\n",
    "            'print(\"Hello World\")\\n',\n",
    "             \"print('Python classes')\"])\n",
    "#     print(x)\n",
    "    f.write('Heloo')\n",
    "\n",
    "\n"
   ]
  },
  {
   "cell_type": "code",
   "execution_count": 52,
   "metadata": {
    "ExecuteTime": {
     "end_time": "2021-03-17T15:40:06.539232Z",
     "start_time": "2021-03-17T15:40:06.339588Z"
    }
   },
   "outputs": [],
   "source": [
    "import subprocess\n",
    "with open('output_txt.txt', 'w+') as f:\n",
    "    subprocess.check_call(['python', 'my_file.py'], stdout = f)\n"
   ]
  },
  {
   "cell_type": "code",
   "execution_count": 34,
   "metadata": {
    "ExecuteTime": {
     "end_time": "2021-03-17T15:08:56.445160Z",
     "start_time": "2021-03-17T15:08:56.436291Z"
    }
   },
   "outputs": [],
   "source": [
    "# Count no of letters, no of words, no of lines in file\n",
    "\n",
    "# 2. copy the content of python.png to new.png using file handling\n",
    "\n",
    "# 3. Include a line 'Peter piper piked a peck of pickled peppers.'"
   ]
  },
  {
   "cell_type": "code",
   "execution_count": 42,
   "metadata": {
    "ExecuteTime": {
     "end_time": "2021-03-17T15:29:25.706032Z",
     "start_time": "2021-03-17T15:29:25.694380Z"
    }
   },
   "outputs": [
    {
     "name": "stdout",
     "output_type": "stream",
     "text": [
      "No of lines =  12\n",
      "No of characters =  1230\n",
      "No of words =  204\n"
     ]
    }
   ],
   "source": [
    "with open('my_file.txt', 'r+') as f:\n",
    "    my_lst = f.readlines()\n",
    "    f.seek(0)\n",
    "    line_count = len(my_lst)\n",
    "    char_count = 0\n",
    "    word_count = 0\n",
    "    for ele in my_lst:\n",
    "        word_count += len(ele.split())\n",
    "        for char in ele:\n",
    "            char_count += 1\n",
    "    print('No of lines = ', line_count)\n",
    "    print('No of characters = ', char_count)\n",
    "    print('No of words = ', word_count)"
   ]
  },
  {
   "cell_type": "code",
   "execution_count": 38,
   "metadata": {
    "ExecuteTime": {
     "end_time": "2021-03-17T15:27:38.921598Z",
     "start_time": "2021-03-17T15:27:38.917908Z"
    }
   },
   "outputs": [],
   "source": [
    "# print(len('''What is Lorem Ipsum?\n",
    "# Lorem Ipsum is simply dummy text of the printing and typesetting industry. \n",
    "# Lorem Ipsum has been the industrys standard dummy text ever since the 1500s, when an unknown printer took a galley of type and scrambled it to make a type specimen book. \n",
    "# It has survived not only five centuries, but also the leap into electronic typesetting, remaining essentially unchanged. \n",
    "# It was popularised in the 1960s with the release of Letraset sheets containing Lorem Ipsum passages, and more recently with desktop publishing software like Aldus PageMaker including versions of Lorem Ipsum.\n",
    "\n",
    "\n",
    "# Why do we use it?\n",
    "# It is a long established fact that a reader will be distracted by the readable content of a page when looking at its layout. \n",
    "# The point of using Lorem Ipsum is that it has a more-or-less normal distribution of letters, as opposed to using Content here, content here, making it look like readable English. \n",
    "# Many desktop publishing packages and web page editors now use Lorem Ipsum as their default model text, and a search for lorem ipsum will uncover many web sites still in their infancy. \n",
    "# Various versions have evolved over the years, sometimes by accident, sometimes on purpose (injected humour and the like).'''.split()))"
   ]
  },
  {
   "cell_type": "code",
   "execution_count": 43,
   "metadata": {
    "ExecuteTime": {
     "end_time": "2021-03-17T15:31:09.008217Z",
     "start_time": "2021-03-17T15:31:09.003766Z"
    }
   },
   "outputs": [],
   "source": [
    "# with open('python.png', 'rb') as f1:\n",
    "#     with open('new.png', 'wb') as f2:\n",
    "#         f2.write(f1.read())"
   ]
  },
  {
   "cell_type": "code",
   "execution_count": 46,
   "metadata": {
    "ExecuteTime": {
     "end_time": "2021-03-17T15:35:25.173898Z",
     "start_time": "2021-03-17T15:35:25.166983Z"
    }
   },
   "outputs": [],
   "source": [
    "with open('my_file.txt', 'r+') as f:\n",
    "    my_lst = f.readlines()\n",
    "    my_lst.insert(6, 'Peter piper piked a peck of pickled peppers.\\n')\n",
    "    f.seek(0)\n",
    "    f.writelines(my_lst)"
   ]
  },
  {
   "cell_type": "code",
   "execution_count": 48,
   "metadata": {
    "ExecuteTime": {
     "end_time": "2021-03-17T15:38:29.694540Z",
     "start_time": "2021-03-17T15:38:29.683194Z"
    }
   },
   "outputs": [
    {
     "name": "stdout",
     "output_type": "stream",
     "text": [
      "13\n"
     ]
    }
   ],
   "source": [
    "f=open(\"my_file.txt\",'r+')\n",
    "\n",
    "data2 = f.readlines()\n",
    "print(len(data2))\n",
    "# print(len(data))\n",
    "# data1= data.split()\n",
    "# print(len(data1))\n",
    "# num_lines=0\n",
    "f.close()"
   ]
  },
  {
   "cell_type": "code",
   "execution_count": null,
   "metadata": {},
   "outputs": [],
   "source": [
    "# Exception Handling in Python\n",
    "\n",
    "# Stat1\n",
    "# stat2\n",
    "# stat3 - Error\n",
    "# stat4\n",
    "# stat5\n",
    "\n",
    "# try, except, else, finally\n",
    "\n",
    "\n",
    "# Handling the run time errors in python - exception handling\n",
    "\n",
    "# Compile time Error - SyntaxError, IndentationError\n",
    "# Run time Error - Exceptions are the run time erros which can be handled using exception handling\n",
    "    # \n",
    "\n",
    "\n"
   ]
  },
  {
   "cell_type": "code",
   "execution_count": 54,
   "metadata": {
    "ExecuteTime": {
     "end_time": "2021-03-17T15:50:54.380545Z",
     "start_time": "2021-03-17T15:50:54.375551Z"
    }
   },
   "outputs": [
    {
     "name": "stdout",
     "output_type": "stream",
     "text": [
      "3.3333333333333335\n",
      "10\n",
      "3\n"
     ]
    }
   ],
   "source": [
    "a = 10\n",
    "b = 3\n",
    "print(a/b)\n",
    "print(a)\n",
    "print(b)"
   ]
  },
  {
   "cell_type": "code",
   "execution_count": 57,
   "metadata": {
    "ExecuteTime": {
     "end_time": "2021-03-17T15:51:49.919321Z",
     "start_time": "2021-03-17T15:51:49.909861Z"
    }
   },
   "outputs": [
    {
     "name": "stdout",
     "output_type": "stream",
     "text": [
      "3.3333333333333335\n",
      "10\n",
      "3\n"
     ]
    }
   ],
   "source": [
    "a = 10\n",
    "b = 3\n",
    "try:\n",
    "    print(a/b)\n",
    "except:\n",
    "    print('Denominator can not be zero')\n",
    "print(a)\n",
    "print(b)"
   ]
  },
  {
   "cell_type": "code",
   "execution_count": null,
   "metadata": {},
   "outputs": [],
   "source": []
  }
 ],
 "metadata": {
  "kernelspec": {
   "display_name": "Python 3",
   "language": "python",
   "name": "python3"
  },
  "language_info": {
   "codemirror_mode": {
    "name": "ipython",
    "version": 3
   },
   "file_extension": ".py",
   "mimetype": "text/x-python",
   "name": "python",
   "nbconvert_exporter": "python",
   "pygments_lexer": "ipython3",
   "version": "3.8.3"
  },
  "latex_envs": {
   "LaTeX_envs_menu_present": true,
   "autoclose": false,
   "autocomplete": true,
   "bibliofile": "biblio.bib",
   "cite_by": "apalike",
   "current_citInitial": 1,
   "eqLabelWithNumbers": true,
   "eqNumInitial": 1,
   "hotkeys": {
    "equation": "Ctrl-E",
    "itemize": "Ctrl-I"
   },
   "labels_anchors": false,
   "latex_user_defs": false,
   "report_style_numbering": false,
   "user_envs_cfg": false
  },
  "varInspector": {
   "cols": {
    "lenName": 16,
    "lenType": 16,
    "lenVar": 40
   },
   "kernels_config": {
    "python": {
     "delete_cmd_postfix": "",
     "delete_cmd_prefix": "del ",
     "library": "var_list.py",
     "varRefreshCmd": "print(var_dic_list())"
    },
    "r": {
     "delete_cmd_postfix": ") ",
     "delete_cmd_prefix": "rm(",
     "library": "var_list.r",
     "varRefreshCmd": "cat(var_dic_list()) "
    }
   },
   "types_to_exclude": [
    "module",
    "function",
    "builtin_function_or_method",
    "instance",
    "_Feature"
   ],
   "window_display": false
  }
 },
 "nbformat": 4,
 "nbformat_minor": 2
}
