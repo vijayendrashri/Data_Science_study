{
 "cells": [
  {
   "cell_type": "code",
   "execution_count": 44,
   "id": "destroyed-portsmouth",
   "metadata": {
    "ExecuteTime": {
     "end_time": "2021-02-22T15:30:02.181947Z",
     "start_time": "2021-02-22T15:29:49.899095Z"
    }
   },
   "outputs": [
    {
     "name": "stdout",
     "output_type": "stream",
     "text": [
      "Enter list[2,4,3,2,4,2,3]\n",
      "[2, 4, 3, 2, 4, 2, 3]\n"
     ]
    },
    {
     "data": {
      "text/plain": [
       "(2, 4, 3, 2, 4, 2, 3)"
      ]
     },
     "execution_count": 44,
     "metadata": {},
     "output_type": "execute_result"
    }
   ],
   "source": [
    "a = eval(input('Enter list'))\n",
    "print(a)\n",
    "tuple(a)"
   ]
  },
  {
   "cell_type": "code",
   "execution_count": 3,
   "id": "endangered-friendship",
   "metadata": {
    "ExecuteTime": {
     "end_time": "2021-02-22T14:51:27.280606Z",
     "start_time": "2021-02-22T14:51:27.276598Z"
    }
   },
   "outputs": [],
   "source": [
    "from itertools import *"
   ]
  },
  {
   "cell_type": "code",
   "execution_count": 9,
   "id": "national-editing",
   "metadata": {
    "ExecuteTime": {
     "end_time": "2021-02-22T14:52:20.822243Z",
     "start_time": "2021-02-22T14:52:20.816826Z"
    }
   },
   "outputs": [
    {
     "name": "stdout",
     "output_type": "stream",
     "text": [
      "(1, 'a')\n",
      "(2, 'b')\n",
      "(3, 'c')\n",
      "(6, 'd')\n"
     ]
    }
   ],
   "source": [
    "# Easy joining of two lists into a list of tuples\n",
    "for i in zip([1, 2, 3,6], ['a', 'b', 'c','d']):\n",
    "    print(i)"
   ]
  },
  {
   "cell_type": "code",
   "execution_count": 10,
   "id": "outer-sweden",
   "metadata": {
    "ExecuteTime": {
     "end_time": "2021-02-22T14:52:58.579808Z",
     "start_time": "2021-02-22T14:52:58.573453Z"
    }
   },
   "outputs": [
    {
     "name": "stdout",
     "output_type": "stream",
     "text": [
      "(1, 'a')\n",
      "(2, 'b')\n",
      "(3, 'c')\n",
      "(4, 'd')\n"
     ]
    }
   ],
   "source": [
    "# Easy joining of two lists into a list of tuples\n",
    "for i in zip(count(1), ['a', 'b', 'c','d']):\n",
    "    print(i)"
   ]
  },
  {
   "cell_type": "code",
   "execution_count": 17,
   "id": "mineral-evolution",
   "metadata": {
    "ExecuteTime": {
     "end_time": "2021-02-22T14:55:53.954579Z",
     "start_time": "2021-02-22T14:55:53.947663Z"
    }
   },
   "outputs": [
    {
     "name": "stdout",
     "output_type": "stream",
     "text": [
      "(1, <itertools._grouper object at 0x7f2b4789d100>) (2, <itertools._grouper object at 0x7f2b4789d3d0>) (3, <itertools._grouper object at 0x7f2b72275ac0>) (4, <itertools._grouper object at 0x7f2b478bff10>) (5, <itertools._grouper object at 0x7f2b4789d100>) "
     ]
    }
   ],
   "source": [
    "a = sorted([1, 2, 1, 3, 2, 1, 2, 3, 4, 5])\n",
    "\n",
    "for key, value in groupby(a):\n",
    "    print((key, value), end=' ')"
   ]
  },
  {
   "cell_type": "code",
   "execution_count": 36,
   "id": "derived-access",
   "metadata": {
    "ExecuteTime": {
     "end_time": "2021-02-22T15:07:03.953181Z",
     "start_time": "2021-02-22T15:07:03.946654Z"
    }
   },
   "outputs": [
    {
     "data": {
      "text/plain": [
       "True"
      ]
     },
     "execution_count": 36,
     "metadata": {},
     "output_type": "execute_result"
    }
   ],
   "source": [
    "float(3.96).__ge__(2)"
   ]
  },
  {
   "cell_type": "code",
   "execution_count": null,
   "id": "certified-victory",
   "metadata": {},
   "outputs": [],
   "source": []
  }
 ],
 "metadata": {
  "kernelspec": {
   "display_name": "Python 3",
   "language": "python",
   "name": "python3"
  },
  "language_info": {
   "codemirror_mode": {
    "name": "ipython",
    "version": 3
   },
   "file_extension": ".py",
   "mimetype": "text/x-python",
   "name": "python",
   "nbconvert_exporter": "python",
   "pygments_lexer": "ipython3",
   "version": "3.8.3"
  },
  "latex_envs": {
   "LaTeX_envs_menu_present": true,
   "autoclose": false,
   "autocomplete": true,
   "bibliofile": "biblio.bib",
   "cite_by": "apalike",
   "current_citInitial": 1,
   "eqLabelWithNumbers": true,
   "eqNumInitial": 1,
   "hotkeys": {
    "equation": "Ctrl-E",
    "itemize": "Ctrl-I"
   },
   "labels_anchors": false,
   "latex_user_defs": false,
   "report_style_numbering": false,
   "user_envs_cfg": false
  },
  "varInspector": {
   "cols": {
    "lenName": 16,
    "lenType": 16,
    "lenVar": 40
   },
   "kernels_config": {
    "python": {
     "delete_cmd_postfix": "",
     "delete_cmd_prefix": "del ",
     "library": "var_list.py",
     "varRefreshCmd": "print(var_dic_list())"
    },
    "r": {
     "delete_cmd_postfix": ") ",
     "delete_cmd_prefix": "rm(",
     "library": "var_list.r",
     "varRefreshCmd": "cat(var_dic_list()) "
    }
   },
   "types_to_exclude": [
    "module",
    "function",
    "builtin_function_or_method",
    "instance",
    "_Feature"
   ],
   "window_display": false
  }
 },
 "nbformat": 4,
 "nbformat_minor": 5
}
