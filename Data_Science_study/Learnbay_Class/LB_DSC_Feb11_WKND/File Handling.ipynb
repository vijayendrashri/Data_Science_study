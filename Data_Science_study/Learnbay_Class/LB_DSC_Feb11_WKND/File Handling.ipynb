{
 "cells": [
  {
   "cell_type": "code",
   "execution_count": 7,
   "id": "regular-identification",
   "metadata": {
    "ExecuteTime": {
     "end_time": "2021-03-17T14:21:59.045395Z",
     "start_time": "2021-03-17T14:21:59.038794Z"
    }
   },
   "outputs": [
    {
     "name": "stdout",
     "output_type": "stream",
     "text": [
      "12\n",
      "0\n"
     ]
    }
   ],
   "source": [
    "f = open('my_python.txt','w+')\n",
    "f.write(\"Pythone code\")\n",
    "print(f.tell())\n",
    "f.seek(0)\n",
    "print(f.tell())\n",
    "f.read()\n",
    "f.close()\n"
   ]
  },
  {
   "cell_type": "code",
   "execution_count": 8,
   "id": "automated-specific",
   "metadata": {
    "ExecuteTime": {
     "end_time": "2021-03-17T14:49:22.084277Z",
     "start_time": "2021-03-17T14:49:22.078539Z"
    }
   },
   "outputs": [],
   "source": [
    "f = open('my_file.py', 'w+')\n",
    "f.writelines([\"f = open('my_mod.txt', 'w+')\\n\",\n",
    "              \"a = input('Enter a number: ')\\n\"\n",
    "            \"f.write('Python class')\\n\",\n",
    "            \"print(f.tell())\\n\",\n",
    "            \"f.seek(0)\\n\",\n",
    "            \"print(f.read())\\n\",\n",
    "            \"print(f.tell())\\n\",\n",
    "            \"f.close()\\n\",\n",
    "            'print(\"Hello World\")\\n',\n",
    "            'print(\"Hello World\")\\n'])\n",
    "f.close()"
   ]
  },
  {
   "cell_type": "code",
   "execution_count": 7,
   "id": "smoking-optics",
   "metadata": {
    "ExecuteTime": {
     "end_time": "2021-03-18T11:39:55.803690Z",
     "start_time": "2021-03-18T11:39:55.796814Z"
    }
   },
   "outputs": [
    {
     "name": "stdout",
     "output_type": "stream",
     "text": [
      "204\n",
      "1256\n",
      "12\n"
     ]
    }
   ],
   "source": [
    "# Count no of letters, no of words, no of lines in file\n",
    "with open('my_file.txt','r') as f:\n",
    "    letter =  f.read()\n",
    "    print(len(letter.split()))\n",
    "    print(len(letter))\n",
    "    f.seek(0)\n",
    "    print(len(f.readlines()))\n",
    "    \n"
   ]
  },
  {
   "cell_type": "code",
   "execution_count": 34,
   "id": "viral-excerpt",
   "metadata": {
    "ExecuteTime": {
     "end_time": "2021-03-17T15:32:14.366542Z",
     "start_time": "2021-03-17T15:32:14.361099Z"
    }
   },
   "outputs": [],
   "source": [
    "#copy the content of python.png to new.png using file handling\n",
    "with open('index.jpeg','rb') as f1:\n",
    "    with open('new.png','wb') as f2:\n",
    "        f2.write(f1.read())"
   ]
  },
  {
   "cell_type": "code",
   "execution_count": 42,
   "id": "dominican-vanilla",
   "metadata": {
    "ExecuteTime": {
     "end_time": "2021-03-17T15:41:52.495145Z",
     "start_time": "2021-03-17T15:41:52.487223Z"
    }
   },
   "outputs": [],
   "source": [
    "# Include a line 'Peter piper piked a peck of pickled peppers.'\n",
    "with open('my_file.txt','r+') as f:\n",
    "    my_lt = f.readlines()\n",
    "    my_lt.insert(6,'Peter piper piked a peck of pickled peppers.')\n",
    "    f.seek(0)\n",
    "    f.writelines(my_lt)\n",
    "\n"
   ]
  },
  {
   "cell_type": "code",
   "execution_count": null,
   "id": "continued-brush",
   "metadata": {},
   "outputs": [],
   "source": []
  }
 ],
 "metadata": {
  "kernelspec": {
   "display_name": "Python 3",
   "language": "python",
   "name": "python3"
  },
  "language_info": {
   "codemirror_mode": {
    "name": "ipython",
    "version": 3
   },
   "file_extension": ".py",
   "mimetype": "text/x-python",
   "name": "python",
   "nbconvert_exporter": "python",
   "pygments_lexer": "ipython3",
   "version": "3.8.3"
  },
  "latex_envs": {
   "LaTeX_envs_menu_present": true,
   "autoclose": false,
   "autocomplete": true,
   "bibliofile": "biblio.bib",
   "cite_by": "apalike",
   "current_citInitial": 1,
   "eqLabelWithNumbers": true,
   "eqNumInitial": 1,
   "hotkeys": {
    "equation": "Ctrl-E",
    "itemize": "Ctrl-I"
   },
   "labels_anchors": false,
   "latex_user_defs": false,
   "report_style_numbering": false,
   "user_envs_cfg": false
  },
  "varInspector": {
   "cols": {
    "lenName": 16,
    "lenType": 16,
    "lenVar": 40
   },
   "kernels_config": {
    "python": {
     "delete_cmd_postfix": "",
     "delete_cmd_prefix": "del ",
     "library": "var_list.py",
     "varRefreshCmd": "print(var_dic_list())"
    },
    "r": {
     "delete_cmd_postfix": ") ",
     "delete_cmd_prefix": "rm(",
     "library": "var_list.r",
     "varRefreshCmd": "cat(var_dic_list()) "
    }
   },
   "types_to_exclude": [
    "module",
    "function",
    "builtin_function_or_method",
    "instance",
    "_Feature"
   ],
   "window_display": false
  }
 },
 "nbformat": 4,
 "nbformat_minor": 5
}
