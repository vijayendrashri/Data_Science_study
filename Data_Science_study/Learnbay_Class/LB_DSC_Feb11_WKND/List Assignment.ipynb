{
 "cells": [
  {
   "cell_type": "markdown",
   "id": "velvet-daniel",
   "metadata": {},
   "source": [
    "#### Write a Python program to find the sum of all elements in a list using loop. \n",
    "- > Input:- [10,20,30,40]\n",
    "> Output:- 100"
   ]
  },
  {
   "cell_type": "code",
   "execution_count": 1,
   "id": "temporal-union",
   "metadata": {
    "ExecuteTime": {
     "end_time": "2021-03-03T14:23:19.520657Z",
     "start_time": "2021-03-03T14:23:19.513441Z"
    }
   },
   "outputs": [
    {
     "name": "stdout",
     "output_type": "stream",
     "text": [
      "100\n"
     ]
    }
   ],
   "source": [
    "Input = [10, 20, 30, 40]\n",
    "# sum(Input)\n",
    "sumtotal = 0\n",
    "for i in range(0, len(Input)):\n",
    "    sumtotal = sumtotal+Input[i]\n",
    "print(sumtotal)"
   ]
  },
  {
   "cell_type": "markdown",
   "id": "informational-sunrise",
   "metadata": {},
   "source": [
    "#### Write a Python program to find the multiplication of all elements in a list using loop.\n",
    "- > Input:- [10,20,30,40]\n",
    "> Output:- 240000"
   ]
  },
  {
   "cell_type": "code",
   "execution_count": 2,
   "id": "willing-length",
   "metadata": {
    "ExecuteTime": {
     "end_time": "2021-03-03T14:23:19.593635Z",
     "start_time": "2021-03-03T14:23:19.523646Z"
    }
   },
   "outputs": [
    {
     "name": "stdout",
     "output_type": "stream",
     "text": [
      "240000\n"
     ]
    }
   ],
   "source": [
    "Input = [10, 20, 30, 40]\n",
    "# sum(Input)\n",
    "sumtotal = 1\n",
    "for i in range(0, len(Input)):\n",
    "    sumtotal = sumtotal*Input[i]\n",
    "print(sumtotal)"
   ]
  },
  {
   "cell_type": "markdown",
   "id": "earned-deficit",
   "metadata": {},
   "source": [
    "### Write a Python program to find the largest number from a list using loop.\n",
    "- > Input:- [10,100,2321, 1,200,2]\n",
    "> Output:- 2321"
   ]
  },
  {
   "cell_type": "code",
   "execution_count": 3,
   "id": "another-cleanup",
   "metadata": {
    "ExecuteTime": {
     "end_time": "2021-03-03T14:23:19.669767Z",
     "start_time": "2021-03-03T14:23:19.596144Z"
    }
   },
   "outputs": [
    {
     "name": "stdout",
     "output_type": "stream",
     "text": [
      "Largest element is: 2321\n",
      "By Max Largest element is: 2321\n",
      "By sort Largest element is: 2321\n"
     ]
    }
   ],
   "source": [
    "Input = [10, 100, 2321, 1, 200, 2]\n",
    "maxvalue = 0\n",
    "for i in Input:\n",
    "    if i > maxvalue:\n",
    "        maxvalue = i\n",
    "\n",
    "print(\"Largest element is:\", maxvalue)\n",
    "print(\"By Max Largest element is:\", max(Input))\n",
    "Input.sort()\n",
    "print(\"By sort Largest element is:\", Input[-1])"
   ]
  },
  {
   "cell_type": "markdown",
   "id": "uniform-investigation",
   "metadata": {},
   "source": [
    "### Write a Python program to find the smallest number from a list using loop.\n",
    "- > Input:- [10,100,2321, 1,200,2]\n",
    " > Output:- 1"
   ]
  },
  {
   "cell_type": "code",
   "execution_count": 4,
   "id": "requested-terminology",
   "metadata": {
    "ExecuteTime": {
     "end_time": "2021-03-03T14:23:19.741852Z",
     "start_time": "2021-03-03T14:23:19.673381Z"
    }
   },
   "outputs": [
    {
     "name": "stdout",
     "output_type": "stream",
     "text": [
      "Largest element is: 1\n",
      "By Max Largest element is: 1\n",
      "By sort Largest element is: 1\n"
     ]
    }
   ],
   "source": [
    "Input = [10,100,2321, 1,200,2] \n",
    "maxvalue = Input[0]\n",
    "for i in Input:\n",
    "    if i < maxvalue:\n",
    "        maxvalue = i\n",
    "\n",
    "print(\"Largest element is:\", maxvalue) \n",
    "print(\"By Max Largest element is:\", min(Input)) \n",
    "Input.sort()\n",
    "print(\"By sort Largest element is:\", Input[0]) "
   ]
  },
  {
   "cell_type": "markdown",
   "id": "closing-angel",
   "metadata": {},
   "source": [
    "### Write a Python program to count the number of strings having length more than 2 and are palindrome in a list using loop.\n",
    "- > Input:- ['ab', 'abc', 'aba', 'xyz', '1991']\n",
    "> Output:- 2"
   ]
  },
  {
   "cell_type": "code",
   "execution_count": 5,
   "id": "damaged-louis",
   "metadata": {
    "ExecuteTime": {
     "end_time": "2021-03-03T14:23:19.808832Z",
     "start_time": "2021-03-03T14:23:19.745051Z"
    }
   },
   "outputs": [
    {
     "name": "stdout",
     "output_type": "stream",
     "text": [
      "2\n"
     ]
    }
   ],
   "source": [
    "Input = ['ab', 'abc', 'aba', 'xyz', '1991']\n",
    "count = 0\n",
    "for i in Input:\n",
    "    if len(i) > 2 and i[::-1] == i:\n",
    "        count += 1\n",
    "print(count)"
   ]
  },
  {
   "cell_type": "markdown",
   "id": "outer-display",
   "metadata": {},
   "source": [
    "### Write a Python program to sort a list in ascending order using loop.\n",
    "> Input:- [100,10,1,298,65,483,49876,2,80,9,9213]\n",
    "> Output:- [1,2,9,10,65,80,100,298,483,9213,49876]"
   ]
  },
  {
   "cell_type": "code",
   "execution_count": 6,
   "id": "going-tournament",
   "metadata": {
    "ExecuteTime": {
     "end_time": "2021-03-03T14:23:19.893440Z",
     "start_time": "2021-03-03T14:23:19.811938Z"
    }
   },
   "outputs": [
    {
     "name": "stdout",
     "output_type": "stream",
     "text": [
      "[1, 2, 9, 10, 65, 80, 100, 298, 483, 9213, 49876]\n",
      "By using sort  []\n"
     ]
    }
   ],
   "source": [
    "my_list = [100, 10, 1, 298, 65, 483, 49876, 2, 80, 9, 9213]\n",
    "new_list = []\n",
    "\n",
    "while my_list:\n",
    "    minNum = my_list[0]  \n",
    "    for x in my_list: \n",
    "        if x < minNum:\n",
    "            minNum = x\n",
    "    new_list.append(minNum)\n",
    "    my_list.remove(minNum) \n",
    "\n",
    "print(new_list)\n",
    "my_list.sort()\n",
    "print('By using sort ', my_list)"
   ]
  },
  {
   "cell_type": "code",
   "execution_count": 7,
   "id": "limited-merit",
   "metadata": {
    "ExecuteTime": {
     "end_time": "2021-03-03T14:23:35.466991Z",
     "start_time": "2021-03-03T14:23:19.896279Z"
    }
   },
   "outputs": [
    {
     "name": "stdout",
     "output_type": "stream",
     "text": [
      "Please enter the Total Number of List Elements: 3\n",
      "Please enter the Value of 1 Element : 12\n",
      "Please enter the Value of 2 Element : 32\n",
      "Please enter the Value of 3 Element : 56\n",
      "[12, 32, 56]\n",
      "Elements after sorted ascending order : [12, 32, 56]\n"
     ]
    }
   ],
   "source": [
    "NumList = []\n",
    "\n",
    "Number = int(input(\"Please enter the Total Number of List Elements: \"))\n",
    "for i in range(1, Number + 1):\n",
    "    value = int(input(\"Please enter the Value of %d Element : \" % i))\n",
    "    NumList.append(value)\n",
    "\n",
    "print(NumList)\n",
    "for i in range(Number):\n",
    "    for j in range(i+1, Number):\n",
    "        if(NumList[i] > NumList[j]):\n",
    "            temp = NumList[i]\n",
    "            NumList[i] = NumList[j]\n",
    "            NumList[j] = temp\n",
    "\n",
    "print('Elements after sorted ascending order :', NumList)"
   ]
  },
  {
   "cell_type": "markdown",
   "id": "fixed-russell",
   "metadata": {},
   "source": [
    "### Write a Python program to get a sorted list in increasing order of last element in each tuple in a given list using loop.\n",
    "> Input:- [(5,4),(9,1),(2,3),(5,9),(7,6),(5,5)]\n",
    "> output:- [(9,1),(2,3),(5,4),(5,5),(7,6),(5,9)]"
   ]
  },
  {
   "cell_type": "code",
   "execution_count": 8,
   "id": "handed-beauty",
   "metadata": {
    "ExecuteTime": {
     "end_time": "2021-03-03T14:23:35.475204Z",
     "start_time": "2021-03-03T14:23:35.470592Z"
    }
   },
   "outputs": [],
   "source": [
    "def takeSecond(elem):\n",
    "    return elem[1]"
   ]
  },
  {
   "cell_type": "code",
   "execution_count": 9,
   "id": "fifth-hydrogen",
   "metadata": {
    "ExecuteTime": {
     "end_time": "2021-03-03T14:23:35.555587Z",
     "start_time": "2021-03-03T14:23:35.478154Z"
    }
   },
   "outputs": [
    {
     "name": "stdout",
     "output_type": "stream",
     "text": [
      "[(9, 1), (2, 3), (5, 4), (5, 5), (7, 6), (5, 9)]\n"
     ]
    }
   ],
   "source": [
    "my_tuples = [(5,4),(9,1),(2,3),(5,9),(7,6),(5,5)] \n",
    "my_tuples.sort(key=takeSecond)\n",
    "print(my_tuples)"
   ]
  },
  {
   "cell_type": "code",
   "execution_count": 10,
   "id": "civic-monthly",
   "metadata": {
    "ExecuteTime": {
     "end_time": "2021-03-03T14:23:35.621592Z",
     "start_time": "2021-03-03T14:23:35.558506Z"
    }
   },
   "outputs": [
    {
     "name": "stdout",
     "output_type": "stream",
     "text": [
      "[(9, 1), (2, 3), (5, 4), (5, 5), (7, 6), (5, 9)]\n"
     ]
    }
   ],
   "source": [
    "tup = [(5,4),(9,1),(2,3),(5,9),(7,6),(5,5)] \n",
    "lst = len(tup)\n",
    "for i in range(0, lst):\n",
    "\n",
    "    for j in range(0, lst-i-1):\n",
    "        if (tup[j][1] > tup[j + 1][1]):\n",
    "            temp = tup[j]\n",
    "            tup[j] = tup[j + 1]\n",
    "            tup[j + 1] = temp\n",
    "\n",
    "print(tup)"
   ]
  },
  {
   "cell_type": "markdown",
   "id": "excellent-actor",
   "metadata": {},
   "source": [
    "### Write a Python program to remove duplicate element from a list using loop.\n",
    "> Input:- [10,1,11,1,29,876,768,10,11,1,92,29,876]\n",
    "> Output:- [10,1,11,29,876,768,92]"
   ]
  },
  {
   "cell_type": "code",
   "execution_count": 11,
   "id": "pending-killing",
   "metadata": {
    "ExecuteTime": {
     "end_time": "2021-03-03T14:23:35.709755Z",
     "start_time": "2021-03-03T14:23:35.625242Z"
    }
   },
   "outputs": [
    {
     "name": "stdout",
     "output_type": "stream",
     "text": [
      "[10, 1, 11, 29, 876, 768, 92]\n"
     ]
    }
   ],
   "source": [
    "my_list=[10,1,11,1,29,876,768,10,11,1,92,29,876]\n",
    "new_list=[]\n",
    "[new_list.append(i) for i in my_list if i not in new_list]\n",
    "print(new_list)"
   ]
  },
  {
   "cell_type": "markdown",
   "id": "administrative-creature",
   "metadata": {},
   "source": [
    "### Write a Python program to check a list is empty or not?\n",
    "> Input:- []\n",
    "> Output:- List is empty <br>\n",
    "> Input:- [10,20,30]\n",
    "> Output:- List is not empty"
   ]
  },
  {
   "cell_type": "code",
   "execution_count": 12,
   "id": "dangerous-howard",
   "metadata": {
    "ExecuteTime": {
     "end_time": "2021-03-03T14:23:35.780706Z",
     "start_time": "2021-03-03T14:23:35.716755Z"
    }
   },
   "outputs": [
    {
     "name": "stdout",
     "output_type": "stream",
     "text": [
      "List is empty.\n",
      "List is not empty.\n"
     ]
    }
   ],
   "source": [
    "lst = []\n",
    "if len(lst) == 0:\n",
    "    print(\"List is empty.\")\n",
    "\n",
    "lst1 = [10,20,30]\n",
    "if len(lst1) != 0:\n",
    "    print(\"List is not empty.\")"
   ]
  },
  {
   "cell_type": "markdown",
   "id": "elder-salon",
   "metadata": {},
   "source": [
    "### Write a Python program to copy a list using loop.\n",
    "> inp_lst = [10,10.20,10+20j, 'Python', [10,20], (10,20)]\n",
    "> out_lst = [10,10.20,10+20j, 'Python', [10,20], (10,20)]\n"
   ]
  },
  {
   "cell_type": "code",
   "execution_count": 13,
   "id": "solar-mason",
   "metadata": {
    "ExecuteTime": {
     "end_time": "2021-03-03T14:23:35.855297Z",
     "start_time": "2021-03-03T14:23:35.783154Z"
    }
   },
   "outputs": [
    {
     "name": "stdout",
     "output_type": "stream",
     "text": [
      "[10, 10.2, (10+20j), 'Python', [10, 20], (10, 20)]\n"
     ]
    }
   ],
   "source": [
    "inp_lst = [10, 10.20, 10+20j, 'Python', [10, 20], (10, 20)]\n",
    "out_lst = []\n",
    "[out_lst.append(i) for i in inp_lst]\n",
    "print(out_lst)"
   ]
  },
  {
   "cell_type": "code",
   "execution_count": 14,
   "id": "headed-possibility",
   "metadata": {
    "ExecuteTime": {
     "end_time": "2021-03-03T14:23:35.938698Z",
     "start_time": "2021-03-03T14:23:35.857165Z"
    }
   },
   "outputs": [
    {
     "name": "stdout",
     "output_type": "stream",
     "text": [
      "[10, 10.2, (10+20j), 'Python', [10, 20], (10, 20)]\n"
     ]
    }
   ],
   "source": [
    "out_lst1 = inp_lst.copy()\n",
    "print(out_lst1)"
   ]
  },
  {
   "cell_type": "markdown",
   "id": "banned-irrigation",
   "metadata": {},
   "source": [
    "### Write a Python program to find the list of words that are longer than or equal to 4 from a given string.\n",
    "> Input:- 'How much wood would a woodchuck chuck if a woodchuck could chuck wood'\n",
    "> Output:- ['much', 'wood', 'would', 'woodchuck', 'chuck', 'could']\n",
    "#### Note:- Duplicate should be avoided."
   ]
  },
  {
   "cell_type": "code",
   "execution_count": 15,
   "id": "advisory-israeli",
   "metadata": {
    "ExecuteTime": {
     "end_time": "2021-03-03T14:23:36.013652Z",
     "start_time": "2021-03-03T14:23:35.941746Z"
    }
   },
   "outputs": [
    {
     "name": "stdout",
     "output_type": "stream",
     "text": [
      "['much', 'wood', 'would', 'woodchuck', 'chuck', 'could']\n"
     ]
    }
   ],
   "source": [
    "in_str = 'How much wood would a woodchuck chuck if a woodchuck could chuck wood'\n",
    "output = []\n",
    "[output.append(i) for i in in_str.split() if len(i) >= 4 and i not in output]\n",
    "print(output)"
   ]
  },
  {
   "cell_type": "markdown",
   "id": "creative-sender",
   "metadata": {},
   "source": [
    "### Write a Python program which takes two list as input and returns True if they have at least 3 common elements.\n",
    "> inp_lst1 = [10,20,'Python', 10.20, 10+20j, [10,20,30], (10,20,30)]\n",
    "> inp_lst2 = [(10,20,30),1,20+3j,100.2, 10+20j, [10,20,30],'Python']\n",
    "> Output:- True"
   ]
  },
  {
   "cell_type": "code",
   "execution_count": 2,
   "id": "unauthorized-justice",
   "metadata": {
    "ExecuteTime": {
     "end_time": "2021-03-03T14:55:04.494216Z",
     "start_time": "2021-03-03T14:55:04.485418Z"
    }
   },
   "outputs": [
    {
     "name": "stdout",
     "output_type": "stream",
     "text": [
      "4\n",
      "True\n"
     ]
    }
   ],
   "source": [
    "inp_lst1 = [10, 20, 'Python', 10.20, 10+20j, [10, 20, 30], (10, 20, 30)]\n",
    "inp_lst2 = [(10, 20, 30), 1, 20+3j, 100.2, 10+20j, [10, 20, 30], 'Python']\n",
    "counter = 0\n",
    "for i in inp_lst1:\n",
    "    if i in inp_lst2:\n",
    "        counter += 1\n",
    "\n",
    "if counter >= 3:\n",
    "    print(True)"
   ]
  },
  {
   "cell_type": "markdown",
   "id": "operational-costa",
   "metadata": {},
   "source": [
    "### Write a Python program to create a 4X4 2D matrix with below elements using loop and list comprehension both.\n",
    "> Output:- [[0,0,0,0],[0,1,2,3],[0,2,4,6],[0,3,6,9]]"
   ]
  },
  {
   "cell_type": "code",
   "execution_count": 17,
   "id": "explicit-custom",
   "metadata": {
    "ExecuteTime": {
     "end_time": "2021-03-03T14:23:36.164161Z",
     "start_time": "2021-03-03T14:23:36.091506Z"
    }
   },
   "outputs": [
    {
     "name": "stdout",
     "output_type": "stream",
     "text": [
      "[[0, 0, 0, 0], [0, 1, 2, 3], [0, 2, 4, 6], [0, 3, 6, 9]]\n"
     ]
    }
   ],
   "source": [
    "m = 4\n",
    "n = 4\n",
    "  \n",
    "a = [[x*y for x in range(n)] for y in range(m)] \n",
    "print(a)"
   ]
  },
  {
   "cell_type": "markdown",
   "id": "global-campus",
   "metadata": {},
   "source": [
    "### Write a Python program to create a 3X4X6 3D matrix wiith below elements using loop\n",
    "> Output:- \n",
    " [\n",
    "     [[0,0,0,0,0,0],[0,0,0,0,0,0],[0,0,0,0,0,0],[0,0,0,0,0,0]],\n",
    "     [[0,0,0,0,0,0],[1,1,1,1,1,1],[2,2,2,2,2,2],[3,3,3,3,3,3]],\n",
    "     [[0,0,0,0,0,0],[2,2,2,2,2,2],[4,4,4,4,4,4],[6,6,6,6,6,6]]\n",
    " ]"
   ]
  },
  {
   "cell_type": "code",
   "execution_count": 18,
   "id": "innocent-photography",
   "metadata": {
    "ExecuteTime": {
     "end_time": "2021-03-03T14:23:36.239571Z",
     "start_time": "2021-03-03T14:23:36.170706Z"
    }
   },
   "outputs": [
    {
     "name": "stdout",
     "output_type": "stream",
     "text": [
      "[[[0, 0, 0, 0, 0, 0], [0, 0, 0, 0, 0, 0], [0, 0, 0, 0, 0, 0], [0, 0, 0, 0, 0, 0]], [[0, 0, 0, 0, 0, 0], [1, 1, 1, 1, 1, 1], [2, 2, 2, 2, 2, 2], [3, 3, 3, 3, 3, 3]], [[0, 0, 0, 0, 0, 0], [2, 2, 2, 2, 2, 2], [4, 4, 4, 4, 4, 4], [6, 6, 6, 6, 6, 6]]]\n"
     ]
    }
   ],
   "source": [
    "a = [[[y*z for x in range(6)] for y in range(4)] for z in range(3)]\n",
    "print(a)"
   ]
  },
  {
   "cell_type": "markdown",
   "id": "blank-trauma",
   "metadata": {},
   "source": [
    "### Write a Python program which takes a list of numbers as input and prints a new list after removing even numbers from it.\n",
    "> Input:- [10,21,22,98,87,45,33,1,2,100]\n",
    "> Output:- [21,87,45,33,1]"
   ]
  },
  {
   "cell_type": "code",
   "execution_count": 19,
   "id": "patient-objective",
   "metadata": {
    "ExecuteTime": {
     "end_time": "2021-03-03T14:23:36.305544Z",
     "start_time": "2021-03-03T14:23:36.241291Z"
    }
   },
   "outputs": [
    {
     "name": "stdout",
     "output_type": "stream",
     "text": [
      "[21, 87, 45, 33, 1]\n"
     ]
    }
   ],
   "source": [
    "lst = [10,21,22,98,87,45,33,1,2,100]\n",
    "out_lst=[]\n",
    "[out_lst.append(i) for i in lst if i%2 != 0]\n",
    "print(out_lst)"
   ]
  },
  {
   "cell_type": "markdown",
   "id": "adult-smell",
   "metadata": {},
   "source": [
    "### Write a Python program which takes a list from the user and prints it after reshuffling the elements of the list.\n",
    "> Input:- [10,21,22,98,87,45,33,1,2,100]\n",
    "> Output:- [1,87,21,10,33,2,100,45,98,22] (It may be any randon list but with same elements)"
   ]
  },
  {
   "cell_type": "code",
   "execution_count": 5,
   "id": "preliminary-proof",
   "metadata": {
    "ExecuteTime": {
     "end_time": "2021-04-21T17:37:00.796509Z",
     "start_time": "2021-04-21T17:37:00.788728Z"
    }
   },
   "outputs": [
    {
     "name": "stdout",
     "output_type": "stream",
     "text": [
      "[2, 10, 87, 98, 100, 33, 22, 1, 21, 45]\n"
     ]
    }
   ],
   "source": [
    "import random\n",
    "lst = [10,21,22,98,87,45,33,1,2,100]\n",
    "random.shuffle(lst)\n",
    "print(lst)"
   ]
  },
  {
   "cell_type": "code",
   "execution_count": 8,
   "id": "affiliated-movie",
   "metadata": {
    "ExecuteTime": {
     "end_time": "2021-03-22T14:57:06.865625Z",
     "start_time": "2021-03-22T14:57:06.823726Z"
    }
   },
   "outputs": [
    {
     "name": "stdout",
     "output_type": "stream",
     "text": [
      "a \n",
      "a b \n",
      "a b c \n",
      "a b c d \n",
      "a b c d e \n",
      "a b c d e f \n",
      "a b c d e f g \n",
      "a b c d e f g h \n",
      "a b c d e f g h i \n",
      "a b c d e f g h i j \n",
      "a b c d e f g h i j k \n",
      "a b c d e f g h i j k l \n",
      "a b c d e f g h i j k l m \n",
      "a b c d e f g h i j k l m n \n",
      "a b c d e f g h i j k l m n o \n",
      "a b c d e f g h i j k l m n o p \n",
      "a b c d e f g h i j k l m n o p q \n",
      "a b c d e f g h i j k l m n o p q r \n",
      "a b c d e f g h i j k l m n o p q r s \n",
      "a b c d e f g h i j k l m n o p q r s t \n",
      "a b c d e f g h i j k l m n o p q r s t u \n",
      "a b c d e f g h i j k l m n o p q r s t u v \n",
      "a b c d e f g h i j k l m n o p q r s t u v w \n",
      "a b c d e f g h i j k l m n o p q r s t u v w x \n",
      "a b c d e f g h i j k l m n o p q r s t u v w x y \n",
      "a b c d e f g h i j k l m n o p q r s t u v w x y z \n"
     ]
    }
   ],
   "source": [
    "# a\n",
    "# ab\n",
    "# abc\n",
    "# abcd\n",
    "for i in range(1,27):\n",
    "    for j in range(i):\n",
    "        print(chr(97+j),end=\" \")\n",
    "    print()"
   ]
  }
 ],
 "metadata": {
  "kernelspec": {
   "display_name": "Python 3",
   "language": "python",
   "name": "python3"
  },
  "language_info": {
   "codemirror_mode": {
    "name": "ipython",
    "version": 3
   },
   "file_extension": ".py",
   "mimetype": "text/x-python",
   "name": "python",
   "nbconvert_exporter": "python",
   "pygments_lexer": "ipython3",
   "version": "3.8.3"
  },
  "latex_envs": {
   "LaTeX_envs_menu_present": true,
   "autoclose": false,
   "autocomplete": true,
   "bibliofile": "biblio.bib",
   "cite_by": "apalike",
   "current_citInitial": 1,
   "eqLabelWithNumbers": true,
   "eqNumInitial": 1,
   "hotkeys": {
    "equation": "Ctrl-E",
    "itemize": "Ctrl-I"
   },
   "labels_anchors": false,
   "latex_user_defs": false,
   "report_style_numbering": false,
   "user_envs_cfg": false
  },
  "varInspector": {
   "cols": {
    "lenName": 16,
    "lenType": 16,
    "lenVar": 40
   },
   "kernels_config": {
    "python": {
     "delete_cmd_postfix": "",
     "delete_cmd_prefix": "del ",
     "library": "var_list.py",
     "varRefreshCmd": "print(var_dic_list())"
    },
    "r": {
     "delete_cmd_postfix": ") ",
     "delete_cmd_prefix": "rm(",
     "library": "var_list.r",
     "varRefreshCmd": "cat(var_dic_list()) "
    }
   },
   "types_to_exclude": [
    "module",
    "function",
    "builtin_function_or_method",
    "instance",
    "_Feature"
   ],
   "window_display": false
  }
 },
 "nbformat": 4,
 "nbformat_minor": 5
}
