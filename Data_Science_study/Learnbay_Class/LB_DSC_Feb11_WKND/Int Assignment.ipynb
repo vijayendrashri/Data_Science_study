{
 "cells": [
  {
   "cell_type": "markdown",
   "id": "affecting-pulse",
   "metadata": {},
   "source": [
    "### 1. Declare an int value and store it in a variable. Check the type and print the id of the same."
   ]
  },
  {
   "cell_type": "code",
   "execution_count": 1,
   "id": "blessed-framework",
   "metadata": {
    "ExecuteTime": {
     "end_time": "2021-02-24T08:55:03.576460Z",
     "start_time": "2021-02-24T08:55:03.571427Z"
    }
   },
   "outputs": [
    {
     "name": "stdout",
     "output_type": "stream",
     "text": [
      "10 <class 'int'>\n"
     ]
    }
   ],
   "source": [
    "a = 10\n",
    "print(a, type(a))"
   ]
  },
  {
   "cell_type": "markdown",
   "id": "conscious-morocco",
   "metadata": {},
   "source": [
    "### 2. Take one int value between 0 - 256.Assign it to two different variables.Check the id of both the variables. It should come the same. Check why?"
   ]
  },
  {
   "cell_type": "code",
   "execution_count": 1,
   "id": "intellectual-nigeria",
   "metadata": {
    "ExecuteTime": {
     "end_time": "2021-02-27T04:56:51.749733Z",
     "start_time": "2021-02-27T04:56:51.742022Z"
    }
   },
   "outputs": [
    {
     "name": "stdout",
     "output_type": "stream",
     "text": [
      "94122124898144 94122124898144\n"
     ]
    }
   ],
   "source": [
    "a = 20\n",
    "b = 20\n",
    "print(id(a),id(b))"
   ]
  },
  {
   "cell_type": "markdown",
   "id": "educational-cancer",
   "metadata": {},
   "source": [
    "### 3. Take one int value either less than -5 or greater than 256. Assign it to two different variables. Check the id of both the variables. It should come different.Check why?"
   ]
  },
  {
   "cell_type": "code",
   "execution_count": 2,
   "id": "available-necklace",
   "metadata": {
    "ExecuteTime": {
     "end_time": "2021-02-27T04:57:29.841483Z",
     "start_time": "2021-02-27T04:57:29.834130Z"
    }
   },
   "outputs": [
    {
     "name": "stdout",
     "output_type": "stream",
     "text": [
      "94122124898144 94122124898464\n"
     ]
    }
   ],
   "source": [
    "a = 20\n",
    "b = 30\n",
    "print(id(a), id(b))"
   ]
  },
  {
   "cell_type": "markdown",
   "id": "headed-newark",
   "metadata": {},
   "source": [
    "### 4. Arithmetic Operations on integers Take two different integer values."
   ]
  },
  {
   "cell_type": "code",
   "execution_count": 4,
   "id": "scheduled-endorsement",
   "metadata": {
    "ExecuteTime": {
     "end_time": "2021-02-24T08:55:04.013619Z",
     "start_time": "2021-02-24T08:55:03.786187Z"
    }
   },
   "outputs": [
    {
     "name": "stdout",
     "output_type": "stream",
     "text": [
      "Sum of variable : 34\n",
      "Difference of variable : 26\n",
      "Product of variable : 120\n",
      "Divide of variable : 7.5\n",
      "Mod of variable : 2\n",
      "Power of variable : 810000\n"
     ]
    }
   ],
   "source": [
    "a = 30\n",
    "b = 4\n",
    "print('Sum of variable :', a+b)\n",
    "print('Difference of variable :', a-b)\n",
    "print('Product of variable :', a*b)\n",
    "print('Divide of variable :', a/b)\n",
    "print('Mod of variable :', a % b)\n",
    "print('Power of variable :', a ** b)"
   ]
  },
  {
   "cell_type": "markdown",
   "id": "intelligent-cooling",
   "metadata": {},
   "source": [
    "### 5. Comparison Operators on integers Take two different integer values."
   ]
  },
  {
   "cell_type": "code",
   "execution_count": 6,
   "id": "lined-kitchen",
   "metadata": {
    "ExecuteTime": {
     "end_time": "2021-02-27T05:00:53.439700Z",
     "start_time": "2021-02-27T05:00:53.432362Z"
    }
   },
   "outputs": [
    {
     "name": "stdout",
     "output_type": "stream",
     "text": [
      "True\n",
      "False\n",
      "True\n",
      "False\n"
     ]
    }
   ],
   "source": [
    "a = 30\n",
    "b = 20\n",
    "print(a > b)\n",
    "print(a < b)\n",
    "print(a >= b)\n",
    "print(a <= b)"
   ]
  },
  {
   "cell_type": "markdown",
   "id": "crucial-repository",
   "metadata": {},
   "source": [
    "### 6. Equality Operator Take two different integer values."
   ]
  },
  {
   "cell_type": "code",
   "execution_count": 5,
   "id": "equivalent-experience",
   "metadata": {
    "ExecuteTime": {
     "end_time": "2021-02-27T05:00:49.967612Z",
     "start_time": "2021-02-27T05:00:49.960789Z"
    }
   },
   "outputs": [
    {
     "name": "stdout",
     "output_type": "stream",
     "text": [
      "False\n",
      "True\n"
     ]
    }
   ],
   "source": [
    "a = 30\n",
    "b = 20\n",
    "print(a == b)\n",
    "print(a != b)"
   ]
  },
  {
   "cell_type": "markdown",
   "id": "violent-devon",
   "metadata": {},
   "source": [
    "### 7. Logical AND operators Observe the output of below code"
   ]
  },
  {
   "cell_type": "code",
   "execution_count": 35,
   "id": "oriental-frank",
   "metadata": {
    "ExecuteTime": {
     "end_time": "2021-02-27T05:26:08.690017Z",
     "start_time": "2021-02-27T05:26:08.683627Z"
    }
   },
   "outputs": [
    {
     "name": "stdout",
     "output_type": "stream",
     "text": [
      "20\n",
      "0\n",
      "0\n",
      "0\n"
     ]
    }
   ],
   "source": [
    "print(10 and 20)\n",
    "print(0 and 20)\n",
    "print(20 and 0)\n",
    "print(0 and 0)"
   ]
  },
  {
   "cell_type": "markdown",
   "id": "atmospheric-publicity",
   "metadata": {},
   "source": [
    "### 8. Logical OR operators Observe the output of below code"
   ]
  },
  {
   "cell_type": "code",
   "execution_count": 37,
   "id": "chemical-cause",
   "metadata": {
    "ExecuteTime": {
     "end_time": "2021-02-27T05:26:38.640381Z",
     "start_time": "2021-02-27T05:26:38.631623Z"
    }
   },
   "outputs": [
    {
     "name": "stdout",
     "output_type": "stream",
     "text": [
      "10\n",
      "20\n",
      "20\n",
      "0\n"
     ]
    }
   ],
   "source": [
    "print(10 or 20)\n",
    "print(0 or 20)\n",
    "print(20 or 0)\n",
    "print(0 or 0)"
   ]
  },
  {
   "cell_type": "code",
   "execution_count": 41,
   "id": "assigned-composer",
   "metadata": {
    "ExecuteTime": {
     "end_time": "2021-02-27T05:28:30.431416Z",
     "start_time": "2021-02-27T05:28:30.426996Z"
    }
   },
   "outputs": [
    {
     "name": "stdout",
     "output_type": "stream",
     "text": [
      "False\n",
      "True\n"
     ]
    }
   ],
   "source": [
    "print(not 10)\n",
    "print(not 0)"
   ]
  },
  {
   "cell_type": "markdown",
   "id": "subjective-contact",
   "metadata": {
    "ExecuteTime": {
     "end_time": "2021-02-24T08:55:04.238357Z",
     "start_time": "2021-02-24T08:55:04.016666Z"
    }
   },
   "source": [
    "###  9.Bitwise Operators:"
   ]
  },
  {
   "cell_type": "code",
   "execution_count": 52,
   "id": "wanted-spencer",
   "metadata": {
    "ExecuteTime": {
     "end_time": "2021-02-27T05:39:21.012998Z",
     "start_time": "2021-02-27T05:39:21.006341Z"
    }
   },
   "outputs": [
    {
     "name": "stdout",
     "output_type": "stream",
     "text": [
      "0\n",
      "30\n",
      "30\n",
      "-11\n",
      "40\n",
      "2\n"
     ]
    }
   ],
   "source": [
    "print(10 & 20)\n",
    "print(10 | 20)\n",
    "print(10 ^ 20)\n",
    "print(~10)\n",
    "print(10<<2)\n",
    "print(10>>2)"
   ]
  },
  {
   "cell_type": "markdown",
   "id": "persistent-access",
   "metadata": {},
   "source": [
    "### 10. What is the output of expression inside print statement. Cross check before running the program."
   ]
  },
  {
   "cell_type": "code",
   "execution_count": 56,
   "id": "direct-security",
   "metadata": {
    "ExecuteTime": {
     "end_time": "2021-02-27T05:42:05.011822Z",
     "start_time": "2021-02-27T05:42:05.004158Z"
    }
   },
   "outputs": [
    {
     "name": "stdout",
     "output_type": "stream",
     "text": [
      "True\n",
      "False\n",
      "False\n",
      "True\n"
     ]
    }
   ],
   "source": [
    "a = 10\n",
    "b = 10\n",
    "print(a is b)\n",
    "print(a is not b)\n",
    "\n",
    "a = 1000\n",
    "b = 1000\n",
    "print(a is b) \n",
    "print(a is not b)"
   ]
  },
  {
   "cell_type": "markdown",
   "id": "annual-maine",
   "metadata": {},
   "source": [
    "### 11. What is the output of expression inside print statement."
   ]
  },
  {
   "cell_type": "code",
   "execution_count": 58,
   "id": "worse-saturday",
   "metadata": {
    "ExecuteTime": {
     "end_time": "2021-02-27T05:43:16.109807Z",
     "start_time": "2021-02-27T05:43:16.103705Z"
    }
   },
   "outputs": [
    {
     "name": "stdout",
     "output_type": "stream",
     "text": [
      "20\n"
     ]
    }
   ],
   "source": [
    "print(10 + (10 * 32) // 2 ** 5 & 20 + (~(-10)) << 2)"
   ]
  },
  {
   "cell_type": "markdown",
   "id": "engaged-subdivision",
   "metadata": {},
   "source": [
    "### 12. Membership operation"
   ]
  },
  {
   "cell_type": "code",
   "execution_count": 59,
   "id": "continent-insight",
   "metadata": {
    "ExecuteTime": {
     "end_time": "2021-02-27T05:44:22.155708Z",
     "start_time": "2021-02-27T05:44:22.145788Z"
    }
   },
   "outputs": [
    {
     "name": "stdout",
     "output_type": "stream",
     "text": [
      "True\n",
      "True\n",
      "True\n",
      "True\n",
      "True\n",
      "True\n"
     ]
    }
   ],
   "source": [
    "print('2' in 'Python2.7.8')\n",
    "print(10 in [10, 10.20, 10+20j, 'Python'])\n",
    "print(10 in (10, 10.20, 10+20j, 'Python'))\n",
    "print(2 in {1, 2, 3})\n",
    "print(3 in {1: 100, 2: 200, 3: 300})\n",
    "print(10 in range(20))"
   ]
  },
  {
   "cell_type": "markdown",
   "id": "informed-advance",
   "metadata": {},
   "source": [
    "### 13. Declare one binary, one octal and one hexadecimal value and store them in three different variables."
   ]
  },
  {
   "cell_type": "code",
   "execution_count": 70,
   "id": "tropical-apparel",
   "metadata": {
    "ExecuteTime": {
     "end_time": "2021-02-27T05:46:50.040875Z",
     "start_time": "2021-02-27T05:46:50.031721Z"
    }
   },
   "outputs": [
    {
     "name": "stdout",
     "output_type": "stream",
     "text": [
      "23\n",
      "4169\n",
      "65809\n",
      "0b10011010010100\n",
      "0o23224\n",
      "0x2694\n"
     ]
    }
   ],
   "source": [
    "print(0b10111)\n",
    "print(0o10111)\n",
    "print(0x10111)\n",
    "print(bin(9876))\n",
    "print(oct(9876))\n",
    "print(hex(9876))"
   ]
  },
  {
   "cell_type": "markdown",
   "id": "departmental-coalition",
   "metadata": {},
   "source": [
    "### 14. What will be the output of following:-"
   ]
  },
  {
   "cell_type": "code",
   "execution_count": 71,
   "id": "surrounded-feelings",
   "metadata": {
    "ExecuteTime": {
     "end_time": "2021-02-27T05:49:22.202475Z",
     "start_time": "2021-02-27T05:49:22.190530Z"
    }
   },
   "outputs": [
    {
     "name": "stdout",
     "output_type": "stream",
     "text": [
      "80\n",
      "3870\n",
      "64222\n",
      "0b1010000\n",
      "0o7436\n",
      "0xfade\n",
      "0b1010000\n",
      "0b1111101011011110\n",
      "0o175336\n",
      "0o7436\n",
      "0x50\n",
      "0xfade\n"
     ]
    }
   ],
   "source": [
    "a = 0b1010000\n",
    "print(a)\n",
    "b = 0o7436\n",
    "print(b)\n",
    "c = 0xfade\n",
    "print(c)\n",
    "print(bin(80))\n",
    "print(oct(3870))\n",
    "print(hex(64222))\n",
    "print(bin(0b1010000))\n",
    "print(bin(0xfade))\n",
    "print(oct(0xfade))\n",
    "print(oct(0o7436))\n",
    "print(hex(0b1010000))\n",
    "print(hex(0xfade))"
   ]
  }
 ],
 "metadata": {
  "kernelspec": {
   "display_name": "Python 3",
   "language": "python",
   "name": "python3"
  },
  "language_info": {
   "codemirror_mode": {
    "name": "ipython",
    "version": 3
   },
   "file_extension": ".py",
   "mimetype": "text/x-python",
   "name": "python",
   "nbconvert_exporter": "python",
   "pygments_lexer": "ipython3",
   "version": "3.8.3"
  },
  "latex_envs": {
   "LaTeX_envs_menu_present": true,
   "autoclose": false,
   "autocomplete": true,
   "bibliofile": "biblio.bib",
   "cite_by": "apalike",
   "current_citInitial": 1,
   "eqLabelWithNumbers": true,
   "eqNumInitial": 1,
   "hotkeys": {
    "equation": "Ctrl-E",
    "itemize": "Ctrl-I"
   },
   "labels_anchors": false,
   "latex_user_defs": false,
   "report_style_numbering": false,
   "user_envs_cfg": false
  },
  "varInspector": {
   "cols": {
    "lenName": 16,
    "lenType": 16,
    "lenVar": 40
   },
   "kernels_config": {
    "python": {
     "delete_cmd_postfix": "",
     "delete_cmd_prefix": "del ",
     "library": "var_list.py",
     "varRefreshCmd": "print(var_dic_list())"
    },
    "r": {
     "delete_cmd_postfix": ") ",
     "delete_cmd_prefix": "rm(",
     "library": "var_list.r",
     "varRefreshCmd": "cat(var_dic_list()) "
    }
   },
   "types_to_exclude": [
    "module",
    "function",
    "builtin_function_or_method",
    "instance",
    "_Feature"
   ],
   "window_display": false
  }
 },
 "nbformat": 4,
 "nbformat_minor": 5
}
