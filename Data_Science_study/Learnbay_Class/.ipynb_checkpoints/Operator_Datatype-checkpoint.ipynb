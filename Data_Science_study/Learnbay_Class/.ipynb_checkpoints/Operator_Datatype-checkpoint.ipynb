{
 "cells": [
  {
   "cell_type": "code",
   "execution_count": 1,
   "metadata": {
    "ExecuteTime": {
     "end_time": "2021-03-01T17:09:47.164392Z",
     "start_time": "2021-03-01T17:09:47.157968Z"
    }
   },
   "outputs": [
    {
     "name": "stdout",
     "output_type": "stream",
     "text": [
      "0b1010\n",
      "0o12\n",
      "0xa\n",
      "(19+38j) <class 'complex'>\n",
      "19.0 <class 'float'>\n",
      "38.0 <class 'float'>\n"
     ]
    }
   ],
   "source": [
    "a= 10\n",
    "print(bin(a))\n",
    "print(oct(a))\n",
    "print(hex(a))\n",
    "b=19 + 38j\n",
    "print(b,type(b))\n",
    "print(b.real,type(b.real))\n",
    "print(b.imag,type(b.imag))"
   ]
  },
  {
   "cell_type": "code",
   "execution_count": 2,
   "metadata": {
    "ExecuteTime": {
     "end_time": "2021-03-01T17:09:47.274573Z",
     "start_time": "2021-03-01T17:09:47.166709Z"
    }
   },
   "outputs": [
    {
     "name": "stdout",
     "output_type": "stream",
     "text": [
      "5.0\n",
      "3.3333333333333335\n"
     ]
    }
   ],
   "source": [
    "print(10/2)\n",
    "print(10/3)"
   ]
  },
  {
   "cell_type": "code",
   "execution_count": 3,
   "metadata": {
    "ExecuteTime": {
     "end_time": "2021-03-01T17:09:47.356267Z",
     "start_time": "2021-03-01T17:09:47.277169Z"
    }
   },
   "outputs": [
    {
     "name": "stdout",
     "output_type": "stream",
     "text": [
      "5\n",
      "3\n"
     ]
    }
   ],
   "source": [
    "print(10//2)\n",
    "print(10//3)"
   ]
  },
  {
   "cell_type": "markdown",
   "metadata": {},
   "source": [
    "## ASCII value"
   ]
  },
  {
   "cell_type": "code",
   "execution_count": 4,
   "metadata": {
    "ExecuteTime": {
     "end_time": "2021-03-01T17:09:47.431946Z",
     "start_time": "2021-03-01T17:09:47.358335Z"
    }
   },
   "outputs": [
    {
     "name": "stdout",
     "output_type": "stream",
     "text": [
      "65\n",
      "False\n",
      "True\n"
     ]
    }
   ],
   "source": [
    "print(ord('A'))\n",
    "print('A'==65)\n",
    "print('A'=='A')\n"
   ]
  },
  {
   "cell_type": "code",
   "execution_count": 5,
   "metadata": {
    "ExecuteTime": {
     "end_time": "2021-03-01T17:09:47.623558Z",
     "start_time": "2021-03-01T17:09:47.433429Z"
    },
    "scrolled": true
   },
   "outputs": [
    {
     "name": "stdout",
     "output_type": "stream",
     "text": [
      "0 \u0000\n",
      "1 \u0001\n",
      "2 \u0002\n",
      "3 \u0003\n",
      "4 \u0004\n",
      "5 \u0005\n",
      "6 \u0006\n",
      "7 \u0007\n",
      "8\n",
      "9 \t\n",
      "10 \n",
      "\n",
      "11 \u000b",
      "\n",
      "12 \f",
      "\n",
      "13 \n",
      "14 \u000e\n",
      "15 \u000f\n",
      "16 \u0010\n",
      "17 \u0011\n",
      "18 \u0012\n",
      "19 \u0013\n",
      "20 \u0014\n",
      "21 \u0015\n",
      "22 \u0016\n",
      "23 \u0017\n",
      "24 \u0018\n",
      "25 \u0019\n",
      "26 \u001a\n",
      "27 \u001b\n",
      "28 \u001c",
      "\n",
      "29 \u001d",
      "\n",
      "30 \u001e",
      "\n",
      "31 \u001f\n",
      "32  \n",
      "33 !\n",
      "34 \"\n",
      "35 #\n",
      "36 $\n",
      "37 %\n",
      "38 &\n",
      "39 '\n",
      "40 (\n",
      "41 )\n",
      "42 *\n",
      "43 +\n",
      "44 ,\n",
      "45 -\n",
      "46 .\n",
      "47 /\n",
      "48 0\n",
      "49 1\n",
      "50 2\n",
      "51 3\n",
      "52 4\n",
      "53 5\n",
      "54 6\n",
      "55 7\n",
      "56 8\n",
      "57 9\n",
      "58 :\n",
      "59 ;\n",
      "60 <\n",
      "61 =\n",
      "62 >\n",
      "63 ?\n",
      "64 @\n",
      "65 A\n",
      "66 B\n",
      "67 C\n",
      "68 D\n",
      "69 E\n",
      "70 F\n",
      "71 G\n",
      "72 H\n",
      "73 I\n",
      "74 J\n",
      "75 K\n",
      "76 L\n",
      "77 M\n",
      "78 N\n",
      "79 O\n",
      "80 P\n",
      "81 Q\n",
      "82 R\n",
      "83 S\n",
      "84 T\n",
      "85 U\n",
      "86 V\n",
      "87 W\n",
      "88 X\n",
      "89 Y\n",
      "90 Z\n",
      "91 [\n",
      "92 \\\n",
      "93 ]\n",
      "94 ^\n",
      "95 _\n",
      "96 `\n",
      "97 a\n",
      "98 b\n",
      "99 c\n",
      "100 d\n",
      "101 e\n",
      "102 f\n",
      "103 g\n",
      "104 h\n",
      "105 i\n",
      "106 j\n",
      "107 k\n",
      "108 l\n",
      "109 m\n",
      "110 n\n",
      "111 o\n",
      "112 p\n",
      "113 q\n",
      "114 r\n",
      "115 s\n",
      "116 t\n",
      "117 u\n",
      "118 v\n",
      "119 w\n",
      "120 x\n",
      "121 y\n",
      "122 z\n",
      "123 {\n",
      "124 |\n",
      "125 }\n",
      "126 ~\n",
      "127 \n",
      "128 \n",
      "129 \n",
      "130 \n",
      "131 \n",
      "132 \n",
      "133 ",
      "\n",
      "134 \n",
      "135 \n",
      "136 \n",
      "137 \n",
      "138 \n",
      "139 \n",
      "140 \n",
      "141 \n",
      "142 \n",
      "143 \n",
      "144 \n",
      "145 \n",
      "146 \n",
      "147 \n",
      "148 \n",
      "149 \n",
      "150 \n",
      "151 \n",
      "152 \n",
      "153 \n",
      "154 \n",
      "155 \n",
      "156 \n",
      "157 \n",
      "158 \n",
      "159 \n",
      "160  \n",
      "161 ¡\n",
      "162 ¢\n",
      "163 £\n",
      "164 ¤\n",
      "165 ¥\n",
      "166 ¦\n",
      "167 §\n",
      "168 ¨\n",
      "169 ©\n",
      "170 ª\n",
      "171 «\n",
      "172 ¬\n",
      "173 ­\n",
      "174 ®\n",
      "175 ¯\n",
      "176 °\n",
      "177 ±\n",
      "178 ²\n",
      "179 ³\n",
      "180 ´\n",
      "181 µ\n",
      "182 ¶\n",
      "183 ·\n",
      "184 ¸\n",
      "185 ¹\n",
      "186 º\n",
      "187 »\n",
      "188 ¼\n",
      "189 ½\n",
      "190 ¾\n",
      "191 ¿\n",
      "192 À\n",
      "193 Á\n",
      "194 Â\n",
      "195 Ã\n",
      "196 Ä\n",
      "197 Å\n",
      "198 Æ\n",
      "199 Ç\n",
      "200 È\n",
      "201 É\n",
      "202 Ê\n",
      "203 Ë\n",
      "204 Ì\n",
      "205 Í\n",
      "206 Î\n",
      "207 Ï\n",
      "208 Ð\n",
      "209 Ñ\n",
      "210 Ò\n",
      "211 Ó\n",
      "212 Ô\n",
      "213 Õ\n",
      "214 Ö\n",
      "215 ×\n",
      "216 Ø\n",
      "217 Ù\n",
      "218 Ú\n",
      "219 Û\n",
      "220 Ü\n",
      "221 Ý\n",
      "222 Þ\n",
      "223 ß\n",
      "224 à\n",
      "225 á\n",
      "226 â\n",
      "227 ã\n",
      "228 ä\n",
      "229 å\n",
      "230 æ\n",
      "231 ç\n",
      "232 è\n",
      "233 é\n",
      "234 ê\n",
      "235 ë\n",
      "236 ì\n",
      "237 í\n",
      "238 î\n",
      "239 ï\n",
      "240 ð\n",
      "241 ñ\n",
      "242 ò\n",
      "243 ó\n",
      "244 ô\n",
      "245 õ\n",
      "246 ö\n",
      "247 ÷\n",
      "248 ø\n",
      "249 ù\n",
      "250 ú\n",
      "251 û\n",
      "252 ü\n",
      "253 ý\n",
      "254 þ\n",
      "255 ÿ\n",
      "256 Ā\n",
      "257 ā\n",
      "258 Ă\n",
      "259 ă\n",
      "260 Ą\n",
      "261 ą\n",
      "262 Ć\n",
      "263 ć\n",
      "264 Ĉ\n",
      "265 ĉ\n",
      "266 Ċ\n",
      "267 ċ\n",
      "268 Č\n",
      "269 č\n",
      "270 Ď\n",
      "271 ď\n",
      "272 Đ\n",
      "273 đ\n",
      "274 Ē\n",
      "275 ē\n",
      "276 Ĕ\n",
      "277 ĕ\n",
      "278 Ė\n",
      "279 ė\n",
      "280 Ę\n",
      "281 ę\n",
      "282 Ě\n",
      "283 ě\n",
      "284 Ĝ\n",
      "285 ĝ\n",
      "286 Ğ\n",
      "287 ğ\n",
      "288 Ġ\n",
      "289 ġ\n",
      "290 Ģ\n",
      "291 ģ\n",
      "292 Ĥ\n",
      "293 ĥ\n",
      "294 Ħ\n",
      "295 ħ\n",
      "296 Ĩ\n",
      "297 ĩ\n",
      "298 Ī\n",
      "299 ī\n"
     ]
    }
   ],
   "source": [
    "for i in range(300):\n",
    "    print(i , chr(i))"
   ]
  },
  {
   "cell_type": "code",
   "execution_count": 6,
   "metadata": {
    "ExecuteTime": {
     "end_time": "2021-03-01T17:09:47.658511Z",
     "start_time": "2021-03-01T17:09:47.626223Z"
    }
   },
   "outputs": [
    {
     "name": "stdout",
     "output_type": "stream",
     "text": [
      "39\n"
     ]
    }
   ],
   "source": [
    "print(0b100111)"
   ]
  },
  {
   "cell_type": "code",
   "execution_count": 7,
   "metadata": {
    "ExecuteTime": {
     "end_time": "2021-03-01T17:09:47.740709Z",
     "start_time": "2021-03-01T17:09:47.662032Z"
    }
   },
   "outputs": [],
   "source": [
    "my_str = \"This is Python class\""
   ]
  },
  {
   "cell_type": "code",
   "execution_count": 8,
   "metadata": {
    "ExecuteTime": {
     "end_time": "2021-03-01T17:09:47.827516Z",
     "start_time": "2021-03-01T17:09:47.743570Z"
    }
   },
   "outputs": [
    {
     "data": {
      "text/plain": [
       "20"
      ]
     },
     "execution_count": 8,
     "metadata": {},
     "output_type": "execute_result"
    }
   ],
   "source": [
    "len(my_str)"
   ]
  },
  {
   "cell_type": "code",
   "execution_count": 9,
   "metadata": {
    "ExecuteTime": {
     "end_time": "2021-03-01T17:09:47.907917Z",
     "start_time": "2021-03-01T17:09:47.828871Z"
    }
   },
   "outputs": [
    {
     "data": {
      "text/plain": [
       "'ssyo'"
      ]
     },
     "execution_count": 9,
     "metadata": {},
     "output_type": "execute_result"
    }
   ],
   "source": [
    "my_str[3:13:3]"
   ]
  },
  {
   "cell_type": "code",
   "execution_count": 10,
   "metadata": {
    "ExecuteTime": {
     "end_time": "2021-03-01T17:09:47.992044Z",
     "start_time": "2021-03-01T17:09:47.910791Z"
    }
   },
   "outputs": [
    {
     "data": {
      "text/plain": [
       "'This is Python class at Learnbay..'"
      ]
     },
     "execution_count": 10,
     "metadata": {},
     "output_type": "execute_result"
    }
   ],
   "source": [
    "my_str + \" at Learnbay..\""
   ]
  },
  {
   "cell_type": "code",
   "execution_count": 11,
   "metadata": {
    "ExecuteTime": {
     "end_time": "2021-03-01T17:09:48.082241Z",
     "start_time": "2021-03-01T17:09:47.995113Z"
    }
   },
   "outputs": [],
   "source": [
    "s1='Python'\n",
    "s2='Python'"
   ]
  },
  {
   "cell_type": "code",
   "execution_count": 12,
   "metadata": {
    "ExecuteTime": {
     "end_time": "2021-03-01T17:09:48.167630Z",
     "start_time": "2021-03-01T17:09:48.085653Z"
    }
   },
   "outputs": [
    {
     "name": "stdout",
     "output_type": "stream",
     "text": [
      "True\n"
     ]
    }
   ],
   "source": [
    "print(s1 is s2)"
   ]
  },
  {
   "cell_type": "code",
   "execution_count": 13,
   "metadata": {
    "ExecuteTime": {
     "end_time": "2021-03-01T17:09:48.239497Z",
     "start_time": "2021-03-01T17:09:48.170632Z"
    }
   },
   "outputs": [],
   "source": [
    "s3='This is Python class'\n",
    "s4='This is Python class'"
   ]
  },
  {
   "cell_type": "code",
   "execution_count": 14,
   "metadata": {
    "ExecuteTime": {
     "end_time": "2021-03-01T17:09:48.325774Z",
     "start_time": "2021-03-01T17:09:48.243329Z"
    }
   },
   "outputs": [
    {
     "name": "stdout",
     "output_type": "stream",
     "text": [
      "False\n"
     ]
    }
   ],
   "source": [
    "print(s3 is s4)"
   ]
  },
  {
   "cell_type": "code",
   "execution_count": 15,
   "metadata": {
    "ExecuteTime": {
     "end_time": "2021-03-01T17:09:48.401160Z",
     "start_time": "2021-03-01T17:09:48.328194Z"
    }
   },
   "outputs": [
    {
     "name": "stdout",
     "output_type": "stream",
     "text": [
      "['__add__', '__class__', '__contains__', '__delattr__', '__dir__', '__doc__', '__eq__', '__format__', '__ge__', '__getattribute__', '__getitem__', '__getnewargs__', '__gt__', '__hash__', '__init__', '__init_subclass__', '__iter__', '__le__', '__len__', '__lt__', '__mod__', '__mul__', '__ne__', '__new__', '__reduce__', '__reduce_ex__', '__repr__', '__rmod__', '__rmul__', '__setattr__', '__sizeof__', '__str__', '__subclasshook__', 'capitalize', 'casefold', 'center', 'count', 'encode', 'endswith', 'expandtabs', 'find', 'format', 'format_map', 'index', 'isalnum', 'isalpha', 'isascii', 'isdecimal', 'isdigit', 'isidentifier', 'islower', 'isnumeric', 'isprintable', 'isspace', 'istitle', 'isupper', 'join', 'ljust', 'lower', 'lstrip', 'maketrans', 'partition', 'replace', 'rfind', 'rindex', 'rjust', 'rpartition', 'rsplit', 'rstrip', 'split', 'splitlines', 'startswith', 'strip', 'swapcase', 'title', 'translate', 'upper', 'zfill']\n"
     ]
    }
   ],
   "source": [
    "print(dir(s1))"
   ]
  },
  {
   "cell_type": "code",
   "execution_count": 16,
   "metadata": {
    "ExecuteTime": {
     "end_time": "2021-03-01T17:09:48.476493Z",
     "start_time": "2021-03-01T17:09:48.404866Z"
    }
   },
   "outputs": [
    {
     "name": "stdout",
     "output_type": "stream",
     "text": [
      "hi my name is vijayendra.\n"
     ]
    }
   ],
   "source": [
    "ms = 'Hi My name is vijayendra.'\n",
    "print(ms.casefold())"
   ]
  },
  {
   "cell_type": "code",
   "execution_count": 17,
   "metadata": {
    "ExecuteTime": {
     "end_time": "2021-03-01T17:09:48.550213Z",
     "start_time": "2021-03-01T17:09:48.480099Z"
    }
   },
   "outputs": [
    {
     "name": "stdout",
     "output_type": "stream",
     "text": [
      "139916832455472 Python\n"
     ]
    }
   ],
   "source": [
    "print(id(s1),s1)\n",
    "s1 = s1.replace('P','J')"
   ]
  },
  {
   "cell_type": "code",
   "execution_count": 18,
   "metadata": {
    "ExecuteTime": {
     "end_time": "2021-03-01T17:09:48.642233Z",
     "start_time": "2021-03-01T17:09:48.552710Z"
    }
   },
   "outputs": [
    {
     "name": "stdout",
     "output_type": "stream",
     "text": [
      "139916752331440 Jython\n"
     ]
    }
   ],
   "source": [
    "print(id(s1),s1)"
   ]
  },
  {
   "cell_type": "code",
   "execution_count": 19,
   "metadata": {
    "ExecuteTime": {
     "end_time": "2021-03-01T17:09:48.724771Z",
     "start_time": "2021-03-01T17:09:48.645684Z"
    }
   },
   "outputs": [],
   "source": [
    "my_s = 'peter piper picked  a pack of pickled peppers.'"
   ]
  },
  {
   "cell_type": "code",
   "execution_count": 20,
   "metadata": {
    "ExecuteTime": {
     "end_time": "2021-03-01T17:09:48.811057Z",
     "start_time": "2021-03-01T17:09:48.728618Z"
    }
   },
   "outputs": [
    {
     "data": {
      "text/plain": [
       "'peppers. pickled of pack a picked piper peter'"
      ]
     },
     "execution_count": 20,
     "metadata": {},
     "output_type": "execute_result"
    }
   ],
   "source": [
    "' '.join(my_s.split()[::-1])"
   ]
  },
  {
   "cell_type": "code",
   "execution_count": 21,
   "metadata": {
    "ExecuteTime": {
     "end_time": "2021-03-01T17:09:48.899967Z",
     "start_time": "2021-03-01T17:09:48.814743Z"
    }
   },
   "outputs": [],
   "source": [
    "lst = [10,20,30+45j,'Python',None,True,[10,3,3,2],{100,200,300},(1,2,3,4),{1:100,2:200,3:300,4:400}]"
   ]
  },
  {
   "cell_type": "code",
   "execution_count": 22,
   "metadata": {
    "ExecuteTime": {
     "end_time": "2021-03-01T17:09:48.986832Z",
     "start_time": "2021-03-01T17:09:48.910698Z"
    }
   },
   "outputs": [
    {
     "data": {
      "text/plain": [
       "[10, (30+45j), None, [10, 3, 3, 2], (1, 2, 3, 4)]"
      ]
     },
     "execution_count": 22,
     "metadata": {},
     "output_type": "execute_result"
    }
   ],
   "source": [
    "lst[0:len(lst):2]"
   ]
  },
  {
   "cell_type": "code",
   "execution_count": 23,
   "metadata": {
    "ExecuteTime": {
     "end_time": "2021-03-01T17:09:49.073542Z",
     "start_time": "2021-03-01T17:09:48.991656Z"
    }
   },
   "outputs": [
    {
     "name": "stdout",
     "output_type": "stream",
     "text": [
      "[400, 484, 576, 676, 784, 900, 1024, 1156, 1296, 1444, 1600, 1764, 1936, 2116, 2304, 2500]\n"
     ]
    }
   ],
   "source": [
    "# out_lst=[]\n",
    "# for i in range(20,51):\n",
    "#     if i%2==0:\n",
    "#         out_lst.append(i)\n",
    "# print(out_lst)\n",
    "print([i**2 for i in range(20,51) if i%2==0])"
   ]
  },
  {
   "cell_type": "code",
   "execution_count": 24,
   "metadata": {
    "ExecuteTime": {
     "end_time": "2021-03-01T17:09:49.155247Z",
     "start_time": "2021-03-01T17:09:49.075850Z"
    }
   },
   "outputs": [
    {
     "data": {
      "text/plain": [
       "[[[0, 0, 0, 0, 0, 0],\n",
       "  [0, 0, 0, 0, 0, 0],\n",
       "  [0, 0, 0, 0, 0, 0],\n",
       "  [0, 0, 0, 0, 0, 0]],\n",
       " [[0, 0, 0, 0, 0, 0],\n",
       "  [1, 1, 1, 1, 1, 1],\n",
       "  [2, 2, 2, 2, 2, 2],\n",
       "  [3, 3, 3, 3, 3, 3]],\n",
       " [[0, 0, 0, 0, 0, 0],\n",
       "  [2, 2, 2, 2, 2, 2],\n",
       "  [4, 4, 4, 4, 4, 4],\n",
       "  [6, 6, 6, 6, 6, 6]]]"
      ]
     },
     "execution_count": 24,
     "metadata": {},
     "output_type": "execute_result"
    }
   ],
   "source": [
    "[[[j*k for i in range(6)] for j in range(4)]for k in range(3)]"
   ]
  },
  {
   "cell_type": "code",
   "execution_count": 25,
   "metadata": {
    "ExecuteTime": {
     "end_time": "2021-03-01T17:09:49.242339Z",
     "start_time": "2021-03-01T17:09:49.157823Z"
    }
   },
   "outputs": [],
   "source": [
    "f = open('cars.json','r')\n",
    "lines = f.readlines()"
   ]
  },
  {
   "cell_type": "code",
   "execution_count": 26,
   "metadata": {
    "ExecuteTime": {
     "end_time": "2021-03-01T17:09:49.346067Z",
     "start_time": "2021-03-01T17:09:49.245817Z"
    }
   },
   "outputs": [
    {
     "name": "stdout",
     "output_type": "stream",
     "text": [
      "{\"make_id\":\"abarth\",\"make_display\":\"Abarth\",\"make_is_common\":\"0\",\"make_country\":\"Italy\"}\n",
      "\n",
      "{\"make_id\":\"ac\",\"make_display\":\"AC\",\"make_is_common\":\"0\",\"make_country\":\"UK\"}\n",
      "\n",
      "{\"make_id\":\"acura\",\"make_display\":\"Acura\",\"make_is_common\":\"1\",\"make_country\":\"USA\"}\n",
      "\n",
      "{\"make_id\":\"alfa-romeo\",\"make_display\":\"Alfa Romeo\",\"make_is_common\":\"1\",\"make_country\":\"Italy\"}\n",
      "\n",
      "{\"make_id\":\"allard\",\"make_display\":\"Allard\",\"make_is_common\":\"0\",\"make_country\":\"UK\"}\n",
      "\n",
      "{\"make_id\":\"alpina\",\"make_display\":\"Alpina\",\"make_is_common\":\"0\",\"make_country\":\"UK\"}\n",
      "\n",
      "{\"make_id\":\"alpine\",\"make_display\":\"Alpine\",\"make_is_common\":\"0\",\"make_country\":\"Germany\"}\n",
      "\n",
      "{\"make_id\":\"alvis\",\"make_display\":\"Alvis\",\"make_is_common\":\"0\",\"make_country\":\"UK\"}\n",
      "\n",
      "{\"make_id\":\"amc\",\"make_display\":\"AMC\",\"make_is_common\":\"0\",\"make_country\":\"USA\"}\n",
      "\n",
      "{\"make_id\":\"ariel\",\"make_display\":\"Ariel\",\"make_is_common\":\"0\",\"make_country\":\"UK\"}\n",
      "\n",
      "{\"make_id\":\"armstrong-siddeley\",\"make_display\":\"Armstrong Siddeley\",\"make_is_common\":\"0\",\"make_country\":\"UK\"}\n",
      "\n",
      "{\"make_id\":\"ascari\",\"make_display\":\"Ascari\",\"make_is_common\":\"0\",\"make_country\":\"UK\"}\n",
      "\n",
      "{\"make_id\":\"aston-martin\",\"make_display\":\"Aston Martin\",\"make_is_common\":\"1\",\"make_country\":\"UK\"}\n",
      "\n",
      "{\"make_id\":\"audi\",\"make_display\":\"Audi\",\"make_is_common\":\"1\",\"make_country\":\"Germany\"}\n",
      "\n",
      "{\"make_id\":\"austin\",\"make_display\":\"Austin\",\"make_is_common\":\"0\",\"make_country\":\"UK\"}\n",
      "\n",
      "{\"make_id\":\"austin-healey\",\"make_display\":\"Austin-Healey\",\"make_is_common\":\"0\",\"make_country\":\"UK\"}\n",
      "\n",
      "{\"make_id\":\"autobianchi\",\"make_display\":\"Autobianchi\",\"make_is_common\":\"0\",\"make_country\":\"Italy\"}\n",
      "\n",
      "{\"make_id\":\"auverland\",\"make_display\":\"Auverland\",\"make_is_common\":\"0\",\"make_country\":\"France\"}\n",
      "\n",
      "{\"make_id\":\"avanti\",\"make_display\":\"Avanti\",\"make_is_common\":\"0\",\"make_country\":\"USA\"}\n",
      "\n",
      "{\"make_id\":\"beijing\",\"make_display\":\"Beijing\",\"make_is_common\":\"0\",\"make_country\":\"China\"}\n",
      "\n",
      "{\"make_id\":\"bentley\",\"make_display\":\"Bentley\",\"make_is_common\":\"1\",\"make_country\":\"UK\"}\n",
      "\n",
      "{\"make_id\":\"berkeley\",\"make_display\":\"Berkeley\",\"make_is_common\":\"0\",\"make_country\":\"UK\"}\n",
      "\n",
      "{\"make_id\":\"bitter\",\"make_display\":\"Bitter\",\"make_is_common\":\"0\",\"make_country\":\"Germany\"}\n",
      "\n",
      "{\"make_id\":\"bizzarrini\",\"make_display\":\"Bizzarrini\",\"make_is_common\":\"0\",\"make_country\":\"Italy\"}\n",
      "\n",
      "{\"make_id\":\"bmw\",\"make_display\":\"BMW\",\"make_is_common\":\"1\",\"make_country\":\"Germany\"}\n",
      "\n",
      "{\"make_id\":\"brilliance\",\"make_display\":\"Brilliance\",\"make_is_common\":\"0\",\"make_country\":\"China\"}\n",
      "\n",
      "{\"make_id\":\"bristol\",\"make_display\":\"Bristol\",\"make_is_common\":\"0\",\"make_country\":\"UK\"}\n",
      "\n",
      "{\"make_id\":\"bugatti\",\"make_display\":\"Bugatti\",\"make_is_common\":\"1\",\"make_country\":\"Italy\"}\n",
      "\n",
      "{\"make_id\":\"buick\",\"make_display\":\"Buick\",\"make_is_common\":\"1\",\"make_country\":\"USA\"}\n",
      "\n",
      "{\"make_id\":\"cadillac\",\"make_display\":\"Cadillac\",\"make_is_common\":\"1\",\"make_country\":\"USA\"}\n",
      "\n",
      "{\"make_id\":\"caterham\",\"make_display\":\"Caterham\",\"make_is_common\":\"0\",\"make_country\":\"UK\"}\n",
      "\n",
      "{\"make_id\":\"checker\",\"make_display\":\"Checker\",\"make_is_common\":\"0\",\"make_country\":\"USA\"}\n",
      "\n",
      "{\"make_id\":\"chevrolet\",\"make_display\":\"Chevrolet\",\"make_is_common\":\"1\",\"make_country\":\"USA\"}\n",
      "\n",
      "{\"make_id\":\"chrysler\",\"make_display\":\"Chrysler\",\"make_is_common\":\"1\",\"make_country\":\"USA\"}\n",
      "\n",
      "{\"make_id\":\"citroen\",\"make_display\":\"Citroen\",\"make_is_common\":\"1\",\"make_country\":\"France\"}\n",
      "\n",
      "{\"make_id\":\"dacia\",\"make_display\":\"Dacia\",\"make_is_common\":\"1\",\"make_country\":\"Romania\"}\n",
      "\n",
      "{\"make_id\":\"daewoo\",\"make_display\":\"Daewoo\",\"make_is_common\":\"1\",\"make_country\":\"South Korea\"}\n",
      "\n",
      "{\"make_id\":\"daf\",\"make_display\":\"DAF\",\"make_is_common\":\"0\",\"make_country\":\"Netherlands\"}\n",
      "\n",
      "{\"make_id\":\"daihatsu\",\"make_display\":\"Daihatsu\",\"make_is_common\":\"1\",\"make_country\":\"Japan\"}\n",
      "\n",
      "{\"make_id\":\"daimler\",\"make_display\":\"Daimler\",\"make_is_common\":\"0\",\"make_country\":\"UK\"}\n",
      "\n",
      "{\"make_id\":\"datsun\",\"make_display\":\"Datsun\",\"make_is_common\":\"1\",\"make_country\":\"Japan\"}\n",
      "\n",
      "{\"make_id\":\"de-tomaso\",\"make_display\":\"De Tomaso\",\"make_is_common\":\"0\",\"make_country\":\"Italy\"}\n",
      "\n",
      "{\"make_id\":\"dkw\",\"make_display\":\"DKW\",\"make_is_common\":\"0\",\"make_country\":\"Germany\"}\n",
      "\n",
      "{\"make_id\":\"dodge\",\"make_display\":\"Dodge\",\"make_is_common\":\"1\",\"make_country\":\"USA\"}\n",
      "\n",
      "{\"make_id\":\"donkervoort\",\"make_display\":\"Donkervoort\",\"make_is_common\":\"0\",\"make_country\":\"Netherlands\"}\n",
      "\n",
      "{\"make_id\":\"eagle\",\"make_display\":\"Eagle\",\"make_is_common\":\"1\",\"make_country\":\"USA\"}\n",
      "\n",
      "{\"make_id\":\"fairthorpe\",\"make_display\":\"Fairthorpe\",\"make_is_common\":\"0\",\"make_country\":\"UK\"}\n",
      "\n",
      "{\"make_id\":\"ferrari\",\"make_display\":\"Ferrari\",\"make_is_common\":\"1\",\"make_country\":\"Italy\"}\n",
      "\n",
      "{\"make_id\":\"fiat\",\"make_display\":\"Fiat\",\"make_is_common\":\"1\",\"make_country\":\"Italy\"}\n",
      "\n",
      "{\"make_id\":\"fisker\",\"make_display\":\"Fisker\",\"make_is_common\":\"1\",\"make_country\":\"USA\"}\n",
      "\n",
      "{\"make_id\":\"ford\",\"make_display\":\"Ford\",\"make_is_common\":\"1\",\"make_country\":\"USA\"}\n",
      "\n",
      "{\"make_id\":\"gaz\",\"make_display\":\"GAZ\",\"make_is_common\":\"0\",\"make_country\":\"Russia\"}\n",
      "\n",
      "{\"make_id\":\"geely\",\"make_display\":\"Geely\",\"make_is_common\":\"0\",\"make_country\":\"China\"}\n",
      "\n",
      "{\"make_id\":\"ginetta\",\"make_display\":\"Ginetta\",\"make_is_common\":\"0\",\"make_country\":\"UK\"}\n",
      "\n",
      "{\"make_id\":\"gmc\",\"make_display\":\"GMC\",\"make_is_common\":\"1\",\"make_country\":\"USA\"}\n",
      "\n",
      "{\"make_id\":\"holden\",\"make_display\":\"Holden\",\"make_is_common\":\"1\",\"make_country\":\"Australia\"}\n",
      "\n",
      "{\"make_id\":\"honda\",\"make_display\":\"Honda\",\"make_is_common\":\"1\",\"make_country\":\"Japan\"}\n",
      "\n",
      "{\"make_id\":\"hudson\",\"make_display\":\"Hudson\",\"make_is_common\":\"0\",\"make_country\":\"USA\"}\n",
      "\n",
      "{\"make_id\":\"humber\",\"make_display\":\"Humber\",\"make_is_common\":\"0\",\"make_country\":\"UK\"}\n",
      "\n",
      "{\"make_id\":\"hummer\",\"make_display\":\"Hummer\",\"make_is_common\":\"1\",\"make_country\":\"USA\"}\n",
      "\n",
      "{\"make_id\":\"hyundai\",\"make_display\":\"Hyundai\",\"make_is_common\":\"1\",\"make_country\":\"South Korea\"}\n",
      "\n",
      "{\"make_id\":\"infiniti\",\"make_display\":\"Infiniti\",\"make_is_common\":\"1\",\"make_country\":\"Japan\"}\n",
      "\n",
      "{\"make_id\":\"innocenti\",\"make_display\":\"Innocenti\",\"make_is_common\":\"0\",\"make_country\":\"Italy\"}\n",
      "\n",
      "{\"make_id\":\"isuzu\",\"make_display\":\"Isuzu\",\"make_is_common\":\"1\",\"make_country\":\"Japan\"}\n",
      "\n",
      "{\"make_id\":\"italdesign\",\"make_display\":\"Italdesign\",\"make_is_common\":\"0\",\"make_country\":\"Italy\"}\n",
      "\n",
      "{\"make_id\":\"jaguar\",\"make_display\":\"Jaguar\",\"make_is_common\":\"1\",\"make_country\":\"UK\"}\n",
      "\n",
      "{\"make_id\":\"jeep\",\"make_display\":\"Jeep\",\"make_is_common\":\"1\",\"make_country\":\"USA\"}\n",
      "\n",
      "{\"make_id\":\"jensen\",\"make_display\":\"Jensen\",\"make_is_common\":\"0\",\"make_country\":\"UK\"}\n",
      "\n",
      "{\"make_id\":\"kia\",\"make_display\":\"Kia\",\"make_is_common\":\"1\",\"make_country\":\"South Korea\"}\n",
      "\n",
      "{\"make_id\":\"koenigsegg\",\"make_display\":\"Koenigsegg\",\"make_is_common\":\"1\",\"make_country\":\"Sweden\"}\n",
      "\n",
      "{\"make_id\":\"lada\",\"make_display\":\"Lada\",\"make_is_common\":\"1\",\"make_country\":\"Russia\"}\n",
      "\n",
      "{\"make_id\":\"lamborghini\",\"make_display\":\"Lamborghini\",\"make_is_common\":\"1\",\"make_country\":\"Italy\"}\n",
      "\n",
      "{\"make_id\":\"lancia\",\"make_display\":\"Lancia\",\"make_is_common\":\"1\",\"make_country\":\"Italy\"}\n",
      "\n",
      "{\"make_id\":\"land-rover\",\"make_display\":\"Land Rover\",\"make_is_common\":\"1\",\"make_country\":\"UK\"}\n",
      "\n",
      "{\"make_id\":\"lexus\",\"make_display\":\"Lexus\",\"make_is_common\":\"1\",\"make_country\":\"Japan\"}\n",
      "\n",
      "{\"make_id\":\"lincoln\",\"make_display\":\"Lincoln\",\"make_is_common\":\"1\",\"make_country\":\"USA\"}\n",
      "\n",
      "{\"make_id\":\"lotec\",\"make_display\":\"Lotec\",\"make_is_common\":\"0\",\"make_country\":\"Germany\"}\n",
      "\n",
      "{\"make_id\":\"lotus\",\"make_display\":\"Lotus\",\"make_is_common\":\"1\",\"make_country\":\"UK\"}\n",
      "\n",
      "{\"make_id\":\"luxgen\",\"make_display\":\"Luxgen\",\"make_is_common\":\"0\",\"make_country\":\"Taiwan\"}\n",
      "\n",
      "{\"make_id\":\"mahindra\",\"make_display\":\"Mahindra\",\"make_is_common\":\"0\",\"make_country\":\"India\"}\n",
      "\n",
      "{\"make_id\":\"marcos\",\"make_display\":\"Marcos\",\"make_is_common\":\"0\",\"make_country\":\"UK\"}\n",
      "\n",
      "{\"make_id\":\"maserati\",\"make_display\":\"Maserati\",\"make_is_common\":\"1\",\"make_country\":\"Italy\"}\n",
      "\n",
      "{\"make_id\":\"matra-simca\",\"make_display\":\"Matra-Simca\",\"make_is_common\":\"0\",\"make_country\":\"France\"}\n",
      "\n",
      "{\"make_id\":\"maybach\",\"make_display\":\"Maybach\",\"make_is_common\":\"1\",\"make_country\":\"Germany\"}\n",
      "\n",
      "{\"make_id\":\"mazda\",\"make_display\":\"Mazda\",\"make_is_common\":\"1\",\"make_country\":\"Japan\"}\n",
      "\n",
      "{\"make_id\":\"mcc\",\"make_display\":\"MCC\",\"make_is_common\":\"1\",\"make_country\":\"Germany\"}\n",
      "\n",
      "{\"make_id\":\"mclaren\",\"make_display\":\"McLaren\",\"make_is_common\":\"1\",\"make_country\":\"UK\"}\n",
      "\n",
      "{\"make_id\":\"mercedes-benz\",\"make_display\":\"Mercedes-Benz\",\"make_is_common\":\"1\",\"make_country\":\"Germany\"}\n",
      "\n",
      "{\"make_id\":\"mercury\",\"make_display\":\"Mercury\",\"make_is_common\":\"1\",\"make_country\":\"USA\"}\n",
      "\n",
      "{\"make_id\":\"mg\",\"make_display\":\"MG\",\"make_is_common\":\"1\",\"make_country\":\"UK\"}\n",
      "\n",
      "{\"make_id\":\"mini\",\"make_display\":\"Mini\",\"make_is_common\":\"1\",\"make_country\":\"UK\"}\n",
      "\n",
      "{\"make_id\":\"mitsubishi\",\"make_display\":\"Mitsubishi\",\"make_is_common\":\"1\",\"make_country\":\"Japan\"}\n",
      "\n",
      "{\"make_id\":\"monteverdi\",\"make_display\":\"Monteverdi\",\"make_is_common\":\"0\",\"make_country\":\"Switzerland\"}\n",
      "\n",
      "{\"make_id\":\"moretti\",\"make_display\":\"Moretti\",\"make_is_common\":\"0\",\"make_country\":\"Italy\"}\n",
      "\n",
      "{\"make_id\":\"morgan\",\"make_display\":\"Morgan\",\"make_is_common\":\"1\",\"make_country\":\"UK\"}\n",
      "\n",
      "{\"make_id\":\"morris\",\"make_display\":\"Morris\",\"make_is_common\":\"1\",\"make_country\":\"UK\"}\n",
      "\n",
      "{\"make_id\":\"nissan\",\"make_display\":\"Nissan\",\"make_is_common\":\"1\",\"make_country\":\"Japan\"}\n",
      "\n",
      "{\"make_id\":\"noble\",\"make_display\":\"Noble\",\"make_is_common\":\"0\",\"make_country\":\"UK\"}\n",
      "\n",
      "{\"make_id\":\"nsu\",\"make_display\":\"NSU\",\"make_is_common\":\"0\",\"make_country\":\"Germany\"}\n",
      "\n",
      "{\"make_id\":\"oldsmobile\",\"make_display\":\"Oldsmobile\",\"make_is_common\":\"1\",\"make_country\":\"USA\"}\n",
      "\n",
      "{\"make_id\":\"opel\",\"make_display\":\"Opel\",\"make_is_common\":\"1\",\"make_country\":\"Germany\"}\n",
      "\n",
      "{\"make_id\":\"packard\",\"make_display\":\"Packard\",\"make_is_common\":\"1\",\"make_country\":\"USA\"}\n",
      "\n",
      "{\"make_id\":\"pagani\",\"make_display\":\"Pagani\",\"make_is_common\":\"1\",\"make_country\":\"Italy\"}\n",
      "\n",
      "{\"make_id\":\"panoz\",\"make_display\":\"Panoz\",\"make_is_common\":\"1\",\"make_country\":\"USA\"}\n",
      "\n",
      "{\"make_id\":\"peugeot\",\"make_display\":\"Peugeot\",\"make_is_common\":\"1\",\"make_country\":\"France\"}\n",
      "\n",
      "{\"make_id\":\"pininfarina\",\"make_display\":\"Pininfarina\",\"make_is_common\":\"0\",\"make_country\":\"Italy\"}\n",
      "\n",
      "{\"make_id\":\"plymouth\",\"make_display\":\"Plymouth\",\"make_is_common\":\"1\",\"make_country\":\"USA\"}\n",
      "\n",
      "{\"make_id\":\"pontiac\",\"make_display\":\"Pontiac\",\"make_is_common\":\"1\",\"make_country\":\"USA\"}\n",
      "\n",
      "{\"make_id\":\"porsche\",\"make_display\":\"Porsche\",\"make_is_common\":\"1\",\"make_country\":\"Germany\"}\n",
      "\n",
      "{\"make_id\":\"proton\",\"make_display\":\"Proton\",\"make_is_common\":\"0\",\"make_country\":\"Malaysia\"}\n",
      "\n",
      "{\"make_id\":\"reliant\",\"make_display\":\"Reliant\",\"make_is_common\":\"1\",\"make_country\":\"UK\"}\n",
      "\n",
      "{\"make_id\":\"renault\",\"make_display\":\"Renault\",\"make_is_common\":\"1\",\"make_country\":\"France\"}\n",
      "\n",
      "{\"make_id\":\"riley\",\"make_display\":\"Riley\",\"make_is_common\":\"1\",\"make_country\":\"UK\"}\n",
      "\n",
      "{\"make_id\":\"rolls-royce\",\"make_display\":\"Rolls-Royce\",\"make_is_common\":\"1\",\"make_country\":\"UK\"}\n",
      "\n",
      "{\"make_id\":\"rover\",\"make_display\":\"Rover\",\"make_is_common\":\"1\",\"make_country\":\"UK\"}\n",
      "\n",
      "{\"make_id\":\"saab\",\"make_display\":\"Saab\",\"make_is_common\":\"1\",\"make_country\":\"Sweden\"}\n",
      "\n",
      "{\"make_id\":\"saleen\",\"make_display\":\"Saleen\",\"make_is_common\":\"1\",\"make_country\":\"USA\"}\n",
      "\n",
      "{\"make_id\":\"samsung\",\"make_display\":\"Samsung\",\"make_is_common\":\"0\",\"make_country\":\"South Korea\"}\n",
      "\n",
      "{\"make_id\":\"saturn\",\"make_display\":\"Saturn\",\"make_is_common\":\"1\",\"make_country\":\"USA\"}\n",
      "\n",
      "{\"make_id\":\"scion\",\"make_display\":\"Scion\",\"make_is_common\":\"1\",\"make_country\":\"Japan\"}\n",
      "\n",
      "{\"make_id\":\"seat\",\"make_display\":\"Seat\",\"make_is_common\":\"1\",\"make_country\":\"Spain\"}\n",
      "\n",
      "{\"make_id\":\"simca\",\"make_display\":\"Simca\",\"make_is_common\":\"1\",\"make_country\":\"France\"}\n",
      "\n",
      "{\"make_id\":\"singer\",\"make_display\":\"Singer\",\"make_is_common\":\"1\",\"make_country\":\"UK\"}\n",
      "\n",
      "{\"make_id\":\"skoda\",\"make_display\":\"Skoda\",\"make_is_common\":\"1\",\"make_country\":\"Czech Republic\"}\n",
      "\n",
      "{\"make_id\":\"smart\",\"make_display\":\"Smart\",\"make_is_common\":\"1\",\"make_country\":\"France\"}\n",
      "\n",
      "{\"make_id\":\"spyker\",\"make_display\":\"Spyker\",\"make_is_common\":\"1\",\"make_country\":\"Netherlands\"}\n",
      "\n",
      "{\"make_id\":\"ssangyong\",\"make_display\":\"SsangYong\",\"make_is_common\":\"0\",\"make_country\":\"South Korea\"}\n",
      "\n",
      "{\"make_id\":\"ssc\",\"make_display\":\"SSC\",\"make_is_common\":\"1\",\"make_country\":\"USA\"}\n",
      "\n",
      "{\"make_id\":\"steyr\",\"make_display\":\"Steyr\",\"make_is_common\":\"0\",\"make_country\":\"Austria\"}\n",
      "\n",
      "{\"make_id\":\"studebaker\",\"make_display\":\"Studebaker\",\"make_is_common\":\"1\",\"make_country\":\"USA\"}\n",
      "\n",
      "{\"make_id\":\"subaru\",\"make_display\":\"Subaru\",\"make_is_common\":\"1\",\"make_country\":\"Japan\"}\n",
      "\n",
      "{\"make_id\":\"sunbeam\",\"make_display\":\"Sunbeam\",\"make_is_common\":\"1\",\"make_country\":\"UK\"}\n",
      "\n",
      "{\"make_id\":\"suzuki\",\"make_display\":\"Suzuki\",\"make_is_common\":\"1\",\"make_country\":\"Japan\"}\n",
      "\n",
      "{\"make_id\":\"talbot\",\"make_display\":\"Talbot\",\"make_is_common\":\"0\",\"make_country\":\"UK\"}\n",
      "\n",
      "{\"make_id\":\"tata\",\"make_display\":\"Tata\",\"make_is_common\":\"1\",\"make_country\":\"India\"}\n",
      "\n",
      "{\"make_id\":\"tatra\",\"make_display\":\"Tatra\",\"make_is_common\":\"0\",\"make_country\":\"Czech Republic\"}\n",
      "\n",
      "{\"make_id\":\"tesla\",\"make_display\":\"Tesla\",\"make_is_common\":\"1\",\"make_country\":\"USA\"}\n",
      "\n",
      "{\"make_id\":\"toyota\",\"make_display\":\"Toyota\",\"make_is_common\":\"1\",\"make_country\":\"Japan\"}\n",
      "\n",
      "{\"make_id\":\"trabant\",\"make_display\":\"Trabant\",\"make_is_common\":\"0\",\"make_country\":\"Germany\"}\n",
      "\n",
      "{\"make_id\":\"triumph\",\"make_display\":\"Triumph\",\"make_is_common\":\"1\",\"make_country\":\"UK\"}\n",
      "\n",
      "{\"make_id\":\"tvr\",\"make_display\":\"TVR\",\"make_is_common\":\"1\",\"make_country\":\"UK\"}\n",
      "\n",
      "{\"make_id\":\"vauxhall\",\"make_display\":\"Vauxhall\",\"make_is_common\":\"1\",\"make_country\":\"Germany\"}\n",
      "\n",
      "{\"make_id\":\"vector\",\"make_display\":\"Vector\",\"make_is_common\":\"1\",\"make_country\":\"Japan\"}\n",
      "\n",
      "{\"make_id\":\"venturi\",\"make_display\":\"Venturi\",\"make_is_common\":\"1\",\"make_country\":\"France\"}\n",
      "\n",
      "{\"make_id\":\"volkswagen\",\"make_display\":\"Volkswagen\",\"make_is_common\":\"1\",\"make_country\":\"Germany\"}\n",
      "\n",
      "{\"make_id\":\"volvo\",\"make_display\":\"Volvo\",\"make_is_common\":\"1\",\"make_country\":\"Sweden\"}\n",
      "\n",
      "{\"make_id\":\"wartburg\",\"make_display\":\"Wartburg\",\"make_is_common\":\"0\",\"make_country\":\"Germany\"}\n",
      "\n",
      "{\"make_id\":\"westfield\",\"make_display\":\"Westfield\",\"make_is_common\":\"0\",\"make_country\":\"UK\"}\n",
      "\n",
      "{\"make_id\":\"willys-overland\",\"make_display\":\"Willys-Overland\",\"make_is_common\":\"1\",\"make_country\":\"USA\"}\n",
      "\n",
      "{\"make_id\":\"xedos\",\"make_display\":\"Xedos\",\"make_is_common\":\"0\",\"make_country\":\"Japan\"}\n",
      "\n",
      "{\"make_id\":\"zagato\",\"make_display\":\"Zagato\",\"make_is_common\":\"1\",\"make_country\":\"Italy\"}\n",
      "\n",
      "{\"make_id\":\"zastava\",\"make_display\":\"Zastava\",\"make_is_common\":\"0\",\"make_country\":\"Serbia\"}\n",
      "\n",
      "{\"make_id\":\"zaz\",\"make_display\":\"ZAZ\",\"make_is_common\":\"0\",\"make_country\":\"Ukraine\"}\n",
      "\n",
      "{\"make_id\":\"zenvo\",\"make_display\":\"Zenvo\",\"make_is_common\":\"0\",\"make_country\":\"Denmark\"}\n",
      "\n",
      "{\"make_id\":\"zil\",\"make_display\":\"ZIL\",\"make_is_common\":\"0\",\"make_country\":\"Russia\"}\n",
      "\n"
     ]
    }
   ],
   "source": [
    "for line in lines:\n",
    "    print(line)"
   ]
  },
  {
   "cell_type": "code",
   "execution_count": 27,
   "metadata": {
    "ExecuteTime": {
     "end_time": "2021-03-01T17:09:49.450451Z",
     "start_time": "2021-03-01T17:09:49.351891Z"
    }
   },
   "outputs": [],
   "source": [
    "def drawPattern(a):\n",
    "    for x in range(0, a):\n",
    "        for y in range(0, int(a-x)):\n",
    "            print('   ', end='')\n",
    "        for y in range(0, 2*x+1):\n",
    "            print(' * ', end='')\n",
    "        print('')"
   ]
  },
  {
   "cell_type": "code",
   "execution_count": 28,
   "metadata": {
    "ExecuteTime": {
     "end_time": "2021-03-01T17:09:49.568226Z",
     "start_time": "2021-03-01T17:09:49.454066Z"
    }
   },
   "outputs": [
    {
     "name": "stdout",
     "output_type": "stream",
     "text": [
      "                   * \n",
      "                *  *  * \n",
      "             *  *  *  *  * \n",
      "          *  *  *  *  *  *  * \n",
      "       *  *  *  *  *  *  *  *  * \n",
      "    *  *  *  *  *  *  *  *  *  *  * \n"
     ]
    }
   ],
   "source": [
    "drawPattern(6)"
   ]
  },
  {
   "cell_type": "code",
   "execution_count": 29,
   "metadata": {
    "ExecuteTime": {
     "end_time": "2021-03-01T17:09:49.631754Z",
     "start_time": "2021-03-01T17:09:49.569656Z"
    }
   },
   "outputs": [],
   "source": [
    "def pattern(n):\n",
    "      k = 2 * n - 2\n",
    "      for i in range(0,n):\n",
    "           for j in range(0,k):\n",
    "               print(end=\" \")\n",
    "           k = k - 1\n",
    "           for j in range(0, i+1):\n",
    "                print(\"*\", end=\" \")\n",
    "           print(\"\\r\")"
   ]
  },
  {
   "cell_type": "code",
   "execution_count": 30,
   "metadata": {
    "ExecuteTime": {
     "end_time": "2021-03-01T17:09:49.749971Z",
     "start_time": "2021-03-01T17:09:49.634479Z"
    }
   },
   "outputs": [
    {
     "name": "stdout",
     "output_type": "stream",
     "text": [
      "        * \r\n",
      "       * * \r\n",
      "      * * * \r\n",
      "     * * * * \r\n",
      "    * * * * * \r\n"
     ]
    }
   ],
   "source": [
    "pattern(5)"
   ]
  },
  {
   "cell_type": "code",
   "execution_count": 31,
   "metadata": {
    "ExecuteTime": {
     "end_time": "2021-03-01T17:10:18.353882Z",
     "start_time": "2021-03-01T17:09:49.751928Z"
    }
   },
   "outputs": [
    {
     "name": "stdout",
     "output_type": "stream",
     "text": [
      "Enter N : 5\n",
      "1\n",
      "2\n",
      "3\n",
      "4\n",
      "5\n"
     ]
    }
   ],
   "source": [
    "n = int(input('Enter N : '))\n",
    "\n",
    "for i in range(1,n+1):\n",
    "    print(i)"
   ]
  },
  {
   "cell_type": "code",
   "execution_count": 32,
   "metadata": {
    "ExecuteTime": {
     "end_time": "2021-03-01T17:10:20.400233Z",
     "start_time": "2021-03-01T17:10:18.356606Z"
    }
   },
   "outputs": [
    {
     "name": "stdout",
     "output_type": "stream",
     "text": [
      "Enter N : 8\n",
      "1\n",
      "2\n",
      "3\n",
      "4\n",
      "5\n",
      "6\n",
      "7\n",
      "8\n"
     ]
    }
   ],
   "source": [
    "n = int(input('Enter N : '))\n",
    "i=1\n",
    "\n",
    "while i<=n:\n",
    "    print(i)\n",
    "    i=i+1"
   ]
  },
  {
   "cell_type": "code",
   "execution_count": 33,
   "metadata": {
    "ExecuteTime": {
     "end_time": "2021-03-01T17:10:20.411487Z",
     "start_time": "2021-03-01T17:10:20.402730Z"
    }
   },
   "outputs": [
    {
     "name": "stdout",
     "output_type": "stream",
     "text": [
      "P\n",
      "y\n",
      "t\n",
      "h\n",
      "o\n",
      "n\n"
     ]
    }
   ],
   "source": [
    "my_str = 'Python'\n",
    "# a = 1\n",
    "# for i in my_str:\n",
    "#     print(i * a)\n",
    "#     a = a+1\n",
    "for i in range(0,len(my_str)):\n",
    "    print(my_str[i]*1)\n",
    "# P\n",
    "# yy\n",
    "# ttt\n",
    "# hhhh\n",
    "# ooooo\n",
    "# nnnnnn"
   ]
  },
  {
   "cell_type": "code",
   "execution_count": 46,
   "metadata": {
    "ExecuteTime": {
     "end_time": "2021-03-01T17:15:45.336908Z",
     "start_time": "2021-03-01T17:15:45.331080Z"
    }
   },
   "outputs": [
    {
     "name": "stdout",
     "output_type": "stream",
     "text": [
      "n\n",
      "oo\n",
      "hhh\n",
      "tttt\n",
      "yyyyy\n",
      "PPPPPP\n"
     ]
    }
   ],
   "source": [
    "length= len(my_str)\n",
    "\n",
    "for i in range(len(my_str)-1,-1,-1):\n",
    "#     print(i)\n",
    "    print(my_str[i]*(length-i))\n",
    "# n\n",
    "# oo\n",
    "# hhh\n",
    "# tttt\n",
    "# yyyyy\n",
    "# PPPPPP"
   ]
  }
 ],
 "metadata": {
  "kernelspec": {
   "display_name": "Python 3",
   "language": "python",
   "name": "python3"
  },
  "language_info": {
   "codemirror_mode": {
    "name": "ipython",
    "version": 3
   },
   "file_extension": ".py",
   "mimetype": "text/x-python",
   "name": "python",
   "nbconvert_exporter": "python",
   "pygments_lexer": "ipython3",
   "version": "3.8.3"
  },
  "latex_envs": {
   "LaTeX_envs_menu_present": true,
   "autoclose": false,
   "autocomplete": true,
   "bibliofile": "biblio.bib",
   "cite_by": "apalike",
   "current_citInitial": 1,
   "eqLabelWithNumbers": true,
   "eqNumInitial": 1,
   "hotkeys": {
    "equation": "Ctrl-E",
    "itemize": "Ctrl-I"
   },
   "labels_anchors": false,
   "latex_user_defs": false,
   "report_style_numbering": false,
   "user_envs_cfg": false
  },
  "varInspector": {
   "cols": {
    "lenName": 16,
    "lenType": 16,
    "lenVar": 40
   },
   "kernels_config": {
    "python": {
     "delete_cmd_postfix": "",
     "delete_cmd_prefix": "del ",
     "library": "var_list.py",
     "varRefreshCmd": "print(var_dic_list())"
    },
    "r": {
     "delete_cmd_postfix": ") ",
     "delete_cmd_prefix": "rm(",
     "library": "var_list.r",
     "varRefreshCmd": "cat(var_dic_list()) "
    }
   },
   "types_to_exclude": [
    "module",
    "function",
    "builtin_function_or_method",
    "instance",
    "_Feature"
   ],
   "window_display": false
  }
 },
 "nbformat": 4,
 "nbformat_minor": 4
}
