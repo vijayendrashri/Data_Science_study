{
 "cells": [
  {
   "cell_type": "code",
   "execution_count": 1,
   "id": "minimal-desktop",
   "metadata": {
    "ExecuteTime": {
     "end_time": "2021-02-22T20:00:58.258454Z",
     "start_time": "2021-02-22T20:00:58.253628Z"
    }
   },
   "outputs": [],
   "source": [
    "import numpy as np"
   ]
  },
  {
   "cell_type": "code",
   "execution_count": 6,
   "id": "conceptual-motion",
   "metadata": {
    "ExecuteTime": {
     "end_time": "2021-02-23T12:27:54.609987Z",
     "start_time": "2021-02-23T12:27:54.604738Z"
    }
   },
   "outputs": [],
   "source": [
    "myarr = np.array([2,4,57,756,4],np.int32)"
   ]
  },
  {
   "cell_type": "code",
   "execution_count": 9,
   "id": "ethical-reason",
   "metadata": {
    "ExecuteTime": {
     "end_time": "2021-02-23T12:28:18.131444Z",
     "start_time": "2021-02-23T12:28:18.127794Z"
    }
   },
   "outputs": [],
   "source": [
    "myarr[2]=34"
   ]
  },
  {
   "cell_type": "code",
   "execution_count": 13,
   "id": "valuable-programming",
   "metadata": {
    "ExecuteTime": {
     "end_time": "2021-02-23T12:34:11.915216Z",
     "start_time": "2021-02-23T12:34:11.910289Z"
    }
   },
   "outputs": [],
   "source": [
    "myarrlist = np.array([[1, 2, 3], [4, 5, 6], [7, 8, 9]])\n"
   ]
  },
  {
   "cell_type": "code",
   "execution_count": 16,
   "id": "prescription-compound",
   "metadata": {
    "ExecuteTime": {
     "end_time": "2021-02-23T12:34:41.033569Z",
     "start_time": "2021-02-23T12:34:41.028137Z"
    }
   },
   "outputs": [
    {
     "data": {
      "text/plain": [
       "dtype('int64')"
      ]
     },
     "execution_count": 16,
     "metadata": {},
     "output_type": "execute_result"
    }
   ],
   "source": [
    "myarrlist.dtype"
   ]
  },
  {
   "cell_type": "code",
   "execution_count": 17,
   "id": "critical-evolution",
   "metadata": {
    "ExecuteTime": {
     "end_time": "2021-02-23T12:34:48.555359Z",
     "start_time": "2021-02-23T12:34:48.548455Z"
    }
   },
   "outputs": [
    {
     "data": {
      "text/plain": [
       "(3, 3)"
      ]
     },
     "execution_count": 17,
     "metadata": {},
     "output_type": "execute_result"
    }
   ],
   "source": [
    "myarrlist.shape"
   ]
  },
  {
   "cell_type": "code",
   "execution_count": 19,
   "id": "computational-energy",
   "metadata": {
    "ExecuteTime": {
     "end_time": "2021-02-23T12:35:30.206633Z",
     "start_time": "2021-02-23T12:35:30.200413Z"
    }
   },
   "outputs": [
    {
     "data": {
      "text/plain": [
       "9"
      ]
     },
     "execution_count": 19,
     "metadata": {},
     "output_type": "execute_result"
    }
   ],
   "source": [
    "myarrlist.size"
   ]
  },
  {
   "cell_type": "code",
   "execution_count": 20,
   "id": "liberal-dispatch",
   "metadata": {
    "ExecuteTime": {
     "end_time": "2021-02-23T12:35:53.671189Z",
     "start_time": "2021-02-23T12:35:53.662689Z"
    }
   },
   "outputs": [
    {
     "data": {
      "text/plain": [
       "array({12, 15}, dtype=object)"
      ]
     },
     "execution_count": 20,
     "metadata": {},
     "output_type": "execute_result"
    }
   ],
   "source": [
    "np.array({12,15,15})"
   ]
  },
  {
   "cell_type": "code",
   "execution_count": 22,
   "id": "weekly-aside",
   "metadata": {
    "ExecuteTime": {
     "end_time": "2021-02-23T12:37:00.499155Z",
     "start_time": "2021-02-23T12:37:00.492588Z"
    }
   },
   "outputs": [
    {
     "data": {
      "text/plain": [
       "array([[0., 0., 0.],\n",
       "       [0., 0., 0.],\n",
       "       [0., 0., 0.],\n",
       "       [0., 0., 0.],\n",
       "       [0., 0., 0.]])"
      ]
     },
     "execution_count": 22,
     "metadata": {},
     "output_type": "execute_result"
    }
   ],
   "source": [
    "np.zeros((5,3))"
   ]
  },
  {
   "cell_type": "code",
   "execution_count": 27,
   "id": "present-bonus",
   "metadata": {
    "ExecuteTime": {
     "end_time": "2021-02-23T12:38:46.109700Z",
     "start_time": "2021-02-23T12:38:46.103506Z"
    }
   },
   "outputs": [
    {
     "data": {
      "text/plain": [
       "array([0, 1, 2, 3, 4, 5, 6, 7, 8, 9])"
      ]
     },
     "execution_count": 27,
     "metadata": {},
     "output_type": "execute_result"
    }
   ],
   "source": [
    "rng = np.arange(10)\n",
    "rng"
   ]
  },
  {
   "cell_type": "code",
   "execution_count": 34,
   "id": "behavioral-wayne",
   "metadata": {
    "ExecuteTime": {
     "end_time": "2021-02-23T12:43:05.894487Z",
     "start_time": "2021-02-23T12:43:05.889071Z"
    }
   },
   "outputs": [],
   "source": [
    "larr=np.linspace(1,5,5)"
   ]
  },
  {
   "cell_type": "code",
   "execution_count": 33,
   "id": "multiple-immune",
   "metadata": {
    "ExecuteTime": {
     "end_time": "2021-02-23T12:42:13.497888Z",
     "start_time": "2021-02-23T12:42:13.490808Z"
    }
   },
   "outputs": [
    {
     "data": {
      "text/plain": [
       "array([[ 4.65600638e-310,  0.00000000e+000,  6.91388941e-310,\n",
       "         8.53448752e+234,  6.91389003e-310,  6.91388941e-310],\n",
       "       [-1.89533954e+096,  6.91389070e-310,  6.91388941e-310,\n",
       "         9.23043109e+282,  6.91388674e-310,  6.91388941e-310],\n",
       "       [ 0.00000000e+000,  0.00000000e+000,  0.00000000e+000,\n",
       "         0.00000000e+000,  0.00000000e+000,  0.00000000e+000],\n",
       "       [ 0.00000000e+000,  0.00000000e+000,  0.00000000e+000,\n",
       "         0.00000000e+000,  0.00000000e+000,  0.00000000e+000]])"
      ]
     },
     "execution_count": 33,
     "metadata": {},
     "output_type": "execute_result"
    }
   ],
   "source": [
    "np.empty((4,6))"
   ]
  },
  {
   "cell_type": "code",
   "execution_count": 35,
   "id": "educational-jones",
   "metadata": {
    "ExecuteTime": {
     "end_time": "2021-02-23T12:43:12.536573Z",
     "start_time": "2021-02-23T12:43:12.528233Z"
    }
   },
   "outputs": [
    {
     "data": {
      "text/plain": [
       "array([1., 2., 3., 4., 5.])"
      ]
     },
     "execution_count": 35,
     "metadata": {},
     "output_type": "execute_result"
    }
   ],
   "source": [
    "np.empty_like(larr)"
   ]
  },
  {
   "cell_type": "code",
   "execution_count": 36,
   "id": "optical-jurisdiction",
   "metadata": {
    "ExecuteTime": {
     "end_time": "2021-02-23T12:44:09.431975Z",
     "start_time": "2021-02-23T12:44:09.428016Z"
    }
   },
   "outputs": [],
   "source": [
    "ide = np.identity(45)"
   ]
  },
  {
   "cell_type": "code",
   "execution_count": 37,
   "id": "domestic-waters",
   "metadata": {
    "ExecuteTime": {
     "end_time": "2021-02-23T12:44:13.747105Z",
     "start_time": "2021-02-23T12:44:13.740046Z"
    }
   },
   "outputs": [
    {
     "data": {
      "text/plain": [
       "array([[1., 0., 0., ..., 0., 0., 0.],\n",
       "       [0., 1., 0., ..., 0., 0., 0.],\n",
       "       [0., 0., 1., ..., 0., 0., 0.],\n",
       "       ...,\n",
       "       [0., 0., 0., ..., 1., 0., 0.],\n",
       "       [0., 0., 0., ..., 0., 1., 0.],\n",
       "       [0., 0., 0., ..., 0., 0., 1.]])"
      ]
     },
     "execution_count": 37,
     "metadata": {},
     "output_type": "execute_result"
    }
   ],
   "source": [
    "ide"
   ]
  },
  {
   "cell_type": "code",
   "execution_count": 39,
   "id": "egyptian-dakota",
   "metadata": {
    "ExecuteTime": {
     "end_time": "2021-02-23T12:45:22.156950Z",
     "start_time": "2021-02-23T12:45:22.149125Z"
    }
   },
   "outputs": [
    {
     "data": {
      "text/plain": [
       "array([ 0,  1,  2,  3,  4,  5,  6,  7,  8,  9, 10, 11, 12, 13, 14, 15, 16,\n",
       "       17, 18, 19, 20, 21, 22, 23, 24, 25, 26, 27, 28, 29, 30, 31, 32, 33,\n",
       "       34, 35, 36, 37, 38, 39, 40, 41, 42, 43, 44, 45, 46, 47, 48, 49, 50,\n",
       "       51, 52, 53, 54, 55, 56, 57, 58, 59, 60, 61, 62, 63, 64, 65, 66, 67,\n",
       "       68, 69, 70, 71, 72, 73, 74, 75, 76, 77, 78, 79, 80, 81, 82, 83, 84,\n",
       "       85, 86, 87, 88, 89, 90, 91, 92, 93, 94, 95, 96, 97, 98])"
      ]
     },
     "execution_count": 39,
     "metadata": {},
     "output_type": "execute_result"
    }
   ],
   "source": [
    "arr = np.arange(99)\n",
    "arr"
   ]
  },
  {
   "cell_type": "code",
   "execution_count": 42,
   "id": "studied-trauma",
   "metadata": {
    "ExecuteTime": {
     "end_time": "2021-02-23T12:46:21.482150Z",
     "start_time": "2021-02-23T12:46:21.474128Z"
    }
   },
   "outputs": [
    {
     "data": {
      "text/plain": [
       "array([[ 0,  1,  2,  3,  4,  5,  6,  7,  8,  9, 10, 11, 12, 13, 14, 15,\n",
       "        16, 17, 18, 19, 20, 21, 22, 23, 24, 25, 26, 27, 28, 29, 30, 31,\n",
       "        32],\n",
       "       [33, 34, 35, 36, 37, 38, 39, 40, 41, 42, 43, 44, 45, 46, 47, 48,\n",
       "        49, 50, 51, 52, 53, 54, 55, 56, 57, 58, 59, 60, 61, 62, 63, 64,\n",
       "        65],\n",
       "       [66, 67, 68, 69, 70, 71, 72, 73, 74, 75, 76, 77, 78, 79, 80, 81,\n",
       "        82, 83, 84, 85, 86, 87, 88, 89, 90, 91, 92, 93, 94, 95, 96, 97,\n",
       "        98]])"
      ]
     },
     "execution_count": 42,
     "metadata": {},
     "output_type": "execute_result"
    }
   ],
   "source": [
    "arr = arr.reshape(3,33)\n",
    "arr"
   ]
  },
  {
   "cell_type": "code",
   "execution_count": 44,
   "id": "endangered-envelope",
   "metadata": {
    "ExecuteTime": {
     "end_time": "2021-02-23T12:46:34.951790Z",
     "start_time": "2021-02-23T12:46:34.944855Z"
    }
   },
   "outputs": [
    {
     "data": {
      "text/plain": [
       "array([ 0,  1,  2,  3,  4,  5,  6,  7,  8,  9, 10, 11, 12, 13, 14, 15, 16,\n",
       "       17, 18, 19, 20, 21, 22, 23, 24, 25, 26, 27, 28, 29, 30, 31, 32, 33,\n",
       "       34, 35, 36, 37, 38, 39, 40, 41, 42, 43, 44, 45, 46, 47, 48, 49, 50,\n",
       "       51, 52, 53, 54, 55, 56, 57, 58, 59, 60, 61, 62, 63, 64, 65, 66, 67,\n",
       "       68, 69, 70, 71, 72, 73, 74, 75, 76, 77, 78, 79, 80, 81, 82, 83, 84,\n",
       "       85, 86, 87, 88, 89, 90, 91, 92, 93, 94, 95, 96, 97, 98])"
      ]
     },
     "execution_count": 44,
     "metadata": {},
     "output_type": "execute_result"
    }
   ],
   "source": [
    "arr.ravel()"
   ]
  },
  {
   "cell_type": "code",
   "execution_count": 45,
   "id": "destroyed-guess",
   "metadata": {
    "ExecuteTime": {
     "end_time": "2021-02-23T13:05:06.213999Z",
     "start_time": "2021-02-23T13:05:06.208997Z"
    }
   },
   "outputs": [],
   "source": [
    "x = np.array([[1,2,3],[4,5,6],[7,8,9]])"
   ]
  },
  {
   "cell_type": "code",
   "execution_count": 50,
   "id": "southern-folder",
   "metadata": {
    "ExecuteTime": {
     "end_time": "2021-02-23T13:06:16.377866Z",
     "start_time": "2021-02-23T13:06:16.371949Z"
    }
   },
   "outputs": [
    {
     "data": {
      "text/plain": [
       "array([ 6, 15, 24])"
      ]
     },
     "execution_count": 50,
     "metadata": {},
     "output_type": "execute_result"
    }
   ],
   "source": [
    "x.sum(axis=1)"
   ]
  },
  {
   "cell_type": "code",
   "execution_count": 51,
   "id": "deadly-approach",
   "metadata": {
    "ExecuteTime": {
     "end_time": "2021-02-23T13:06:37.897442Z",
     "start_time": "2021-02-23T13:06:37.891485Z"
    }
   },
   "outputs": [
    {
     "data": {
      "text/plain": [
       "array([[1, 4, 7],\n",
       "       [2, 5, 8],\n",
       "       [3, 6, 9]])"
      ]
     },
     "execution_count": 51,
     "metadata": {},
     "output_type": "execute_result"
    }
   ],
   "source": [
    "x.T"
   ]
  },
  {
   "cell_type": "code",
   "execution_count": 52,
   "id": "thousand-disability",
   "metadata": {
    "ExecuteTime": {
     "end_time": "2021-02-23T13:07:27.503522Z",
     "start_time": "2021-02-23T13:07:27.496591Z"
    }
   },
   "outputs": [
    {
     "name": "stdout",
     "output_type": "stream",
     "text": [
      "1\n",
      "2\n",
      "3\n",
      "4\n",
      "5\n",
      "6\n",
      "7\n",
      "8\n",
      "9\n"
     ]
    }
   ],
   "source": [
    "for x in x.flat:\n",
    "    print(x)"
   ]
  },
  {
   "cell_type": "code",
   "execution_count": 53,
   "id": "baking-appendix",
   "metadata": {
    "ExecuteTime": {
     "end_time": "2021-02-23T13:07:40.620127Z",
     "start_time": "2021-02-23T13:07:40.614921Z"
    }
   },
   "outputs": [
    {
     "data": {
      "text/plain": [
       "0"
      ]
     },
     "execution_count": 53,
     "metadata": {},
     "output_type": "execute_result"
    }
   ],
   "source": [
    "x.ndim"
   ]
  },
  {
   "cell_type": "code",
   "execution_count": 54,
   "id": "bridal-subcommittee",
   "metadata": {
    "ExecuteTime": {
     "end_time": "2021-02-23T13:08:18.380105Z",
     "start_time": "2021-02-23T13:08:18.373527Z"
    }
   },
   "outputs": [
    {
     "data": {
      "text/plain": [
       "8"
      ]
     },
     "execution_count": 54,
     "metadata": {},
     "output_type": "execute_result"
    }
   ],
   "source": [
    "x.nbytes"
   ]
  },
  {
   "cell_type": "code",
   "execution_count": 61,
   "id": "stylish-value",
   "metadata": {
    "ExecuteTime": {
     "end_time": "2021-02-23T13:18:44.575025Z",
     "start_time": "2021-02-23T13:18:44.570362Z"
    }
   },
   "outputs": [],
   "source": [
    "one = np.array([2,3,44,65,6,8])"
   ]
  },
  {
   "cell_type": "code",
   "execution_count": 65,
   "id": "gross-muscle",
   "metadata": {
    "ExecuteTime": {
     "end_time": "2021-02-23T13:19:05.989556Z",
     "start_time": "2021-02-23T13:19:05.983085Z"
    }
   },
   "outputs": [
    {
     "data": {
      "text/plain": [
       "5"
      ]
     },
     "execution_count": 65,
     "metadata": {},
     "output_type": "execute_result"
    }
   ],
   "source": [
    "one.argmax()"
   ]
  },
  {
   "cell_type": "code",
   "execution_count": 64,
   "id": "authentic-medium",
   "metadata": {
    "ExecuteTime": {
     "end_time": "2021-02-23T13:19:02.173455Z",
     "start_time": "2021-02-23T13:19:02.167229Z"
    }
   },
   "outputs": [
    {
     "data": {
      "text/plain": [
       "array([0, 1, 2, 3, 4, 5])"
      ]
     },
     "execution_count": 64,
     "metadata": {},
     "output_type": "execute_result"
    }
   ],
   "source": [
    "one.argsort()"
   ]
  },
  {
   "cell_type": "code",
   "execution_count": null,
   "id": "speaking-ceremony",
   "metadata": {},
   "outputs": [],
   "source": []
  }
 ],
 "metadata": {
  "kernelspec": {
   "display_name": "Python 3",
   "language": "python",
   "name": "python3"
  },
  "language_info": {
   "codemirror_mode": {
    "name": "ipython",
    "version": 3
   },
   "file_extension": ".py",
   "mimetype": "text/x-python",
   "name": "python",
   "nbconvert_exporter": "python",
   "pygments_lexer": "ipython3",
   "version": "3.8.3"
  },
  "latex_envs": {
   "LaTeX_envs_menu_present": true,
   "autoclose": false,
   "autocomplete": true,
   "bibliofile": "biblio.bib",
   "cite_by": "apalike",
   "current_citInitial": 1,
   "eqLabelWithNumbers": true,
   "eqNumInitial": 1,
   "hotkeys": {
    "equation": "Ctrl-E",
    "itemize": "Ctrl-I"
   },
   "labels_anchors": false,
   "latex_user_defs": false,
   "report_style_numbering": false,
   "user_envs_cfg": false
  },
  "varInspector": {
   "cols": {
    "lenName": 16,
    "lenType": 16,
    "lenVar": 40
   },
   "kernels_config": {
    "python": {
     "delete_cmd_postfix": "",
     "delete_cmd_prefix": "del ",
     "library": "var_list.py",
     "varRefreshCmd": "print(var_dic_list())"
    },
    "r": {
     "delete_cmd_postfix": ") ",
     "delete_cmd_prefix": "rm(",
     "library": "var_list.r",
     "varRefreshCmd": "cat(var_dic_list()) "
    }
   },
   "types_to_exclude": [
    "module",
    "function",
    "builtin_function_or_method",
    "instance",
    "_Feature"
   ],
   "window_display": false
  }
 },
 "nbformat": 4,
 "nbformat_minor": 5
}
