{
 "cells": [
  {
   "cell_type": "code",
   "execution_count": 1,
   "id": "respective-shanghai",
   "metadata": {
    "ExecuteTime": {
     "end_time": "2021-04-18T06:54:19.462323Z",
     "start_time": "2021-04-18T06:54:19.458701Z"
    }
   },
   "outputs": [],
   "source": [
    "import itertools\n",
    "# colors = ['red', 'orange', 'yellow', 'green', 'blue', 'violet']\n",
    "# for color in itertools.cycle(colors):\n",
    "#     print(color)"
   ]
  },
  {
   "cell_type": "code",
   "execution_count": 2,
   "id": "swiss-vertical",
   "metadata": {
    "ExecuteTime": {
     "end_time": "2021-04-18T06:54:21.136865Z",
     "start_time": "2021-04-18T06:54:21.131825Z"
    }
   },
   "outputs": [],
   "source": [
    "s = {1, 2, 3, 2, 3, 4}\n",
    "# s = set([1, 2, 3])"
   ]
  },
  {
   "cell_type": "code",
   "execution_count": 3,
   "id": "otherwise-dayton",
   "metadata": {
    "ExecuteTime": {
     "end_time": "2021-04-18T06:54:22.085015Z",
     "start_time": "2021-04-18T06:54:22.067974Z"
    }
   },
   "outputs": [
    {
     "data": {
      "text/plain": [
       "{1, 2, 3, 4}"
      ]
     },
     "execution_count": 3,
     "metadata": {},
     "output_type": "execute_result"
    }
   ],
   "source": [
    "s"
   ]
  },
  {
   "cell_type": "code",
   "execution_count": 4,
   "id": "breeding-demographic",
   "metadata": {
    "ExecuteTime": {
     "end_time": "2021-04-18T06:54:34.198094Z",
     "start_time": "2021-04-18T06:54:34.192777Z"
    }
   },
   "outputs": [
    {
     "data": {
      "text/plain": [
       "{1, 2, 3, 4, 5}"
      ]
     },
     "execution_count": 4,
     "metadata": {},
     "output_type": "execute_result"
    }
   ],
   "source": [
    "s.add(5)\n",
    "s"
   ]
  },
  {
   "cell_type": "code",
   "execution_count": 5,
   "id": "logical-beatles",
   "metadata": {
    "ExecuteTime": {
     "end_time": "2021-04-18T06:54:39.408854Z",
     "start_time": "2021-04-18T06:54:39.402536Z"
    }
   },
   "outputs": [
    {
     "data": {
      "text/plain": [
       "{1, 2, 3, 4, 5, 6}"
      ]
     },
     "execution_count": 5,
     "metadata": {},
     "output_type": "execute_result"
    }
   ],
   "source": [
    "s.update([2, 3, 4, 5, 6])\n",
    "s"
   ]
  },
  {
   "cell_type": "code",
   "execution_count": 6,
   "id": "recreational-mobile",
   "metadata": {
    "ExecuteTime": {
     "end_time": "2021-04-18T06:54:43.006558Z",
     "start_time": "2021-04-18T06:54:43.002225Z"
    }
   },
   "outputs": [],
   "source": [
    "s.remove(4) # Element not will raise error"
   ]
  },
  {
   "cell_type": "code",
   "execution_count": 7,
   "id": "particular-topic",
   "metadata": {
    "ExecuteTime": {
     "end_time": "2021-04-18T06:55:01.212458Z",
     "start_time": "2021-04-18T06:55:01.208398Z"
    }
   },
   "outputs": [],
   "source": [
    "s.discard(3)"
   ]
  },
  {
   "cell_type": "code",
   "execution_count": 8,
   "id": "insured-plant",
   "metadata": {
    "ExecuteTime": {
     "end_time": "2021-04-18T06:56:42.152906Z",
     "start_time": "2021-04-18T06:56:42.145641Z"
    }
   },
   "outputs": [
    {
     "data": {
      "text/plain": [
       "{1, 2, 3, 4, 5}"
      ]
     },
     "execution_count": 8,
     "metadata": {},
     "output_type": "execute_result"
    }
   ],
   "source": [
    "s1 = {1, 2, 3}\n",
    "s2 = {3, 4, 5}\n",
    "s1.union(s2)  # or 's1 | s2'"
   ]
  },
  {
   "cell_type": "code",
   "execution_count": 12,
   "id": "tight-equipment",
   "metadata": {
    "ExecuteTime": {
     "end_time": "2021-04-18T06:59:07.334090Z",
     "start_time": "2021-04-18T06:59:07.326359Z"
    }
   },
   "outputs": [
    {
     "data": {
      "text/plain": [
       "{3}"
      ]
     },
     "execution_count": 12,
     "metadata": {},
     "output_type": "execute_result"
    }
   ],
   "source": [
    "s1 = {1, 2, 3}\n",
    "s2 = {2, 3, 4}\n",
    "s3 = {3, 4, 5}\n",
    "s1.intersection(s2, s3)  # or 's1 & s2 & s3'"
   ]
  },
  {
   "cell_type": "code",
   "execution_count": 13,
   "id": "regulated-margin",
   "metadata": {
    "ExecuteTime": {
     "end_time": "2021-04-18T06:59:31.629451Z",
     "start_time": "2021-04-18T06:59:31.621468Z"
    }
   },
   "outputs": [
    {
     "data": {
      "text/plain": [
       "{1, 4}"
      ]
     },
     "execution_count": 13,
     "metadata": {},
     "output_type": "execute_result"
    }
   ],
   "source": [
    "s1 = {1, 2, 3}\n",
    "s2 = {2, 3, 4}\n",
    "s1.symmetric_difference(s2) "
   ]
  },
  {
   "cell_type": "code",
   "execution_count": 15,
   "id": "packed-period",
   "metadata": {
    "ExecuteTime": {
     "end_time": "2021-04-18T08:10:04.907370Z",
     "start_time": "2021-04-18T08:10:04.900525Z"
    }
   },
   "outputs": [
    {
     "name": "stdout",
     "output_type": "stream",
     "text": [
      "1\n",
      "-1\n",
      "-4\n",
      "-8\n",
      "-13\n"
     ]
    }
   ],
   "source": [
    "import operator\n",
    "data = [1, 2, 3, 4, 5]\n",
    "result = itertools.accumulate(data, operator.sub)\n",
    "for each in result:\n",
    "    print(each)"
   ]
  },
  {
   "cell_type": "code",
   "execution_count": 12,
   "id": "absolute-prompt",
   "metadata": {
    "ExecuteTime": {
     "end_time": "2021-04-14T15:01:37.276488Z",
     "start_time": "2021-04-14T15:01:37.204282Z"
    }
   },
   "outputs": [
    {
     "name": "stdout",
     "output_type": "stream",
     "text": [
      "5\n",
      "7\n",
      "13\n",
      "17\n",
      "22\n",
      "31\n",
      "32\n"
     ]
    }
   ],
   "source": [
    "data = [5, 2, 6, 4, 5, 9, 1]\n",
    "result = itertools.accumulate(data)\n",
    "for each in result:\n",
    "    print(each)"
   ]
  },
  {
   "cell_type": "code",
   "execution_count": 13,
   "id": "bright-bradley",
   "metadata": {
    "ExecuteTime": {
     "end_time": "2021-04-14T15:01:37.345841Z",
     "start_time": "2021-04-14T15:01:37.279416Z"
    }
   },
   "outputs": [
    {
     "data": {
      "text/plain": [
       "'*****Hello'"
      ]
     },
     "execution_count": 13,
     "metadata": {},
     "output_type": "execute_result"
    }
   ],
   "source": [
    "'Hello'.rjust(10,'*')"
   ]
  },
  {
   "cell_type": "code",
   "execution_count": 14,
   "id": "romantic-coordination",
   "metadata": {
    "ExecuteTime": {
     "end_time": "2021-04-14T15:01:37.426827Z",
     "start_time": "2021-04-14T15:01:37.348753Z"
    }
   },
   "outputs": [
    {
     "data": {
      "text/plain": [
       "'Hello-----'"
      ]
     },
     "execution_count": 14,
     "metadata": {},
     "output_type": "execute_result"
    }
   ],
   "source": [
    "'Hello'.ljust(10,'-')"
   ]
  },
  {
   "cell_type": "code",
   "execution_count": 15,
   "id": "photographic-referral",
   "metadata": {
    "ExecuteTime": {
     "end_time": "2021-04-14T15:01:37.505397Z",
     "start_time": "2021-04-14T15:01:37.431568Z"
    }
   },
   "outputs": [
    {
     "data": {
      "text/plain": [
       "'=======Hello========'"
      ]
     },
     "execution_count": 15,
     "metadata": {},
     "output_type": "execute_result"
    }
   ],
   "source": [
    "'Hello'.center(20, '=')"
   ]
  },
  {
   "cell_type": "code",
   "execution_count": 16,
   "id": "numeric-alert",
   "metadata": {
    "ExecuteTime": {
     "end_time": "2021-04-14T15:01:37.583637Z",
     "start_time": "2021-04-14T15:01:37.507594Z"
    }
   },
   "outputs": [
    {
     "name": "stdout",
     "output_type": "stream",
     "text": [
      "Phone number found: 415-555-4242\n"
     ]
    }
   ],
   "source": [
    "import re\n",
    "phone_num_regex = re.compile(r'\\d\\d\\d-\\d\\d\\d-\\d\\d\\d\\d')\n",
    "mo = phone_num_regex.search('My number is 415-555-4242.')\n",
    "print('Phone number found: {}'.format(mo.group()))"
   ]
  },
  {
   "cell_type": "code",
   "execution_count": 6,
   "id": "specified-investment",
   "metadata": {
    "ExecuteTime": {
     "end_time": "2021-04-16T19:34:21.953793Z",
     "start_time": "2021-04-16T19:34:21.944505Z"
    }
   },
   "outputs": [
    {
     "data": {
      "text/plain": [
       "array([[[1, 4],\n",
       "        [2, 5],\n",
       "        [3, 6]]])"
      ]
     },
     "execution_count": 6,
     "metadata": {},
     "output_type": "execute_result"
    }
   ],
   "source": [
    "arr1 = np.array([1, 2, 3])\n",
    "arr2 = np.array([4, 5, 6])\n",
    "arr = np.dstack((arr1, arr2))\n",
    "arr"
   ]
  },
  {
   "cell_type": "code",
   "execution_count": 5,
   "id": "circular-actress",
   "metadata": {
    "ExecuteTime": {
     "end_time": "2021-04-17T07:07:42.172795Z",
     "start_time": "2021-04-17T07:07:42.160710Z"
    }
   },
   "outputs": [
    {
     "name": "stdout",
     "output_type": "stream",
     "text": [
      "1\n",
      "2\n",
      "3\n",
      "4\n",
      "5\n",
      "6\n",
      "7\n",
      "8\n",
      "9\n",
      "10\n",
      "11\n",
      "12\n"
     ]
    }
   ],
   "source": [
    "import numpy as np\n",
    "arr = np.array([[[1, 2, 3], [4, 5, 6]], [[7, 8, 9], [10, 11, 12]]])\n",
    "for x in arr:\n",
    "  for y in x:\n",
    "    print(y)"
   ]
  },
  {
   "cell_type": "code",
   "execution_count": 6,
   "id": "particular-enterprise",
   "metadata": {
    "ExecuteTime": {
     "end_time": "2021-04-17T07:08:18.648134Z",
     "start_time": "2021-04-17T07:08:18.639262Z"
    }
   },
   "outputs": [
    {
     "name": "stdout",
     "output_type": "stream",
     "text": [
      "1\n",
      "2\n",
      "3\n",
      "4\n",
      "5\n",
      "6\n",
      "7\n",
      "8\n"
     ]
    }
   ],
   "source": [
    "arr = np.array([[[1, 2], [3, 4]], [[5, 6], [7, 8]]])\n",
    "\n",
    "for x in np.nditer(arr):\n",
    "    print(x)"
   ]
  },
  {
   "cell_type": "code",
   "execution_count": 9,
   "id": "indoor-somalia",
   "metadata": {
    "ExecuteTime": {
     "end_time": "2021-04-25T08:35:21.212568Z",
     "start_time": "2021-04-25T08:35:21.205198Z"
    }
   },
   "outputs": [
    {
     "name": "stdout",
     "output_type": "stream",
     "text": [
      "[9, 99, 999, 9999]\n",
      "11106\n"
     ]
    }
   ],
   "source": [
    "a=9\n",
    "r=5\n",
    "count=[]\n",
    "for i in range(1,r):\n",
    "    count.append(int('%s'%a*i))\n",
    "print(count)\n",
    "print(sum(count))"
   ]
  },
  {
   "cell_type": "code",
   "execution_count": 23,
   "id": "saved-tumor",
   "metadata": {
    "ExecuteTime": {
     "end_time": "2021-04-23T12:50:44.722677Z",
     "start_time": "2021-04-23T12:50:44.717275Z"
    }
   },
   "outputs": [
    {
     "name": "stdout",
     "output_type": "stream",
     "text": [
      "My name is Zara and weight is 21 kg!\n"
     ]
    }
   ],
   "source": [
    "print (\"My name is %s and weight is %d kg!\" % ('Zara', 21))"
   ]
  },
  {
   "cell_type": "code",
   "execution_count": 26,
   "id": "polish-uncertainty",
   "metadata": {
    "ExecuteTime": {
     "end_time": "2021-04-23T12:57:58.647855Z",
     "start_time": "2021-04-23T12:57:58.641624Z"
    }
   },
   "outputs": [
    {
     "name": "stdout",
     "output_type": "stream",
     "text": [
      "3.8.3\n"
     ]
    }
   ],
   "source": [
    "from platform import python_version\n",
    "\n",
    "print(python_version())"
   ]
  },
  {
   "cell_type": "code",
   "execution_count": 7,
   "id": "global-genre",
   "metadata": {
    "ExecuteTime": {
     "end_time": "2021-04-25T08:34:35.570691Z",
     "start_time": "2021-04-25T08:34:35.565390Z"
    }
   },
   "outputs": [
    {
     "data": {
      "text/plain": [
       "60"
      ]
     },
     "execution_count": 7,
     "metadata": {},
     "output_type": "execute_result"
    }
   ],
   "source": [
    "ls = [10,30,20]\n",
    "sum(ls)"
   ]
  },
  {
   "cell_type": "code",
   "execution_count": 11,
   "id": "breathing-cloud",
   "metadata": {
    "ExecuteTime": {
     "end_time": "2021-04-25T08:41:10.911976Z",
     "start_time": "2021-04-25T08:41:10.907981Z"
    }
   },
   "outputs": [],
   "source": [
    "import numpy as np"
   ]
  },
  {
   "cell_type": "code",
   "execution_count": 16,
   "id": "found-guide",
   "metadata": {
    "ExecuteTime": {
     "end_time": "2021-04-25T08:42:20.157292Z",
     "start_time": "2021-04-25T08:42:20.150953Z"
    }
   },
   "outputs": [
    {
     "data": {
      "text/plain": [
       "array([1, 2, 3])"
      ]
     },
     "execution_count": 16,
     "metadata": {},
     "output_type": "execute_result"
    }
   ],
   "source": [
    "np.array([1,2,3])"
   ]
  },
  {
   "cell_type": "code",
   "execution_count": 18,
   "id": "multiple-virus",
   "metadata": {
    "ExecuteTime": {
     "end_time": "2021-04-25T08:42:54.771660Z",
     "start_time": "2021-04-25T08:42:54.765138Z"
    }
   },
   "outputs": [
    {
     "data": {
      "text/plain": [
       "array([0.  , 0.25, 0.5 , 0.75, 1.  , 1.25, 1.5 , 1.75, 2.  ])"
      ]
     },
     "execution_count": 18,
     "metadata": {},
     "output_type": "execute_result"
    }
   ],
   "source": [
    "np.linspace(0,2,9)"
   ]
  },
  {
   "cell_type": "code",
   "execution_count": 20,
   "id": "atomic-disney",
   "metadata": {
    "ExecuteTime": {
     "end_time": "2021-04-25T08:43:02.018924Z",
     "start_time": "2021-04-25T08:43:02.012623Z"
    }
   },
   "outputs": [
    {
     "data": {
      "text/plain": [
       "array([[0., 0.],\n",
       "       [0., 0.],\n",
       "       [0., 0.]])"
      ]
     },
     "execution_count": 20,
     "metadata": {},
     "output_type": "execute_result"
    }
   ],
   "source": [
    "np.zeros((3,2))"
   ]
  },
  {
   "cell_type": "code",
   "execution_count": 21,
   "id": "interpreted-interaction",
   "metadata": {
    "ExecuteTime": {
     "end_time": "2021-04-25T08:43:22.018691Z",
     "start_time": "2021-04-25T08:43:22.011971Z"
    }
   },
   "outputs": [
    {
     "data": {
      "text/plain": [
       "array([[1., 1., 1., 1.],\n",
       "       [1., 1., 1., 1.],\n",
       "       [1., 1., 1., 1.]])"
      ]
     },
     "execution_count": 21,
     "metadata": {},
     "output_type": "execute_result"
    }
   ],
   "source": [
    "np.ones((3,4))"
   ]
  },
  {
   "cell_type": "code",
   "execution_count": 25,
   "id": "attended-calendar",
   "metadata": {
    "ExecuteTime": {
     "end_time": "2021-04-25T08:44:48.274838Z",
     "start_time": "2021-04-25T08:44:48.269298Z"
    }
   },
   "outputs": [
    {
     "data": {
      "text/plain": [
       "array([[ 2.01051748],\n",
       "       [-1.32324331],\n",
       "       [ 0.85703659],\n",
       "       [ 0.559558  ],\n",
       "       [ 0.62421815]])"
      ]
     },
     "execution_count": 25,
     "metadata": {},
     "output_type": "execute_result"
    }
   ],
   "source": [
    "np.random.randn(5,1)"
   ]
  },
  {
   "cell_type": "code",
   "execution_count": 26,
   "id": "affecting-antique",
   "metadata": {
    "ExecuteTime": {
     "end_time": "2021-04-25T08:47:54.666400Z",
     "start_time": "2021-04-25T08:47:54.659003Z"
    }
   },
   "outputs": [
    {
     "data": {
      "text/plain": [
       "array([[0., 0., 0.],\n",
       "       [0., 0., 0.]])"
      ]
     },
     "execution_count": 26,
     "metadata": {},
     "output_type": "execute_result"
    }
   ],
   "source": [
    "np.empty((2,3))"
   ]
  },
  {
   "cell_type": "code",
   "execution_count": 29,
   "id": "bronze-palestinian",
   "metadata": {
    "ExecuteTime": {
     "end_time": "2021-04-25T18:00:28.993707Z",
     "start_time": "2021-04-25T18:00:28.984987Z"
    }
   },
   "outputs": [
    {
     "name": "stdout",
     "output_type": "stream",
     "text": [
      "Original array\n",
      "[ 1.  0. nan inf]\n",
      "Test element-wise for positive or negative infinity:\n",
      "[False False False  True]\n"
     ]
    }
   ],
   "source": [
    "import numpy as np\n",
    "a = np.array([1, 0, np.nan, np.inf])\n",
    "print(\"Original array\")\n",
    "print(a)\n",
    "print(\"Test element-wise for positive or negative infinity:\")\n",
    "print(np.isinf(a))\n"
   ]
  },
  {
   "cell_type": "code",
   "execution_count": 30,
   "id": "every-webster",
   "metadata": {
    "ExecuteTime": {
     "end_time": "2021-04-25T18:01:25.704045Z",
     "start_time": "2021-04-25T18:01:25.692688Z"
    }
   },
   "outputs": [
    {
     "name": "stdout",
     "output_type": "stream",
     "text": [
      "Original array\n",
      "[1. +1.j 1. +0.j 4.5+0.j 3. +0.j 2. +0.j 0. +2.j]\n",
      "Checking for complex number:\n",
      "[ True False False False False  True]\n",
      "Checking for real number:\n",
      "[False  True  True  True  True False]\n",
      "Checking for scalar type:\n",
      "True\n",
      "False\n"
     ]
    }
   ],
   "source": [
    "import numpy as np\n",
    "a = np.array([1+1j, 1+0j, 4.5, 3, 2, 2j])\n",
    "print(\"Original array\")\n",
    "print(a)\n",
    "print(\"Checking for complex number:\")\n",
    "print(np.iscomplex(a))\n",
    "print(\"Checking for real number:\")\n",
    "print(np.isreal(a))\n",
    "print(\"Checking for scalar type:\")\n",
    "print(np.isscalar(3.1))\n",
    "print(np.isscalar([3.1]))\n"
   ]
  },
  {
   "cell_type": "code",
   "execution_count": 31,
   "id": "compound-pleasure",
   "metadata": {
    "ExecuteTime": {
     "end_time": "2021-04-25T18:02:40.844589Z",
     "start_time": "2021-04-25T18:02:40.831548Z"
    }
   },
   "outputs": [
    {
     "name": "stdout",
     "output_type": "stream",
     "text": [
      "Test if two arrays are element-wise equal within a tolerance:\n",
      "False\n",
      "True\n",
      "False\n",
      "False\n",
      "True\n"
     ]
    }
   ],
   "source": [
    "import numpy as np\n",
    "print(\"Test if two arrays are element-wise equal within a tolerance:\")\n",
    "print(np.allclose([1e10,1e-7], [1.00001e10,1e-8]))\n",
    "print(np.allclose([1e10,1e-8], [1.00001e10,1e-9]))\n",
    "print(np.allclose([1e10,1e-8], [1.0001e10,1e-9]))\n",
    "print(np.allclose([1.0, np.nan], [1.0, np.nan]))\n",
    "print(np.allclose([1.0, np.nan], [1.0, np.nan], equal_nan=True))\n"
   ]
  },
  {
   "cell_type": "code",
   "execution_count": 46,
   "id": "military-hurricane",
   "metadata": {
    "ExecuteTime": {
     "end_time": "2021-04-25T18:14:33.124187Z",
     "start_time": "2021-04-25T18:14:33.114832Z"
    }
   },
   "outputs": [
    {
     "name": "stdout",
     "output_type": "stream",
     "text": [
      "Original array:\n",
      "[[ 1  7 13 15]]\n",
      "Size of the memory occupied by the said array:\n",
      "32 bytes\n"
     ]
    }
   ],
   "source": [
    "import numpy as np\n",
    "X = np.array([(1, 7, 13, 15)])\n",
    "print(\"Original array:\")\n",
    "print(X)\n",
    "print(\"Size of the memory occupied by the said array:\")\n",
    "print(\"%d bytes\" % (X.size * X.itemsize))\n"
   ]
  },
  {
   "cell_type": "code",
   "execution_count": 3,
   "id": "elder-detector",
   "metadata": {
    "ExecuteTime": {
     "end_time": "2021-05-05T17:35:09.255312Z",
     "start_time": "2021-05-05T17:33:06.675254Z"
    },
    "scrolled": false
   },
   "outputs": [
    {
     "name": "stdout",
     "output_type": "stream",
     "text": [
      "Collecting package metadata (current_repodata.json): done\n",
      "Solving environment: \\ \n",
      "Warning: 4 possible package resolutions (only showing differing packages):\n",
      "  - defaults/linux-64::docutils-0.17-py38h06a4308_1, defaults/noarch::decorator-5.0.6-pyhd3eb1b0_0, defaults/noarch::networkx-2.5-py_0, defaults/noarch::sphinx-3.4.3-pyhd3eb1b0_0\n",
      "  - defaults/linux-64::docutils-0.17-py38h06a4308_1, defaults/noarch::decorator-4.4.2-pyhd3eb1b0_0, defaults/noarch::networkx-2.5.1-pyhd3eb1b0_0, defaults/noarch::sphinx-3.4.3-pyhd3eb1b0_0\n",
      "  - defaults/linux-64::docutils-0.16-py38_1, defaults/noarch::decorator-4.4.2-pyhd3eb1b0_0, defaults/noarch::networkx-2.5.1-pyhd3eb1b0_0, defaults/noarch::sphinx-3.5.4-pyhd3eb1b0_0\n",
      "  - defaults/linux-64::docutils-0.16-py38_1, defaults/noarch::decorator-5.0.6-pyhd3eb1b0_0, defaults/noarch::networkx-2.5-py_0, defaults/noarch::sphinx-3.5.4-pyhd3eb1b0done\n",
      "\n",
      "## Package Plan ##\n",
      "\n",
      "  environment location: /home/vijay/anaconda3\n",
      "\n",
      "\n",
      "The following packages will be downloaded:\n",
      "\n",
      "    package                    |            build\n",
      "    ---------------------------|-----------------\n",
      "    absl-py-0.12.0             |   py38h06a4308_0         172 KB\n",
      "    anaconda-navigator-2.0.1   |           py38_0         5.2 MB\n",
      "    anyio-2.2.0                |   py38h06a4308_1         125 KB\n",
      "    astropy-4.2.1              |   py38h27cfd23_1         6.1 MB\n",
      "    autopep8-1.5.6             |     pyhd3eb1b0_0          43 KB\n",
      "    backports.functools_lru_cache-1.6.4|     pyhd3eb1b0_0           9 KB\n",
      "    bitarray-1.9.2             |   py38h27cfd23_1         117 KB\n",
      "    bokeh-2.3.1                |   py38h06a4308_0         5.8 MB\n",
      "    ca-certificates-2021.4.13  |       h06a4308_1         114 KB\n",
      "    cachetools-4.2.2           |     pyhd3eb1b0_0          13 KB\n",
      "    conda-4.10.1               |   py38h06a4308_1         2.9 MB\n",
      "    conda-build-3.21.4         |   py38h06a4308_0         547 KB\n",
      "    conda-content-trust-0.1.1  |     pyhd3eb1b0_0          56 KB\n",
      "    conda-package-handling-1.7.3|   py38h27cfd23_1         884 KB\n",
      "    conda-repo-cli-1.0.4       |     pyhd3eb1b0_0          47 KB\n",
      "    conda-token-0.3.0          |     pyhd3eb1b0_0          10 KB\n",
      "    coverage-5.5               |   py38h27cfd23_2         259 KB\n",
      "    cryptography-3.4.7         |   py38hd23ed53_0         913 KB\n",
      "    cython-0.29.23             |   py38h2531618_0         2.0 MB\n",
      "    dask-2021.4.0              |     pyhd3eb1b0_0           5 KB\n",
      "    dask-core-2021.4.0         |     pyhd3eb1b0_0         670 KB\n",
      "    decorator-5.0.6            |     pyhd3eb1b0_0          12 KB\n",
      "    defusedxml-0.7.1           |     pyhd3eb1b0_0          23 KB\n",
      "    distributed-2021.4.0       |   py38h06a4308_0         1.0 MB\n",
      "    docutils-0.17              |   py38h06a4308_1         691 KB\n",
      "    flake8-3.9.0               |     pyhd3eb1b0_0         129 KB\n",
      "    fsspec-0.9.0               |     pyhd3eb1b0_0          83 KB\n",
      "    gettext-0.21.0             |       hf68c758_0         2.6 MB\n",
      "    gevent-21.1.2              |   py38h27cfd23_1         1.5 MB\n",
      "    gnutls-3.6.15              |       he1e5248_0         1.0 MB\n",
      "    google-auth-oauthlib-0.4.4 |     pyhd3eb1b0_0          18 KB\n",
      "    grpcio-1.36.1              |   py38h2157cd5_1         1.9 MB\n",
      "    imageio-2.9.0              |     pyhd3eb1b0_0         3.0 MB\n",
      "    importlib-metadata-3.10.0  |   py38h06a4308_0          33 KB\n",
      "    importlib_metadata-3.10.0  |       hd3eb1b0_0          11 KB\n",
      "    intel-openmp-2021.2.0      |     h06a4308_610         1.3 MB\n",
      "    ipython-7.22.0             |   py38hb070fc8_0         982 KB\n",
      "    isort-5.8.0                |     pyhd3eb1b0_0          81 KB\n",
      "    jupyter-packaging-0.7.12   |     pyhd3eb1b0_0          14 KB\n",
      "    jupyter_client-6.1.12      |     pyhd3eb1b0_0          88 KB\n",
      "    jupyter_console-6.4.0      |     pyhd3eb1b0_0          23 KB\n",
      "    jupyter_server-1.4.1       |   py38h06a4308_0         317 KB\n",
      "    jupyterlab-3.0.14          |     pyhd3eb1b0_1         3.5 MB\n",
      "    jupyterlab_server-2.4.0    |     pyhd3eb1b0_0          37 KB\n",
      "    keyring-22.3.0             |   py38h06a4308_0          53 KB\n",
      "    lazy-object-proxy-1.6.0    |   py38h27cfd23_0          30 KB\n",
      "    lcms2-2.12                 |       h3be6417_0         312 KB\n",
      "    libedit-3.1.20210216       |       h27cfd23_1         167 KB\n",
      "    libidn2-2.3.0              |       h27cfd23_0          86 KB\n",
      "    libspatialindex-1.9.3      |       h2531618_0         2.1 MB\n",
      "    libtasn1-4.16.0            |       h27cfd23_0          58 KB\n",
      "    libunistring-0.9.10        |       h27cfd23_0         536 KB\n",
      "    libuv-1.40.0               |       h7b6447c_0         736 KB\n",
      "    llvmlite-0.36.0            |   py38h612dafd_4         396 KB\n",
      "    markdown-3.3.4             |   py38h06a4308_0         129 KB\n",
      "    mkl_fft-1.3.0              |   py38h54f3939_0         177 KB\n",
      "    mpmath-1.2.1               |   py38h06a4308_0         766 KB\n",
      "    nbclassic-0.2.6            |     pyhd3eb1b0_0          19 KB\n",
      "    nbclient-0.5.3             |     pyhd3eb1b0_0          62 KB\n",
      "    nbformat-5.1.3             |     pyhd3eb1b0_0          44 KB\n",
      "    nettle-3.7.2               |       hbbd107a_1         811 KB\n",
      "    nltk-3.6.1                 |     pyhd3eb1b0_0         988 KB\n",
      "    notebook-6.3.0             |   py38h06a4308_0         4.1 MB\n",
      "    numba-0.53.1               |   py38ha9443f7_0         3.3 MB\n",
      "    numexpr-2.7.3              |   py38hb2eb853_0         185 KB\n",
      "    openpyxl-3.0.7             |     pyhd3eb1b0_0         159 KB\n",
      "    openssl-1.1.1k             |       h27cfd23_0         2.5 MB\n",
      "    pandas-1.2.4               |   py38h2531618_0         8.9 MB\n",
      "    pandoc-2.12                |       h06a4308_0         9.5 MB\n",
      "    partd-1.2.0                |     pyhd3eb1b0_0          19 KB\n",
      "    path-15.1.2                |   py38h06a4308_0          37 KB\n",
      "    pillow-8.2.0               |   py38he98fc37_0         628 KB\n",
      "    pluggy-0.13.1              |   py38h06a4308_0          33 KB\n",
      "    prometheus_client-0.10.1   |     pyhd3eb1b0_0          46 KB\n",
      "    prompt-toolkit-3.0.17      |     pyh06a4308_0         256 KB\n",
      "    prompt_toolkit-3.0.17      |       hd3eb1b0_0          12 KB\n",
      "    pydocstyle-6.0.0           |     pyhd3eb1b0_0          35 KB\n",
      "    pygments-2.8.1             |     pyhd3eb1b0_0         703 KB\n",
      "    pylint-2.7.4               |   py38h06a4308_1         454 KB\n",
      "    pyls-spyder-0.3.2          |     pyhd3eb1b0_0          10 KB\n",
      "    pymongo-3.11.4             |   py38h2531618_0         1.2 MB\n",
      "    pyspark-3.1.1              |     pyhd3eb1b0_0       194.1 MB\n",
      "    pytest-6.2.3               |   py38h06a4308_2         424 KB\n",
      "    python-libarchive-c-2.9    |     pyhd3eb1b0_1          47 KB\n",
      "    qdarkstyle-3.0.2           |     pyhd3eb1b0_0         337 KB\n",
      "    qtawesome-1.0.2            |     pyhd3eb1b0_0         760 KB\n",
      "    qtconsole-5.0.3            |     pyhd3eb1b0_0          97 KB\n",
      "    regex-2021.4.4             |   py38h27cfd23_0         322 KB\n",
      "    rsa-4.7.2                  |     pyhd3eb1b0_1          28 KB\n",
      "    rtree-0.9.7                |   py38h06a4308_1          48 KB\n",
      "    ruamel_yaml-0.15.100       |   py38h27cfd23_0         258 KB\n",
      "    scikit-image-0.18.1        |   py38ha9443f7_0         9.5 MB\n",
      "    scikit-learn-0.24.1        |   py38ha9443f7_0         5.4 MB\n",
      "    scipy-1.6.2                |   py38h91f5cce_0        15.6 MB\n",
      "    secretstorage-3.3.1        |   py38h06a4308_0          24 KB\n",
      "    singledispatch-3.6.1       |  pyhd3eb1b0_1001          13 KB\n",
      "    sip-4.19.25                |   py38h2531618_0         279 KB\n",
      "    sniffio-1.2.0              |   py38h06a4308_1          15 KB\n",
      "    soupsieve-2.2.1            |     pyhd3eb1b0_0          32 KB\n",
      "    sqlalchemy-1.4.7           |   py38h27cfd23_0         1.8 MB\n",
      "    sqlite-3.35.4              |       hdfb4753_0         981 KB\n",
      "    statsmodels-0.12.2         |   py38h27cfd23_0         8.5 MB\n",
      "    sympy-1.8                  |   py38h06a4308_0         9.1 MB\n",
      "    tensorboard-2.4.0          |     pyhc547734_0         8.8 MB\n",
      "    terminado-0.9.4            |   py38h06a4308_0          25 KB\n",
      "    toml-0.10.2                |     pyhd3eb1b0_0          20 KB\n",
      "    tqdm-4.59.0                |     pyhd3eb1b0_1          93 KB\n",
      "    urllib3-1.26.4             |     pyhd3eb1b0_0         105 KB\n",
      "    wurlitzer-2.1.0            |   py38h06a4308_0          14 KB\n",
      "    xlsxwriter-1.3.8           |     pyhd3eb1b0_0         109 KB\n",
      "    yapf-0.31.0                |     pyhd3eb1b0_0         126 KB\n",
      "    zeromq-4.3.4               |       h2531618_0         331 KB\n",
      "    zipp-3.4.1                 |     pyhd3eb1b0_0          15 KB\n",
      "    zope.interface-5.3.0       |   py38h27cfd23_0         295 KB\n",
      "    ------------------------------------------------------------\n",
      "                                           Total:       341.1 MB\n",
      "\n",
      "The following NEW packages will be INSTALLED:\n",
      "\n",
      "  anyio              pkgs/main/linux-64::anyio-2.2.0-py38h06a4308_1\n",
      "  conda-content-tru~ pkgs/main/noarch::conda-content-trust-0.1.1-pyhd3eb1b0_0\n",
      "  conda-repo-cli     pkgs/main/noarch::conda-repo-cli-1.0.4-pyhd3eb1b0_0\n",
      "  conda-token        pkgs/main/noarch::conda-token-0.3.0-pyhd3eb1b0_0\n",
      "  jupyter-packaging  pkgs/main/noarch::jupyter-packaging-0.7.12-pyhd3eb1b0_0\n",
      "  jupyter_server     pkgs/main/linux-64::jupyter_server-1.4.1-py38h06a4308_0\n",
      "  libidn2            pkgs/main/linux-64::libidn2-2.3.0-h27cfd23_0\n",
      "  libtasn1           pkgs/main/linux-64::libtasn1-4.16.0-h27cfd23_0\n",
      "  libunistring       pkgs/main/linux-64::libunistring-0.9.10-h27cfd23_0\n",
      "  libuv              pkgs/main/linux-64::libuv-1.40.0-h7b6447c_0\n",
      "  nbclassic          pkgs/main/noarch::nbclassic-0.2.6-pyhd3eb1b0_0\n",
      "  sniffio            pkgs/main/linux-64::sniffio-1.2.0-py38h06a4308_1\n",
      "\n",
      "The following packages will be UPDATED:\n",
      "\n",
      "  absl-py            pkgs/main/noarch::absl-py-0.11.0-pyhd~ --> pkgs/main/linux-64::absl-py-0.12.0-py38h06a4308_0\n",
      "  anaconda-navigator                          1.10.0-py38_0 --> 2.0.1-py38_0\n",
      "  astropy                                4.2-py38h27cfd23_0 --> 4.2.1-py38h27cfd23_1\n",
      "  autopep8                               1.5.5-pyhd3eb1b0_0 --> 1.5.6-pyhd3eb1b0_0\n",
      "  backports.functoo~                     1.6.1-pyhd3eb1b0_0 --> 1.6.4-pyhd3eb1b0_0\n",
      "  bitarray                             1.6.3-py38h27cfd23_1 --> 1.9.2-py38h27cfd23_1\n",
      "  bokeh                                        2.2.3-py38_0 --> 2.3.1-py38h06a4308_0\n",
      "  ca-certificates                      2021.1.19-h06a4308_0 --> 2021.4.13-h06a4308_1\n",
      "  cachetools                             4.2.1-pyhd3eb1b0_0 --> 4.2.2-pyhd3eb1b0_0\n",
      "  conda                                4.9.2-py38h06a4308_0 --> 4.10.1-py38h06a4308_1\n",
      "  conda-build                                 3.20.5-py38_1 --> 3.21.4-py38h06a4308_0\n",
      "  conda-package-han~                   1.7.2-py38h03888b9_0 --> 1.7.3-py38h27cfd23_1\n",
      "  coverage                               5.4-py38h27cfd23_2 --> 5.5-py38h27cfd23_2\n",
      "  cryptography                         3.3.1-py38h3c74f83_1 --> 3.4.7-py38hd23ed53_0\n",
      "  cython                             0.29.21-py38h2531618_0 --> 0.29.23-py38h2531618_0\n",
      "  dask                                2021.2.0-pyhd3eb1b0_0 --> 2021.4.0-pyhd3eb1b0_0\n",
      "  dask-core                           2021.2.0-pyhd3eb1b0_0 --> 2021.4.0-pyhd3eb1b0_0\n",
      "  decorator                              4.4.2-pyhd3eb1b0_0 --> 5.0.6-pyhd3eb1b0_0\n",
      "  defusedxml                             0.6.0-pyhd3eb1b0_0 --> 0.7.1-pyhd3eb1b0_0\n",
      "  distributed                       2021.2.0-py38h06a4308_0 --> 2021.4.0-py38h06a4308_0\n",
      "  docutils                                      0.16-py38_1 --> 0.17-py38h06a4308_1\n",
      "  flake8                                         3.8.4-py_0 --> 3.9.0-pyhd3eb1b0_0\n",
      "  fsspec                                         0.8.3-py_0 --> 0.9.0-pyhd3eb1b0_0\n",
      "  gettext                               0.19.8.1-hd7bead4_3 --> 0.21.0-hf68c758_0\n",
      "  gevent                              21.1.1-py38h27cfd23_1 --> 21.1.2-py38h27cfd23_1\n",
      "  gnutls                                3.6.5-h71b1129_1002 --> 3.6.15-he1e5248_0\n",
      "  google-auth-oauth~                     0.4.2-pyhd3eb1b0_2 --> 0.4.4-pyhd3eb1b0_0\n",
      "  grpcio                              1.35.0-py38h2157cd5_1 --> 1.36.1-py38h2157cd5_1\n",
      "  importlib-metadata pkgs/main/noarch::importlib-metadata-~ --> pkgs/main/linux-64::importlib-metadata-3.10.0-py38h06a4308_0\n",
      "  importlib_metadata                                2.0.0-1 --> 3.10.0-hd3eb1b0_0\n",
      "  intel-openmp                                   2020.2-254 --> 2021.2.0-h06a4308_610\n",
      "  ipython                             7.20.0-py38hb070fc8_1 --> 7.22.0-py38hb070fc8_0\n",
      "  isort                                  5.7.0-pyhd3eb1b0_0 --> 5.8.0-pyhd3eb1b0_0\n",
      "  jupyter_client                                 6.1.7-py_0 --> 6.1.12-pyhd3eb1b0_0\n",
      "  jupyter_console                                6.2.0-py_0 --> 6.4.0-pyhd3eb1b0_0\n",
      "  jupyterlab                                     2.2.6-py_0 --> 3.0.14-pyhd3eb1b0_1\n",
      "  jupyterlab_server                              1.2.0-py_0 --> 2.4.0-pyhd3eb1b0_0\n",
      "  keyring                             22.0.1-py38h06a4308_0 --> 22.3.0-py38h06a4308_0\n",
      "  lazy-object-proxy                    1.5.2-py38h27cfd23_0 --> 1.6.0-py38h27cfd23_0\n",
      "  lcms2                                     2.11-h396b838_0 --> 2.12-h3be6417_0\n",
      "  libedit                           3.1.20191231-h14c3975_1 --> 3.1.20210216-h27cfd23_1\n",
      "  llvmlite                            0.34.0-py38h269e1b5_4 --> 0.36.0-py38h612dafd_4\n",
      "  markdown                             3.3.3-py38h06a4308_0 --> 3.3.4-py38h06a4308_0\n",
      "  mkl_fft                              1.2.1-py38h54f3939_0 --> 1.3.0-py38h54f3939_0\n",
      "  mpmath                                       1.1.0-py38_0 --> 1.2.1-py38h06a4308_0\n",
      "  nbclient                               0.5.2-pyhd3eb1b0_0 --> 0.5.3-pyhd3eb1b0_0\n",
      "  nbformat                               5.1.2-pyhd3eb1b0_1 --> 5.1.3-pyhd3eb1b0_0\n",
      "  nettle                                   3.4.1-hbb512f6_0 --> 3.7.2-hbbd107a_1\n",
      "  nltk                                             3.5-py_0 --> 3.6.1-pyhd3eb1b0_0\n",
      "  notebook                             6.2.0-py38h06a4308_0 --> 6.3.0-py38h06a4308_0\n",
      "  numba                               0.51.2-py38h0573a6f_1 --> 0.53.1-py38ha9443f7_0\n",
      "  numexpr                              2.7.2-py38hb2eb853_0 --> 2.7.3-py38hb2eb853_0\n",
      "  openpyxl                               3.0.6-pyhd3eb1b0_0 --> 3.0.7-pyhd3eb1b0_0\n",
      "  openssl                                 1.1.1j-h27cfd23_0 --> 1.1.1k-h27cfd23_0\n",
      "  pandas                               1.2.2-py38ha9443f7_0 --> 1.2.4-py38h2531618_0\n",
      "  pandoc                                    2.11-hb0f4dca_0 --> 2.12-h06a4308_0\n",
      "  partd                                          1.1.0-py_0 --> 1.2.0-pyhd3eb1b0_0\n",
      "  path                                15.1.0-py38h06a4308_0 --> 15.1.2-py38h06a4308_0\n",
      "  pillow                               8.1.0-py38he98fc37_0 --> 8.2.0-py38he98fc37_0\n",
      "  prometheus_client                      0.9.0-pyhd3eb1b0_0 --> 0.10.1-pyhd3eb1b0_0\n",
      "  prompt-toolkit                                 3.0.8-py_0 --> 3.0.17-pyh06a4308_0\n",
      "  prompt_toolkit                                    3.0.8-0 --> 3.0.17-hd3eb1b0_0\n",
      "  pydocstyle                                     5.1.1-py_0 --> 6.0.0-pyhd3eb1b0_0\n",
      "  pygments                               2.7.4-pyhd3eb1b0_0 --> 2.8.1-pyhd3eb1b0_0\n",
      "  pylint                                       2.6.0-py38_0 --> 2.7.4-py38h06a4308_1\n",
      "  pyls-spyder                            0.3.0-pyhd3eb1b0_0 --> 0.3.2-pyhd3eb1b0_0\n",
      "  pymongo                             3.11.2-py38h2531618_0 --> 3.11.4-py38h2531618_0\n",
      "  pyspark            conda-forge::pyspark-3.0.1-pyh9f0ad1d~ --> pkgs/main::pyspark-3.1.1-pyhd3eb1b0_0\n",
      "  pytest                               6.2.2-py38h06a4308_2 --> 6.2.3-py38h06a4308_2\n",
      "  python-libarchive~                       2.9-pyhd3eb1b0_0 --> 2.9-pyhd3eb1b0_1\n",
      "  qdarkstyle                                     2.8.1-py_0 --> 3.0.2-pyhd3eb1b0_0\n",
      "  qtawesome                                      1.0.1-py_0 --> 1.0.2-pyhd3eb1b0_0\n",
      "  qtconsole                              5.0.2-pyhd3eb1b0_0 --> 5.0.3-pyhd3eb1b0_0\n",
      "  regex                           2020.11.13-py38h27cfd23_0 --> 2021.4.4-py38h27cfd23_0\n",
      "  rsa                                      4.7-pyhd3eb1b0_1 --> 4.7.2-pyhd3eb1b0_1\n",
      "  rtree                                        0.9.4-py38_1 --> 0.9.7-py38h06a4308_1\n",
      "  ruamel_yaml                        0.15.87-py38h7b6447c_1 --> 0.15.100-py38h27cfd23_0\n",
      "  scikit-image                        0.17.2-py38hdf5156a_0 --> 0.18.1-py38ha9443f7_0\n",
      "  scikit-learn                        0.23.2-py38h0573a6f_0 --> 0.24.1-py38ha9443f7_0\n",
      "  scipy                                1.6.0-py38h91f5cce_0 --> 1.6.2-py38h91f5cce_0\n",
      "  secretstorage                        3.3.0-py38h06a4308_0 --> 3.3.1-py38h06a4308_0\n",
      "  singledispatch                            3.4.0.3-py_1001 --> 3.6.1-pyhd3eb1b0_1001\n",
      "  sip                                4.19.24-py38he6710b0_0 --> 4.19.25-py38h2531618_0\n",
      "  soupsieve                                2.1-pyhd3eb1b0_0 --> 2.2.1-pyhd3eb1b0_0\n",
      "  sqlalchemy                          1.3.23-py38h27cfd23_0 --> 1.4.7-py38h27cfd23_0\n",
      "  sqlite                                  3.33.0-h62c20be_0 --> 3.35.4-hdfb4753_0\n",
      "  statsmodels                         0.12.1-py38h27cfd23_0 --> 0.12.2-py38h27cfd23_0\n",
      "  sympy                                1.7.1-py38h06a4308_0 --> 1.8-py38h06a4308_0\n",
      "  tensorboard                            2.3.0-pyh4dce500_0 --> 2.4.0-pyhc547734_0\n",
      "  terminado                            0.9.2-py38h06a4308_0 --> 0.9.4-py38h06a4308_0\n",
      "  toml                                          0.10.1-py_0 --> 0.10.2-pyhd3eb1b0_0\n",
      "  tqdm                                  4.56.0-pyhd3eb1b0_0 --> 4.59.0-pyhd3eb1b0_1\n",
      "  urllib3                               1.26.3-pyhd3eb1b0_0 --> 1.26.4-pyhd3eb1b0_0\n",
      "  wurlitzer                                    2.0.1-py38_0 --> 2.1.0-py38h06a4308_0\n",
      "  xlsxwriter                             1.3.7-pyhd3eb1b0_0 --> 1.3.8-pyhd3eb1b0_0\n",
      "  yapf                                          0.30.0-py_0 --> 0.31.0-pyhd3eb1b0_0\n",
      "  zeromq                                   4.3.3-he6710b0_3 --> 4.3.4-h2531618_0\n",
      "  zipp                                   3.4.0-pyhd3eb1b0_0 --> 3.4.1-pyhd3eb1b0_0\n",
      "  zope.interface                       5.2.0-py38h27cfd23_0 --> 5.3.0-py38h27cfd23_0\n",
      "\n",
      "The following packages will be SUPERSEDED by a higher-priority channel:\n",
      "\n",
      "  keras                       conda-forge::keras-2.4.3-py_0 --> pkgs/main::keras-2.4.3-0\n",
      "\n",
      "The following packages will be DOWNGRADED:\n",
      "\n",
      "  imageio                                        2.9.0-py_0 --> 2.9.0-pyhd3eb1b0_0\n",
      "  libspatialindex                          1.9.3-he6710b0_0 --> 1.9.3-h2531618_0\n",
      "  pluggy                                      0.13.1-py38_0 --> 0.13.1-py38h06a4308_0\n",
      "\n",
      "\n",
      "\n",
      "Downloading and Extracting Packages\n"
     ]
    },
    {
     "name": "stdout",
     "output_type": "stream",
     "text": [
      "nettle-3.7.2         | 811 KB    | ##################################### | 100% \n",
      "cython-0.29.23       | 2.0 MB    | ##################################### | 100% \n",
      "libedit-3.1.20210216 | 167 KB    | ##################################### | 100% \n",
      "google-auth-oauthlib | 18 KB     | ##################################### | 100% \n",
      "nbclassic-0.2.6      | 19 KB     | ##################################### | 100% \n",
      "ca-certificates-2021 | 114 KB    | ##################################### | 100% \n",
      "libidn2-2.3.0        | 86 KB     | ##################################### | 100% \n",
      "zeromq-4.3.4         | 331 KB    | ##################################### | 100% \n",
      "intel-openmp-2021.2. | 1.3 MB    | ##################################### | 100% \n",
      "pyspark-3.1.1        | 194.1 MB  | ##################################### | 100% \n",
      "jupyter_server-1.4.1 | 317 KB    | ##################################### | 100% \n",
      "gettext-0.21.0       | 2.6 MB    | ##################################### | 100% \n",
      "prompt_toolkit-3.0.1 | 12 KB     | ##################################### | 100% \n",
      "tensorboard-2.4.0    | 8.8 MB    | ##################################### | 100% \n",
      "pillow-8.2.0         | 628 KB    | ##################################### | 100% \n",
      "flake8-3.9.0         | 129 KB    | ##################################### | 100% \n",
      "pyls-spyder-0.3.2    | 10 KB     | ##################################### | 100% \n",
      "sqlalchemy-1.4.7     | 1.8 MB    | ##################################### | 100% \n",
      "pandoc-2.12          | 9.5 MB    | ##################################### | 100% \n",
      "cryptography-3.4.7   | 913 KB    | ##################################### | 100% \n",
      "pydocstyle-6.0.0     | 35 KB     | ##################################### | 100% \n",
      "astropy-4.2.1        | 6.1 MB    | ##################################### | 100% \n",
      "conda-4.10.1         | 2.9 MB    | ##################################### | 100% \n",
      "bokeh-2.3.1          | 5.8 MB    | ##################################### | 100% \n",
      "prompt-toolkit-3.0.1 | 256 KB    | ##################################### | 100% \n",
      "lazy-object-proxy-1. | 30 KB     | ##################################### | 100% \n",
      "scikit-learn-0.24.1  | 5.4 MB    | ##################################### | 100% \n",
      "lcms2-2.12           | 312 KB    | ##################################### | 100% \n",
      "anaconda-navigator-2 | 5.2 MB    | ##################################### | 100% \n",
      "qtconsole-5.0.3      | 97 KB     | ##################################### | 100% \n",
      "singledispatch-3.6.1 | 13 KB     | ##################################### | 100% \n",
      "zope.interface-5.3.0 | 295 KB    | ##################################### | 100% \n",
      "scikit-image-0.18.1  | 9.5 MB    | ##################################### | 100% \n",
      "llvmlite-0.36.0      | 396 KB    | ##################################### | 100% \n",
      "pygments-2.8.1       | 703 KB    | ##################################### | 100% \n",
      "python-libarchive-c- | 47 KB     | ##################################### | 100% \n",
      "dask-core-2021.4.0   | 670 KB    | ##################################### | 100% \n",
      "pluggy-0.13.1        | 33 KB     | ##################################### | 100% \n",
      "defusedxml-0.7.1     | 23 KB     | ##################################### | 100% \n",
      "pytest-6.2.3         | 424 KB    | ##################################### | 100% \n",
      "nltk-3.6.1           | 988 KB    | ##################################### | 100% \n",
      "scipy-1.6.2          | 15.6 MB   | ##################################### | 100% \n",
      "qdarkstyle-3.0.2     | 337 KB    | ##################################### | 100% \n",
      "xlsxwriter-1.3.8     | 109 KB    | ##################################### | 100% \n",
      "regex-2021.4.4       | 322 KB    | ##################################### | 100% \n",
      "sip-4.19.25          | 279 KB    | ##################################### | 100% \n",
      "conda-build-3.21.4   | 547 KB    | ##################################### | 100% \n",
      "bitarray-1.9.2       | 117 KB    | ##################################### | 100% \n",
      "openssl-1.1.1k       | 2.5 MB    | ##################################### | 100% \n",
      "urllib3-1.26.4       | 105 KB    | ##################################### | 100% \n",
      "coverage-5.5         | 259 KB    | ##################################### | 100% \n",
      "pymongo-3.11.4       | 1.2 MB    | ##################################### | 100% \n",
      "imageio-2.9.0        | 3.0 MB    | ##################################### | 100% \n",
      "distributed-2021.4.0 | 1.0 MB    | ##################################### | 100% \n",
      "nbformat-5.1.3       | 44 KB     | ##################################### | 100% \n",
      "pylint-2.7.4         | 454 KB    | ##################################### | 100% \n",
      "fsspec-0.9.0         | 83 KB     | ##################################### | 100% \n",
      "jupyter_console-6.4. | 23 KB     | ##################################### | 100% \n",
      "conda-content-trust- | 56 KB     | ##################################### | 100% \n",
      "terminado-0.9.4      | 25 KB     | ##################################### | 100% \n",
      "zipp-3.4.1           | 15 KB     | ##################################### | 100% \n",
      "markdown-3.3.4       | 129 KB    | ##################################### | 100% \n",
      "partd-1.2.0          | 19 KB     | ##################################### | 100% \n",
      "jupyterlab_server-2. | 37 KB     | ##################################### | 100% \n",
      "jupyter-packaging-0. | 14 KB     | ##################################### | 100% \n",
      "rsa-4.7.2            | 28 KB     | ##################################### | 100% \n",
      "conda-repo-cli-1.0.4 | 47 KB     | ##################################### | 100% \n",
      "libunistring-0.9.10  | 536 KB    | ##################################### | 100% \n",
      "backports.functools_ | 9 KB      | ##################################### | 100% \n",
      "decorator-5.0.6      | 12 KB     | ##################################### | 100% \n",
      "prometheus_client-0. | 46 KB     | ##################################### | 100% \n",
      "nbclient-0.5.3       | 62 KB     | ##################################### | 100% \n",
      "libtasn1-4.16.0      | 58 KB     | ##################################### | 100% \n",
      "notebook-6.3.0       | 4.1 MB    | ##################################### | 100% \n",
      "jupyterlab-3.0.14    | 3.5 MB    | ##################################### | 100% \n",
      "mpmath-1.2.1         | 766 KB    | ##################################### | 100% \n",
      "importlib-metadata-3 | 33 KB     | ##################################### | 100% \n",
      "sympy-1.8            | 9.1 MB    | ##################################### | 100% \n",
      "path-15.1.2          | 37 KB     | ##################################### | 100% \n",
      "gevent-21.1.2        | 1.5 MB    | ##################################### | 100% \n",
      "jupyter_client-6.1.1 | 88 KB     | ##################################### | 100% \n",
      "sqlite-3.35.4        | 981 KB    | ##################################### | 100% \n",
      "libuv-1.40.0         | 736 KB    | ##################################### | 100% \n",
      "cachetools-4.2.2     | 13 KB     | ##################################### | 100% \n",
      "docutils-0.17        | 691 KB    | ##################################### | 100% \n",
      "importlib_metadata-3 | 11 KB     | ##################################### | 100% \n",
      "libspatialindex-1.9. | 2.1 MB    | ##################################### | 100% \n",
      "sniffio-1.2.0        | 15 KB     | ##################################### | 100% \n",
      "pandas-1.2.4         | 8.9 MB    | ##################################### | 100% \n",
      "conda-package-handli | 884 KB    | ##################################### | 100% \n",
      "toml-0.10.2          | 20 KB     | ##################################### | 100% \n",
      "numexpr-2.7.3        | 185 KB    | ##################################### | 100% \n",
      "absl-py-0.12.0       | 172 KB    | ##################################### | 100% \n",
      "conda-token-0.3.0    | 10 KB     | ##################################### | 100% \n",
      "gnutls-3.6.15        | 1.0 MB    | ##################################### | 100% \n",
      "yapf-0.31.0          | 126 KB    | ##################################### | 100% \n",
      "numba-0.53.1         | 3.3 MB    | ##################################### | 100% \n",
      "qtawesome-1.0.2      | 760 KB    | ##################################### | 100% \n",
      "rtree-0.9.7          | 48 KB     | ##################################### | 100% \n",
      "statsmodels-0.12.2   | 8.5 MB    | ##################################### | 100% \n",
      "ruamel_yaml-0.15.100 | 258 KB    | ##################################### | 100% \n"
     ]
    },
    {
     "name": "stdout",
     "output_type": "stream",
     "text": [
      "secretstorage-3.3.1  | 24 KB     | ##################################### | 100% \n",
      "soupsieve-2.2.1      | 32 KB     | ##################################### | 100% \n",
      "anyio-2.2.0          | 125 KB    | ##################################### | 100% \n",
      "isort-5.8.0          | 81 KB     | ##################################### | 100% \n",
      "ipython-7.22.0       | 982 KB    | ##################################### | 100% \n",
      "grpcio-1.36.1        | 1.9 MB    | ##################################### | 100% \n",
      "mkl_fft-1.3.0        | 177 KB    | ##################################### | 100% \n",
      "wurlitzer-2.1.0      | 14 KB     | ##################################### | 100% \n",
      "autopep8-1.5.6       | 43 KB     | ##################################### | 100% \n",
      "keyring-22.3.0       | 53 KB     | ##################################### | 100% \n",
      "dask-2021.4.0        | 5 KB      | ##################################### | 100% \n",
      "tqdm-4.59.0          | 93 KB     | ##################################### | 100% \n",
      "openpyxl-3.0.7       | 159 KB    | ##################################### | 100% \n",
      "Preparing transaction: done\n",
      "Verifying transaction: done\n",
      "Executing transaction: done\n",
      "\n",
      "Note: you may need to restart the kernel to use updated packages.\n"
     ]
    }
   ],
   "source": [
    "conda update --all"
   ]
  },
  {
   "cell_type": "code",
   "execution_count": null,
   "id": "overhead-introduction",
   "metadata": {},
   "outputs": [],
   "source": []
  },
  {
   "cell_type": "code",
   "execution_count": null,
   "id": "speaking-uzbekistan",
   "metadata": {},
   "outputs": [],
   "source": []
  }
 ],
 "metadata": {
  "kernelspec": {
   "display_name": "Python 3",
   "language": "python",
   "name": "python3"
  },
  "language_info": {
   "codemirror_mode": {
    "name": "ipython",
    "version": 3
   },
   "file_extension": ".py",
   "mimetype": "text/x-python",
   "name": "python",
   "nbconvert_exporter": "python",
   "pygments_lexer": "ipython3",
   "version": "3.8.3"
  },
  "latex_envs": {
   "LaTeX_envs_menu_present": true,
   "autoclose": false,
   "autocomplete": true,
   "bibliofile": "biblio.bib",
   "cite_by": "apalike",
   "current_citInitial": 1,
   "eqLabelWithNumbers": true,
   "eqNumInitial": 1,
   "hotkeys": {
    "equation": "Ctrl-E",
    "itemize": "Ctrl-I"
   },
   "labels_anchors": false,
   "latex_user_defs": false,
   "report_style_numbering": false,
   "user_envs_cfg": false
  },
  "varInspector": {
   "cols": {
    "lenName": 16,
    "lenType": 16,
    "lenVar": 40
   },
   "kernels_config": {
    "python": {
     "delete_cmd_postfix": "",
     "delete_cmd_prefix": "del ",
     "library": "var_list.py",
     "varRefreshCmd": "print(var_dic_list())"
    },
    "r": {
     "delete_cmd_postfix": ") ",
     "delete_cmd_prefix": "rm(",
     "library": "var_list.r",
     "varRefreshCmd": "cat(var_dic_list()) "
    }
   },
   "types_to_exclude": [
    "module",
    "function",
    "builtin_function_or_method",
    "instance",
    "_Feature"
   ],
   "window_display": false
  }
 },
 "nbformat": 4,
 "nbformat_minor": 5
}
