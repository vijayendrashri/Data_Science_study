{
 "cells": [
  {
   "cell_type": "code",
   "execution_count": 1,
   "id": "respective-shanghai",
   "metadata": {
    "ExecuteTime": {
     "end_time": "2021-04-18T06:54:19.462323Z",
     "start_time": "2021-04-18T06:54:19.458701Z"
    }
   },
   "outputs": [],
   "source": [
    "import itertools\n",
    "# colors = ['red', 'orange', 'yellow', 'green', 'blue', 'violet']\n",
    "# for color in itertools.cycle(colors):\n",
    "#     print(color)"
   ]
  },
  {
   "cell_type": "code",
   "execution_count": 2,
   "id": "swiss-vertical",
   "metadata": {
    "ExecuteTime": {
     "end_time": "2021-04-18T06:54:21.136865Z",
     "start_time": "2021-04-18T06:54:21.131825Z"
    }
   },
   "outputs": [],
   "source": [
    "s = {1, 2, 3, 2, 3, 4}\n",
    "# s = set([1, 2, 3])"
   ]
  },
  {
   "cell_type": "code",
   "execution_count": 3,
   "id": "otherwise-dayton",
   "metadata": {
    "ExecuteTime": {
     "end_time": "2021-04-18T06:54:22.085015Z",
     "start_time": "2021-04-18T06:54:22.067974Z"
    }
   },
   "outputs": [
    {
     "data": {
      "text/plain": [
       "{1, 2, 3, 4}"
      ]
     },
     "execution_count": 3,
     "metadata": {},
     "output_type": "execute_result"
    }
   ],
   "source": [
    "s"
   ]
  },
  {
   "cell_type": "code",
   "execution_count": 4,
   "id": "breeding-demographic",
   "metadata": {
    "ExecuteTime": {
     "end_time": "2021-04-18T06:54:34.198094Z",
     "start_time": "2021-04-18T06:54:34.192777Z"
    }
   },
   "outputs": [
    {
     "data": {
      "text/plain": [
       "{1, 2, 3, 4, 5}"
      ]
     },
     "execution_count": 4,
     "metadata": {},
     "output_type": "execute_result"
    }
   ],
   "source": [
    "s.add(5)\n",
    "s"
   ]
  },
  {
   "cell_type": "code",
   "execution_count": 5,
   "id": "logical-beatles",
   "metadata": {
    "ExecuteTime": {
     "end_time": "2021-04-18T06:54:39.408854Z",
     "start_time": "2021-04-18T06:54:39.402536Z"
    }
   },
   "outputs": [
    {
     "data": {
      "text/plain": [
       "{1, 2, 3, 4, 5, 6}"
      ]
     },
     "execution_count": 5,
     "metadata": {},
     "output_type": "execute_result"
    }
   ],
   "source": [
    "s.update([2, 3, 4, 5, 6])\n",
    "s"
   ]
  },
  {
   "cell_type": "code",
   "execution_count": 6,
   "id": "recreational-mobile",
   "metadata": {
    "ExecuteTime": {
     "end_time": "2021-04-18T06:54:43.006558Z",
     "start_time": "2021-04-18T06:54:43.002225Z"
    }
   },
   "outputs": [],
   "source": [
    "s.remove(4) # Element not will raise error"
   ]
  },
  {
   "cell_type": "code",
   "execution_count": 7,
   "id": "particular-topic",
   "metadata": {
    "ExecuteTime": {
     "end_time": "2021-04-18T06:55:01.212458Z",
     "start_time": "2021-04-18T06:55:01.208398Z"
    }
   },
   "outputs": [],
   "source": [
    "s.discard(3)"
   ]
  },
  {
   "cell_type": "code",
   "execution_count": 8,
   "id": "insured-plant",
   "metadata": {
    "ExecuteTime": {
     "end_time": "2021-04-18T06:56:42.152906Z",
     "start_time": "2021-04-18T06:56:42.145641Z"
    }
   },
   "outputs": [
    {
     "data": {
      "text/plain": [
       "{1, 2, 3, 4, 5}"
      ]
     },
     "execution_count": 8,
     "metadata": {},
     "output_type": "execute_result"
    }
   ],
   "source": [
    "s1 = {1, 2, 3}\n",
    "s2 = {3, 4, 5}\n",
    "s1.union(s2)  # or 's1 | s2'"
   ]
  },
  {
   "cell_type": "code",
   "execution_count": 12,
   "id": "tight-equipment",
   "metadata": {
    "ExecuteTime": {
     "end_time": "2021-04-18T06:59:07.334090Z",
     "start_time": "2021-04-18T06:59:07.326359Z"
    }
   },
   "outputs": [
    {
     "data": {
      "text/plain": [
       "{3}"
      ]
     },
     "execution_count": 12,
     "metadata": {},
     "output_type": "execute_result"
    }
   ],
   "source": [
    "s1 = {1, 2, 3}\n",
    "s2 = {2, 3, 4}\n",
    "s3 = {3, 4, 5}\n",
    "s1.intersection(s2, s3)  # or 's1 & s2 & s3'"
   ]
  },
  {
   "cell_type": "code",
   "execution_count": 13,
   "id": "regulated-margin",
   "metadata": {
    "ExecuteTime": {
     "end_time": "2021-04-18T06:59:31.629451Z",
     "start_time": "2021-04-18T06:59:31.621468Z"
    }
   },
   "outputs": [
    {
     "data": {
      "text/plain": [
       "{1, 4}"
      ]
     },
     "execution_count": 13,
     "metadata": {},
     "output_type": "execute_result"
    }
   ],
   "source": [
    "s1 = {1, 2, 3}\n",
    "s2 = {2, 3, 4}\n",
    "s1.symmetric_difference(s2) "
   ]
  },
  {
   "cell_type": "code",
   "execution_count": 15,
   "id": "packed-period",
   "metadata": {
    "ExecuteTime": {
     "end_time": "2021-04-18T08:10:04.907370Z",
     "start_time": "2021-04-18T08:10:04.900525Z"
    }
   },
   "outputs": [
    {
     "name": "stdout",
     "output_type": "stream",
     "text": [
      "1\n",
      "-1\n",
      "-4\n",
      "-8\n",
      "-13\n"
     ]
    }
   ],
   "source": [
    "import operator\n",
    "data = [1, 2, 3, 4, 5]\n",
    "result = itertools.accumulate(data, operator.sub)\n",
    "for each in result:\n",
    "    print(each)"
   ]
  },
  {
   "cell_type": "code",
   "execution_count": 12,
   "id": "absolute-prompt",
   "metadata": {
    "ExecuteTime": {
     "end_time": "2021-04-14T15:01:37.276488Z",
     "start_time": "2021-04-14T15:01:37.204282Z"
    }
   },
   "outputs": [
    {
     "name": "stdout",
     "output_type": "stream",
     "text": [
      "5\n",
      "7\n",
      "13\n",
      "17\n",
      "22\n",
      "31\n",
      "32\n"
     ]
    }
   ],
   "source": [
    "data = [5, 2, 6, 4, 5, 9, 1]\n",
    "result = itertools.accumulate(data)\n",
    "for each in result:\n",
    "    print(each)"
   ]
  },
  {
   "cell_type": "code",
   "execution_count": 13,
   "id": "bright-bradley",
   "metadata": {
    "ExecuteTime": {
     "end_time": "2021-04-14T15:01:37.345841Z",
     "start_time": "2021-04-14T15:01:37.279416Z"
    }
   },
   "outputs": [
    {
     "data": {
      "text/plain": [
       "'*****Hello'"
      ]
     },
     "execution_count": 13,
     "metadata": {},
     "output_type": "execute_result"
    }
   ],
   "source": [
    "'Hello'.rjust(10,'*')"
   ]
  },
  {
   "cell_type": "code",
   "execution_count": 14,
   "id": "romantic-coordination",
   "metadata": {
    "ExecuteTime": {
     "end_time": "2021-04-14T15:01:37.426827Z",
     "start_time": "2021-04-14T15:01:37.348753Z"
    }
   },
   "outputs": [
    {
     "data": {
      "text/plain": [
       "'Hello-----'"
      ]
     },
     "execution_count": 14,
     "metadata": {},
     "output_type": "execute_result"
    }
   ],
   "source": [
    "'Hello'.ljust(10,'-')"
   ]
  },
  {
   "cell_type": "code",
   "execution_count": 15,
   "id": "photographic-referral",
   "metadata": {
    "ExecuteTime": {
     "end_time": "2021-04-14T15:01:37.505397Z",
     "start_time": "2021-04-14T15:01:37.431568Z"
    }
   },
   "outputs": [
    {
     "data": {
      "text/plain": [
       "'=======Hello========'"
      ]
     },
     "execution_count": 15,
     "metadata": {},
     "output_type": "execute_result"
    }
   ],
   "source": [
    "'Hello'.center(20, '=')"
   ]
  },
  {
   "cell_type": "code",
   "execution_count": 16,
   "id": "numeric-alert",
   "metadata": {
    "ExecuteTime": {
     "end_time": "2021-04-14T15:01:37.583637Z",
     "start_time": "2021-04-14T15:01:37.507594Z"
    }
   },
   "outputs": [
    {
     "name": "stdout",
     "output_type": "stream",
     "text": [
      "Phone number found: 415-555-4242\n"
     ]
    }
   ],
   "source": [
    "import re\n",
    "phone_num_regex = re.compile(r'\\d\\d\\d-\\d\\d\\d-\\d\\d\\d\\d')\n",
    "mo = phone_num_regex.search('My number is 415-555-4242.')\n",
    "print('Phone number found: {}'.format(mo.group()))"
   ]
  },
  {
   "cell_type": "code",
   "execution_count": 6,
   "id": "specified-investment",
   "metadata": {
    "ExecuteTime": {
     "end_time": "2021-04-16T19:34:21.953793Z",
     "start_time": "2021-04-16T19:34:21.944505Z"
    }
   },
   "outputs": [
    {
     "data": {
      "text/plain": [
       "array([[[1, 4],\n",
       "        [2, 5],\n",
       "        [3, 6]]])"
      ]
     },
     "execution_count": 6,
     "metadata": {},
     "output_type": "execute_result"
    }
   ],
   "source": [
    "arr1 = np.array([1, 2, 3])\n",
    "arr2 = np.array([4, 5, 6])\n",
    "arr = np.dstack((arr1, arr2))\n",
    "arr"
   ]
  },
  {
   "cell_type": "code",
   "execution_count": 5,
   "id": "circular-actress",
   "metadata": {
    "ExecuteTime": {
     "end_time": "2021-04-17T07:07:42.172795Z",
     "start_time": "2021-04-17T07:07:42.160710Z"
    }
   },
   "outputs": [
    {
     "name": "stdout",
     "output_type": "stream",
     "text": [
      "1\n",
      "2\n",
      "3\n",
      "4\n",
      "5\n",
      "6\n",
      "7\n",
      "8\n",
      "9\n",
      "10\n",
      "11\n",
      "12\n"
     ]
    }
   ],
   "source": [
    "import numpy as np\n",
    "arr = np.array([[[1, 2, 3], [4, 5, 6]], [[7, 8, 9], [10, 11, 12]]])\n",
    "for x in arr:\n",
    "  for y in x:\n",
    "    print(y)"
   ]
  },
  {
   "cell_type": "code",
   "execution_count": 6,
   "id": "particular-enterprise",
   "metadata": {
    "ExecuteTime": {
     "end_time": "2021-04-17T07:08:18.648134Z",
     "start_time": "2021-04-17T07:08:18.639262Z"
    }
   },
   "outputs": [
    {
     "name": "stdout",
     "output_type": "stream",
     "text": [
      "1\n",
      "2\n",
      "3\n",
      "4\n",
      "5\n",
      "6\n",
      "7\n",
      "8\n"
     ]
    }
   ],
   "source": [
    "arr = np.array([[[1, 2], [3, 4]], [[5, 6], [7, 8]]])\n",
    "\n",
    "for x in np.nditer(arr):\n",
    "    print(x)"
   ]
  },
  {
   "cell_type": "code",
   "execution_count": 9,
   "id": "indoor-somalia",
   "metadata": {
    "ExecuteTime": {
     "end_time": "2021-04-25T08:35:21.212568Z",
     "start_time": "2021-04-25T08:35:21.205198Z"
    }
   },
   "outputs": [
    {
     "name": "stdout",
     "output_type": "stream",
     "text": [
      "[9, 99, 999, 9999]\n",
      "11106\n"
     ]
    }
   ],
   "source": [
    "a=9\n",
    "r=5\n",
    "count=[]\n",
    "for i in range(1,r):\n",
    "    count.append(int('%s'%a*i))\n",
    "print(count)\n",
    "print(sum(count))"
   ]
  },
  {
   "cell_type": "code",
   "execution_count": 23,
   "id": "saved-tumor",
   "metadata": {
    "ExecuteTime": {
     "end_time": "2021-04-23T12:50:44.722677Z",
     "start_time": "2021-04-23T12:50:44.717275Z"
    }
   },
   "outputs": [
    {
     "name": "stdout",
     "output_type": "stream",
     "text": [
      "My name is Zara and weight is 21 kg!\n"
     ]
    }
   ],
   "source": [
    "print (\"My name is %s and weight is %d kg!\" % ('Zara', 21))"
   ]
  },
  {
   "cell_type": "code",
   "execution_count": 26,
   "id": "polish-uncertainty",
   "metadata": {
    "ExecuteTime": {
     "end_time": "2021-04-23T12:57:58.647855Z",
     "start_time": "2021-04-23T12:57:58.641624Z"
    }
   },
   "outputs": [
    {
     "name": "stdout",
     "output_type": "stream",
     "text": [
      "3.8.3\n"
     ]
    }
   ],
   "source": [
    "from platform import python_version\n",
    "\n",
    "print(python_version())"
   ]
  },
  {
   "cell_type": "code",
   "execution_count": 7,
   "id": "global-genre",
   "metadata": {
    "ExecuteTime": {
     "end_time": "2021-04-25T08:34:35.570691Z",
     "start_time": "2021-04-25T08:34:35.565390Z"
    }
   },
   "outputs": [
    {
     "data": {
      "text/plain": [
       "60"
      ]
     },
     "execution_count": 7,
     "metadata": {},
     "output_type": "execute_result"
    }
   ],
   "source": [
    "ls = [10,30,20]\n",
    "sum(ls)"
   ]
  },
  {
   "cell_type": "code",
   "execution_count": 11,
   "id": "breathing-cloud",
   "metadata": {
    "ExecuteTime": {
     "end_time": "2021-04-25T08:41:10.911976Z",
     "start_time": "2021-04-25T08:41:10.907981Z"
    }
   },
   "outputs": [],
   "source": [
    "import numpy as np"
   ]
  },
  {
   "cell_type": "code",
   "execution_count": 16,
   "id": "found-guide",
   "metadata": {
    "ExecuteTime": {
     "end_time": "2021-04-25T08:42:20.157292Z",
     "start_time": "2021-04-25T08:42:20.150953Z"
    }
   },
   "outputs": [
    {
     "data": {
      "text/plain": [
       "array([1, 2, 3])"
      ]
     },
     "execution_count": 16,
     "metadata": {},
     "output_type": "execute_result"
    }
   ],
   "source": [
    "np.array([1,2,3])"
   ]
  },
  {
   "cell_type": "code",
   "execution_count": 18,
   "id": "multiple-virus",
   "metadata": {
    "ExecuteTime": {
     "end_time": "2021-04-25T08:42:54.771660Z",
     "start_time": "2021-04-25T08:42:54.765138Z"
    }
   },
   "outputs": [
    {
     "data": {
      "text/plain": [
       "array([0.  , 0.25, 0.5 , 0.75, 1.  , 1.25, 1.5 , 1.75, 2.  ])"
      ]
     },
     "execution_count": 18,
     "metadata": {},
     "output_type": "execute_result"
    }
   ],
   "source": [
    "np.linspace(0,2,9)"
   ]
  },
  {
   "cell_type": "code",
   "execution_count": 20,
   "id": "atomic-disney",
   "metadata": {
    "ExecuteTime": {
     "end_time": "2021-04-25T08:43:02.018924Z",
     "start_time": "2021-04-25T08:43:02.012623Z"
    }
   },
   "outputs": [
    {
     "data": {
      "text/plain": [
       "array([[0., 0.],\n",
       "       [0., 0.],\n",
       "       [0., 0.]])"
      ]
     },
     "execution_count": 20,
     "metadata": {},
     "output_type": "execute_result"
    }
   ],
   "source": [
    "np.zeros((3,2))"
   ]
  },
  {
   "cell_type": "code",
   "execution_count": 21,
   "id": "interpreted-interaction",
   "metadata": {
    "ExecuteTime": {
     "end_time": "2021-04-25T08:43:22.018691Z",
     "start_time": "2021-04-25T08:43:22.011971Z"
    }
   },
   "outputs": [
    {
     "data": {
      "text/plain": [
       "array([[1., 1., 1., 1.],\n",
       "       [1., 1., 1., 1.],\n",
       "       [1., 1., 1., 1.]])"
      ]
     },
     "execution_count": 21,
     "metadata": {},
     "output_type": "execute_result"
    }
   ],
   "source": [
    "np.ones((3,4))"
   ]
  },
  {
   "cell_type": "code",
   "execution_count": 25,
   "id": "attended-calendar",
   "metadata": {
    "ExecuteTime": {
     "end_time": "2021-04-25T08:44:48.274838Z",
     "start_time": "2021-04-25T08:44:48.269298Z"
    }
   },
   "outputs": [
    {
     "data": {
      "text/plain": [
       "array([[ 2.01051748],\n",
       "       [-1.32324331],\n",
       "       [ 0.85703659],\n",
       "       [ 0.559558  ],\n",
       "       [ 0.62421815]])"
      ]
     },
     "execution_count": 25,
     "metadata": {},
     "output_type": "execute_result"
    }
   ],
   "source": [
    "np.random.randn(5,1)"
   ]
  },
  {
   "cell_type": "code",
   "execution_count": 26,
   "id": "affecting-antique",
   "metadata": {
    "ExecuteTime": {
     "end_time": "2021-04-25T08:47:54.666400Z",
     "start_time": "2021-04-25T08:47:54.659003Z"
    }
   },
   "outputs": [
    {
     "data": {
      "text/plain": [
       "array([[0., 0., 0.],\n",
       "       [0., 0., 0.]])"
      ]
     },
     "execution_count": 26,
     "metadata": {},
     "output_type": "execute_result"
    }
   ],
   "source": [
    "np.empty((2,3))"
   ]
  },
  {
   "cell_type": "code",
   "execution_count": 29,
   "id": "bronze-palestinian",
   "metadata": {
    "ExecuteTime": {
     "end_time": "2021-04-25T18:00:28.993707Z",
     "start_time": "2021-04-25T18:00:28.984987Z"
    }
   },
   "outputs": [
    {
     "name": "stdout",
     "output_type": "stream",
     "text": [
      "Original array\n",
      "[ 1.  0. nan inf]\n",
      "Test element-wise for positive or negative infinity:\n",
      "[False False False  True]\n"
     ]
    }
   ],
   "source": [
    "import numpy as np\n",
    "a = np.array([1, 0, np.nan, np.inf])\n",
    "print(\"Original array\")\n",
    "print(a)\n",
    "print(\"Test element-wise for positive or negative infinity:\")\n",
    "print(np.isinf(a))\n"
   ]
  },
  {
   "cell_type": "code",
   "execution_count": 30,
   "id": "every-webster",
   "metadata": {
    "ExecuteTime": {
     "end_time": "2021-04-25T18:01:25.704045Z",
     "start_time": "2021-04-25T18:01:25.692688Z"
    }
   },
   "outputs": [
    {
     "name": "stdout",
     "output_type": "stream",
     "text": [
      "Original array\n",
      "[1. +1.j 1. +0.j 4.5+0.j 3. +0.j 2. +0.j 0. +2.j]\n",
      "Checking for complex number:\n",
      "[ True False False False False  True]\n",
      "Checking for real number:\n",
      "[False  True  True  True  True False]\n",
      "Checking for scalar type:\n",
      "True\n",
      "False\n"
     ]
    }
   ],
   "source": [
    "import numpy as np\n",
    "a = np.array([1+1j, 1+0j, 4.5, 3, 2, 2j])\n",
    "print(\"Original array\")\n",
    "print(a)\n",
    "print(\"Checking for complex number:\")\n",
    "print(np.iscomplex(a))\n",
    "print(\"Checking for real number:\")\n",
    "print(np.isreal(a))\n",
    "print(\"Checking for scalar type:\")\n",
    "print(np.isscalar(3.1))\n",
    "print(np.isscalar([3.1]))\n"
   ]
  },
  {
   "cell_type": "code",
   "execution_count": 31,
   "id": "compound-pleasure",
   "metadata": {
    "ExecuteTime": {
     "end_time": "2021-04-25T18:02:40.844589Z",
     "start_time": "2021-04-25T18:02:40.831548Z"
    }
   },
   "outputs": [
    {
     "name": "stdout",
     "output_type": "stream",
     "text": [
      "Test if two arrays are element-wise equal within a tolerance:\n",
      "False\n",
      "True\n",
      "False\n",
      "False\n",
      "True\n"
     ]
    }
   ],
   "source": [
    "import numpy as np\n",
    "print(\"Test if two arrays are element-wise equal within a tolerance:\")\n",
    "print(np.allclose([1e10,1e-7], [1.00001e10,1e-8]))\n",
    "print(np.allclose([1e10,1e-8], [1.00001e10,1e-9]))\n",
    "print(np.allclose([1e10,1e-8], [1.0001e10,1e-9]))\n",
    "print(np.allclose([1.0, np.nan], [1.0, np.nan]))\n",
    "print(np.allclose([1.0, np.nan], [1.0, np.nan], equal_nan=True))\n"
   ]
  },
  {
   "cell_type": "code",
   "execution_count": 46,
   "id": "military-hurricane",
   "metadata": {
    "ExecuteTime": {
     "end_time": "2021-04-25T18:14:33.124187Z",
     "start_time": "2021-04-25T18:14:33.114832Z"
    }
   },
   "outputs": [
    {
     "name": "stdout",
     "output_type": "stream",
     "text": [
      "Original array:\n",
      "[[ 1  7 13 15]]\n",
      "Size of the memory occupied by the said array:\n",
      "32 bytes\n"
     ]
    }
   ],
   "source": [
    "import numpy as np\n",
    "X = np.array([(1, 7, 13, 15)])\n",
    "print(\"Original array:\")\n",
    "print(X)\n",
    "print(\"Size of the memory occupied by the said array:\")\n",
    "print(\"%d bytes\" % (X.size * X.itemsize))\n"
   ]
  },
  {
   "cell_type": "code",
   "execution_count": null,
   "id": "elder-detector",
   "metadata": {},
   "outputs": [],
   "source": []
  },
  {
   "cell_type": "code",
   "execution_count": null,
   "id": "overhead-introduction",
   "metadata": {},
   "outputs": [],
   "source": []
  },
  {
   "cell_type": "code",
   "execution_count": null,
   "id": "speaking-uzbekistan",
   "metadata": {},
   "outputs": [],
   "source": []
  }
 ],
 "metadata": {
  "kernelspec": {
   "display_name": "Python 3",
   "language": "python",
   "name": "python3"
  },
  "language_info": {
   "codemirror_mode": {
    "name": "ipython",
    "version": 3
   },
   "file_extension": ".py",
   "mimetype": "text/x-python",
   "name": "python",
   "nbconvert_exporter": "python",
   "pygments_lexer": "ipython3",
   "version": "3.8.3"
  },
  "latex_envs": {
   "LaTeX_envs_menu_present": true,
   "autoclose": false,
   "autocomplete": true,
   "bibliofile": "biblio.bib",
   "cite_by": "apalike",
   "current_citInitial": 1,
   "eqLabelWithNumbers": true,
   "eqNumInitial": 1,
   "hotkeys": {
    "equation": "Ctrl-E",
    "itemize": "Ctrl-I"
   },
   "labels_anchors": false,
   "latex_user_defs": false,
   "report_style_numbering": false,
   "user_envs_cfg": false
  },
  "varInspector": {
   "cols": {
    "lenName": 16,
    "lenType": 16,
    "lenVar": 40
   },
   "kernels_config": {
    "python": {
     "delete_cmd_postfix": "",
     "delete_cmd_prefix": "del ",
     "library": "var_list.py",
     "varRefreshCmd": "print(var_dic_list())"
    },
    "r": {
     "delete_cmd_postfix": ") ",
     "delete_cmd_prefix": "rm(",
     "library": "var_list.r",
     "varRefreshCmd": "cat(var_dic_list()) "
    }
   },
   "types_to_exclude": [
    "module",
    "function",
    "builtin_function_or_method",
    "instance",
    "_Feature"
   ],
   "window_display": false
  }
 },
 "nbformat": 4,
 "nbformat_minor": 5
}
