{
 "cells": [
  {
   "cell_type": "code",
   "execution_count": 9,
   "id": "deluxe-wilson",
   "metadata": {
    "ExecuteTime": {
     "end_time": "2021-02-28T18:39:01.129152Z",
     "start_time": "2021-02-28T18:39:01.124372Z"
    }
   },
   "outputs": [
    {
     "name": "stdout",
     "output_type": "stream",
     "text": [
      "Twinkle, twinkle, little star, \n",
      "\tHow I wonder what you are! \n",
      "\tUp above the world so high, \n",
      "\tLike a diamond in the sky.\n",
      "Twinkle, twinkle, little star, \n",
      "\tHow I wonder what you are\n"
     ]
    }
   ],
   "source": [
    "String=\"Twinkle, twinkle, little star, \\n\\tHow I wonder what you are! \\n\\tUp above the world so high, \\n\\tLike a diamond in the sky.\\nTwinkle, twinkle, little star, \\n\\tHow I wonder what you are\"\n",
    "print(String)"
   ]
  },
  {
   "cell_type": "code",
   "execution_count": 19,
   "id": "deadly-greenhouse",
   "metadata": {
    "ExecuteTime": {
     "end_time": "2021-02-28T18:42:59.732390Z",
     "start_time": "2021-02-28T18:42:59.725200Z"
    }
   },
   "outputs": [
    {
     "name": "stdout",
     "output_type": "stream",
     "text": [
      "3.8.3 | packaged by conda-forge | (default, Jun  1 2020, 17:43:00) \n",
      "[GCC 7.5.0]\n",
      "sys.version_info(major=3, minor=8, micro=3, releaselevel='final', serial=0)\n"
     ]
    }
   ],
   "source": [
    "import sys\n",
    "print(sys.version)\n",
    "print(sys.version_info)"
   ]
  },
  {
   "cell_type": "code",
   "execution_count": 30,
   "id": "sticky-function",
   "metadata": {
    "ExecuteTime": {
     "end_time": "2021-02-28T18:55:00.618652Z",
     "start_time": "2021-02-28T18:55:00.610692Z"
    }
   },
   "outputs": [
    {
     "name": "stdout",
     "output_type": "stream",
     "text": [
      "2021-03-01 00:25:00.613707\n",
      "2021-03-01 25:00:00\n"
     ]
    }
   ],
   "source": [
    "import datetime \n",
    "ti =datetime.datetime.now()\n",
    "print(ti)\n",
    "print(ti.strftime('%Y-%m-%d %M:%H:%S'))"
   ]
  },
  {
   "cell_type": "code",
   "execution_count": 35,
   "id": "nervous-record",
   "metadata": {
    "ExecuteTime": {
     "end_time": "2021-02-28T18:58:45.329401Z",
     "start_time": "2021-02-28T18:58:45.322373Z"
    }
   },
   "outputs": [
    {
     "name": "stdout",
     "output_type": "stream",
     "text": [
      "Circle area is : 3.8013271108436504\n"
     ]
    }
   ],
   "source": [
    "from math import pi\n",
    "r = 1.1\n",
    "print('Circle area is :' ,pi*r**2)"
   ]
  },
  {
   "cell_type": "code",
   "execution_count": null,
   "id": "modified-grenada",
   "metadata": {},
   "outputs": [],
   "source": []
  },
  {
   "cell_type": "code",
   "execution_count": 38,
   "id": "personalized-gender",
   "metadata": {
    "ExecuteTime": {
     "end_time": "2021-02-28T19:01:13.976565Z",
     "start_time": "2021-02-28T19:01:08.335533Z"
    }
   },
   "outputs": [
    {
     "name": "stdout",
     "output_type": "stream",
     "text": [
      "Enter first name : dfasdas\n",
      "Enter last name : asd\n",
      "Hello asd dfasdas\n"
     ]
    }
   ],
   "source": [
    "firstName = input('Enter first name : ')\n",
    "lastName = input('Enter last name : ')\n",
    "print(f'Hello {lastName} {firstName}')\n"
   ]
  },
  {
   "cell_type": "code",
   "execution_count": null,
   "id": "pharmaceutical-mistress",
   "metadata": {},
   "outputs": [],
   "source": []
  }
 ],
 "metadata": {
  "kernelspec": {
   "display_name": "Python 3",
   "language": "python",
   "name": "python3"
  },
  "language_info": {
   "codemirror_mode": {
    "name": "ipython",
    "version": 3
   },
   "file_extension": ".py",
   "mimetype": "text/x-python",
   "name": "python",
   "nbconvert_exporter": "python",
   "pygments_lexer": "ipython3",
   "version": "3.8.3"
  },
  "latex_envs": {
   "LaTeX_envs_menu_present": true,
   "autoclose": false,
   "autocomplete": true,
   "bibliofile": "biblio.bib",
   "cite_by": "apalike",
   "current_citInitial": 1,
   "eqLabelWithNumbers": true,
   "eqNumInitial": 1,
   "hotkeys": {
    "equation": "Ctrl-E",
    "itemize": "Ctrl-I"
   },
   "labels_anchors": false,
   "latex_user_defs": false,
   "report_style_numbering": false,
   "user_envs_cfg": false
  },
  "varInspector": {
   "cols": {
    "lenName": 16,
    "lenType": 16,
    "lenVar": 40
   },
   "kernels_config": {
    "python": {
     "delete_cmd_postfix": "",
     "delete_cmd_prefix": "del ",
     "library": "var_list.py",
     "varRefreshCmd": "print(var_dic_list())"
    },
    "r": {
     "delete_cmd_postfix": ") ",
     "delete_cmd_prefix": "rm(",
     "library": "var_list.r",
     "varRefreshCmd": "cat(var_dic_list()) "
    }
   },
   "types_to_exclude": [
    "module",
    "function",
    "builtin_function_or_method",
    "instance",
    "_Feature"
   ],
   "window_display": false
  }
 },
 "nbformat": 4,
 "nbformat_minor": 5
}
