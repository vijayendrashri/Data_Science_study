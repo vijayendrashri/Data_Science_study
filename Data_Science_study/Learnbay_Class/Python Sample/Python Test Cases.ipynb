{
 "cells": [
  {
   "cell_type": "code",
   "execution_count": 2,
   "id": "coupled-convergence",
   "metadata": {
    "ExecuteTime": {
     "end_time": "2021-04-22T14:05:15.116115Z",
     "start_time": "2021-04-22T14:05:15.110075Z"
    }
   },
   "outputs": [
    {
     "name": "stdout",
     "output_type": "stream",
     "text": [
      "[['y', 't'], 'y', 't', 'h', 'o', 'n']\n"
     ]
    }
   ],
   "source": [
    "str1=\"python\"\n",
    "list1=list(str1)\n",
    "list1[0]=list1[1:3]\n",
    "print (list1)"
   ]
  },
  {
   "cell_type": "code",
   "execution_count": 5,
   "id": "fantastic-buffer",
   "metadata": {
    "ExecuteTime": {
     "end_time": "2021-04-22T14:06:08.216758Z",
     "start_time": "2021-04-22T14:06:08.210765Z"
    }
   },
   "outputs": [
    {
     "name": "stdout",
     "output_type": "stream",
     "text": [
      "[3, 2, 1]\n"
     ]
    }
   ],
   "source": [
    "list1= [[9, 8, 7], [6, 5, 4], [3, 2, 1]]\n",
    "print (list1[2])\n"
   ]
  },
  {
   "cell_type": "code",
   "execution_count": 7,
   "id": "democratic-gauge",
   "metadata": {
    "ExecuteTime": {
     "end_time": "2021-04-22T14:06:44.144738Z",
     "start_time": "2021-04-22T14:06:44.138607Z"
    }
   },
   "outputs": [
    {
     "name": "stdout",
     "output_type": "stream",
     "text": [
      "2\n"
     ]
    }
   ],
   "source": [
    "print(\"abcdf\".find('cd'))"
   ]
  },
  {
   "cell_type": "code",
   "execution_count": 11,
   "id": "comprehensive-sullivan",
   "metadata": {
    "ExecuteTime": {
     "end_time": "2021-04-22T14:08:26.149971Z",
     "start_time": "2021-04-22T14:08:26.144138Z"
    }
   },
   "outputs": [
    {
     "name": "stdout",
     "output_type": "stream",
     "text": [
      "11\n"
     ]
    }
   ],
   "source": [
    "def foo():\n",
    "    return total + 1\n",
    "total = 10\n",
    "print (foo())"
   ]
  },
  {
   "cell_type": "code",
   "execution_count": 12,
   "id": "packed-pension",
   "metadata": {
    "ExecuteTime": {
     "end_time": "2021-04-22T14:08:56.644248Z",
     "start_time": "2021-04-22T14:08:56.637536Z"
    }
   },
   "outputs": [
    {
     "name": "stdout",
     "output_type": "stream",
     "text": [
      "1\n",
      "2\n"
     ]
    }
   ],
   "source": [
    "def foo():\n",
    " try:\n",
    "  print(1)\n",
    " finally:\n",
    "  print(2)\n",
    "foo()"
   ]
  },
  {
   "cell_type": "code",
   "execution_count": 14,
   "id": "artificial-freight",
   "metadata": {
    "ExecuteTime": {
     "end_time": "2021-04-22T14:10:25.179499Z",
     "start_time": "2021-04-22T14:10:25.173603Z"
    }
   },
   "outputs": [
    {
     "name": "stdout",
     "output_type": "stream",
     "text": [
      "B\n"
     ]
    }
   ],
   "source": [
    "if (10 < 0) and (0 < -10):\n",
    " print(\"A\")\n",
    "elif (10 > 0) or False:\n",
    " print(\"B\")\n",
    "else:\n",
    " print(\"C\")"
   ]
  },
  {
   "cell_type": "code",
   "execution_count": 15,
   "id": "subjective-salvation",
   "metadata": {
    "ExecuteTime": {
     "end_time": "2021-04-22T14:10:33.872089Z",
     "start_time": "2021-04-22T14:10:33.867974Z"
    }
   },
   "outputs": [],
   "source": [
    "import numpy as np"
   ]
  },
  {
   "cell_type": "code",
   "execution_count": 18,
   "id": "nuclear-census",
   "metadata": {
    "ExecuteTime": {
     "end_time": "2021-04-22T14:12:45.524502Z",
     "start_time": "2021-04-22T14:12:45.335324Z"
    }
   },
   "outputs": [
    {
     "name": "stdout",
     "output_type": "stream",
     "text": [
      "1\n"
     ]
    }
   ],
   "source": [
    "import pandas as pd\n",
    "import numpy as np\n",
    "\n",
    "s = pd.Series(np.random.randn(4))\n",
    "\n",
    "print(s.ndim)"
   ]
  },
  {
   "cell_type": "code",
   "execution_count": 72,
   "id": "completed-leeds",
   "metadata": {
    "ExecuteTime": {
     "end_time": "2021-04-22T14:58:39.675035Z",
     "start_time": "2021-04-22T14:58:39.666165Z"
    }
   },
   "outputs": [
    {
     "name": "stdout",
     "output_type": "stream",
     "text": [
      "letters: 10 digits: 3 special: 1\n"
     ]
    }
   ],
   "source": [
    "inp = \"hello world! 123\"\n",
    "alpha = digits = special = 0\n",
    "inp = inp.replace(\" \", \"\")\n",
    "for i in range(len(inp)):\n",
    "    if(inp[i].isalpha()):\n",
    "        alpha = alpha + 1\n",
    "    elif(inp[i].isdigit()):\n",
    "        digits = digits + 1\n",
    "    else:\n",
    "        special = special + 1\n",
    "print(\"letters: {} digits: {} special: {}\".format(alpha,digits,special))"
   ]
  },
  {
   "cell_type": "code",
   "execution_count": 61,
   "id": "unauthorized-california",
   "metadata": {
    "ExecuteTime": {
     "end_time": "2021-04-22T14:46:44.213224Z",
     "start_time": "2021-04-22T14:46:42.483438Z"
    }
   },
   "outputs": [
    {
     "name": "stdout",
     "output_type": "stream",
     "text": [
      "Input an integer : 9\n",
      "11106\n"
     ]
    }
   ],
   "source": [
    "a = int(input(\"Input an integer : \"))\n",
    "n1 = int( \"%s\" % a )\n",
    "n2 = int( \"%s%s\" % (a,a) )\n",
    "n3 = int( \"%s%s%s\" % (a,a,a) )\n",
    "n4 = int( \"%s%s%s%s\" % (a,a,a,a) )\n",
    "print (n1+n2+n3+n4)\n"
   ]
  },
  {
   "cell_type": "code",
   "execution_count": 67,
   "id": "young-stage",
   "metadata": {
    "ExecuteTime": {
     "end_time": "2021-04-22T14:50:13.538813Z",
     "start_time": "2021-04-22T14:50:13.530210Z"
    }
   },
   "outputs": [
    {
     "data": {
      "text/plain": [
       "[1, 9, 25, 49, 81]"
      ]
     },
     "execution_count": 67,
     "metadata": {},
     "output_type": "execute_result"
    }
   ],
   "source": [
    "Input=[ 1,2,3,4,5,6,7,8,9]\n",
    "[i**2 for i in Input if i%2 !=0]\n"
   ]
  },
  {
   "cell_type": "code",
   "execution_count": 69,
   "id": "british-luxury",
   "metadata": {
    "ExecuteTime": {
     "end_time": "2021-04-22T14:51:22.758247Z",
     "start_time": "2021-04-22T14:51:22.750807Z"
    }
   },
   "outputs": [
    {
     "data": {
      "text/plain": [
       "[9, 5, 15]"
      ]
     },
     "execution_count": 69,
     "metadata": {},
     "output_type": "execute_result"
    }
   ],
   "source": [
    "list1 = [2, 9, 5, 64, 15,10]\n",
    "[i for i in list1 if i%2 !=0]"
   ]
  },
  {
   "cell_type": "code",
   "execution_count": null,
   "id": "southern-graham",
   "metadata": {},
   "outputs": [],
   "source": []
  }
 ],
 "metadata": {
  "kernelspec": {
   "display_name": "Python 3",
   "language": "python",
   "name": "python3"
  },
  "language_info": {
   "codemirror_mode": {
    "name": "ipython",
    "version": 3
   },
   "file_extension": ".py",
   "mimetype": "text/x-python",
   "name": "python",
   "nbconvert_exporter": "python",
   "pygments_lexer": "ipython3",
   "version": "3.8.3"
  },
  "latex_envs": {
   "LaTeX_envs_menu_present": true,
   "autoclose": false,
   "autocomplete": true,
   "bibliofile": "biblio.bib",
   "cite_by": "apalike",
   "current_citInitial": 1,
   "eqLabelWithNumbers": true,
   "eqNumInitial": 1,
   "hotkeys": {
    "equation": "Ctrl-E",
    "itemize": "Ctrl-I"
   },
   "labels_anchors": false,
   "latex_user_defs": false,
   "report_style_numbering": false,
   "user_envs_cfg": false
  },
  "varInspector": {
   "cols": {
    "lenName": 16,
    "lenType": 16,
    "lenVar": 40
   },
   "kernels_config": {
    "python": {
     "delete_cmd_postfix": "",
     "delete_cmd_prefix": "del ",
     "library": "var_list.py",
     "varRefreshCmd": "print(var_dic_list())"
    },
    "r": {
     "delete_cmd_postfix": ") ",
     "delete_cmd_prefix": "rm(",
     "library": "var_list.r",
     "varRefreshCmd": "cat(var_dic_list()) "
    }
   },
   "types_to_exclude": [
    "module",
    "function",
    "builtin_function_or_method",
    "instance",
    "_Feature"
   ],
   "window_display": false
  }
 },
 "nbformat": 4,
 "nbformat_minor": 5
}
