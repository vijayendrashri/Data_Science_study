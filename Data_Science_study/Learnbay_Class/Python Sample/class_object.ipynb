{
 "cells": [
  {
   "cell_type": "code",
   "execution_count": 1,
   "metadata": {
    "ExecuteTime": {
     "end_time": "2021-02-13T16:40:32.270706Z",
     "start_time": "2021-02-13T16:40:32.266568Z"
    }
   },
   "outputs": [],
   "source": [
    "class Laptop:\n",
    "\tname = 'My Laptop'\n",
    "\tprocessor = 'Intel Core'\n",
    "\t\n",
    "\t@staticmethod\n",
    "\tdef start():\n",
    "\t\tprint('Laptop is starting..')\n",
    "\t\t\n",
    "\t@staticmethod\n",
    "\tdef restart(self):\n",
    "\t\tprint('Laptop is restarting')\n",
    "\t\t\n",
    "\tdef details(self):\n",
    "\t\tprint('My laptop name is:', self.name)\n",
    "\t\tprint('It has',self.processor,'processor.')"
   ]
  },
  {
   "cell_type": "code",
   "execution_count": 2,
   "metadata": {
    "ExecuteTime": {
     "end_time": "2021-02-13T16:41:23.977777Z",
     "start_time": "2021-02-13T16:41:23.971088Z"
    }
   },
   "outputs": [
    {
     "name": "stdout",
     "output_type": "stream",
     "text": [
      "My laptop name is: Dell Alienware\n",
      "It has Intel Core i7 processor.\n"
     ]
    }
   ],
   "source": [
    "#create object\n",
    "laptop1 = Laptop()\n",
    "laptop1.name = 'Dell Alienware'\n",
    "laptop1.processor = 'Intel Core i7'\n",
    "laptop1.details()"
   ]
  },
  {
   "cell_type": "code",
   "execution_count": null,
   "metadata": {},
   "outputs": [],
   "source": []
  }
 ],
 "metadata": {
  "kernelspec": {
   "display_name": "Python 3",
   "language": "python",
   "name": "python3"
  },
  "language_info": {
   "codemirror_mode": {
    "name": "ipython",
    "version": 3
   },
   "file_extension": ".py",
   "mimetype": "text/x-python",
   "name": "python",
   "nbconvert_exporter": "python",
   "pygments_lexer": "ipython3",
   "version": "3.8.3"
  },
  "latex_envs": {
   "LaTeX_envs_menu_present": true,
   "autoclose": false,
   "autocomplete": true,
   "bibliofile": "biblio.bib",
   "cite_by": "apalike",
   "current_citInitial": 1,
   "eqLabelWithNumbers": true,
   "eqNumInitial": 1,
   "hotkeys": {
    "equation": "Ctrl-E",
    "itemize": "Ctrl-I"
   },
   "labels_anchors": false,
   "latex_user_defs": false,
   "report_style_numbering": false,
   "user_envs_cfg": false
  },
  "varInspector": {
   "cols": {
    "lenName": 16,
    "lenType": 16,
    "lenVar": 40
   },
   "kernels_config": {
    "python": {
     "delete_cmd_postfix": "",
     "delete_cmd_prefix": "del ",
     "library": "var_list.py",
     "varRefreshCmd": "print(var_dic_list())"
    },
    "r": {
     "delete_cmd_postfix": ") ",
     "delete_cmd_prefix": "rm(",
     "library": "var_list.r",
     "varRefreshCmd": "cat(var_dic_list()) "
    }
   },
   "types_to_exclude": [
    "module",
    "function",
    "builtin_function_or_method",
    "instance",
    "_Feature"
   ],
   "window_display": false
  }
 },
 "nbformat": 4,
 "nbformat_minor": 4
}
