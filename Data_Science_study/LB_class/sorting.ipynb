{
 "cells": [
  {
   "cell_type": "code",
   "execution_count": 1,
   "metadata": {
    "ExecuteTime": {
     "end_time": "2021-03-28T09:46:40.468577Z",
     "start_time": "2021-03-28T09:46:40.437324Z"
    }
   },
   "outputs": [
    {
     "name": "stdout",
     "output_type": "stream",
     "text": [
      "Task 1:-\n",
      "\n",
      "Keys are \n",
      "(1, 2) (2, 56) (3, 323) (4, 24) (5, 12) (6, 18) "
     ]
    }
   ],
   "source": [
    "# Function calling\n",
    "def dictionairy():\n",
    "# Declare hash function\t\n",
    "    key_value={}\n",
    "\n",
    "    # Initializing value\n",
    "    key_value[2] = 56\n",
    "    key_value[1] = 2\n",
    "    key_value[5] = 12\n",
    "    key_value[4] = 24\n",
    "    key_value[6] = 18\n",
    "    key_value[3] = 323\n",
    "\n",
    "    print (\"Task 1:-\\n\")\n",
    "    print (\"Keys are \")\n",
    "\n",
    "    # iterkeys() returns an iterator over the\n",
    "    # dictionary’s keys.\n",
    "    for i in sorted (key_value) :\n",
    "        print((i,key_value[i]), end = \" \")\n",
    "\n",
    "def main():\n",
    "    # function calling\n",
    "    dictionairy()\n",
    "\n",
    "# Main function calling\n",
    "if __name__==\"__main__\":\n",
    "    main()\n"
   ]
  },
  {
   "cell_type": "code",
   "execution_count": 2,
   "metadata": {
    "ExecuteTime": {
     "end_time": "2021-03-28T09:46:40.593581Z",
     "start_time": "2021-03-28T09:46:40.468577Z"
    }
   },
   "outputs": [
    {
     "name": "stdout",
     "output_type": "stream",
     "text": [
      "Task 3:-\n",
      "Keys and Values sorted in alphabetical order by the value\n",
      "[(1, 2), (5, 12), (6, 18), (4, 24), (2, 56), (3, 323)]\n"
     ]
    }
   ],
   "source": [
    "# Function calling\n",
    "def dictionairy():\n",
    "\n",
    "    # Declaring hash function\n",
    "    key_value ={}\n",
    "\n",
    "    # Initializing the value\n",
    "    key_value[2] = 56\n",
    "    key_value[1] = 2\n",
    "    key_value[5] = 12\n",
    "    key_value[4] = 24\n",
    "    key_value[6] = 18\n",
    "    key_value[3] = 323\n",
    "\n",
    "\n",
    "    print (\"Task 3:-\\nKeys and Values sorted\",\n",
    "    \"in alphabetical order by the value\")\n",
    "\n",
    "    # Note that it will sort in lexicographical order\n",
    "    # For mathematical way, change it to float\n",
    "    print(sorted(key_value.items(), key = lambda kv:(kv[1], kv[0])))\n",
    "\n",
    "def main():\n",
    "    # function calling\n",
    "    dictionairy()\n",
    "\n",
    "# main function calling\n",
    "if __name__==\"__main__\":\n",
    "    main()\n"
   ]
  },
  {
   "cell_type": "code",
   "execution_count": 3,
   "metadata": {
    "ExecuteTime": {
     "end_time": "2021-03-28T09:46:40.702968Z",
     "start_time": "2021-03-28T09:46:40.593581Z"
    }
   },
   "outputs": [
    {
     "name": "stdout",
     "output_type": "stream",
     "text": [
      "(2, 3)\n",
      "(1, 89)\n",
      "(4, 5)\n",
      "(3, 0)\n"
     ]
    }
   ],
   "source": [
    "d = {2:3, 1:89, 4:5, 3:0}\n",
    "# print(sorted(d.fromkeys(d)))\n",
    "for kv in d.items():\n",
    "    print(kv)"
   ]
  },
  {
   "cell_type": "code",
   "execution_count": 16,
   "metadata": {
    "ExecuteTime": {
     "end_time": "2021-03-28T09:55:06.630171Z",
     "start_time": "2021-03-28T09:55:06.622166Z"
    }
   },
   "outputs": [
    {
     "name": "stdout",
     "output_type": "stream",
     "text": [
      "espresso 72\n",
      "latte 56\n",
      "cappuccino 54\n",
      "americano 48\n",
      "cortado 41\n"
     ]
    }
   ],
   "source": [
    "orders = {\n",
    "    'cappuccino': 54,\n",
    "    'latte': 56,\n",
    "    'espresso': 72,\n",
    "    'americano': 48,\n",
    "    'cortado': 41\n",
    "}\n",
    "\n",
    "sort_orders = sorted(orders.items(), key =  lambda x: x[1], reverse=True)\n",
    "\n",
    "for i in sort_orders:\n",
    "    print(i[0], i[1])\n"
   ]
  },
  {
   "cell_type": "code",
   "execution_count": 25,
   "metadata": {
    "ExecuteTime": {
     "end_time": "2021-03-28T10:00:08.804248Z",
     "start_time": "2021-03-28T10:00:08.788625Z"
    }
   },
   "outputs": [
    {
     "name": "stdout",
     "output_type": "stream",
     "text": [
      "black: #000000\n",
      "green: #008000\n",
      "red: #FF0000\n",
      "white: #FFFFFF\n"
     ]
    }
   ],
   "source": [
    "color_dict = {'red':'#FF0000',\n",
    "          'green':'#008000',\n",
    "          'black':'#000000',\n",
    "          'white':'#FFFFFF'}\n",
    "for key in sorted(color_dict):\n",
    "    print(\"%s: %s\"%(key, color_dict[key]))"
   ]
  },
  {
   "cell_type": "code",
   "execution_count": null,
   "metadata": {},
   "outputs": [],
   "source": []
  }
 ],
 "metadata": {
  "kernelspec": {
   "display_name": "Python 3",
   "language": "python",
   "name": "python3"
  },
  "language_info": {
   "codemirror_mode": {
    "name": "ipython",
    "version": 3
   },
   "file_extension": ".py",
   "mimetype": "text/x-python",
   "name": "python",
   "nbconvert_exporter": "python",
   "pygments_lexer": "ipython3",
   "version": "3.6.5"
  },
  "varInspector": {
   "cols": {
    "lenName": 16,
    "lenType": 16,
    "lenVar": 40
   },
   "kernels_config": {
    "python": {
     "delete_cmd_postfix": "",
     "delete_cmd_prefix": "del ",
     "library": "var_list.py",
     "varRefreshCmd": "print(var_dic_list())"
    },
    "r": {
     "delete_cmd_postfix": ") ",
     "delete_cmd_prefix": "rm(",
     "library": "var_list.r",
     "varRefreshCmd": "cat(var_dic_list()) "
    }
   },
   "types_to_exclude": [
    "module",
    "function",
    "builtin_function_or_method",
    "instance",
    "_Feature"
   ],
   "window_display": false
  }
 },
 "nbformat": 4,
 "nbformat_minor": 2
}
