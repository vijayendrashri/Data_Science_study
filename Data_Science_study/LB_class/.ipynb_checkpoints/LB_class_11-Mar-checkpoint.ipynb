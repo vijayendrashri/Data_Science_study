{
 "cells": [
  {
   "cell_type": "code",
   "execution_count": 10,
   "metadata": {
    "ExecuteTime": {
     "end_time": "2021-03-11T15:41:54.196352Z",
     "start_time": "2021-03-11T15:41:54.188349Z"
    }
   },
   "outputs": [
    {
     "data": {
      "text/plain": [
       "[10, 12, 14, 16, 18]"
      ]
     },
     "execution_count": 10,
     "metadata": {},
     "output_type": "execute_result"
    }
   ],
   "source": [
    "lst = [10,12,1,3,14,15,16,17,18]\n",
    "out_lst=[]\n",
    "def my_filter(seq):\n",
    "    for i in seq:\n",
    "        if (lambda i:True if i%2==0 else False)(i) :\n",
    "            out_lst.append(i)\n",
    "        else:\n",
    "            continue\n",
    "    return out_lst\n",
    "my_filter(lst)"
   ]
  },
  {
   "cell_type": "code",
   "execution_count": 2,
   "metadata": {
    "ExecuteTime": {
     "end_time": "2021-04-22T11:59:44.342178Z",
     "start_time": "2021-04-22T11:59:44.336023Z"
    }
   },
   "outputs": [
    {
     "name": "stdout",
     "output_type": "stream",
     "text": [
      "[(3, 4), (4, 5), (7, 5), (9, 7), (1, 8)]\n"
     ]
    }
   ],
   "source": [
    "tup = [(9,7),(4,5),(7,5),(3,4),(1,8)]\n",
    "tup.sort()\n",
    "print(tup)"
   ]
  },
  {
   "cell_type": "code",
   "execution_count": 18,
   "metadata": {
    "ExecuteTime": {
     "end_time": "2021-03-12T08:45:59.134559Z",
     "start_time": "2021-03-12T08:45:59.126554Z"
    }
   },
   "outputs": [
    {
     "data": {
      "text/plain": [
       "['Abhishek', 'Anubhav', 'Akhil']"
      ]
     },
     "execution_count": 18,
     "metadata": {},
     "output_type": "execute_result"
    }
   ],
   "source": [
    "# find name with more than 4 char\n",
    "lst = ['hema@gmail.com', 'Abhishek@gmail.com', 'Anubhav@yahoo.com', 'Akhil@rediffmail.com', 'Sita@hotmail.com']\n",
    "lst1=filter(lambda x: x.index('@')>4,lst)\n",
    "list(map(lambda email: email[:email.index(\"@\")],lst1))"
   ]
  },
  {
   "cell_type": "code",
   "execution_count": 57,
   "metadata": {
    "ExecuteTime": {
     "end_time": "2021-03-12T10:25:45.580252Z",
     "start_time": "2021-03-12T10:25:45.549031Z"
    }
   },
   "outputs": [
    {
     "data": {
      "text/plain": [
       "['gmail.com', 'gmail.com', 'yahoo.com', 'rediffmail.com', 'hotmail.com']"
      ]
     },
     "execution_count": 57,
     "metadata": {},
     "output_type": "execute_result"
    }
   ],
   "source": [
    "# Get list of all domain\n",
    "lst2 = map(lambda email: email[email.index(\"@\")+1:],lst)\n",
    "list(lst2)"
   ]
  },
  {
   "cell_type": "code",
   "execution_count": 39,
   "metadata": {
    "ExecuteTime": {
     "end_time": "2021-03-12T09:23:16.429266Z",
     "start_time": "2021-03-12T09:23:16.422260Z"
    }
   },
   "outputs": [
    {
     "data": {
      "text/plain": [
       "['gmail.com', 'yahoo.com', 'rediffmail.com']"
      ]
     },
     "execution_count": 39,
     "metadata": {},
     "output_type": "execute_result"
    }
   ],
   "source": [
    "# Get list of all the domains where username is more than 4 char but return map object.\n",
    "namelist=filter(lambda x: x.index('@')>4,lst)\n",
    "list(map(lambda email: email[email.index(\"@\")+1:],namelist))"
   ]
  },
  {
   "cell_type": "code",
   "execution_count": 58,
   "metadata": {
    "ExecuteTime": {
     "end_time": "2021-03-12T10:25:56.519670Z",
     "start_time": "2021-03-12T10:25:56.504038Z"
    }
   },
   "outputs": [
    {
     "name": "stdout",
     "output_type": "stream",
     "text": [
      "1\n"
     ]
    }
   ],
   "source": [
    "mod = lambda x: x if (x >= 0) else -x\n",
    "print(mod(1))"
   ]
  },
  {
   "cell_type": "code",
   "execution_count": 63,
   "metadata": {
    "ExecuteTime": {
     "end_time": "2021-03-12T11:11:35.750951Z",
     "start_time": "2021-03-12T11:11:35.735322Z"
    }
   },
   "outputs": [
    {
     "name": "stdout",
     "output_type": "stream",
     "text": [
      "3\n"
     ]
    }
   ],
   "source": [
    "# Example of lambda fuction using if-else\n",
    "max = lambda a, b : a if(a > b) else b\n",
    "print(max(3, 2))"
   ]
  },
  {
   "cell_type": "code",
   "execution_count": 64,
   "metadata": {
    "ExecuteTime": {
     "end_time": "2021-03-12T11:11:41.726128Z",
     "start_time": "2021-03-12T11:11:41.710502Z"
    }
   },
   "outputs": [
    {
     "name": "stdout",
     "output_type": "stream",
     "text": [
      "None\n"
     ]
    }
   ],
   "source": [
    "# Lambda function with if-else\n",
    "square = lambda x : x*x if(x > 0) else None\n",
    "print(square(-1))"
   ]
  },
  {
   "cell_type": "code",
   "execution_count": 80,
   "metadata": {
    "ExecuteTime": {
     "end_time": "2021-03-12T11:21:27.636920Z",
     "start_time": "2021-03-12T11:21:27.621291Z"
    }
   },
   "outputs": [
    {
     "name": "stdout",
     "output_type": "stream",
     "text": [
      "[]\n"
     ]
    }
   ],
   "source": [
    "list1 = [1,2,3,4,5,5,4,3,2]\n",
    "li = []\n",
    "lambda x : li.append(x)if (x not in li) else None\n",
    "print(li)"
   ]
  },
  {
   "cell_type": "code",
   "execution_count": null,
   "metadata": {},
   "outputs": [],
   "source": []
  }
 ],
 "metadata": {
  "kernelspec": {
   "display_name": "Python 3",
   "language": "python",
   "name": "python3"
  },
  "language_info": {
   "codemirror_mode": {
    "name": "ipython",
    "version": 3
   },
   "file_extension": ".py",
   "mimetype": "text/x-python",
   "name": "python",
   "nbconvert_exporter": "python",
   "pygments_lexer": "ipython3",
   "version": "3.8.3"
  },
  "latex_envs": {
   "LaTeX_envs_menu_present": true,
   "autoclose": false,
   "autocomplete": true,
   "bibliofile": "biblio.bib",
   "cite_by": "apalike",
   "current_citInitial": 1,
   "eqLabelWithNumbers": true,
   "eqNumInitial": 1,
   "hotkeys": {
    "equation": "Ctrl-E",
    "itemize": "Ctrl-I"
   },
   "labels_anchors": false,
   "latex_user_defs": false,
   "report_style_numbering": false,
   "user_envs_cfg": false
  },
  "varInspector": {
   "cols": {
    "lenName": 16,
    "lenType": 16,
    "lenVar": 40
   },
   "kernels_config": {
    "python": {
     "delete_cmd_postfix": "",
     "delete_cmd_prefix": "del ",
     "library": "var_list.py",
     "varRefreshCmd": "print(var_dic_list())"
    },
    "r": {
     "delete_cmd_postfix": ") ",
     "delete_cmd_prefix": "rm(",
     "library": "var_list.r",
     "varRefreshCmd": "cat(var_dic_list()) "
    }
   },
   "types_to_exclude": [
    "module",
    "function",
    "builtin_function_or_method",
    "instance",
    "_Feature"
   ],
   "window_display": false
  }
 },
 "nbformat": 4,
 "nbformat_minor": 2
}
