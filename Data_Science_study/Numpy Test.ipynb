{
 "cells": [
  {
   "cell_type": "code",
   "execution_count": 1,
   "id": "5bea4e63",
   "metadata": {
    "ExecuteTime": {
     "end_time": "2021-06-15T06:36:52.540865Z",
     "start_time": "2021-06-15T06:36:52.535520Z"
    }
   },
   "outputs": [],
   "source": [
    "import numpy as np"
   ]
  },
  {
   "cell_type": "code",
   "execution_count": 2,
   "id": "e4610d62",
   "metadata": {
    "ExecuteTime": {
     "end_time": "2021-06-11T15:23:21.581758Z",
     "start_time": "2021-06-11T15:23:21.577445Z"
    }
   },
   "outputs": [
    {
     "data": {
      "text/plain": [
       "array(1.)"
      ]
     },
     "execution_count": 2,
     "metadata": {},
     "output_type": "execute_result"
    }
   ],
   "source": [
    "np.ones([])"
   ]
  },
  {
   "cell_type": "code",
   "execution_count": 3,
   "id": "316db534",
   "metadata": {
    "ExecuteTime": {
     "end_time": "2021-06-11T15:23:41.805233Z",
     "start_time": "2021-06-11T15:23:41.800001Z"
    },
    "scrolled": true
   },
   "outputs": [
    {
     "data": {
      "text/plain": [
       "array([1.        , 1.02040816, 1.04081633, 1.06122449, 1.08163265,\n",
       "       1.10204082, 1.12244898, 1.14285714, 1.16326531, 1.18367347,\n",
       "       1.20408163, 1.2244898 , 1.24489796, 1.26530612, 1.28571429,\n",
       "       1.30612245, 1.32653061, 1.34693878, 1.36734694, 1.3877551 ,\n",
       "       1.40816327, 1.42857143, 1.44897959, 1.46938776, 1.48979592,\n",
       "       1.51020408, 1.53061224, 1.55102041, 1.57142857, 1.59183673,\n",
       "       1.6122449 , 1.63265306, 1.65306122, 1.67346939, 1.69387755,\n",
       "       1.71428571, 1.73469388, 1.75510204, 1.7755102 , 1.79591837,\n",
       "       1.81632653, 1.83673469, 1.85714286, 1.87755102, 1.89795918,\n",
       "       1.91836735, 1.93877551, 1.95918367, 1.97959184, 2.        ])"
      ]
     },
     "execution_count": 3,
     "metadata": {},
     "output_type": "execute_result"
    }
   ],
   "source": [
    "np.linspace(1,2)"
   ]
  },
  {
   "cell_type": "code",
   "execution_count": 4,
   "id": "b5f09891",
   "metadata": {
    "ExecuteTime": {
     "end_time": "2021-06-10T05:47:59.060752Z",
     "start_time": "2021-06-10T05:47:59.055873Z"
    }
   },
   "outputs": [],
   "source": [
    "N = 10000000"
   ]
  },
  {
   "cell_type": "code",
   "execution_count": 5,
   "id": "c84f4c8e",
   "metadata": {
    "ExecuteTime": {
     "end_time": "2021-06-10T05:47:59.669565Z",
     "start_time": "2021-06-10T05:47:59.333349Z"
    }
   },
   "outputs": [
    {
     "name": "stdout",
     "output_type": "stream",
     "text": [
      "4999.6967733\n",
      "2887.133116108203\n"
     ]
    }
   ],
   "source": [
    "a = np.random.randint(1,10000,size = N)\n",
    "print(np.mean(a))\n",
    "print(np.std(a))"
   ]
  },
  {
   "cell_type": "code",
   "execution_count": 6,
   "id": "cc020699",
   "metadata": {
    "ExecuteTime": {
     "end_time": "2021-06-10T05:47:59.994634Z",
     "start_time": "2021-06-10T05:47:59.987305Z"
    }
   },
   "outputs": [
    {
     "name": "stdout",
     "output_type": "stream",
     "text": [
      "5095.1\n",
      "3310.835829514958\n"
     ]
    }
   ],
   "source": [
    "a1 = np.random.choice(a,10)\n",
    "print(np.mean(a1))\n",
    "print(np.std(a1))"
   ]
  },
  {
   "cell_type": "code",
   "execution_count": 7,
   "id": "72b23f4b",
   "metadata": {
    "ExecuteTime": {
     "end_time": "2021-06-10T05:48:00.614383Z",
     "start_time": "2021-06-10T05:48:00.605496Z"
    }
   },
   "outputs": [
    {
     "name": "stdout",
     "output_type": "stream",
     "text": [
      "5100.16\n",
      "3048.0286767679863\n"
     ]
    }
   ],
   "source": [
    "a2 = np.random.choice(a,100)\n",
    "print(np.mean(a2))\n",
    "print(np.std(a2))"
   ]
  },
  {
   "cell_type": "code",
   "execution_count": 8,
   "id": "be26a089",
   "metadata": {
    "ExecuteTime": {
     "end_time": "2021-06-10T05:48:01.316099Z",
     "start_time": "2021-06-10T05:48:01.307337Z"
    }
   },
   "outputs": [
    {
     "name": "stdout",
     "output_type": "stream",
     "text": [
      "4933.349\n",
      "2913.182476811056\n"
     ]
    }
   ],
   "source": [
    "a3 = np.random.choice(a,1000)\n",
    "print(np.mean(a3))\n",
    "print(np.std(a3))"
   ]
  },
  {
   "cell_type": "code",
   "execution_count": 9,
   "id": "c9c73d9b",
   "metadata": {
    "ExecuteTime": {
     "end_time": "2021-06-10T05:48:01.566221Z",
     "start_time": "2021-06-10T05:48:01.555464Z"
    }
   },
   "outputs": [
    {
     "name": "stdout",
     "output_type": "stream",
     "text": [
      "5014.0083\n",
      "2891.854127965501\n"
     ]
    }
   ],
   "source": [
    "a4 = np.random.choice(a,10000)\n",
    "print(np.mean(a4))\n",
    "print(np.std(a4))"
   ]
  },
  {
   "cell_type": "markdown",
   "id": "7bc36094",
   "metadata": {},
   "source": [
    "### Avg. output of Coin"
   ]
  },
  {
   "cell_type": "code",
   "execution_count": 11,
   "id": "a388fd05",
   "metadata": {
    "ExecuteTime": {
     "end_time": "2021-06-15T06:39:42.187302Z",
     "start_time": "2021-06-15T06:39:38.885076Z"
    }
   },
   "outputs": [],
   "source": [
    "import matplotlib.pyplot as plt\n",
    "import seaborn as sns"
   ]
  },
  {
   "cell_type": "code",
   "execution_count": 12,
   "id": "012f8849",
   "metadata": {
    "ExecuteTime": {
     "end_time": "2021-06-15T06:26:31.124311Z",
     "start_time": "2021-06-15T06:26:30.400109Z"
    }
   },
   "outputs": [],
   "source": [
    "results = []\n",
    "for i in  range(1,10000):\n",
    "    object = np.random.randint(0,2,i)\n",
    "    out = np.mean(object)\n",
    "    results.append(out)"
   ]
  },
  {
   "cell_type": "code",
   "execution_count": 13,
   "id": "c0875973",
   "metadata": {
    "ExecuteTime": {
     "end_time": "2021-06-15T06:26:32.140555Z",
     "start_time": "2021-06-15T06:26:31.525400Z"
    }
   },
   "outputs": [
    {
     "data": {
      "text/plain": [
       "[<matplotlib.lines.Line2D at 0x7faad2e309d0>]"
      ]
     },
     "execution_count": 13,
     "metadata": {},
     "output_type": "execute_result"
    },
    {
     "data": {
      "image/png": "[encoded data removed]",
      "text/plain": [
       "<Figure size 432x288 with 1 Axes>"
      ]
     },
     "metadata": {
      "needs_background": "light"
     },
     "output_type": "display_data"
    }
   ],
   "source": [
    "plt.plot(results)"
   ]
  },
  {
   "cell_type": "code",
   "execution_count": 14,
   "id": "8a32edde",
   "metadata": {
    "ExecuteTime": {
     "end_time": "2021-06-15T06:41:28.971460Z",
     "start_time": "2021-06-15T06:41:28.772340Z"
    }
   },
   "outputs": [
    {
     "name": "stderr",
     "output_type": "stream",
     "text": [
      "/home/vijay/anaconda3/lib/python3.8/site-packages/seaborn/_decorators.py:36: FutureWarning: Pass the following variable as a keyword arg: x. From version 0.12, the only valid positional argument will be `data`, and passing other arguments without an explicit keyword will result in an error or misinterpretation.\n",
      "  warnings.warn(\n"
     ]
    },
    {
     "data": {
      "image/png": "[encoded data removed]",
      "text/plain": [
       "<Figure size 432x288 with 1 Axes>"
      ]
     },
     "metadata": {
      "needs_background": "light"
     },
     "output_type": "display_data"
    }
   ],
   "source": [
    "result=[]\n",
    "for i in  range(1,10000):\n",
    "    obj = np.random.randint(0,2)\n",
    "    result.append('Head') if obj==0 else result.append('tail')\n",
    "ax = sns.countplot(result)\n",
    "for p in ax.patches:\n",
    "        ax.annotate('{:}'.format(p.get_height()), (p.get_x()+0.1, p.get_height()))"
   ]
  },
  {
   "cell_type": "code",
   "execution_count": null,
   "id": "72b51c71",
   "metadata": {
    "ExecuteTime": {
     "end_time": "2021-06-15T06:40:06.234214Z",
     "start_time": "2021-06-15T06:40:05.937083Z"
    }
   },
   "outputs": [],
   "source": []
  },
  {
   "cell_type": "code",
   "execution_count": null,
   "id": "6f9d1083",
   "metadata": {},
   "outputs": [],
   "source": []
  }
 ],
 "metadata": {
  "kernelspec": {
   "display_name": "Python 3",
   "language": "python",
   "name": "python3"
  },
  "language_info": {
   "codemirror_mode": {
    "name": "ipython",
    "version": 3
   },
   "file_extension": ".py",
   "mimetype": "text/x-python",
   "name": "python",
   "nbconvert_exporter": "python",
   "pygments_lexer": "ipython3",
   "version": "3.8.8"
  },
  "latex_envs": {
   "LaTeX_envs_menu_present": true,
   "autoclose": false,
   "autocomplete": true,
   "bibliofile": "biblio.bib",
   "cite_by": "apalike",
   "current_citInitial": 1,
   "eqLabelWithNumbers": true,
   "eqNumInitial": 1,
   "hotkeys": {
    "equation": "Ctrl-E",
    "itemize": "Ctrl-I"
   },
   "labels_anchors": false,
   "latex_user_defs": false,
   "report_style_numbering": false,
   "user_envs_cfg": false
  },
  "varInspector": {
   "cols": {
    "lenName": 16,
    "lenType": 16,
    "lenVar": 40
   },
   "kernels_config": {
    "python": {
     "delete_cmd_postfix": "",
     "delete_cmd_prefix": "del ",
     "library": "var_list.py",
     "varRefreshCmd": "print(var_dic_list())"
    },
    "r": {
     "delete_cmd_postfix": ") ",
     "delete_cmd_prefix": "rm(",
     "library": "var_list.r",
     "varRefreshCmd": "cat(var_dic_list()) "
    }
   },
   "types_to_exclude": [
    "module",
    "function",
    "builtin_function_or_method",
    "instance",
    "_Feature"
   ],
   "window_display": false
  }
 },
 "nbformat": 4,
 "nbformat_minor": 5
}
